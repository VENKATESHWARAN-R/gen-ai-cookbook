{
 "cells": [
  {
   "cell_type": "code",
   "execution_count": null,
   "metadata": {},
   "outputs": [
    {
     "name": "stderr",
     "output_type": "stream",
     "text": [
      "USER_AGENT environment variable not set, consider setting it to identify your requests.\n"
     ]
    }
   ],
   "source": [
    "from common.data_store.src.data_pipeline import DataPipeline"
   ]
  },
  {
   "cell_type": "code",
   "execution_count": 6,
   "metadata": {},
   "outputs": [
    {
     "name": "stderr",
     "output_type": "stream",
     "text": [
      "WARNING:data_store.src.loaders.document_processor:AWS credentials not provided. S3 functionality disabled.\n",
      "INFO:sentence_transformers.SentenceTransformer:Use pytorch device_name: mps\n",
      "INFO:sentence_transformers.SentenceTransformer:Load pretrained SentenceTransformer: sentence-transformers/all-mpnet-base-v2\n",
      "INFO:data_store.src.embeddings.embedding_service:Loaded Sentence Transformer model: sentence-transformers/all-mpnet-base-v2\n",
      "INFO:data_store.src.embeddings.embedding_service:Embedding dimension: 768\n",
      "INFO:data_store.src.vectorstore.chroma_store:Initializing ChromaDB client at path: ./data_layer_db\n",
      "INFO:data_store.src.vectorstore.chroma_store:Getting or creating ChromaDB collection: my_documents\n",
      "INFO:data_store.src.vectorstore.chroma_store:Collection 'my_documents' ready.\n",
      "INFO:data_store.src.contextualizer.llm_service:Local LLM Contextualizer configured for URL: http://localhost:8000/api/llm/generate_response\n",
      "INFO:data_store.src.core.data_pipeline:Data Pipeline initialized.\n"
     ]
    }
   ],
   "source": [
    "pipeline = DataPipeline()"
   ]
  },
  {
   "cell_type": "code",
   "execution_count": 7,
   "metadata": {},
   "outputs": [
    {
     "name": "stdout",
     "output_type": "stream",
     "text": [
      "Current vector store count: 94\n"
     ]
    }
   ],
   "source": [
    "print(f\"Current vector store count: {pipeline.get_vector_store_count()}\")"
   ]
  },
  {
   "cell_type": "code",
   "execution_count": 8,
   "metadata": {},
   "outputs": [
    {
     "name": "stderr",
     "output_type": "stream",
     "text": [
      "WARNING:data_store.src.vectorstore.chroma_store:Attempting to clear all items from collection: my_documents\n",
      "INFO:data_store.src.vectorstore.chroma_store:Cleared 94 items from collection 'my_documents'.\n"
     ]
    }
   ],
   "source": [
    "pipeline.clear_vector_store()"
   ]
  },
  {
   "cell_type": "code",
   "execution_count": 9,
   "metadata": {},
   "outputs": [
    {
     "name": "stderr",
     "output_type": "stream",
     "text": [
      "INFO:data_store.src.core.data_pipeline:Starting processing for source: ./data/ (type: directory, contextualize: True)\n",
      "INFO:data_store.src.loaders.document_processor:Scanning directory: ./data/ (recursive=True)\n",
      "INFO:data_store.src.loaders.document_processor:Processing file: ./data/machine_learning.md using UnstructuredMarkdownLoader\n",
      "INFO:data_store.src.loaders.document_processor:Processing file: ./data/superhero.md using UnstructuredMarkdownLoader\n",
      "INFO:data_store.src.loaders.document_processor:Processing file: ./data/quantum_physics.md using UnstructuredMarkdownLoader\n",
      "INFO:data_store.src.loaders.document_processor:Processing file: ./data/quantum_computing.md using UnstructuredMarkdownLoader\n",
      "INFO:data_store.src.loaders.document_processor:Loaded 4 documents initially.\n",
      "INFO:data_store.src.core.data_pipeline:Loaded 4 documents from source.\n",
      "INFO:data_store.src.loaders.document_processor:Splitting 4 documents into chunks (size=512, overlap=50)...\n",
      "INFO:data_store.src.loaders.document_processor:Created 94 chunks.\n",
      "INFO:data_store.src.contextualizer.llm_service:Starting contextualization for 94 chunks using 4 workers...\n",
      "Contextualizing Chunks:   0%|          | 0/94 [00:00<?, ?it/s]ERROR:data_store.src.contextualizer.llm_service:Error calling local LLM at http://localhost:8000/api/llm/generate_response: HTTPConnectionPool(host='localhost', port=8000): Read timed out. (read timeout=60)\n",
      "Contextualizing Chunks:   1%|          | 1/94 [01:00<1:33:02, 60.02s/it]ERROR:data_store.src.contextualizer.llm_service:Error calling local LLM at http://localhost:8000/api/llm/generate_response: HTTPConnectionPool(host='localhost', port=8000): Read timed out. (read timeout=60)\n",
      "ERROR:data_store.src.contextualizer.llm_service:Error calling local LLM at http://localhost:8000/api/llm/generate_response: HTTPConnectionPool(host='localhost', port=8000): Read timed out. (read timeout=60)\n",
      "ERROR:data_store.src.contextualizer.llm_service:Error calling local LLM at http://localhost:8000/api/llm/generate_response: HTTPConnectionPool(host='localhost', port=8000): Read timed out. (read timeout=60)\n",
      "ERROR:data_store.src.contextualizer.llm_service:Error calling local LLM at http://localhost:8000/api/llm/generate_response: 500 Server Error: Internal Server Error for url: http://localhost:8000/api/llm/generate_response\n",
      "ERROR:data_store.src.contextualizer.llm_service:Error calling local LLM at http://localhost:8000/api/llm/generate_response: 500 Server Error: Internal Server Error for url: http://localhost:8000/api/llm/generate_response\n",
      "Contextualizing Chunks:   5%|▌         | 5/94 [01:33<23:51, 16.08s/it]  ERROR:data_store.src.contextualizer.llm_service:Error calling local LLM at http://localhost:8000/api/llm/generate_response: 500 Server Error: Internal Server Error for url: http://localhost:8000/api/llm/generate_response\n",
      "ERROR:data_store.src.contextualizer.llm_service:Error calling local LLM at http://localhost:8000/api/llm/generate_response: 500 Server Error: Internal Server Error for url: http://localhost:8000/api/llm/generate_response\n",
      "ERROR:data_store.src.contextualizer.llm_service:Error calling local LLM at http://localhost:8000/api/llm/generate_response: HTTPConnectionPool(host='localhost', port=8000): Max retries exceeded with url: /api/llm/generate_response (Caused by NewConnectionError('<urllib3.connection.HTTPConnection object at 0x30cabf8c0>: Failed to establish a new connection: [Errno 61] Connection refused'))\n",
      "ERROR:data_store.src.contextualizer.llm_service:Error calling local LLM at http://localhost:8000/api/llm/generate_response: HTTPConnectionPool(host='localhost', port=8000): Max retries exceeded with url: /api/llm/generate_response (Caused by NewConnectionError('<urllib3.connection.HTTPConnection object at 0x30cabc2c0>: Failed to establish a new connection: [Errno 61] Connection refused'))\n",
      "ERROR:data_store.src.contextualizer.llm_service:Error calling local LLM at http://localhost:8000/api/llm/generate_response: HTTPConnectionPool(host='localhost', port=8000): Max retries exceeded with url: /api/llm/generate_response (Caused by NewConnectionError('<urllib3.connection.HTTPConnection object at 0x30cabfa70>: Failed to establish a new connection: [Errno 61] Connection refused'))\n",
      "ERROR:data_store.src.contextualizer.llm_service:Error calling local LLM at http://localhost:8000/api/llm/generate_response: HTTPConnectionPool(host='localhost', port=8000): Max retries exceeded with url: /api/llm/generate_response (Caused by NewConnectionError('<urllib3.connection.HTTPConnection object at 0x309d24110>: Failed to establish a new connection: [Errno 61] Connection refused'))\n",
      "ERROR:data_store.src.contextualizer.llm_service:Error calling local LLM at http://localhost:8000/api/llm/generate_response: HTTPConnectionPool(host='localhost', port=8000): Max retries exceeded with url: /api/llm/generate_response (Caused by NewConnectionError('<urllib3.connection.HTTPConnection object at 0x30cabf7a0>: Failed to establish a new connection: [Errno 61] Connection refused'))\n",
      "ERROR:data_store.src.contextualizer.llm_service:Error calling local LLM at http://localhost:8000/api/llm/generate_response: HTTPConnectionPool(host='localhost', port=8000): Max retries exceeded with url: /api/llm/generate_response (Caused by NewConnectionError('<urllib3.connection.HTTPConnection object at 0x30cabc0e0>: Failed to establish a new connection: [Errno 61] Connection refused'))\n",
      "ERROR:data_store.src.contextualizer.llm_service:Error calling local LLM at http://localhost:8000/api/llm/generate_response: HTTPConnectionPool(host='localhost', port=8000): Max retries exceeded with url: /api/llm/generate_response (Caused by NewConnectionError('<urllib3.connection.HTTPConnection object at 0x3095e57f0>: Failed to establish a new connection: [Errno 61] Connection refused'))\n",
      "Contextualizing Chunks:  15%|█▍        | 14/94 [01:33<05:45,  4.31s/it]ERROR:data_store.src.contextualizer.llm_service:Error calling local LLM at http://localhost:8000/api/llm/generate_response: HTTPConnectionPool(host='localhost', port=8000): Max retries exceeded with url: /api/llm/generate_response (Caused by NewConnectionError('<urllib3.connection.HTTPConnection object at 0x30cabd520>: Failed to establish a new connection: [Errno 61] Connection refused'))\n",
      "ERROR:data_store.src.contextualizer.llm_service:Error calling local LLM at http://localhost:8000/api/llm/generate_response: HTTPConnectionPool(host='localhost', port=8000): Max retries exceeded with url: /api/llm/generate_response (Caused by NewConnectionError('<urllib3.connection.HTTPConnection object at 0x309d1bec0>: Failed to establish a new connection: [Errno 61] Connection refused'))\n",
      "ERROR:data_store.src.contextualizer.llm_service:Error calling local LLM at http://localhost:8000/api/llm/generate_response: HTTPConnectionPool(host='localhost', port=8000): Max retries exceeded with url: /api/llm/generate_response (Caused by NewConnectionError('<urllib3.connection.HTTPConnection object at 0x30cabd940>: Failed to establish a new connection: [Errno 61] Connection refused'))\n",
      "ERROR:data_store.src.contextualizer.llm_service:Error calling local LLM at http://localhost:8000/api/llm/generate_response: HTTPConnectionPool(host='localhost', port=8000): Max retries exceeded with url: /api/llm/generate_response (Caused by NewConnectionError('<urllib3.connection.HTTPConnection object at 0x3095e6150>: Failed to establish a new connection: [Errno 61] Connection refused'))\n",
      "ERROR:data_store.src.contextualizer.llm_service:Error calling local LLM at http://localhost:8000/api/llm/generate_response: HTTPConnectionPool(host='localhost', port=8000): Max retries exceeded with url: /api/llm/generate_response (Caused by NewConnectionError('<urllib3.connection.HTTPConnection object at 0x3095e7ef0>: Failed to establish a new connection: [Errno 61] Connection refused'))\n",
      "ERROR:data_store.src.contextualizer.llm_service:Error calling local LLM at http://localhost:8000/api/llm/generate_response: HTTPConnectionPool(host='localhost', port=8000): Max retries exceeded with url: /api/llm/generate_response (Caused by NewConnectionError('<urllib3.connection.HTTPConnection object at 0x30cabfb30>: Failed to establish a new connection: [Errno 61] Connection refused'))\n",
      "ERROR:data_store.src.contextualizer.llm_service:Error calling local LLM at http://localhost:8000/api/llm/generate_response: HTTPConnectionPool(host='localhost', port=8000): Max retries exceeded with url: /api/llm/generate_response (Caused by NewConnectionError('<urllib3.connection.HTTPConnection object at 0x309d300b0>: Failed to establish a new connection: [Errno 61] Connection refused'))\n",
      "ERROR:data_store.src.contextualizer.llm_service:Error calling local LLM at http://localhost:8000/api/llm/generate_response: HTTPConnectionPool(host='localhost', port=8000): Max retries exceeded with url: /api/llm/generate_response (Caused by NewConnectionError('<urllib3.connection.HTTPConnection object at 0x309d24fb0>: Failed to establish a new connection: [Errno 61] Connection refused'))\n",
      "Contextualizing Chunks:  24%|██▍       | 23/94 [01:34<02:31,  2.14s/it]ERROR:data_store.src.contextualizer.llm_service:Error calling local LLM at http://localhost:8000/api/llm/generate_response: HTTPConnectionPool(host='localhost', port=8000): Max retries exceeded with url: /api/llm/generate_response (Caused by NewConnectionError('<urllib3.connection.HTTPConnection object at 0x309dc8080>: Failed to establish a new connection: [Errno 61] Connection refused'))\n",
      "ERROR:data_store.src.contextualizer.llm_service:Error calling local LLM at http://localhost:8000/api/llm/generate_response: HTTPConnectionPool(host='localhost', port=8000): Max retries exceeded with url: /api/llm/generate_response (Caused by NewConnectionError('<urllib3.connection.HTTPConnection object at 0x309dd14c0>: Failed to establish a new connection: [Errno 61] Connection refused'))\n",
      "ERROR:data_store.src.contextualizer.llm_service:Error calling local LLM at http://localhost:8000/api/llm/generate_response: HTTPConnectionPool(host='localhost', port=8000): Max retries exceeded with url: /api/llm/generate_response (Caused by NewConnectionError('<urllib3.connection.HTTPConnection object at 0x3095e5ee0>: Failed to establish a new connection: [Errno 61] Connection refused'))\n",
      "ERROR:data_store.src.contextualizer.llm_service:Error calling local LLM at http://localhost:8000/api/llm/generate_response: HTTPConnectionPool(host='localhost', port=8000): Max retries exceeded with url: /api/llm/generate_response (Caused by NewConnectionError('<urllib3.connection.HTTPConnection object at 0x309d25490>: Failed to establish a new connection: [Errno 61] Connection refused'))\n",
      "ERROR:data_store.src.contextualizer.llm_service:Error calling local LLM at http://localhost:8000/api/llm/generate_response: HTTPConnectionPool(host='localhost', port=8000): Max retries exceeded with url: /api/llm/generate_response (Caused by NewConnectionError('<urllib3.connection.HTTPConnection object at 0x30cabd940>: Failed to establish a new connection: [Errno 61] Connection refused'))\n",
      "ERROR:data_store.src.contextualizer.llm_service:Error calling local LLM at http://localhost:8000/api/llm/generate_response: HTTPConnectionPool(host='localhost', port=8000): Max retries exceeded with url: /api/llm/generate_response (Caused by NewConnectionError('<urllib3.connection.HTTPConnection object at 0x309bfd910>: Failed to establish a new connection: [Errno 61] Connection refused'))\n",
      "ERROR:data_store.src.contextualizer.llm_service:Error calling local LLM at http://localhost:8000/api/llm/generate_response: HTTPConnectionPool(host='localhost', port=8000): Max retries exceeded with url: /api/llm/generate_response (Caused by NewConnectionError('<urllib3.connection.HTTPConnection object at 0x309d60ec0>: Failed to establish a new connection: [Errno 61] Connection refused'))\n",
      "ERROR:data_store.src.contextualizer.llm_service:Error calling local LLM at http://localhost:8000/api/llm/generate_response: HTTPConnectionPool(host='localhost', port=8000): Max retries exceeded with url: /api/llm/generate_response (Caused by NewConnectionError('<urllib3.connection.HTTPConnection object at 0x309d27800>: Failed to establish a new connection: [Errno 61] Connection refused'))\n",
      "ERROR:data_store.src.contextualizer.llm_service:Error calling local LLM at http://localhost:8000/api/llm/generate_response: HTTPConnectionPool(host='localhost', port=8000): Max retries exceeded with url: /api/llm/generate_response (Caused by NewConnectionError('<urllib3.connection.HTTPConnection object at 0x3095e5d90>: Failed to establish a new connection: [Errno 61] Connection refused'))\n",
      "ERROR:data_store.src.contextualizer.llm_service:Error calling local LLM at http://localhost:8000/api/llm/generate_response: HTTPConnectionPool(host='localhost', port=8000): Max retries exceeded with url: /api/llm/generate_response (Caused by NewConnectionError('<urllib3.connection.HTTPConnection object at 0x3095e50d0>: Failed to establish a new connection: [Errno 61] Connection refused'))\n",
      "ERROR:data_store.src.contextualizer.llm_service:Error calling local LLM at http://localhost:8000/api/llm/generate_response: HTTPConnectionPool(host='localhost', port=8000): Max retries exceeded with url: /api/llm/generate_response (Caused by NewConnectionError('<urllib3.connection.HTTPConnection object at 0x309d19640>: Failed to establish a new connection: [Errno 61] Connection refused'))\n",
      "ERROR:data_store.src.contextualizer.llm_service:Error calling local LLM at http://localhost:8000/api/llm/generate_response: HTTPConnectionPool(host='localhost', port=8000): Max retries exceeded with url: /api/llm/generate_response (Caused by NewConnectionError('<urllib3.connection.HTTPConnection object at 0x309d1b710>: Failed to establish a new connection: [Errno 61] Connection refused'))\n",
      "ERROR:data_store.src.contextualizer.llm_service:Error calling local LLM at http://localhost:8000/api/llm/generate_response: HTTPConnectionPool(host='localhost', port=8000): Max retries exceeded with url: /api/llm/generate_response (Caused by NewConnectionError('<urllib3.connection.HTTPConnection object at 0x309b62f30>: Failed to establish a new connection: [Errno 61] Connection refused'))\n",
      "ERROR:data_store.src.contextualizer.llm_service:Error calling local LLM at http://localhost:8000/api/llm/generate_response: HTTPConnectionPool(host='localhost', port=8000): Max retries exceeded with url: /api/llm/generate_response (Caused by NewConnectionError('<urllib3.connection.HTTPConnection object at 0x309b62d50>: Failed to establish a new connection: [Errno 61] Connection refused'))\n",
      "ERROR:data_store.src.contextualizer.llm_service:Error calling local LLM at http://localhost:8000/api/llm/generate_response: HTTPConnectionPool(host='localhost', port=8000): Max retries exceeded with url: /api/llm/generate_response (Caused by NewConnectionError('<urllib3.connection.HTTPConnection object at 0x3095e62a0>: Failed to establish a new connection: [Errno 61] Connection refused'))\n",
      "ERROR:data_store.src.contextualizer.llm_service:Error calling local LLM at http://localhost:8000/api/llm/generate_response: HTTPConnectionPool(host='localhost', port=8000): Max retries exceeded with url: /api/llm/generate_response (Caused by NewConnectionError('<urllib3.connection.HTTPConnection object at 0x309d32090>: Failed to establish a new connection: [Errno 61] Connection refused'))\n",
      "ERROR:data_store.src.contextualizer.llm_service:Error calling local LLM at http://localhost:8000/api/llm/generate_response: HTTPConnectionPool(host='localhost', port=8000): Max retries exceeded with url: /api/llm/generate_response (Caused by NewConnectionError('<urllib3.connection.HTTPConnection object at 0x309b60680>: Failed to establish a new connection: [Errno 61] Connection refused'))\n",
      "ERROR:data_store.src.contextualizer.llm_service:Error calling local LLM at http://localhost:8000/api/llm/generate_response: HTTPConnectionPool(host='localhost', port=8000): Max retries exceeded with url: /api/llm/generate_response (Caused by NewConnectionError('<urllib3.connection.HTTPConnection object at 0x309b61520>: Failed to establish a new connection: [Errno 61] Connection refused'))\n",
      "ERROR:data_store.src.contextualizer.llm_service:Error calling local LLM at http://localhost:8000/api/llm/generate_response: HTTPConnectionPool(host='localhost', port=8000): Max retries exceeded with url: /api/llm/generate_response (Caused by NewConnectionError('<urllib3.connection.HTTPConnection object at 0x309b638c0>: Failed to establish a new connection: [Errno 61] Connection refused'))\n",
      "ERROR:data_store.src.contextualizer.llm_service:Error calling local LLM at http://localhost:8000/api/llm/generate_response: HTTPConnectionPool(host='localhost', port=8000): Max retries exceeded with url: /api/llm/generate_response (Caused by NewConnectionError('<urllib3.connection.HTTPConnection object at 0x30cabcaa0>: Failed to establish a new connection: [Errno 61] Connection refused'))\n",
      "ERROR:data_store.src.contextualizer.llm_service:Error calling local LLM at http://localhost:8000/api/llm/generate_response: HTTPConnectionPool(host='localhost', port=8000): Max retries exceeded with url: /api/llm/generate_response (Caused by NewConnectionError('<urllib3.connection.HTTPConnection object at 0x3095e50d0>: Failed to establish a new connection: [Errno 61] Connection refused'))\n",
      "Contextualizing Chunks:  47%|████▋     | 44/94 [01:34<00:39,  1.26it/s]ERROR:data_store.src.contextualizer.llm_service:Error calling local LLM at http://localhost:8000/api/llm/generate_response: HTTPConnectionPool(host='localhost', port=8000): Max retries exceeded with url: /api/llm/generate_response (Caused by NewConnectionError('<urllib3.connection.HTTPConnection object at 0x309b607a0>: Failed to establish a new connection: [Errno 61] Connection refused'))\n",
      "ERROR:data_store.src.contextualizer.llm_service:Error calling local LLM at http://localhost:8000/api/llm/generate_response: HTTPConnectionPool(host='localhost', port=8000): Max retries exceeded with url: /api/llm/generate_response (Caused by NewConnectionError('<urllib3.connection.HTTPConnection object at 0x309b63a40>: Failed to establish a new connection: [Errno 61] Connection refused'))\n",
      "ERROR:data_store.src.contextualizer.llm_service:Error calling local LLM at http://localhost:8000/api/llm/generate_response: HTTPConnectionPool(host='localhost', port=8000): Max retries exceeded with url: /api/llm/generate_response (Caused by NewConnectionError('<urllib3.connection.HTTPConnection object at 0x309b62390>: Failed to establish a new connection: [Errno 61] Connection refused'))\n",
      "ERROR:data_store.src.contextualizer.llm_service:Error calling local LLM at http://localhost:8000/api/llm/generate_response: HTTPConnectionPool(host='localhost', port=8000): Max retries exceeded with url: /api/llm/generate_response (Caused by NewConnectionError('<urllib3.connection.HTTPConnection object at 0x30e94ff20>: Failed to establish a new connection: [Errno 61] Connection refused'))\n",
      "ERROR:data_store.src.contextualizer.llm_service:Error calling local LLM at http://localhost:8000/api/llm/generate_response: HTTPConnectionPool(host='localhost', port=8000): Max retries exceeded with url: /api/llm/generate_response (Caused by NewConnectionError('<urllib3.connection.HTTPConnection object at 0x309d59a90>: Failed to establish a new connection: [Errno 61] Connection refused'))\n",
      "ERROR:data_store.src.contextualizer.llm_service:Error calling local LLM at http://localhost:8000/api/llm/generate_response: HTTPConnectionPool(host='localhost', port=8000): Max retries exceeded with url: /api/llm/generate_response (Caused by NewConnectionError('<urllib3.connection.HTTPConnection object at 0x309b62ae0>: Failed to establish a new connection: [Errno 61] Connection refused'))\n",
      "ERROR:data_store.src.contextualizer.llm_service:Error calling local LLM at http://localhost:8000/api/llm/generate_response: HTTPConnectionPool(host='localhost', port=8000): Max retries exceeded with url: /api/llm/generate_response (Caused by NewConnectionError('<urllib3.connection.HTTPConnection object at 0x30e94f200>: Failed to establish a new connection: [Errno 61] Connection refused'))\n",
      "ERROR:data_store.src.contextualizer.llm_service:Error calling local LLM at http://localhost:8000/api/llm/generate_response: HTTPConnectionPool(host='localhost', port=8000): Max retries exceeded with url: /api/llm/generate_response (Caused by NewConnectionError('<urllib3.connection.HTTPConnection object at 0x30e94f050>: Failed to establish a new connection: [Errno 61] Connection refused'))\n",
      "ERROR:data_store.src.contextualizer.llm_service:Error calling local LLM at http://localhost:8000/api/llm/generate_response: HTTPConnectionPool(host='localhost', port=8000): Max retries exceeded with url: /api/llm/generate_response (Caused by NewConnectionError('<urllib3.connection.HTTPConnection object at 0x309b63a10>: Failed to establish a new connection: [Errno 61] Connection refused'))\n",
      "ERROR:data_store.src.contextualizer.llm_service:Error calling local LLM at http://localhost:8000/api/llm/generate_response: HTTPConnectionPool(host='localhost', port=8000): Max retries exceeded with url: /api/llm/generate_response (Caused by NewConnectionError('<urllib3.connection.HTTPConnection object at 0x309b62db0>: Failed to establish a new connection: [Errno 61] Connection refused'))\n",
      "ERROR:data_store.src.contextualizer.llm_service:Error calling local LLM at http://localhost:8000/api/llm/generate_response: HTTPConnectionPool(host='localhost', port=8000): Max retries exceeded with url: /api/llm/generate_response (Caused by NewConnectionError('<urllib3.connection.HTTPConnection object at 0x309d26630>: Failed to establish a new connection: [Errno 61] Connection refused'))\n",
      "Contextualizing Chunks:  57%|█████▋    | 54/94 [01:34<00:22,  1.78it/s]ERROR:data_store.src.contextualizer.llm_service:Error calling local LLM at http://localhost:8000/api/llm/generate_response: HTTPConnectionPool(host='localhost', port=8000): Max retries exceeded with url: /api/llm/generate_response (Caused by NewConnectionError('<urllib3.connection.HTTPConnection object at 0x30e94e3c0>: Failed to establish a new connection: [Errno 61] Connection refused'))\n",
      "ERROR:data_store.src.contextualizer.llm_service:Error calling local LLM at http://localhost:8000/api/llm/generate_response: HTTPConnectionPool(host='localhost', port=8000): Max retries exceeded with url: /api/llm/generate_response (Caused by NewConnectionError('<urllib3.connection.HTTPConnection object at 0x30e94d5e0>: Failed to establish a new connection: [Errno 61] Connection refused'))\n",
      "ERROR:data_store.src.contextualizer.llm_service:Error calling local LLM at http://localhost:8000/api/llm/generate_response: HTTPConnectionPool(host='localhost', port=8000): Max retries exceeded with url: /api/llm/generate_response (Caused by NewConnectionError('<urllib3.connection.HTTPConnection object at 0x30e94cc20>: Failed to establish a new connection: [Errno 61] Connection refused'))\n",
      "ERROR:data_store.src.contextualizer.llm_service:Error calling local LLM at http://localhost:8000/api/llm/generate_response: HTTPConnectionPool(host='localhost', port=8000): Max retries exceeded with url: /api/llm/generate_response (Caused by NewConnectionError('<urllib3.connection.HTTPConnection object at 0x30e94c0b0>: Failed to establish a new connection: [Errno 61] Connection refused'))\n",
      "ERROR:data_store.src.contextualizer.llm_service:Error calling local LLM at http://localhost:8000/api/llm/generate_response: HTTPConnectionPool(host='localhost', port=8000): Max retries exceeded with url: /api/llm/generate_response (Caused by NewConnectionError('<urllib3.connection.HTTPConnection object at 0x3095e5280>: Failed to establish a new connection: [Errno 61] Connection refused'))\n",
      "ERROR:data_store.src.contextualizer.llm_service:Error calling local LLM at http://localhost:8000/api/llm/generate_response: HTTPConnectionPool(host='localhost', port=8000): Max retries exceeded with url: /api/llm/generate_response (Caused by NewConnectionError('<urllib3.connection.HTTPConnection object at 0x30e94e720>: Failed to establish a new connection: [Errno 61] Connection refused'))\n",
      "ERROR:data_store.src.contextualizer.llm_service:Error calling local LLM at http://localhost:8000/api/llm/generate_response: HTTPConnectionPool(host='localhost', port=8000): Max retries exceeded with url: /api/llm/generate_response (Caused by NewConnectionError('<urllib3.connection.HTTPConnection object at 0x30cabc7a0>: Failed to establish a new connection: [Errno 61] Connection refused'))\n",
      "ERROR:data_store.src.contextualizer.llm_service:Error calling local LLM at http://localhost:8000/api/llm/generate_response: HTTPConnectionPool(host='localhost', port=8000): Max retries exceeded with url: /api/llm/generate_response (Caused by NewConnectionError('<urllib3.connection.HTTPConnection object at 0x30e947800>: Failed to establish a new connection: [Errno 61] Connection refused'))\n",
      "ERROR:data_store.src.contextualizer.llm_service:Error calling local LLM at http://localhost:8000/api/llm/generate_response: HTTPConnectionPool(host='localhost', port=8000): Max retries exceeded with url: /api/llm/generate_response (Caused by NewConnectionError('<urllib3.connection.HTTPConnection object at 0x30e946600>: Failed to establish a new connection: [Errno 61] Connection refused'))\n",
      "ERROR:data_store.src.contextualizer.llm_service:Error calling local LLM at http://localhost:8000/api/llm/generate_response: HTTPConnectionPool(host='localhost', port=8000): Max retries exceeded with url: /api/llm/generate_response (Caused by NewConnectionError('<urllib3.connection.HTTPConnection object at 0x30e9461b0>: Failed to establish a new connection: [Errno 61] Connection refused'))\n",
      "ERROR:data_store.src.contextualizer.llm_service:Error calling local LLM at http://localhost:8000/api/llm/generate_response: HTTPConnectionPool(host='localhost', port=8000): Max retries exceeded with url: /api/llm/generate_response (Caused by NewConnectionError('<urllib3.connection.HTTPConnection object at 0x30e94df40>: Failed to establish a new connection: [Errno 61] Connection refused'))\n",
      "ERROR:data_store.src.contextualizer.llm_service:Error calling local LLM at http://localhost:8000/api/llm/generate_response: HTTPConnectionPool(host='localhost', port=8000): Max retries exceeded with url: /api/llm/generate_response (Caused by NewConnectionError('<urllib3.connection.HTTPConnection object at 0x30e947f50>: Failed to establish a new connection: [Errno 61] Connection refused'))\n",
      "Contextualizing Chunks:  71%|███████▏  | 67/94 [01:34<00:09,  2.74it/s]ERROR:data_store.src.contextualizer.llm_service:Error calling local LLM at http://localhost:8000/api/llm/generate_response: HTTPConnectionPool(host='localhost', port=8000): Max retries exceeded with url: /api/llm/generate_response (Caused by NewConnectionError('<urllib3.connection.HTTPConnection object at 0x30e945670>: Failed to establish a new connection: [Errno 61] Connection refused'))\n",
      "ERROR:data_store.src.contextualizer.llm_service:Error calling local LLM at http://localhost:8000/api/llm/generate_response: HTTPConnectionPool(host='localhost', port=8000): Max retries exceeded with url: /api/llm/generate_response (Caused by NewConnectionError('<urllib3.connection.HTTPConnection object at 0x30e944bf0>: Failed to establish a new connection: [Errno 61] Connection refused'))\n",
      "ERROR:data_store.src.contextualizer.llm_service:Error calling local LLM at http://localhost:8000/api/llm/generate_response: HTTPConnectionPool(host='localhost', port=8000): Max retries exceeded with url: /api/llm/generate_response (Caused by NewConnectionError('<urllib3.connection.HTTPConnection object at 0x30e9440b0>: Failed to establish a new connection: [Errno 61] Connection refused'))\n",
      "ERROR:data_store.src.contextualizer.llm_service:Error calling local LLM at http://localhost:8000/api/llm/generate_response: HTTPConnectionPool(host='localhost', port=8000): Max retries exceeded with url: /api/llm/generate_response (Caused by NewConnectionError('<urllib3.connection.HTTPConnection object at 0x30e94d2e0>: Failed to establish a new connection: [Errno 61] Connection refused'))\n",
      "ERROR:data_store.src.contextualizer.llm_service:Error calling local LLM at http://localhost:8000/api/llm/generate_response: HTTPConnectionPool(host='localhost', port=8000): Max retries exceeded with url: /api/llm/generate_response (Caused by NewConnectionError('<urllib3.connection.HTTPConnection object at 0x306d122d0>: Failed to establish a new connection: [Errno 61] Connection refused'))\n",
      "ERROR:data_store.src.contextualizer.llm_service:Error calling local LLM at http://localhost:8000/api/llm/generate_response: HTTPConnectionPool(host='localhost', port=8000): Max retries exceeded with url: /api/llm/generate_response (Caused by NewConnectionError('<urllib3.connection.HTTPConnection object at 0x30e9431d0>: Failed to establish a new connection: [Errno 61] Connection refused'))\n",
      "ERROR:data_store.src.contextualizer.llm_service:Error calling local LLM at http://localhost:8000/api/llm/generate_response: HTTPConnectionPool(host='localhost', port=8000): Max retries exceeded with url: /api/llm/generate_response (Caused by NewConnectionError('<urllib3.connection.HTTPConnection object at 0x30e942f00>: Failed to establish a new connection: [Errno 61] Connection refused'))\n",
      "ERROR:data_store.src.contextualizer.llm_service:Error calling local LLM at http://localhost:8000/api/llm/generate_response: HTTPConnectionPool(host='localhost', port=8000): Max retries exceeded with url: /api/llm/generate_response (Caused by NewConnectionError('<urllib3.connection.HTTPConnection object at 0x30e942030>: Failed to establish a new connection: [Errno 61] Connection refused'))\n",
      "ERROR:data_store.src.contextualizer.llm_service:Error calling local LLM at http://localhost:8000/api/llm/generate_response: HTTPConnectionPool(host='localhost', port=8000): Max retries exceeded with url: /api/llm/generate_response (Caused by NewConnectionError('<urllib3.connection.HTTPConnection object at 0x3095e57c0>: Failed to establish a new connection: [Errno 61] Connection refused'))\n",
      "ERROR:data_store.src.contextualizer.llm_service:Error calling local LLM at http://localhost:8000/api/llm/generate_response: HTTPConnectionPool(host='localhost', port=8000): Max retries exceeded with url: /api/llm/generate_response (Caused by NewConnectionError('<urllib3.connection.HTTPConnection object at 0x30e94e120>: Failed to establish a new connection: [Errno 61] Connection refused'))\n",
      "ERROR:data_store.src.contextualizer.llm_service:Error calling local LLM at http://localhost:8000/api/llm/generate_response: HTTPConnectionPool(host='localhost', port=8000): Max retries exceeded with url: /api/llm/generate_response (Caused by NewConnectionError('<urllib3.connection.HTTPConnection object at 0x30e947ec0>: Failed to establish a new connection: [Errno 61] Connection refused'))\n",
      "ERROR:data_store.src.contextualizer.llm_service:Error calling local LLM at http://localhost:8000/api/llm/generate_response: HTTPConnectionPool(host='localhost', port=8000): Max retries exceeded with url: /api/llm/generate_response (Caused by NewConnectionError('<urllib3.connection.HTTPConnection object at 0x30e943980>: Failed to establish a new connection: [Errno 61] Connection refused'))\n",
      "ERROR:data_store.src.contextualizer.llm_service:Error calling local LLM at http://localhost:8000/api/llm/generate_response: HTTPConnectionPool(host='localhost', port=8000): Max retries exceeded with url: /api/llm/generate_response (Caused by NewConnectionError('<urllib3.connection.HTTPConnection object at 0x30e9412e0>: Failed to establish a new connection: [Errno 61] Connection refused'))\n",
      "ERROR:data_store.src.contextualizer.llm_service:Error calling local LLM at http://localhost:8000/api/llm/generate_response: HTTPConnectionPool(host='localhost', port=8000): Max retries exceeded with url: /api/llm/generate_response (Caused by NewConnectionError('<urllib3.connection.HTTPConnection object at 0x30e93fd70>: Failed to establish a new connection: [Errno 61] Connection refused'))\n",
      "ERROR:data_store.src.contextualizer.llm_service:Error calling local LLM at http://localhost:8000/api/llm/generate_response: HTTPConnectionPool(host='localhost', port=8000): Max retries exceeded with url: /api/llm/generate_response (Caused by NewConnectionError('<urllib3.connection.HTTPConnection object at 0x309d25b80>: Failed to establish a new connection: [Errno 61] Connection refused'))\n",
      "ERROR:data_store.src.contextualizer.llm_service:Error calling local LLM at http://localhost:8000/api/llm/generate_response: HTTPConnectionPool(host='localhost', port=8000): Max retries exceeded with url: /api/llm/generate_response (Caused by NewConnectionError('<urllib3.connection.HTTPConnection object at 0x3095e5280>: Failed to establish a new connection: [Errno 61] Connection refused'))\n",
      "ERROR:data_store.src.contextualizer.llm_service:Error calling local LLM at http://localhost:8000/api/llm/generate_response: HTTPConnectionPool(host='localhost', port=8000): Max retries exceeded with url: /api/llm/generate_response (Caused by NewConnectionError('<urllib3.connection.HTTPConnection object at 0x30e941d90>: Failed to establish a new connection: [Errno 61] Connection refused'))\n",
      "ERROR:data_store.src.contextualizer.llm_service:Error calling local LLM at http://localhost:8000/api/llm/generate_response: HTTPConnectionPool(host='localhost', port=8000): Max retries exceeded with url: /api/llm/generate_response (Caused by NewConnectionError('<urllib3.connection.HTTPConnection object at 0x30e93f350>: Failed to establish a new connection: [Errno 61] Connection refused'))\n",
      "Contextualizing Chunks:  89%|████████▉ | 84/94 [01:34<00:02,  4.52it/s]ERROR:data_store.src.contextualizer.llm_service:Error calling local LLM at http://localhost:8000/api/llm/generate_response: HTTPConnectionPool(host='localhost', port=8000): Max retries exceeded with url: /api/llm/generate_response (Caused by NewConnectionError('<urllib3.connection.HTTPConnection object at 0x30e93e9f0>: Failed to establish a new connection: [Errno 61] Connection refused'))\n",
      "ERROR:data_store.src.contextualizer.llm_service:Error calling local LLM at http://localhost:8000/api/llm/generate_response: HTTPConnectionPool(host='localhost', port=8000): Max retries exceeded with url: /api/llm/generate_response (Caused by NewConnectionError('<urllib3.connection.HTTPConnection object at 0x30e93e090>: Failed to establish a new connection: [Errno 61] Connection refused'))\n",
      "ERROR:data_store.src.contextualizer.llm_service:Error calling local LLM at http://localhost:8000/api/llm/generate_response: HTTPConnectionPool(host='localhost', port=8000): Max retries exceeded with url: /api/llm/generate_response (Caused by NewConnectionError('<urllib3.connection.HTTPConnection object at 0x30e941af0>: Failed to establish a new connection: [Errno 61] Connection refused'))\n",
      "ERROR:data_store.src.contextualizer.llm_service:Error calling local LLM at http://localhost:8000/api/llm/generate_response: HTTPConnectionPool(host='localhost', port=8000): Max retries exceeded with url: /api/llm/generate_response (Caused by NewConnectionError('<urllib3.connection.HTTPConnection object at 0x30e940050>: Failed to establish a new connection: [Errno 61] Connection refused'))\n",
      "ERROR:data_store.src.contextualizer.llm_service:Error calling local LLM at http://localhost:8000/api/llm/generate_response: HTTPConnectionPool(host='localhost', port=8000): Max retries exceeded with url: /api/llm/generate_response (Caused by NewConnectionError('<urllib3.connection.HTTPConnection object at 0x30e942180>: Failed to establish a new connection: [Errno 61] Connection refused'))\n",
      "ERROR:data_store.src.contextualizer.llm_service:Error calling local LLM at http://localhost:8000/api/llm/generate_response: HTTPConnectionPool(host='localhost', port=8000): Max retries exceeded with url: /api/llm/generate_response (Caused by NewConnectionError('<urllib3.connection.HTTPConnection object at 0x30e942570>: Failed to establish a new connection: [Errno 61] Connection refused'))\n",
      "ERROR:data_store.src.contextualizer.llm_service:Error calling local LLM at http://localhost:8000/api/llm/generate_response: HTTPConnectionPool(host='localhost', port=8000): Max retries exceeded with url: /api/llm/generate_response (Caused by NewConnectionError('<urllib3.connection.HTTPConnection object at 0x30e9471a0>: Failed to establish a new connection: [Errno 61] Connection refused'))\n",
      "ERROR:data_store.src.contextualizer.llm_service:Error calling local LLM at http://localhost:8000/api/llm/generate_response: HTTPConnectionPool(host='localhost', port=8000): Max retries exceeded with url: /api/llm/generate_response (Caused by NewConnectionError('<urllib3.connection.HTTPConnection object at 0x30e943320>: Failed to establish a new connection: [Errno 61] Connection refused'))\n",
      "ERROR:data_store.src.contextualizer.llm_service:Error calling local LLM at http://localhost:8000/api/llm/generate_response: HTTPConnectionPool(host='localhost', port=8000): Max retries exceeded with url: /api/llm/generate_response (Caused by NewConnectionError('<urllib3.connection.HTTPConnection object at 0x30e943740>: Failed to establish a new connection: [Errno 61] Connection refused'))\n",
      "Contextualizing Chunks: 100%|██████████| 94/94 [01:34<00:00,  1.01s/it]\n",
      "INFO:data_store.src.contextualizer.llm_service:Contextualization finished in 94.84 seconds.\n",
      "INFO:data_store.src.contextualizer.llm_service:Successfully processed: 94, Failed to generate/add context for: 94 chunks.\n",
      "INFO:data_store.src.vectorstore.chroma_store:Adding 94 documents to collection 'my_documents'...\n",
      "INFO:data_store.src.embeddings.embedding_service:Generating embeddings for 94 documents...\n"
     ]
    },
    {
     "data": {
      "application/vnd.jupyter.widget-view+json": {
       "model_id": "dfffbbd81ab74c5f8d687436127eb063",
       "version_major": 2,
       "version_minor": 0
      },
      "text/plain": [
       "Batches:   0%|          | 0/3 [00:00<?, ?it/s]"
      ]
     },
     "metadata": {},
     "output_type": "display_data"
    },
    {
     "name": "stderr",
     "output_type": "stream",
     "text": [
      "INFO:data_store.src.embeddings.embedding_service:Embeddings generated.\n",
      "INFO:data_store.src.vectorstore.chroma_store:Successfully added 94 documents.\n",
      "INFO:data_store.src.core.data_pipeline:Processing complete. Added 94 chunks to the vector store.\n"
     ]
    }
   ],
   "source": [
    "added_count_pdf = pipeline.process_and_store(\n",
    "    source=\"./data/\",\n",
    "    source_type=\"directory\",\n",
    "    contextualize=True\n",
    ")"
   ]
  },
  {
   "cell_type": "code",
   "execution_count": 10,
   "metadata": {},
   "outputs": [
    {
     "name": "stdout",
     "output_type": "stream",
     "text": [
      "Added 94 chunks from PDF.\n"
     ]
    }
   ],
   "source": [
    "print(f\"Added {added_count_pdf} chunks from PDF.\")"
   ]
  },
  {
   "cell_type": "code",
   "execution_count": 11,
   "metadata": {},
   "outputs": [
    {
     "name": "stdout",
     "output_type": "stream",
     "text": [
      "New vector store count: 94\n"
     ]
    }
   ],
   "source": [
    "print(f\"New vector store count: {pipeline.get_vector_store_count()}\")"
   ]
  },
  {
   "cell_type": "code",
   "execution_count": 12,
   "metadata": {},
   "outputs": [
    {
     "name": "stderr",
     "output_type": "stream",
     "text": [
      "INFO:data_store.src.core.data_pipeline:Retrieving top 3 results for query: 'What is the main law of quantum mechanics?...'\n",
      "INFO:data_store.src.vectorstore.chroma_store:Performing search in collection 'my_documents' for query: 'What is the main law of quantum mechanics?...' (k=3)\n",
      "INFO:data_store.src.embeddings.embedding_service:Generating embeddings for 1 documents...\n"
     ]
    },
    {
     "data": {
      "application/vnd.jupyter.widget-view+json": {
       "model_id": "214df4d4bd8044668ffaac48dfbf63c6",
       "version_major": 2,
       "version_minor": 0
      },
      "text/plain": [
       "Batches:   0%|          | 0/1 [00:00<?, ?it/s]"
      ]
     },
     "metadata": {},
     "output_type": "display_data"
    },
    {
     "name": "stderr",
     "output_type": "stream",
     "text": [
      "INFO:data_store.src.embeddings.embedding_service:Embeddings generated.\n",
      "INFO:data_store.src.vectorstore.chroma_store:Found 3 results.\n"
     ]
    }
   ],
   "source": [
    "query = \"What is the main law of quantum mechanics?\"\n",
    "search_results = pipeline.retrieve(query, k=3)"
   ]
  },
  {
   "cell_type": "code",
   "execution_count": 13,
   "metadata": {},
   "outputs": [],
   "source": [
    "def display_search_results(search_results, query):\n",
    "    print(f\"\\nSearch results for: '{query}'\")\n",
    "    if search_results:\n",
    "        for i, result in enumerate(search_results):\n",
    "            print(f\"\\n--- Result {i+1} ---\")\n",
    "            print(f\"Source: {result['metadata'].get('source', 'N/A')}\")\n",
    "            # Display original content if available in metadata, else the potentially augmented content\n",
    "            content_to_display = result['metadata'].get('original_content', result['document'])\n",
    "            print(f\"Content: {content_to_display[:200]}...\") # Display snippet\n",
    "            print(f\"Distance: {result['distance']:.4f}\")\n",
    "            # print(f\"Metadata: {result['metadata']}\") # Uncomment to see all metadata\n",
    "    else:\n",
    "        print(\"No relevant documents found.\")"
   ]
  },
  {
   "cell_type": "code",
   "execution_count": 23,
   "metadata": {},
   "outputs": [],
   "source": [
    "# Making question answering with llm based on the retrived documents\n",
    "import requests\n",
    "import json\n",
    "\n",
    "url = 'http://localhost:8000/api/llm/generate_response'\n",
    "headers = {\n",
    "    'accept': 'application/json',\n",
    "    'Content-Type': 'application/json'\n",
    "}\n",
    "def prepare_docs_for_llm(search_results):\n",
    "    docs = []\n",
    "    for result in search_results:\n",
    "        doc = {\n",
    "            'content': result['document'],\n",
    "            'id': result['metadata'].get('source', 'N/A')\n",
    "        }\n",
    "        docs.append(doc)\n",
    "    return docs\n",
    "\n",
    "def prepare_data_for_llm(query, search_results):\n",
    "    data = {\n",
    "        'prompt': query,\n",
    "        'documents': prepare_docs_for_llm(search_results)\n",
    "    }\n",
    "    json_data = json.dumps(data)\n",
    "    return json_data\n",
    "\n",
    "def get_llm_response(query, search_results):\n",
    "    data = prepare_data_for_llm(query, search_results)\n",
    "    response = requests.post(url, headers=headers, data=data)\n",
    "    return response.json()\n",
    "\n",
    "def print_llm_response(query, search_results):\n",
    "    response = get_llm_response(query, search_results)\n",
    "    print(f\"\\nQuestion: {query}\")\n",
    "    print(f\"Answer: {response['response']}\")"
   ]
  },
  {
   "cell_type": "markdown",
   "metadata": {},
   "source": [
    "### With Context"
   ]
  },
  {
   "cell_type": "code",
   "execution_count": 13,
   "metadata": {},
   "outputs": [
    {
     "name": "stdout",
     "output_type": "stream",
     "text": [
      "\n",
      "Search results for: 'What is the main law of quantum mechanics?'\n",
      "\n",
      "--- Result 1 ---\n",
      "Source: ./data/quantum_physics.md\n",
      "Content: Core Principles Revisited with More Detail...\n",
      "Distance: 0.6070\n",
      "\n",
      "--- Result 2 ---\n",
      "Source: ./data/quantum_physics.md\n",
      "Content: A Deeper Dive into Quantum Physics\n",
      "\n",
      "Quantum physics, at its core, is the study of the microscopic world – the realm of atoms and subatomic particles. Unlike classical physics, which describes the macr...\n",
      "Distance: 0.8068\n",
      "\n",
      "--- Result 3 ---\n",
      "Source: ./data/quantum_physics.md\n",
      "Content: Interpretations of Quantum Mechanics\n",
      "\n",
      "Despite its immense success in predicting experimental results, the underlying interpretation of quantum mechanics remains a subject of debate. Several interpreta...\n",
      "Distance: 0.8567\n"
     ]
    }
   ],
   "source": [
    "display_search_results(search_results, query)"
   ]
  },
  {
   "cell_type": "code",
   "execution_count": 14,
   "metadata": {},
   "outputs": [
    {
     "name": "stderr",
     "output_type": "stream",
     "text": [
      "INFO:data_store.src.core.data_pipeline:Retrieving top 3 results for query: 'What event is generally considered the beginning o...'\n",
      "INFO:data_store.src.vectorstore.chroma_store:Performing search in collection 'my_documents' for query: 'What event is generally considered the beginning o...' (k=3)\n",
      "INFO:data_store.src.embeddings.embedding_service:Generating embeddings for 1 documents...\n"
     ]
    },
    {
     "data": {
      "application/vnd.jupyter.widget-view+json": {
       "model_id": "ba8fd5ba145a4bf1a9673fd305f8f6c4",
       "version_major": 2,
       "version_minor": 0
      },
      "text/plain": [
       "Batches:   0%|          | 0/1 [00:00<?, ?it/s]"
      ]
     },
     "metadata": {},
     "output_type": "display_data"
    },
    {
     "name": "stderr",
     "output_type": "stream",
     "text": [
      "INFO:data_store.src.embeddings.embedding_service:Embeddings generated.\n",
      "INFO:data_store.src.vectorstore.chroma_store:Found 3 results.\n",
      "INFO:data_store.src.core.data_pipeline:Retrieving top 3 results for query: 'Explain how the K-Means clustering algorithm works...'\n",
      "INFO:data_store.src.vectorstore.chroma_store:Performing search in collection 'my_documents' for query: 'Explain how the K-Means clustering algorithm works...' (k=3)\n",
      "INFO:data_store.src.embeddings.embedding_service:Generating embeddings for 1 documents...\n"
     ]
    },
    {
     "data": {
      "application/vnd.jupyter.widget-view+json": {
       "model_id": "8cc1155010d84394b172c8531c154778",
       "version_major": 2,
       "version_minor": 0
      },
      "text/plain": [
       "Batches:   0%|          | 0/1 [00:00<?, ?it/s]"
      ]
     },
     "metadata": {},
     "output_type": "display_data"
    },
    {
     "name": "stderr",
     "output_type": "stream",
     "text": [
      "INFO:data_store.src.embeddings.embedding_service:Embeddings generated.\n",
      "INFO:data_store.src.vectorstore.chroma_store:Found 3 results.\n",
      "INFO:data_store.src.core.data_pipeline:Retrieving top 3 results for query: 'Discuss at least three potential applications of q...'\n",
      "INFO:data_store.src.vectorstore.chroma_store:Performing search in collection 'my_documents' for query: 'Discuss at least three potential applications of q...' (k=3)\n",
      "INFO:data_store.src.embeddings.embedding_service:Generating embeddings for 1 documents...\n"
     ]
    },
    {
     "data": {
      "application/vnd.jupyter.widget-view+json": {
       "model_id": "cd562fc3fb3d4543b3bc8fd06382b305",
       "version_major": 2,
       "version_minor": 0
      },
      "text/plain": [
       "Batches:   0%|          | 0/1 [00:00<?, ?it/s]"
      ]
     },
     "metadata": {},
     "output_type": "display_data"
    },
    {
     "name": "stderr",
     "output_type": "stream",
     "text": [
      "INFO:data_store.src.embeddings.embedding_service:Embeddings generated.\n",
      "INFO:data_store.src.vectorstore.chroma_store:Found 3 results.\n",
      "INFO:data_store.src.core.data_pipeline:Retrieving top 3 results for query: 'Describe the phenomenon of quantum entanglement an...'\n",
      "INFO:data_store.src.vectorstore.chroma_store:Performing search in collection 'my_documents' for query: 'Describe the phenomenon of quantum entanglement an...' (k=3)\n",
      "INFO:data_store.src.embeddings.embedding_service:Generating embeddings for 1 documents...\n"
     ]
    },
    {
     "data": {
      "application/vnd.jupyter.widget-view+json": {
       "model_id": "2335f276994b439d9b63202d2478e700",
       "version_major": 2,
       "version_minor": 0
      },
      "text/plain": [
       "Batches:   0%|          | 0/1 [00:00<?, ?it/s]"
      ]
     },
     "metadata": {},
     "output_type": "display_data"
    },
    {
     "name": "stderr",
     "output_type": "stream",
     "text": [
      "INFO:data_store.src.embeddings.embedding_service:Embeddings generated.\n",
      "INFO:data_store.src.vectorstore.chroma_store:Found 3 results.\n"
     ]
    }
   ],
   "source": [
    "query1 = \"What event is generally considered the beginning of the Golden Age of superhero comics? Name two iconic superheroes that debuted in this era.\"\n",
    "query2 = \"Explain how the K-Means clustering algorithm works.\"\n",
    "query3 = \"Discuss at least three potential applications of quantum computing and how they could impact those fields.\"\n",
    "query4 = \"Describe the phenomenon of quantum entanglement and why Einstein referred to it as 'spooky action at a distance.' What are some potential applications of entanglement?\"\n",
    "\n",
    "\n",
    "search_results1 = pipeline.retrieve(query1, k=3)\n",
    "search_results2 = pipeline.retrieve(query2, k=3)\n",
    "search_results3 = pipeline.retrieve(query3, k=3)\n",
    "search_results4 = pipeline.retrieve(query4, k=3)"
   ]
  },
  {
   "cell_type": "code",
   "execution_count": 15,
   "metadata": {},
   "outputs": [
    {
     "name": "stdout",
     "output_type": "stream",
     "text": [
      "\n",
      "Search results for: 'What event is generally considered the beginning of the Golden Age of superhero comics? Name two iconic superheroes that debuted in this era.'\n",
      "\n",
      "--- Result 1 ---\n",
      "Source: ./data/superhero.md\n",
      "Content: The Golden Age (Late 1930s - 1950s)\n",
      "\n",
      "The Golden Age of superhero comics is generally considered to have begun with the debut of Superman in Action Comics #1 (1938) and Batman in Detective Comics #27 (...\n",
      "Distance: 0.3081\n",
      "\n",
      "--- Result 2 ---\n",
      "Source: ./data/superhero.md\n",
      "Content: Superhero Comics: A Pop Culture Phenomenon\n",
      "\n",
      "Superhero comics are a significant and enduring part of global popular culture. Originating in the late 1930s, these illustrated narratives feature characte...\n",
      "Distance: 0.4596\n",
      "\n",
      "--- Result 3 ---\n",
      "Source: ./data/superhero.md\n",
      "Content: Themes: Predominantly focused on good versus evil, with heroes often fighting clearly defined villains and upholding patriotic ideals, especially during World War II.\n",
      "\n",
      "Art Style: Often simpler and mor...\n",
      "Distance: 0.5934\n"
     ]
    }
   ],
   "source": [
    "display_search_results(search_results1, query1)"
   ]
  },
  {
   "cell_type": "code",
   "execution_count": 16,
   "metadata": {},
   "outputs": [
    {
     "name": "stdout",
     "output_type": "stream",
     "text": [
      "\n",
      "Search results for: 'Explain how the K-Means clustering algorithm works.'\n",
      "\n",
      "--- Result 1 ---\n",
      "Source: ./data/machine_learning.md\n",
      "Content: Use Cases: Image and video analysis, natural language understanding, speech synthesis, machine translation.\n",
      "\n",
      "Unsupervised Learning Algorithms\n",
      "\n",
      "K-Means Clustering: An iterative algorithm that partition...\n",
      "Distance: 0.9884\n",
      "\n",
      "--- Result 2 ---\n",
      "Source: ./data/machine_learning.md\n",
      "Content: Algorithm: The specific procedure or set of rules that the ML system uses to learn from the data and build the model. Different algorithms have different strengths and weaknesses and are suited for di...\n",
      "Distance: 1.1372\n",
      "\n",
      "--- Result 3 ---\n",
      "Source: ./data/machine_learning.md\n",
      "Content: Hierarchical Clustering: A family of clustering algorithms that builds a hierarchy of clusters, either by starting with each data point as a separate cluster and iteratively merging the closest cluste...\n",
      "Distance: 1.1413\n"
     ]
    }
   ],
   "source": [
    "display_search_results(search_results2, query2)"
   ]
  },
  {
   "cell_type": "code",
   "execution_count": 17,
   "metadata": {},
   "outputs": [
    {
     "name": "stdout",
     "output_type": "stream",
     "text": [
      "\n",
      "Search results for: 'Discuss at least three potential applications of quantum computing and how they could impact those fields.'\n",
      "\n",
      "--- Result 1 ---\n",
      "Source: ./data/quantum_computing.md\n",
      "Content: Quantum Computing: Harnessing the Power of the Quantum Realm\n",
      "\n",
      "Quantum computing is an emerging field that leverages the principles of quantum mechanics to solve complex problems that are intractable f...\n",
      "Distance: 0.4053\n",
      "\n",
      "--- Result 2 ---\n",
      "Source: ./data/quantum_computing.md\n",
      "Content: Artificial Intelligence and Machine Learning: Accelerating machine learning algorithms and developing new quantum machine learning techniques.\n",
      "\n",
      "Cryptography: Breaking current public-key encryption alg...\n",
      "Distance: 0.4138\n",
      "\n",
      "--- Result 3 ---\n",
      "Source: ./data/quantum_physics.md\n",
      "Content: The Ongoing Revolution and Future Directions\n",
      "\n",
      "Quantum physics continues to be a vibrant and rapidly evolving field. Current research is focused on:\n",
      "\n",
      "Quantum Computing: Building computers that exploit ...\n",
      "Distance: 0.4789\n"
     ]
    }
   ],
   "source": [
    "display_search_results(search_results3, query3)"
   ]
  },
  {
   "cell_type": "code",
   "execution_count": 18,
   "metadata": {},
   "outputs": [
    {
     "name": "stdout",
     "output_type": "stream",
     "text": [
      "\n",
      "Search results for: 'Describe the phenomenon of quantum entanglement and why Einstein referred to it as 'spooky action at a distance.' What are some potential applications of entanglement?'\n",
      "\n",
      "--- Result 1 ---\n",
      "Source: ./data/quantum_physics.md\n",
      "Content: Quantum Entanglement: This is perhaps one of the most counter-intuitive aspects of quantum mechanics. When two or more particles become entangled, their quantum states are linked in such a way that th...\n",
      "Distance: 0.4726\n",
      "\n",
      "--- Result 2 ---\n",
      "Source: ./data/quantum_computing.md\n",
      "Content: Entanglement: When two or more qubits become entangled, their quantum states are linked in such a way that they share the same fate, regardless of the distance between them. Measuring the state of one...\n",
      "Distance: 0.6986\n",
      "\n",
      "--- Result 3 ---\n",
      "Source: ./data/quantum_physics.md\n",
      "Content: called it, is a fundamental feature of quantum mechanics and has profound implications for quantum communication and quantum computing....\n",
      "Distance: 0.7741\n"
     ]
    }
   ],
   "source": [
    "display_search_results(search_results4, query4)"
   ]
  },
  {
   "cell_type": "markdown",
   "metadata": {},
   "source": [
    "### without context"
   ]
  },
  {
   "cell_type": "code",
   "execution_count": 15,
   "metadata": {},
   "outputs": [
    {
     "name": "stdout",
     "output_type": "stream",
     "text": [
      "\n",
      "Search results for: 'What is the main law of quantum mechanics?'\n",
      "\n",
      "--- Result 1 ---\n",
      "Source: ./data/quantum_physics.md\n",
      "Content: A Deeper Dive into Quantum Physics\n",
      "\n",
      "Quantum physics, at its core, is the study of the microscopic world – the realm of atoms and subatomic particles. Unlike classical physics, which describes the macr...\n",
      "Distance: 0.8135\n",
      "\n",
      "--- Result 2 ---\n",
      "Source: ./data/quantum_physics.md\n",
      "Content: called it, is a fundamental feature of quantum mechanics and has profound implications for quantum communication and quantum computing....\n",
      "Distance: 0.8568\n",
      "\n",
      "--- Result 3 ---\n",
      "Source: ./data/quantum_physics.md\n",
      "Content: Wave Mechanics (Schrödinger): Erwin Schrödinger developed a mathematical equation, the Schrödinger equation, which describes the time evolution of the wave function of a quantum system. The wave funct...\n",
      "Distance: 0.8685\n"
     ]
    }
   ],
   "source": [
    "display_search_results(search_results, query)"
   ]
  },
  {
   "cell_type": "code",
   "execution_count": 16,
   "metadata": {},
   "outputs": [
    {
     "name": "stderr",
     "output_type": "stream",
     "text": [
      "INFO:data_store.src.core.data_pipeline:Retrieving top 3 results for query: 'What event is generally considered the beginning o...'\n",
      "INFO:data_store.src.vectorstore.chroma_store:Performing search in collection 'my_documents' for query: 'What event is generally considered the beginning o...' (k=3)\n",
      "INFO:data_store.src.embeddings.embedding_service:Generating embeddings for 1 documents...\n"
     ]
    },
    {
     "data": {
      "application/vnd.jupyter.widget-view+json": {
       "model_id": "f27bb6b0332a48aaa783bd8cff861df5",
       "version_major": 2,
       "version_minor": 0
      },
      "text/plain": [
       "Batches:   0%|          | 0/1 [00:00<?, ?it/s]"
      ]
     },
     "metadata": {},
     "output_type": "display_data"
    },
    {
     "name": "stderr",
     "output_type": "stream",
     "text": [
      "INFO:data_store.src.embeddings.embedding_service:Embeddings generated.\n",
      "INFO:data_store.src.vectorstore.chroma_store:Found 3 results.\n",
      "INFO:data_store.src.core.data_pipeline:Retrieving top 3 results for query: 'Explain how the K-Means clustering algorithm works...'\n",
      "INFO:data_store.src.vectorstore.chroma_store:Performing search in collection 'my_documents' for query: 'Explain how the K-Means clustering algorithm works...' (k=3)\n",
      "INFO:data_store.src.embeddings.embedding_service:Generating embeddings for 1 documents...\n"
     ]
    },
    {
     "data": {
      "application/vnd.jupyter.widget-view+json": {
       "model_id": "7829c255afa643deb382eb9edcf1d752",
       "version_major": 2,
       "version_minor": 0
      },
      "text/plain": [
       "Batches:   0%|          | 0/1 [00:00<?, ?it/s]"
      ]
     },
     "metadata": {},
     "output_type": "display_data"
    },
    {
     "name": "stderr",
     "output_type": "stream",
     "text": [
      "INFO:data_store.src.embeddings.embedding_service:Embeddings generated.\n",
      "INFO:data_store.src.vectorstore.chroma_store:Found 3 results.\n",
      "INFO:data_store.src.core.data_pipeline:Retrieving top 3 results for query: 'Discuss at least three potential applications of q...'\n",
      "INFO:data_store.src.vectorstore.chroma_store:Performing search in collection 'my_documents' for query: 'Discuss at least three potential applications of q...' (k=3)\n",
      "INFO:data_store.src.embeddings.embedding_service:Generating embeddings for 1 documents...\n"
     ]
    },
    {
     "data": {
      "application/vnd.jupyter.widget-view+json": {
       "model_id": "ac32582f25cd4d8286fc9011dcddb8b0",
       "version_major": 2,
       "version_minor": 0
      },
      "text/plain": [
       "Batches:   0%|          | 0/1 [00:00<?, ?it/s]"
      ]
     },
     "metadata": {},
     "output_type": "display_data"
    },
    {
     "name": "stderr",
     "output_type": "stream",
     "text": [
      "INFO:data_store.src.embeddings.embedding_service:Embeddings generated.\n",
      "INFO:data_store.src.vectorstore.chroma_store:Found 3 results.\n",
      "INFO:data_store.src.core.data_pipeline:Retrieving top 3 results for query: 'Describe the phenomenon of quantum entanglement an...'\n",
      "INFO:data_store.src.vectorstore.chroma_store:Performing search in collection 'my_documents' for query: 'Describe the phenomenon of quantum entanglement an...' (k=3)\n",
      "INFO:data_store.src.embeddings.embedding_service:Generating embeddings for 1 documents...\n"
     ]
    },
    {
     "data": {
      "application/vnd.jupyter.widget-view+json": {
       "model_id": "a92dc63da6ea4ee1b0573ce00c8f58d8",
       "version_major": 2,
       "version_minor": 0
      },
      "text/plain": [
       "Batches:   0%|          | 0/1 [00:00<?, ?it/s]"
      ]
     },
     "metadata": {},
     "output_type": "display_data"
    },
    {
     "name": "stderr",
     "output_type": "stream",
     "text": [
      "INFO:data_store.src.embeddings.embedding_service:Embeddings generated.\n",
      "INFO:data_store.src.vectorstore.chroma_store:Found 3 results.\n"
     ]
    }
   ],
   "source": [
    "query1 = \"What event is generally considered the beginning of the Golden Age of superhero comics? Name two iconic superheroes that debuted in this era.\"\n",
    "query2 = \"Explain how the K-Means clustering algorithm works.\"\n",
    "query3 = \"Discuss at least three potential applications of quantum computing and how they could impact those fields.\"\n",
    "query4 = \"Describe the phenomenon of quantum entanglement and why Einstein referred to it as 'spooky action at a distance.' What are some potential applications of entanglement?\"\n",
    "\n",
    "\n",
    "search_results1 = pipeline.retrieve(query1, k=3)\n",
    "search_results2 = pipeline.retrieve(query2, k=3)\n",
    "search_results3 = pipeline.retrieve(query3, k=3)\n",
    "search_results4 = pipeline.retrieve(query4, k=3)"
   ]
  },
  {
   "cell_type": "code",
   "execution_count": 17,
   "metadata": {},
   "outputs": [
    {
     "name": "stdout",
     "output_type": "stream",
     "text": [
      "\n",
      "Search results for: 'What event is generally considered the beginning of the Golden Age of superhero comics? Name two iconic superheroes that debuted in this era.'\n",
      "\n",
      "--- Result 1 ---\n",
      "Source: ./data/superhero.md\n",
      "Content: The Golden Age (Late 1930s - 1950s)\n",
      "\n",
      "The Golden Age of superhero comics is generally considered to have begun with the debut of Superman in Action Comics #1 (1938) and Batman in Detective Comics #27 (...\n",
      "Distance: 0.3234\n",
      "\n",
      "--- Result 2 ---\n",
      "Source: ./data/superhero.md\n",
      "Content: Superhero Comics: A Pop Culture Phenomenon\n",
      "\n",
      "Superhero comics are a significant and enduring part of global popular culture. Originating in the late 1930s, these illustrated narratives feature characte...\n",
      "Distance: 0.5750\n",
      "\n",
      "--- Result 3 ---\n",
      "Source: ./data/superhero.md\n",
      "Content: Themes: Predominantly focused on good versus evil, with heroes often fighting clearly defined villains and upholding patriotic ideals, especially during World War II.\n",
      "\n",
      "Art Style: Often simpler and mor...\n",
      "Distance: 0.6959\n"
     ]
    }
   ],
   "source": [
    "display_search_results(search_results1, query1)"
   ]
  },
  {
   "cell_type": "code",
   "execution_count": 18,
   "metadata": {},
   "outputs": [
    {
     "name": "stdout",
     "output_type": "stream",
     "text": [
      "\n",
      "Search results for: 'Explain how the K-Means clustering algorithm works.'\n",
      "\n",
      "--- Result 1 ---\n",
      "Source: ./data/machine_learning.md\n",
      "Content: Use Cases: Image and video analysis, natural language understanding, speech synthesis, machine translation.\n",
      "\n",
      "Unsupervised Learning Algorithms\n",
      "\n",
      "K-Means Clustering: An iterative algorithm that partition...\n",
      "Distance: 0.9334\n",
      "\n",
      "--- Result 2 ---\n",
      "Source: ./data/machine_learning.md\n",
      "Content: K-Nearest Neighbors (KNN): A simple yet effective algorithm for classification and regression that classifies a new data point based on the majority class (or average value) of its k nearest neighbors...\n",
      "Distance: 1.1559\n",
      "\n",
      "--- Result 3 ---\n",
      "Source: ./data/machine_learning.md\n",
      "Content: Unsupervised Learning: In unsupervised learning, the algorithm learns from unlabeled data, without any explicit output labels. The goal is to discover hidden patterns, structures, or relationships in ...\n",
      "Distance: 1.1786\n"
     ]
    }
   ],
   "source": [
    "display_search_results(search_results2, query2)"
   ]
  },
  {
   "cell_type": "code",
   "execution_count": 19,
   "metadata": {},
   "outputs": [
    {
     "name": "stdout",
     "output_type": "stream",
     "text": [
      "\n",
      "Search results for: 'Discuss at least three potential applications of quantum computing and how they could impact those fields.'\n",
      "\n",
      "--- Result 1 ---\n",
      "Source: ./data/quantum_computing.md\n",
      "Content: Quantum Computing: Harnessing the Power of the Quantum Realm\n",
      "\n",
      "Quantum computing is an emerging field that leverages the principles of quantum mechanics to solve complex problems that are intractable f...\n",
      "Distance: 0.4516\n",
      "\n",
      "--- Result 2 ---\n",
      "Source: ./data/quantum_physics.md\n",
      "Content: The Ongoing Revolution and Future Directions\n",
      "\n",
      "Quantum physics continues to be a vibrant and rapidly evolving field. Current research is focused on:\n",
      "\n",
      "Quantum Computing: Building computers that exploit ...\n",
      "Distance: 0.5732\n",
      "\n",
      "--- Result 3 ---\n",
      "Source: ./data/quantum_computing.md\n",
      "Content: Artificial Intelligence and Machine Learning: Accelerating machine learning algorithms and developing new quantum machine learning techniques.\n",
      "\n",
      "Cryptography: Breaking current public-key encryption alg...\n",
      "Distance: 0.5793\n"
     ]
    }
   ],
   "source": [
    "display_search_results(search_results3, query3)"
   ]
  },
  {
   "cell_type": "code",
   "execution_count": 20,
   "metadata": {},
   "outputs": [
    {
     "name": "stdout",
     "output_type": "stream",
     "text": [
      "\n",
      "Search results for: 'Describe the phenomenon of quantum entanglement and why Einstein referred to it as 'spooky action at a distance.' What are some potential applications of entanglement?'\n",
      "\n",
      "--- Result 1 ---\n",
      "Source: ./data/quantum_physics.md\n",
      "Content: Quantum Entanglement: This is perhaps one of the most counter-intuitive aspects of quantum mechanics. When two or more particles become entangled, their quantum states are linked in such a way that th...\n",
      "Distance: 0.6522\n",
      "\n",
      "--- Result 2 ---\n",
      "Source: ./data/quantum_computing.md\n",
      "Content: Entanglement: When two or more qubits become entangled, their quantum states are linked in such a way that they share the same fate, regardless of the distance between them. Measuring the state of one...\n",
      "Distance: 0.7011\n",
      "\n",
      "--- Result 3 ---\n",
      "Source: ./data/quantum_physics.md\n",
      "Content: Quantum Communication and Cryptography: Developing secure communication methods based on the principles of quantum mechanics, such as quantum key distribution, which offers theoretically unbreakable e...\n",
      "Distance: 0.9629\n"
     ]
    }
   ],
   "source": [
    "display_search_results(search_results4, query4)"
   ]
  },
  {
   "cell_type": "markdown",
   "metadata": {},
   "source": [
    "### Answering with context retrival"
   ]
  },
  {
   "cell_type": "code",
   "execution_count": 26,
   "metadata": {},
   "outputs": [
    {
     "name": "stdout",
     "output_type": "stream",
     "text": [
      "\n",
      "Question: What event is generally considered the beginning of the Golden Age of superhero comics? Name two iconic superheroes that debuted in this era.\n",
      "Answer: The Golden Age of superhero comics is generally considered to have begun with the debut of Superman in Action Comics #1 (1938) and Batman in Detective Comics #27 (1939) [./data/superhero.md]. Two iconic superheroes that debuted during this era are Superman and Batman [./data/superhero.md].\n"
     ]
    }
   ],
   "source": [
    "print_llm_response(query1, search_results1)"
   ]
  },
  {
   "cell_type": "code",
   "execution_count": 27,
   "metadata": {},
   "outputs": [
    {
     "name": "stdout",
     "output_type": "stream",
     "text": [
      "\n",
      "Question: Explain how the K-Means clustering algorithm works.\n",
      "Answer: K-Means Clustering is an iterative algorithm that divides a dataset into *k* distinct clusters based on the distance of data points to the centroids of the clusters [./data/machine_learning.md].\n"
     ]
    }
   ],
   "source": [
    "print_llm_response(query2, search_results2)"
   ]
  },
  {
   "cell_type": "code",
   "execution_count": 28,
   "metadata": {},
   "outputs": [
    {
     "name": "stdout",
     "output_type": "stream",
     "text": [
      "\n",
      "Question: Discuss at least three potential applications of quantum computing and how they could impact those fields.\n",
      "Answer: Quantum computing has the potential to impact several fields:\n",
      "\n",
      "1.  **Artificial Intelligence and Machine Learning:** Quantum computing can accelerate machine learning algorithms and develop new quantum machine learning techniques \\[./data/quantum_computing.md].\n",
      "2.  **Cryptography:** Quantum computers could break current public-key encryption algorithms (like RSA) and lead to the development of new, quantum-resistant cryptographic methods \\[./data/quantum_computing.md].\n",
      "3.  **Optimization Problems:** Quantum computers could find optimal solutions to complex logistical and scheduling problems \\[./data/quantum_computing.md].\n"
     ]
    }
   ],
   "source": [
    "print_llm_response(query3, search_results3)"
   ]
  },
  {
   "cell_type": "code",
   "execution_count": 29,
   "metadata": {},
   "outputs": [
    {
     "name": "stdout",
     "output_type": "stream",
     "text": [
      "\n",
      "Question: Describe the phenomenon of quantum entanglement and why Einstein referred to it as 'spooky action at a distance.' What are some potential applications of entanglement?\n",
      "Answer: Quantum entanglement links the quantum states of two or more particles, regardless of the distance between them. Measuring the state of one entangled particle instantaneously determines the state of the other(s) [./data/quantum_computing.md]. Einstein called this \"spooky action at a distance\" [./data/quantum_physics.md]. Entanglement has implications for quantum communication and quantum computing [./data/quantum_physics.md]. It allows quantum computers to perform correlated operations on multiple qubits, leading to exponential increases in computational power [./data/quantum_computing.md].\n"
     ]
    }
   ],
   "source": [
    "print_llm_response(query4, search_results4)"
   ]
  },
  {
   "cell_type": "markdown",
   "metadata": {},
   "source": [
    "### Answering without context retrival"
   ]
  },
  {
   "cell_type": "code",
   "execution_count": 27,
   "metadata": {},
   "outputs": [
    {
     "name": "stdout",
     "output_type": "stream",
     "text": [
      "\n",
      "Question: What event is generally considered the beginning of the Golden Age of superhero comics? Name two iconic superheroes that debuted in this era.\n",
      "Answer: The Golden Age of superhero comics is generally considered to have begun with the debut of Superman in Action Comics #1 (1938) and Batman in Detective Comics #27 (1939) [./data/superhero.md]. Two iconic superheroes that debuted during this era are Superman and Batman [./data/superhero.md].\n"
     ]
    }
   ],
   "source": [
    "print_llm_response(query1, search_results1)"
   ]
  },
  {
   "cell_type": "code",
   "execution_count": 28,
   "metadata": {},
   "outputs": [
    {
     "name": "stdout",
     "output_type": "stream",
     "text": [
      "\n",
      "Question: Explain how the K-Means clustering algorithm works.\n",
      "Answer: K-Means clustering is an iterative algorithm that divides a dataset into *k* distinct clusters based on the distance of data points to the cluster centroids [./data/machine_learning.md]. This algorithm falls under unsupervised learning, which means it learns from unlabeled data to discover hidden patterns [./data/machine_learning.md].\n"
     ]
    }
   ],
   "source": [
    "print_llm_response(query2, search_results2)"
   ]
  },
  {
   "cell_type": "code",
   "execution_count": 29,
   "metadata": {},
   "outputs": [
    {
     "name": "stdout",
     "output_type": "stream",
     "text": [
      "\n",
      "Question: Discuss at least three potential applications of quantum computing and how they could impact those fields.\n",
      "Answer: Quantum computing has the potential to revolutionize several industries:\n",
      "\n",
      "1.  **Artificial Intelligence and Machine Learning:** Quantum computing can accelerate machine learning algorithms and develop new quantum machine learning techniques [./data/quantum_computing.md].\n",
      "2.  **Cryptography:** Quantum computers can break current public-key encryption algorithms and enable the development of new, quantum-resistant cryptographic methods [./data/quantum_computing.md].\n",
      "3.  **Optimization Problems:** Quantum computing can find optimal solutions to complex logistical and scheduling problems [./data/quantum_computing.md].\n"
     ]
    }
   ],
   "source": [
    "print_llm_response(query3, search_results3)"
   ]
  },
  {
   "cell_type": "code",
   "execution_count": 30,
   "metadata": {},
   "outputs": [
    {
     "name": "stdout",
     "output_type": "stream",
     "text": [
      "\n",
      "Question: Describe the phenomenon of quantum entanglement and why Einstein referred to it as 'spooky action at a distance.' What are some potential applications of entanglement?\n",
      "Answer: Quantum entanglement links the quantum states of two or more particles, regardless of the distance between them, so they share the same fate. Measuring the state of one entangled particle instantaneously determines the state of the other(s) [./data/quantum_physics.md, ./data/quantum_computing.md]. Einstein referred to this as \"spooky action at a distance\" [./data/quantum_physics.md]. Entanglement allows quantum computers to perform correlated operations on multiple qubits, potentially leading to exponential increases in computational power [./data/quantum_computing.md].\n"
     ]
    }
   ],
   "source": [
    "print_llm_response(query4, search_results4)"
   ]
  },
  {
   "cell_type": "code",
   "execution_count": null,
   "metadata": {},
   "outputs": [],
   "source": []
  }
 ],
 "metadata": {
  "kernelspec": {
   "display_name": ".venv",
   "language": "python",
   "name": "python3"
  },
  "language_info": {
   "codemirror_mode": {
    "name": "ipython",
    "version": 3
   },
   "file_extension": ".py",
   "mimetype": "text/x-python",
   "name": "python",
   "nbconvert_exporter": "python",
   "pygments_lexer": "ipython3",
   "version": "3.12.3"
  }
 },
 "nbformat": 4,
 "nbformat_minor": 2
}
