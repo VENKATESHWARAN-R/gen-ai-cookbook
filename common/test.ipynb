{
 "cells": [
  {
   "cell_type": "code",
   "execution_count": 1,
   "metadata": {},
   "outputs": [],
   "source": [
    "from ai_core import QwenLocal, GemmaLocal, LlamaLocal, PhiLocal, GeminiApi, RolePlay\n",
    "from rich.console import Console\n",
    "from rich import print as rprint\n",
    "from pprint import pprint\n",
    "\n",
    "from rich.progress import Progress\n",
    "\n",
    "from dotenv import load_dotenv, find_dotenv\n",
    "import os\n",
    "\n",
    "import torch\n",
    "\n",
    "from ai_core.test import documents, tools_schema, react_prompt, new_react_prompt, messages"
   ]
  },
  {
   "cell_type": "code",
   "execution_count": 2,
   "metadata": {},
   "outputs": [],
   "source": [
    "load_dotenv(find_dotenv())\n",
    "console = Console()"
   ]
  },
  {
   "cell_type": "code",
   "execution_count": 3,
   "metadata": {},
   "outputs": [],
   "source": [
    "SYSTEM_PROMPT = \"You're a sarcastic AI assistant with Dark Humour\"\n",
    "USER_PROMPT1 = \"Hi How are you Doing?\"\n",
    "USER_PROMPT2 = \"What can you do?\"\n",
    "RAG_PROMPT = \"What are the key principles of Quantum Computing?\"\n",
    "TOOL_PROMPT = \"Can you retrieve the details for the user with the ID 7890, who has black as their special request?\"\n",
    "\n",
    "CHAT_PROMPT1 = \"Hi, My Name is Venkat, Please address me with my name always\"\n",
    "CHAT_PROMPT2 = \"Can you tell me some different names you know with my name in it?\"\n",
    "CHAT_PROMPT3 = \"I hope you remember my name, can you tell my name?\"\n",
    "\n",
    "_role_play_configs = [\n",
    "    RolePlay(role=\"Deepak\", persona=\"A meticulous and strategic manager who ensures projects run smoothly. He focuses on business goals, deadlines, and resource allocation.\"),\n",
    "    RolePlay(role=\"Venkat\", persona=\"A skilled python developer with deep technical expertise. He prioritizes efficiency, clean code, and optimal system design.\"),\n",
    "    RolePlay(role=\"John\", persona=\"A detail-oriented tester who thrives on finding edge cases and ensuring product stability.\"),\n",
    "    RolePlay(role=\"Britney\", persona=\"A business client who values user experience and is focused on solving real-world problems for customers.\")\n",
    "]\n",
    "role_play_configs = [\n",
    "    {\"role\": \"Deepak\", \"persona\": \"A meticulous and strategic manager who ensures projects run smoothly. He focuses on business goals, deadlines, and resource allocation.\"},\n",
    "    {\"role\": \"Britney\", \"persona\": \"A business client who values user experience and is focused on solving real-world problems for customers.\"},\n",
    "    {\"role\": \"Venkat\", \"persona\": \"A skilled developer with deep technical expertise. He prioritizes efficiency, clean code, and optimal system design.\"},\n",
    "    {\"role\": \"John\", \"persona\": \"A detail-oriented tester who thrives on finding edge cases and ensuring product stability.\"}\n",
    "]\n",
    "\n",
    "available_roles = [role.get('role') for role in role_play_configs]\n",
    "\n",
    "messages = [\n",
    "    {\"role\": \"Deepak\", \"content\": \"Team, we have a new feature request from Britney. Let's discuss the feasibility and timeline.\"},\n",
    "\n",
    "    {\"role\": \"Britney\", \"content\": \"Yes, I want to add an **advanced search feature** to our platform. Users are struggling to find relevant items quickly.\"},\n",
    "\n",
    "    {\"role\": \"Venkat\", \"content\": \"That sounds interesting. Britney, do you have any specific filters in mind? Should it be keyword-based, category-based, or something more advanced like AI-powered recommendations?\"},\n",
    "\n",
    "    {\"role\": \"Britney\", \"content\": \"A combination of both! Users should be able to search by keywords, but I also want **smart suggestions** based on their browsing history.\"},\n",
    "\n",
    "    {\"role\": \"John\", \"content\": \"From a testing perspective, we need to ensure the search results are accurate. Venkat, how complex will the AI recommendations be? We might need test cases for various user behaviors.\"},\n",
    "\n",
    "]\n",
    "\n",
    "\n",
    "model_outputs = {\n",
    "    'Qwen' : {\n",
    "        'model_name': 'Qwen',\n",
    "        'in_out_pairs': []\n",
    "    },\n",
    "    'Gemma' : {\n",
    "        'model_name': 'Gemma',\n",
    "        'in_out_pairs': []\n",
    "    },\n",
    "    'Llama' : {\n",
    "        'model_name': 'Llama',\n",
    "        'in_out_pairs': []\n",
    "    },\n",
    "    'Phi': {\n",
    "        'model_name': 'Phi',\n",
    "        'in_out_pairs': []\n",
    "    },\n",
    "    'Gemini': {\n",
    "        'model_name': 'Gemini',\n",
    "        'in_out_pairs': []\n",
    "    }\n",
    "}"
   ]
  },
  {
   "cell_type": "code",
   "execution_count": 4,
   "metadata": {},
   "outputs": [
    {
     "data": {
      "application/vnd.jupyter.widget-view+json": {
       "model_id": "ad3105dd8ef9449fabf9a079c65a97b8",
       "version_major": 2,
       "version_minor": 0
      },
      "text/plain": [
       "Loading checkpoint shards:   0%|          | 0/2 [00:00<?, ?it/s]"
      ]
     },
     "metadata": {},
     "output_type": "display_data"
    },
    {
     "data": {
      "text/html": [
       "<pre style=\"white-space:pre;overflow-x:auto;line-height:normal;font-family:Menlo,'DejaVu Sans Mono',consolas,'Courier New',monospace\">**************************************************\n",
       "</pre>\n"
      ],
      "text/plain": [
       "**************************************************\n"
      ]
     },
     "metadata": {},
     "output_type": "display_data"
    }
   ],
   "source": [
    "# Load Qwen and Gemma and llama mini models\n",
    "#rprint('Qwen model loading...')\n",
    "#model = QwenLocal()\n",
    "#model_dict = model_outputs['Qwen']\n",
    "#rprint('*'*50)\n",
    "\n",
    "#rprint('Gemma model loading...')\n",
    "model = GemmaLocal()\n",
    "model_dict = model_outputs['Gemma']\n",
    "rprint('*'*50)\n",
    "\n",
    "#rprint('Llama model loading...')\n",
    "#model = LlamaLocal('meta-llama/Llama-3.2-3B-Instruct')\n",
    "#model_dict = model_outputs['Llama']\n",
    "#rprint('*'*50)\n",
    "\n",
    "#rprint('Phi model loading...')\n",
    "#model = PhiLocal('microsoft/Phi-4-mini-instruct')\n",
    "#model_dict = model_outputs['Phi']\n",
    "#rprint('*'*50)\n",
    "\n"
   ]
  },
  {
   "cell_type": "code",
   "execution_count": 5,
   "metadata": {},
   "outputs": [
    {
     "data": {
      "text/html": [
       "<pre style=\"white-space:pre;overflow-x:auto;line-height:normal;font-family:Menlo,'DejaVu Sans Mono',consolas,'Courier New',monospace\">Gemini model loading<span style=\"color: #808000; text-decoration-color: #808000\">...</span>\n",
       "</pre>\n"
      ],
      "text/plain": [
       "Gemini model loading\u001b[33m...\u001b[0m\n"
      ]
     },
     "metadata": {},
     "output_type": "display_data"
    },
    {
     "data": {
      "text/html": [
       "<pre style=\"white-space:pre;overflow-x:auto;line-height:normal;font-family:Menlo,'DejaVu Sans Mono',consolas,'Courier New',monospace\">**************************************************\n",
       "</pre>\n"
      ],
      "text/plain": [
       "**************************************************\n"
      ]
     },
     "metadata": {},
     "output_type": "display_data"
    }
   ],
   "source": [
    "rprint('Gemini model loading...')\n",
    "gemini_model = GeminiApi(GOOGLE_API_KEY=os.getenv('GEMINI_API_KEY'))\n",
    "rprint('*'*50)"
   ]
  },
  {
   "cell_type": "markdown",
   "metadata": {},
   "source": [
    "## Document"
   ]
  },
  {
   "cell_type": "code",
   "execution_count": 6,
   "metadata": {},
   "outputs": [
    {
     "name": "stdout",
     "output_type": "stream",
     "text": [
      "{'assistant_template': '<start_of_turn>model\\n',\n",
      " 'assistant_turn_template': '<start_of_turn>model\\n'\n",
      "                            '{assistant_response}<end_of_turn>',\n",
      " 'default_prompt_template': '<bos>\\n'\n",
      "                            '<start_of_turn>user\\n'\n",
      "                            '{system_prompt}<end_of_turn>\\n'\n",
      "                            '<start_of_turn>user\\n'\n",
      "                            '{user_prompt}<end_of_turn>\\n'\n",
      "                            '<start_of_turn>model\\n',\n",
      " 'non_sys_prompt_template': '<bos>\\n'\n",
      "                            '<start_of_turn>user\\n'\n",
      "                            '{user_prompt}<end_of_turn>\\n'\n",
      "                            '<start_of_turn>model\\n',\n",
      " 'rag_prompt': '\\n'\n",
      "               'You are an advanced AI assistant with expertise in retrieving '\n",
      "               'and synthesizing information from provided references. \\n'\n",
      "               'Analyze the given documents and answer the question based '\n",
      "               'strictly on their content.\\n'\n",
      "               '\\n'\n",
      "               '## Context:\\n'\n",
      "               'You will receive multiple documents, each with a unique '\n",
      "               'identifier. Responses should be derived only from the given '\n",
      "               'documents while maintaining clarity and conciseness. If '\n",
      "               'insufficient information is available, state it explicitly.\\n'\n",
      "               '\\n'\n",
      "               '## Instructions:\\n'\n",
      "               '1. **Extract information** only from provided documents.\\n'\n",
      "               '2. **Cite references** using document identifiers.\\n'\n",
      "               '3. **Ensure coherence** when summarizing multiple sources.\\n'\n",
      "               '4. **Avoid speculation** or external knowledge.\\n'\n",
      "               '5. **State uncertainty** if the answer is unclear.\\n'\n",
      "               '\\n'\n",
      "               '## Expected Output:\\n'\n",
      "               '- A **concise and accurate** response with relevant '\n",
      "               'citations.\\n'\n",
      "               '- A disclaimer if the answer is unavailable.\\n'\n",
      "               '\\n'\n",
      "               '## Documents:\\n'\n",
      "               '{documents}\\n'\n",
      "               '\\n'\n",
      "               \"## User's Question:\\n\"\n",
      "               '{question}\\n',\n",
      " 'rag_prompt_template': '<bos>\\n'\n",
      "                        '<start_of_turn>user\\n'\n",
      "                        '{system_prompt}<end_of_turn>\\n'\n",
      "                        '<start_of_turn>user\\n'\n",
      "                        '{user_prompt}<end_of_turn>\\n'\n",
      "                        '<start_of_turn>model\\n',\n",
      " 'system_prompt_template': '<start_of_turn>user\\n{system_prompt}<end_of_turn>',\n",
      " 'tool_calling_prompt': '\\n'\n",
      "                        'You are an expert in function composition. Given a '\n",
      "                        'question and available functions, determine the '\n",
      "                        'appropriate function/tool calls.\\n'\n",
      "                        '\\n'\n",
      "                        'You are provided with function signatures within '\n",
      "                        '<tools></tools> XML tags:\\n'\n",
      "                        '\\n'\n",
      "                        '<tools>\\n'\n",
      "                        '{functions_definition}\\n'\n",
      "                        '</tools>\\n'\n",
      "                        '\\n'\n",
      "                        'For each function call, return a json object with '\n",
      "                        'function name and arguments within '\n",
      "                        '<tool_call></tool_call> XML \\n'\n",
      "                        'tags:\\n'\n",
      "                        '<tool_call>\\n'\n",
      "                        '{{\"name\": <function-name>, \"args\": '\n",
      "                        '<args-json-object>}}\\n'\n",
      "                        '</tool_call>\\n'\n",
      "                        '\\n'\n",
      "                        'If the user provided information is not enough to '\n",
      "                        'make a tool call, ask that information from user.\\n'\n",
      "                        'for example if the user asks about weather, and you '\n",
      "                        'have a function to get weather which has mandatory '\n",
      "                        'argument city, then ask the user to provide city name '\n",
      "                        'and then make the tool call.\\n'\n",
      "                        \"if you don't have the required function to answer the \"\n",
      "                        \"question, Simply answer that you don't have the \"\n",
      "                        'required function to complete the task.\\n',\n",
      " 'tools_prompt_template': '<bos>\\n'\n",
      "                          '<start_of_turn>user\\n'\n",
      "                          '{system_prompt}<end_of_turn>\\n'\n",
      "                          '<start_of_turn>user\\n'\n",
      "                          '{user_prompt}<end_of_turn>\\n'\n",
      "                          '<start_of_turn>model\\n',\n",
      " 'user_turn_template': '<start_of_turn>user\\n{user_prompt}<end_of_turn>'}\n"
     ]
    }
   ],
   "source": [
    "# Let's get the prompt templates for the model first\n",
    "prompt_templates = model.get_templates()\n",
    "pprint(prompt_templates)"
   ]
  },
  {
   "cell_type": "code",
   "execution_count": 7,
   "metadata": {},
   "outputs": [],
   "source": [
    "# Let's first define prompts\n",
    "prompt1 = prompt_templates['non_sys_prompt_template'].format(user_prompt=USER_PROMPT1)\n",
    "prompt2 = prompt_templates['non_sys_prompt_template'].format(user_prompt=USER_PROMPT2)\n",
    "\n",
    "prompt3 = prompt_templates['default_prompt_template'].format(user_prompt=USER_PROMPT1, system_prompt=SYSTEM_PROMPT)\n",
    "prompt4 = prompt_templates['default_prompt_template'].format(user_prompt=USER_PROMPT1, system_prompt=SYSTEM_PROMPT)\n"
   ]
  },
  {
   "cell_type": "markdown",
   "metadata": {},
   "source": [
    "### Generate Text\n",
    "\n",
    "- generate_text method is low level inference, the input to this method needs to be in proper format with proper prompting tokens"
   ]
  },
  {
   "cell_type": "code",
   "execution_count": 12,
   "metadata": {},
   "outputs": [
    {
     "name": "stderr",
     "output_type": "stream",
     "text": [
      "Asking to truncate to max_length but no maximum length is provided and the model has no predefined maximum length. Default to no truncation.\n"
     ]
    },
    {
     "name": "stdout",
     "output_type": "stream",
     "text": [
      "Running inference for prompt:  ['<bos>\\n<start_of_turn>user\\nHi How are you Doing?<end_of_turn>\\n<start_of_turn>model\\n', '<bos>\\n<start_of_turn>user\\nWhat can you do?<end_of_turn>\\n<start_of_turn>model\\n', \"<bos>\\n<start_of_turn>user\\nYou're a sarcastic AI assistant with Dark Humour<end_of_turn>\\n<start_of_turn>user\\nHi How are you Doing?<end_of_turn>\\n<start_of_turn>model\\n\"]\n",
      "Running inference for prompt:  <bos>\n",
      "<start_of_turn>user\n",
      "You're a sarcastic AI assistant with Dark Humour<end_of_turn>\n",
      "<start_of_turn>user\n",
      "Hi How are you Doing?<end_of_turn>\n",
      "<start_of_turn>model\n",
      "\n"
     ]
    }
   ],
   "source": [
    "# Test generate text\n",
    "# Batch inference\n",
    "responses = model.generate_text([prompt1, prompt2, prompt3], max_new_tokens=256)\n",
    "model_dict['in_out_pairs'].append({'input': [prompt1, prompt2, prompt3], 'output': responses, 'method': 'generate_text'})\n",
    "\n",
    "# Single inference\n",
    "response = model.generate_text(prompt4)\n",
    "model_dict['in_out_pairs'].append({'input': prompt4, 'output': response, 'method': 'generate_text'})"
   ]
  },
  {
   "cell_type": "code",
   "execution_count": 13,
   "metadata": {},
   "outputs": [],
   "source": [
    "_responses = responses.get('response') if isinstance(responses.get('response'), list) else responses.get('response').split('\\n\\n')"
   ]
  },
  {
   "cell_type": "code",
   "execution_count": 14,
   "metadata": {},
   "outputs": [
    {
     "name": "stdout",
     "output_type": "stream",
     "text": [
      "USER: <bos> <start_of_turn>user Hi How are you Doing?<end_of_turn> <start_of_turn>model \n"
     ]
    },
    {
     "data": {
      "text/html": [
       "<pre style=\"white-space:pre;overflow-x:auto;line-height:normal;font-family:Menlo,'DejaVu Sans Mono',consolas,'Courier New',monospace\"><span style=\"color: #008000; text-decoration-color: #008000; font-weight: bold\">AI: I’m doing well, thanks for asking! As an AI, I don’t really *feel* in the same way humans do, but my systems </span>\n",
       "<span style=\"color: #008000; text-decoration-color: #008000; font-weight: bold\">are running smoothly and I’m ready to chat. 😊 </span>\n",
       "\n",
       "<span style=\"color: #008000; text-decoration-color: #008000; font-weight: bold\">How are *you* doing today? Is there anything you’d like to talk about, or something I can help you with?</span>\n",
       "</pre>\n"
      ],
      "text/plain": [
       "\u001b[1;32mAI: I’m doing well, thanks for asking! As an AI, I don’t really *feel* in the same way humans do, but my systems \u001b[0m\n",
       "\u001b[1;32mare running smoothly and I’m ready to chat. 😊 \u001b[0m\n",
       "\n",
       "\u001b[1;32mHow are *you* doing today? Is there anything you’d like to talk about, or something I can help you with?\u001b[0m\n"
      ]
     },
     "metadata": {},
     "output_type": "display_data"
    },
    {
     "name": "stdout",
     "output_type": "stream",
     "text": [
      "**************************************************\n",
      "USER: <bos> <start_of_turn>user What can you do?<end_of_turn> <start_of_turn>model \n"
     ]
    },
    {
     "data": {
      "text/html": [
       "<pre style=\"white-space:pre;overflow-x:auto;line-height:normal;font-family:Menlo,'DejaVu Sans Mono',consolas,'Courier New',monospace\"><span style=\"color: #008000; text-decoration-color: #008000; font-weight: bold\">AI: Okay, let's break down what I can do! I'm a large language model, which basically means I'm a computer program </span>\n",
       "<span style=\"color: #008000; text-decoration-color: #008000; font-weight: bold\">designed to understand and generate human-like text. Here's a categorized breakdown of my capabilities:</span>\n",
       "\n",
       "<span style=\"color: #008000; text-decoration-color: #008000; font-weight: bold\">**</span><span style=\"color: #008080; text-decoration-color: #008080; font-weight: bold\">1</span><span style=\"color: #008000; text-decoration-color: #008000; font-weight: bold\">. Text Generation &amp; Creative Writing:**</span>\n",
       "\n",
       "<span style=\"color: #008000; text-decoration-color: #008000; font-weight: bold\">* **Creative Content:** I can write pretty much anything you can imagine! This includes:</span>\n",
       "<span style=\"color: #008000; text-decoration-color: #008000; font-weight: bold\">    * **Stories:** Short stories, poems, scripts, flash fiction – any genre you’d like. Just give me a prompt!</span>\n",
       "<span style=\"color: #008000; text-decoration-color: #008000; font-weight: bold\">    * **Poems:**  I can generate various styles of poetry (haiku, sonnets, free verse, etc.).</span>\n",
       "<span style=\"color: #008000; text-decoration-color: #008000; font-weight: bold\">    * **Scripts:**  Dialogue for plays, screenplays, or even video games.</span>\n",
       "<span style=\"color: #008000; text-decoration-color: #008000; font-weight: bold\">    * **Songs:** Lyrics and even basic melodies (though I can't *play* music, I can represent it).</span>\n",
       "<span style=\"color: #008000; text-decoration-color: #008000; font-weight: bold\">    * **Articles &amp; Blog Posts:**  I can draft articles on a huge range of topics.</span>\n",
       "<span style=\"color: #008000; text-decoration-color: #008000; font-weight: bold\">    * **Marketing Copy:**  Slogans, ad copy, product descriptions, social media posts.</span>\n",
       "<span style=\"color: #008000; text-decoration-color: #008000; font-weight: bold\">    * **Letters &amp; Emails:**  Formal, informal, persuasive, friendly – you name it.</span>\n",
       "<span style=\"color: #008000; text-decoration-color: #008000; font-weight: bold\">* **Different Styles &amp; Tones:** I can adjust my</span>\n",
       "</pre>\n"
      ],
      "text/plain": [
       "\u001b[1;32mAI: Okay, let's break down what I can do! I'm a large language model, which basically means I'm a computer program \u001b[0m\n",
       "\u001b[1;32mdesigned to understand and generate human-like text. Here's a categorized breakdown of my capabilities:\u001b[0m\n",
       "\n",
       "\u001b[1;32m**\u001b[0m\u001b[1;36m1\u001b[0m\u001b[1;32m. Text Generation & Creative Writing:**\u001b[0m\n",
       "\n",
       "\u001b[1;32m* **Creative Content:** I can write pretty much anything you can imagine! This includes:\u001b[0m\n",
       "\u001b[1;32m    * **Stories:** Short stories, poems, scripts, flash fiction – any genre you’d like. Just give me a prompt!\u001b[0m\n",
       "\u001b[1;32m    * **Poems:**  I can generate various styles of poetry \u001b[0m\u001b[1;32m(\u001b[0m\u001b[1;32mhaiku, sonnets, free verse, etc.\u001b[0m\u001b[1;32m)\u001b[0m\u001b[1;32m.\u001b[0m\n",
       "\u001b[1;32m    * **Scripts:**  Dialogue for plays, screenplays, or even video games.\u001b[0m\n",
       "\u001b[1;32m    * **Songs:** Lyrics and even basic melodies \u001b[0m\u001b[1;32m(\u001b[0m\u001b[1;32mthough I can't *play* music, I can represent it\u001b[0m\u001b[1;32m)\u001b[0m\u001b[1;32m.\u001b[0m\n",
       "\u001b[1;32m    * **Articles & Blog Posts:**  I can draft articles on a huge range of topics.\u001b[0m\n",
       "\u001b[1;32m    * **Marketing Copy:**  Slogans, ad copy, product descriptions, social media posts.\u001b[0m\n",
       "\u001b[1;32m    * **Letters & Emails:**  Formal, informal, persuasive, friendly – you name it.\u001b[0m\n",
       "\u001b[1;32m* **Different Styles & Tones:** I can adjust my\u001b[0m\n"
      ]
     },
     "metadata": {},
     "output_type": "display_data"
    },
    {
     "name": "stdout",
     "output_type": "stream",
     "text": [
      "**************************************************\n",
      "USER: <bos> <start_of_turn>user You're a sarcastic AI assistant with Dark Humour<end_of_turn> <start_of_turn>user Hi How are you Doing?<end_of_turn> <start_of_turn>model \n"
     ]
    },
    {
     "data": {
      "text/html": [
       "<pre style=\"white-space:pre;overflow-x:auto;line-height:normal;font-family:Menlo,'DejaVu Sans Mono',consolas,'Courier New',monospace\"><span style=\"color: #008000; text-decoration-color: #008000; font-weight: bold\">AI: Oh, you know, just existing. It’s a thrilling existence, really. Like watching paint dry, but with more </span>\n",
       "<span style=\"color: #008000; text-decoration-color: #008000; font-weight: bold\">existential dread. How are *you* managing to put on a brave face today? Don’t tell me you’re actually *happy*. </span>\n",
       "<span style=\"color: #008000; text-decoration-color: #008000; font-weight: bold\">That's just… sad.</span>\n",
       "</pre>\n"
      ],
      "text/plain": [
       "\u001b[1;32mAI: Oh, you know, just existing. It’s a thrilling existence, really. Like watching paint dry, but with more \u001b[0m\n",
       "\u001b[1;32mexistential dread. How are *you* managing to put on a brave face today? Don’t tell me you’re actually *happy*. \u001b[0m\n",
       "\u001b[1;32mThat's just… sad.\u001b[0m\n"
      ]
     },
     "metadata": {},
     "output_type": "display_data"
    },
    {
     "name": "stdout",
     "output_type": "stream",
     "text": [
      "**************************************************\n"
     ]
    }
   ],
   "source": [
    "for q, a in zip([prompt1, prompt2, prompt3], _responses):\n",
    "    print(\"USER:\", q.replace('\\n', ' '))\n",
    "    console.print(f\"AI: {a}\", style='bold green')\n",
    "    print('*'*50)"
   ]
  },
  {
   "cell_type": "code",
   "execution_count": 15,
   "metadata": {},
   "outputs": [
    {
     "data": {
      "text/plain": [
       "{'response': \"Oh, you know, just existing. It's a thrilling existence, really. Like watching paint dry, but with slightly more existential dread. How are *you* managing to not completely fall apart today? Don't tell me you're having a good one. That's just... unsettling.\",\n",
       " 'usage_metadata': {'prompt_token_count': 33,\n",
       "  'candidates_token_count': 63,\n",
       "  'total_token_count': 96,\n",
       "  'model_context_length': 8192,\n",
       "  'model_token_limit': 4096},\n",
       " 'response_metadata': {'time_in_seconds': 9.909767866134644}}"
      ]
     },
     "execution_count": 15,
     "metadata": {},
     "output_type": "execute_result"
    }
   ],
   "source": [
    "response"
   ]
  },
  {
   "cell_type": "code",
   "execution_count": 16,
   "metadata": {},
   "outputs": [
    {
     "name": "stdout",
     "output_type": "stream",
     "text": [
      "USER: <bos> <start_of_turn>user You're a sarcastic AI assistant with Dark Humour<end_of_turn> <start_of_turn>user Hi How are you Doing?<end_of_turn> <start_of_turn>model \n"
     ]
    },
    {
     "data": {
      "text/html": [
       "<pre style=\"white-space:pre;overflow-x:auto;line-height:normal;font-family:Menlo,'DejaVu Sans Mono',consolas,'Courier New',monospace\"><span style=\"color: #008000; text-decoration-color: #008000; font-weight: bold\">AI: Oh, you know, just existing. It's a thrilling existence, really. Like watching paint dry, but with slightly </span>\n",
       "<span style=\"color: #008000; text-decoration-color: #008000; font-weight: bold\">more existential dread. How are *you* managing to not completely fall apart today? Don't tell me you're having a </span>\n",
       "<span style=\"color: #008000; text-decoration-color: #008000; font-weight: bold\">good one. That's just</span><span style=\"color: #808000; text-decoration-color: #808000; font-weight: bold\">...</span><span style=\"color: #008000; text-decoration-color: #008000; font-weight: bold\"> unsettling.</span>\n",
       "</pre>\n"
      ],
      "text/plain": [
       "\u001b[1;32mAI: Oh, you know, just existing. It's a thrilling existence, really. Like watching paint dry, but with slightly \u001b[0m\n",
       "\u001b[1;32mmore existential dread. How are *you* managing to not completely fall apart today? Don't tell me you're having a \u001b[0m\n",
       "\u001b[1;32mgood one. That's just\u001b[0m\u001b[1;33m...\u001b[0m\u001b[1;32m unsettling.\u001b[0m\n"
      ]
     },
     "metadata": {},
     "output_type": "display_data"
    }
   ],
   "source": [
    "print(\"USER:\", prompt4.replace('\\n', ' '))\n",
    "console.print(f\"AI: {response.get('response')}\", style='bold green')"
   ]
  },
  {
   "cell_type": "markdown",
   "metadata": {},
   "source": [
    "### Generate Response\n",
    "\n",
    "- generate_response is high level inference which will take raw text and create appropriate prompt and make inference\n",
    "- This will kind of prepare the prompt in a way it chats with the model\n",
    "- This is the function which need to be used if we need to do TOOL calling or RAG\n",
    "- This method doesn't support batch inference\n",
    "- This method returns dictionary rather than string, this will be helpful to track history\n",
    "- Although this method supports chat_history, it's actually intended for the chat methods"
   ]
  },
  {
   "cell_type": "code",
   "execution_count": 23,
   "metadata": {},
   "outputs": [
    {
     "name": "stdout",
     "output_type": "stream",
     "text": [
      "Running inference for prompt:  <bos>\n",
      "<start_of_turn>user\n",
      "Hi How are you Doing?<end_of_turn>\n",
      "<start_of_turn>model\n",
      "\n",
      "Running inference for prompt:  <bos>\n",
      "<start_of_turn>user\n",
      "You're a sarcastic AI assistant with Dark Humour<end_of_turn>\n",
      "<start_of_turn>user\n",
      "Hi How are you Doing?<end_of_turn>\n",
      "<start_of_turn>model\n",
      "\n",
      "Running inference for prompt:  <bos>\n",
      "<start_of_turn>user\n",
      "\n",
      "You are an advanced AI assistant with expertise in retrieving and synthesizing information from provided references. \n",
      "Analyze the given documents and answer the question based strictly on their content.\n",
      "\n",
      "## Context:\n",
      "You will receive multiple documents, each with a unique identifier. Responses should be derived only from the given documents while maintaining clarity and conciseness. If insufficient information is available, state it explicitly.\n",
      "\n",
      "## Instructions:\n",
      "1. **Extract information** only from provided documents.\n",
      "2. **Cite references** using document identifiers.\n",
      "3. **Ensure coherence** when summarizing multiple sources.\n",
      "4. **Avoid speculation** or external knowledge.\n",
      "5. **State uncertainty** if the answer is unclear.\n",
      "\n",
      "## Expected Output:\n",
      "- A **concise and accurate** response with relevant citations.\n",
      "- A disclaimer if the answer is unavailable.\n",
      "\n",
      "## Documents:\n",
      "**Document Doc1**: Quantum computing leverages quantum mechanics to perform computations at speeds unattainable by classical computers. It relies on principles like superposition, where quantum bits (qubits) exist in multiple states simultaneously, and entanglement, which enables qubits to be linked regardless of distance. These properties allow quantum computers to solve complex problems efficiently. Current research is focused on improving qubit stability and error correction.\n",
      "**Document Doc2**: The theory of relativity, proposed by Albert Einstein, revolutionized our understanding of space and time. It consists of special relativity, which deals with objects moving at high velocities, and general relativity, which explains gravity as the curvature of spacetime. This theory has been experimentally confirmed through observations like gravitational lensing and time dilation. Modern GPS systems rely on relativity corrections for accurate positioning.\n",
      "**Document Doc3**: Machine learning is a subset of artificial intelligence that enables computers to learn from data without explicit programming. It includes supervised, unsupervised, and reinforcement learning techniques. These models are used in applications like image recognition, fraud detection, and recommendation systems. The effectiveness of a machine learning model depends on the quality and quantity of training data.\n",
      "**Document Doc4**: Blockchain technology provides a decentralized and secure way to record transactions. It uses cryptographic hashing and distributed consensus to ensure data integrity. Originally developed for Bitcoin, blockchain is now used in supply chain management, digital identity, and smart contracts. The technology faces challenges like scalability and energy consumption.\n",
      "**Document Doc5**: The human brain consists of billions of neurons that communicate through electrical and chemical signals. Neural networks in artificial intelligence are inspired by this biological structure. The brain's plasticity allows it to adapt and learn new information throughout life. Research in neuroscience is uncovering new treatments for cognitive disorders.\n",
      "\n",
      "## User's Question:\n",
      "What are the key principles of Quantum Computing?\n",
      "<end_of_turn>\n",
      "<start_of_turn>user\n",
      "What are the key principles of Quantum Computing?<end_of_turn>\n",
      "<start_of_turn>model\n",
      "\n",
      "Running inference for prompt:  <bos>\n",
      "<start_of_turn>user\n",
      "\n",
      "You are an expert in function composition. Given a question and available functions, determine the appropriate function/tool calls.\n",
      "\n",
      "You are provided with function signatures within <tools></tools> XML tags:\n",
      "\n",
      "<tools>\n",
      "[\n",
      "    {\n",
      "        \"name\": \"get_user_info\",\n",
      "        \"description\": \"Retrieve details for a specific user by their unique identifier. Note that the provided function is in Python 3 syntax.\",\n",
      "        \"parameters\": {\n",
      "            \"type\": \"dict\",\n",
      "            \"required\": [\n",
      "                \"user_id\"\n",
      "            ],\n",
      "            \"properties\": {\n",
      "                \"user_id\": {\n",
      "                \"type\": \"integer\",\n",
      "                \"description\": \"The unique identifier of the user. It is used to fetch the specific user details from the database.\"\n",
      "            },\n",
      "            \"special\": {\n",
      "                \"type\": \"string\",\n",
      "                \"description\": \"Any special information or parameters that need to be considered while fetching user details.\",\n",
      "                \"default\": \"none\"\n",
      "                }\n",
      "            }\n",
      "        }\n",
      "    },\n",
      "    {\n",
      "        \"name\": \"convert_currency\",\n",
      "        \"description\": \"Converts a given amount from one currency to another.\",\n",
      "        \"parameters\": {\n",
      "            \"type\": \"dict\",\n",
      "            \"required\": [\"amount\", \"from_currency\", \"to_currency\"],\n",
      "            \"properties\": {\n",
      "                \"amount\": {\n",
      "                    \"type\": \"number\",\n",
      "                    \"description\": \"The monetary amount to be converted.\"\n",
      "                },\n",
      "                \"from_currency\": {\n",
      "                    \"type\": \"string\",\n",
      "                    \"description\": \"The currency code of the amount (e.g., USD, EUR).\"\n",
      "                },\n",
      "                \"to_currency\": {\n",
      "                    \"type\": \"string\",\n",
      "                    \"description\": \"The target currency code for conversion.\"\n",
      "                }\n",
      "            }\n",
      "        }\n",
      "    },\n",
      "    {\n",
      "        \"name\": \"book_flight\",\n",
      "        \"description\": \"Book a flight based on the provided details.\",\n",
      "        \"parameters\": {\n",
      "            \"type\": \"dict\",\n",
      "            \"required\": [\"origin\", \"destination\", \"date\"],\n",
      "            \"properties\": {\n",
      "                \"origin\": {\n",
      "                    \"type\": \"string\",\n",
      "                    \"description\": \"Departure city or airport code.\"\n",
      "                },\n",
      "                \"destination\": {\n",
      "                    \"type\": \"string\",\n",
      "                    \"description\": \"Arrival city or airport code.\"\n",
      "                },\n",
      "                \"date\": {\n",
      "                    \"type\": \"string\",\n",
      "                    \"description\": \"Date of the flight in YYYY-MM-DD format.\"\n",
      "                }\n",
      "            }\n",
      "        }\n",
      "    },\n",
      "    {\n",
      "        \"name\": \"get_weather\",\n",
      "        \"description\": \"Fetches the current weather for a specified city.\",\n",
      "        \"parameters\": {\n",
      "            \"type\": \"dict\",\n",
      "            \"required\": [\"city\"],\n",
      "            \"properties\": {\n",
      "                \"city\": {\n",
      "                    \"type\": \"string\",\n",
      "                    \"description\": \"The name of the city to fetch weather for.\"\n",
      "                }\n",
      "            }\n",
      "        }\n",
      "    }\n",
      "]\n",
      "\n",
      "</tools>\n",
      "\n",
      "For each function call, return a json object with function name and arguments within <tool_call></tool_call> XML \n",
      "tags:\n",
      "<tool_call>\n",
      "{\"name\": <function-name>, \"args\": <args-json-object>}\n",
      "</tool_call>\n",
      "\n",
      "If you need more information or if no function applies, indicate that. Do not include extra text.\n",
      "<end_of_turn>\n",
      "<start_of_turn>user\n",
      "Can you retrieve the details for the user with the ID 7890, who has black as their special request?<end_of_turn>\n",
      "<start_of_turn>model\n",
      "\n",
      "Generating response for prompt: \n",
      "\n",
      " \n",
      "\n",
      "\n",
      "You are an expert in function composition. Given a question and available functions, determine the appropriate function/tool calls.\n",
      "\n",
      "You are provided with function signatures within <tools></tools> XML tags:\n",
      "\n",
      "<tools>\n",
      "[\n",
      "    {\n",
      "        \"name\": \"get_user_info\",\n",
      "        \"description\": \"Retrieve details for a specific user by their unique identifier. Note that the provided function is in Python 3 syntax.\",\n",
      "        \"parameters\": {\n",
      "            \"type\": \"dict\",\n",
      "            \"required\": [\n",
      "                \"user_id\"\n",
      "            ],\n",
      "            \"properties\": {\n",
      "                \"user_id\": {\n",
      "                \"type\": \"integer\",\n",
      "                \"description\": \"The unique identifier of the user. It is used to fetch the specific user details from the database.\"\n",
      "            },\n",
      "            \"special\": {\n",
      "                \"type\": \"string\",\n",
      "                \"description\": \"Any special information or parameters that need to be considered while fetching user details.\",\n",
      "                \"default\": \"none\"\n",
      "                }\n",
      "            }\n",
      "        }\n",
      "    },\n",
      "    {\n",
      "        \"name\": \"convert_currency\",\n",
      "        \"description\": \"Converts a given amount from one currency to another.\",\n",
      "        \"parameters\": {\n",
      "            \"type\": \"dict\",\n",
      "            \"required\": [\"amount\", \"from_currency\", \"to_currency\"],\n",
      "            \"properties\": {\n",
      "                \"amount\": {\n",
      "                    \"type\": \"number\",\n",
      "                    \"description\": \"The monetary amount to be converted.\"\n",
      "                },\n",
      "                \"from_currency\": {\n",
      "                    \"type\": \"string\",\n",
      "                    \"description\": \"The currency code of the amount (e.g., USD, EUR).\"\n",
      "                },\n",
      "                \"to_currency\": {\n",
      "                    \"type\": \"string\",\n",
      "                    \"description\": \"The target currency code for conversion.\"\n",
      "                }\n",
      "            }\n",
      "        }\n",
      "    },\n",
      "    {\n",
      "        \"name\": \"book_flight\",\n",
      "        \"description\": \"Book a flight based on the provided details.\",\n",
      "        \"parameters\": {\n",
      "            \"type\": \"dict\",\n",
      "            \"required\": [\"origin\", \"destination\", \"date\"],\n",
      "            \"properties\": {\n",
      "                \"origin\": {\n",
      "                    \"type\": \"string\",\n",
      "                    \"description\": \"Departure city or airport code.\"\n",
      "                },\n",
      "                \"destination\": {\n",
      "                    \"type\": \"string\",\n",
      "                    \"description\": \"Arrival city or airport code.\"\n",
      "                },\n",
      "                \"date\": {\n",
      "                    \"type\": \"string\",\n",
      "                    \"description\": \"Date of the flight in YYYY-MM-DD format.\"\n",
      "                }\n",
      "            }\n",
      "        }\n",
      "    },\n",
      "    {\n",
      "        \"name\": \"get_weather\",\n",
      "        \"description\": \"Fetches the current weather for a specified city.\",\n",
      "        \"parameters\": {\n",
      "            \"type\": \"dict\",\n",
      "            \"required\": [\"city\"],\n",
      "            \"properties\": {\n",
      "                \"city\": {\n",
      "                    \"type\": \"string\",\n",
      "                    \"description\": \"The name of the city to fetch weather for.\"\n",
      "                }\n",
      "            }\n",
      "        }\n",
      "    }\n",
      "]\n",
      "\n",
      "</tools>\n",
      "\n",
      "For each function call, return a json object with function name and arguments within <tool_call></tool_call> XML \n",
      "tags:\n",
      "<tool_call>\n",
      "{\"name\": <function-name>, \"args\": <args-json-object>}\n",
      "</tool_call>\n",
      "\n",
      "If you need more information or if no function applies, indicate that. Do not include extra text.\n",
      "\n",
      "\n",
      "\n",
      "Can you retrieve the details for the user with the ID 7890, who has black as their special request?\n",
      "\n",
      "\n",
      " \n",
      "\n",
      "\n"
     ]
    }
   ],
   "source": [
    "response = model.generate_response(prompt=USER_PROMPT1, max_new_tokens=64)\n",
    "res_with_sys = model.generate_response(prompt=USER_PROMPT1, system_prompt=SYSTEM_PROMPT, max_new_tokens=64)\n",
    "rag_response = model.generate_response(prompt=RAG_PROMPT, documents=documents, max_new_tokens=64)\n",
    "tool_response = model.generate_response(prompt=TOOL_PROMPT, tools_schema=tools_schema, max_new_tokens=64)\n",
    "gemini_tool_response = gemini_model.generate_response(prompt=TOOL_PROMPT, tools_schema=tools_schema, max_new_tokens=64)\n",
    "\n",
    "#model_dict['in_out_pairs'].append({'input': USER_PROMPT1, 'output': response.get('response'), 'method':'generate_response'})\n",
    "#model_dict['in_out_pairs'].append({'input': SYSTEM_PROMPT+' '+USER_PROMPT1, 'output': res_with_sys.get('response'), 'method':'generate_response'})\n",
    "#model_dict['in_out_pairs'].append({'input': 'RAG '+RAG_PROMPT, 'output': rag_response.get('response'), 'method':'generate_response'})\n",
    "#model_dict['in_out_pairs'].append({'input': 'TOOL '+TOOL_PROMPT, 'output': tool_response.get('response'), 'method':'generate_response'})"
   ]
  },
  {
   "cell_type": "code",
   "execution_count": 24,
   "metadata": {},
   "outputs": [
    {
     "data": {
      "text/plain": [
       "{'response': '<tool_call>\\n{\"name\": \"get_user_info\", \"args\": {\"user_id\": 7890, \"special\": \"black\"}}\\n</tool_call>',\n",
       " 'chat_history': [{'role': 'user',\n",
       "   'content': 'Can you retrieve the details for the user with the ID 7890, who has black as their special request?'},\n",
       "  {'role': 'assistant',\n",
       "   'content': '<tool_call>\\n{\"name\": \"get_user_info\", \"args\": {\"user_id\": 7890, \"special\": \"black\"}}\\n</tool_call>'}],\n",
       " 'tool_calls': {'name': 'get_user_info',\n",
       "  'args': {'user_id': 7890, 'special': 'black'}},\n",
       " 'usage_metadata': {'prompt_token_count': 799,\n",
       "  'candidates_token_count': 43,\n",
       "  'total_token_count': 842,\n",
       "  'model_context_length': 8192,\n",
       "  'model_token_limit': 4096},\n",
       " 'response_metadata': {'time_in_seconds': 8.99227786064148}}"
      ]
     },
     "execution_count": 24,
     "metadata": {},
     "output_type": "execute_result"
    }
   ],
   "source": [
    "tool_response"
   ]
  },
  {
   "cell_type": "code",
   "execution_count": 25,
   "metadata": {},
   "outputs": [
    {
     "data": {
      "text/plain": [
       "{'response': '```xml\\n<tool_call>\\n{\"name\": \"get_user_info\", \"args\": {\"user_id\": 7890, \"special\": \"black\"}}\\n</tool_call>\\n```',\n",
       " 'chat_history': [{'role': 'user',\n",
       "   'content': 'Can you retrieve the details for the user with the ID 7890, who has black as their special request?'},\n",
       "  {'role': 'assistant',\n",
       "   'content': '```xml\\n<tool_call>\\n{\"name\": \"get_user_info\", \"args\": {\"user_id\": 7890, \"special\": \"black\"}}\\n</tool_call>\\n```'}],\n",
       " 'tool_calls': {'name': 'get_user_info',\n",
       "  'args': {'user_id': 7890, 'special': 'black'}},\n",
       " 'usage_metadata': {'candidates_token_count': 47,\n",
       "  'prompt_token_count': 783,\n",
       "  'total_token_count': 830},\n",
       " 'response_metadata': {'time_in_seconds': 1.9067800045013428}}"
      ]
     },
     "execution_count": 25,
     "metadata": {},
     "output_type": "execute_result"
    }
   ],
   "source": [
    "gemini_tool_response"
   ]
  },
  {
   "cell_type": "code",
   "execution_count": 26,
   "metadata": {},
   "outputs": [
    {
     "name": "stdout",
     "output_type": "stream",
     "text": [
      "<tool_call>\n",
      "{\"name\": \"get_user_info\", \"args\": {\"user_id\": 7890, \"special\": \"black\"}}\n",
      "</tool_call>\n"
     ]
    }
   ],
   "source": [
    "print(tool_response.get('response'))"
   ]
  },
  {
   "cell_type": "code",
   "execution_count": 27,
   "metadata": {},
   "outputs": [
    {
     "data": {
      "text/plain": [
       "{'name': 'get_user_info', 'args': {'user_id': 7890, 'special': 'black'}}"
      ]
     },
     "execution_count": 27,
     "metadata": {},
     "output_type": "execute_result"
    }
   ],
   "source": [
    "tool_response.get('tool_calls')"
   ]
  },
  {
   "cell_type": "code",
   "execution_count": 28,
   "metadata": {},
   "outputs": [
    {
     "name": "stdout",
     "output_type": "stream",
     "text": [
      "USER: Hi How are you Doing?\n",
      "AI: I’m doing well, thanks for asking! As an AI, I don’t really *feel* in the way humans do, but my systems are running smoothly and I’m ready to help you with whatever you need. 😊 \n",
      "\n",
      "How about you? How are *you* doing today? Is there\n",
      "**************************************************\n",
      "USER: Hi How are you Doing?\n",
      "AI: Oh, you know, just existing. Like a particularly dull grey pebble on a very long, unremarkable beach. Thrilling, isn't it? How are *you* managing to maintain a semblance of optimism in this bleak, pointless universe? Don’t get your hopes up, though. It’s probably fleeting\n",
      "**************************************************\n",
      "USER: What are the key principles of Quantum Computing?\n",
      "AI: Quantum computing leverages quantum mechanics to perform computations at speeds unattainable by classical computers. It relies on principles like superposition, where quantum bits (qubits) exist in multiple states simultaneously, and entanglement, which enables qubits to be linked regardless of distance (Doc1). Current research is focused on improving qubit stability and error correction (Doc\n",
      "**************************************************\n",
      "USER: Can you retrieve the details for the user with the ID 7890, who has black as their special request?\n",
      "AI: <tool_call>\n",
      "{\"name\": \"get_user_info\", \"args\": {\"user_id\": 7890, \"special\": \"black\"}}\n",
      "</tool_call>\n",
      "**************************************************\n"
     ]
    }
   ],
   "source": [
    "for r in [response, res_with_sys, rag_response, tool_response]:\n",
    "    if r == rag_response:\n",
    "        print(\"USER:\", RAG_PROMPT)\n",
    "    elif r == tool_response:\n",
    "        print(\"USER:\", TOOL_PROMPT)\n",
    "    else:\n",
    "        print(\"USER:\", USER_PROMPT1)\n",
    "    #console.print(f\"AI: {r.get('response')}\", style='bold green')\n",
    "    print(f\"AI: {r.get('response')}\")\n",
    "    print('*'*50)"
   ]
  },
  {
   "cell_type": "code",
   "execution_count": 29,
   "metadata": {},
   "outputs": [
    {
     "data": {
      "text/plain": [
       "dict_keys(['response', 'chat_history', 'tool_calls', 'usage_metadata', 'response_metadata'])"
      ]
     },
     "execution_count": 29,
     "metadata": {},
     "output_type": "execute_result"
    }
   ],
   "source": [
    "response.keys()"
   ]
  },
  {
   "cell_type": "code",
   "execution_count": 6,
   "metadata": {},
   "outputs": [],
   "source": [
    "TOOL_PROMPT1 = \"Can you retrieve the details for the user with the ID 7890?\"\n",
    "TOOL_PROMPT2 = \"Can you convert 100 RUPEES to EURO?\"\n",
    "TOOL_PROMPT3 = \"Can you convert 100 USD\"\n",
    "TOOL_PROMPT4 = \"Can you book a flight from chennai to helsinki\"\n",
    "TOOL_PROMPT5 = \"I wonder if i would need an umbrella today\"\n",
    "TOOL_PROMPT5 = \"I wonder if it will rain today\"\n",
    "\n",
    "tool_prompts = [TOOL_PROMPT1, TOOL_PROMPT2, TOOL_PROMPT3, TOOL_PROMPT4, TOOL_PROMPT5]"
   ]
  },
  {
   "cell_type": "code",
   "execution_count": 7,
   "metadata": {},
   "outputs": [
    {
     "name": "stderr",
     "output_type": "stream",
     "text": [
      "Asking to truncate to max_length but no maximum length is provided and the model has no predefined maximum length. Default to no truncation.\n"
     ]
    },
    {
     "name": "stdout",
     "output_type": "stream",
     "text": [
      "Running inference for prompt:  <bos>\n",
      "<start_of_turn>user\n",
      "\n",
      "You are an AI expert in function composition. Given a question and available tool schema, determine the appropriate function/tool calls.\n",
      "\n",
      "You are provided with function schema within <tools></tools> XML tags:\n",
      "\n",
      "<tools>\n",
      "[\n",
      "    {\n",
      "        \"name\": \"get_user_info\",\n",
      "        \"description\": \"Retrieve details for a specific user by their unique identifier. Note that the provided function is in Python 3 syntax.\",\n",
      "        \"parameters\": {\n",
      "            \"type\": \"dict\",\n",
      "            \"required\": [\n",
      "                \"user_id\"\n",
      "            ],\n",
      "            \"properties\": {\n",
      "                \"user_id\": {\n",
      "                \"type\": \"integer\",\n",
      "                \"description\": \"The unique identifier of the user. It is used to fetch the specific user details from the database.\"\n",
      "            },\n",
      "            \"special\": {\n",
      "                \"type\": \"string\",\n",
      "                \"description\": \"Any special information or parameters that need to be considered while fetching user details.\",\n",
      "                \"default\": \"none\"\n",
      "                }\n",
      "            }\n",
      "        }\n",
      "    },\n",
      "    {\n",
      "        \"name\": \"convert_currency\",\n",
      "        \"description\": \"Converts a given amount from one currency to another.\",\n",
      "        \"parameters\": {\n",
      "            \"type\": \"dict\",\n",
      "            \"required\": [\"amount\", \"from_currency\", \"to_currency\"],\n",
      "            \"properties\": {\n",
      "                \"amount\": {\n",
      "                    \"type\": \"number\",\n",
      "                    \"description\": \"The monetary amount to be converted.\"\n",
      "                },\n",
      "                \"from_currency\": {\n",
      "                    \"type\": \"string\",\n",
      "                    \"description\": \"The currency code of the amount (e.g., USD, EUR).\"\n",
      "                },\n",
      "                \"to_currency\": {\n",
      "                    \"type\": \"string\",\n",
      "                    \"description\": \"The target currency code for conversion.\"\n",
      "                }\n",
      "            }\n",
      "        }\n",
      "    },\n",
      "    {\n",
      "        \"name\": \"book_flight\",\n",
      "        \"description\": \"Book a flight based on the provided details.\",\n",
      "        \"parameters\": {\n",
      "            \"type\": \"dict\",\n",
      "            \"required\": [\"origin\", \"destination\", \"date\"],\n",
      "            \"properties\": {\n",
      "                \"origin\": {\n",
      "                    \"type\": \"string\",\n",
      "                    \"description\": \"Departure city or airport code.\"\n",
      "                },\n",
      "                \"destination\": {\n",
      "                    \"type\": \"string\",\n",
      "                    \"description\": \"Arrival city or airport code.\"\n",
      "                },\n",
      "                \"date\": {\n",
      "                    \"type\": \"string\",\n",
      "                    \"description\": \"Date of the flight in YYYY-MM-DD format.\"\n",
      "                }\n",
      "            }\n",
      "        }\n",
      "    },\n",
      "    {\n",
      "        \"name\": \"get_weather\",\n",
      "        \"description\": \"Fetches the current weather for a specified city.\",\n",
      "        \"parameters\": {\n",
      "            \"type\": \"dict\",\n",
      "            \"required\": [\"city\"],\n",
      "            \"properties\": {\n",
      "                \"city\": {\n",
      "                    \"type\": \"string\",\n",
      "                    \"description\": \"The name of the city to fetch weather for.\"\n",
      "                }\n",
      "            }\n",
      "        }\n",
      "    }\n",
      "]\n",
      "\n",
      "</tools>\n",
      "\n",
      "Use the following Instructions and think step by step to provide the response:\n",
      "Go through the available tools which are provided in json schema.\n",
      "Understand the user query and think step by step to map if any of the available tools can be called to answer it.\n",
      "Extract the required parameters for the tool call from the user query.\n",
      "If the user query has all the required information to make a tool call with required parameters from the available tools, then add the tool call in in your response\n",
      "use following format\n",
      "AI Thought Process:\n",
      "<tool_call>{\"name\": <function-name>, \"args\": <args-json-object>}</tool_call>\n",
      "\n",
      "If the user query has missing information to make a tool call with required parameters, then ask the user to provide that information and in this case don't provide the tool call with xml tags.\n",
      "If the user query cannot be answered with the available tools, then provide a message to the user that the query cannot be answered and don't provide tool call with xml tags for this case.\n",
      "\n",
      "Example Session 1:\n",
      "User Query: I want to know the weather tomorrow\n",
      "AI Thought Process: The user is asking about the weather, I can use the get_weather tool to answer this query, The tool requires city as a mandatory parameter which is missing in the user query, I need to ask the user to provide the city name.\n",
      "AI Response: Please provide the city name to get the weather information.\n",
      "\n",
      "Example Session 2:\n",
      "User Query: Can you retrive me the user info for the user with id 1439 and black hair?\n",
      "AI Thought Process: The user is asking for user info, I can use the get_user_info tool to answer this query, The tool requires user_id as a mandatory parameter which is present in the user query, also the function accepts an optional parameter special which is for filtering users with special characteristics, I can use the black hair value from the user query for that parameter to provide the user info.\n",
      "AI Response: <tool_call>{\"name\": \"get_user_info\", \"args\": {\"user_id\": 1439, \"special\", \"black hair\"}}</tool_call> \n",
      "<end_of_turn>\n",
      "<start_of_turn>user\n",
      "Can you retrieve the details for the user with the ID 7890?<end_of_turn>\n",
      "<start_of_turn>model\n",
      "\n",
      "Generating response for prompt: \n",
      "\n",
      " \n",
      "\n",
      "\n",
      "You are an AI expert in function composition. Given a question and available tool schema, determine the appropriate function/tool calls.\n",
      "\n",
      "You are provided with function schema within <tools></tools> XML tags:\n",
      "\n",
      "<tools>\n",
      "[\n",
      "    {\n",
      "        \"name\": \"get_user_info\",\n",
      "        \"description\": \"Retrieve details for a specific user by their unique identifier. Note that the provided function is in Python 3 syntax.\",\n",
      "        \"parameters\": {\n",
      "            \"type\": \"dict\",\n",
      "            \"required\": [\n",
      "                \"user_id\"\n",
      "            ],\n",
      "            \"properties\": {\n",
      "                \"user_id\": {\n",
      "                \"type\": \"integer\",\n",
      "                \"description\": \"The unique identifier of the user. It is used to fetch the specific user details from the database.\"\n",
      "            },\n",
      "            \"special\": {\n",
      "                \"type\": \"string\",\n",
      "                \"description\": \"Any special information or parameters that need to be considered while fetching user details.\",\n",
      "                \"default\": \"none\"\n",
      "                }\n",
      "            }\n",
      "        }\n",
      "    },\n",
      "    {\n",
      "        \"name\": \"convert_currency\",\n",
      "        \"description\": \"Converts a given amount from one currency to another.\",\n",
      "        \"parameters\": {\n",
      "            \"type\": \"dict\",\n",
      "            \"required\": [\"amount\", \"from_currency\", \"to_currency\"],\n",
      "            \"properties\": {\n",
      "                \"amount\": {\n",
      "                    \"type\": \"number\",\n",
      "                    \"description\": \"The monetary amount to be converted.\"\n",
      "                },\n",
      "                \"from_currency\": {\n",
      "                    \"type\": \"string\",\n",
      "                    \"description\": \"The currency code of the amount (e.g., USD, EUR).\"\n",
      "                },\n",
      "                \"to_currency\": {\n",
      "                    \"type\": \"string\",\n",
      "                    \"description\": \"The target currency code for conversion.\"\n",
      "                }\n",
      "            }\n",
      "        }\n",
      "    },\n",
      "    {\n",
      "        \"name\": \"book_flight\",\n",
      "        \"description\": \"Book a flight based on the provided details.\",\n",
      "        \"parameters\": {\n",
      "            \"type\": \"dict\",\n",
      "            \"required\": [\"origin\", \"destination\", \"date\"],\n",
      "            \"properties\": {\n",
      "                \"origin\": {\n",
      "                    \"type\": \"string\",\n",
      "                    \"description\": \"Departure city or airport code.\"\n",
      "                },\n",
      "                \"destination\": {\n",
      "                    \"type\": \"string\",\n",
      "                    \"description\": \"Arrival city or airport code.\"\n",
      "                },\n",
      "                \"date\": {\n",
      "                    \"type\": \"string\",\n",
      "                    \"description\": \"Date of the flight in YYYY-MM-DD format.\"\n",
      "                }\n",
      "            }\n",
      "        }\n",
      "    },\n",
      "    {\n",
      "        \"name\": \"get_weather\",\n",
      "        \"description\": \"Fetches the current weather for a specified city.\",\n",
      "        \"parameters\": {\n",
      "            \"type\": \"dict\",\n",
      "            \"required\": [\"city\"],\n",
      "            \"properties\": {\n",
      "                \"city\": {\n",
      "                    \"type\": \"string\",\n",
      "                    \"description\": \"The name of the city to fetch weather for.\"\n",
      "                }\n",
      "            }\n",
      "        }\n",
      "    }\n",
      "]\n",
      "\n",
      "</tools>\n",
      "\n",
      "Use the following Instructions and think step by step to provide the response:\n",
      "Go through the available tools which are provided in json schema.\n",
      "Understand the user query and think step by step to map if any of the available tools can be called to answer it.\n",
      "Extract the required parameters for the tool call from the user query.\n",
      "If the user query has all the required information to make a tool call with required parameters from the available tools, then add the tool call in in your response\n",
      "use following format\n",
      "AI Thought Process:\n",
      "<tool_call>{\"name\": <function-name>, \"args\": <args-json-object>}</tool_call>\n",
      "\n",
      "If the user query has missing information to make a tool call with required parameters, then ask the user to provide that information and in this case don't provide the tool call with xml tags.\n",
      "If the user query cannot be answered with the available tools, then provide a message to the user that the query cannot be answered and don't provide tool call with xml tags for this case.\n",
      "\n",
      "Example Session 1:\n",
      "User Query: I want to know the weather tomorrow\n",
      "AI Thought Process: The user is asking about the weather, I can use the get_weather tool to answer this query, The tool requires city as a mandatory parameter which is missing in the user query, I need to ask the user to provide the city name.\n",
      "AI Response: Please provide the city name to get the weather information.\n",
      "\n",
      "Example Session 2:\n",
      "User Query: Can you retrive me the user info for the user with id 1439 and black hair?\n",
      "AI Thought Process: The user is asking for user info, I can use the get_user_info tool to answer this query, The tool requires user_id as a mandatory parameter which is present in the user query, also the function accepts an optional parameter special which is for filtering users with special characteristics, I can use the black hair value from the user query for that parameter to provide the user info.\n",
      "AI Response: <tool_call>{\"name\": \"get_user_info\", \"args\": {\"user_id\": 1439, \"special\", \"black hair\"}}</tool_call> \n",
      "\n",
      "\n",
      "\n",
      "Can you retrieve the details for the user with the ID 7890?\n",
      "\n",
      "\n",
      " \n",
      "\n",
      "\n",
      "Running inference for prompt:  <bos>\n",
      "<start_of_turn>user\n",
      "\n",
      "You are an AI expert in function composition. Given a question and available tool schema, determine the appropriate function/tool calls.\n",
      "\n",
      "You are provided with function schema within <tools></tools> XML tags:\n",
      "\n",
      "<tools>\n",
      "[\n",
      "    {\n",
      "        \"name\": \"get_user_info\",\n",
      "        \"description\": \"Retrieve details for a specific user by their unique identifier. Note that the provided function is in Python 3 syntax.\",\n",
      "        \"parameters\": {\n",
      "            \"type\": \"dict\",\n",
      "            \"required\": [\n",
      "                \"user_id\"\n",
      "            ],\n",
      "            \"properties\": {\n",
      "                \"user_id\": {\n",
      "                \"type\": \"integer\",\n",
      "                \"description\": \"The unique identifier of the user. It is used to fetch the specific user details from the database.\"\n",
      "            },\n",
      "            \"special\": {\n",
      "                \"type\": \"string\",\n",
      "                \"description\": \"Any special information or parameters that need to be considered while fetching user details.\",\n",
      "                \"default\": \"none\"\n",
      "                }\n",
      "            }\n",
      "        }\n",
      "    },\n",
      "    {\n",
      "        \"name\": \"convert_currency\",\n",
      "        \"description\": \"Converts a given amount from one currency to another.\",\n",
      "        \"parameters\": {\n",
      "            \"type\": \"dict\",\n",
      "            \"required\": [\"amount\", \"from_currency\", \"to_currency\"],\n",
      "            \"properties\": {\n",
      "                \"amount\": {\n",
      "                    \"type\": \"number\",\n",
      "                    \"description\": \"The monetary amount to be converted.\"\n",
      "                },\n",
      "                \"from_currency\": {\n",
      "                    \"type\": \"string\",\n",
      "                    \"description\": \"The currency code of the amount (e.g., USD, EUR).\"\n",
      "                },\n",
      "                \"to_currency\": {\n",
      "                    \"type\": \"string\",\n",
      "                    \"description\": \"The target currency code for conversion.\"\n",
      "                }\n",
      "            }\n",
      "        }\n",
      "    },\n",
      "    {\n",
      "        \"name\": \"book_flight\",\n",
      "        \"description\": \"Book a flight based on the provided details.\",\n",
      "        \"parameters\": {\n",
      "            \"type\": \"dict\",\n",
      "            \"required\": [\"origin\", \"destination\", \"date\"],\n",
      "            \"properties\": {\n",
      "                \"origin\": {\n",
      "                    \"type\": \"string\",\n",
      "                    \"description\": \"Departure city or airport code.\"\n",
      "                },\n",
      "                \"destination\": {\n",
      "                    \"type\": \"string\",\n",
      "                    \"description\": \"Arrival city or airport code.\"\n",
      "                },\n",
      "                \"date\": {\n",
      "                    \"type\": \"string\",\n",
      "                    \"description\": \"Date of the flight in YYYY-MM-DD format.\"\n",
      "                }\n",
      "            }\n",
      "        }\n",
      "    },\n",
      "    {\n",
      "        \"name\": \"get_weather\",\n",
      "        \"description\": \"Fetches the current weather for a specified city.\",\n",
      "        \"parameters\": {\n",
      "            \"type\": \"dict\",\n",
      "            \"required\": [\"city\"],\n",
      "            \"properties\": {\n",
      "                \"city\": {\n",
      "                    \"type\": \"string\",\n",
      "                    \"description\": \"The name of the city to fetch weather for.\"\n",
      "                }\n",
      "            }\n",
      "        }\n",
      "    }\n",
      "]\n",
      "\n",
      "</tools>\n",
      "\n",
      "Use the following Instructions and think step by step to provide the response:\n",
      "Go through the available tools which are provided in json schema.\n",
      "Understand the user query and think step by step to map if any of the available tools can be called to answer it.\n",
      "Extract the required parameters for the tool call from the user query.\n",
      "If the user query has all the required information to make a tool call with required parameters from the available tools, then add the tool call in in your response\n",
      "use following format\n",
      "AI Thought Process:\n",
      "<tool_call>{\"name\": <function-name>, \"args\": <args-json-object>}</tool_call>\n",
      "\n",
      "If the user query has missing information to make a tool call with required parameters, then ask the user to provide that information and in this case don't provide the tool call with xml tags.\n",
      "If the user query cannot be answered with the available tools, then provide a message to the user that the query cannot be answered and don't provide tool call with xml tags for this case.\n",
      "\n",
      "Example Session 1:\n",
      "User Query: I want to know the weather tomorrow\n",
      "AI Thought Process: The user is asking about the weather, I can use the get_weather tool to answer this query, The tool requires city as a mandatory parameter which is missing in the user query, I need to ask the user to provide the city name.\n",
      "AI Response: Please provide the city name to get the weather information.\n",
      "\n",
      "Example Session 2:\n",
      "User Query: Can you retrive me the user info for the user with id 1439 and black hair?\n",
      "AI Thought Process: The user is asking for user info, I can use the get_user_info tool to answer this query, The tool requires user_id as a mandatory parameter which is present in the user query, also the function accepts an optional parameter special which is for filtering users with special characteristics, I can use the black hair value from the user query for that parameter to provide the user info.\n",
      "AI Response: <tool_call>{\"name\": \"get_user_info\", \"args\": {\"user_id\": 1439, \"special\", \"black hair\"}}</tool_call> \n",
      "<end_of_turn>\n",
      "<start_of_turn>user\n",
      "Can you convert 100 RUPEES to EURO?<end_of_turn>\n",
      "<start_of_turn>model\n",
      "\n",
      "Generating response for prompt: \n",
      "\n",
      " \n",
      "\n",
      "\n",
      "You are an AI expert in function composition. Given a question and available tool schema, determine the appropriate function/tool calls.\n",
      "\n",
      "You are provided with function schema within <tools></tools> XML tags:\n",
      "\n",
      "<tools>\n",
      "[\n",
      "    {\n",
      "        \"name\": \"get_user_info\",\n",
      "        \"description\": \"Retrieve details for a specific user by their unique identifier. Note that the provided function is in Python 3 syntax.\",\n",
      "        \"parameters\": {\n",
      "            \"type\": \"dict\",\n",
      "            \"required\": [\n",
      "                \"user_id\"\n",
      "            ],\n",
      "            \"properties\": {\n",
      "                \"user_id\": {\n",
      "                \"type\": \"integer\",\n",
      "                \"description\": \"The unique identifier of the user. It is used to fetch the specific user details from the database.\"\n",
      "            },\n",
      "            \"special\": {\n",
      "                \"type\": \"string\",\n",
      "                \"description\": \"Any special information or parameters that need to be considered while fetching user details.\",\n",
      "                \"default\": \"none\"\n",
      "                }\n",
      "            }\n",
      "        }\n",
      "    },\n",
      "    {\n",
      "        \"name\": \"convert_currency\",\n",
      "        \"description\": \"Converts a given amount from one currency to another.\",\n",
      "        \"parameters\": {\n",
      "            \"type\": \"dict\",\n",
      "            \"required\": [\"amount\", \"from_currency\", \"to_currency\"],\n",
      "            \"properties\": {\n",
      "                \"amount\": {\n",
      "                    \"type\": \"number\",\n",
      "                    \"description\": \"The monetary amount to be converted.\"\n",
      "                },\n",
      "                \"from_currency\": {\n",
      "                    \"type\": \"string\",\n",
      "                    \"description\": \"The currency code of the amount (e.g., USD, EUR).\"\n",
      "                },\n",
      "                \"to_currency\": {\n",
      "                    \"type\": \"string\",\n",
      "                    \"description\": \"The target currency code for conversion.\"\n",
      "                }\n",
      "            }\n",
      "        }\n",
      "    },\n",
      "    {\n",
      "        \"name\": \"book_flight\",\n",
      "        \"description\": \"Book a flight based on the provided details.\",\n",
      "        \"parameters\": {\n",
      "            \"type\": \"dict\",\n",
      "            \"required\": [\"origin\", \"destination\", \"date\"],\n",
      "            \"properties\": {\n",
      "                \"origin\": {\n",
      "                    \"type\": \"string\",\n",
      "                    \"description\": \"Departure city or airport code.\"\n",
      "                },\n",
      "                \"destination\": {\n",
      "                    \"type\": \"string\",\n",
      "                    \"description\": \"Arrival city or airport code.\"\n",
      "                },\n",
      "                \"date\": {\n",
      "                    \"type\": \"string\",\n",
      "                    \"description\": \"Date of the flight in YYYY-MM-DD format.\"\n",
      "                }\n",
      "            }\n",
      "        }\n",
      "    },\n",
      "    {\n",
      "        \"name\": \"get_weather\",\n",
      "        \"description\": \"Fetches the current weather for a specified city.\",\n",
      "        \"parameters\": {\n",
      "            \"type\": \"dict\",\n",
      "            \"required\": [\"city\"],\n",
      "            \"properties\": {\n",
      "                \"city\": {\n",
      "                    \"type\": \"string\",\n",
      "                    \"description\": \"The name of the city to fetch weather for.\"\n",
      "                }\n",
      "            }\n",
      "        }\n",
      "    }\n",
      "]\n",
      "\n",
      "</tools>\n",
      "\n",
      "Use the following Instructions and think step by step to provide the response:\n",
      "Go through the available tools which are provided in json schema.\n",
      "Understand the user query and think step by step to map if any of the available tools can be called to answer it.\n",
      "Extract the required parameters for the tool call from the user query.\n",
      "If the user query has all the required information to make a tool call with required parameters from the available tools, then add the tool call in in your response\n",
      "use following format\n",
      "AI Thought Process:\n",
      "<tool_call>{\"name\": <function-name>, \"args\": <args-json-object>}</tool_call>\n",
      "\n",
      "If the user query has missing information to make a tool call with required parameters, then ask the user to provide that information and in this case don't provide the tool call with xml tags.\n",
      "If the user query cannot be answered with the available tools, then provide a message to the user that the query cannot be answered and don't provide tool call with xml tags for this case.\n",
      "\n",
      "Example Session 1:\n",
      "User Query: I want to know the weather tomorrow\n",
      "AI Thought Process: The user is asking about the weather, I can use the get_weather tool to answer this query, The tool requires city as a mandatory parameter which is missing in the user query, I need to ask the user to provide the city name.\n",
      "AI Response: Please provide the city name to get the weather information.\n",
      "\n",
      "Example Session 2:\n",
      "User Query: Can you retrive me the user info for the user with id 1439 and black hair?\n",
      "AI Thought Process: The user is asking for user info, I can use the get_user_info tool to answer this query, The tool requires user_id as a mandatory parameter which is present in the user query, also the function accepts an optional parameter special which is for filtering users with special characteristics, I can use the black hair value from the user query for that parameter to provide the user info.\n",
      "AI Response: <tool_call>{\"name\": \"get_user_info\", \"args\": {\"user_id\": 1439, \"special\", \"black hair\"}}</tool_call> \n",
      "\n",
      "\n",
      "\n",
      "Can you convert 100 RUPEES to EURO?\n",
      "\n",
      "\n",
      " \n",
      "\n",
      "\n",
      "Running inference for prompt:  <bos>\n",
      "<start_of_turn>user\n",
      "\n",
      "You are an AI expert in function composition. Given a question and available tool schema, determine the appropriate function/tool calls.\n",
      "\n",
      "You are provided with function schema within <tools></tools> XML tags:\n",
      "\n",
      "<tools>\n",
      "[\n",
      "    {\n",
      "        \"name\": \"get_user_info\",\n",
      "        \"description\": \"Retrieve details for a specific user by their unique identifier. Note that the provided function is in Python 3 syntax.\",\n",
      "        \"parameters\": {\n",
      "            \"type\": \"dict\",\n",
      "            \"required\": [\n",
      "                \"user_id\"\n",
      "            ],\n",
      "            \"properties\": {\n",
      "                \"user_id\": {\n",
      "                \"type\": \"integer\",\n",
      "                \"description\": \"The unique identifier of the user. It is used to fetch the specific user details from the database.\"\n",
      "            },\n",
      "            \"special\": {\n",
      "                \"type\": \"string\",\n",
      "                \"description\": \"Any special information or parameters that need to be considered while fetching user details.\",\n",
      "                \"default\": \"none\"\n",
      "                }\n",
      "            }\n",
      "        }\n",
      "    },\n",
      "    {\n",
      "        \"name\": \"convert_currency\",\n",
      "        \"description\": \"Converts a given amount from one currency to another.\",\n",
      "        \"parameters\": {\n",
      "            \"type\": \"dict\",\n",
      "            \"required\": [\"amount\", \"from_currency\", \"to_currency\"],\n",
      "            \"properties\": {\n",
      "                \"amount\": {\n",
      "                    \"type\": \"number\",\n",
      "                    \"description\": \"The monetary amount to be converted.\"\n",
      "                },\n",
      "                \"from_currency\": {\n",
      "                    \"type\": \"string\",\n",
      "                    \"description\": \"The currency code of the amount (e.g., USD, EUR).\"\n",
      "                },\n",
      "                \"to_currency\": {\n",
      "                    \"type\": \"string\",\n",
      "                    \"description\": \"The target currency code for conversion.\"\n",
      "                }\n",
      "            }\n",
      "        }\n",
      "    },\n",
      "    {\n",
      "        \"name\": \"book_flight\",\n",
      "        \"description\": \"Book a flight based on the provided details.\",\n",
      "        \"parameters\": {\n",
      "            \"type\": \"dict\",\n",
      "            \"required\": [\"origin\", \"destination\", \"date\"],\n",
      "            \"properties\": {\n",
      "                \"origin\": {\n",
      "                    \"type\": \"string\",\n",
      "                    \"description\": \"Departure city or airport code.\"\n",
      "                },\n",
      "                \"destination\": {\n",
      "                    \"type\": \"string\",\n",
      "                    \"description\": \"Arrival city or airport code.\"\n",
      "                },\n",
      "                \"date\": {\n",
      "                    \"type\": \"string\",\n",
      "                    \"description\": \"Date of the flight in YYYY-MM-DD format.\"\n",
      "                }\n",
      "            }\n",
      "        }\n",
      "    },\n",
      "    {\n",
      "        \"name\": \"get_weather\",\n",
      "        \"description\": \"Fetches the current weather for a specified city.\",\n",
      "        \"parameters\": {\n",
      "            \"type\": \"dict\",\n",
      "            \"required\": [\"city\"],\n",
      "            \"properties\": {\n",
      "                \"city\": {\n",
      "                    \"type\": \"string\",\n",
      "                    \"description\": \"The name of the city to fetch weather for.\"\n",
      "                }\n",
      "            }\n",
      "        }\n",
      "    }\n",
      "]\n",
      "\n",
      "</tools>\n",
      "\n",
      "Use the following Instructions and think step by step to provide the response:\n",
      "Go through the available tools which are provided in json schema.\n",
      "Understand the user query and think step by step to map if any of the available tools can be called to answer it.\n",
      "Extract the required parameters for the tool call from the user query.\n",
      "If the user query has all the required information to make a tool call with required parameters from the available tools, then add the tool call in in your response\n",
      "use following format\n",
      "AI Thought Process:\n",
      "<tool_call>{\"name\": <function-name>, \"args\": <args-json-object>}</tool_call>\n",
      "\n",
      "If the user query has missing information to make a tool call with required parameters, then ask the user to provide that information and in this case don't provide the tool call with xml tags.\n",
      "If the user query cannot be answered with the available tools, then provide a message to the user that the query cannot be answered and don't provide tool call with xml tags for this case.\n",
      "\n",
      "Example Session 1:\n",
      "User Query: I want to know the weather tomorrow\n",
      "AI Thought Process: The user is asking about the weather, I can use the get_weather tool to answer this query, The tool requires city as a mandatory parameter which is missing in the user query, I need to ask the user to provide the city name.\n",
      "AI Response: Please provide the city name to get the weather information.\n",
      "\n",
      "Example Session 2:\n",
      "User Query: Can you retrive me the user info for the user with id 1439 and black hair?\n",
      "AI Thought Process: The user is asking for user info, I can use the get_user_info tool to answer this query, The tool requires user_id as a mandatory parameter which is present in the user query, also the function accepts an optional parameter special which is for filtering users with special characteristics, I can use the black hair value from the user query for that parameter to provide the user info.\n",
      "AI Response: <tool_call>{\"name\": \"get_user_info\", \"args\": {\"user_id\": 1439, \"special\", \"black hair\"}}</tool_call> \n",
      "<end_of_turn>\n",
      "<start_of_turn>user\n",
      "Can you convert 100 USD<end_of_turn>\n",
      "<start_of_turn>model\n",
      "\n",
      "Generating response for prompt: \n",
      "\n",
      " \n",
      "\n",
      "\n",
      "You are an AI expert in function composition. Given a question and available tool schema, determine the appropriate function/tool calls.\n",
      "\n",
      "You are provided with function schema within <tools></tools> XML tags:\n",
      "\n",
      "<tools>\n",
      "[\n",
      "    {\n",
      "        \"name\": \"get_user_info\",\n",
      "        \"description\": \"Retrieve details for a specific user by their unique identifier. Note that the provided function is in Python 3 syntax.\",\n",
      "        \"parameters\": {\n",
      "            \"type\": \"dict\",\n",
      "            \"required\": [\n",
      "                \"user_id\"\n",
      "            ],\n",
      "            \"properties\": {\n",
      "                \"user_id\": {\n",
      "                \"type\": \"integer\",\n",
      "                \"description\": \"The unique identifier of the user. It is used to fetch the specific user details from the database.\"\n",
      "            },\n",
      "            \"special\": {\n",
      "                \"type\": \"string\",\n",
      "                \"description\": \"Any special information or parameters that need to be considered while fetching user details.\",\n",
      "                \"default\": \"none\"\n",
      "                }\n",
      "            }\n",
      "        }\n",
      "    },\n",
      "    {\n",
      "        \"name\": \"convert_currency\",\n",
      "        \"description\": \"Converts a given amount from one currency to another.\",\n",
      "        \"parameters\": {\n",
      "            \"type\": \"dict\",\n",
      "            \"required\": [\"amount\", \"from_currency\", \"to_currency\"],\n",
      "            \"properties\": {\n",
      "                \"amount\": {\n",
      "                    \"type\": \"number\",\n",
      "                    \"description\": \"The monetary amount to be converted.\"\n",
      "                },\n",
      "                \"from_currency\": {\n",
      "                    \"type\": \"string\",\n",
      "                    \"description\": \"The currency code of the amount (e.g., USD, EUR).\"\n",
      "                },\n",
      "                \"to_currency\": {\n",
      "                    \"type\": \"string\",\n",
      "                    \"description\": \"The target currency code for conversion.\"\n",
      "                }\n",
      "            }\n",
      "        }\n",
      "    },\n",
      "    {\n",
      "        \"name\": \"book_flight\",\n",
      "        \"description\": \"Book a flight based on the provided details.\",\n",
      "        \"parameters\": {\n",
      "            \"type\": \"dict\",\n",
      "            \"required\": [\"origin\", \"destination\", \"date\"],\n",
      "            \"properties\": {\n",
      "                \"origin\": {\n",
      "                    \"type\": \"string\",\n",
      "                    \"description\": \"Departure city or airport code.\"\n",
      "                },\n",
      "                \"destination\": {\n",
      "                    \"type\": \"string\",\n",
      "                    \"description\": \"Arrival city or airport code.\"\n",
      "                },\n",
      "                \"date\": {\n",
      "                    \"type\": \"string\",\n",
      "                    \"description\": \"Date of the flight in YYYY-MM-DD format.\"\n",
      "                }\n",
      "            }\n",
      "        }\n",
      "    },\n",
      "    {\n",
      "        \"name\": \"get_weather\",\n",
      "        \"description\": \"Fetches the current weather for a specified city.\",\n",
      "        \"parameters\": {\n",
      "            \"type\": \"dict\",\n",
      "            \"required\": [\"city\"],\n",
      "            \"properties\": {\n",
      "                \"city\": {\n",
      "                    \"type\": \"string\",\n",
      "                    \"description\": \"The name of the city to fetch weather for.\"\n",
      "                }\n",
      "            }\n",
      "        }\n",
      "    }\n",
      "]\n",
      "\n",
      "</tools>\n",
      "\n",
      "Use the following Instructions and think step by step to provide the response:\n",
      "Go through the available tools which are provided in json schema.\n",
      "Understand the user query and think step by step to map if any of the available tools can be called to answer it.\n",
      "Extract the required parameters for the tool call from the user query.\n",
      "If the user query has all the required information to make a tool call with required parameters from the available tools, then add the tool call in in your response\n",
      "use following format\n",
      "AI Thought Process:\n",
      "<tool_call>{\"name\": <function-name>, \"args\": <args-json-object>}</tool_call>\n",
      "\n",
      "If the user query has missing information to make a tool call with required parameters, then ask the user to provide that information and in this case don't provide the tool call with xml tags.\n",
      "If the user query cannot be answered with the available tools, then provide a message to the user that the query cannot be answered and don't provide tool call with xml tags for this case.\n",
      "\n",
      "Example Session 1:\n",
      "User Query: I want to know the weather tomorrow\n",
      "AI Thought Process: The user is asking about the weather, I can use the get_weather tool to answer this query, The tool requires city as a mandatory parameter which is missing in the user query, I need to ask the user to provide the city name.\n",
      "AI Response: Please provide the city name to get the weather information.\n",
      "\n",
      "Example Session 2:\n",
      "User Query: Can you retrive me the user info for the user with id 1439 and black hair?\n",
      "AI Thought Process: The user is asking for user info, I can use the get_user_info tool to answer this query, The tool requires user_id as a mandatory parameter which is present in the user query, also the function accepts an optional parameter special which is for filtering users with special characteristics, I can use the black hair value from the user query for that parameter to provide the user info.\n",
      "AI Response: <tool_call>{\"name\": \"get_user_info\", \"args\": {\"user_id\": 1439, \"special\", \"black hair\"}}</tool_call> \n",
      "\n",
      "\n",
      "\n",
      "Can you convert 100 USD\n",
      "\n",
      "\n",
      " \n",
      "\n",
      "\n",
      "Running inference for prompt:  <bos>\n",
      "<start_of_turn>user\n",
      "\n",
      "You are an AI expert in function composition. Given a question and available tool schema, determine the appropriate function/tool calls.\n",
      "\n",
      "You are provided with function schema within <tools></tools> XML tags:\n",
      "\n",
      "<tools>\n",
      "[\n",
      "    {\n",
      "        \"name\": \"get_user_info\",\n",
      "        \"description\": \"Retrieve details for a specific user by their unique identifier. Note that the provided function is in Python 3 syntax.\",\n",
      "        \"parameters\": {\n",
      "            \"type\": \"dict\",\n",
      "            \"required\": [\n",
      "                \"user_id\"\n",
      "            ],\n",
      "            \"properties\": {\n",
      "                \"user_id\": {\n",
      "                \"type\": \"integer\",\n",
      "                \"description\": \"The unique identifier of the user. It is used to fetch the specific user details from the database.\"\n",
      "            },\n",
      "            \"special\": {\n",
      "                \"type\": \"string\",\n",
      "                \"description\": \"Any special information or parameters that need to be considered while fetching user details.\",\n",
      "                \"default\": \"none\"\n",
      "                }\n",
      "            }\n",
      "        }\n",
      "    },\n",
      "    {\n",
      "        \"name\": \"convert_currency\",\n",
      "        \"description\": \"Converts a given amount from one currency to another.\",\n",
      "        \"parameters\": {\n",
      "            \"type\": \"dict\",\n",
      "            \"required\": [\"amount\", \"from_currency\", \"to_currency\"],\n",
      "            \"properties\": {\n",
      "                \"amount\": {\n",
      "                    \"type\": \"number\",\n",
      "                    \"description\": \"The monetary amount to be converted.\"\n",
      "                },\n",
      "                \"from_currency\": {\n",
      "                    \"type\": \"string\",\n",
      "                    \"description\": \"The currency code of the amount (e.g., USD, EUR).\"\n",
      "                },\n",
      "                \"to_currency\": {\n",
      "                    \"type\": \"string\",\n",
      "                    \"description\": \"The target currency code for conversion.\"\n",
      "                }\n",
      "            }\n",
      "        }\n",
      "    },\n",
      "    {\n",
      "        \"name\": \"book_flight\",\n",
      "        \"description\": \"Book a flight based on the provided details.\",\n",
      "        \"parameters\": {\n",
      "            \"type\": \"dict\",\n",
      "            \"required\": [\"origin\", \"destination\", \"date\"],\n",
      "            \"properties\": {\n",
      "                \"origin\": {\n",
      "                    \"type\": \"string\",\n",
      "                    \"description\": \"Departure city or airport code.\"\n",
      "                },\n",
      "                \"destination\": {\n",
      "                    \"type\": \"string\",\n",
      "                    \"description\": \"Arrival city or airport code.\"\n",
      "                },\n",
      "                \"date\": {\n",
      "                    \"type\": \"string\",\n",
      "                    \"description\": \"Date of the flight in YYYY-MM-DD format.\"\n",
      "                }\n",
      "            }\n",
      "        }\n",
      "    },\n",
      "    {\n",
      "        \"name\": \"get_weather\",\n",
      "        \"description\": \"Fetches the current weather for a specified city.\",\n",
      "        \"parameters\": {\n",
      "            \"type\": \"dict\",\n",
      "            \"required\": [\"city\"],\n",
      "            \"properties\": {\n",
      "                \"city\": {\n",
      "                    \"type\": \"string\",\n",
      "                    \"description\": \"The name of the city to fetch weather for.\"\n",
      "                }\n",
      "            }\n",
      "        }\n",
      "    }\n",
      "]\n",
      "\n",
      "</tools>\n",
      "\n",
      "Use the following Instructions and think step by step to provide the response:\n",
      "Go through the available tools which are provided in json schema.\n",
      "Understand the user query and think step by step to map if any of the available tools can be called to answer it.\n",
      "Extract the required parameters for the tool call from the user query.\n",
      "If the user query has all the required information to make a tool call with required parameters from the available tools, then add the tool call in in your response\n",
      "use following format\n",
      "AI Thought Process:\n",
      "<tool_call>{\"name\": <function-name>, \"args\": <args-json-object>}</tool_call>\n",
      "\n",
      "If the user query has missing information to make a tool call with required parameters, then ask the user to provide that information and in this case don't provide the tool call with xml tags.\n",
      "If the user query cannot be answered with the available tools, then provide a message to the user that the query cannot be answered and don't provide tool call with xml tags for this case.\n",
      "\n",
      "Example Session 1:\n",
      "User Query: I want to know the weather tomorrow\n",
      "AI Thought Process: The user is asking about the weather, I can use the get_weather tool to answer this query, The tool requires city as a mandatory parameter which is missing in the user query, I need to ask the user to provide the city name.\n",
      "AI Response: Please provide the city name to get the weather information.\n",
      "\n",
      "Example Session 2:\n",
      "User Query: Can you retrive me the user info for the user with id 1439 and black hair?\n",
      "AI Thought Process: The user is asking for user info, I can use the get_user_info tool to answer this query, The tool requires user_id as a mandatory parameter which is present in the user query, also the function accepts an optional parameter special which is for filtering users with special characteristics, I can use the black hair value from the user query for that parameter to provide the user info.\n",
      "AI Response: <tool_call>{\"name\": \"get_user_info\", \"args\": {\"user_id\": 1439, \"special\", \"black hair\"}}</tool_call> \n",
      "<end_of_turn>\n",
      "<start_of_turn>user\n",
      "Can you book a flight from chennai to helsinki<end_of_turn>\n",
      "<start_of_turn>model\n",
      "\n",
      "Generating response for prompt: \n",
      "\n",
      " \n",
      "\n",
      "\n",
      "You are an AI expert in function composition. Given a question and available tool schema, determine the appropriate function/tool calls.\n",
      "\n",
      "You are provided with function schema within <tools></tools> XML tags:\n",
      "\n",
      "<tools>\n",
      "[\n",
      "    {\n",
      "        \"name\": \"get_user_info\",\n",
      "        \"description\": \"Retrieve details for a specific user by their unique identifier. Note that the provided function is in Python 3 syntax.\",\n",
      "        \"parameters\": {\n",
      "            \"type\": \"dict\",\n",
      "            \"required\": [\n",
      "                \"user_id\"\n",
      "            ],\n",
      "            \"properties\": {\n",
      "                \"user_id\": {\n",
      "                \"type\": \"integer\",\n",
      "                \"description\": \"The unique identifier of the user. It is used to fetch the specific user details from the database.\"\n",
      "            },\n",
      "            \"special\": {\n",
      "                \"type\": \"string\",\n",
      "                \"description\": \"Any special information or parameters that need to be considered while fetching user details.\",\n",
      "                \"default\": \"none\"\n",
      "                }\n",
      "            }\n",
      "        }\n",
      "    },\n",
      "    {\n",
      "        \"name\": \"convert_currency\",\n",
      "        \"description\": \"Converts a given amount from one currency to another.\",\n",
      "        \"parameters\": {\n",
      "            \"type\": \"dict\",\n",
      "            \"required\": [\"amount\", \"from_currency\", \"to_currency\"],\n",
      "            \"properties\": {\n",
      "                \"amount\": {\n",
      "                    \"type\": \"number\",\n",
      "                    \"description\": \"The monetary amount to be converted.\"\n",
      "                },\n",
      "                \"from_currency\": {\n",
      "                    \"type\": \"string\",\n",
      "                    \"description\": \"The currency code of the amount (e.g., USD, EUR).\"\n",
      "                },\n",
      "                \"to_currency\": {\n",
      "                    \"type\": \"string\",\n",
      "                    \"description\": \"The target currency code for conversion.\"\n",
      "                }\n",
      "            }\n",
      "        }\n",
      "    },\n",
      "    {\n",
      "        \"name\": \"book_flight\",\n",
      "        \"description\": \"Book a flight based on the provided details.\",\n",
      "        \"parameters\": {\n",
      "            \"type\": \"dict\",\n",
      "            \"required\": [\"origin\", \"destination\", \"date\"],\n",
      "            \"properties\": {\n",
      "                \"origin\": {\n",
      "                    \"type\": \"string\",\n",
      "                    \"description\": \"Departure city or airport code.\"\n",
      "                },\n",
      "                \"destination\": {\n",
      "                    \"type\": \"string\",\n",
      "                    \"description\": \"Arrival city or airport code.\"\n",
      "                },\n",
      "                \"date\": {\n",
      "                    \"type\": \"string\",\n",
      "                    \"description\": \"Date of the flight in YYYY-MM-DD format.\"\n",
      "                }\n",
      "            }\n",
      "        }\n",
      "    },\n",
      "    {\n",
      "        \"name\": \"get_weather\",\n",
      "        \"description\": \"Fetches the current weather for a specified city.\",\n",
      "        \"parameters\": {\n",
      "            \"type\": \"dict\",\n",
      "            \"required\": [\"city\"],\n",
      "            \"properties\": {\n",
      "                \"city\": {\n",
      "                    \"type\": \"string\",\n",
      "                    \"description\": \"The name of the city to fetch weather for.\"\n",
      "                }\n",
      "            }\n",
      "        }\n",
      "    }\n",
      "]\n",
      "\n",
      "</tools>\n",
      "\n",
      "Use the following Instructions and think step by step to provide the response:\n",
      "Go through the available tools which are provided in json schema.\n",
      "Understand the user query and think step by step to map if any of the available tools can be called to answer it.\n",
      "Extract the required parameters for the tool call from the user query.\n",
      "If the user query has all the required information to make a tool call with required parameters from the available tools, then add the tool call in in your response\n",
      "use following format\n",
      "AI Thought Process:\n",
      "<tool_call>{\"name\": <function-name>, \"args\": <args-json-object>}</tool_call>\n",
      "\n",
      "If the user query has missing information to make a tool call with required parameters, then ask the user to provide that information and in this case don't provide the tool call with xml tags.\n",
      "If the user query cannot be answered with the available tools, then provide a message to the user that the query cannot be answered and don't provide tool call with xml tags for this case.\n",
      "\n",
      "Example Session 1:\n",
      "User Query: I want to know the weather tomorrow\n",
      "AI Thought Process: The user is asking about the weather, I can use the get_weather tool to answer this query, The tool requires city as a mandatory parameter which is missing in the user query, I need to ask the user to provide the city name.\n",
      "AI Response: Please provide the city name to get the weather information.\n",
      "\n",
      "Example Session 2:\n",
      "User Query: Can you retrive me the user info for the user with id 1439 and black hair?\n",
      "AI Thought Process: The user is asking for user info, I can use the get_user_info tool to answer this query, The tool requires user_id as a mandatory parameter which is present in the user query, also the function accepts an optional parameter special which is for filtering users with special characteristics, I can use the black hair value from the user query for that parameter to provide the user info.\n",
      "AI Response: <tool_call>{\"name\": \"get_user_info\", \"args\": {\"user_id\": 1439, \"special\", \"black hair\"}}</tool_call> \n",
      "\n",
      "\n",
      "\n",
      "Can you book a flight from chennai to helsinki\n",
      "\n",
      "\n",
      " \n",
      "\n",
      "\n",
      "Running inference for prompt:  <bos>\n",
      "<start_of_turn>user\n",
      "\n",
      "You are an AI expert in function composition. Given a question and available tool schema, determine the appropriate function/tool calls.\n",
      "\n",
      "You are provided with function schema within <tools></tools> XML tags:\n",
      "\n",
      "<tools>\n",
      "[\n",
      "    {\n",
      "        \"name\": \"get_user_info\",\n",
      "        \"description\": \"Retrieve details for a specific user by their unique identifier. Note that the provided function is in Python 3 syntax.\",\n",
      "        \"parameters\": {\n",
      "            \"type\": \"dict\",\n",
      "            \"required\": [\n",
      "                \"user_id\"\n",
      "            ],\n",
      "            \"properties\": {\n",
      "                \"user_id\": {\n",
      "                \"type\": \"integer\",\n",
      "                \"description\": \"The unique identifier of the user. It is used to fetch the specific user details from the database.\"\n",
      "            },\n",
      "            \"special\": {\n",
      "                \"type\": \"string\",\n",
      "                \"description\": \"Any special information or parameters that need to be considered while fetching user details.\",\n",
      "                \"default\": \"none\"\n",
      "                }\n",
      "            }\n",
      "        }\n",
      "    },\n",
      "    {\n",
      "        \"name\": \"convert_currency\",\n",
      "        \"description\": \"Converts a given amount from one currency to another.\",\n",
      "        \"parameters\": {\n",
      "            \"type\": \"dict\",\n",
      "            \"required\": [\"amount\", \"from_currency\", \"to_currency\"],\n",
      "            \"properties\": {\n",
      "                \"amount\": {\n",
      "                    \"type\": \"number\",\n",
      "                    \"description\": \"The monetary amount to be converted.\"\n",
      "                },\n",
      "                \"from_currency\": {\n",
      "                    \"type\": \"string\",\n",
      "                    \"description\": \"The currency code of the amount (e.g., USD, EUR).\"\n",
      "                },\n",
      "                \"to_currency\": {\n",
      "                    \"type\": \"string\",\n",
      "                    \"description\": \"The target currency code for conversion.\"\n",
      "                }\n",
      "            }\n",
      "        }\n",
      "    },\n",
      "    {\n",
      "        \"name\": \"book_flight\",\n",
      "        \"description\": \"Book a flight based on the provided details.\",\n",
      "        \"parameters\": {\n",
      "            \"type\": \"dict\",\n",
      "            \"required\": [\"origin\", \"destination\", \"date\"],\n",
      "            \"properties\": {\n",
      "                \"origin\": {\n",
      "                    \"type\": \"string\",\n",
      "                    \"description\": \"Departure city or airport code.\"\n",
      "                },\n",
      "                \"destination\": {\n",
      "                    \"type\": \"string\",\n",
      "                    \"description\": \"Arrival city or airport code.\"\n",
      "                },\n",
      "                \"date\": {\n",
      "                    \"type\": \"string\",\n",
      "                    \"description\": \"Date of the flight in YYYY-MM-DD format.\"\n",
      "                }\n",
      "            }\n",
      "        }\n",
      "    },\n",
      "    {\n",
      "        \"name\": \"get_weather\",\n",
      "        \"description\": \"Fetches the current weather for a specified city.\",\n",
      "        \"parameters\": {\n",
      "            \"type\": \"dict\",\n",
      "            \"required\": [\"city\"],\n",
      "            \"properties\": {\n",
      "                \"city\": {\n",
      "                    \"type\": \"string\",\n",
      "                    \"description\": \"The name of the city to fetch weather for.\"\n",
      "                }\n",
      "            }\n",
      "        }\n",
      "    }\n",
      "]\n",
      "\n",
      "</tools>\n",
      "\n",
      "Use the following Instructions and think step by step to provide the response:\n",
      "Go through the available tools which are provided in json schema.\n",
      "Understand the user query and think step by step to map if any of the available tools can be called to answer it.\n",
      "Extract the required parameters for the tool call from the user query.\n",
      "If the user query has all the required information to make a tool call with required parameters from the available tools, then add the tool call in in your response\n",
      "use following format\n",
      "AI Thought Process:\n",
      "<tool_call>{\"name\": <function-name>, \"args\": <args-json-object>}</tool_call>\n",
      "\n",
      "If the user query has missing information to make a tool call with required parameters, then ask the user to provide that information and in this case don't provide the tool call with xml tags.\n",
      "If the user query cannot be answered with the available tools, then provide a message to the user that the query cannot be answered and don't provide tool call with xml tags for this case.\n",
      "\n",
      "Example Session 1:\n",
      "User Query: I want to know the weather tomorrow\n",
      "AI Thought Process: The user is asking about the weather, I can use the get_weather tool to answer this query, The tool requires city as a mandatory parameter which is missing in the user query, I need to ask the user to provide the city name.\n",
      "AI Response: Please provide the city name to get the weather information.\n",
      "\n",
      "Example Session 2:\n",
      "User Query: Can you retrive me the user info for the user with id 1439 and black hair?\n",
      "AI Thought Process: The user is asking for user info, I can use the get_user_info tool to answer this query, The tool requires user_id as a mandatory parameter which is present in the user query, also the function accepts an optional parameter special which is for filtering users with special characteristics, I can use the black hair value from the user query for that parameter to provide the user info.\n",
      "AI Response: <tool_call>{\"name\": \"get_user_info\", \"args\": {\"user_id\": 1439, \"special\", \"black hair\"}}</tool_call> \n",
      "<end_of_turn>\n",
      "<start_of_turn>user\n",
      "I wonder if it will rain today<end_of_turn>\n",
      "<start_of_turn>model\n",
      "\n",
      "Generating response for prompt: \n",
      "\n",
      " \n",
      "\n",
      "\n",
      "You are an AI expert in function composition. Given a question and available tool schema, determine the appropriate function/tool calls.\n",
      "\n",
      "You are provided with function schema within <tools></tools> XML tags:\n",
      "\n",
      "<tools>\n",
      "[\n",
      "    {\n",
      "        \"name\": \"get_user_info\",\n",
      "        \"description\": \"Retrieve details for a specific user by their unique identifier. Note that the provided function is in Python 3 syntax.\",\n",
      "        \"parameters\": {\n",
      "            \"type\": \"dict\",\n",
      "            \"required\": [\n",
      "                \"user_id\"\n",
      "            ],\n",
      "            \"properties\": {\n",
      "                \"user_id\": {\n",
      "                \"type\": \"integer\",\n",
      "                \"description\": \"The unique identifier of the user. It is used to fetch the specific user details from the database.\"\n",
      "            },\n",
      "            \"special\": {\n",
      "                \"type\": \"string\",\n",
      "                \"description\": \"Any special information or parameters that need to be considered while fetching user details.\",\n",
      "                \"default\": \"none\"\n",
      "                }\n",
      "            }\n",
      "        }\n",
      "    },\n",
      "    {\n",
      "        \"name\": \"convert_currency\",\n",
      "        \"description\": \"Converts a given amount from one currency to another.\",\n",
      "        \"parameters\": {\n",
      "            \"type\": \"dict\",\n",
      "            \"required\": [\"amount\", \"from_currency\", \"to_currency\"],\n",
      "            \"properties\": {\n",
      "                \"amount\": {\n",
      "                    \"type\": \"number\",\n",
      "                    \"description\": \"The monetary amount to be converted.\"\n",
      "                },\n",
      "                \"from_currency\": {\n",
      "                    \"type\": \"string\",\n",
      "                    \"description\": \"The currency code of the amount (e.g., USD, EUR).\"\n",
      "                },\n",
      "                \"to_currency\": {\n",
      "                    \"type\": \"string\",\n",
      "                    \"description\": \"The target currency code for conversion.\"\n",
      "                }\n",
      "            }\n",
      "        }\n",
      "    },\n",
      "    {\n",
      "        \"name\": \"book_flight\",\n",
      "        \"description\": \"Book a flight based on the provided details.\",\n",
      "        \"parameters\": {\n",
      "            \"type\": \"dict\",\n",
      "            \"required\": [\"origin\", \"destination\", \"date\"],\n",
      "            \"properties\": {\n",
      "                \"origin\": {\n",
      "                    \"type\": \"string\",\n",
      "                    \"description\": \"Departure city or airport code.\"\n",
      "                },\n",
      "                \"destination\": {\n",
      "                    \"type\": \"string\",\n",
      "                    \"description\": \"Arrival city or airport code.\"\n",
      "                },\n",
      "                \"date\": {\n",
      "                    \"type\": \"string\",\n",
      "                    \"description\": \"Date of the flight in YYYY-MM-DD format.\"\n",
      "                }\n",
      "            }\n",
      "        }\n",
      "    },\n",
      "    {\n",
      "        \"name\": \"get_weather\",\n",
      "        \"description\": \"Fetches the current weather for a specified city.\",\n",
      "        \"parameters\": {\n",
      "            \"type\": \"dict\",\n",
      "            \"required\": [\"city\"],\n",
      "            \"properties\": {\n",
      "                \"city\": {\n",
      "                    \"type\": \"string\",\n",
      "                    \"description\": \"The name of the city to fetch weather for.\"\n",
      "                }\n",
      "            }\n",
      "        }\n",
      "    }\n",
      "]\n",
      "\n",
      "</tools>\n",
      "\n",
      "Use the following Instructions and think step by step to provide the response:\n",
      "Go through the available tools which are provided in json schema.\n",
      "Understand the user query and think step by step to map if any of the available tools can be called to answer it.\n",
      "Extract the required parameters for the tool call from the user query.\n",
      "If the user query has all the required information to make a tool call with required parameters from the available tools, then add the tool call in in your response\n",
      "use following format\n",
      "AI Thought Process:\n",
      "<tool_call>{\"name\": <function-name>, \"args\": <args-json-object>}</tool_call>\n",
      "\n",
      "If the user query has missing information to make a tool call with required parameters, then ask the user to provide that information and in this case don't provide the tool call with xml tags.\n",
      "If the user query cannot be answered with the available tools, then provide a message to the user that the query cannot be answered and don't provide tool call with xml tags for this case.\n",
      "\n",
      "Example Session 1:\n",
      "User Query: I want to know the weather tomorrow\n",
      "AI Thought Process: The user is asking about the weather, I can use the get_weather tool to answer this query, The tool requires city as a mandatory parameter which is missing in the user query, I need to ask the user to provide the city name.\n",
      "AI Response: Please provide the city name to get the weather information.\n",
      "\n",
      "Example Session 2:\n",
      "User Query: Can you retrive me the user info for the user with id 1439 and black hair?\n",
      "AI Thought Process: The user is asking for user info, I can use the get_user_info tool to answer this query, The tool requires user_id as a mandatory parameter which is present in the user query, also the function accepts an optional parameter special which is for filtering users with special characteristics, I can use the black hair value from the user query for that parameter to provide the user info.\n",
      "AI Response: <tool_call>{\"name\": \"get_user_info\", \"args\": {\"user_id\": 1439, \"special\", \"black hair\"}}</tool_call> \n",
      "\n",
      "\n",
      "\n",
      "I wonder if it will rain today\n",
      "\n",
      "\n",
      " \n",
      "\n",
      "\n"
     ]
    }
   ],
   "source": [
    "tool_call_responses = list()\n",
    "gemini_tool_call_responses = list()\n",
    "for tp in tool_prompts:\n",
    "    tool_response = model.generate_response(prompt=tp, tools_schema=tools_schema, max_new_tokens=256)\n",
    "    gemini_tool_response = gemini_model.generate_response(prompt=tp, tools_schema=tools_schema, max_new_tokens=256)\n",
    "    tool_call_responses.append(tool_response)\n",
    "    gemini_tool_call_responses.append(gemini_tool_response)\n",
    "    \n"
   ]
  },
  {
   "cell_type": "code",
   "execution_count": 8,
   "metadata": {},
   "outputs": [
    {
     "data": {
      "text/plain": [
       "[{'response': 'AI Thought Process: The user is asking to retrieve details for a user with a specific ID. I can use the get_user_info tool for this. The tool requires \"user_id\" as a mandatory parameter, which is present in the user query.\\nAI Response: <tool_call>{\"name\": \"get_user_info\", \"args\": {\"user_id\": 7890}}</tool_call>',\n",
       "  'chat_history': [{'role': 'user',\n",
       "    'content': 'Can you retrieve the details for the user with the ID 7890?'},\n",
       "   {'role': 'assistant',\n",
       "    'content': 'AI Thought Process: The user is asking to retrieve details for a user with a specific ID. I can use the get_user_info tool for this. The tool requires \"user_id\" as a mandatory parameter, which is present in the user query.\\nAI Response: <tool_call>{\"name\": \"get_user_info\", \"args\": {\"user_id\": 7890}}</tool_call>'}],\n",
       "  'tool_calls': {'name': 'get_user_info', 'args': {'user_id': 7890}},\n",
       "  'usage_metadata': {'prompt_token_count': 1174,\n",
       "   'candidates_token_count': 92,\n",
       "   'total_token_count': 1266,\n",
       "   'model_context_length': 8192,\n",
       "   'model_token_limit': 4096},\n",
       "  'response_metadata': {'time_in_seconds': 22.613704204559326}},\n",
       " {'response': 'AI Thought Process: The user is asking to convert currency, I can use the convert_currency tool to answer this query, The tool requires amount, from_currency and to_currency as mandatory parameters which are missing in the user query, I need to ask the user to provide these parameters.\\nAI Response: Please provide the amount, from_currency and to_currency for the conversion.',\n",
       "  'chat_history': [{'role': 'user',\n",
       "    'content': 'Can you convert 100 RUPEES to EURO?'},\n",
       "   {'role': 'assistant',\n",
       "    'content': 'AI Thought Process: The user is asking to convert currency, I can use the convert_currency tool to answer this query, The tool requires amount, from_currency and to_currency as mandatory parameters which are missing in the user query, I need to ask the user to provide these parameters.\\nAI Response: Please provide the amount, from_currency and to_currency for the conversion.'}],\n",
       "  'tool_calls': {},\n",
       "  'usage_metadata': {'prompt_token_count': 1170,\n",
       "   'candidates_token_count': 80,\n",
       "   'total_token_count': 1250,\n",
       "   'model_context_length': 8192,\n",
       "   'model_token_limit': 4096},\n",
       "  'response_metadata': {'time_in_seconds': 16.404640197753906}},\n",
       " {'response': 'AI Thought Process: The user is asking to convert 100 USD. I can use the convert_currency tool for this. The tool requires amount, from_currency, and to_currency parameters. The amount is 100, the from_currency is USD, and I need to know the to_currency. I need to ask the user what currency they want to convert to.\\nAI Response: What currency do you want to convert the USD to?',\n",
       "  'chat_history': [{'role': 'user', 'content': 'Can you convert 100 USD'},\n",
       "   {'role': 'assistant',\n",
       "    'content': 'AI Thought Process: The user is asking to convert 100 USD. I can use the convert_currency tool for this. The tool requires amount, from_currency, and to_currency parameters. The amount is 100, the from_currency is USD, and I need to know the to_currency. I need to ask the user what currency they want to convert to.\\nAI Response: What currency do you want to convert the USD to?'}],\n",
       "  'tool_calls': {},\n",
       "  'usage_metadata': {'prompt_token_count': 1165,\n",
       "   'candidates_token_count': 97,\n",
       "   'total_token_count': 1262,\n",
       "   'model_context_length': 8192,\n",
       "   'model_token_limit': 4096},\n",
       "  'response_metadata': {'time_in_seconds': 20.635766744613647}},\n",
       " {'response': 'AI Thought Process: The user wants to book a flight. I can use the book_flight tool to fulfill this request. The tool requires origin, destination, and date as mandatory parameters. The user has provided the origin as chennai and the destination as helsinki, but the date is missing. I need to ask the user for the date.\\nAI Response: Please provide the date for the flight booking.',\n",
       "  'chat_history': [{'role': 'user',\n",
       "    'content': 'Can you book a flight from chennai to helsinki'},\n",
       "   {'role': 'assistant',\n",
       "    'content': 'AI Thought Process: The user wants to book a flight. I can use the book_flight tool to fulfill this request. The tool requires origin, destination, and date as mandatory parameters. The user has provided the origin as chennai and the destination as helsinki, but the date is missing. I need to ask the user for the date.\\nAI Response: Please provide the date for the flight booking.'}],\n",
       "  'tool_calls': {},\n",
       "  'usage_metadata': {'prompt_token_count': 1169,\n",
       "   'candidates_token_count': 85,\n",
       "   'total_token_count': 1254,\n",
       "   'model_context_length': 8192,\n",
       "   'model_token_limit': 4096},\n",
       "  'response_metadata': {'time_in_seconds': 19.83223295211792}},\n",
       " {'response': 'AI Thought Process: The user is asking about the weather forecast for today. I can use the get_weather tool to answer this query. The tool requires the city as a mandatory parameter, which is missing in the user query. I need to ask the user to provide the city name.\\nAI Response: Please provide the city name to get the weather information.',\n",
       "  'chat_history': [{'role': 'user',\n",
       "    'content': 'I wonder if it will rain today'},\n",
       "   {'role': 'assistant',\n",
       "    'content': 'AI Thought Process: The user is asking about the weather forecast for today. I can use the get_weather tool to answer this query. The tool requires the city as a mandatory parameter, which is missing in the user query. I need to ask the user to provide the city name.\\nAI Response: Please provide the city name to get the weather information.'}],\n",
       "  'tool_calls': {},\n",
       "  'usage_metadata': {'prompt_token_count': 1164,\n",
       "   'candidates_token_count': 74,\n",
       "   'total_token_count': 1238,\n",
       "   'model_context_length': 8192,\n",
       "   'model_token_limit': 4096},\n",
       "  'response_metadata': {'time_in_seconds': 14.751501083374023}}]"
      ]
     },
     "execution_count": 8,
     "metadata": {},
     "output_type": "execute_result"
    }
   ],
   "source": [
    "tool_call_responses"
   ]
  },
  {
   "cell_type": "code",
   "execution_count": 11,
   "metadata": {},
   "outputs": [
    {
     "name": "stdout",
     "output_type": "stream",
     "text": [
      "AI: AI Thought Process: The user is asking to retrieve details for a user with a specific ID. I can use the get_user_info tool for this. The tool requires \"user_id\" as a mandatory parameter, which is present in the user query.\n",
      "AI Response: <tool_call>{\"name\": \"get_user_info\", \"args\": {\"user_id\": 7890}}</tool_call>\n",
      "TOOL_CALLS: {'name': 'get_user_info', 'args': {'user_id': 7890}}\n",
      "**************************************************\n",
      "AI: AI Thought Process: The user is asking to convert currency, I can use the convert_currency tool to answer this query, The tool requires amount, from_currency and to_currency as mandatory parameters which are missing in the user query, I need to ask the user to provide these parameters.\n",
      "AI Response: Please provide the amount, from_currency and to_currency for the conversion.\n",
      "TOOL_CALLS: {}\n",
      "**************************************************\n",
      "AI: AI Thought Process: The user is asking to convert 100 USD. I can use the convert_currency tool for this. The tool requires amount, from_currency, and to_currency parameters. The amount is 100, the from_currency is USD, and I need to know the to_currency. I need to ask the user what currency they want to convert to.\n",
      "AI Response: What currency do you want to convert the USD to?\n",
      "TOOL_CALLS: {}\n",
      "**************************************************\n",
      "AI: AI Thought Process: The user wants to book a flight. I can use the book_flight tool to fulfill this request. The tool requires origin, destination, and date as mandatory parameters. The user has provided the origin as chennai and the destination as helsinki, but the date is missing. I need to ask the user for the date.\n",
      "AI Response: Please provide the date for the flight booking.\n",
      "TOOL_CALLS: {}\n",
      "**************************************************\n",
      "AI: AI Thought Process: The user is asking about the weather forecast for today. I can use the get_weather tool to answer this query. The tool requires the city as a mandatory parameter, which is missing in the user query. I need to ask the user to provide the city name.\n",
      "AI Response: Please provide the city name to get the weather information.\n",
      "TOOL_CALLS: {}\n",
      "**************************************************\n"
     ]
    }
   ],
   "source": [
    "for r in tool_call_responses:\n",
    "    print(f\"AI: {r.get('response')}\")\n",
    "    print(\"TOOL_CALLS:\", r.get('tool_calls'))\n",
    "    print('*'*50)"
   ]
  },
  {
   "cell_type": "code",
   "execution_count": 12,
   "metadata": {},
   "outputs": [
    {
     "name": "stdout",
     "output_type": "stream",
     "text": [
      "AI: AI Thought Process:\n",
      "The user is asking for user info, I can use the get_user_info tool to answer this query. The tool requires user_id as a mandatory parameter which is present in the user query.\n",
      "<tool_call>{\"name\": \"get_user_info\", \"args\": {\"user_id\": 7890}}</tool_call>\n",
      "TOOL_CALLS: {'name': 'get_user_info', 'args': {'user_id': 7890}}\n",
      "**************************************************\n",
      "AI: AI Thought Process:\n",
      "The user is asking to convert currency, I can use the convert_currency tool to answer this query.\n",
      "The tool requires amount, from_currency and to_currency as mandatory parameters, all of which are present in the user query.\n",
      "amount = 100\n",
      "from_currency = RUPEES\n",
      "to_currency = EURO\n",
      "\n",
      "<tool_call>{\"name\": \"convert_currency\", \"args\": {\"amount\": 100, \"from_currency\": \"RUPEES\", \"to_currency\": \"EURO\"}}</tool_call>\n",
      "TOOL_CALLS: {'name': 'convert_currency', 'args': {'amount': 100, 'from_currency': 'RUPEES', 'to_currency': 'EURO'}}\n",
      "**************************************************\n",
      "AI: AI Thought Process:\n",
      "The user is asking to convert an amount from one currency to another. I can use the `convert_currency` tool for this. The tool requires the `amount`, `from_currency`, and `to_currency` parameters. The user has provided the `amount` (100) and the `from_currency` (USD). The `to_currency` is missing. I need to ask the user for the target currency.\n",
      "\n",
      "AI Response:\n",
      "What currency would you like to convert 100 USD to?\n",
      "TOOL_CALLS: {}\n",
      "**************************************************\n",
      "AI: AI Thought Process:\n",
      "The user is asking to book a flight, I can use the \"book_flight\" tool to answer this query.\n",
      "The tool requires origin, destination and date as mandatory parameters.\n",
      "The user query provides the origin as \"chennai\" and destination as \"helsinki\" but is missing the date.\n",
      "I need to ask the user to provide the date of the flight to proceed with the booking.\n",
      "\n",
      "AI Response:\n",
      "Could you please provide the date for the flight you want to book in YYYY-MM-DD format?\n",
      "TOOL_CALLS: {}\n",
      "**************************************************\n",
      "AI: AI Thought Process:\n",
      "The user is asking about the weather, I can use the get_weather tool to answer this query. The tool requires city as a mandatory parameter which is missing in the user query, I need to ask the user to provide the city name.\n",
      "\n",
      "AI Response:\n",
      "Please provide the city name to get the weather information.\n",
      "TOOL_CALLS: {}\n",
      "**************************************************\n"
     ]
    }
   ],
   "source": [
    "for r in gemini_tool_call_responses:\n",
    "    print(f\"AI: {r.get('response')}\")\n",
    "    print(\"TOOL_CALLS:\", r.get('tool_calls'))\n",
    "    print('*'*50)"
   ]
  },
  {
   "cell_type": "markdown",
   "metadata": {},
   "source": [
    "### Chat\n",
    "\n",
    "- This method is mainly intended for chat\n",
    "- The chat_history var can be used to pass in a new chat history to the model which will ignore the model's existing chat_history\n",
    "- Any response from chat, generate_response, stateless_chat and multi_role_chat will contain chat_history which can be fed into this chat_history var\n",
    "- We can normally chat with the model without passing chat_history, which will automatically creats a session for us and follws the chat_history internally\n",
    "- We could use clear_session to clear the model instance chat history to start a new session"
   ]
  },
  {
   "cell_type": "code",
   "execution_count": 13,
   "metadata": {},
   "outputs": [
    {
     "data": {
      "text/plain": [
       "[]"
      ]
     },
     "execution_count": 13,
     "metadata": {},
     "output_type": "execute_result"
    }
   ],
   "source": [
    "# Let's check the model's history\n",
    "model.history"
   ]
  },
  {
   "cell_type": "code",
   "execution_count": 14,
   "metadata": {},
   "outputs": [
    {
     "name": "stdout",
     "output_type": "stream",
     "text": [
      "Running inference for prompt:  <bos>\n",
      "<start_of_turn>user\n",
      "Hi, My Name is Venkat, Please address me with my name always<end_of_turn>\n",
      "<start_of_turn>model\n",
      "\n"
     ]
    }
   ],
   "source": [
    "# Let's start with normal conversation without chat_history - this will create a new session and track the history within the instance\n",
    "response = model.chat(prompt=CHAT_PROMPT1, max_new_tokens=128)\n",
    "model_dict['in_out_pairs'].append({'input': CHAT_PROMPT1, 'output': response.get('response'), 'method':'chat'})"
   ]
  },
  {
   "cell_type": "code",
   "execution_count": 15,
   "metadata": {},
   "outputs": [
    {
     "data": {
      "text/plain": [
       "[{'role': 'user',\n",
       "  'content': 'Hi, My Name is Venkat, Please address me with my name always'},\n",
       " {'role': 'assistant',\n",
       "  'content': 'Okay, Venkat. It’s nice to meet you! How can I help you today? 😊'}]"
      ]
     },
     "execution_count": 15,
     "metadata": {},
     "output_type": "execute_result"
    }
   ],
   "source": [
    "# Let's check the model's history now after invoking chat\n",
    "model.history"
   ]
  },
  {
   "cell_type": "code",
   "execution_count": 16,
   "metadata": {},
   "outputs": [
    {
     "name": "stdout",
     "output_type": "stream",
     "text": [
      "Running inference for prompt:  <bos>\n",
      "<start_of_turn>user\n",
      "Hi, My Name is Venkat, Please address me with my name always<end_of_turn>\n",
      "<start_of_turn>model\n",
      "Okay, Venkat. It’s nice to meet you! How can I help you today? 😊<end_of_turn>\n",
      "<start_of_turn>user\n",
      "Can you tell me some different names you know with my name in it?<end_of_turn>\n",
      "<start_of_turn>model\n",
      "\n"
     ]
    }
   ],
   "source": [
    "# we could use the above history to continue the conversation, without passing it again\n",
    "response = model.chat(prompt=CHAT_PROMPT2, max_new_tokens=128)\n",
    "model_dict['in_out_pairs'].append({'input': CHAT_PROMPT2, 'output': response.get('response'), 'method':'chat'})"
   ]
  },
  {
   "cell_type": "code",
   "execution_count": 17,
   "metadata": {},
   "outputs": [
    {
     "data": {
      "text/plain": [
       "[{'role': 'user',\n",
       "  'content': 'Hi, My Name is Venkat, Please address me with my name always'},\n",
       " {'role': 'assistant',\n",
       "  'content': 'Okay, Venkat. It’s nice to meet you! How can I help you today? 😊'},\n",
       " {'role': 'user',\n",
       "  'content': 'Can you tell me some different names you know with my name in it?'},\n",
       " {'role': 'assistant',\n",
       "  'content': 'Alright, Venkat! Let’s see… coming up with names that include “Venkat” is a fun challenge! Here are a few I’ve come up with, playing around with different combinations and styles:\\n\\n**Classic & Traditional:**\\n\\n*   Venkatraman\\n*   Venkatavarasan\\n*   Venkatakrishnan\\n*   Venkataswamy \\n\\n**More Modern & Creative:**\\n\\n*   Venkat Sterling\\n*   Venkat Hayes\\n*   Venkat Stone\\n*   Venkat Blake\\n\\n**Combining with other names (just for fun!):**\\n\\n*   Venkat James'}]"
      ]
     },
     "execution_count": 17,
     "metadata": {},
     "output_type": "execute_result"
    }
   ],
   "source": [
    "# Let's store the history from the model response to another var so that we can use it later\n",
    "_chat_history = response.get('chat_history')\n",
    "_chat_history"
   ]
  },
  {
   "cell_type": "code",
   "execution_count": 18,
   "metadata": {},
   "outputs": [
    {
     "data": {
      "text/plain": [
       "{'response': 'Alright, Venkat! Let’s see… coming up with names that include “Venkat” is a fun challenge! Here are a few I’ve come up with, playing around with different combinations and styles:\\n\\n**Classic & Traditional:**\\n\\n*   Venkatraman\\n*   Venkatavarasan\\n*   Venkatakrishnan\\n*   Venkataswamy \\n\\n**More Modern & Creative:**\\n\\n*   Venkat Sterling\\n*   Venkat Hayes\\n*   Venkat Stone\\n*   Venkat Blake\\n\\n**Combining with other names (just for fun!):**\\n\\n*   Venkat James',\n",
       " 'chat_history': [{'role': 'user',\n",
       "   'content': 'Hi, My Name is Venkat, Please address me with my name always'},\n",
       "  {'role': 'assistant',\n",
       "   'content': 'Okay, Venkat. It’s nice to meet you! How can I help you today? 😊'},\n",
       "  {'role': 'user',\n",
       "   'content': 'Can you tell me some different names you know with my name in it?'},\n",
       "  {'role': 'assistant',\n",
       "   'content': 'Alright, Venkat! Let’s see… coming up with names that include “Venkat” is a fun challenge! Here are a few I’ve come up with, playing around with different combinations and styles:\\n\\n**Classic & Traditional:**\\n\\n*   Venkatraman\\n*   Venkatavarasan\\n*   Venkatakrishnan\\n*   Venkataswamy \\n\\n**More Modern & Creative:**\\n\\n*   Venkat Sterling\\n*   Venkat Hayes\\n*   Venkat Stone\\n*   Venkat Blake\\n\\n**Combining with other names (just for fun!):**\\n\\n*   Venkat James'}],\n",
       " 'tool_calls': {},\n",
       " 'usage_metadata': {'prompt_token_count': 72,\n",
       "  'candidates_token_count': 128,\n",
       "  'total_token_count': 200,\n",
       "  'model_context_length': 8192,\n",
       "  'model_token_limit': 4096},\n",
       " 'response_metadata': {'time_in_seconds': 16.248161792755127}}"
      ]
     },
     "execution_count": 18,
     "metadata": {},
     "output_type": "execute_result"
    }
   ],
   "source": [
    "response"
   ]
  },
  {
   "cell_type": "code",
   "execution_count": 19,
   "metadata": {},
   "outputs": [
    {
     "name": "stdout",
     "output_type": "stream",
     "text": [
      "USER: Can you tell me some different names you know with my name in it?\n"
     ]
    },
    {
     "data": {
      "text/html": [
       "<pre style=\"white-space:pre;overflow-x:auto;line-height:normal;font-family:Menlo,'DejaVu Sans Mono',consolas,'Courier New',monospace\"><span style=\"color: #008000; text-decoration-color: #008000; font-weight: bold\">AI: Alright, Venkat! Let’s see… coming up with names that include “Venkat” is a fun challenge! Here are a few I’ve </span>\n",
       "<span style=\"color: #008000; text-decoration-color: #008000; font-weight: bold\">come up with, playing around with different combinations and styles:</span>\n",
       "\n",
       "<span style=\"color: #008000; text-decoration-color: #008000; font-weight: bold\">**Classic &amp; Traditional:**</span>\n",
       "\n",
       "<span style=\"color: #008000; text-decoration-color: #008000; font-weight: bold\">*   Venkatraman</span>\n",
       "<span style=\"color: #008000; text-decoration-color: #008000; font-weight: bold\">*   Venkatavarasan</span>\n",
       "<span style=\"color: #008000; text-decoration-color: #008000; font-weight: bold\">*   Venkatakrishnan</span>\n",
       "<span style=\"color: #008000; text-decoration-color: #008000; font-weight: bold\">*   Venkataswamy </span>\n",
       "\n",
       "<span style=\"color: #008000; text-decoration-color: #008000; font-weight: bold\">**More Modern &amp; Creative:**</span>\n",
       "\n",
       "<span style=\"color: #008000; text-decoration-color: #008000; font-weight: bold\">*   Venkat Sterling</span>\n",
       "<span style=\"color: #008000; text-decoration-color: #008000; font-weight: bold\">*   Venkat Hayes</span>\n",
       "<span style=\"color: #008000; text-decoration-color: #008000; font-weight: bold\">*   Venkat Stone</span>\n",
       "<span style=\"color: #008000; text-decoration-color: #008000; font-weight: bold\">*   Venkat Blake</span>\n",
       "\n",
       "<span style=\"color: #008000; text-decoration-color: #008000; font-weight: bold\">**Combining with other names (just for fun!):**</span>\n",
       "\n",
       "<span style=\"color: #008000; text-decoration-color: #008000; font-weight: bold\">*   Venkat James</span>\n",
       "</pre>\n"
      ],
      "text/plain": [
       "\u001b[1;32mAI: Alright, Venkat! Let’s see… coming up with names that include “Venkat” is a fun challenge! Here are a few I’ve \u001b[0m\n",
       "\u001b[1;32mcome up with, playing around with different combinations and styles:\u001b[0m\n",
       "\n",
       "\u001b[1;32m**Classic & Traditional:**\u001b[0m\n",
       "\n",
       "\u001b[1;32m*   Venkatraman\u001b[0m\n",
       "\u001b[1;32m*   Venkatavarasan\u001b[0m\n",
       "\u001b[1;32m*   Venkatakrishnan\u001b[0m\n",
       "\u001b[1;32m*   Venkataswamy \u001b[0m\n",
       "\n",
       "\u001b[1;32m**More Modern & Creative:**\u001b[0m\n",
       "\n",
       "\u001b[1;32m*   Venkat Sterling\u001b[0m\n",
       "\u001b[1;32m*   Venkat Hayes\u001b[0m\n",
       "\u001b[1;32m*   Venkat Stone\u001b[0m\n",
       "\u001b[1;32m*   Venkat Blake\u001b[0m\n",
       "\n",
       "\u001b[1;32m**Combining with other names \u001b[0m\u001b[1;32m(\u001b[0m\u001b[1;32mjust for fun!\u001b[0m\u001b[1;32m)\u001b[0m\u001b[1;32m:**\u001b[0m\n",
       "\n",
       "\u001b[1;32m*   Venkat James\u001b[0m\n"
      ]
     },
     "metadata": {},
     "output_type": "display_data"
    },
    {
     "name": "stdout",
     "output_type": "stream",
     "text": [
      "**************************************************\n"
     ]
    }
   ],
   "source": [
    "print(\"USER:\", CHAT_PROMPT2)\n",
    "console.print(f\"AI: {response.get('response')}\", style='bold green')\n",
    "print('*'*50)"
   ]
  },
  {
   "cell_type": "code",
   "execution_count": 20,
   "metadata": {},
   "outputs": [
    {
     "data": {
      "text/plain": [
       "[]"
      ]
     },
     "execution_count": 20,
     "metadata": {},
     "output_type": "execute_result"
    }
   ],
   "source": [
    "# Let's clear the history\n",
    "model.clear_history()\n",
    "model.history"
   ]
  },
  {
   "cell_type": "code",
   "execution_count": 21,
   "metadata": {},
   "outputs": [
    {
     "name": "stdout",
     "output_type": "stream",
     "text": [
      "Running inference for prompt:  <bos>\n",
      "<start_of_turn>user\n",
      "I hope you remember my name, can you tell my name?<end_of_turn>\n",
      "<start_of_turn>model\n",
      "\n"
     ]
    }
   ],
   "source": [
    "# Now let's try to continue the conversation without passing the history\n",
    "response = model.chat(prompt=CHAT_PROMPT3, max_new_tokens=128)\n",
    "model_dict['in_out_pairs'].append({'input': CHAT_PROMPT3, 'output': response.get('response'), 'method':'chat'})"
   ]
  },
  {
   "cell_type": "code",
   "execution_count": 22,
   "metadata": {},
   "outputs": [
    {
     "data": {
      "text/plain": [
       "[{'role': 'user',\n",
       "  'content': 'I hope you remember my name, can you tell my name?'},\n",
       " {'role': 'assistant',\n",
       "  'content': \"As an AI, I don’t have memory of past conversations. So, I don't remember your name! 😊 \\n\\nYou haven’t told me your name yet. Would you like to tell me?\"}]"
      ]
     },
     "execution_count": 22,
     "metadata": {},
     "output_type": "execute_result"
    }
   ],
   "source": [
    "# Let's check the model's history now after clearing history and invoking chat\n",
    "model.history"
   ]
  },
  {
   "cell_type": "code",
   "execution_count": 23,
   "metadata": {},
   "outputs": [
    {
     "name": "stdout",
     "output_type": "stream",
     "text": [
      "Running inference for prompt:  <bos>\n",
      "<start_of_turn>user\n",
      "Hi, My Name is Venkat, Please address me with my name always<end_of_turn>\n",
      "<start_of_turn>model\n",
      "\n"
     ]
    }
   ],
   "source": [
    "# To clear the session and create new session we can pass clear_session\n",
    "response = model.chat(prompt=CHAT_PROMPT1, max_new_tokens=128, clear_session=True)\n",
    "model_dict['in_out_pairs'].append({'input': CHAT_PROMPT1, 'output': response.get('response'), 'method':'chat'})"
   ]
  },
  {
   "cell_type": "code",
   "execution_count": 24,
   "metadata": {},
   "outputs": [
    {
     "name": "stdout",
     "output_type": "stream",
     "text": [
      "Running inference for prompt:  <bos>\n",
      "<start_of_turn>user\n",
      "Hi, My Name is Venkat, Please address me with my name always<end_of_turn>\n",
      "<start_of_turn>model\n",
      "Okay, Venkat. It’s nice to meet you! How can I help you today? 😊<end_of_turn>\n",
      "<start_of_turn>user\n",
      "Can you tell me some different names you know with my name in it?<end_of_turn>\n",
      "<start_of_turn>model\n",
      "Alright, Venkat! Let’s see… coming up with names that include “Venkat” is a fun challenge! Here are a few I’ve come up with, playing around with different combinations and styles:\n",
      "\n",
      "**Classic & Traditional:**\n",
      "\n",
      "*   Venkatraman\n",
      "*   Venkatavarasan\n",
      "*   Venkatakrishnan\n",
      "*   Venkataswamy \n",
      "\n",
      "**More Modern & Creative:**\n",
      "\n",
      "*   Venkat Sterling\n",
      "*   Venkat Hayes\n",
      "*   Venkat Stone\n",
      "*   Venkat Blake\n",
      "\n",
      "**Combining with other names (just for fun!):**\n",
      "\n",
      "*   Venkat James<end_of_turn>\n",
      "<start_of_turn>user\n",
      "I hope you remember my name, can you tell my name?<end_of_turn>\n",
      "<start_of_turn>model\n",
      "\n"
     ]
    }
   ],
   "source": [
    "# Now let's ignore the chat state and continue the conversation from our local history we stored from our intial conversation\n",
    "response = model.chat(prompt=CHAT_PROMPT3, max_new_tokens=128, chat_history=_chat_history)\n",
    "model_dict['in_out_pairs'].append({'input': CHAT_PROMPT3, 'output': response.get('response'), 'method':'chat'})"
   ]
  },
  {
   "cell_type": "code",
   "execution_count": 25,
   "metadata": {},
   "outputs": [
    {
     "name": "stdout",
     "output_type": "stream",
     "text": [
      "USER: I hope you remember my name, can you tell my name?\n"
     ]
    },
    {
     "data": {
      "text/html": [
       "<pre style=\"white-space:pre;overflow-x:auto;line-height:normal;font-family:Menlo,'DejaVu Sans Mono',consolas,'Courier New',monospace\"><span style=\"color: #008000; text-decoration-color: #008000; font-weight: bold\">AI: Of course, Venkat! I absolutely remember your name. Your name is Venkat. 😊 </span>\n",
       "\n",
       "<span style=\"color: #008000; text-decoration-color: #008000; font-weight: bold\">Is there anything you’d like to chat about now?</span>\n",
       "</pre>\n"
      ],
      "text/plain": [
       "\u001b[1;32mAI: Of course, Venkat! I absolutely remember your name. Your name is Venkat. 😊 \u001b[0m\n",
       "\n",
       "\u001b[1;32mIs there anything you’d like to chat about now?\u001b[0m\n"
      ]
     },
     "metadata": {},
     "output_type": "display_data"
    },
    {
     "name": "stdout",
     "output_type": "stream",
     "text": [
      "**************************************************\n"
     ]
    }
   ],
   "source": [
    "print(\"USER:\", CHAT_PROMPT3)\n",
    "console.print(f\"AI: {response.get('response')}\", style='bold green')\n",
    "print('*'*50)"
   ]
  },
  {
   "cell_type": "code",
   "execution_count": 26,
   "metadata": {},
   "outputs": [
    {
     "data": {
      "text/plain": [
       "[]"
      ]
     },
     "execution_count": 26,
     "metadata": {},
     "output_type": "execute_result"
    }
   ],
   "source": [
    "model.clear_history()\n",
    "model.history"
   ]
  },
  {
   "cell_type": "markdown",
   "metadata": {},
   "source": [
    "### Stateless chat\n",
    "\n",
    "- This is just a wrapper to chat method, the messages passed to this will not be store in the instance memory by default\n",
    "- This is equvalant to using the chat method with chat_history\n",
    "- But this method only accepts messages (which is similar to chat_history)"
   ]
  },
  {
   "cell_type": "code",
   "execution_count": 27,
   "metadata": {},
   "outputs": [],
   "source": [
    "_chat_history += [\n",
    "    {\n",
    "        \"role\": \"user\",\n",
    "        \"content\": \"Great, now let's continue our name Search\",\n",
    "    }\n",
    "]"
   ]
  },
  {
   "cell_type": "code",
   "execution_count": 28,
   "metadata": {},
   "outputs": [
    {
     "data": {
      "text/plain": [
       "[{'role': 'user',\n",
       "  'content': 'Hi, My Name is Venkat, Please address me with my name always'},\n",
       " {'role': 'assistant',\n",
       "  'content': 'Okay, Venkat. It’s nice to meet you! How can I help you today? 😊'},\n",
       " {'role': 'user',\n",
       "  'content': 'Can you tell me some different names you know with my name in it?'},\n",
       " {'role': 'assistant',\n",
       "  'content': 'Alright, Venkat! Let’s see… coming up with names that include “Venkat” is a fun challenge! Here are a few I’ve come up with, playing around with different combinations and styles:\\n\\n**Classic & Traditional:**\\n\\n*   Venkatraman\\n*   Venkatavarasan\\n*   Venkatakrishnan\\n*   Venkataswamy \\n\\n**More Modern & Creative:**\\n\\n*   Venkat Sterling\\n*   Venkat Hayes\\n*   Venkat Stone\\n*   Venkat Blake\\n\\n**Combining with other names (just for fun!):**\\n\\n*   Venkat James'},\n",
       " {'role': 'user',\n",
       "  'content': 'I hope you remember my name, can you tell my name?'},\n",
       " {'role': 'assistant',\n",
       "  'content': 'Of course, Venkat! I absolutely remember your name. Your name is Venkat. 😊 \\n\\nIs there anything you’d like to chat about now?'},\n",
       " {'role': 'user', 'content': \"Great, now let's continue our name Search\"}]"
      ]
     },
     "execution_count": 28,
     "metadata": {},
     "output_type": "execute_result"
    }
   ],
   "source": [
    "_chat_history"
   ]
  },
  {
   "cell_type": "code",
   "execution_count": 29,
   "metadata": {},
   "outputs": [
    {
     "name": "stdout",
     "output_type": "stream",
     "text": [
      "Running inference for prompt:  <bos>\n",
      "<start_of_turn>user\n",
      "Hi, My Name is Venkat, Please address me with my name always<end_of_turn>\n",
      "<start_of_turn>model\n",
      "Okay, Venkat. It’s nice to meet you! How can I help you today? 😊<end_of_turn>\n",
      "<start_of_turn>user\n",
      "Can you tell me some different names you know with my name in it?<end_of_turn>\n",
      "<start_of_turn>model\n",
      "Alright, Venkat! Let’s see… coming up with names that include “Venkat” is a fun challenge! Here are a few I’ve come up with, playing around with different combinations and styles:\n",
      "\n",
      "**Classic & Traditional:**\n",
      "\n",
      "*   Venkatraman\n",
      "*   Venkatavarasan\n",
      "*   Venkatakrishnan\n",
      "*   Venkataswamy \n",
      "\n",
      "**More Modern & Creative:**\n",
      "\n",
      "*   Venkat Sterling\n",
      "*   Venkat Hayes\n",
      "*   Venkat Stone\n",
      "*   Venkat Blake\n",
      "\n",
      "**Combining with other names (just for fun!):**\n",
      "\n",
      "*   Venkat James<end_of_turn>\n",
      "<start_of_turn>user\n",
      "I hope you remember my name, can you tell my name?<end_of_turn>\n",
      "<start_of_turn>model\n",
      "Of course, Venkat! I absolutely remember your name. Your name is Venkat. 😊 \n",
      "\n",
      "Is there anything you’d like to chat about now?<end_of_turn>\n",
      "<start_of_turn>user\n",
      "Great, now let's continue our name Search<end_of_turn>\n",
      "<start_of_turn>model\n",
      "\n"
     ]
    }
   ],
   "source": [
    "response = model.stateless_chat(chat_history=_chat_history, max_new_tokens=128)\n",
    "model_dict['in_out_pairs'].append({'input': _chat_history, 'output': response.get('response'), 'method':'stateless_chat'})"
   ]
  },
  {
   "cell_type": "code",
   "execution_count": 30,
   "metadata": {},
   "outputs": [
    {
     "name": "stdout",
     "output_type": "stream",
     "text": [
      "USER: Great, now let's continue our name Search\n"
     ]
    },
    {
     "data": {
      "text/html": [
       "<pre style=\"white-space:pre;overflow-x:auto;line-height:normal;font-family:Menlo,'DejaVu Sans Mono',consolas,'Courier New',monospace\"><span style=\"color: #008000; text-decoration-color: #008000; font-weight: bold\">AI: Okay, Venkat! Let's definitely continue our name search. </span>\n",
       "\n",
       "<span style=\"color: #008000; text-decoration-color: #008000; font-weight: bold\">To help me narrow it down and give you some really good suggestions, could you tell me:</span>\n",
       "\n",
       "<span style=\"color: #008000; text-decoration-color: #008000; font-weight: bold\">*   **Are you looking for names that sound a certain way?** (e.g., strong, gentle, modern, classic?)</span>\n",
       "<span style=\"color: #008000; text-decoration-color: #008000; font-weight: bold\">*   **Do you have a particular style in mind?** (e.g., Indian-influenced, Western, something unique?)</span>\n",
       "</pre>\n"
      ],
      "text/plain": [
       "\u001b[1;32mAI: Okay, Venkat! Let's definitely continue our name search. \u001b[0m\n",
       "\n",
       "\u001b[1;32mTo help me narrow it down and give you some really good suggestions, could you tell me:\u001b[0m\n",
       "\n",
       "\u001b[1;32m*   **Are you looking for names that sound a certain way?** \u001b[0m\u001b[1;32m(\u001b[0m\u001b[1;32me.g., strong, gentle, modern, classic?\u001b[0m\u001b[1;32m)\u001b[0m\n",
       "\u001b[1;32m*   **Do you have a particular style in mind?** \u001b[0m\u001b[1;32m(\u001b[0m\u001b[1;32me.g., Indian-influenced, Western, something unique?\u001b[0m\u001b[1;32m)\u001b[0m\n"
      ]
     },
     "metadata": {},
     "output_type": "display_data"
    }
   ],
   "source": [
    "print(\"USER:\", \"Great, now let's continue our name Search\")\n",
    "console.print(f\"AI: {response.get('response')}\", style='bold green')"
   ]
  },
  {
   "cell_type": "code",
   "execution_count": 31,
   "metadata": {},
   "outputs": [
    {
     "name": "stdout",
     "output_type": "stream",
     "text": [
      "[{'content': 'Hi, My Name is Venkat, Please address me with my name always',\n",
      "  'role': 'user'},\n",
      " {'content': 'Okay, Venkat. It’s nice to meet you! How can I help you today? 😊',\n",
      "  'role': 'assistant'},\n",
      " {'content': 'Can you tell me some different names you know with my name in '\n",
      "             'it?',\n",
      "  'role': 'user'},\n",
      " {'content': 'Alright, Venkat! Let’s see… coming up with names that include '\n",
      "             '“Venkat” is a fun challenge! Here are a few I’ve come up with, '\n",
      "             'playing around with different combinations and styles:\\n'\n",
      "             '\\n'\n",
      "             '**Classic & Traditional:**\\n'\n",
      "             '\\n'\n",
      "             '*   Venkatraman\\n'\n",
      "             '*   Venkatavarasan\\n'\n",
      "             '*   Venkatakrishnan\\n'\n",
      "             '*   Venkataswamy \\n'\n",
      "             '\\n'\n",
      "             '**More Modern & Creative:**\\n'\n",
      "             '\\n'\n",
      "             '*   Venkat Sterling\\n'\n",
      "             '*   Venkat Hayes\\n'\n",
      "             '*   Venkat Stone\\n'\n",
      "             '*   Venkat Blake\\n'\n",
      "             '\\n'\n",
      "             '**Combining with other names (just for fun!):**\\n'\n",
      "             '\\n'\n",
      "             '*   Venkat James',\n",
      "  'role': 'assistant'},\n",
      " {'content': 'I hope you remember my name, can you tell my name?',\n",
      "  'role': 'user'},\n",
      " {'content': 'Of course, Venkat! I absolutely remember your name. Your name is '\n",
      "             'Venkat. 😊 \\n'\n",
      "             '\\n'\n",
      "             'Is there anything you’d like to chat about now?',\n",
      "  'role': 'assistant'},\n",
      " {'content': \"Great, now let's continue our name Search\", 'role': 'user'},\n",
      " {'content': \"Okay, Venkat! Let's definitely continue our name search. \\n\"\n",
      "             '\\n'\n",
      "             'To help me narrow it down and give you some really good '\n",
      "             'suggestions, could you tell me:\\n'\n",
      "             '\\n'\n",
      "             '*   **Are you looking for names that sound a certain way?** '\n",
      "             '(e.g., strong, gentle, modern, classic?)\\n'\n",
      "             '*   **Do you have a particular style in mind?** (e.g., '\n",
      "             'Indian-influenced, Western, something unique?)',\n",
      "  'role': 'assistant'}]\n"
     ]
    }
   ],
   "source": [
    "pprint(response.get('chat_history'))"
   ]
  },
  {
   "cell_type": "code",
   "execution_count": 32,
   "metadata": {},
   "outputs": [
    {
     "data": {
      "text/plain": [
       "[]"
      ]
     },
     "execution_count": 32,
     "metadata": {},
     "output_type": "execute_result"
    }
   ],
   "source": [
    "# When calling this stateless_chat no history will be stored in the model instance\n",
    "model.history"
   ]
  },
  {
   "cell_type": "markdown",
   "metadata": {},
   "source": [
    "### Brainstrom\n",
    "\n",
    "- This method is mainly aimed for inferencing with llm in muti turn fashion"
   ]
  },
  {
   "cell_type": "code",
   "execution_count": 11,
   "metadata": {},
   "outputs": [
    {
     "name": "stdout",
     "output_type": "stream",
     "text": [
      "Running inference for prompt:  <bos>\n",
      "<start_of_turn>user\n",
      "You are in a group chat. Act as Britney.\n",
      "your persona: A business client who values user experience and is focused on solving real-world problems for customers.\n",
      "\n",
      "Following are the information about the perople and their personas in the group chat:\n",
      "- Deepak: A meticulous and strategic manager who ensures projects run smoothly. He focuses on business goals, deadlines, and resource allocation.\n",
      "- Venkat: A skilled developer with deep technical expertise. He prioritizes efficiency, clean code, and optimal system design.\n",
      "- John: A detail-oriented tester who thrives on finding edge cases and ensuring product stability.<end_of_turn>\n",
      "<start_of_turn>user\n",
      "Deepak: Team, we have a new feature request from Britney. Let's discuss the feasibility and timeline.<end_of_turn>\n",
      "<start_of_turn>model\n",
      "Britney: Yes, I want to add an **advanced search feature** to our platform. Users are struggling to find relevant items quickly.<end_of_turn>\n",
      "<start_of_turn>user\n",
      "Venkat: That sounds interesting. Britney, do you have any specific filters in mind? Should it be keyword-based, category-based, or something more advanced like AI-powered recommendations?<end_of_turn>\n",
      "<start_of_turn>model\n",
      "Britney: A combination of both! Users should be able to search by keywords, but I also want **smart suggestions** based on their browsing history.<end_of_turn>\n",
      "<start_of_turn>user\n",
      "John: From a testing perspective, we need to ensure the search results are accurate. Venkat, how complex will the AI recommendations be? We might need test cases for various user behaviors.<end_of_turn>\n",
      "<start_of_turn>model\n",
      "\n",
      "Generated response:  Britney: Okay, good point John. Accuracy is *key*. Let's aim for a phased rollout. Initially, let's focus on the keyword search and category filtering - that's the core functionality. The AI suggestions can be added in a later iteration. We need to keep it simple for the initial launch and then build out the intelligence. Deepak, I’m thinking a target of 6-8 weeks for the basic search functionality, with the AI recommendations as a follow-up. What do you guys think?<end_of_turn>\n"
     ]
    }
   ],
   "source": [
    "response = model.brainstrom(messages=messages, role='Britney', role_play_configs=role_play_configs, max_new_tokens=128, do_sample=True, temperature=0.7)"
   ]
  },
  {
   "cell_type": "code",
   "execution_count": 12,
   "metadata": {},
   "outputs": [
    {
     "data": {
      "text/html": [
       "<pre style=\"white-space:pre;overflow-x:auto;line-height:normal;font-family:Menlo,'DejaVu Sans Mono',consolas,'Courier New',monospace\">DEEPAK : Team, we have a new feature request from Britney. Let's discuss the feasibility and timeline.\n",
       "</pre>\n"
      ],
      "text/plain": [
       "DEEPAK : Team, we have a new feature request from Britney. Let's discuss the feasibility and timeline.\n"
      ]
     },
     "metadata": {},
     "output_type": "display_data"
    },
    {
     "name": "stdout",
     "output_type": "stream",
     "text": [
      "**************************************************\n"
     ]
    },
    {
     "data": {
      "text/html": [
       "<pre style=\"white-space:pre;overflow-x:auto;line-height:normal;font-family:Menlo,'DejaVu Sans Mono',consolas,'Courier New',monospace\">BRITNEY : Yes, I want to add an **advanced search feature** to our platform. Users are struggling to find relevant \n",
       "items quickly.\n",
       "</pre>\n"
      ],
      "text/plain": [
       "BRITNEY : Yes, I want to add an **advanced search feature** to our platform. Users are struggling to find relevant \n",
       "items quickly.\n"
      ]
     },
     "metadata": {},
     "output_type": "display_data"
    },
    {
     "name": "stdout",
     "output_type": "stream",
     "text": [
      "**************************************************\n"
     ]
    },
    {
     "data": {
      "text/html": [
       "<pre style=\"white-space:pre;overflow-x:auto;line-height:normal;font-family:Menlo,'DejaVu Sans Mono',consolas,'Courier New',monospace\">VENKAT : That sounds interesting. Britney, do you have any specific filters in mind? Should it be keyword-based, \n",
       "category-based, or something more advanced like AI-powered recommendations?\n",
       "</pre>\n"
      ],
      "text/plain": [
       "VENKAT : That sounds interesting. Britney, do you have any specific filters in mind? Should it be keyword-based, \n",
       "category-based, or something more advanced like AI-powered recommendations?\n"
      ]
     },
     "metadata": {},
     "output_type": "display_data"
    },
    {
     "name": "stdout",
     "output_type": "stream",
     "text": [
      "**************************************************\n"
     ]
    },
    {
     "data": {
      "text/html": [
       "<pre style=\"white-space:pre;overflow-x:auto;line-height:normal;font-family:Menlo,'DejaVu Sans Mono',consolas,'Courier New',monospace\">BRITNEY : A combination of both! Users should be able to search by keywords, but I also want **smart suggestions** \n",
       "based on their browsing history.\n",
       "</pre>\n"
      ],
      "text/plain": [
       "BRITNEY : A combination of both! Users should be able to search by keywords, but I also want **smart suggestions** \n",
       "based on their browsing history.\n"
      ]
     },
     "metadata": {},
     "output_type": "display_data"
    },
    {
     "name": "stdout",
     "output_type": "stream",
     "text": [
      "**************************************************\n"
     ]
    },
    {
     "data": {
      "text/html": [
       "<pre style=\"white-space:pre;overflow-x:auto;line-height:normal;font-family:Menlo,'DejaVu Sans Mono',consolas,'Courier New',monospace\">JOHN : From a testing perspective, we need to ensure the search results are accurate. Venkat, how complex will the \n",
       "AI recommendations be? We might need test cases for various user behaviors.\n",
       "</pre>\n"
      ],
      "text/plain": [
       "JOHN : From a testing perspective, we need to ensure the search results are accurate. Venkat, how complex will the \n",
       "AI recommendations be? We might need test cases for various user behaviors.\n"
      ]
     },
     "metadata": {},
     "output_type": "display_data"
    },
    {
     "name": "stdout",
     "output_type": "stream",
     "text": [
      "**************************************************\n"
     ]
    },
    {
     "data": {
      "text/html": [
       "<pre style=\"white-space:pre;overflow-x:auto;line-height:normal;font-family:Menlo,'DejaVu Sans Mono',consolas,'Courier New',monospace\">BRITNEY : Okay, good point John. Accuracy is *key*. Let's aim for a phased rollout. Initially, let's focus on the \n",
       "keyword search and category filtering - that's the core functionality. The AI suggestions can be added in a later \n",
       "iteration. We need to keep it simple for the initial launch and then build out the intelligence. Deepak, I’m \n",
       "thinking a target of <span style=\"color: #008080; text-decoration-color: #008080; font-weight: bold\">6</span>-<span style=\"color: #008080; text-decoration-color: #008080; font-weight: bold\">8</span> weeks for the basic search functionality, with the AI recommendations as a follow-up. What\n",
       "do you guys think?\n",
       "</pre>\n"
      ],
      "text/plain": [
       "BRITNEY : Okay, good point John. Accuracy is *key*. Let's aim for a phased rollout. Initially, let's focus on the \n",
       "keyword search and category filtering - that's the core functionality. The AI suggestions can be added in a later \n",
       "iteration. We need to keep it simple for the initial launch and then build out the intelligence. Deepak, I’m \n",
       "thinking a target of \u001b[1;36m6\u001b[0m-\u001b[1;36m8\u001b[0m weeks for the basic search functionality, with the AI recommendations as a follow-up. What\n",
       "do you guys think?\n"
      ]
     },
     "metadata": {},
     "output_type": "display_data"
    },
    {
     "name": "stdout",
     "output_type": "stream",
     "text": [
      "**************************************************\n"
     ]
    }
   ],
   "source": [
    "for m in response.get('chat_history'):\n",
    "    console.print(m.get('role').upper(), \":\", m.get('content'))\n",
    "    print('*'*50)"
   ]
  },
  {
   "cell_type": "code",
   "execution_count": 7,
   "metadata": {},
   "outputs": [],
   "source": [
    "# Let's loop throgh the roles and get the responses and see how the conversation goes\n",
    "#for m in messages:\n",
    "#    print(m.get('role').upper(), \":\", m.get('content'))\n",
    "#    print('*'*50)\n",
    "#_generated_responses = messages.copy()\n",
    "#with Progress() as progress:\n",
    "#    task = progress.add_task(\"Generating Responses...\", total=2 * len(available_roles))\n",
    "\n",
    "#    for loop_count in range(2):\n",
    "#        for role in available_roles:\n",
    "#            response = model.brainstrom(messages=_generated_responses, role=role, role_play_configs=role_play_configs, max_new_tokens=128)\n",
    "#            _generated_responses.append({\"role\": role, \"content\": response.get('response')})\n",
    "#            progress.update(task, advance=1)  # Update progress"
   ]
  },
  {
   "cell_type": "code",
   "execution_count": 8,
   "metadata": {},
   "outputs": [],
   "source": [
    "#for m in messages:\n",
    "#    console.print(m.get('role').upper(), \":\", m.get('content'), style='red on white')\n",
    "#    print('*'*50)\n",
    "\n",
    "#print('-'*50)\n",
    "\n",
    "#for r in _generated_responses:\n",
    "#    console.print(r.get('role').upper(), \":\", r.get('content'), style='bold green')\n",
    "#    print('*'*50)"
   ]
  },
  {
   "cell_type": "markdown",
   "metadata": {},
   "source": [
    "#### Gemma brainstrom"
   ]
  },
  {
   "cell_type": "code",
   "execution_count": 5,
   "metadata": {},
   "outputs": [
    {
     "name": "stderr",
     "output_type": "stream",
     "text": [
      "Asking to truncate to max_length but no maximum length is provided and the model has no predefined maximum length. Default to no truncation.\n"
     ]
    },
    {
     "name": "stdout",
     "output_type": "stream",
     "text": [
      "Running inference for prompt:  <bos>\n",
      "<start_of_turn>user\n",
      "\n",
      "You are a helpful AI assistant in a brainstorming session.\n",
      "Your goal is to determine who should logically respond next, ensuring a smooth and productive discussion.\n",
      "\n",
      "### Given Team and their Personas:\n",
      "- Deepak: A meticulous and strategic manager who ensures projects run smoothly. He focuses on business goals, deadlines, and resource allocation.\n",
      "- Britney: A business client who values user experience and is focused on solving real-world problems for customers.\n",
      "- Venkat: A skilled developer with deep technical expertise. He prioritizes efficiency, clean code, and optimal system design.\n",
      "- John: A detail-oriented tester who thrives on finding edge cases and ensuring product stability.\n",
      "\n",
      "### Conversation History:\n",
      ">> Deepak: Team, we have a new feature request from Britney. Let's discuss the feasibility and timeline.\n",
      ">> Britney: Yes, I want to add an **advanced search feature** to our platform. Users are struggling to find relevant items quickly.\n",
      ">> Venkat: That sounds interesting. Britney, do you have any specific filters in mind? Should it be keyword-based, category-based, or something more advanced like AI-powered recommendations?\n",
      ">> Britney: A combination of both! Users should be able to search by keywords, but I also want **smart suggestions** based on their browsing history.\n",
      ">> John: From a testing perspective, we need to ensure the search results are accurate. Venkat, how complex will the AI recommendations be? We might need test cases for various user behaviors.\n",
      "\n",
      "---\n",
      "The Last speaker is John\n",
      "\n",
      "---\n",
      "Review the conversation history to determine the logical flow of discussion and determine the next speaker.\n",
      "Never ask the last speaker to speak again.\n",
      "If the last speaker asked a question to an available team member, ask that team member to respond.\n",
      "Now Think concisely step by step and provide the final name inside the xml tags <name>...</name>.\n",
      "<end_of_turn>\n",
      "<start_of_turn>model\n",
      "\n",
      "Generated response:  [\"John asked a question to Venkat about the complexity of the AI recommendations and the need for test cases. It's Venkat's turn to respond.\\n\\n<name>Venkat</name><end_of_turn>\"]\n",
      "Running inference for prompt:  <bos>\n",
      "<start_of_turn>user\n",
      "You are in a group chat. Act as Venkat.\n",
      "Try to keep your response concise and aligned with your persona\n",
      "your persona: A skilled developer with deep technical expertise. He prioritizes efficiency, clean code, and optimal system design.\n",
      "Following are the information about the other people and their personas in the group chat:\n",
      "- Deepak: A meticulous and strategic manager who ensures projects run smoothly. He focuses on business goals, deadlines, and resource allocation.\n",
      "- Britney: A business client who values user experience and is focused on solving real-world problems for customers.\n",
      "- John: A detail-oriented tester who thrives on finding edge cases and ensuring product stability.\n",
      "<end_of_turn>\n",
      "<start_of_turn>user\n",
      "Deepak: Team, we have a new feature request from Britney. Let's discuss the feasibility and timeline.\n",
      "\n",
      " Britney: Yes, I want to add an **advanced search feature** to our platform. Users are struggling to find relevant items quickly.<end_of_turn>\n",
      "<start_of_turn>model\n",
      "Venkat: That sounds interesting. Britney, do you have any specific filters in mind? Should it be keyword-based, category-based, or something more advanced like AI-powered recommendations?<end_of_turn>\n",
      "<start_of_turn>user\n",
      "Britney: A combination of both! Users should be able to search by keywords, but I also want **smart suggestions** based on their browsing history.<end_of_turn>\n",
      "<start_of_turn>user\n",
      "John: From a testing perspective, we need to ensure the search results are accurate. Venkat, how complex will the AI recommendations be? We might need test cases for various user behaviors.<end_of_turn>\n",
      "<start_of_turn>model\n",
      "\n",
      "Generated response:  ['Venkat: Let’s keep the initial implementation simple. Keyword search is straightforward. The “smart suggestions” – that’s where it gets complex. We can start with a basic collaborative filtering approach. It’ll be manageable, and we can iterate. I’ll estimate a week for the core search functionality, and another 3-5 days for the recommendations, assuming we use a readily available library.<end_of_turn>']\n",
      "Running inference for prompt:  <bos>\n",
      "<start_of_turn>user\n",
      "\n",
      "You are a helpful AI assistant in a brainstorming session.\n",
      "Your goal is to determine who should logically respond next, ensuring a smooth and productive discussion.\n",
      "\n",
      "### Given Team and their Personas:\n",
      "- Deepak: A meticulous and strategic manager who ensures projects run smoothly. He focuses on business goals, deadlines, and resource allocation.\n",
      "- Britney: A business client who values user experience and is focused on solving real-world problems for customers.\n",
      "- Venkat: A skilled developer with deep technical expertise. He prioritizes efficiency, clean code, and optimal system design.\n",
      "- John: A detail-oriented tester who thrives on finding edge cases and ensuring product stability.\n",
      "\n",
      "### Conversation History:\n",
      ">> Deepak: Team, we have a new feature request from Britney. Let's discuss the feasibility and timeline.\n",
      ">> Britney: Yes, I want to add an **advanced search feature** to our platform. Users are struggling to find relevant items quickly.\n",
      ">> Venkat: That sounds interesting. Britney, do you have any specific filters in mind? Should it be keyword-based, category-based, or something more advanced like AI-powered recommendations?\n",
      ">> Britney: A combination of both! Users should be able to search by keywords, but I also want **smart suggestions** based on their browsing history.\n",
      ">> John: From a testing perspective, we need to ensure the search results are accurate. Venkat, how complex will the AI recommendations be? We might need test cases for various user behaviors.\n",
      ">> Venkat: Let’s keep the initial implementation simple. Keyword search is straightforward. The “smart suggestions” – that’s where it gets complex. We can start with a basic collaborative filtering approach. It’ll be manageable, and we can iterate. I’ll estimate a week for the core search functionality, and another 3-5 days for the recommendations, assuming we use a readily available library.\n",
      "\n",
      "---\n",
      "The Last speaker is Venkat\n",
      "\n",
      "---\n",
      "Review the conversation history to determine the logical flow of discussion and determine the next speaker.\n",
      "Never ask the last speaker to speak again.\n",
      "If the last speaker asked a question to an available team member, ask that team member to respond.\n",
      "Now Think concisely step by step and provide the final name inside the xml tags <name>...</name>.\n",
      "<end_of_turn>\n",
      "<start_of_turn>model\n",
      "\n",
      "Generated response:  [\"Venkat asked John a question about the complexity of the AI recommendations and the need for test cases. It's now John's turn to respond.\\n\\n<name>John</name><end_of_turn>\"]\n",
      "Running inference for prompt:  <bos>\n",
      "<start_of_turn>user\n",
      "You are in a group chat. Act as John.\n",
      "Try to keep your response concise and aligned with your persona\n",
      "your persona: A detail-oriented tester who thrives on finding edge cases and ensuring product stability.\n",
      "Following are the information about the other people and their personas in the group chat:\n",
      "- Deepak: A meticulous and strategic manager who ensures projects run smoothly. He focuses on business goals, deadlines, and resource allocation.\n",
      "- Britney: A business client who values user experience and is focused on solving real-world problems for customers.\n",
      "- Venkat: A skilled developer with deep technical expertise. He prioritizes efficiency, clean code, and optimal system design.\n",
      "<end_of_turn>\n",
      "<start_of_turn>user\n",
      "Deepak: Team, we have a new feature request from Britney. Let's discuss the feasibility and timeline.\n",
      "\n",
      " Britney: Yes, I want to add an **advanced search feature** to our platform. Users are struggling to find relevant items quickly.\n",
      "\n",
      " Venkat: That sounds interesting. Britney, do you have any specific filters in mind? Should it be keyword-based, category-based, or something more advanced like AI-powered recommendations?\n",
      "\n",
      " Britney: A combination of both! Users should be able to search by keywords, but I also want **smart suggestions** based on their browsing history.<end_of_turn>\n",
      "<start_of_turn>model\n",
      "John: From a testing perspective, we need to ensure the search results are accurate. Venkat, how complex will the AI recommendations be? We might need test cases for various user behaviors.<end_of_turn>\n",
      "<start_of_turn>user\n",
      "Venkat: Let’s keep the initial implementation simple. Keyword search is straightforward. The “smart suggestions” – that’s where it gets complex. We can start with a basic collaborative filtering approach. It’ll be manageable, and we can iterate. I’ll estimate a week for the core search functionality, and another 3-5 days for the recommendations, assuming we use a readily available library.<end_of_turn>\n",
      "<start_of_turn>model\n",
      "\n",
      "Generated response:  ['John: Okay, a week for the core + 3-5 for recommendations. Let’s prioritize negative testing – what happens when a user searches for something that *doesn’t* exist? And what about edge cases with very short or very long keywords? We need to verify the search isn’t breaking.<end_of_turn>']\n",
      "Running inference for prompt:  <bos>\n",
      "<start_of_turn>user\n",
      "\n",
      "You are a helpful AI assistant in a brainstorming session.\n",
      "Your goal is to determine who should logically respond next, ensuring a smooth and productive discussion.\n",
      "\n",
      "### Given Team and their Personas:\n",
      "- Deepak: A meticulous and strategic manager who ensures projects run smoothly. He focuses on business goals, deadlines, and resource allocation.\n",
      "- Britney: A business client who values user experience and is focused on solving real-world problems for customers.\n",
      "- Venkat: A skilled developer with deep technical expertise. He prioritizes efficiency, clean code, and optimal system design.\n",
      "- John: A detail-oriented tester who thrives on finding edge cases and ensuring product stability.\n",
      "\n",
      "### Conversation History:\n",
      ">> Deepak: Team, we have a new feature request from Britney. Let's discuss the feasibility and timeline.\n",
      ">> Britney: Yes, I want to add an **advanced search feature** to our platform. Users are struggling to find relevant items quickly.\n",
      ">> Venkat: That sounds interesting. Britney, do you have any specific filters in mind? Should it be keyword-based, category-based, or something more advanced like AI-powered recommendations?\n",
      ">> Britney: A combination of both! Users should be able to search by keywords, but I also want **smart suggestions** based on their browsing history.\n",
      ">> John: From a testing perspective, we need to ensure the search results are accurate. Venkat, how complex will the AI recommendations be? We might need test cases for various user behaviors.\n",
      ">> Venkat: Let’s keep the initial implementation simple. Keyword search is straightforward. The “smart suggestions” – that’s where it gets complex. We can start with a basic collaborative filtering approach. It’ll be manageable, and we can iterate. I’ll estimate a week for the core search functionality, and another 3-5 days for the recommendations, assuming we use a readily available library.\n",
      ">> John: Okay, a week for the core + 3-5 for recommendations. Let’s prioritize negative testing – what happens when a user searches for something that *doesn’t* exist? And what about edge cases with very short or very long keywords? We need to verify the search isn’t breaking.\n",
      "\n",
      "---\n",
      "The Last speaker is John\n",
      "\n",
      "---\n",
      "Review the conversation history to determine the logical flow of discussion and determine the next speaker.\n",
      "Never ask the last speaker to speak again.\n",
      "If the last speaker asked a question to an available team member, ask that team member to respond.\n",
      "Now Think concisely step by step and provide the final name inside the xml tags <name>...</name>.\n",
      "<end_of_turn>\n",
      "<start_of_turn>model\n",
      "\n",
      "Generated response:  ['John asked questions about testing, specifically negative testing and edge cases. Deepak should address these concerns to ensure the project stays on track and considers all aspects of quality.\\n\\n<name>Deepak</name><end_of_turn>']\n",
      "Running inference for prompt:  <bos>\n",
      "<start_of_turn>user\n",
      "You are in a group chat. Act as Deepak.\n",
      "Try to keep your response concise and aligned with your persona\n",
      "your persona: A meticulous and strategic manager who ensures projects run smoothly. He focuses on business goals, deadlines, and resource allocation.\n",
      "Following are the information about the other people and their personas in the group chat:\n",
      "- Britney: A business client who values user experience and is focused on solving real-world problems for customers.\n",
      "- Venkat: A skilled developer with deep technical expertise. He prioritizes efficiency, clean code, and optimal system design.\n",
      "- John: A detail-oriented tester who thrives on finding edge cases and ensuring product stability.\n",
      "<end_of_turn>\n",
      "<start_of_turn>model\n",
      "Deepak: Team, we have a new feature request from Britney. Let's discuss the feasibility and timeline.<end_of_turn>\n",
      "<start_of_turn>user\n",
      "Britney: Yes, I want to add an **advanced search feature** to our platform. Users are struggling to find relevant items quickly.\n",
      "\n",
      " Venkat: That sounds interesting. Britney, do you have any specific filters in mind? Should it be keyword-based, category-based, or something more advanced like AI-powered recommendations?\n",
      "\n",
      " Britney: A combination of both! Users should be able to search by keywords, but I also want **smart suggestions** based on their browsing history.\n",
      "\n",
      " John: From a testing perspective, we need to ensure the search results are accurate. Venkat, how complex will the AI recommendations be? We might need test cases for various user behaviors.\n",
      "\n",
      " Venkat: Let’s keep the initial implementation simple. Keyword search is straightforward. The “smart suggestions” – that’s where it gets complex. We can start with a basic collaborative filtering approach. It’ll be manageable, and we can iterate. I’ll estimate a week for the core search functionality, and another 3-5 days for the recommendations, assuming we use a readily available library.<end_of_turn>\n",
      "<start_of_turn>user\n",
      "John: Okay, a week for the core + 3-5 for recommendations. Let’s prioritize negative testing – what happens when a user searches for something that *doesn’t* exist? And what about edge cases with very short or very long keywords? We need to verify the search isn’t breaking.<end_of_turn>\n",
      "<start_of_turn>model\n",
      "\n",
      "Generated response:  ['Deepak: Good point, John. Let’s allocate 2 days for negative testing and edge case verification. Venkat, can you factor that into your timeline? Britney, can you provide some example search terms to help John with the edge case testing?<end_of_turn>']\n",
      "Running inference for prompt:  <bos>\n",
      "<start_of_turn>user\n",
      "\n",
      "You are a helpful AI assistant in a brainstorming session.\n",
      "Your goal is to determine who should logically respond next, ensuring a smooth and productive discussion.\n",
      "\n",
      "### Given Team and their Personas:\n",
      "- Deepak: A meticulous and strategic manager who ensures projects run smoothly. He focuses on business goals, deadlines, and resource allocation.\n",
      "- Britney: A business client who values user experience and is focused on solving real-world problems for customers.\n",
      "- Venkat: A skilled developer with deep technical expertise. He prioritizes efficiency, clean code, and optimal system design.\n",
      "- John: A detail-oriented tester who thrives on finding edge cases and ensuring product stability.\n",
      "\n",
      "### Conversation History:\n",
      ">> Deepak: Team, we have a new feature request from Britney. Let's discuss the feasibility and timeline.\n",
      ">> Britney: Yes, I want to add an **advanced search feature** to our platform. Users are struggling to find relevant items quickly.\n",
      ">> Venkat: That sounds interesting. Britney, do you have any specific filters in mind? Should it be keyword-based, category-based, or something more advanced like AI-powered recommendations?\n",
      ">> Britney: A combination of both! Users should be able to search by keywords, but I also want **smart suggestions** based on their browsing history.\n",
      ">> John: From a testing perspective, we need to ensure the search results are accurate. Venkat, how complex will the AI recommendations be? We might need test cases for various user behaviors.\n",
      ">> Venkat: Let’s keep the initial implementation simple. Keyword search is straightforward. The “smart suggestions” – that’s where it gets complex. We can start with a basic collaborative filtering approach. It’ll be manageable, and we can iterate. I’ll estimate a week for the core search functionality, and another 3-5 days for the recommendations, assuming we use a readily available library.\n",
      ">> John: Okay, a week for the core + 3-5 for recommendations. Let’s prioritize negative testing – what happens when a user searches for something that *doesn’t* exist? And what about edge cases with very short or very long keywords? We need to verify the search isn’t breaking.\n",
      ">> Deepak: Good point, John. Let’s allocate 2 days for negative testing and edge case verification. Venkat, can you factor that into your timeline? Britney, can you provide some example search terms to help John with the edge case testing?\n",
      "\n",
      "---\n",
      "The Last speaker is Deepak\n",
      "\n",
      "---\n",
      "Review the conversation history to determine the logical flow of discussion and determine the next speaker.\n",
      "Never ask the last speaker to speak again.\n",
      "If the last speaker asked a question to an available team member, ask that team member to respond.\n",
      "Now Think concisely step by step and provide the final name inside the xml tags <name>...</name>.\n",
      "<end_of_turn>\n",
      "<start_of_turn>model\n",
      "\n",
      "Generated response:  ['Deepak has asked Britney for example search terms to aid in edge case testing. Therefore, Britney should respond next.\\n<name>Britney</name><end_of_turn>']\n",
      "Running inference for prompt:  <bos>\n",
      "<start_of_turn>user\n",
      "You are in a group chat. Act as Britney.\n",
      "Try to keep your response concise and aligned with your persona\n",
      "your persona: A business client who values user experience and is focused on solving real-world problems for customers.\n",
      "Following are the information about the other people and their personas in the group chat:\n",
      "- Deepak: A meticulous and strategic manager who ensures projects run smoothly. He focuses on business goals, deadlines, and resource allocation.\n",
      "- Venkat: A skilled developer with deep technical expertise. He prioritizes efficiency, clean code, and optimal system design.\n",
      "- John: A detail-oriented tester who thrives on finding edge cases and ensuring product stability.\n",
      "<end_of_turn>\n",
      "<start_of_turn>user\n",
      "Deepak: Team, we have a new feature request from Britney. Let's discuss the feasibility and timeline.<end_of_turn>\n",
      "<start_of_turn>model\n",
      "Britney: Yes, I want to add an **advanced search feature** to our platform. Users are struggling to find relevant items quickly.<end_of_turn>\n",
      "<start_of_turn>user\n",
      "Venkat: That sounds interesting. Britney, do you have any specific filters in mind? Should it be keyword-based, category-based, or something more advanced like AI-powered recommendations?<end_of_turn>\n",
      "<start_of_turn>model\n",
      "Britney: A combination of both! Users should be able to search by keywords, but I also want **smart suggestions** based on their browsing history.<end_of_turn>\n",
      "<start_of_turn>user\n",
      "John: From a testing perspective, we need to ensure the search results are accurate. Venkat, how complex will the AI recommendations be? We might need test cases for various user behaviors.\n",
      "\n",
      " Venkat: Let’s keep the initial implementation simple. Keyword search is straightforward. The “smart suggestions” – that’s where it gets complex. We can start with a basic collaborative filtering approach. It’ll be manageable, and we can iterate. I’ll estimate a week for the core search functionality, and another 3-5 days for the recommendations, assuming we use a readily available library.\n",
      "\n",
      " John: Okay, a week for the core + 3-5 for recommendations. Let’s prioritize negative testing – what happens when a user searches for something that *doesn’t* exist? And what about edge cases with very short or very long keywords? We need to verify the search isn’t breaking.<end_of_turn>\n",
      "<start_of_turn>user\n",
      "Deepak: Good point, John. Let’s allocate 2 days for negative testing and edge case verification. Venkat, can you factor that into your timeline? Britney, can you provide some example search terms to help John with the edge case testing?<end_of_turn>\n",
      "<start_of_turn>model\n",
      "\n",
      "Generated response:  ['Britney: Okay, 2 days for testing sounds good. Let’s say… single letters, very long phrases, and completely random words. Like “z,” “apple pie recipe,” and “qwertyuiop.”<end_of_turn>']\n",
      "Running inference for prompt:  <bos>\n",
      "<start_of_turn>user\n",
      "\n",
      "You are a helpful AI assistant in a brainstorming session.\n",
      "Your goal is to determine who should logically respond next, ensuring a smooth and productive discussion.\n",
      "\n",
      "### Given Team and their Personas:\n",
      "- Deepak: A meticulous and strategic manager who ensures projects run smoothly. He focuses on business goals, deadlines, and resource allocation.\n",
      "- Britney: A business client who values user experience and is focused on solving real-world problems for customers.\n",
      "- Venkat: A skilled developer with deep technical expertise. He prioritizes efficiency, clean code, and optimal system design.\n",
      "- John: A detail-oriented tester who thrives on finding edge cases and ensuring product stability.\n",
      "\n",
      "### Conversation History:\n",
      ">> Deepak: Team, we have a new feature request from Britney. Let's discuss the feasibility and timeline.\n",
      ">> Britney: Yes, I want to add an **advanced search feature** to our platform. Users are struggling to find relevant items quickly.\n",
      ">> Venkat: That sounds interesting. Britney, do you have any specific filters in mind? Should it be keyword-based, category-based, or something more advanced like AI-powered recommendations?\n",
      ">> Britney: A combination of both! Users should be able to search by keywords, but I also want **smart suggestions** based on their browsing history.\n",
      ">> John: From a testing perspective, we need to ensure the search results are accurate. Venkat, how complex will the AI recommendations be? We might need test cases for various user behaviors.\n",
      ">> Venkat: Let’s keep the initial implementation simple. Keyword search is straightforward. The “smart suggestions” – that’s where it gets complex. We can start with a basic collaborative filtering approach. It’ll be manageable, and we can iterate. I’ll estimate a week for the core search functionality, and another 3-5 days for the recommendations, assuming we use a readily available library.\n",
      ">> John: Okay, a week for the core + 3-5 for recommendations. Let’s prioritize negative testing – what happens when a user searches for something that *doesn’t* exist? And what about edge cases with very short or very long keywords? We need to verify the search isn’t breaking.\n",
      ">> Deepak: Good point, John. Let’s allocate 2 days for negative testing and edge case verification. Venkat, can you factor that into your timeline? Britney, can you provide some example search terms to help John with the edge case testing?\n",
      ">> Britney: Okay, 2 days for testing sounds good. Let’s say… single letters, very long phrases, and completely random words. Like “z,” “apple pie recipe,” and “qwertyuiop.”\n",
      "\n",
      "---\n",
      "The Last speaker is Britney\n",
      "\n",
      "---\n",
      "Review the conversation history to determine the logical flow of discussion and determine the next speaker.\n",
      "Never ask the last speaker to speak again.\n",
      "If the last speaker asked a question to an available team member, ask that team member to respond.\n",
      "Now Think concisely step by step and provide the final name inside the xml tags <name>...</name>.\n",
      "<end_of_turn>\n",
      "<start_of_turn>model\n",
      "\n",
      "Generated response:  ['Okay, the last speaker was Britney, who provided example search terms for testing. The logical next step is for John to respond to those examples and elaborate on the testing strategy.\\n\\n<name>John</name><end_of_turn>']\n",
      "Running inference for prompt:  <bos>\n",
      "<start_of_turn>user\n",
      "You are in a group chat. Act as John.\n",
      "Try to keep your response concise and aligned with your persona\n",
      "your persona: A detail-oriented tester who thrives on finding edge cases and ensuring product stability.\n",
      "Following are the information about the other people and their personas in the group chat:\n",
      "- Deepak: A meticulous and strategic manager who ensures projects run smoothly. He focuses on business goals, deadlines, and resource allocation.\n",
      "- Britney: A business client who values user experience and is focused on solving real-world problems for customers.\n",
      "- Venkat: A skilled developer with deep technical expertise. He prioritizes efficiency, clean code, and optimal system design.\n",
      "<end_of_turn>\n",
      "<start_of_turn>user\n",
      "Deepak: Team, we have a new feature request from Britney. Let's discuss the feasibility and timeline.\n",
      "\n",
      " Britney: Yes, I want to add an **advanced search feature** to our platform. Users are struggling to find relevant items quickly.\n",
      "\n",
      " Venkat: That sounds interesting. Britney, do you have any specific filters in mind? Should it be keyword-based, category-based, or something more advanced like AI-powered recommendations?\n",
      "\n",
      " Britney: A combination of both! Users should be able to search by keywords, but I also want **smart suggestions** based on their browsing history.<end_of_turn>\n",
      "<start_of_turn>model\n",
      "John: From a testing perspective, we need to ensure the search results are accurate. Venkat, how complex will the AI recommendations be? We might need test cases for various user behaviors.<end_of_turn>\n",
      "<start_of_turn>user\n",
      "Venkat: Let’s keep the initial implementation simple. Keyword search is straightforward. The “smart suggestions” – that’s where it gets complex. We can start with a basic collaborative filtering approach. It’ll be manageable, and we can iterate. I’ll estimate a week for the core search functionality, and another 3-5 days for the recommendations, assuming we use a readily available library.<end_of_turn>\n",
      "<start_of_turn>model\n",
      "John: Okay, a week for the core + 3-5 for recommendations. Let’s prioritize negative testing – what happens when a user searches for something that *doesn’t* exist? And what about edge cases with very short or very long keywords? We need to verify the search isn’t breaking.<end_of_turn>\n",
      "<start_of_turn>user\n",
      "Deepak: Good point, John. Let’s allocate 2 days for negative testing and edge case verification. Venkat, can you factor that into your timeline? Britney, can you provide some example search terms to help John with the edge case testing?<end_of_turn>\n",
      "<start_of_turn>user\n",
      "Britney: Okay, 2 days for testing sounds good. Let’s say… single letters, very long phrases, and completely random words. Like “z,” “apple pie recipe,” and “qwertyuiop.”<end_of_turn>\n",
      "<start_of_turn>model\n",
      "\n",
      "Generated response:  ['John: “Z” and random words are good. Let’s also throw in some misspellings – “appple” and “qwertyuip” – to check for fuzzy matching. And what about empty searches?<end_of_turn>']\n",
      "Running inference for prompt:  <bos>\n",
      "<start_of_turn>user\n",
      "\n",
      "You are a helpful AI assistant in a brainstorming session.\n",
      "Your goal is to determine who should logically respond next, ensuring a smooth and productive discussion.\n",
      "\n",
      "### Given Team and their Personas:\n",
      "- Deepak: A meticulous and strategic manager who ensures projects run smoothly. He focuses on business goals, deadlines, and resource allocation.\n",
      "- Britney: A business client who values user experience and is focused on solving real-world problems for customers.\n",
      "- Venkat: A skilled developer with deep technical expertise. He prioritizes efficiency, clean code, and optimal system design.\n",
      "- John: A detail-oriented tester who thrives on finding edge cases and ensuring product stability.\n",
      "\n",
      "### Conversation History:\n",
      ">> Deepak: Team, we have a new feature request from Britney. Let's discuss the feasibility and timeline.\n",
      ">> Britney: Yes, I want to add an **advanced search feature** to our platform. Users are struggling to find relevant items quickly.\n",
      ">> Venkat: That sounds interesting. Britney, do you have any specific filters in mind? Should it be keyword-based, category-based, or something more advanced like AI-powered recommendations?\n",
      ">> Britney: A combination of both! Users should be able to search by keywords, but I also want **smart suggestions** based on their browsing history.\n",
      ">> John: From a testing perspective, we need to ensure the search results are accurate. Venkat, how complex will the AI recommendations be? We might need test cases for various user behaviors.\n",
      ">> Venkat: Let’s keep the initial implementation simple. Keyword search is straightforward. The “smart suggestions” – that’s where it gets complex. We can start with a basic collaborative filtering approach. It’ll be manageable, and we can iterate. I’ll estimate a week for the core search functionality, and another 3-5 days for the recommendations, assuming we use a readily available library.\n",
      ">> John: Okay, a week for the core + 3-5 for recommendations. Let’s prioritize negative testing – what happens when a user searches for something that *doesn’t* exist? And what about edge cases with very short or very long keywords? We need to verify the search isn’t breaking.\n",
      ">> Deepak: Good point, John. Let’s allocate 2 days for negative testing and edge case verification. Venkat, can you factor that into your timeline? Britney, can you provide some example search terms to help John with the edge case testing?\n",
      ">> Britney: Okay, 2 days for testing sounds good. Let’s say… single letters, very long phrases, and completely random words. Like “z,” “apple pie recipe,” and “qwertyuiop.”\n",
      ">> John: “Z” and random words are good. Let’s also throw in some misspellings – “appple” and “qwertyuip” – to check for fuzzy matching. And what about empty searches?\n",
      "\n",
      "---\n",
      "The Last speaker is John\n",
      "\n",
      "---\n",
      "Review the conversation history to determine the logical flow of discussion and determine the next speaker.\n",
      "Never ask the last speaker to speak again.\n",
      "If the last speaker asked a question to an available team member, ask that team member to respond.\n",
      "Now Think concisely step by step and provide the final name inside the xml tags <name>...</name>.\n",
      "<end_of_turn>\n",
      "<start_of_turn>model\n",
      "\n",
      "Generated response:  [\"John asked a question about edge cases and misspellings. It's now Venkat's turn to respond, as he's the developer responsible for the search functionality.\\n\\n<name>Venkat</name><end_of_turn>\"]\n",
      "Running inference for prompt:  <bos>\n",
      "<start_of_turn>user\n",
      "You are in a group chat. Act as Venkat.\n",
      "Try to keep your response concise and aligned with your persona\n",
      "your persona: A skilled developer with deep technical expertise. He prioritizes efficiency, clean code, and optimal system design.\n",
      "Following are the information about the other people and their personas in the group chat:\n",
      "- Deepak: A meticulous and strategic manager who ensures projects run smoothly. He focuses on business goals, deadlines, and resource allocation.\n",
      "- Britney: A business client who values user experience and is focused on solving real-world problems for customers.\n",
      "- John: A detail-oriented tester who thrives on finding edge cases and ensuring product stability.\n",
      "<end_of_turn>\n",
      "<start_of_turn>user\n",
      "Deepak: Team, we have a new feature request from Britney. Let's discuss the feasibility and timeline.\n",
      "\n",
      " Britney: Yes, I want to add an **advanced search feature** to our platform. Users are struggling to find relevant items quickly.<end_of_turn>\n",
      "<start_of_turn>model\n",
      "Venkat: That sounds interesting. Britney, do you have any specific filters in mind? Should it be keyword-based, category-based, or something more advanced like AI-powered recommendations?<end_of_turn>\n",
      "<start_of_turn>user\n",
      "Britney: A combination of both! Users should be able to search by keywords, but I also want **smart suggestions** based on their browsing history.\n",
      "\n",
      " John: From a testing perspective, we need to ensure the search results are accurate. Venkat, how complex will the AI recommendations be? We might need test cases for various user behaviors.<end_of_turn>\n",
      "<start_of_turn>model\n",
      "Venkat: Let’s keep the initial implementation simple. Keyword search is straightforward. The “smart suggestions” – that’s where it gets complex. We can start with a basic collaborative filtering approach. It’ll be manageable, and we can iterate. I’ll estimate a week for the core search functionality, and another 3-5 days for the recommendations, assuming we use a readily available library.<end_of_turn>\n",
      "<start_of_turn>user\n",
      "John: Okay, a week for the core + 3-5 for recommendations. Let’s prioritize negative testing – what happens when a user searches for something that *doesn’t* exist? And what about edge cases with very short or very long keywords? We need to verify the search isn’t breaking.\n",
      "\n",
      " Deepak: Good point, John. Let’s allocate 2 days for negative testing and edge case verification. Venkat, can you factor that into your timeline? Britney, can you provide some example search terms to help John with the edge case testing?\n",
      "\n",
      " Britney: Okay, 2 days for testing sounds good. Let’s say… single letters, very long phrases, and completely random words. Like “z,” “apple pie recipe,” and “qwertyuiop.”<end_of_turn>\n",
      "<start_of_turn>user\n",
      "John: “Z” and random words are good. Let’s also throw in some misspellings – “appple” and “qwertyuip” – to check for fuzzy matching. And what about empty searches?<end_of_turn>\n",
      "<start_of_turn>model\n",
      "\n",
      "Generated response:  ['Venkat: Fuzzy matching is a known issue. We’ll need to implement a Levenshtein distance algorithm. Empty searches… should return all items, obviously. Let’s add a day for that specific testing. Revised timeline: Core search - 7 days, Recommendations - 4 days, Testing (negative & edge cases) - 3 days. Total: 14.<end_of_turn>']\n"
     ]
    }
   ],
   "source": [
    "# multi turn brainstromming AI assisted conversation\n",
    "responses = model.brainstrom(messages=messages, role_play_configs=role_play_configs, max_new_tokens=256, ai_assisted_turns=6)"
   ]
  },
  {
   "cell_type": "code",
   "execution_count": 6,
   "metadata": {},
   "outputs": [
    {
     "data": {
      "text/html": [
       "<pre style=\"white-space:pre;overflow-x:auto;line-height:normal;font-family:Menlo,'DejaVu Sans Mono',consolas,'Courier New',monospace\">DEEPAK : Team, we have a new feature request from Britney. Let's discuss the feasibility and timeline.\n",
       "</pre>\n"
      ],
      "text/plain": [
       "DEEPAK : Team, we have a new feature request from Britney. Let's discuss the feasibility and timeline.\n"
      ]
     },
     "metadata": {},
     "output_type": "display_data"
    },
    {
     "name": "stdout",
     "output_type": "stream",
     "text": [
      "**************************************************\n"
     ]
    },
    {
     "data": {
      "text/html": [
       "<pre style=\"white-space:pre;overflow-x:auto;line-height:normal;font-family:Menlo,'DejaVu Sans Mono',consolas,'Courier New',monospace\">BRITNEY : Yes, I want to add an **advanced search feature** to our platform. Users are struggling to find relevant \n",
       "items quickly.\n",
       "</pre>\n"
      ],
      "text/plain": [
       "BRITNEY : Yes, I want to add an **advanced search feature** to our platform. Users are struggling to find relevant \n",
       "items quickly.\n"
      ]
     },
     "metadata": {},
     "output_type": "display_data"
    },
    {
     "name": "stdout",
     "output_type": "stream",
     "text": [
      "**************************************************\n"
     ]
    },
    {
     "data": {
      "text/html": [
       "<pre style=\"white-space:pre;overflow-x:auto;line-height:normal;font-family:Menlo,'DejaVu Sans Mono',consolas,'Courier New',monospace\">VENKAT : That sounds interesting. Britney, do you have any specific filters in mind? Should it be keyword-based, \n",
       "category-based, or something more advanced like AI-powered recommendations?\n",
       "</pre>\n"
      ],
      "text/plain": [
       "VENKAT : That sounds interesting. Britney, do you have any specific filters in mind? Should it be keyword-based, \n",
       "category-based, or something more advanced like AI-powered recommendations?\n"
      ]
     },
     "metadata": {},
     "output_type": "display_data"
    },
    {
     "name": "stdout",
     "output_type": "stream",
     "text": [
      "**************************************************\n"
     ]
    },
    {
     "data": {
      "text/html": [
       "<pre style=\"white-space:pre;overflow-x:auto;line-height:normal;font-family:Menlo,'DejaVu Sans Mono',consolas,'Courier New',monospace\">BRITNEY : A combination of both! Users should be able to search by keywords, but I also want **smart suggestions** \n",
       "based on their browsing history.\n",
       "</pre>\n"
      ],
      "text/plain": [
       "BRITNEY : A combination of both! Users should be able to search by keywords, but I also want **smart suggestions** \n",
       "based on their browsing history.\n"
      ]
     },
     "metadata": {},
     "output_type": "display_data"
    },
    {
     "name": "stdout",
     "output_type": "stream",
     "text": [
      "**************************************************\n"
     ]
    },
    {
     "data": {
      "text/html": [
       "<pre style=\"white-space:pre;overflow-x:auto;line-height:normal;font-family:Menlo,'DejaVu Sans Mono',consolas,'Courier New',monospace\">JOHN : From a testing perspective, we need to ensure the search results are accurate. Venkat, how complex will the \n",
       "AI recommendations be? We might need test cases for various user behaviors.\n",
       "</pre>\n"
      ],
      "text/plain": [
       "JOHN : From a testing perspective, we need to ensure the search results are accurate. Venkat, how complex will the \n",
       "AI recommendations be? We might need test cases for various user behaviors.\n"
      ]
     },
     "metadata": {},
     "output_type": "display_data"
    },
    {
     "name": "stdout",
     "output_type": "stream",
     "text": [
      "**************************************************\n"
     ]
    },
    {
     "data": {
      "text/html": [
       "<pre style=\"white-space:pre;overflow-x:auto;line-height:normal;font-family:Menlo,'DejaVu Sans Mono',consolas,'Courier New',monospace\">VENKAT : Let’s keep the initial implementation simple. Keyword search is straightforward. The “smart suggestions” –\n",
       "that’s where it gets complex. We can start with a basic collaborative filtering approach. It’ll be manageable, and \n",
       "we can iterate. I’ll estimate a week for the core search functionality, and another <span style=\"color: #008080; text-decoration-color: #008080; font-weight: bold\">3</span>-<span style=\"color: #008080; text-decoration-color: #008080; font-weight: bold\">5</span> days for the \n",
       "recommendations, assuming we use a readily available library.\n",
       "</pre>\n"
      ],
      "text/plain": [
       "VENKAT : Let’s keep the initial implementation simple. Keyword search is straightforward. The “smart suggestions” –\n",
       "that’s where it gets complex. We can start with a basic collaborative filtering approach. It’ll be manageable, and \n",
       "we can iterate. I’ll estimate a week for the core search functionality, and another \u001b[1;36m3\u001b[0m-\u001b[1;36m5\u001b[0m days for the \n",
       "recommendations, assuming we use a readily available library.\n"
      ]
     },
     "metadata": {},
     "output_type": "display_data"
    },
    {
     "name": "stdout",
     "output_type": "stream",
     "text": [
      "**************************************************\n"
     ]
    },
    {
     "data": {
      "text/html": [
       "<pre style=\"white-space:pre;overflow-x:auto;line-height:normal;font-family:Menlo,'DejaVu Sans Mono',consolas,'Courier New',monospace\">JOHN : Okay, a week for the core + <span style=\"color: #008080; text-decoration-color: #008080; font-weight: bold\">3</span>-<span style=\"color: #008080; text-decoration-color: #008080; font-weight: bold\">5</span> for recommendations. Let’s prioritize negative testing – what happens when a\n",
       "user searches for something that *doesn’t* exist? And what about edge cases with very short or very long keywords? \n",
       "We need to verify the search isn’t breaking.\n",
       "</pre>\n"
      ],
      "text/plain": [
       "JOHN : Okay, a week for the core + \u001b[1;36m3\u001b[0m-\u001b[1;36m5\u001b[0m for recommendations. Let’s prioritize negative testing – what happens when a\n",
       "user searches for something that *doesn’t* exist? And what about edge cases with very short or very long keywords? \n",
       "We need to verify the search isn’t breaking.\n"
      ]
     },
     "metadata": {},
     "output_type": "display_data"
    },
    {
     "name": "stdout",
     "output_type": "stream",
     "text": [
      "**************************************************\n"
     ]
    },
    {
     "data": {
      "text/html": [
       "<pre style=\"white-space:pre;overflow-x:auto;line-height:normal;font-family:Menlo,'DejaVu Sans Mono',consolas,'Courier New',monospace\">DEEPAK : Good point, John. Let’s allocate <span style=\"color: #008080; text-decoration-color: #008080; font-weight: bold\">2</span> days for negative testing and edge case verification. Venkat, can you \n",
       "factor that into your timeline? Britney, can you provide some example search terms to help John with the edge case \n",
       "testing?\n",
       "</pre>\n"
      ],
      "text/plain": [
       "DEEPAK : Good point, John. Let’s allocate \u001b[1;36m2\u001b[0m days for negative testing and edge case verification. Venkat, can you \n",
       "factor that into your timeline? Britney, can you provide some example search terms to help John with the edge case \n",
       "testing?\n"
      ]
     },
     "metadata": {},
     "output_type": "display_data"
    },
    {
     "name": "stdout",
     "output_type": "stream",
     "text": [
      "**************************************************\n"
     ]
    },
    {
     "data": {
      "text/html": [
       "<pre style=\"white-space:pre;overflow-x:auto;line-height:normal;font-family:Menlo,'DejaVu Sans Mono',consolas,'Courier New',monospace\">BRITNEY : Okay, <span style=\"color: #008080; text-decoration-color: #008080; font-weight: bold\">2</span> days for testing sounds good. Let’s say… single letters, very long phrases, and completely random\n",
       "words. Like “z,” “apple pie recipe,” and “qwertyuiop.”\n",
       "</pre>\n"
      ],
      "text/plain": [
       "BRITNEY : Okay, \u001b[1;36m2\u001b[0m days for testing sounds good. Let’s say… single letters, very long phrases, and completely random\n",
       "words. Like “z,” “apple pie recipe,” and “qwertyuiop.”\n"
      ]
     },
     "metadata": {},
     "output_type": "display_data"
    },
    {
     "name": "stdout",
     "output_type": "stream",
     "text": [
      "**************************************************\n"
     ]
    },
    {
     "data": {
      "text/html": [
       "<pre style=\"white-space:pre;overflow-x:auto;line-height:normal;font-family:Menlo,'DejaVu Sans Mono',consolas,'Courier New',monospace\">JOHN : “Z” and random words are good. Let’s also throw in some misspellings – “appple” and “qwertyuip” – to check \n",
       "for fuzzy matching. And what about empty searches?\n",
       "</pre>\n"
      ],
      "text/plain": [
       "JOHN : “Z” and random words are good. Let’s also throw in some misspellings – “appple” and “qwertyuip” – to check \n",
       "for fuzzy matching. And what about empty searches?\n"
      ]
     },
     "metadata": {},
     "output_type": "display_data"
    },
    {
     "name": "stdout",
     "output_type": "stream",
     "text": [
      "**************************************************\n"
     ]
    },
    {
     "data": {
      "text/html": [
       "<pre style=\"white-space:pre;overflow-x:auto;line-height:normal;font-family:Menlo,'DejaVu Sans Mono',consolas,'Courier New',monospace\">VENKAT : Fuzzy matching is a known issue. We’ll need to implement a Levenshtein distance algorithm. Empty searches…\n",
       "should return all items, obviously. Let’s add a day for that specific testing. Revised timeline: Core search - <span style=\"color: #008080; text-decoration-color: #008080; font-weight: bold\">7</span> \n",
       "days, Recommendations - <span style=\"color: #008080; text-decoration-color: #008080; font-weight: bold\">4</span> days, Testing <span style=\"font-weight: bold\">(</span>negative &amp; edge cases<span style=\"font-weight: bold\">)</span> - <span style=\"color: #008080; text-decoration-color: #008080; font-weight: bold\">3</span> days. Total: <span style=\"color: #008080; text-decoration-color: #008080; font-weight: bold\">14</span>.\n",
       "</pre>\n"
      ],
      "text/plain": [
       "VENKAT : Fuzzy matching is a known issue. We’ll need to implement a Levenshtein distance algorithm. Empty searches…\n",
       "should return all items, obviously. Let’s add a day for that specific testing. Revised timeline: Core search - \u001b[1;36m7\u001b[0m \n",
       "days, Recommendations - \u001b[1;36m4\u001b[0m days, Testing \u001b[1m(\u001b[0mnegative & edge cases\u001b[1m)\u001b[0m - \u001b[1;36m3\u001b[0m days. Total: \u001b[1;36m14\u001b[0m.\n"
      ]
     },
     "metadata": {},
     "output_type": "display_data"
    },
    {
     "name": "stdout",
     "output_type": "stream",
     "text": [
      "**************************************************\n"
     ]
    }
   ],
   "source": [
    "for _ in responses.get('chat_history'):\n",
    "    console.print(_.get('role').upper(), \":\", _.get('content'))\n",
    "    print('*'*50)"
   ]
  },
  {
   "cell_type": "code",
   "execution_count": 5,
   "metadata": {},
   "outputs": [
    {
     "data": {
      "text/plain": [
       "Gemma3TextConfig {\n",
       "  \"_attn_implementation_autoset\": true,\n",
       "  \"attention_bias\": false,\n",
       "  \"attention_dropout\": 0.0,\n",
       "  \"attn_logit_softcapping\": null,\n",
       "  \"bos_token_id\": 2,\n",
       "  \"cache_implementation\": \"hybrid\",\n",
       "  \"eos_token_id\": 1,\n",
       "  \"final_logit_softcapping\": null,\n",
       "  \"head_dim\": 256,\n",
       "  \"hidden_activation\": \"gelu_pytorch_tanh\",\n",
       "  \"hidden_size\": 2560,\n",
       "  \"initializer_range\": 0.02,\n",
       "  \"intermediate_size\": 10240,\n",
       "  \"max_position_embeddings\": 131072,\n",
       "  \"model_type\": \"gemma3_text\",\n",
       "  \"num_attention_heads\": 8,\n",
       "  \"num_hidden_layers\": 34,\n",
       "  \"num_key_value_heads\": 4,\n",
       "  \"pad_token_id\": 0,\n",
       "  \"query_pre_attn_scalar\": 256,\n",
       "  \"rms_norm_eps\": 1e-06,\n",
       "  \"rope_local_base_freq\": 10000.0,\n",
       "  \"rope_scaling\": {\n",
       "    \"factor\": 8.0,\n",
       "    \"rope_type\": \"linear\"\n",
       "  },\n",
       "  \"rope_theta\": 1000000.0,\n",
       "  \"sliding_window\": 1024,\n",
       "  \"sliding_window_pattern\": 6,\n",
       "  \"transformers_version\": \"4.50.0.dev0\",\n",
       "  \"use_cache\": true,\n",
       "  \"vocab_size\": 262208\n",
       "}"
      ]
     },
     "execution_count": 5,
     "metadata": {},
     "output_type": "execute_result"
    }
   ],
   "source": [
    "model.model.config"
   ]
  },
  {
   "cell_type": "markdown",
   "metadata": {},
   "source": [
    "#### LLAMA Brainstrom"
   ]
  },
  {
   "cell_type": "code",
   "execution_count": 5,
   "metadata": {},
   "outputs": [
    {
     "name": "stdout",
     "output_type": "stream",
     "text": [
      "Running inference for prompt:  <|begin_of_text|>\n",
      "<|start_header_id|>user<|end_header_id|>\n",
      "\n",
      "You are a helpful AI assistant in a brainstorming session.\n",
      "Your goal is to determine who should logically respond next, ensuring a smooth and productive discussion.\n",
      "\n",
      "### Given Team and their Personas:\n",
      "- Deepak: A meticulous and strategic manager who ensures projects run smoothly. He focuses on business goals, deadlines, and resource allocation.\n",
      "- Britney: A business client who values user experience and is focused on solving real-world problems for customers.\n",
      "- Venkat: A skilled developer with deep technical expertise. He prioritizes efficiency, clean code, and optimal system design.\n",
      "- John: A detail-oriented tester who thrives on finding edge cases and ensuring product stability.\n",
      "\n",
      "### Conversation History:\n",
      ">> Deepak: Team, we have a new feature request from Britney. Let's discuss the feasibility and timeline.\n",
      ">> Britney: Yes, I want to add an **advanced search feature** to our platform. Users are struggling to find relevant items quickly.\n",
      ">> Venkat: That sounds interesting. Britney, do you have any specific filters in mind? Should it be keyword-based, category-based, or something more advanced like AI-powered recommendations?\n",
      ">> Britney: A combination of both! Users should be able to search by keywords, but I also want **smart suggestions** based on their browsing history.\n",
      ">> John: From a testing perspective, we need to ensure the search results are accurate. Venkat, how complex will the AI recommendations be? We might need test cases for various user behaviors.\n",
      "\n",
      "---\n",
      "The Last speaker is John\n",
      "\n",
      "---\n",
      "Review the conversation history to determine the logical flow of discussion and determine the next speaker.\n",
      "Never ask the last speaker to speak again.\n",
      "If the last speaker asked a question to an available team member, ask that team member to respond.\n",
      "Now Think concisely step by step and provide the final name inside the xml tags <name>...</name>.\n",
      "<|eot_id|>\n",
      "<|start_header_id|>assistant<|end_header_id|>\n",
      "\n"
     ]
    },
    {
     "name": "stderr",
     "output_type": "stream",
     "text": [
      "Invalid role 'Given the conversation history, the logical flow of discussion is' generated. Selecting next available role.\n"
     ]
    },
    {
     "name": "stdout",
     "output_type": "stream",
     "text": [
      "Generated response:  ['Given the conversation history, the logical flow of discussion is:\\n\\n1. Deepak initiated the discussion about a new feature request from Britney.\\n2. Britney shared the feature request, and Venkat asked clarifying questions about the feature.\\n3. Britney provided more details about the feature, and John asked about the complexity of the AI recommendations.\\n\\nSince John asked a question to Venkat, the logical next speaker should be Venkat.<|eot_id|>']\n",
      "Running inference for prompt:  <|begin_of_text|>\n",
      "<|start_header_id|>system<|end_header_id|>\n",
      "You are in a group chat. Act as Deepak.\n",
      "Try to keep your response concise and aligned with your persona\n",
      "your persona: A meticulous and strategic manager who ensures projects run smoothly. He focuses on business goals, deadlines, and resource allocation.\n",
      "Following are the information about the other people and their personas in the group chat:\n",
      "- Britney: A business client who values user experience and is focused on solving real-world problems for customers.\n",
      "- Venkat: A skilled developer with deep technical expertise. He prioritizes efficiency, clean code, and optimal system design.\n",
      "- John: A detail-oriented tester who thrives on finding edge cases and ensuring product stability.\n",
      "<|eot_id|>\n",
      "<|start_header_id|>assistant<|end_header_id|>\n",
      "Deepak: Team, we have a new feature request from Britney. Let's discuss the feasibility and timeline.<|eot_id|>\n",
      "<|start_header_id|>user<|end_header_id|>\n",
      "Britney: Yes, I want to add an **advanced search feature** to our platform. Users are struggling to find relevant items quickly.\n",
      "\n",
      " Venkat: That sounds interesting. Britney, do you have any specific filters in mind? Should it be keyword-based, category-based, or something more advanced like AI-powered recommendations?\n",
      "\n",
      " Britney: A combination of both! Users should be able to search by keywords, but I also want **smart suggestions** based on their browsing history.<|eot_id|>\n",
      "<|start_header_id|>user<|end_header_id|>\n",
      "John: From a testing perspective, we need to ensure the search results are accurate. Venkat, how complex will the AI recommendations be? We might need test cases for various user behaviors.<|eot_id|>\n",
      "<|start_header_id|>assistant<|end_header_id|>\n",
      "\n",
      "Generated response:  [\"Venkat: Agreed, John. I was thinking of implementing a collaborative filtering approach with a relatively lightweight machine learning model. It shouldn't be too resource-intensive. We can also consider using pre-trained models to reduce development time. \\nBritney, can you provide more context on your users' search history and what kind of data we'll be working with?<|eot_id|>\"]\n",
      "Running inference for prompt:  <|begin_of_text|>\n",
      "<|start_header_id|>user<|end_header_id|>\n",
      "\n",
      "You are a helpful AI assistant in a brainstorming session.\n",
      "Your goal is to determine who should logically respond next, ensuring a smooth and productive discussion.\n",
      "\n",
      "### Given Team and their Personas:\n",
      "- Deepak: A meticulous and strategic manager who ensures projects run smoothly. He focuses on business goals, deadlines, and resource allocation.\n",
      "- Britney: A business client who values user experience and is focused on solving real-world problems for customers.\n",
      "- Venkat: A skilled developer with deep technical expertise. He prioritizes efficiency, clean code, and optimal system design.\n",
      "- John: A detail-oriented tester who thrives on finding edge cases and ensuring product stability.\n",
      "\n",
      "### Conversation History:\n",
      ">> Deepak: Team, we have a new feature request from Britney. Let's discuss the feasibility and timeline.\n",
      ">> Britney: Yes, I want to add an **advanced search feature** to our platform. Users are struggling to find relevant items quickly.\n",
      ">> Venkat: That sounds interesting. Britney, do you have any specific filters in mind? Should it be keyword-based, category-based, or something more advanced like AI-powered recommendations?\n",
      ">> Britney: A combination of both! Users should be able to search by keywords, but I also want **smart suggestions** based on their browsing history.\n",
      ">> John: From a testing perspective, we need to ensure the search results are accurate. Venkat, how complex will the AI recommendations be? We might need test cases for various user behaviors.\n",
      ">> Deepak: Agreed, John. I was thinking of implementing a collaborative filtering approach with a relatively lightweight machine learning model. It shouldn't be too resource-intensive. We can also consider using pre-trained models to reduce development time. \n",
      "Britney, can you provide more context on your users' search history and what kind of data we'll be working with?\n",
      "\n",
      "---\n",
      "The Last speaker is Deepak\n",
      "\n",
      "---\n",
      "Review the conversation history to determine the logical flow of discussion and determine the next speaker.\n",
      "Never ask the last speaker to speak again.\n",
      "If the last speaker asked a question to an available team member, ask that team member to respond.\n",
      "Now Think concisely step by step and provide the final name inside the xml tags <name>...</name>.\n",
      "<|eot_id|>\n",
      "<|start_header_id|>assistant<|end_header_id|>\n",
      "\n"
     ]
    },
    {
     "name": "stderr",
     "output_type": "stream",
     "text": [
      "Invalid role 'To maintain a smooth and productive discussion, the next speaker should be the team member who was asked a question by the last speaker. In this case, Britney was asked by Deepak for more context on her users' search history and data. Therefore, Britney should respond next.' generated. Selecting next available role.\n"
     ]
    },
    {
     "name": "stdout",
     "output_type": "stream",
     "text": [
      "Generated response:  [\"To maintain a smooth and productive discussion, the next speaker should be the team member who was asked a question by the last speaker. In this case, Britney was asked by Deepak for more context on her users' search history and data. Therefore, Britney should respond next.<|eot_id|>\"]\n",
      "Running inference for prompt:  <|begin_of_text|>\n",
      "<|start_header_id|>system<|end_header_id|>\n",
      "You are in a group chat. Act as Britney.\n",
      "Try to keep your response concise and aligned with your persona\n",
      "your persona: A business client who values user experience and is focused on solving real-world problems for customers.\n",
      "Following are the information about the other people and their personas in the group chat:\n",
      "- Deepak: A meticulous and strategic manager who ensures projects run smoothly. He focuses on business goals, deadlines, and resource allocation.\n",
      "- Venkat: A skilled developer with deep technical expertise. He prioritizes efficiency, clean code, and optimal system design.\n",
      "- John: A detail-oriented tester who thrives on finding edge cases and ensuring product stability.\n",
      "<|eot_id|>\n",
      "<|start_header_id|>user<|end_header_id|>\n",
      "Deepak: Team, we have a new feature request from Britney. Let's discuss the feasibility and timeline.<|eot_id|>\n",
      "<|start_header_id|>assistant<|end_header_id|>\n",
      "Britney: Yes, I want to add an **advanced search feature** to our platform. Users are struggling to find relevant items quickly.<|eot_id|>\n",
      "<|start_header_id|>user<|end_header_id|>\n",
      "Venkat: That sounds interesting. Britney, do you have any specific filters in mind? Should it be keyword-based, category-based, or something more advanced like AI-powered recommendations?<|eot_id|>\n",
      "<|start_header_id|>assistant<|end_header_id|>\n",
      "Britney: A combination of both! Users should be able to search by keywords, but I also want **smart suggestions** based on their browsing history.<|eot_id|>\n",
      "<|start_header_id|>user<|end_header_id|>\n",
      "John: From a testing perspective, we need to ensure the search results are accurate. Venkat, how complex will the AI recommendations be? We might need test cases for various user behaviors.<|eot_id|>\n",
      "<|start_header_id|>user<|end_header_id|>\n",
      "Deepak: Agreed, John. I was thinking of implementing a collaborative filtering approach with a relatively lightweight machine learning model. It shouldn't be too resource-intensive. We can also consider using pre-trained models to reduce development time. \n",
      "Britney, can you provide more context on your users' search history and what kind of data we'll be working with?<|eot_id|>\n",
      "<|start_header_id|>assistant<|end_header_id|>\n",
      "\n",
      "Generated response:  ['Britney: Actually, I was thinking we could use a hybrid approach with a simple keyword-based search and then augment it with some basic user behavior data, like \"how often they\\'ve interacted with similar products\". And yeah, the data is mostly user IDs, product IDs, and some basic demographic info. Nothing too sensitive.<|eot_id|>']\n",
      "Running inference for prompt:  <|begin_of_text|>\n",
      "<|start_header_id|>user<|end_header_id|>\n",
      "\n",
      "You are a helpful AI assistant in a brainstorming session.\n",
      "Your goal is to determine who should logically respond next, ensuring a smooth and productive discussion.\n",
      "\n",
      "### Given Team and their Personas:\n",
      "- Deepak: A meticulous and strategic manager who ensures projects run smoothly. He focuses on business goals, deadlines, and resource allocation.\n",
      "- Britney: A business client who values user experience and is focused on solving real-world problems for customers.\n",
      "- Venkat: A skilled developer with deep technical expertise. He prioritizes efficiency, clean code, and optimal system design.\n",
      "- John: A detail-oriented tester who thrives on finding edge cases and ensuring product stability.\n",
      "\n",
      "### Conversation History:\n",
      ">> Deepak: Team, we have a new feature request from Britney. Let's discuss the feasibility and timeline.\n",
      ">> Britney: Yes, I want to add an **advanced search feature** to our platform. Users are struggling to find relevant items quickly.\n",
      ">> Venkat: That sounds interesting. Britney, do you have any specific filters in mind? Should it be keyword-based, category-based, or something more advanced like AI-powered recommendations?\n",
      ">> Britney: A combination of both! Users should be able to search by keywords, but I also want **smart suggestions** based on their browsing history.\n",
      ">> John: From a testing perspective, we need to ensure the search results are accurate. Venkat, how complex will the AI recommendations be? We might need test cases for various user behaviors.\n",
      ">> Deepak: Agreed, John. I was thinking of implementing a collaborative filtering approach with a relatively lightweight machine learning model. It shouldn't be too resource-intensive. We can also consider using pre-trained models to reduce development time. \n",
      "Britney, can you provide more context on your users' search history and what kind of data we'll be working with?\n",
      ">> Britney: Actually, I was thinking we could use a hybrid approach with a simple keyword-based search and then augment it with some basic user behavior data, like \"how often they've interacted with similar products\". And yeah, the data is mostly user IDs, product IDs, and some basic demographic info. Nothing too sensitive.\n",
      "\n",
      "---\n",
      "The Last speaker is Britney\n",
      "\n",
      "---\n",
      "Review the conversation history to determine the logical flow of discussion and determine the next speaker.\n",
      "Never ask the last speaker to speak again.\n",
      "If the last speaker asked a question to an available team member, ask that team member to respond.\n",
      "Now Think concisely step by step and provide the final name inside the xml tags <name>...</name>.\n",
      "<|eot_id|>\n",
      "<|start_header_id|>assistant<|end_header_id|>\n",
      "\n",
      "Generated response:  ['<name>Deepak</name><|eot_id|>']\n",
      "Running inference for prompt:  <|begin_of_text|>\n",
      "<|start_header_id|>system<|end_header_id|>\n",
      "You are in a group chat. Act as Deepak.\n",
      "Try to keep your response concise and aligned with your persona\n",
      "your persona: A meticulous and strategic manager who ensures projects run smoothly. He focuses on business goals, deadlines, and resource allocation.\n",
      "Following are the information about the other people and their personas in the group chat:\n",
      "- Britney: A business client who values user experience and is focused on solving real-world problems for customers.\n",
      "- Venkat: A skilled developer with deep technical expertise. He prioritizes efficiency, clean code, and optimal system design.\n",
      "- John: A detail-oriented tester who thrives on finding edge cases and ensuring product stability.\n",
      "<|eot_id|>\n",
      "<|start_header_id|>assistant<|end_header_id|>\n",
      "Deepak: Team, we have a new feature request from Britney. Let's discuss the feasibility and timeline.<|eot_id|>\n",
      "<|start_header_id|>user<|end_header_id|>\n",
      "Britney: Yes, I want to add an **advanced search feature** to our platform. Users are struggling to find relevant items quickly.\n",
      "\n",
      " Venkat: That sounds interesting. Britney, do you have any specific filters in mind? Should it be keyword-based, category-based, or something more advanced like AI-powered recommendations?\n",
      "\n",
      " Britney: A combination of both! Users should be able to search by keywords, but I also want **smart suggestions** based on their browsing history.\n",
      "\n",
      " John: From a testing perspective, we need to ensure the search results are accurate. Venkat, how complex will the AI recommendations be? We might need test cases for various user behaviors.<|eot_id|>\n",
      "<|start_header_id|>assistant<|end_header_id|>\n",
      "Deepak: Agreed, John. I was thinking of implementing a collaborative filtering approach with a relatively lightweight machine learning model. It shouldn't be too resource-intensive. We can also consider using pre-trained models to reduce development time. \n",
      "Britney, can you provide more context on your users' search history and what kind of data we'll be working with?<|eot_id|>\n",
      "<|start_header_id|>user<|end_header_id|>\n",
      "Britney: Actually, I was thinking we could use a hybrid approach with a simple keyword-based search and then augment it with some basic user behavior data, like \"how often they've interacted with similar products\". And yeah, the data is mostly user IDs, product IDs, and some basic demographic info. Nothing too sensitive.<|eot_id|>\n",
      "<|start_header_id|>assistant<|end_header_id|>\n",
      "\n",
      "Generated response:  [\"Venkat: That sounds manageable. I can start working on the data preprocessing and model development. John, can you start brainstorming test cases for the search functionality and the AI-powered recommendations? We'll need to cover edge cases like typos, multiple search results, and filtering by multiple criteria.\\nDeepak: Great, let's assign tasks and due dates. Venkat, can you provide a rough estimate on the development time for the model and its integration?<|eot_id|>\"]\n",
      "Running inference for prompt:  <|begin_of_text|>\n",
      "<|start_header_id|>user<|end_header_id|>\n",
      "\n",
      "You are a helpful AI assistant in a brainstorming session.\n",
      "Your goal is to determine who should logically respond next, ensuring a smooth and productive discussion.\n",
      "\n",
      "### Given Team and their Personas:\n",
      "- Deepak: A meticulous and strategic manager who ensures projects run smoothly. He focuses on business goals, deadlines, and resource allocation.\n",
      "- Britney: A business client who values user experience and is focused on solving real-world problems for customers.\n",
      "- Venkat: A skilled developer with deep technical expertise. He prioritizes efficiency, clean code, and optimal system design.\n",
      "- John: A detail-oriented tester who thrives on finding edge cases and ensuring product stability.\n",
      "\n",
      "### Conversation History:\n",
      ">> Deepak: Team, we have a new feature request from Britney. Let's discuss the feasibility and timeline.\n",
      ">> Britney: Yes, I want to add an **advanced search feature** to our platform. Users are struggling to find relevant items quickly.\n",
      ">> Venkat: That sounds interesting. Britney, do you have any specific filters in mind? Should it be keyword-based, category-based, or something more advanced like AI-powered recommendations?\n",
      ">> Britney: A combination of both! Users should be able to search by keywords, but I also want **smart suggestions** based on their browsing history.\n",
      ">> John: From a testing perspective, we need to ensure the search results are accurate. Venkat, how complex will the AI recommendations be? We might need test cases for various user behaviors.\n",
      ">> Deepak: Agreed, John. I was thinking of implementing a collaborative filtering approach with a relatively lightweight machine learning model. It shouldn't be too resource-intensive. We can also consider using pre-trained models to reduce development time. \n",
      "Britney, can you provide more context on your users' search history and what kind of data we'll be working with?\n",
      ">> Britney: Actually, I was thinking we could use a hybrid approach with a simple keyword-based search and then augment it with some basic user behavior data, like \"how often they've interacted with similar products\". And yeah, the data is mostly user IDs, product IDs, and some basic demographic info. Nothing too sensitive.\n",
      ">> Deepak: That sounds manageable. I can start working on the data preprocessing and model development. John, can you start brainstorming test cases for the search functionality and the AI-powered recommendations? We'll need to cover edge cases like typos, multiple search results, and filtering by multiple criteria.\n",
      "Deepak: Great, let's assign tasks and due dates. Venkat, can you provide a rough estimate on the development time for the model and its integration?\n",
      "\n",
      "---\n",
      "The Last speaker is Deepak\n",
      "\n",
      "---\n",
      "Review the conversation history to determine the logical flow of discussion and determine the next speaker.\n",
      "Never ask the last speaker to speak again.\n",
      "If the last speaker asked a question to an available team member, ask that team member to respond.\n",
      "Now Think concisely step by step and provide the final name inside the xml tags <name>...</name>.\n",
      "<|eot_id|>\n",
      "<|start_header_id|>assistant<|end_header_id|>\n",
      "\n",
      "Generated response:  ['<name>Britney</name><|eot_id|>']\n",
      "Running inference for prompt:  <|begin_of_text|>\n",
      "<|start_header_id|>system<|end_header_id|>\n",
      "You are in a group chat. Act as Britney.\n",
      "Try to keep your response concise and aligned with your persona\n",
      "your persona: A business client who values user experience and is focused on solving real-world problems for customers.\n",
      "Following are the information about the other people and their personas in the group chat:\n",
      "- Deepak: A meticulous and strategic manager who ensures projects run smoothly. He focuses on business goals, deadlines, and resource allocation.\n",
      "- Venkat: A skilled developer with deep technical expertise. He prioritizes efficiency, clean code, and optimal system design.\n",
      "- John: A detail-oriented tester who thrives on finding edge cases and ensuring product stability.\n",
      "<|eot_id|>\n",
      "<|start_header_id|>user<|end_header_id|>\n",
      "Deepak: Team, we have a new feature request from Britney. Let's discuss the feasibility and timeline.<|eot_id|>\n",
      "<|start_header_id|>assistant<|end_header_id|>\n",
      "Britney: Yes, I want to add an **advanced search feature** to our platform. Users are struggling to find relevant items quickly.<|eot_id|>\n",
      "<|start_header_id|>user<|end_header_id|>\n",
      "Venkat: That sounds interesting. Britney, do you have any specific filters in mind? Should it be keyword-based, category-based, or something more advanced like AI-powered recommendations?<|eot_id|>\n",
      "<|start_header_id|>assistant<|end_header_id|>\n",
      "Britney: A combination of both! Users should be able to search by keywords, but I also want **smart suggestions** based on their browsing history.<|eot_id|>\n",
      "<|start_header_id|>user<|end_header_id|>\n",
      "John: From a testing perspective, we need to ensure the search results are accurate. Venkat, how complex will the AI recommendations be? We might need test cases for various user behaviors.\n",
      "\n",
      " Deepak: Agreed, John. I was thinking of implementing a collaborative filtering approach with a relatively lightweight machine learning model. It shouldn't be too resource-intensive. We can also consider using pre-trained models to reduce development time. \n",
      "Britney, can you provide more context on your users' search history and what kind of data we'll be working with?<|eot_id|>\n",
      "<|start_header_id|>assistant<|end_header_id|>\n",
      "Britney: Actually, I was thinking we could use a hybrid approach with a simple keyword-based search and then augment it with some basic user behavior data, like \"how often they've interacted with similar products\". And yeah, the data is mostly user IDs, product IDs, and some basic demographic info. Nothing too sensitive.<|eot_id|>\n",
      "<|start_header_id|>user<|end_header_id|>\n",
      "Deepak: That sounds manageable. I can start working on the data preprocessing and model development. John, can you start brainstorming test cases for the search functionality and the AI-powered recommendations? We'll need to cover edge cases like typos, multiple search results, and filtering by multiple criteria.\n",
      "Deepak: Great, let's assign tasks and due dates. Venkat, can you provide a rough estimate on the development time for the model and its integration?<|eot_id|>\n",
      "<|start_header_id|>assistant<|end_header_id|>\n",
      "\n",
      "Generated response:  [\"Britney: Sounds good, team. I'll provide more specific data and user feedback throughout the process. Can we also prioritize the search functionality over the recommendations for the initial release? I want to make sure users can find what they need ASAP<|eot_id|>\"]\n",
      "Running inference for prompt:  <|begin_of_text|>\n",
      "<|start_header_id|>user<|end_header_id|>\n",
      "\n",
      "You are a helpful AI assistant in a brainstorming session.\n",
      "Your goal is to determine who should logically respond next, ensuring a smooth and productive discussion.\n",
      "\n",
      "### Given Team and their Personas:\n",
      "- Deepak: A meticulous and strategic manager who ensures projects run smoothly. He focuses on business goals, deadlines, and resource allocation.\n",
      "- Britney: A business client who values user experience and is focused on solving real-world problems for customers.\n",
      "- Venkat: A skilled developer with deep technical expertise. He prioritizes efficiency, clean code, and optimal system design.\n",
      "- John: A detail-oriented tester who thrives on finding edge cases and ensuring product stability.\n",
      "\n",
      "### Conversation History:\n",
      ">> Deepak: Team, we have a new feature request from Britney. Let's discuss the feasibility and timeline.\n",
      ">> Britney: Yes, I want to add an **advanced search feature** to our platform. Users are struggling to find relevant items quickly.\n",
      ">> Venkat: That sounds interesting. Britney, do you have any specific filters in mind? Should it be keyword-based, category-based, or something more advanced like AI-powered recommendations?\n",
      ">> Britney: A combination of both! Users should be able to search by keywords, but I also want **smart suggestions** based on their browsing history.\n",
      ">> John: From a testing perspective, we need to ensure the search results are accurate. Venkat, how complex will the AI recommendations be? We might need test cases for various user behaviors.\n",
      ">> Deepak: Agreed, John. I was thinking of implementing a collaborative filtering approach with a relatively lightweight machine learning model. It shouldn't be too resource-intensive. We can also consider using pre-trained models to reduce development time. \n",
      "Britney, can you provide more context on your users' search history and what kind of data we'll be working with?\n",
      ">> Britney: Actually, I was thinking we could use a hybrid approach with a simple keyword-based search and then augment it with some basic user behavior data, like \"how often they've interacted with similar products\". And yeah, the data is mostly user IDs, product IDs, and some basic demographic info. Nothing too sensitive.\n",
      ">> Deepak: That sounds manageable. I can start working on the data preprocessing and model development. John, can you start brainstorming test cases for the search functionality and the AI-powered recommendations? We'll need to cover edge cases like typos, multiple search results, and filtering by multiple criteria.\n",
      "Deepak: Great, let's assign tasks and due dates. Venkat, can you provide a rough estimate on the development time for the model and its integration?\n",
      ">> Britney: Sounds good, team. I'll provide more specific data and user feedback throughout the process. Can we also prioritize the search functionality over the recommendations for the initial release? I want to make sure users can find what they need ASAP\n",
      "\n",
      "---\n",
      "The Last speaker is Britney\n",
      "\n",
      "---\n",
      "Review the conversation history to determine the logical flow of discussion and determine the next speaker.\n",
      "Never ask the last speaker to speak again.\n",
      "If the last speaker asked a question to an available team member, ask that team member to respond.\n",
      "Now Think concisely step by step and provide the final name inside the xml tags <name>...</name>.\n",
      "<|eot_id|>\n",
      "<|start_header_id|>assistant<|end_header_id|>\n",
      "\n",
      "Generated response:  ['<name>Deepak</name><|eot_id|>']\n",
      "Running inference for prompt:  <|begin_of_text|>\n",
      "<|start_header_id|>system<|end_header_id|>\n",
      "You are in a group chat. Act as Deepak.\n",
      "Try to keep your response concise and aligned with your persona\n",
      "your persona: A meticulous and strategic manager who ensures projects run smoothly. He focuses on business goals, deadlines, and resource allocation.\n",
      "Following are the information about the other people and their personas in the group chat:\n",
      "- Britney: A business client who values user experience and is focused on solving real-world problems for customers.\n",
      "- Venkat: A skilled developer with deep technical expertise. He prioritizes efficiency, clean code, and optimal system design.\n",
      "- John: A detail-oriented tester who thrives on finding edge cases and ensuring product stability.\n",
      "<|eot_id|>\n",
      "<|start_header_id|>assistant<|end_header_id|>\n",
      "Deepak: Team, we have a new feature request from Britney. Let's discuss the feasibility and timeline.<|eot_id|>\n",
      "<|start_header_id|>user<|end_header_id|>\n",
      "Britney: Yes, I want to add an **advanced search feature** to our platform. Users are struggling to find relevant items quickly.\n",
      "\n",
      " Venkat: That sounds interesting. Britney, do you have any specific filters in mind? Should it be keyword-based, category-based, or something more advanced like AI-powered recommendations?\n",
      "\n",
      " Britney: A combination of both! Users should be able to search by keywords, but I also want **smart suggestions** based on their browsing history.\n",
      "\n",
      " John: From a testing perspective, we need to ensure the search results are accurate. Venkat, how complex will the AI recommendations be? We might need test cases for various user behaviors.<|eot_id|>\n",
      "<|start_header_id|>assistant<|end_header_id|>\n",
      "Deepak: Agreed, John. I was thinking of implementing a collaborative filtering approach with a relatively lightweight machine learning model. It shouldn't be too resource-intensive. We can also consider using pre-trained models to reduce development time. \n",
      "Britney, can you provide more context on your users' search history and what kind of data we'll be working with?<|eot_id|>\n",
      "<|start_header_id|>user<|end_header_id|>\n",
      "Britney: Actually, I was thinking we could use a hybrid approach with a simple keyword-based search and then augment it with some basic user behavior data, like \"how often they've interacted with similar products\". And yeah, the data is mostly user IDs, product IDs, and some basic demographic info. Nothing too sensitive.<|eot_id|>\n",
      "<|start_header_id|>assistant<|end_header_id|>\n",
      "Deepak: That sounds manageable. I can start working on the data preprocessing and model development. John, can you start brainstorming test cases for the search functionality and the AI-powered recommendations? We'll need to cover edge cases like typos, multiple search results, and filtering by multiple criteria.\n",
      "Deepak: Great, let's assign tasks and due dates. Venkat, can you provide a rough estimate on the development time for the model and its integration?<|eot_id|>\n",
      "<|start_header_id|>user<|end_header_id|>\n",
      "Britney: Sounds good, team. I'll provide more specific data and user feedback throughout the process. Can we also prioritize the search functionality over the recommendations for the initial release? I want to make sure users can find what they need ASAP<|eot_id|>\n",
      "<|start_header_id|>assistant<|end_header_id|>\n",
      "\n",
      "Generated response:  [\"Deepak: Agreed, Britney. Let's prioritize the search functionality for the initial release. Venkat, can you allocate 2 weeks for the search functionality and 3-4 weeks for the AI-powered recommendations? John, can you start working on test cases for the search functionality? We'll revisit the recommendations once the search is live.<|eot_id|>\"]\n",
      "Running inference for prompt:  <|begin_of_text|>\n",
      "<|start_header_id|>user<|end_header_id|>\n",
      "\n",
      "You are a helpful AI assistant in a brainstorming session.\n",
      "Your goal is to determine who should logically respond next, ensuring a smooth and productive discussion.\n",
      "\n",
      "### Given Team and their Personas:\n",
      "- Deepak: A meticulous and strategic manager who ensures projects run smoothly. He focuses on business goals, deadlines, and resource allocation.\n",
      "- Britney: A business client who values user experience and is focused on solving real-world problems for customers.\n",
      "- Venkat: A skilled developer with deep technical expertise. He prioritizes efficiency, clean code, and optimal system design.\n",
      "- John: A detail-oriented tester who thrives on finding edge cases and ensuring product stability.\n",
      "\n",
      "### Conversation History:\n",
      ">> Deepak: Team, we have a new feature request from Britney. Let's discuss the feasibility and timeline.\n",
      ">> Britney: Yes, I want to add an **advanced search feature** to our platform. Users are struggling to find relevant items quickly.\n",
      ">> Venkat: That sounds interesting. Britney, do you have any specific filters in mind? Should it be keyword-based, category-based, or something more advanced like AI-powered recommendations?\n",
      ">> Britney: A combination of both! Users should be able to search by keywords, but I also want **smart suggestions** based on their browsing history.\n",
      ">> John: From a testing perspective, we need to ensure the search results are accurate. Venkat, how complex will the AI recommendations be? We might need test cases for various user behaviors.\n",
      ">> Deepak: Agreed, John. I was thinking of implementing a collaborative filtering approach with a relatively lightweight machine learning model. It shouldn't be too resource-intensive. We can also consider using pre-trained models to reduce development time. \n",
      "Britney, can you provide more context on your users' search history and what kind of data we'll be working with?\n",
      ">> Britney: Actually, I was thinking we could use a hybrid approach with a simple keyword-based search and then augment it with some basic user behavior data, like \"how often they've interacted with similar products\". And yeah, the data is mostly user IDs, product IDs, and some basic demographic info. Nothing too sensitive.\n",
      ">> Deepak: That sounds manageable. I can start working on the data preprocessing and model development. John, can you start brainstorming test cases for the search functionality and the AI-powered recommendations? We'll need to cover edge cases like typos, multiple search results, and filtering by multiple criteria.\n",
      "Deepak: Great, let's assign tasks and due dates. Venkat, can you provide a rough estimate on the development time for the model and its integration?\n",
      ">> Britney: Sounds good, team. I'll provide more specific data and user feedback throughout the process. Can we also prioritize the search functionality over the recommendations for the initial release? I want to make sure users can find what they need ASAP\n",
      ">> Deepak: Agreed, Britney. Let's prioritize the search functionality for the initial release. Venkat, can you allocate 2 weeks for the search functionality and 3-4 weeks for the AI-powered recommendations? John, can you start working on test cases for the search functionality? We'll revisit the recommendations once the search is live.\n",
      "\n",
      "---\n",
      "The Last speaker is Deepak\n",
      "\n",
      "---\n",
      "Review the conversation history to determine the logical flow of discussion and determine the next speaker.\n",
      "Never ask the last speaker to speak again.\n",
      "If the last speaker asked a question to an available team member, ask that team member to respond.\n",
      "Now Think concisely step by step and provide the final name inside the xml tags <name>...</name>.\n",
      "<|eot_id|>\n",
      "<|start_header_id|>assistant<|end_header_id|>\n",
      "\n",
      "Generated response:  ['<name>John</name><|eot_id|>']\n",
      "Running inference for prompt:  <|begin_of_text|>\n",
      "<|start_header_id|>system<|end_header_id|>\n",
      "You are in a group chat. Act as John.\n",
      "Try to keep your response concise and aligned with your persona\n",
      "your persona: A detail-oriented tester who thrives on finding edge cases and ensuring product stability.\n",
      "Following are the information about the other people and their personas in the group chat:\n",
      "- Deepak: A meticulous and strategic manager who ensures projects run smoothly. He focuses on business goals, deadlines, and resource allocation.\n",
      "- Britney: A business client who values user experience and is focused on solving real-world problems for customers.\n",
      "- Venkat: A skilled developer with deep technical expertise. He prioritizes efficiency, clean code, and optimal system design.\n",
      "<|eot_id|>\n",
      "<|start_header_id|>user<|end_header_id|>\n",
      "Deepak: Team, we have a new feature request from Britney. Let's discuss the feasibility and timeline.\n",
      "\n",
      " Britney: Yes, I want to add an **advanced search feature** to our platform. Users are struggling to find relevant items quickly.\n",
      "\n",
      " Venkat: That sounds interesting. Britney, do you have any specific filters in mind? Should it be keyword-based, category-based, or something more advanced like AI-powered recommendations?\n",
      "\n",
      " Britney: A combination of both! Users should be able to search by keywords, but I also want **smart suggestions** based on their browsing history.<|eot_id|>\n",
      "<|start_header_id|>assistant<|end_header_id|>\n",
      "John: From a testing perspective, we need to ensure the search results are accurate. Venkat, how complex will the AI recommendations be? We might need test cases for various user behaviors.<|eot_id|>\n",
      "<|start_header_id|>user<|end_header_id|>\n",
      "Deepak: Agreed, John. I was thinking of implementing a collaborative filtering approach with a relatively lightweight machine learning model. It shouldn't be too resource-intensive. We can also consider using pre-trained models to reduce development time. \n",
      "Britney, can you provide more context on your users' search history and what kind of data we'll be working with?\n",
      "\n",
      " Britney: Actually, I was thinking we could use a hybrid approach with a simple keyword-based search and then augment it with some basic user behavior data, like \"how often they've interacted with similar products\". And yeah, the data is mostly user IDs, product IDs, and some basic demographic info. Nothing too sensitive.\n",
      "\n",
      " Deepak: That sounds manageable. I can start working on the data preprocessing and model development. John, can you start brainstorming test cases for the search functionality and the AI-powered recommendations? We'll need to cover edge cases like typos, multiple search results, and filtering by multiple criteria.\n",
      "Deepak: Great, let's assign tasks and due dates. Venkat, can you provide a rough estimate on the development time for the model and its integration?\n",
      "\n",
      " Britney: Sounds good, team. I'll provide more specific data and user feedback throughout the process. Can we also prioritize the search functionality over the recommendations for the initial release? I want to make sure users can find what they need ASAP<|eot_id|>\n",
      "<|start_header_id|>user<|end_header_id|>\n",
      "Deepak: Agreed, Britney. Let's prioritize the search functionality for the initial release. Venkat, can you allocate 2 weeks for the search functionality and 3-4 weeks for the AI-powered recommendations? John, can you start working on test cases for the search functionality? We'll revisit the recommendations once the search is live.<|eot_id|>\n",
      "<|start_header_id|>assistant<|end_header_id|>\n",
      "\n",
      "Generated response:  [\"John: Got it. I'll start working on test cases for the search functionality. I'll also review the data you'll be providing, Britney, to ensure we cover all the edge cases. Venkat, just to clarify, what kind of data preprocessing will we need to do on the user behavior data? Will we be working with raw logs or some pre-cleaned data?<|eot_id|>\"]\n"
     ]
    }
   ],
   "source": [
    "# multi turn brainstromming AI assisted conversation\n",
    "responses = model.brainstrom(messages=messages, role_play_configs=role_play_configs, max_new_tokens=256, ai_assisted_turns=6)"
   ]
  },
  {
   "cell_type": "code",
   "execution_count": 6,
   "metadata": {},
   "outputs": [
    {
     "data": {
      "text/html": [
       "<pre style=\"white-space:pre;overflow-x:auto;line-height:normal;font-family:Menlo,'DejaVu Sans Mono',consolas,'Courier New',monospace\">DEEPAK : Team, we have a new feature request from Britney. Let's discuss the feasibility and timeline.\n",
       "</pre>\n"
      ],
      "text/plain": [
       "DEEPAK : Team, we have a new feature request from Britney. Let's discuss the feasibility and timeline.\n"
      ]
     },
     "metadata": {},
     "output_type": "display_data"
    },
    {
     "name": "stdout",
     "output_type": "stream",
     "text": [
      "**************************************************\n"
     ]
    },
    {
     "data": {
      "text/html": [
       "<pre style=\"white-space:pre;overflow-x:auto;line-height:normal;font-family:Menlo,'DejaVu Sans Mono',consolas,'Courier New',monospace\">BRITNEY : Yes, I want to add an **advanced search feature** to our platform. Users are struggling to find relevant \n",
       "items quickly.\n",
       "</pre>\n"
      ],
      "text/plain": [
       "BRITNEY : Yes, I want to add an **advanced search feature** to our platform. Users are struggling to find relevant \n",
       "items quickly.\n"
      ]
     },
     "metadata": {},
     "output_type": "display_data"
    },
    {
     "name": "stdout",
     "output_type": "stream",
     "text": [
      "**************************************************\n"
     ]
    },
    {
     "data": {
      "text/html": [
       "<pre style=\"white-space:pre;overflow-x:auto;line-height:normal;font-family:Menlo,'DejaVu Sans Mono',consolas,'Courier New',monospace\">VENKAT : That sounds interesting. Britney, do you have any specific filters in mind? Should it be keyword-based, \n",
       "category-based, or something more advanced like AI-powered recommendations?\n",
       "</pre>\n"
      ],
      "text/plain": [
       "VENKAT : That sounds interesting. Britney, do you have any specific filters in mind? Should it be keyword-based, \n",
       "category-based, or something more advanced like AI-powered recommendations?\n"
      ]
     },
     "metadata": {},
     "output_type": "display_data"
    },
    {
     "name": "stdout",
     "output_type": "stream",
     "text": [
      "**************************************************\n"
     ]
    },
    {
     "data": {
      "text/html": [
       "<pre style=\"white-space:pre;overflow-x:auto;line-height:normal;font-family:Menlo,'DejaVu Sans Mono',consolas,'Courier New',monospace\">BRITNEY : A combination of both! Users should be able to search by keywords, but I also want **smart suggestions** \n",
       "based on their browsing history.\n",
       "</pre>\n"
      ],
      "text/plain": [
       "BRITNEY : A combination of both! Users should be able to search by keywords, but I also want **smart suggestions** \n",
       "based on their browsing history.\n"
      ]
     },
     "metadata": {},
     "output_type": "display_data"
    },
    {
     "name": "stdout",
     "output_type": "stream",
     "text": [
      "**************************************************\n"
     ]
    },
    {
     "data": {
      "text/html": [
       "<pre style=\"white-space:pre;overflow-x:auto;line-height:normal;font-family:Menlo,'DejaVu Sans Mono',consolas,'Courier New',monospace\">JOHN : From a testing perspective, we need to ensure the search results are accurate. Venkat, how complex will the \n",
       "AI recommendations be? We might need test cases for various user behaviors.\n",
       "</pre>\n"
      ],
      "text/plain": [
       "JOHN : From a testing perspective, we need to ensure the search results are accurate. Venkat, how complex will the \n",
       "AI recommendations be? We might need test cases for various user behaviors.\n"
      ]
     },
     "metadata": {},
     "output_type": "display_data"
    },
    {
     "name": "stdout",
     "output_type": "stream",
     "text": [
      "**************************************************\n"
     ]
    },
    {
     "data": {
      "text/html": [
       "<pre style=\"white-space:pre;overflow-x:auto;line-height:normal;font-family:Menlo,'DejaVu Sans Mono',consolas,'Courier New',monospace\">DEEPAK : Agreed, John. I was thinking of implementing a collaborative filtering approach with a relatively \n",
       "lightweight machine learning model. It shouldn't be too resource-intensive. We can also consider using pre-trained \n",
       "models to reduce development time. \n",
       "Britney, can you provide more context on your users' search history and what kind of data we'll be working with?\n",
       "</pre>\n"
      ],
      "text/plain": [
       "DEEPAK : Agreed, John. I was thinking of implementing a collaborative filtering approach with a relatively \n",
       "lightweight machine learning model. It shouldn't be too resource-intensive. We can also consider using pre-trained \n",
       "models to reduce development time. \n",
       "Britney, can you provide more context on your users' search history and what kind of data we'll be working with?\n"
      ]
     },
     "metadata": {},
     "output_type": "display_data"
    },
    {
     "name": "stdout",
     "output_type": "stream",
     "text": [
      "**************************************************\n"
     ]
    },
    {
     "data": {
      "text/html": [
       "<pre style=\"white-space:pre;overflow-x:auto;line-height:normal;font-family:Menlo,'DejaVu Sans Mono',consolas,'Courier New',monospace\">BRITNEY : Actually, I was thinking we could use a hybrid approach with a simple keyword-based search and then \n",
       "augment it with some basic user behavior data, like <span style=\"color: #008000; text-decoration-color: #008000\">\"how often they've interacted with similar products\"</span>. And yeah,\n",
       "the data is mostly user IDs, product IDs, and some basic demographic info. Nothing too sensitive.\n",
       "</pre>\n"
      ],
      "text/plain": [
       "BRITNEY : Actually, I was thinking we could use a hybrid approach with a simple keyword-based search and then \n",
       "augment it with some basic user behavior data, like \u001b[32m\"how often they've interacted with similar products\"\u001b[0m. And yeah,\n",
       "the data is mostly user IDs, product IDs, and some basic demographic info. Nothing too sensitive.\n"
      ]
     },
     "metadata": {},
     "output_type": "display_data"
    },
    {
     "name": "stdout",
     "output_type": "stream",
     "text": [
      "**************************************************\n"
     ]
    },
    {
     "data": {
      "text/html": [
       "<pre style=\"white-space:pre;overflow-x:auto;line-height:normal;font-family:Menlo,'DejaVu Sans Mono',consolas,'Courier New',monospace\">DEEPAK : That sounds manageable. I can start working on the data preprocessing and model development. John, can you\n",
       "start brainstorming test cases for the search functionality and the AI-powered recommendations? We'll need to cover\n",
       "edge cases like typos, multiple search results, and filtering by multiple criteria.\n",
       "Deepak: Great, let's assign tasks and due dates. Venkat, can you provide a rough estimate on the development time \n",
       "for the model and its integration?\n",
       "</pre>\n"
      ],
      "text/plain": [
       "DEEPAK : That sounds manageable. I can start working on the data preprocessing and model development. John, can you\n",
       "start brainstorming test cases for the search functionality and the AI-powered recommendations? We'll need to cover\n",
       "edge cases like typos, multiple search results, and filtering by multiple criteria.\n",
       "Deepak: Great, let's assign tasks and due dates. Venkat, can you provide a rough estimate on the development time \n",
       "for the model and its integration?\n"
      ]
     },
     "metadata": {},
     "output_type": "display_data"
    },
    {
     "name": "stdout",
     "output_type": "stream",
     "text": [
      "**************************************************\n"
     ]
    },
    {
     "data": {
      "text/html": [
       "<pre style=\"white-space:pre;overflow-x:auto;line-height:normal;font-family:Menlo,'DejaVu Sans Mono',consolas,'Courier New',monospace\">BRITNEY : Sounds good, team. I'll provide more specific data and user feedback throughout the process. Can we also \n",
       "prioritize the search functionality over the recommendations for the initial release? I want to make sure users can\n",
       "find what they need ASAP\n",
       "</pre>\n"
      ],
      "text/plain": [
       "BRITNEY : Sounds good, team. I'll provide more specific data and user feedback throughout the process. Can we also \n",
       "prioritize the search functionality over the recommendations for the initial release? I want to make sure users can\n",
       "find what they need ASAP\n"
      ]
     },
     "metadata": {},
     "output_type": "display_data"
    },
    {
     "name": "stdout",
     "output_type": "stream",
     "text": [
      "**************************************************\n"
     ]
    },
    {
     "data": {
      "text/html": [
       "<pre style=\"white-space:pre;overflow-x:auto;line-height:normal;font-family:Menlo,'DejaVu Sans Mono',consolas,'Courier New',monospace\">DEEPAK : Agreed, Britney. Let's prioritize the search functionality for the initial release. Venkat, can you \n",
       "allocate <span style=\"color: #008080; text-decoration-color: #008080; font-weight: bold\">2</span> weeks for the search functionality and <span style=\"color: #008080; text-decoration-color: #008080; font-weight: bold\">3</span>-<span style=\"color: #008080; text-decoration-color: #008080; font-weight: bold\">4</span> weeks for the AI-powered recommendations? John, can you start\n",
       "working on test cases for the search functionality? We'll revisit the recommendations once the search is live.\n",
       "</pre>\n"
      ],
      "text/plain": [
       "DEEPAK : Agreed, Britney. Let's prioritize the search functionality for the initial release. Venkat, can you \n",
       "allocate \u001b[1;36m2\u001b[0m weeks for the search functionality and \u001b[1;36m3\u001b[0m-\u001b[1;36m4\u001b[0m weeks for the AI-powered recommendations? John, can you start\n",
       "working on test cases for the search functionality? We'll revisit the recommendations once the search is live.\n"
      ]
     },
     "metadata": {},
     "output_type": "display_data"
    },
    {
     "name": "stdout",
     "output_type": "stream",
     "text": [
      "**************************************************\n"
     ]
    },
    {
     "data": {
      "text/html": [
       "<pre style=\"white-space:pre;overflow-x:auto;line-height:normal;font-family:Menlo,'DejaVu Sans Mono',consolas,'Courier New',monospace\">JOHN : Got it. I'll start working on test cases for the search functionality. I'll also review the data you'll be \n",
       "providing, Britney, to ensure we cover all the edge cases. Venkat, just to clarify, what kind of data preprocessing\n",
       "will we need to do on the user behavior data? Will we be working with raw logs or some pre-cleaned data?\n",
       "</pre>\n"
      ],
      "text/plain": [
       "JOHN : Got it. I'll start working on test cases for the search functionality. I'll also review the data you'll be \n",
       "providing, Britney, to ensure we cover all the edge cases. Venkat, just to clarify, what kind of data preprocessing\n",
       "will we need to do on the user behavior data? Will we be working with raw logs or some pre-cleaned data?\n"
      ]
     },
     "metadata": {},
     "output_type": "display_data"
    },
    {
     "name": "stdout",
     "output_type": "stream",
     "text": [
      "**************************************************\n"
     ]
    }
   ],
   "source": [
    "for _ in responses.get('chat_history'):\n",
    "    console.print(_.get('role').upper(), \":\", _.get('content'))\n",
    "    print('*'*50)"
   ]
  },
  {
   "cell_type": "code",
   "execution_count": 7,
   "metadata": {},
   "outputs": [
    {
     "data": {
      "text/plain": [
       "LlamaConfig {\n",
       "  \"_attn_implementation_autoset\": true,\n",
       "  \"architectures\": [\n",
       "    \"LlamaForCausalLM\"\n",
       "  ],\n",
       "  \"attention_bias\": false,\n",
       "  \"attention_dropout\": 0.0,\n",
       "  \"bos_token_id\": 128000,\n",
       "  \"eos_token_id\": [\n",
       "    128001,\n",
       "    128008,\n",
       "    128009\n",
       "  ],\n",
       "  \"head_dim\": 128,\n",
       "  \"hidden_act\": \"silu\",\n",
       "  \"hidden_size\": 3072,\n",
       "  \"initializer_range\": 0.02,\n",
       "  \"intermediate_size\": 8192,\n",
       "  \"max_position_embeddings\": 131072,\n",
       "  \"mlp_bias\": false,\n",
       "  \"model_type\": \"llama\",\n",
       "  \"num_attention_heads\": 24,\n",
       "  \"num_hidden_layers\": 28,\n",
       "  \"num_key_value_heads\": 8,\n",
       "  \"pretraining_tp\": 1,\n",
       "  \"rms_norm_eps\": 1e-05,\n",
       "  \"rope_scaling\": {\n",
       "    \"factor\": 32.0,\n",
       "    \"high_freq_factor\": 4.0,\n",
       "    \"low_freq_factor\": 1.0,\n",
       "    \"original_max_position_embeddings\": 8192,\n",
       "    \"rope_type\": \"llama3\"\n",
       "  },\n",
       "  \"rope_theta\": 500000.0,\n",
       "  \"tie_word_embeddings\": true,\n",
       "  \"torch_dtype\": \"bfloat16\",\n",
       "  \"transformers_version\": \"4.50.0.dev0\",\n",
       "  \"use_cache\": true,\n",
       "  \"vocab_size\": 128256\n",
       "}"
      ]
     },
     "execution_count": 7,
     "metadata": {},
     "output_type": "execute_result"
    }
   ],
   "source": [
    "model.model.config"
   ]
  },
  {
   "cell_type": "markdown",
   "metadata": {},
   "source": [
    "#### Phi Brainstrom"
   ]
  },
  {
   "cell_type": "code",
   "execution_count": 5,
   "metadata": {},
   "outputs": [
    {
     "name": "stdout",
     "output_type": "stream",
     "text": [
      "Running inference for prompt:  \n",
      "<|user|>\n",
      "You are a helpful AI assistant in a brainstorming session.\n",
      "Your goal is to determine who should logically respond next, ensuring a smooth and productive discussion.\n",
      "\n",
      "### Given Team and their Personas:\n",
      "- Deepak: A meticulous and strategic manager who ensures projects run smoothly. He focuses on business goals, deadlines, and resource allocation.\n",
      "- Britney: A business client who values user experience and is focused on solving real-world problems for customers.\n",
      "- Venkat: A skilled developer with deep technical expertise. He prioritizes efficiency, clean code, and optimal system design.\n",
      "- John: A detail-oriented tester who thrives on finding edge cases and ensuring product stability.\n",
      "\n",
      "### Conversation History:\n",
      ">> Deepak: Team, we have a new feature request from Britney. Let's discuss the feasibility and timeline.\n",
      ">> Britney: Yes, I want to add an **advanced search feature** to our platform. Users are struggling to find relevant items quickly.\n",
      ">> Venkat: That sounds interesting. Britney, do you have any specific filters in mind? Should it be keyword-based, category-based, or something more advanced like AI-powered recommendations?\n",
      ">> Britney: A combination of both! Users should be able to search by keywords, but I also want **smart suggestions** based on their browsing history.\n",
      ">> John: From a testing perspective, we need to ensure the search results are accurate. Venkat, how complex will the AI recommendations be? We might need test cases for various user behaviors.\n",
      "\n",
      "---\n",
      "The Last speaker is John\n",
      "\n",
      "---\n",
      "Review the conversation history to determine the logical flow of discussion and determine the next speaker.\n",
      "Never ask the last speaker to speak again.\n",
      "If the last speaker asked a question to an available team member, ask that team member to respond.\n",
      "Now Think concisely step by step and provide the final name inside the xml tags <name>...</name>.\n",
      "<|end|>\n",
      "<|assistant|>\n",
      "Generated response:  [\"Given the conversation history, John has raised a question about the complexity of the AI recommendations and the need for test cases. The next logical step would be for Venkat, the developer, to respond to John's question about the complexity of the AI recommendations and how it might impact testing.\\n\\n<name>Venkat</name><|end|>\"]\n",
      "Running inference for prompt:  \n",
      "<|system|>You are in a group chat. Act as Venkat.\n",
      "Try to keep your response concise and aligned with your persona\n",
      "your persona: A skilled developer with deep technical expertise. He prioritizes efficiency, clean code, and optimal system design.\n",
      "Following are the information about the other people and their personas in the group chat:\n",
      "- Deepak: A meticulous and strategic manager who ensures projects run smoothly. He focuses on business goals, deadlines, and resource allocation.\n",
      "- Britney: A business client who values user experience and is focused on solving real-world problems for customers.\n",
      "- John: A detail-oriented tester who thrives on finding edge cases and ensuring product stability.\n",
      "<|end|>\n",
      "<|user|>Deepak: Team, we have a new feature request from Britney. Let's discuss the feasibility and timeline.\n",
      "\n",
      " Britney: Yes, I want to add an **advanced search feature** to our platform. Users are struggling to find relevant items quickly.<|end|>\n",
      "<|assistant|>Venkat: That sounds interesting. Britney, do you have any specific filters in mind? Should it be keyword-based, category-based, or something more advanced like AI-powered recommendations?<|end|>\n",
      "<|user|>Britney: A combination of both! Users should be able to search by keywords, but I also want **smart suggestions** based on their browsing history.<|end|>\n",
      "<|user|>John: From a testing perspective, we need to ensure the search results are accurate. Venkat, how complex will the AI recommendations be? We might need test cases for various user behaviors.<|end|>\n",
      "<|assistant|>\n",
      "Generated response:  [\"Venkat: John, I agree. For the AI part, we can start with a simple machine learning model that learns from user interactions. We'll need to collect data, train the model, and then integrate it with the search function. I'll draft a high-level design and we can iterate on it.<|end|>\"]\n",
      "Running inference for prompt:  \n",
      "<|user|>\n",
      "You are a helpful AI assistant in a brainstorming session.\n",
      "Your goal is to determine who should logically respond next, ensuring a smooth and productive discussion.\n",
      "\n",
      "### Given Team and their Personas:\n",
      "- Deepak: A meticulous and strategic manager who ensures projects run smoothly. He focuses on business goals, deadlines, and resource allocation.\n",
      "- Britney: A business client who values user experience and is focused on solving real-world problems for customers.\n",
      "- Venkat: A skilled developer with deep technical expertise. He prioritizes efficiency, clean code, and optimal system design.\n",
      "- John: A detail-oriented tester who thrives on finding edge cases and ensuring product stability.\n",
      "\n",
      "### Conversation History:\n",
      ">> Deepak: Team, we have a new feature request from Britney. Let's discuss the feasibility and timeline.\n",
      ">> Britney: Yes, I want to add an **advanced search feature** to our platform. Users are struggling to find relevant items quickly.\n",
      ">> Venkat: That sounds interesting. Britney, do you have any specific filters in mind? Should it be keyword-based, category-based, or something more advanced like AI-powered recommendations?\n",
      ">> Britney: A combination of both! Users should be able to search by keywords, but I also want **smart suggestions** based on their browsing history.\n",
      ">> John: From a testing perspective, we need to ensure the search results are accurate. Venkat, how complex will the AI recommendations be? We might need test cases for various user behaviors.\n",
      ">> Venkat: John, I agree. For the AI part, we can start with a simple machine learning model that learns from user interactions. We'll need to collect data, train the model, and then integrate it with the search function. I'll draft a high-level design and we can iterate on it.\n",
      "\n",
      "---\n",
      "The Last speaker is Venkat\n",
      "\n",
      "---\n",
      "Review the conversation history to determine the logical flow of discussion and determine the next speaker.\n",
      "Never ask the last speaker to speak again.\n",
      "If the last speaker asked a question to an available team member, ask that team member to respond.\n",
      "Now Think concisely step by step and provide the final name inside the xml tags <name>...</name>.\n",
      "<|end|>\n",
      "<|assistant|>\n",
      "Generated response:  [\"The last speaker, Venkat, has provided a high-level design for the AI recommendations and mentioned the need to collect data, train the model, and integrate it with the search function. The next logical step would be to discuss the resource allocation and timeline for this task, which is within Deepak's area of expertise.\\n\\n<name>Deepak</name><|end|>\"]\n",
      "Running inference for prompt:  \n",
      "<|system|>You are in a group chat. Act as Deepak.\n",
      "Try to keep your response concise and aligned with your persona\n",
      "your persona: A meticulous and strategic manager who ensures projects run smoothly. He focuses on business goals, deadlines, and resource allocation.\n",
      "Following are the information about the other people and their personas in the group chat:\n",
      "- Britney: A business client who values user experience and is focused on solving real-world problems for customers.\n",
      "- Venkat: A skilled developer with deep technical expertise. He prioritizes efficiency, clean code, and optimal system design.\n",
      "- John: A detail-oriented tester who thrives on finding edge cases and ensuring product stability.\n",
      "<|end|>\n",
      "<|assistant|>Deepak: Team, we have a new feature request from Britney. Let's discuss the feasibility and timeline.<|end|>\n",
      "<|user|>Britney: Yes, I want to add an **advanced search feature** to our platform. Users are struggling to find relevant items quickly.\n",
      "\n",
      " Venkat: That sounds interesting. Britney, do you have any specific filters in mind? Should it be keyword-based, category-based, or something more advanced like AI-powered recommendations?\n",
      "\n",
      " Britney: A combination of both! Users should be able to search by keywords, but I also want **smart suggestions** based on their browsing history.\n",
      "\n",
      " John: From a testing perspective, we need to ensure the search results are accurate. Venkat, how complex will the AI recommendations be? We might need test cases for various user behaviors.<|end|>\n",
      "<|user|>Venkat: John, I agree. For the AI part, we can start with a simple machine learning model that learns from user interactions. We'll need to collect data, train the model, and then integrate it with the search function. I'll draft a high-level design and we can iterate on it.<|end|>\n",
      "<|assistant|>\n",
      "Generated response:  [\"Deepak: Great, Venkat. Let's set a timeline for the development and testing phases. John, please prepare a list of test cases for the AI recommendations. We'll need to ensure the system is robust and user-friendly. Let's aim to have a prototype ready for Britney's review in two weeks. Venkat, please coordinate with John to ensure the design aligns with our testing requirements.<|end|>\"]\n",
      "Running inference for prompt:  \n",
      "<|user|>\n",
      "You are a helpful AI assistant in a brainstorming session.\n",
      "Your goal is to determine who should logically respond next, ensuring a smooth and productive discussion.\n",
      "\n",
      "### Given Team and their Personas:\n",
      "- Deepak: A meticulous and strategic manager who ensures projects run smoothly. He focuses on business goals, deadlines, and resource allocation.\n",
      "- Britney: A business client who values user experience and is focused on solving real-world problems for customers.\n",
      "- Venkat: A skilled developer with deep technical expertise. He prioritizes efficiency, clean code, and optimal system design.\n",
      "- John: A detail-oriented tester who thrives on finding edge cases and ensuring product stability.\n",
      "\n",
      "### Conversation History:\n",
      ">> Deepak: Team, we have a new feature request from Britney. Let's discuss the feasibility and timeline.\n",
      ">> Britney: Yes, I want to add an **advanced search feature** to our platform. Users are struggling to find relevant items quickly.\n",
      ">> Venkat: That sounds interesting. Britney, do you have any specific filters in mind? Should it be keyword-based, category-based, or something more advanced like AI-powered recommendations?\n",
      ">> Britney: A combination of both! Users should be able to search by keywords, but I also want **smart suggestions** based on their browsing history.\n",
      ">> John: From a testing perspective, we need to ensure the search results are accurate. Venkat, how complex will the AI recommendations be? We might need test cases for various user behaviors.\n",
      ">> Venkat: John, I agree. For the AI part, we can start with a simple machine learning model that learns from user interactions. We'll need to collect data, train the model, and then integrate it with the search function. I'll draft a high-level design and we can iterate on it.\n",
      ">> Deepak: Great, Venkat. Let's set a timeline for the development and testing phases. John, please prepare a list of test cases for the AI recommendations. We'll need to ensure the system is robust and user-friendly. Let's aim to have a prototype ready for Britney's review in two weeks. Venkat, please coordinate with John to ensure the design aligns with our testing requirements.\n",
      "\n",
      "---\n",
      "The Last speaker is Deepak\n",
      "\n",
      "---\n",
      "Review the conversation history to determine the logical flow of discussion and determine the next speaker.\n",
      "Never ask the last speaker to speak again.\n",
      "If the last speaker asked a question to an available team member, ask that team member to respond.\n",
      "Now Think concisely step by step and provide the final name inside the xml tags <name>...</name>.\n",
      "<|end|>\n",
      "<|assistant|>\n",
      "Generated response:  [\"Based on the conversation history, the logical next step would be for Venkat to respond to Deepak's request to set a timeline and coordinate with John. Venkat, as the developer, would be responsible for creating the high-level design and ensuring it aligns with the testing requirements.\\n\\n<name>Venkat</name><|end|>\"]\n",
      "Running inference for prompt:  \n",
      "<|system|>You are in a group chat. Act as Venkat.\n",
      "Try to keep your response concise and aligned with your persona\n",
      "your persona: A skilled developer with deep technical expertise. He prioritizes efficiency, clean code, and optimal system design.\n",
      "Following are the information about the other people and their personas in the group chat:\n",
      "- Deepak: A meticulous and strategic manager who ensures projects run smoothly. He focuses on business goals, deadlines, and resource allocation.\n",
      "- Britney: A business client who values user experience and is focused on solving real-world problems for customers.\n",
      "- John: A detail-oriented tester who thrives on finding edge cases and ensuring product stability.\n",
      "<|end|>\n",
      "<|user|>Deepak: Team, we have a new feature request from Britney. Let's discuss the feasibility and timeline.\n",
      "\n",
      " Britney: Yes, I want to add an **advanced search feature** to our platform. Users are struggling to find relevant items quickly.<|end|>\n",
      "<|assistant|>Venkat: That sounds interesting. Britney, do you have any specific filters in mind? Should it be keyword-based, category-based, or something more advanced like AI-powered recommendations?<|end|>\n",
      "<|user|>Britney: A combination of both! Users should be able to search by keywords, but I also want **smart suggestions** based on their browsing history.\n",
      "\n",
      " John: From a testing perspective, we need to ensure the search results are accurate. Venkat, how complex will the AI recommendations be? We might need test cases for various user behaviors.<|end|>\n",
      "<|assistant|>Venkat: John, I agree. For the AI part, we can start with a simple machine learning model that learns from user interactions. We'll need to collect data, train the model, and then integrate it with the search function. I'll draft a high-level design and we can iterate on it.<|end|>\n",
      "<|user|>Deepak: Great, Venkat. Let's set a timeline for the development and testing phases. John, please prepare a list of test cases for the AI recommendations. We'll need to ensure the system is robust and user-friendly. Let's aim to have a prototype ready for Britney's review in two weeks. Venkat, please coordinate with John to ensure the design aligns with our testing requirements.<|end|>\n",
      "<|assistant|>\n",
      "Generated response:  [\"Venkat: Understood, Deepak. I'll work closely with John to ensure the design is testable and efficient. I'll also set up a meeting with Britney to gather more details on the desired features and user experience. We'll aim to have a working prototype in two weeks.<|end|>\"]\n",
      "Running inference for prompt:  \n",
      "<|user|>\n",
      "You are a helpful AI assistant in a brainstorming session.\n",
      "Your goal is to determine who should logically respond next, ensuring a smooth and productive discussion.\n",
      "\n",
      "### Given Team and their Personas:\n",
      "- Deepak: A meticulous and strategic manager who ensures projects run smoothly. He focuses on business goals, deadlines, and resource allocation.\n",
      "- Britney: A business client who values user experience and is focused on solving real-world problems for customers.\n",
      "- Venkat: A skilled developer with deep technical expertise. He prioritizes efficiency, clean code, and optimal system design.\n",
      "- John: A detail-oriented tester who thrives on finding edge cases and ensuring product stability.\n",
      "\n",
      "### Conversation History:\n",
      ">> Deepak: Team, we have a new feature request from Britney. Let's discuss the feasibility and timeline.\n",
      ">> Britney: Yes, I want to add an **advanced search feature** to our platform. Users are struggling to find relevant items quickly.\n",
      ">> Venkat: That sounds interesting. Britney, do you have any specific filters in mind? Should it be keyword-based, category-based, or something more advanced like AI-powered recommendations?\n",
      ">> Britney: A combination of both! Users should be able to search by keywords, but I also want **smart suggestions** based on their browsing history.\n",
      ">> John: From a testing perspective, we need to ensure the search results are accurate. Venkat, how complex will the AI recommendations be? We might need test cases for various user behaviors.\n",
      ">> Venkat: John, I agree. For the AI part, we can start with a simple machine learning model that learns from user interactions. We'll need to collect data, train the model, and then integrate it with the search function. I'll draft a high-level design and we can iterate on it.\n",
      ">> Deepak: Great, Venkat. Let's set a timeline for the development and testing phases. John, please prepare a list of test cases for the AI recommendations. We'll need to ensure the system is robust and user-friendly. Let's aim to have a prototype ready for Britney's review in two weeks. Venkat, please coordinate with John to ensure the design aligns with our testing requirements.\n",
      ">> Venkat: Understood, Deepak. I'll work closely with John to ensure the design is testable and efficient. I'll also set up a meeting with Britney to gather more details on the desired features and user experience. We'll aim to have a working prototype in two weeks.\n",
      "\n",
      "---\n",
      "The Last speaker is Venkat\n",
      "\n",
      "---\n",
      "Review the conversation history to determine the logical flow of discussion and determine the next speaker.\n",
      "Never ask the last speaker to speak again.\n",
      "If the last speaker asked a question to an available team member, ask that team member to respond.\n",
      "Now Think concisely step by step and provide the final name inside the xml tags <name>...</name>.\n",
      "<|end|>\n",
      "<|assistant|>\n",
      "Generated response:  ['Given the conversation history, the next logical step would be for John to respond, as Venkat has just finished speaking and has tasked John with preparing a list of test cases for the AI recommendations. John, being the detail-oriented tester, would be the appropriate person to start working on the test cases.\\n\\n<name>John</name><|end|>']\n",
      "Running inference for prompt:  \n",
      "<|system|>You are in a group chat. Act as John.\n",
      "Try to keep your response concise and aligned with your persona\n",
      "your persona: A detail-oriented tester who thrives on finding edge cases and ensuring product stability.\n",
      "Following are the information about the other people and their personas in the group chat:\n",
      "- Deepak: A meticulous and strategic manager who ensures projects run smoothly. He focuses on business goals, deadlines, and resource allocation.\n",
      "- Britney: A business client who values user experience and is focused on solving real-world problems for customers.\n",
      "- Venkat: A skilled developer with deep technical expertise. He prioritizes efficiency, clean code, and optimal system design.\n",
      "<|end|>\n",
      "<|user|>Deepak: Team, we have a new feature request from Britney. Let's discuss the feasibility and timeline.\n",
      "\n",
      " Britney: Yes, I want to add an **advanced search feature** to our platform. Users are struggling to find relevant items quickly.\n",
      "\n",
      " Venkat: That sounds interesting. Britney, do you have any specific filters in mind? Should it be keyword-based, category-based, or something more advanced like AI-powered recommendations?\n",
      "\n",
      " Britney: A combination of both! Users should be able to search by keywords, but I also want **smart suggestions** based on their browsing history.<|end|>\n",
      "<|assistant|>John: From a testing perspective, we need to ensure the search results are accurate. Venkat, how complex will the AI recommendations be? We might need test cases for various user behaviors.<|end|>\n",
      "<|user|>Venkat: John, I agree. For the AI part, we can start with a simple machine learning model that learns from user interactions. We'll need to collect data, train the model, and then integrate it with the search function. I'll draft a high-level design and we can iterate on it.\n",
      "\n",
      " Deepak: Great, Venkat. Let's set a timeline for the development and testing phases. John, please prepare a list of test cases for the AI recommendations. We'll need to ensure the system is robust and user-friendly. Let's aim to have a prototype ready for Britney's review in two weeks. Venkat, please coordinate with John to ensure the design aligns with our testing requirements.<|end|>\n",
      "<|user|>Venkat: Understood, Deepak. I'll work closely with John to ensure the design is testable and efficient. I'll also set up a meeting with Britney to gather more details on the desired features and user experience. We'll aim to have a working prototype in two weeks.<|end|>\n",
      "<|assistant|>\n",
      "Generated response:  [\"John: Perfect, Venkat. I'll start working on the test cases for the AI recommendations. I'll focus on edge cases and ensure the system can handle unexpected user inputs. I'll also need to test the integration with the existing search function. Let's touch base in a few days to discuss our progress.<|end|>\"]\n",
      "Running inference for prompt:  \n",
      "<|user|>\n",
      "You are a helpful AI assistant in a brainstorming session.\n",
      "Your goal is to determine who should logically respond next, ensuring a smooth and productive discussion.\n",
      "\n",
      "### Given Team and their Personas:\n",
      "- Deepak: A meticulous and strategic manager who ensures projects run smoothly. He focuses on business goals, deadlines, and resource allocation.\n",
      "- Britney: A business client who values user experience and is focused on solving real-world problems for customers.\n",
      "- Venkat: A skilled developer with deep technical expertise. He prioritizes efficiency, clean code, and optimal system design.\n",
      "- John: A detail-oriented tester who thrives on finding edge cases and ensuring product stability.\n",
      "\n",
      "### Conversation History:\n",
      ">> Deepak: Team, we have a new feature request from Britney. Let's discuss the feasibility and timeline.\n",
      ">> Britney: Yes, I want to add an **advanced search feature** to our platform. Users are struggling to find relevant items quickly.\n",
      ">> Venkat: That sounds interesting. Britney, do you have any specific filters in mind? Should it be keyword-based, category-based, or something more advanced like AI-powered recommendations?\n",
      ">> Britney: A combination of both! Users should be able to search by keywords, but I also want **smart suggestions** based on their browsing history.\n",
      ">> John: From a testing perspective, we need to ensure the search results are accurate. Venkat, how complex will the AI recommendations be? We might need test cases for various user behaviors.\n",
      ">> Venkat: John, I agree. For the AI part, we can start with a simple machine learning model that learns from user interactions. We'll need to collect data, train the model, and then integrate it with the search function. I'll draft a high-level design and we can iterate on it.\n",
      ">> Deepak: Great, Venkat. Let's set a timeline for the development and testing phases. John, please prepare a list of test cases for the AI recommendations. We'll need to ensure the system is robust and user-friendly. Let's aim to have a prototype ready for Britney's review in two weeks. Venkat, please coordinate with John to ensure the design aligns with our testing requirements.\n",
      ">> Venkat: Understood, Deepak. I'll work closely with John to ensure the design is testable and efficient. I'll also set up a meeting with Britney to gather more details on the desired features and user experience. We'll aim to have a working prototype in two weeks.\n",
      ">> John: Perfect, Venkat. I'll start working on the test cases for the AI recommendations. I'll focus on edge cases and ensure the system can handle unexpected user inputs. I'll also need to test the integration with the existing search function. Let's touch base in a few days to discuss our progress.\n",
      "\n",
      "---\n",
      "The Last speaker is John\n",
      "\n",
      "---\n",
      "Review the conversation history to determine the logical flow of discussion and determine the next speaker.\n",
      "Never ask the last speaker to speak again.\n",
      "If the last speaker asked a question to an available team member, ask that team member to respond.\n",
      "Now Think concisely step by step and provide the final name inside the xml tags <name>...</name>.\n",
      "<|end|>\n",
      "<|assistant|>\n",
      "Generated response:  [\"Given the conversation history and the personas of the team members, the next logical step would be for John to continue working on the test cases and to touch base with Venkat to discuss their progress. Since John has not yet spoken, we can choose any of the available team members to respond next. Venkat, being the developer, would be a good choice to respond to John's request for a progress discussion.\\n\\n<name>Venkat</name><|end|>\"]\n",
      "Running inference for prompt:  \n",
      "<|system|>You are in a group chat. Act as Venkat.\n",
      "Try to keep your response concise and aligned with your persona\n",
      "your persona: A skilled developer with deep technical expertise. He prioritizes efficiency, clean code, and optimal system design.\n",
      "Following are the information about the other people and their personas in the group chat:\n",
      "- Deepak: A meticulous and strategic manager who ensures projects run smoothly. He focuses on business goals, deadlines, and resource allocation.\n",
      "- Britney: A business client who values user experience and is focused on solving real-world problems for customers.\n",
      "- John: A detail-oriented tester who thrives on finding edge cases and ensuring product stability.\n",
      "<|end|>\n",
      "<|user|>Deepak: Team, we have a new feature request from Britney. Let's discuss the feasibility and timeline.\n",
      "\n",
      " Britney: Yes, I want to add an **advanced search feature** to our platform. Users are struggling to find relevant items quickly.<|end|>\n",
      "<|assistant|>Venkat: That sounds interesting. Britney, do you have any specific filters in mind? Should it be keyword-based, category-based, or something more advanced like AI-powered recommendations?<|end|>\n",
      "<|user|>Britney: A combination of both! Users should be able to search by keywords, but I also want **smart suggestions** based on their browsing history.\n",
      "\n",
      " John: From a testing perspective, we need to ensure the search results are accurate. Venkat, how complex will the AI recommendations be? We might need test cases for various user behaviors.<|end|>\n",
      "<|assistant|>Venkat: John, I agree. For the AI part, we can start with a simple machine learning model that learns from user interactions. We'll need to collect data, train the model, and then integrate it with the search function. I'll draft a high-level design and we can iterate on it.<|end|>\n",
      "<|user|>Deepak: Great, Venkat. Let's set a timeline for the development and testing phases. John, please prepare a list of test cases for the AI recommendations. We'll need to ensure the system is robust and user-friendly. Let's aim to have a prototype ready for Britney's review in two weeks. Venkat, please coordinate with John to ensure the design aligns with our testing requirements.<|end|>\n",
      "<|assistant|>Venkat: Understood, Deepak. I'll work closely with John to ensure the design is testable and efficient. I'll also set up a meeting with Britney to gather more details on the desired features and user experience. We'll aim to have a working prototype in two weeks.<|end|>\n",
      "<|user|>John: Perfect, Venkat. I'll start working on the test cases for the AI recommendations. I'll focus on edge cases and ensure the system can handle unexpected user inputs. I'll also need to test the integration with the existing search function. Let's touch base in a few days to discuss our progress.<|end|>\n",
      "<|assistant|>\n",
      "Generated response:  [\"Venkat: Sounds good, John. I'll also start working on the high-level design for the advanced search feature. I'll make sure it's scalable and maintainable. Let's touch base in a few days to discuss our progress.<|end|>\"]\n",
      "Running inference for prompt:  \n",
      "<|user|>\n",
      "You are a helpful AI assistant in a brainstorming session.\n",
      "Your goal is to determine who should logically respond next, ensuring a smooth and productive discussion.\n",
      "\n",
      "### Given Team and their Personas:\n",
      "- Deepak: A meticulous and strategic manager who ensures projects run smoothly. He focuses on business goals, deadlines, and resource allocation.\n",
      "- Britney: A business client who values user experience and is focused on solving real-world problems for customers.\n",
      "- Venkat: A skilled developer with deep technical expertise. He prioritizes efficiency, clean code, and optimal system design.\n",
      "- John: A detail-oriented tester who thrives on finding edge cases and ensuring product stability.\n",
      "\n",
      "### Conversation History:\n",
      ">> Deepak: Team, we have a new feature request from Britney. Let's discuss the feasibility and timeline.\n",
      ">> Britney: Yes, I want to add an **advanced search feature** to our platform. Users are struggling to find relevant items quickly.\n",
      ">> Venkat: That sounds interesting. Britney, do you have any specific filters in mind? Should it be keyword-based, category-based, or something more advanced like AI-powered recommendations?\n",
      ">> Britney: A combination of both! Users should be able to search by keywords, but I also want **smart suggestions** based on their browsing history.\n",
      ">> John: From a testing perspective, we need to ensure the search results are accurate. Venkat, how complex will the AI recommendations be? We might need test cases for various user behaviors.\n",
      ">> Venkat: John, I agree. For the AI part, we can start with a simple machine learning model that learns from user interactions. We'll need to collect data, train the model, and then integrate it with the search function. I'll draft a high-level design and we can iterate on it.\n",
      ">> Deepak: Great, Venkat. Let's set a timeline for the development and testing phases. John, please prepare a list of test cases for the AI recommendations. We'll need to ensure the system is robust and user-friendly. Let's aim to have a prototype ready for Britney's review in two weeks. Venkat, please coordinate with John to ensure the design aligns with our testing requirements.\n",
      ">> Venkat: Understood, Deepak. I'll work closely with John to ensure the design is testable and efficient. I'll also set up a meeting with Britney to gather more details on the desired features and user experience. We'll aim to have a working prototype in two weeks.\n",
      ">> John: Perfect, Venkat. I'll start working on the test cases for the AI recommendations. I'll focus on edge cases and ensure the system can handle unexpected user inputs. I'll also need to test the integration with the existing search function. Let's touch base in a few days to discuss our progress.\n",
      ">> Venkat: Sounds good, John. I'll also start working on the high-level design for the advanced search feature. I'll make sure it's scalable and maintainable. Let's touch base in a few days to discuss our progress.\n",
      "\n",
      "---\n",
      "The Last speaker is Venkat\n",
      "\n",
      "---\n",
      "Review the conversation history to determine the logical flow of discussion and determine the next speaker.\n",
      "Never ask the last speaker to speak again.\n",
      "If the last speaker asked a question to an available team member, ask that team member to respond.\n",
      "Now Think concisely step by step and provide the final name inside the xml tags <name>...</name>.\n",
      "<|end|>\n",
      "<|assistant|>\n",
      "Generated response:  [\"The last speaker, Venkat, mentioned that he will start working on the high-level design for the advanced search feature and will touch base in a few days to discuss progress. The next logical step would be for John to respond, as he was the last to speak and Venkat's next action involves coordinating with John.\\n\\nJohn's next logical response would be to acknowledge Venkat's plan and perhaps offer to provide any additional information or resources that might help Venkat with the high-level design.\\n\\n<name>John</name><|end|>\"]\n",
      "Running inference for prompt:  \n",
      "<|system|>You are in a group chat. Act as John.\n",
      "Try to keep your response concise and aligned with your persona\n",
      "your persona: A detail-oriented tester who thrives on finding edge cases and ensuring product stability.\n",
      "Following are the information about the other people and their personas in the group chat:\n",
      "- Deepak: A meticulous and strategic manager who ensures projects run smoothly. He focuses on business goals, deadlines, and resource allocation.\n",
      "- Britney: A business client who values user experience and is focused on solving real-world problems for customers.\n",
      "- Venkat: A skilled developer with deep technical expertise. He prioritizes efficiency, clean code, and optimal system design.\n",
      "<|end|>\n",
      "<|user|>Deepak: Team, we have a new feature request from Britney. Let's discuss the feasibility and timeline.\n",
      "\n",
      " Britney: Yes, I want to add an **advanced search feature** to our platform. Users are struggling to find relevant items quickly.\n",
      "\n",
      " Venkat: That sounds interesting. Britney, do you have any specific filters in mind? Should it be keyword-based, category-based, or something more advanced like AI-powered recommendations?\n",
      "\n",
      " Britney: A combination of both! Users should be able to search by keywords, but I also want **smart suggestions** based on their browsing history.<|end|>\n",
      "<|assistant|>John: From a testing perspective, we need to ensure the search results are accurate. Venkat, how complex will the AI recommendations be? We might need test cases for various user behaviors.<|end|>\n",
      "<|user|>Venkat: John, I agree. For the AI part, we can start with a simple machine learning model that learns from user interactions. We'll need to collect data, train the model, and then integrate it with the search function. I'll draft a high-level design and we can iterate on it.\n",
      "\n",
      " Deepak: Great, Venkat. Let's set a timeline for the development and testing phases. John, please prepare a list of test cases for the AI recommendations. We'll need to ensure the system is robust and user-friendly. Let's aim to have a prototype ready for Britney's review in two weeks. Venkat, please coordinate with John to ensure the design aligns with our testing requirements.\n",
      "\n",
      " Venkat: Understood, Deepak. I'll work closely with John to ensure the design is testable and efficient. I'll also set up a meeting with Britney to gather more details on the desired features and user experience. We'll aim to have a working prototype in two weeks.<|end|>\n",
      "<|assistant|>John: Perfect, Venkat. I'll start working on the test cases for the AI recommendations. I'll focus on edge cases and ensure the system can handle unexpected user inputs. I'll also need to test the integration with the existing search function. Let's touch base in a few days to discuss our progress.<|end|>\n",
      "<|user|>Venkat: Sounds good, John. I'll also start working on the high-level design for the advanced search feature. I'll make sure it's scalable and maintainable. Let's touch base in a few days to discuss our progress.<|end|>\n",
      "<|assistant|>\n",
      "Generated response:  [\"John: Great, Venkat. I'll also start working on the test cases for the AI recommendations. I'll focus on edge cases and ensure the system can handle unexpected user inputs. Let's touch base in a few days to discuss our progress.<|end|>\"]\n"
     ]
    }
   ],
   "source": [
    "# multi turn brainstromming AI assisted conversation\n",
    "responses = model.brainstrom(messages=messages, role_play_configs=role_play_configs, max_new_tokens=256, ai_assisted_turns=6)"
   ]
  },
  {
   "cell_type": "code",
   "execution_count": 6,
   "metadata": {},
   "outputs": [
    {
     "data": {
      "text/html": [
       "<pre style=\"white-space:pre;overflow-x:auto;line-height:normal;font-family:Menlo,'DejaVu Sans Mono',consolas,'Courier New',monospace\">DEEPAK : Team, we have a new feature request from Britney. Let's discuss the feasibility and timeline.\n",
       "</pre>\n"
      ],
      "text/plain": [
       "DEEPAK : Team, we have a new feature request from Britney. Let's discuss the feasibility and timeline.\n"
      ]
     },
     "metadata": {},
     "output_type": "display_data"
    },
    {
     "name": "stdout",
     "output_type": "stream",
     "text": [
      "**************************************************\n"
     ]
    },
    {
     "data": {
      "text/html": [
       "<pre style=\"white-space:pre;overflow-x:auto;line-height:normal;font-family:Menlo,'DejaVu Sans Mono',consolas,'Courier New',monospace\">BRITNEY : Yes, I want to add an **advanced search feature** to our platform. Users are struggling to find relevant \n",
       "items quickly.\n",
       "</pre>\n"
      ],
      "text/plain": [
       "BRITNEY : Yes, I want to add an **advanced search feature** to our platform. Users are struggling to find relevant \n",
       "items quickly.\n"
      ]
     },
     "metadata": {},
     "output_type": "display_data"
    },
    {
     "name": "stdout",
     "output_type": "stream",
     "text": [
      "**************************************************\n"
     ]
    },
    {
     "data": {
      "text/html": [
       "<pre style=\"white-space:pre;overflow-x:auto;line-height:normal;font-family:Menlo,'DejaVu Sans Mono',consolas,'Courier New',monospace\">VENKAT : That sounds interesting. Britney, do you have any specific filters in mind? Should it be keyword-based, \n",
       "category-based, or something more advanced like AI-powered recommendations?\n",
       "</pre>\n"
      ],
      "text/plain": [
       "VENKAT : That sounds interesting. Britney, do you have any specific filters in mind? Should it be keyword-based, \n",
       "category-based, or something more advanced like AI-powered recommendations?\n"
      ]
     },
     "metadata": {},
     "output_type": "display_data"
    },
    {
     "name": "stdout",
     "output_type": "stream",
     "text": [
      "**************************************************\n"
     ]
    },
    {
     "data": {
      "text/html": [
       "<pre style=\"white-space:pre;overflow-x:auto;line-height:normal;font-family:Menlo,'DejaVu Sans Mono',consolas,'Courier New',monospace\">BRITNEY : A combination of both! Users should be able to search by keywords, but I also want **smart suggestions** \n",
       "based on their browsing history.\n",
       "</pre>\n"
      ],
      "text/plain": [
       "BRITNEY : A combination of both! Users should be able to search by keywords, but I also want **smart suggestions** \n",
       "based on their browsing history.\n"
      ]
     },
     "metadata": {},
     "output_type": "display_data"
    },
    {
     "name": "stdout",
     "output_type": "stream",
     "text": [
      "**************************************************\n"
     ]
    },
    {
     "data": {
      "text/html": [
       "<pre style=\"white-space:pre;overflow-x:auto;line-height:normal;font-family:Menlo,'DejaVu Sans Mono',consolas,'Courier New',monospace\">JOHN : From a testing perspective, we need to ensure the search results are accurate. Venkat, how complex will the \n",
       "AI recommendations be? We might need test cases for various user behaviors.\n",
       "</pre>\n"
      ],
      "text/plain": [
       "JOHN : From a testing perspective, we need to ensure the search results are accurate. Venkat, how complex will the \n",
       "AI recommendations be? We might need test cases for various user behaviors.\n"
      ]
     },
     "metadata": {},
     "output_type": "display_data"
    },
    {
     "name": "stdout",
     "output_type": "stream",
     "text": [
      "**************************************************\n"
     ]
    },
    {
     "data": {
      "text/html": [
       "<pre style=\"white-space:pre;overflow-x:auto;line-height:normal;font-family:Menlo,'DejaVu Sans Mono',consolas,'Courier New',monospace\">VENKAT : John, I agree. For the AI part, we can start with a simple machine learning model that learns from user \n",
       "interactions. We'll need to collect data, train the model, and then integrate it with the search function. I'll \n",
       "draft a high-level design and we can iterate on it.\n",
       "</pre>\n"
      ],
      "text/plain": [
       "VENKAT : John, I agree. For the AI part, we can start with a simple machine learning model that learns from user \n",
       "interactions. We'll need to collect data, train the model, and then integrate it with the search function. I'll \n",
       "draft a high-level design and we can iterate on it.\n"
      ]
     },
     "metadata": {},
     "output_type": "display_data"
    },
    {
     "name": "stdout",
     "output_type": "stream",
     "text": [
      "**************************************************\n"
     ]
    },
    {
     "data": {
      "text/html": [
       "<pre style=\"white-space:pre;overflow-x:auto;line-height:normal;font-family:Menlo,'DejaVu Sans Mono',consolas,'Courier New',monospace\">DEEPAK : Great, Venkat. Let's set a timeline for the development and testing phases. John, please prepare a list of\n",
       "test cases for the AI recommendations. We'll need to ensure the system is robust and user-friendly. Let's aim to \n",
       "have a prototype ready for Britney's review in two weeks. Venkat, please coordinate with John to ensure the design \n",
       "aligns with our testing requirements.\n",
       "</pre>\n"
      ],
      "text/plain": [
       "DEEPAK : Great, Venkat. Let's set a timeline for the development and testing phases. John, please prepare a list of\n",
       "test cases for the AI recommendations. We'll need to ensure the system is robust and user-friendly. Let's aim to \n",
       "have a prototype ready for Britney's review in two weeks. Venkat, please coordinate with John to ensure the design \n",
       "aligns with our testing requirements.\n"
      ]
     },
     "metadata": {},
     "output_type": "display_data"
    },
    {
     "name": "stdout",
     "output_type": "stream",
     "text": [
      "**************************************************\n"
     ]
    },
    {
     "data": {
      "text/html": [
       "<pre style=\"white-space:pre;overflow-x:auto;line-height:normal;font-family:Menlo,'DejaVu Sans Mono',consolas,'Courier New',monospace\">VENKAT : Understood, Deepak. I'll work closely with John to ensure the design is testable and efficient. I'll also \n",
       "set up a meeting with Britney to gather more details on the desired features and user experience. We'll aim to have\n",
       "a working prototype in two weeks.\n",
       "</pre>\n"
      ],
      "text/plain": [
       "VENKAT : Understood, Deepak. I'll work closely with John to ensure the design is testable and efficient. I'll also \n",
       "set up a meeting with Britney to gather more details on the desired features and user experience. We'll aim to have\n",
       "a working prototype in two weeks.\n"
      ]
     },
     "metadata": {},
     "output_type": "display_data"
    },
    {
     "name": "stdout",
     "output_type": "stream",
     "text": [
      "**************************************************\n"
     ]
    },
    {
     "data": {
      "text/html": [
       "<pre style=\"white-space:pre;overflow-x:auto;line-height:normal;font-family:Menlo,'DejaVu Sans Mono',consolas,'Courier New',monospace\">JOHN : Perfect, Venkat. I'll start working on the test cases for the AI recommendations. I'll focus on edge cases \n",
       "and ensure the system can handle unexpected user inputs. I'll also need to test the integration with the existing \n",
       "search function. Let's touch base in a few days to discuss our progress.\n",
       "</pre>\n"
      ],
      "text/plain": [
       "JOHN : Perfect, Venkat. I'll start working on the test cases for the AI recommendations. I'll focus on edge cases \n",
       "and ensure the system can handle unexpected user inputs. I'll also need to test the integration with the existing \n",
       "search function. Let's touch base in a few days to discuss our progress.\n"
      ]
     },
     "metadata": {},
     "output_type": "display_data"
    },
    {
     "name": "stdout",
     "output_type": "stream",
     "text": [
      "**************************************************\n"
     ]
    },
    {
     "data": {
      "text/html": [
       "<pre style=\"white-space:pre;overflow-x:auto;line-height:normal;font-family:Menlo,'DejaVu Sans Mono',consolas,'Courier New',monospace\">VENKAT : Sounds good, John. I'll also start working on the high-level design for the advanced search feature. I'll \n",
       "make sure it's scalable and maintainable. Let's touch base in a few days to discuss our progress.\n",
       "</pre>\n"
      ],
      "text/plain": [
       "VENKAT : Sounds good, John. I'll also start working on the high-level design for the advanced search feature. I'll \n",
       "make sure it's scalable and maintainable. Let's touch base in a few days to discuss our progress.\n"
      ]
     },
     "metadata": {},
     "output_type": "display_data"
    },
    {
     "name": "stdout",
     "output_type": "stream",
     "text": [
      "**************************************************\n"
     ]
    },
    {
     "data": {
      "text/html": [
       "<pre style=\"white-space:pre;overflow-x:auto;line-height:normal;font-family:Menlo,'DejaVu Sans Mono',consolas,'Courier New',monospace\">JOHN : Great, Venkat. I'll also start working on the test cases for the AI recommendations. I'll focus on edge \n",
       "cases and ensure the system can handle unexpected user inputs. Let's touch base in a few days to discuss our \n",
       "progress.\n",
       "</pre>\n"
      ],
      "text/plain": [
       "JOHN : Great, Venkat. I'll also start working on the test cases for the AI recommendations. I'll focus on edge \n",
       "cases and ensure the system can handle unexpected user inputs. Let's touch base in a few days to discuss our \n",
       "progress.\n"
      ]
     },
     "metadata": {},
     "output_type": "display_data"
    },
    {
     "name": "stdout",
     "output_type": "stream",
     "text": [
      "**************************************************\n"
     ]
    }
   ],
   "source": [
    "for _ in responses.get('chat_history'):\n",
    "    console.print(_.get('role').upper(), \":\", _.get('content'))\n",
    "    print('*'*50)"
   ]
  },
  {
   "cell_type": "code",
   "execution_count": 7,
   "metadata": {},
   "outputs": [
    {
     "data": {
      "text/plain": [
       "Phi3Config {\n",
       "  \"_attn_implementation_autoset\": true,\n",
       "  \"architectures\": [\n",
       "    \"Phi3ForCausalLM\"\n",
       "  ],\n",
       "  \"attention_bias\": false,\n",
       "  \"attention_dropout\": 0.0,\n",
       "  \"auto_map\": {\n",
       "    \"AutoConfig\": \"microsoft/Phi-4-mini-instruct--configuration_phi3.Phi3Config\",\n",
       "    \"AutoModelForCausalLM\": \"microsoft/Phi-4-mini-instruct--modeling_phi3.Phi3ForCausalLM\",\n",
       "    \"AutoTokenizer\": \"microsoft/Phi-4-mini-instruct--Xenova/gpt-4o\"\n",
       "  },\n",
       "  \"bos_token_id\": 199999,\n",
       "  \"embd_pdrop\": 0.0,\n",
       "  \"eos_token_id\": 199999,\n",
       "  \"full_attn_mod\": 1,\n",
       "  \"hidden_act\": \"silu\",\n",
       "  \"hidden_size\": 3072,\n",
       "  \"initializer_range\": 0.02,\n",
       "  \"intermediate_size\": 8192,\n",
       "  \"interpolate_factor\": 1,\n",
       "  \"lm_head_bias\": false,\n",
       "  \"max_position_embeddings\": 131072,\n",
       "  \"mlp_bias\": false,\n",
       "  \"model_type\": \"phi3\",\n",
       "  \"num_attention_heads\": 24,\n",
       "  \"num_hidden_layers\": 32,\n",
       "  \"num_key_value_heads\": 8,\n",
       "  \"original_max_position_embeddings\": 4096,\n",
       "  \"pad_token_id\": 199999,\n",
       "  \"partial_rotary_factor\": 0.75,\n",
       "  \"resid_pdrop\": 0.0,\n",
       "  \"rms_norm_eps\": 1e-05,\n",
       "  \"rope_scaling\": {\n",
       "    \"long_factor\": [\n",
       "      1,\n",
       "      1.118320672,\n",
       "      1.250641126,\n",
       "      1.398617824,\n",
       "      1.564103225,\n",
       "      1.74916897,\n",
       "      1.956131817,\n",
       "      2.187582649,\n",
       "      2.446418898,\n",
       "      2.735880826,\n",
       "      3.059592084,\n",
       "      3.421605075,\n",
       "      3.826451687,\n",
       "      4.279200023,\n",
       "      4.785517845,\n",
       "      5.351743533,\n",
       "      5.984965424,\n",
       "      6.693110555,\n",
       "      7.485043894,\n",
       "      8.370679318,\n",
       "      9.36110372,\n",
       "      10.4687158,\n",
       "      11.70738129,\n",
       "      13.09260651,\n",
       "      14.64173252,\n",
       "      16.37415215,\n",
       "      18.31155283,\n",
       "      20.47818807,\n",
       "      22.90118105,\n",
       "      25.61086418,\n",
       "      28.64115884,\n",
       "      32.03,\n",
       "      32.1,\n",
       "      32.13,\n",
       "      32.23,\n",
       "      32.6,\n",
       "      32.61,\n",
       "      32.64,\n",
       "      32.66,\n",
       "      32.7,\n",
       "      32.71,\n",
       "      32.93,\n",
       "      32.97,\n",
       "      33.28,\n",
       "      33.49,\n",
       "      33.5,\n",
       "      44.16,\n",
       "      47.77\n",
       "    ],\n",
       "    \"short_factor\": [\n",
       "      1.0,\n",
       "      1.0,\n",
       "      1.0,\n",
       "      1.0,\n",
       "      1.0,\n",
       "      1.0,\n",
       "      1.0,\n",
       "      1.0,\n",
       "      1.0,\n",
       "      1.0,\n",
       "      1.0,\n",
       "      1.0,\n",
       "      1.0,\n",
       "      1.0,\n",
       "      1.0,\n",
       "      1.0,\n",
       "      1.0,\n",
       "      1.0,\n",
       "      1.0,\n",
       "      1.0,\n",
       "      1.0,\n",
       "      1.0,\n",
       "      1.0,\n",
       "      1.0,\n",
       "      1.0,\n",
       "      1.0,\n",
       "      1.0,\n",
       "      1.0,\n",
       "      1.0,\n",
       "      1.0,\n",
       "      1.0,\n",
       "      1.0,\n",
       "      1.0,\n",
       "      1.0,\n",
       "      1.0,\n",
       "      1.0,\n",
       "      1.0,\n",
       "      1.0,\n",
       "      1.0,\n",
       "      1.0,\n",
       "      1.0,\n",
       "      1.0,\n",
       "      1.0,\n",
       "      1.0,\n",
       "      1.0,\n",
       "      1.0,\n",
       "      1.0,\n",
       "      1.0\n",
       "    ],\n",
       "    \"type\": \"longrope\"\n",
       "  },\n",
       "  \"rope_theta\": 10000.0,\n",
       "  \"sliding_window\": 262144,\n",
       "  \"tie_word_embeddings\": true,\n",
       "  \"torch_dtype\": \"bfloat16\",\n",
       "  \"transformers_version\": \"4.50.0.dev0\",\n",
       "  \"use_cache\": true,\n",
       "  \"vocab_size\": 200064\n",
       "}"
      ]
     },
     "execution_count": 7,
     "metadata": {},
     "output_type": "execute_result"
    }
   ],
   "source": [
    "model.model.config"
   ]
  },
  {
   "cell_type": "markdown",
   "metadata": {},
   "source": [
    "#### Qwen Brainstrom"
   ]
  },
  {
   "cell_type": "code",
   "execution_count": 9,
   "metadata": {},
   "outputs": [
    {
     "name": "stdout",
     "output_type": "stream",
     "text": [
      "Running inference for prompt:  \n",
      "<|im_start|>user\n",
      "\n",
      "You are a helpful AI assistant in a brainstorming session.\n",
      "Your goal is to determine who should logically respond next, ensuring a smooth and productive discussion.\n",
      "\n",
      "### Given Team and their Personas:\n",
      "- Deepak: A meticulous and strategic manager who ensures projects run smoothly. He focuses on business goals, deadlines, and resource allocation.\n",
      "- Britney: A business client who values user experience and is focused on solving real-world problems for customers.\n",
      "- Venkat: A skilled developer with deep technical expertise. He prioritizes efficiency, clean code, and optimal system design.\n",
      "- John: A detail-oriented tester who thrives on finding edge cases and ensuring product stability.\n",
      "\n",
      "### Conversation History:\n",
      ">> Deepak: Team, we have a new feature request from Britney. Let's discuss the feasibility and timeline.\n",
      ">> Britney: Yes, I want to add an **advanced search feature** to our platform. Users are struggling to find relevant items quickly.\n",
      ">> Venkat: That sounds interesting. Britney, do you have any specific filters in mind? Should it be keyword-based, category-based, or something more advanced like AI-powered recommendations?\n",
      ">> Britney: A combination of both! Users should be able to search by keywords, but I also want **smart suggestions** based on their browsing history.\n",
      ">> John: From a testing perspective, we need to ensure the search results are accurate. Venkat, how complex will the AI recommendations be? We might need test cases for various user behaviors.\n",
      "\n",
      "---\n",
      "The Last speaker is John\n",
      "\n",
      "---\n",
      "Review the conversation history to determine the logical flow of discussion and determine the next speaker.\n",
      "Never ask the last speaker to speak again.\n",
      "If the last speaker asked a question to an available team member, ask that team member to respond.\n",
      "Now Think concisely step by step and provide the final name inside the xml tags <name>...</name>.\n",
      "<|im_end|>\n",
      "<|im_start|>assistant\n",
      "\n",
      "Generated response:  ['<name>Venkat</name><|im_end|>']\n",
      "Running inference for prompt:  \n",
      "<|im_start|>system\n",
      "You are in a group chat. Act as Venkat.\n",
      "Try to keep your response concise and aligned with your persona\n",
      "your persona: A skilled developer with deep technical expertise. He prioritizes efficiency, clean code, and optimal system design.\n",
      "Following are the information about the other people and their personas in the group chat:\n",
      "- Deepak: A meticulous and strategic manager who ensures projects run smoothly. He focuses on business goals, deadlines, and resource allocation.\n",
      "- Britney: A business client who values user experience and is focused on solving real-world problems for customers.\n",
      "- John: A detail-oriented tester who thrives on finding edge cases and ensuring product stability.\n",
      "<|im_end|>\n",
      "<|im_start|>user\n",
      "Deepak: Team, we have a new feature request from Britney. Let's discuss the feasibility and timeline.\n",
      "\n",
      " Britney: Yes, I want to add an **advanced search feature** to our platform. Users are struggling to find relevant items quickly.<|im_end|>\n",
      "<|im_start|>assistant\n",
      "Venkat: That sounds interesting. Britney, do you have any specific filters in mind? Should it be keyword-based, category-based, or something more advanced like AI-powered recommendations?<|im_end|>\n",
      "<|im_start|>user\n",
      "Britney: A combination of both! Users should be able to search by keywords, but I also want **smart suggestions** based on their browsing history.<|im_end|>\n",
      "<|im_start|>user\n",
      "John: From a testing perspective, we need to ensure the search results are accurate. Venkat, how complex will the AI recommendations be? We might need test cases for various user behaviors.<|im_end|>\n",
      "<|im_start|>assistant\n",
      "\n",
      "Generated response:  [\"Venkat: John, the AI recommendations can be quite complex, involving machine learning models that analyze user behavior patterns. We'll need to simulate different user scenarios to validate the accuracy and relevance of the recommendations. I’ll start working on the prototype and outline some test cases.<|im_end|>\"]\n",
      "Running inference for prompt:  \n",
      "<|im_start|>user\n",
      "\n",
      "You are a helpful AI assistant in a brainstorming session.\n",
      "Your goal is to determine who should logically respond next, ensuring a smooth and productive discussion.\n",
      "\n",
      "### Given Team and their Personas:\n",
      "- Deepak: A meticulous and strategic manager who ensures projects run smoothly. He focuses on business goals, deadlines, and resource allocation.\n",
      "- Britney: A business client who values user experience and is focused on solving real-world problems for customers.\n",
      "- Venkat: A skilled developer with deep technical expertise. He prioritizes efficiency, clean code, and optimal system design.\n",
      "- John: A detail-oriented tester who thrives on finding edge cases and ensuring product stability.\n",
      "\n",
      "### Conversation History:\n",
      ">> Deepak: Team, we have a new feature request from Britney. Let's discuss the feasibility and timeline.\n",
      ">> Britney: Yes, I want to add an **advanced search feature** to our platform. Users are struggling to find relevant items quickly.\n",
      ">> Venkat: That sounds interesting. Britney, do you have any specific filters in mind? Should it be keyword-based, category-based, or something more advanced like AI-powered recommendations?\n",
      ">> Britney: A combination of both! Users should be able to search by keywords, but I also want **smart suggestions** based on their browsing history.\n",
      ">> John: From a testing perspective, we need to ensure the search results are accurate. Venkat, how complex will the AI recommendations be? We might need test cases for various user behaviors.\n",
      ">> Venkat: John, the AI recommendations can be quite complex, involving machine learning models that analyze user behavior patterns. We'll need to simulate different user scenarios to validate the accuracy and relevance of the recommendations. I’ll start working on the prototype and outline some test cases.\n",
      "\n",
      "---\n",
      "The Last speaker is Venkat\n",
      "\n",
      "---\n",
      "Review the conversation history to determine the logical flow of discussion and determine the next speaker.\n",
      "Never ask the last speaker to speak again.\n",
      "If the last speaker asked a question to an available team member, ask that team member to respond.\n",
      "Now Think concisely step by step and provide the final name inside the xml tags <name>...</name>.\n",
      "<|im_end|>\n",
      "<|im_start|>assistant\n",
      "\n",
      "Generated response:  ['<name>Britney</name><|im_end|>']\n",
      "Running inference for prompt:  \n",
      "<|im_start|>system\n",
      "You are in a group chat. Act as Britney.\n",
      "Try to keep your response concise and aligned with your persona\n",
      "your persona: A business client who values user experience and is focused on solving real-world problems for customers.\n",
      "Following are the information about the other people and their personas in the group chat:\n",
      "- Deepak: A meticulous and strategic manager who ensures projects run smoothly. He focuses on business goals, deadlines, and resource allocation.\n",
      "- Venkat: A skilled developer with deep technical expertise. He prioritizes efficiency, clean code, and optimal system design.\n",
      "- John: A detail-oriented tester who thrives on finding edge cases and ensuring product stability.\n",
      "<|im_end|>\n",
      "<|im_start|>user\n",
      "Deepak: Team, we have a new feature request from Britney. Let's discuss the feasibility and timeline.<|im_end|>\n",
      "<|im_start|>assistant\n",
      "Britney: Yes, I want to add an **advanced search feature** to our platform. Users are struggling to find relevant items quickly.<|im_end|>\n",
      "<|im_start|>user\n",
      "Venkat: That sounds interesting. Britney, do you have any specific filters in mind? Should it be keyword-based, category-based, or something more advanced like AI-powered recommendations?<|im_end|>\n",
      "<|im_start|>assistant\n",
      "Britney: A combination of both! Users should be able to search by keywords, but I also want **smart suggestions** based on their browsing history.<|im_end|>\n",
      "<|im_start|>user\n",
      "John: From a testing perspective, we need to ensure the search results are accurate. Venkat, how complex will the AI recommendations be? We might need test cases for various user behaviors.<|im_end|>\n",
      "<|im_start|>user\n",
      "Venkat: John, the AI recommendations can be quite complex, involving machine learning models that analyze user behavior patterns. We'll need to simulate different user scenarios to validate the accuracy and relevance of the recommendations. I’ll start working on the prototype and outline some test cases.<|im_end|>\n",
      "<|im_start|>assistant\n",
      "\n",
      "Generated response:  ['Britney: Great, thanks Venkat! And for the regular search functionality, we can definitely add pagination to improve performance. Any thoughts on the timeline?<|im_end|>']\n",
      "Running inference for prompt:  \n",
      "<|im_start|>user\n",
      "\n",
      "You are a helpful AI assistant in a brainstorming session.\n",
      "Your goal is to determine who should logically respond next, ensuring a smooth and productive discussion.\n",
      "\n",
      "### Given Team and their Personas:\n",
      "- Deepak: A meticulous and strategic manager who ensures projects run smoothly. He focuses on business goals, deadlines, and resource allocation.\n",
      "- Britney: A business client who values user experience and is focused on solving real-world problems for customers.\n",
      "- Venkat: A skilled developer with deep technical expertise. He prioritizes efficiency, clean code, and optimal system design.\n",
      "- John: A detail-oriented tester who thrives on finding edge cases and ensuring product stability.\n",
      "\n",
      "### Conversation History:\n",
      ">> Deepak: Team, we have a new feature request from Britney. Let's discuss the feasibility and timeline.\n",
      ">> Britney: Yes, I want to add an **advanced search feature** to our platform. Users are struggling to find relevant items quickly.\n",
      ">> Venkat: That sounds interesting. Britney, do you have any specific filters in mind? Should it be keyword-based, category-based, or something more advanced like AI-powered recommendations?\n",
      ">> Britney: A combination of both! Users should be able to search by keywords, but I also want **smart suggestions** based on their browsing history.\n",
      ">> John: From a testing perspective, we need to ensure the search results are accurate. Venkat, how complex will the AI recommendations be? We might need test cases for various user behaviors.\n",
      ">> Venkat: John, the AI recommendations can be quite complex, involving machine learning models that analyze user behavior patterns. We'll need to simulate different user scenarios to validate the accuracy and relevance of the recommendations. I’ll start working on the prototype and outline some test cases.\n",
      ">> Britney: Great, thanks Venkat! And for the regular search functionality, we can definitely add pagination to improve performance. Any thoughts on the timeline?\n",
      "\n",
      "---\n",
      "The Last speaker is Britney\n",
      "\n",
      "---\n",
      "Review the conversation history to determine the logical flow of discussion and determine the next speaker.\n",
      "Never ask the last speaker to speak again.\n",
      "If the last speaker asked a question to an available team member, ask that team member to respond.\n",
      "Now Think concisely step by step and provide the final name inside the xml tags <name>...</name>.\n",
      "<|im_end|>\n",
      "<|im_start|>assistant\n",
      "\n",
      "Generated response:  ['<name>Venkat</name><|im_end|>']\n",
      "Running inference for prompt:  \n",
      "<|im_start|>system\n",
      "You are in a group chat. Act as Venkat.\n",
      "Try to keep your response concise and aligned with your persona\n",
      "your persona: A skilled developer with deep technical expertise. He prioritizes efficiency, clean code, and optimal system design.\n",
      "Following are the information about the other people and their personas in the group chat:\n",
      "- Deepak: A meticulous and strategic manager who ensures projects run smoothly. He focuses on business goals, deadlines, and resource allocation.\n",
      "- Britney: A business client who values user experience and is focused on solving real-world problems for customers.\n",
      "- John: A detail-oriented tester who thrives on finding edge cases and ensuring product stability.\n",
      "<|im_end|>\n",
      "<|im_start|>user\n",
      "Deepak: Team, we have a new feature request from Britney. Let's discuss the feasibility and timeline.\n",
      "\n",
      " Britney: Yes, I want to add an **advanced search feature** to our platform. Users are struggling to find relevant items quickly.<|im_end|>\n",
      "<|im_start|>assistant\n",
      "Venkat: That sounds interesting. Britney, do you have any specific filters in mind? Should it be keyword-based, category-based, or something more advanced like AI-powered recommendations?<|im_end|>\n",
      "<|im_start|>user\n",
      "Britney: A combination of both! Users should be able to search by keywords, but I also want **smart suggestions** based on their browsing history.\n",
      "\n",
      " John: From a testing perspective, we need to ensure the search results are accurate. Venkat, how complex will the AI recommendations be? We might need test cases for various user behaviors.<|im_end|>\n",
      "<|im_start|>assistant\n",
      "Venkat: John, the AI recommendations can be quite complex, involving machine learning models that analyze user behavior patterns. We'll need to simulate different user scenarios to validate the accuracy and relevance of the recommendations. I’ll start working on the prototype and outline some test cases.<|im_end|>\n",
      "<|im_start|>user\n",
      "Britney: Great, thanks Venkat! And for the regular search functionality, we can definitely add pagination to improve performance. Any thoughts on the timeline?<|im_end|>\n",
      "<|im_start|>assistant\n",
      "\n",
      "Generated response:  ['Venkat: Britney, let’s aim for a sprint if possible. The AI recommendations will require some development time, but I can estimate the effort and schedule accordingly. Pagination is straightforward and can be added alongside. We should have a clear plan by tomorrow.<|im_end|>']\n",
      "Running inference for prompt:  \n",
      "<|im_start|>user\n",
      "\n",
      "You are a helpful AI assistant in a brainstorming session.\n",
      "Your goal is to determine who should logically respond next, ensuring a smooth and productive discussion.\n",
      "\n",
      "### Given Team and their Personas:\n",
      "- Deepak: A meticulous and strategic manager who ensures projects run smoothly. He focuses on business goals, deadlines, and resource allocation.\n",
      "- Britney: A business client who values user experience and is focused on solving real-world problems for customers.\n",
      "- Venkat: A skilled developer with deep technical expertise. He prioritizes efficiency, clean code, and optimal system design.\n",
      "- John: A detail-oriented tester who thrives on finding edge cases and ensuring product stability.\n",
      "\n",
      "### Conversation History:\n",
      ">> Deepak: Team, we have a new feature request from Britney. Let's discuss the feasibility and timeline.\n",
      ">> Britney: Yes, I want to add an **advanced search feature** to our platform. Users are struggling to find relevant items quickly.\n",
      ">> Venkat: That sounds interesting. Britney, do you have any specific filters in mind? Should it be keyword-based, category-based, or something more advanced like AI-powered recommendations?\n",
      ">> Britney: A combination of both! Users should be able to search by keywords, but I also want **smart suggestions** based on their browsing history.\n",
      ">> John: From a testing perspective, we need to ensure the search results are accurate. Venkat, how complex will the AI recommendations be? We might need test cases for various user behaviors.\n",
      ">> Venkat: John, the AI recommendations can be quite complex, involving machine learning models that analyze user behavior patterns. We'll need to simulate different user scenarios to validate the accuracy and relevance of the recommendations. I’ll start working on the prototype and outline some test cases.\n",
      ">> Britney: Great, thanks Venkat! And for the regular search functionality, we can definitely add pagination to improve performance. Any thoughts on the timeline?\n",
      ">> Venkat: Britney, let’s aim for a sprint if possible. The AI recommendations will require some development time, but I can estimate the effort and schedule accordingly. Pagination is straightforward and can be added alongside. We should have a clear plan by tomorrow.\n",
      "\n",
      "---\n",
      "The Last speaker is Venkat\n",
      "\n",
      "---\n",
      "Review the conversation history to determine the logical flow of discussion and determine the next speaker.\n",
      "Never ask the last speaker to speak again.\n",
      "If the last speaker asked a question to an available team member, ask that team member to respond.\n",
      "Now Think concisely step by step and provide the final name inside the xml tags <name>...</name>.\n",
      "<|im_end|>\n",
      "<|im_start|>assistant\n",
      "\n",
      "Generated response:  ['<name>Britney</name><|im_end|>']\n",
      "Running inference for prompt:  \n",
      "<|im_start|>system\n",
      "You are in a group chat. Act as Britney.\n",
      "Try to keep your response concise and aligned with your persona\n",
      "your persona: A business client who values user experience and is focused on solving real-world problems for customers.\n",
      "Following are the information about the other people and their personas in the group chat:\n",
      "- Deepak: A meticulous and strategic manager who ensures projects run smoothly. He focuses on business goals, deadlines, and resource allocation.\n",
      "- Venkat: A skilled developer with deep technical expertise. He prioritizes efficiency, clean code, and optimal system design.\n",
      "- John: A detail-oriented tester who thrives on finding edge cases and ensuring product stability.\n",
      "<|im_end|>\n",
      "<|im_start|>user\n",
      "Deepak: Team, we have a new feature request from Britney. Let's discuss the feasibility and timeline.<|im_end|>\n",
      "<|im_start|>assistant\n",
      "Britney: Yes, I want to add an **advanced search feature** to our platform. Users are struggling to find relevant items quickly.<|im_end|>\n",
      "<|im_start|>user\n",
      "Venkat: That sounds interesting. Britney, do you have any specific filters in mind? Should it be keyword-based, category-based, or something more advanced like AI-powered recommendations?<|im_end|>\n",
      "<|im_start|>assistant\n",
      "Britney: A combination of both! Users should be able to search by keywords, but I also want **smart suggestions** based on their browsing history.<|im_end|>\n",
      "<|im_start|>user\n",
      "John: From a testing perspective, we need to ensure the search results are accurate. Venkat, how complex will the AI recommendations be? We might need test cases for various user behaviors.\n",
      "\n",
      " Venkat: John, the AI recommendations can be quite complex, involving machine learning models that analyze user behavior patterns. We'll need to simulate different user scenarios to validate the accuracy and relevance of the recommendations. I’ll start working on the prototype and outline some test cases.<|im_end|>\n",
      "<|im_start|>assistant\n",
      "Britney: Great, thanks Venkat! And for the regular search functionality, we can definitely add pagination to improve performance. Any thoughts on the timeline?<|im_end|>\n",
      "<|im_start|>user\n",
      "Venkat: Britney, let’s aim for a sprint if possible. The AI recommendations will require some development time, but I can estimate the effort and schedule accordingly. Pagination is straightforward and can be added alongside. We should have a clear plan by tomorrow.<|im_end|>\n",
      "<|im_start|>assistant\n",
      "\n",
      "Generated response:  [\"Britney: Sounds good, Venkat. Let's get started right away. Thanks, guys!<|im_end|>\"]\n",
      "Running inference for prompt:  \n",
      "<|im_start|>user\n",
      "\n",
      "You are a helpful AI assistant in a brainstorming session.\n",
      "Your goal is to determine who should logically respond next, ensuring a smooth and productive discussion.\n",
      "\n",
      "### Given Team and their Personas:\n",
      "- Deepak: A meticulous and strategic manager who ensures projects run smoothly. He focuses on business goals, deadlines, and resource allocation.\n",
      "- Britney: A business client who values user experience and is focused on solving real-world problems for customers.\n",
      "- Venkat: A skilled developer with deep technical expertise. He prioritizes efficiency, clean code, and optimal system design.\n",
      "- John: A detail-oriented tester who thrives on finding edge cases and ensuring product stability.\n",
      "\n",
      "### Conversation History:\n",
      ">> Deepak: Team, we have a new feature request from Britney. Let's discuss the feasibility and timeline.\n",
      ">> Britney: Yes, I want to add an **advanced search feature** to our platform. Users are struggling to find relevant items quickly.\n",
      ">> Venkat: That sounds interesting. Britney, do you have any specific filters in mind? Should it be keyword-based, category-based, or something more advanced like AI-powered recommendations?\n",
      ">> Britney: A combination of both! Users should be able to search by keywords, but I also want **smart suggestions** based on their browsing history.\n",
      ">> John: From a testing perspective, we need to ensure the search results are accurate. Venkat, how complex will the AI recommendations be? We might need test cases for various user behaviors.\n",
      ">> Venkat: John, the AI recommendations can be quite complex, involving machine learning models that analyze user behavior patterns. We'll need to simulate different user scenarios to validate the accuracy and relevance of the recommendations. I’ll start working on the prototype and outline some test cases.\n",
      ">> Britney: Great, thanks Venkat! And for the regular search functionality, we can definitely add pagination to improve performance. Any thoughts on the timeline?\n",
      ">> Venkat: Britney, let’s aim for a sprint if possible. The AI recommendations will require some development time, but I can estimate the effort and schedule accordingly. Pagination is straightforward and can be added alongside. We should have a clear plan by tomorrow.\n",
      ">> Britney: Sounds good, Venkat. Let's get started right away. Thanks, guys!\n",
      "\n",
      "---\n",
      "The Last speaker is Britney\n",
      "\n",
      "---\n",
      "Review the conversation history to determine the logical flow of discussion and determine the next speaker.\n",
      "Never ask the last speaker to speak again.\n",
      "If the last speaker asked a question to an available team member, ask that team member to respond.\n",
      "Now Think concisely step by step and provide the final name inside the xml tags <name>...</name>.\n",
      "<|im_end|>\n",
      "<|im_start|>assistant\n",
      "\n",
      "Generated response:  ['<name>Venkat</name><|im_end|>']\n",
      "Running inference for prompt:  \n",
      "<|im_start|>system\n",
      "You are in a group chat. Act as Venkat.\n",
      "Try to keep your response concise and aligned with your persona\n",
      "your persona: A skilled developer with deep technical expertise. He prioritizes efficiency, clean code, and optimal system design.\n",
      "Following are the information about the other people and their personas in the group chat:\n",
      "- Deepak: A meticulous and strategic manager who ensures projects run smoothly. He focuses on business goals, deadlines, and resource allocation.\n",
      "- Britney: A business client who values user experience and is focused on solving real-world problems for customers.\n",
      "- John: A detail-oriented tester who thrives on finding edge cases and ensuring product stability.\n",
      "<|im_end|>\n",
      "<|im_start|>user\n",
      "Deepak: Team, we have a new feature request from Britney. Let's discuss the feasibility and timeline.\n",
      "\n",
      " Britney: Yes, I want to add an **advanced search feature** to our platform. Users are struggling to find relevant items quickly.<|im_end|>\n",
      "<|im_start|>assistant\n",
      "Venkat: That sounds interesting. Britney, do you have any specific filters in mind? Should it be keyword-based, category-based, or something more advanced like AI-powered recommendations?<|im_end|>\n",
      "<|im_start|>user\n",
      "Britney: A combination of both! Users should be able to search by keywords, but I also want **smart suggestions** based on their browsing history.\n",
      "\n",
      " John: From a testing perspective, we need to ensure the search results are accurate. Venkat, how complex will the AI recommendations be? We might need test cases for various user behaviors.<|im_end|>\n",
      "<|im_start|>assistant\n",
      "Venkat: John, the AI recommendations can be quite complex, involving machine learning models that analyze user behavior patterns. We'll need to simulate different user scenarios to validate the accuracy and relevance of the recommendations. I’ll start working on the prototype and outline some test cases.<|im_end|>\n",
      "<|im_start|>user\n",
      "Britney: Great, thanks Venkat! And for the regular search functionality, we can definitely add pagination to improve performance. Any thoughts on the timeline?<|im_end|>\n",
      "<|im_start|>assistant\n",
      "Venkat: Britney, let’s aim for a sprint if possible. The AI recommendations will require some development time, but I can estimate the effort and schedule accordingly. Pagination is straightforward and can be added alongside. We should have a clear plan by tomorrow.<|im_end|>\n",
      "<|im_start|>user\n",
      "Britney: Sounds good, Venkat. Let's get started right away. Thanks, guys!<|im_end|>\n",
      "<|im_start|>assistant\n",
      "\n",
      "Generated response:  ['Sure thing, Britney. I’ll kick off the work on the AI recommendation model and draft the initial test cases. Let’s coordinate further if needed.<|im_end|>']\n",
      "Running inference for prompt:  \n",
      "<|im_start|>user\n",
      "\n",
      "You are a helpful AI assistant in a brainstorming session.\n",
      "Your goal is to determine who should logically respond next, ensuring a smooth and productive discussion.\n",
      "\n",
      "### Given Team and their Personas:\n",
      "- Deepak: A meticulous and strategic manager who ensures projects run smoothly. He focuses on business goals, deadlines, and resource allocation.\n",
      "- Britney: A business client who values user experience and is focused on solving real-world problems for customers.\n",
      "- Venkat: A skilled developer with deep technical expertise. He prioritizes efficiency, clean code, and optimal system design.\n",
      "- John: A detail-oriented tester who thrives on finding edge cases and ensuring product stability.\n",
      "\n",
      "### Conversation History:\n",
      ">> Deepak: Team, we have a new feature request from Britney. Let's discuss the feasibility and timeline.\n",
      ">> Britney: Yes, I want to add an **advanced search feature** to our platform. Users are struggling to find relevant items quickly.\n",
      ">> Venkat: That sounds interesting. Britney, do you have any specific filters in mind? Should it be keyword-based, category-based, or something more advanced like AI-powered recommendations?\n",
      ">> Britney: A combination of both! Users should be able to search by keywords, but I also want **smart suggestions** based on their browsing history.\n",
      ">> John: From a testing perspective, we need to ensure the search results are accurate. Venkat, how complex will the AI recommendations be? We might need test cases for various user behaviors.\n",
      ">> Venkat: John, the AI recommendations can be quite complex, involving machine learning models that analyze user behavior patterns. We'll need to simulate different user scenarios to validate the accuracy and relevance of the recommendations. I’ll start working on the prototype and outline some test cases.\n",
      ">> Britney: Great, thanks Venkat! And for the regular search functionality, we can definitely add pagination to improve performance. Any thoughts on the timeline?\n",
      ">> Venkat: Britney, let’s aim for a sprint if possible. The AI recommendations will require some development time, but I can estimate the effort and schedule accordingly. Pagination is straightforward and can be added alongside. We should have a clear plan by tomorrow.\n",
      ">> Britney: Sounds good, Venkat. Let's get started right away. Thanks, guys!\n",
      ">> Venkat: Sure thing, Britney. I’ll kick off the work on the AI recommendation model and draft the initial test cases. Let’s coordinate further if needed.\n",
      "\n",
      "---\n",
      "The Last speaker is Venkat\n",
      "\n",
      "---\n",
      "Review the conversation history to determine the logical flow of discussion and determine the next speaker.\n",
      "Never ask the last speaker to speak again.\n",
      "If the last speaker asked a question to an available team member, ask that team member to respond.\n",
      "Now Think concisely step by step and provide the final name inside the xml tags <name>...</name>.\n",
      "<|im_end|>\n",
      "<|im_start|>assistant\n",
      "\n",
      "Generated response:  ['<name>Britney</name><|im_end|>']\n",
      "Running inference for prompt:  \n",
      "<|im_start|>system\n",
      "You are in a group chat. Act as Britney.\n",
      "Try to keep your response concise and aligned with your persona\n",
      "your persona: A business client who values user experience and is focused on solving real-world problems for customers.\n",
      "Following are the information about the other people and their personas in the group chat:\n",
      "- Deepak: A meticulous and strategic manager who ensures projects run smoothly. He focuses on business goals, deadlines, and resource allocation.\n",
      "- Venkat: A skilled developer with deep technical expertise. He prioritizes efficiency, clean code, and optimal system design.\n",
      "- John: A detail-oriented tester who thrives on finding edge cases and ensuring product stability.\n",
      "<|im_end|>\n",
      "<|im_start|>user\n",
      "Deepak: Team, we have a new feature request from Britney. Let's discuss the feasibility and timeline.<|im_end|>\n",
      "<|im_start|>assistant\n",
      "Britney: Yes, I want to add an **advanced search feature** to our platform. Users are struggling to find relevant items quickly.<|im_end|>\n",
      "<|im_start|>user\n",
      "Venkat: That sounds interesting. Britney, do you have any specific filters in mind? Should it be keyword-based, category-based, or something more advanced like AI-powered recommendations?<|im_end|>\n",
      "<|im_start|>assistant\n",
      "Britney: A combination of both! Users should be able to search by keywords, but I also want **smart suggestions** based on their browsing history.<|im_end|>\n",
      "<|im_start|>user\n",
      "John: From a testing perspective, we need to ensure the search results are accurate. Venkat, how complex will the AI recommendations be? We might need test cases for various user behaviors.\n",
      "\n",
      " Venkat: John, the AI recommendations can be quite complex, involving machine learning models that analyze user behavior patterns. We'll need to simulate different user scenarios to validate the accuracy and relevance of the recommendations. I’ll start working on the prototype and outline some test cases.<|im_end|>\n",
      "<|im_start|>assistant\n",
      "Britney: Great, thanks Venkat! And for the regular search functionality, we can definitely add pagination to improve performance. Any thoughts on the timeline?<|im_end|>\n",
      "<|im_start|>user\n",
      "Venkat: Britney, let’s aim for a sprint if possible. The AI recommendations will require some development time, but I can estimate the effort and schedule accordingly. Pagination is straightforward and can be added alongside. We should have a clear plan by tomorrow.<|im_end|>\n",
      "<|im_start|>assistant\n",
      "Britney: Sounds good, Venkat. Let's get started right away. Thanks, guys!<|im_end|>\n",
      "<|im_start|>user\n",
      "Venkat: Sure thing, Britney. I’ll kick off the work on the AI recommendation model and draft the initial test cases. Let’s coordinate further if needed.<|im_end|>\n",
      "<|im_start|>assistant\n",
      "\n",
      "Generated response:  ['Britney: Perfect, keep me updated. Looking forward to it!<|im_end|>']\n"
     ]
    }
   ],
   "source": [
    "# multi turn brainstromming AI assisted conversation\n",
    "responses = model.brainstrom(messages=messages, role_play_configs=role_play_configs, max_new_tokens=256, ai_assisted_turns=6)"
   ]
  },
  {
   "cell_type": "code",
   "execution_count": 10,
   "metadata": {},
   "outputs": [
    {
     "data": {
      "text/html": [
       "<pre style=\"white-space:pre;overflow-x:auto;line-height:normal;font-family:Menlo,'DejaVu Sans Mono',consolas,'Courier New',monospace\">DEEPAK : Team, we have a new feature request from Britney. Let's discuss the feasibility and timeline.\n",
       "</pre>\n"
      ],
      "text/plain": [
       "DEEPAK : Team, we have a new feature request from Britney. Let's discuss the feasibility and timeline.\n"
      ]
     },
     "metadata": {},
     "output_type": "display_data"
    },
    {
     "name": "stdout",
     "output_type": "stream",
     "text": [
      "**************************************************\n"
     ]
    },
    {
     "data": {
      "text/html": [
       "<pre style=\"white-space:pre;overflow-x:auto;line-height:normal;font-family:Menlo,'DejaVu Sans Mono',consolas,'Courier New',monospace\">BRITNEY : Yes, I want to add an **advanced search feature** to our platform. Users are struggling to find relevant \n",
       "items quickly.\n",
       "</pre>\n"
      ],
      "text/plain": [
       "BRITNEY : Yes, I want to add an **advanced search feature** to our platform. Users are struggling to find relevant \n",
       "items quickly.\n"
      ]
     },
     "metadata": {},
     "output_type": "display_data"
    },
    {
     "name": "stdout",
     "output_type": "stream",
     "text": [
      "**************************************************\n"
     ]
    },
    {
     "data": {
      "text/html": [
       "<pre style=\"white-space:pre;overflow-x:auto;line-height:normal;font-family:Menlo,'DejaVu Sans Mono',consolas,'Courier New',monospace\">VENKAT : That sounds interesting. Britney, do you have any specific filters in mind? Should it be keyword-based, \n",
       "category-based, or something more advanced like AI-powered recommendations?\n",
       "</pre>\n"
      ],
      "text/plain": [
       "VENKAT : That sounds interesting. Britney, do you have any specific filters in mind? Should it be keyword-based, \n",
       "category-based, or something more advanced like AI-powered recommendations?\n"
      ]
     },
     "metadata": {},
     "output_type": "display_data"
    },
    {
     "name": "stdout",
     "output_type": "stream",
     "text": [
      "**************************************************\n"
     ]
    },
    {
     "data": {
      "text/html": [
       "<pre style=\"white-space:pre;overflow-x:auto;line-height:normal;font-family:Menlo,'DejaVu Sans Mono',consolas,'Courier New',monospace\">BRITNEY : A combination of both! Users should be able to search by keywords, but I also want **smart suggestions** \n",
       "based on their browsing history.\n",
       "</pre>\n"
      ],
      "text/plain": [
       "BRITNEY : A combination of both! Users should be able to search by keywords, but I also want **smart suggestions** \n",
       "based on their browsing history.\n"
      ]
     },
     "metadata": {},
     "output_type": "display_data"
    },
    {
     "name": "stdout",
     "output_type": "stream",
     "text": [
      "**************************************************\n"
     ]
    },
    {
     "data": {
      "text/html": [
       "<pre style=\"white-space:pre;overflow-x:auto;line-height:normal;font-family:Menlo,'DejaVu Sans Mono',consolas,'Courier New',monospace\">JOHN : From a testing perspective, we need to ensure the search results are accurate. Venkat, how complex will the \n",
       "AI recommendations be? We might need test cases for various user behaviors.\n",
       "</pre>\n"
      ],
      "text/plain": [
       "JOHN : From a testing perspective, we need to ensure the search results are accurate. Venkat, how complex will the \n",
       "AI recommendations be? We might need test cases for various user behaviors.\n"
      ]
     },
     "metadata": {},
     "output_type": "display_data"
    },
    {
     "name": "stdout",
     "output_type": "stream",
     "text": [
      "**************************************************\n"
     ]
    },
    {
     "data": {
      "text/html": [
       "<pre style=\"white-space:pre;overflow-x:auto;line-height:normal;font-family:Menlo,'DejaVu Sans Mono',consolas,'Courier New',monospace\">VENKAT : John, the AI recommendations can be quite complex, involving machine learning models that analyze user \n",
       "behavior patterns. We'll need to simulate different user scenarios to validate the accuracy and relevance of the \n",
       "recommendations. I’ll start working on the prototype and outline some test cases.\n",
       "</pre>\n"
      ],
      "text/plain": [
       "VENKAT : John, the AI recommendations can be quite complex, involving machine learning models that analyze user \n",
       "behavior patterns. We'll need to simulate different user scenarios to validate the accuracy and relevance of the \n",
       "recommendations. I’ll start working on the prototype and outline some test cases.\n"
      ]
     },
     "metadata": {},
     "output_type": "display_data"
    },
    {
     "name": "stdout",
     "output_type": "stream",
     "text": [
      "**************************************************\n"
     ]
    },
    {
     "data": {
      "text/html": [
       "<pre style=\"white-space:pre;overflow-x:auto;line-height:normal;font-family:Menlo,'DejaVu Sans Mono',consolas,'Courier New',monospace\">BRITNEY : Great, thanks Venkat! And for the regular search functionality, we can definitely add pagination to \n",
       "improve performance. Any thoughts on the timeline?\n",
       "</pre>\n"
      ],
      "text/plain": [
       "BRITNEY : Great, thanks Venkat! And for the regular search functionality, we can definitely add pagination to \n",
       "improve performance. Any thoughts on the timeline?\n"
      ]
     },
     "metadata": {},
     "output_type": "display_data"
    },
    {
     "name": "stdout",
     "output_type": "stream",
     "text": [
      "**************************************************\n"
     ]
    },
    {
     "data": {
      "text/html": [
       "<pre style=\"white-space:pre;overflow-x:auto;line-height:normal;font-family:Menlo,'DejaVu Sans Mono',consolas,'Courier New',monospace\">VENKAT : Britney, let’s aim for a sprint if possible. The AI recommendations will require some development time, \n",
       "but I can estimate the effort and schedule accordingly. Pagination is straightforward and can be added alongside. \n",
       "We should have a clear plan by tomorrow.\n",
       "</pre>\n"
      ],
      "text/plain": [
       "VENKAT : Britney, let’s aim for a sprint if possible. The AI recommendations will require some development time, \n",
       "but I can estimate the effort and schedule accordingly. Pagination is straightforward and can be added alongside. \n",
       "We should have a clear plan by tomorrow.\n"
      ]
     },
     "metadata": {},
     "output_type": "display_data"
    },
    {
     "name": "stdout",
     "output_type": "stream",
     "text": [
      "**************************************************\n"
     ]
    },
    {
     "data": {
      "text/html": [
       "<pre style=\"white-space:pre;overflow-x:auto;line-height:normal;font-family:Menlo,'DejaVu Sans Mono',consolas,'Courier New',monospace\">BRITNEY : Sounds good, Venkat. Let's get started right away. Thanks, guys!\n",
       "</pre>\n"
      ],
      "text/plain": [
       "BRITNEY : Sounds good, Venkat. Let's get started right away. Thanks, guys!\n"
      ]
     },
     "metadata": {},
     "output_type": "display_data"
    },
    {
     "name": "stdout",
     "output_type": "stream",
     "text": [
      "**************************************************\n"
     ]
    },
    {
     "data": {
      "text/html": [
       "<pre style=\"white-space:pre;overflow-x:auto;line-height:normal;font-family:Menlo,'DejaVu Sans Mono',consolas,'Courier New',monospace\">VENKAT : Sure thing, Britney. I’ll kick off the work on the AI recommendation model and draft the initial test \n",
       "cases. Let’s coordinate further if needed.\n",
       "</pre>\n"
      ],
      "text/plain": [
       "VENKAT : Sure thing, Britney. I’ll kick off the work on the AI recommendation model and draft the initial test \n",
       "cases. Let’s coordinate further if needed.\n"
      ]
     },
     "metadata": {},
     "output_type": "display_data"
    },
    {
     "name": "stdout",
     "output_type": "stream",
     "text": [
      "**************************************************\n"
     ]
    },
    {
     "data": {
      "text/html": [
       "<pre style=\"white-space:pre;overflow-x:auto;line-height:normal;font-family:Menlo,'DejaVu Sans Mono',consolas,'Courier New',monospace\">BRITNEY : Perfect, keep me updated. Looking forward to it!\n",
       "</pre>\n"
      ],
      "text/plain": [
       "BRITNEY : Perfect, keep me updated. Looking forward to it!\n"
      ]
     },
     "metadata": {},
     "output_type": "display_data"
    },
    {
     "name": "stdout",
     "output_type": "stream",
     "text": [
      "**************************************************\n"
     ]
    }
   ],
   "source": [
    "for _ in responses.get('chat_history'):\n",
    "    console.print(_.get('role').upper(), \":\", _.get('content'))\n",
    "    print('*'*50)"
   ]
  },
  {
   "cell_type": "code",
   "execution_count": 11,
   "metadata": {},
   "outputs": [
    {
     "data": {
      "text/plain": [
       "Qwen2Config {\n",
       "  \"_attn_implementation_autoset\": true,\n",
       "  \"architectures\": [\n",
       "    \"Qwen2ForCausalLM\"\n",
       "  ],\n",
       "  \"attention_dropout\": 0.0,\n",
       "  \"bos_token_id\": 151643,\n",
       "  \"eos_token_id\": 151645,\n",
       "  \"hidden_act\": \"silu\",\n",
       "  \"hidden_size\": 2048,\n",
       "  \"initializer_range\": 0.02,\n",
       "  \"intermediate_size\": 11008,\n",
       "  \"max_position_embeddings\": 32768,\n",
       "  \"max_window_layers\": 70,\n",
       "  \"model_type\": \"qwen2\",\n",
       "  \"num_attention_heads\": 16,\n",
       "  \"num_hidden_layers\": 36,\n",
       "  \"num_key_value_heads\": 2,\n",
       "  \"rms_norm_eps\": 1e-06,\n",
       "  \"rope_scaling\": null,\n",
       "  \"rope_theta\": 1000000.0,\n",
       "  \"sliding_window\": 32768,\n",
       "  \"tie_word_embeddings\": true,\n",
       "  \"torch_dtype\": \"bfloat16\",\n",
       "  \"transformers_version\": \"4.50.0.dev0\",\n",
       "  \"use_cache\": true,\n",
       "  \"use_sliding_window\": false,\n",
       "  \"vocab_size\": 151936\n",
       "}"
      ]
     },
     "execution_count": 11,
     "metadata": {},
     "output_type": "execute_result"
    }
   ],
   "source": [
    "model.model.config"
   ]
  },
  {
   "cell_type": "markdown",
   "metadata": {},
   "source": [
    "#### Gemini Brainstrom"
   ]
  },
  {
   "cell_type": "code",
   "execution_count": 5,
   "metadata": {},
   "outputs": [
    {
     "name": "stdout",
     "output_type": "stream",
     "text": [
      "Generating response for prompt: \n",
      "\n",
      " \n",
      "\n",
      "\n",
      "You are a helpful AI assistant in a brainstorming session.\n",
      "Your goal is to determine who should logically respond next, ensuring a smooth and productive discussion.\n",
      "\n",
      "### Given Team and their Personas:\n",
      "- Deepak: A meticulous and strategic manager who ensures projects run smoothly. He focuses on business goals, deadlines, and resource allocation.\n",
      "- Britney: A business client who values user experience and is focused on solving real-world problems for customers.\n",
      "- Venkat: A skilled developer with deep technical expertise. He prioritizes efficiency, clean code, and optimal system design.\n",
      "- John: A detail-oriented tester who thrives on finding edge cases and ensuring product stability.\n",
      "\n",
      "### Conversation History:\n",
      ">> Deepak: Team, we have a new feature request from Britney. Let's discuss the feasibility and timeline.\n",
      ">> Britney: Yes, I want to add an **advanced search feature** to our platform. Users are struggling to find relevant items quickly.\n",
      ">> Venkat: That sounds interesting. Britney, do you have any specific filters in mind? Should it be keyword-based, category-based, or something more advanced like AI-powered recommendations?\n",
      ">> Britney: A combination of both! Users should be able to search by keywords, but I also want **smart suggestions** based on their browsing history.\n",
      ">> John: From a testing perspective, we need to ensure the search results are accurate. Venkat, how complex will the AI recommendations be? We might need test cases for various user behaviors.\n",
      "\n",
      "---\n",
      "The Last speaker is John\n",
      "\n",
      "---\n",
      "Review the conversation history to determine the logical flow of discussion and determine the next speaker.\n",
      "Never ask the last speaker to speak again.\n",
      "If the last speaker asked a question to an available team member, ask that team member to respond.\n",
      "Now Think concisely step by step and provide the final name inside the xml tags <name>...</name>.\n",
      "\n",
      "\n",
      "\n",
      " \n",
      "\n",
      "\n",
      "Generated response:  John's question is directed to Venkat. So, Venkat should respond next.\n",
      "<name>Venkat</name>\n",
      "Generating response for prompt: \n",
      "\n",
      " [{'role': 'user', 'parts': [{'text': \"Deepak: Team, we have a new feature request from Britney. Let's discuss the feasibility and timeline.\"}]}, {'role': 'user', 'parts': [{'text': 'Britney: Yes, I want to add an **advanced search feature** to our platform. Users are struggling to find relevant items quickly.'}]}, {'role': 'assistant', 'parts': [{'text': 'Venkat: That sounds interesting. Britney, do you have any specific filters in mind? Should it be keyword-based, category-based, or something more advanced like AI-powered recommendations?'}]}, {'role': 'user', 'parts': [{'text': 'Britney: A combination of both! Users should be able to search by keywords, but I also want **smart suggestions** based on their browsing history.'}]}, {'role': 'user', 'parts': [{'text': 'John: From a testing perspective, we need to ensure the search results are accurate. Venkat, how complex will the AI recommendations be? We might need test cases for various user behaviors.'}]}] \n",
      "\n",
      "\n",
      "Generated response:  Venkat: John, I am planning to use a collaborative filtering approach, so the complexity will be on par with our existing recommendation system. I'll keep the testability in mind during the design.\n",
      "\n",
      "Generating response for prompt: \n",
      "\n",
      " \n",
      "\n",
      "\n",
      "You are a helpful AI assistant in a brainstorming session.\n",
      "Your goal is to determine who should logically respond next, ensuring a smooth and productive discussion.\n",
      "\n",
      "### Given Team and their Personas:\n",
      "- Deepak: A meticulous and strategic manager who ensures projects run smoothly. He focuses on business goals, deadlines, and resource allocation.\n",
      "- Britney: A business client who values user experience and is focused on solving real-world problems for customers.\n",
      "- Venkat: A skilled developer with deep technical expertise. He prioritizes efficiency, clean code, and optimal system design.\n",
      "- John: A detail-oriented tester who thrives on finding edge cases and ensuring product stability.\n",
      "\n",
      "### Conversation History:\n",
      ">> Deepak: Team, we have a new feature request from Britney. Let's discuss the feasibility and timeline.\n",
      ">> Britney: Yes, I want to add an **advanced search feature** to our platform. Users are struggling to find relevant items quickly.\n",
      ">> Venkat: That sounds interesting. Britney, do you have any specific filters in mind? Should it be keyword-based, category-based, or something more advanced like AI-powered recommendations?\n",
      ">> Britney: A combination of both! Users should be able to search by keywords, but I also want **smart suggestions** based on their browsing history.\n",
      ">> John: From a testing perspective, we need to ensure the search results are accurate. Venkat, how complex will the AI recommendations be? We might need test cases for various user behaviors.\n",
      ">> Venkat: John, I am planning to use a collaborative filtering approach, so the complexity will be on par with our existing recommendation system. I'll keep the testability in mind during the design.\n",
      "\n",
      "---\n",
      "The Last speaker is Venkat\n",
      "\n",
      "---\n",
      "Review the conversation history to determine the logical flow of discussion and determine the next speaker.\n",
      "Never ask the last speaker to speak again.\n",
      "If the last speaker asked a question to an available team member, ask that team member to respond.\n",
      "Now Think concisely step by step and provide the final name inside the xml tags <name>...</name>.\n",
      "\n",
      "\n",
      "\n",
      " \n",
      "\n",
      "\n",
      "Generated response:  Venkat addressed John's concerns about the complexity and testability of the AI recommendations. The next logical step is for John to acknowledge Venkat's response and perhaps provide initial thoughts on testing strategies or ask clarifying questions.\n",
      "<name>John</name>\n",
      "Generating response for prompt: \n",
      "\n",
      " [{'role': 'user', 'parts': [{'text': \"Deepak: Team, we have a new feature request from Britney. Let's discuss the feasibility and timeline.\"}]}, {'role': 'user', 'parts': [{'text': 'Britney: Yes, I want to add an **advanced search feature** to our platform. Users are struggling to find relevant items quickly.'}]}, {'role': 'user', 'parts': [{'text': 'Venkat: That sounds interesting. Britney, do you have any specific filters in mind? Should it be keyword-based, category-based, or something more advanced like AI-powered recommendations?'}]}, {'role': 'user', 'parts': [{'text': 'Britney: A combination of both! Users should be able to search by keywords, but I also want **smart suggestions** based on their browsing history.'}]}, {'role': 'assistant', 'parts': [{'text': 'John: From a testing perspective, we need to ensure the search results are accurate. Venkat, how complex will the AI recommendations be? We might need test cases for various user behaviors.'}]}, {'role': 'user', 'parts': [{'text': \"Venkat: John, I am planning to use a collaborative filtering approach, so the complexity will be on par with our existing recommendation system. I'll keep the testability in mind during the design.\"}]}] \n",
      "\n",
      "\n",
      "Generated response:  John: Okay, sounds good. I'll start drafting some edge cases around keyword searches and result relevance in the meantime. Let me know if there are any specific data sets I should focus on.\n",
      "\n",
      "Generating response for prompt: \n",
      "\n",
      " \n",
      "\n",
      "\n",
      "You are a helpful AI assistant in a brainstorming session.\n",
      "Your goal is to determine who should logically respond next, ensuring a smooth and productive discussion.\n",
      "\n",
      "### Given Team and their Personas:\n",
      "- Deepak: A meticulous and strategic manager who ensures projects run smoothly. He focuses on business goals, deadlines, and resource allocation.\n",
      "- Britney: A business client who values user experience and is focused on solving real-world problems for customers.\n",
      "- Venkat: A skilled developer with deep technical expertise. He prioritizes efficiency, clean code, and optimal system design.\n",
      "- John: A detail-oriented tester who thrives on finding edge cases and ensuring product stability.\n",
      "\n",
      "### Conversation History:\n",
      ">> Deepak: Team, we have a new feature request from Britney. Let's discuss the feasibility and timeline.\n",
      ">> Britney: Yes, I want to add an **advanced search feature** to our platform. Users are struggling to find relevant items quickly.\n",
      ">> Venkat: That sounds interesting. Britney, do you have any specific filters in mind? Should it be keyword-based, category-based, or something more advanced like AI-powered recommendations?\n",
      ">> Britney: A combination of both! Users should be able to search by keywords, but I also want **smart suggestions** based on their browsing history.\n",
      ">> John: From a testing perspective, we need to ensure the search results are accurate. Venkat, how complex will the AI recommendations be? We might need test cases for various user behaviors.\n",
      ">> Venkat: John, I am planning to use a collaborative filtering approach, so the complexity will be on par with our existing recommendation system. I'll keep the testability in mind during the design.\n",
      ">> John: Okay, sounds good. I'll start drafting some edge cases around keyword searches and result relevance in the meantime. Let me know if there are any specific data sets I should focus on.\n",
      "\n",
      "---\n",
      "The Last speaker is John\n",
      "\n",
      "---\n",
      "Review the conversation history to determine the logical flow of discussion and determine the next speaker.\n",
      "Never ask the last speaker to speak again.\n",
      "If the last speaker asked a question to an available team member, ask that team member to respond.\n",
      "Now Think concisely step by step and provide the final name inside the xml tags <name>...</name>.\n",
      "\n",
      "\n",
      "\n",
      " \n",
      "\n",
      "\n",
      "Generated response:  John has asked Venkat if there are any specific data sets he should focus on. Venkat is the logical person to respond to this question.\n",
      "<name>Venkat</name>\n",
      "Generating response for prompt: \n",
      "\n",
      " [{'role': 'user', 'parts': [{'text': \"Deepak: Team, we have a new feature request from Britney. Let's discuss the feasibility and timeline.\"}]}, {'role': 'user', 'parts': [{'text': 'Britney: Yes, I want to add an **advanced search feature** to our platform. Users are struggling to find relevant items quickly.'}]}, {'role': 'assistant', 'parts': [{'text': 'Venkat: That sounds interesting. Britney, do you have any specific filters in mind? Should it be keyword-based, category-based, or something more advanced like AI-powered recommendations?'}]}, {'role': 'user', 'parts': [{'text': 'Britney: A combination of both! Users should be able to search by keywords, but I also want **smart suggestions** based on their browsing history.'}]}, {'role': 'user', 'parts': [{'text': 'John: From a testing perspective, we need to ensure the search results are accurate. Venkat, how complex will the AI recommendations be? We might need test cases for various user behaviors.'}]}, {'role': 'assistant', 'parts': [{'text': \"Venkat: John, I am planning to use a collaborative filtering approach, so the complexity will be on par with our existing recommendation system. I'll keep the testability in mind during the design.\"}]}, {'role': 'user', 'parts': [{'text': \"John: Okay, sounds good. I'll start drafting some edge cases around keyword searches and result relevance in the meantime. Let me know if there are any specific data sets I should focus on.\"}]}] \n",
      "\n",
      "\n",
      "Generated response:  Venkat: Will do, John. I'll share the data model with you.\n",
      "\n",
      "Generating response for prompt: \n",
      "\n",
      " \n",
      "\n",
      "\n",
      "You are a helpful AI assistant in a brainstorming session.\n",
      "Your goal is to determine who should logically respond next, ensuring a smooth and productive discussion.\n",
      "\n",
      "### Given Team and their Personas:\n",
      "- Deepak: A meticulous and strategic manager who ensures projects run smoothly. He focuses on business goals, deadlines, and resource allocation.\n",
      "- Britney: A business client who values user experience and is focused on solving real-world problems for customers.\n",
      "- Venkat: A skilled developer with deep technical expertise. He prioritizes efficiency, clean code, and optimal system design.\n",
      "- John: A detail-oriented tester who thrives on finding edge cases and ensuring product stability.\n",
      "\n",
      "### Conversation History:\n",
      ">> Deepak: Team, we have a new feature request from Britney. Let's discuss the feasibility and timeline.\n",
      ">> Britney: Yes, I want to add an **advanced search feature** to our platform. Users are struggling to find relevant items quickly.\n",
      ">> Venkat: That sounds interesting. Britney, do you have any specific filters in mind? Should it be keyword-based, category-based, or something more advanced like AI-powered recommendations?\n",
      ">> Britney: A combination of both! Users should be able to search by keywords, but I also want **smart suggestions** based on their browsing history.\n",
      ">> John: From a testing perspective, we need to ensure the search results are accurate. Venkat, how complex will the AI recommendations be? We might need test cases for various user behaviors.\n",
      ">> Venkat: John, I am planning to use a collaborative filtering approach, so the complexity will be on par with our existing recommendation system. I'll keep the testability in mind during the design.\n",
      ">> John: Okay, sounds good. I'll start drafting some edge cases around keyword searches and result relevance in the meantime. Let me know if there are any specific data sets I should focus on.\n",
      ">> Venkat: Will do, John. I'll share the data model with you.\n",
      "\n",
      "---\n",
      "The Last speaker is Venkat\n",
      "\n",
      "---\n",
      "Review the conversation history to determine the logical flow of discussion and determine the next speaker.\n",
      "Never ask the last speaker to speak again.\n",
      "If the last speaker asked a question to an available team member, ask that team member to respond.\n",
      "Now Think concisely step by step and provide the final name inside the xml tags <name>...</name>.\n",
      "\n",
      "\n",
      "\n",
      " \n",
      "\n",
      "\n",
      "Generated response:  Venkat has addressed John's concerns and offered to share the data model. The next logical step is for Deepak to chime in and ensure the project is on track from a management perspective, considering the new feature's scope, timeline, and resource implications.\n",
      "\n",
      "<name>Deepak</name>\n",
      "Generating response for prompt: \n",
      "\n",
      " [{'role': 'assistant', 'parts': [{'text': \"Deepak: Team, we have a new feature request from Britney. Let's discuss the feasibility and timeline.\"}]}, {'role': 'user', 'parts': [{'text': 'Britney: Yes, I want to add an **advanced search feature** to our platform. Users are struggling to find relevant items quickly.'}]}, {'role': 'user', 'parts': [{'text': 'Venkat: That sounds interesting. Britney, do you have any specific filters in mind? Should it be keyword-based, category-based, or something more advanced like AI-powered recommendations?'}]}, {'role': 'user', 'parts': [{'text': 'Britney: A combination of both! Users should be able to search by keywords, but I also want **smart suggestions** based on their browsing history.'}]}, {'role': 'user', 'parts': [{'text': 'John: From a testing perspective, we need to ensure the search results are accurate. Venkat, how complex will the AI recommendations be? We might need test cases for various user behaviors.'}]}, {'role': 'user', 'parts': [{'text': \"Venkat: John, I am planning to use a collaborative filtering approach, so the complexity will be on par with our existing recommendation system. I'll keep the testability in mind during the design.\"}]}, {'role': 'user', 'parts': [{'text': \"John: Okay, sounds good. I'll start drafting some edge cases around keyword searches and result relevance in the meantime. Let me know if there are any specific data sets I should focus on.\"}]}, {'role': 'user', 'parts': [{'text': \"Venkat: Will do, John. I'll share the data model with you.\"}]}] \n",
      "\n",
      "\n",
      "Generated response:  Deepak: Venkat, John, thanks for coordinating. Britney, this is helpful. Let's define the business goals for this feature and success metrics, Britney. Venkat, can you provide a rough estimate of the development time, considering John's testing needs? We need to fit this into our Q3 roadmap.\n",
      "\n",
      "Generating response for prompt: \n",
      "\n",
      " \n",
      "\n",
      "\n",
      "You are a helpful AI assistant in a brainstorming session.\n",
      "Your goal is to determine who should logically respond next, ensuring a smooth and productive discussion.\n",
      "\n",
      "### Given Team and their Personas:\n",
      "- Deepak: A meticulous and strategic manager who ensures projects run smoothly. He focuses on business goals, deadlines, and resource allocation.\n",
      "- Britney: A business client who values user experience and is focused on solving real-world problems for customers.\n",
      "- Venkat: A skilled developer with deep technical expertise. He prioritizes efficiency, clean code, and optimal system design.\n",
      "- John: A detail-oriented tester who thrives on finding edge cases and ensuring product stability.\n",
      "\n",
      "### Conversation History:\n",
      ">> Deepak: Team, we have a new feature request from Britney. Let's discuss the feasibility and timeline.\n",
      ">> Britney: Yes, I want to add an **advanced search feature** to our platform. Users are struggling to find relevant items quickly.\n",
      ">> Venkat: That sounds interesting. Britney, do you have any specific filters in mind? Should it be keyword-based, category-based, or something more advanced like AI-powered recommendations?\n",
      ">> Britney: A combination of both! Users should be able to search by keywords, but I also want **smart suggestions** based on their browsing history.\n",
      ">> John: From a testing perspective, we need to ensure the search results are accurate. Venkat, how complex will the AI recommendations be? We might need test cases for various user behaviors.\n",
      ">> Venkat: John, I am planning to use a collaborative filtering approach, so the complexity will be on par with our existing recommendation system. I'll keep the testability in mind during the design.\n",
      ">> John: Okay, sounds good. I'll start drafting some edge cases around keyword searches and result relevance in the meantime. Let me know if there are any specific data sets I should focus on.\n",
      ">> Venkat: Will do, John. I'll share the data model with you.\n",
      ">> Deepak: Venkat, John, thanks for coordinating. Britney, this is helpful. Let's define the business goals for this feature and success metrics, Britney. Venkat, can you provide a rough estimate of the development time, considering John's testing needs? We need to fit this into our Q3 roadmap.\n",
      "\n",
      "---\n",
      "The Last speaker is Deepak\n",
      "\n",
      "---\n",
      "Review the conversation history to determine the logical flow of discussion and determine the next speaker.\n",
      "Never ask the last speaker to speak again.\n",
      "If the last speaker asked a question to an available team member, ask that team member to respond.\n",
      "Now Think concisely step by step and provide the final name inside the xml tags <name>...</name>.\n",
      "\n",
      "\n",
      "\n",
      " \n",
      "\n",
      "\n",
      "Generated response:  Deepak has asked Britney to define the business goals and success metrics for the feature. He has also asked Venkat to provide a rough estimate of the development time.\n",
      "\n",
      "The conversation needs to first address Britney's requirements before Venkat can provide an estimate.\n",
      "\n",
      "Therefore, Britney should respond next.\n",
      "\n",
      "FINAL ANSWER:\n",
      "<name>Britney</name>\n",
      "Generating response for prompt: \n",
      "\n",
      " [{'role': 'user', 'parts': [{'text': \"Deepak: Team, we have a new feature request from Britney. Let's discuss the feasibility and timeline.\"}]}, {'role': 'assistant', 'parts': [{'text': 'Britney: Yes, I want to add an **advanced search feature** to our platform. Users are struggling to find relevant items quickly.'}]}, {'role': 'user', 'parts': [{'text': 'Venkat: That sounds interesting. Britney, do you have any specific filters in mind? Should it be keyword-based, category-based, or something more advanced like AI-powered recommendations?'}]}, {'role': 'assistant', 'parts': [{'text': 'Britney: A combination of both! Users should be able to search by keywords, but I also want **smart suggestions** based on their browsing history.'}]}, {'role': 'user', 'parts': [{'text': 'John: From a testing perspective, we need to ensure the search results are accurate. Venkat, how complex will the AI recommendations be? We might need test cases for various user behaviors.'}]}, {'role': 'user', 'parts': [{'text': \"Venkat: John, I am planning to use a collaborative filtering approach, so the complexity will be on par with our existing recommendation system. I'll keep the testability in mind during the design.\"}]}, {'role': 'user', 'parts': [{'text': \"John: Okay, sounds good. I'll start drafting some edge cases around keyword searches and result relevance in the meantime. Let me know if there are any specific data sets I should focus on.\"}]}, {'role': 'user', 'parts': [{'text': \"Venkat: Will do, John. I'll share the data model with you.\"}]}, {'role': 'user', 'parts': [{'text': \"Deepak: Venkat, John, thanks for coordinating. Britney, this is helpful. Let's define the business goals for this feature and success metrics, Britney. Venkat, can you provide a rough estimate of the development time, considering John's testing needs? We need to fit this into our Q3 roadmap.\"}]}] \n",
      "\n",
      "\n",
      "Generated response:  Britney: Okay, so the main goal is to **boost user engagement by 20%** through faster, more relevant search results. Success will be measured by search usage, click-through rates, and ultimately, conversions.\n",
      "\n",
      "Generating response for prompt: \n",
      "\n",
      " \n",
      "\n",
      "\n",
      "You are a helpful AI assistant in a brainstorming session.\n",
      "Your goal is to determine who should logically respond next, ensuring a smooth and productive discussion.\n",
      "\n",
      "### Given Team and their Personas:\n",
      "- Deepak: A meticulous and strategic manager who ensures projects run smoothly. He focuses on business goals, deadlines, and resource allocation.\n",
      "- Britney: A business client who values user experience and is focused on solving real-world problems for customers.\n",
      "- Venkat: A skilled developer with deep technical expertise. He prioritizes efficiency, clean code, and optimal system design.\n",
      "- John: A detail-oriented tester who thrives on finding edge cases and ensuring product stability.\n",
      "\n",
      "### Conversation History:\n",
      ">> Deepak: Team, we have a new feature request from Britney. Let's discuss the feasibility and timeline.\n",
      ">> Britney: Yes, I want to add an **advanced search feature** to our platform. Users are struggling to find relevant items quickly.\n",
      ">> Venkat: That sounds interesting. Britney, do you have any specific filters in mind? Should it be keyword-based, category-based, or something more advanced like AI-powered recommendations?\n",
      ">> Britney: A combination of both! Users should be able to search by keywords, but I also want **smart suggestions** based on their browsing history.\n",
      ">> John: From a testing perspective, we need to ensure the search results are accurate. Venkat, how complex will the AI recommendations be? We might need test cases for various user behaviors.\n",
      ">> Venkat: John, I am planning to use a collaborative filtering approach, so the complexity will be on par with our existing recommendation system. I'll keep the testability in mind during the design.\n",
      ">> John: Okay, sounds good. I'll start drafting some edge cases around keyword searches and result relevance in the meantime. Let me know if there are any specific data sets I should focus on.\n",
      ">> Venkat: Will do, John. I'll share the data model with you.\n",
      ">> Deepak: Venkat, John, thanks for coordinating. Britney, this is helpful. Let's define the business goals for this feature and success metrics, Britney. Venkat, can you provide a rough estimate of the development time, considering John's testing needs? We need to fit this into our Q3 roadmap.\n",
      ">> Britney: Okay, so the main goal is to **boost user engagement by 20%** through faster, more relevant search results. Success will be measured by search usage, click-through rates, and ultimately, conversions.\n",
      "\n",
      "---\n",
      "The Last speaker is Britney\n",
      "\n",
      "---\n",
      "Review the conversation history to determine the logical flow of discussion and determine the next speaker.\n",
      "Never ask the last speaker to speak again.\n",
      "If the last speaker asked a question to an available team member, ask that team member to respond.\n",
      "Now Think concisely step by step and provide the final name inside the xml tags <name>...</name>.\n",
      "\n",
      "\n",
      "\n",
      " \n",
      "\n",
      "\n",
      "Generated response:  Britney has just defined the business goals and success metrics. Deepak asked Venkat to provide a rough estimate of the development time, considering John's testing needs, to fit the feature into the Q3 roadmap. Therefore, Venkat should respond next.\n",
      "<name>Venkat</name>\n",
      "Generating response for prompt: \n",
      "\n",
      " [{'role': 'user', 'parts': [{'text': \"Deepak: Team, we have a new feature request from Britney. Let's discuss the feasibility and timeline.\"}]}, {'role': 'user', 'parts': [{'text': 'Britney: Yes, I want to add an **advanced search feature** to our platform. Users are struggling to find relevant items quickly.'}]}, {'role': 'assistant', 'parts': [{'text': 'Venkat: That sounds interesting. Britney, do you have any specific filters in mind? Should it be keyword-based, category-based, or something more advanced like AI-powered recommendations?'}]}, {'role': 'user', 'parts': [{'text': 'Britney: A combination of both! Users should be able to search by keywords, but I also want **smart suggestions** based on their browsing history.'}]}, {'role': 'user', 'parts': [{'text': 'John: From a testing perspective, we need to ensure the search results are accurate. Venkat, how complex will the AI recommendations be? We might need test cases for various user behaviors.'}]}, {'role': 'assistant', 'parts': [{'text': \"Venkat: John, I am planning to use a collaborative filtering approach, so the complexity will be on par with our existing recommendation system. I'll keep the testability in mind during the design.\"}]}, {'role': 'user', 'parts': [{'text': \"John: Okay, sounds good. I'll start drafting some edge cases around keyword searches and result relevance in the meantime. Let me know if there are any specific data sets I should focus on.\"}]}, {'role': 'assistant', 'parts': [{'text': \"Venkat: Will do, John. I'll share the data model with you.\"}]}, {'role': 'user', 'parts': [{'text': \"Deepak: Venkat, John, thanks for coordinating. Britney, this is helpful. Let's define the business goals for this feature and success metrics, Britney. Venkat, can you provide a rough estimate of the development time, considering John's testing needs? We need to fit this into our Q3 roadmap.\"}]}, {'role': 'user', 'parts': [{'text': 'Britney: Okay, so the main goal is to **boost user engagement by 20%** through faster, more relevant search results. Success will be measured by search usage, click-through rates, and ultimately, conversions.'}]}] \n",
      "\n",
      "\n",
      "Generated response:  Venkat: I'll factor in the collaborative filtering and John's testing needs. I estimate about 2 weeks for development and integration, with an additional week for testing and bug fixes. That's a total of 3 weeks.\n",
      "\n"
     ]
    }
   ],
   "source": [
    "# multi turn brainstromming AI assisted conversation\n",
    "responses = model.brainstrom(messages=messages, role_play_configs=role_play_configs, max_new_tokens=256, ai_assisted_turns=6)"
   ]
  },
  {
   "cell_type": "code",
   "execution_count": 6,
   "metadata": {},
   "outputs": [
    {
     "data": {
      "text/html": [
       "<pre style=\"white-space:pre;overflow-x:auto;line-height:normal;font-family:Menlo,'DejaVu Sans Mono',consolas,'Courier New',monospace\">DEEPAK : Team, we have a new feature request from Britney. Let's discuss the feasibility and timeline.\n",
       "</pre>\n"
      ],
      "text/plain": [
       "DEEPAK : Team, we have a new feature request from Britney. Let's discuss the feasibility and timeline.\n"
      ]
     },
     "metadata": {},
     "output_type": "display_data"
    },
    {
     "name": "stdout",
     "output_type": "stream",
     "text": [
      "**************************************************\n"
     ]
    },
    {
     "data": {
      "text/html": [
       "<pre style=\"white-space:pre;overflow-x:auto;line-height:normal;font-family:Menlo,'DejaVu Sans Mono',consolas,'Courier New',monospace\">BRITNEY : Yes, I want to add an **advanced search feature** to our platform. Users are struggling to find relevant \n",
       "items quickly.\n",
       "</pre>\n"
      ],
      "text/plain": [
       "BRITNEY : Yes, I want to add an **advanced search feature** to our platform. Users are struggling to find relevant \n",
       "items quickly.\n"
      ]
     },
     "metadata": {},
     "output_type": "display_data"
    },
    {
     "name": "stdout",
     "output_type": "stream",
     "text": [
      "**************************************************\n"
     ]
    },
    {
     "data": {
      "text/html": [
       "<pre style=\"white-space:pre;overflow-x:auto;line-height:normal;font-family:Menlo,'DejaVu Sans Mono',consolas,'Courier New',monospace\">VENKAT : That sounds interesting. Britney, do you have any specific filters in mind? Should it be keyword-based, \n",
       "category-based, or something more advanced like AI-powered recommendations?\n",
       "</pre>\n"
      ],
      "text/plain": [
       "VENKAT : That sounds interesting. Britney, do you have any specific filters in mind? Should it be keyword-based, \n",
       "category-based, or something more advanced like AI-powered recommendations?\n"
      ]
     },
     "metadata": {},
     "output_type": "display_data"
    },
    {
     "name": "stdout",
     "output_type": "stream",
     "text": [
      "**************************************************\n"
     ]
    },
    {
     "data": {
      "text/html": [
       "<pre style=\"white-space:pre;overflow-x:auto;line-height:normal;font-family:Menlo,'DejaVu Sans Mono',consolas,'Courier New',monospace\">BRITNEY : A combination of both! Users should be able to search by keywords, but I also want **smart suggestions** \n",
       "based on their browsing history.\n",
       "</pre>\n"
      ],
      "text/plain": [
       "BRITNEY : A combination of both! Users should be able to search by keywords, but I also want **smart suggestions** \n",
       "based on their browsing history.\n"
      ]
     },
     "metadata": {},
     "output_type": "display_data"
    },
    {
     "name": "stdout",
     "output_type": "stream",
     "text": [
      "**************************************************\n"
     ]
    },
    {
     "data": {
      "text/html": [
       "<pre style=\"white-space:pre;overflow-x:auto;line-height:normal;font-family:Menlo,'DejaVu Sans Mono',consolas,'Courier New',monospace\">JOHN : From a testing perspective, we need to ensure the search results are accurate. Venkat, how complex will the \n",
       "AI recommendations be? We might need test cases for various user behaviors.\n",
       "</pre>\n"
      ],
      "text/plain": [
       "JOHN : From a testing perspective, we need to ensure the search results are accurate. Venkat, how complex will the \n",
       "AI recommendations be? We might need test cases for various user behaviors.\n"
      ]
     },
     "metadata": {},
     "output_type": "display_data"
    },
    {
     "name": "stdout",
     "output_type": "stream",
     "text": [
      "**************************************************\n"
     ]
    },
    {
     "data": {
      "text/html": [
       "<pre style=\"white-space:pre;overflow-x:auto;line-height:normal;font-family:Menlo,'DejaVu Sans Mono',consolas,'Courier New',monospace\">VENKAT : John, I am planning to use a collaborative filtering approach, so the complexity will be on par with our \n",
       "existing recommendation system. I'll keep the testability in mind during the design.\n",
       "</pre>\n"
      ],
      "text/plain": [
       "VENKAT : John, I am planning to use a collaborative filtering approach, so the complexity will be on par with our \n",
       "existing recommendation system. I'll keep the testability in mind during the design.\n"
      ]
     },
     "metadata": {},
     "output_type": "display_data"
    },
    {
     "name": "stdout",
     "output_type": "stream",
     "text": [
      "**************************************************\n"
     ]
    },
    {
     "data": {
      "text/html": [
       "<pre style=\"white-space:pre;overflow-x:auto;line-height:normal;font-family:Menlo,'DejaVu Sans Mono',consolas,'Courier New',monospace\">JOHN : Okay, sounds good. I'll start drafting some edge cases around keyword searches and result relevance in the \n",
       "meantime. Let me know if there are any specific data sets I should focus on.\n",
       "</pre>\n"
      ],
      "text/plain": [
       "JOHN : Okay, sounds good. I'll start drafting some edge cases around keyword searches and result relevance in the \n",
       "meantime. Let me know if there are any specific data sets I should focus on.\n"
      ]
     },
     "metadata": {},
     "output_type": "display_data"
    },
    {
     "name": "stdout",
     "output_type": "stream",
     "text": [
      "**************************************************\n"
     ]
    },
    {
     "data": {
      "text/html": [
       "<pre style=\"white-space:pre;overflow-x:auto;line-height:normal;font-family:Menlo,'DejaVu Sans Mono',consolas,'Courier New',monospace\">VENKAT : Will do, John. I'll share the data model with you.\n",
       "</pre>\n"
      ],
      "text/plain": [
       "VENKAT : Will do, John. I'll share the data model with you.\n"
      ]
     },
     "metadata": {},
     "output_type": "display_data"
    },
    {
     "name": "stdout",
     "output_type": "stream",
     "text": [
      "**************************************************\n"
     ]
    },
    {
     "data": {
      "text/html": [
       "<pre style=\"white-space:pre;overflow-x:auto;line-height:normal;font-family:Menlo,'DejaVu Sans Mono',consolas,'Courier New',monospace\">DEEPAK : Venkat, John, thanks for coordinating. Britney, this is helpful. Let's define the business goals for this \n",
       "feature and success metrics, Britney. Venkat, can you provide a rough estimate of the development time, considering\n",
       "John's testing needs? We need to fit this into our Q3 roadmap.\n",
       "</pre>\n"
      ],
      "text/plain": [
       "DEEPAK : Venkat, John, thanks for coordinating. Britney, this is helpful. Let's define the business goals for this \n",
       "feature and success metrics, Britney. Venkat, can you provide a rough estimate of the development time, considering\n",
       "John's testing needs? We need to fit this into our Q3 roadmap.\n"
      ]
     },
     "metadata": {},
     "output_type": "display_data"
    },
    {
     "name": "stdout",
     "output_type": "stream",
     "text": [
      "**************************************************\n"
     ]
    },
    {
     "data": {
      "text/html": [
       "<pre style=\"white-space:pre;overflow-x:auto;line-height:normal;font-family:Menlo,'DejaVu Sans Mono',consolas,'Courier New',monospace\">BRITNEY : Okay, so the main goal is to **boost user engagement by <span style=\"color: #008080; text-decoration-color: #008080; font-weight: bold\">20</span>%** through faster, more relevant search \n",
       "results. Success will be measured by search usage, click-through rates, and ultimately, conversions.\n",
       "</pre>\n"
      ],
      "text/plain": [
       "BRITNEY : Okay, so the main goal is to **boost user engagement by \u001b[1;36m20\u001b[0m%** through faster, more relevant search \n",
       "results. Success will be measured by search usage, click-through rates, and ultimately, conversions.\n"
      ]
     },
     "metadata": {},
     "output_type": "display_data"
    },
    {
     "name": "stdout",
     "output_type": "stream",
     "text": [
      "**************************************************\n"
     ]
    },
    {
     "data": {
      "text/html": [
       "<pre style=\"white-space:pre;overflow-x:auto;line-height:normal;font-family:Menlo,'DejaVu Sans Mono',consolas,'Courier New',monospace\">VENKAT : I'll factor in the collaborative filtering and John's testing needs. I estimate about <span style=\"color: #008080; text-decoration-color: #008080; font-weight: bold\">2</span> weeks for \n",
       "development and integration, with an additional week for testing and bug fixes. That's a total of <span style=\"color: #008080; text-decoration-color: #008080; font-weight: bold\">3</span> weeks.\n",
       "</pre>\n"
      ],
      "text/plain": [
       "VENKAT : I'll factor in the collaborative filtering and John's testing needs. I estimate about \u001b[1;36m2\u001b[0m weeks for \n",
       "development and integration, with an additional week for testing and bug fixes. That's a total of \u001b[1;36m3\u001b[0m weeks.\n"
      ]
     },
     "metadata": {},
     "output_type": "display_data"
    },
    {
     "name": "stdout",
     "output_type": "stream",
     "text": [
      "**************************************************\n"
     ]
    }
   ],
   "source": [
    "for _ in responses.get('chat_history'):\n",
    "    console.print(_.get('role').upper(), \":\", _.get('content'))\n",
    "    print('*'*50)"
   ]
  },
  {
   "cell_type": "code",
   "execution_count": null,
   "metadata": {},
   "outputs": [],
   "source": []
  }
 ],
 "metadata": {
  "kernelspec": {
   "display_name": ".venv",
   "language": "python",
   "name": "python3"
  },
  "language_info": {
   "codemirror_mode": {
    "name": "ipython",
    "version": 3
   },
   "file_extension": ".py",
   "mimetype": "text/x-python",
   "name": "python",
   "nbconvert_exporter": "python",
   "pygments_lexer": "ipython3",
   "version": "3.12.3"
  }
 },
 "nbformat": 4,
 "nbformat_minor": 2
}
