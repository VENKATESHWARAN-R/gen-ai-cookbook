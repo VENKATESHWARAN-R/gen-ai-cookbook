{
 "cells": [
  {
   "cell_type": "code",
   "execution_count": 15,
   "metadata": {},
   "outputs": [],
   "source": [
    "!pip install -qU \"google-genai\" \"python-dotenv\" \"chromadb\" \"sentence-transformers\" \"transformers\" \"sentence-transformers\" \"psycopg2-binary\" \"rich\""
   ]
  },
  {
   "cell_type": "markdown",
   "metadata": {},
   "source": [
    "## General\n"
   ]
  },
  {
   "cell_type": "code",
   "execution_count": 16,
   "metadata": {},
   "outputs": [],
   "source": [
    "from dotenv import load_dotenv, find_dotenv\n",
    "import os\n",
    "from google import genai\n",
    "from google.genai import types\n",
    "from typing import List, Dict\n",
    "import chromadb\n",
    "from chromadb import Documents, EmbeddingFunction, Embeddings\n",
    "from datetime import datetime\n",
    "from sentence_transformers import SentenceTransformer, util\n",
    "from pprint import pprint\n",
    "import psycopg2\n",
    "from datetime import datetime, timedelta\n",
    "from psycopg2.extras import DictCursor\n",
    "import json\n",
    "from rich.console import Console"
   ]
  },
  {
   "cell_type": "code",
   "execution_count": 17,
   "metadata": {},
   "outputs": [],
   "source": [
    "# Load environment variables from .env file, this is where the gemini API key is stored\n",
    "load_dotenv(find_dotenv())\n",
    "console = Console()"
   ]
  },
  {
   "cell_type": "code",
   "execution_count": 4,
   "metadata": {},
   "outputs": [],
   "source": [
    "# Define constants for the application usage\n",
    "EMBEDDING_MODEL = \"models/text-embedding-004\"\n",
    "LANGUAGE_MODEL = \"models/gemini-2.0-flash\""
   ]
  },
  {
   "cell_type": "code",
   "execution_count": 27,
   "metadata": {},
   "outputs": [],
   "source": [
    "# Creating google-genai client\n",
    "gen_ai_client = genai.Client(api_key=os.getenv(\"GEMINI_API_KEY\"))\n",
    "chroma_client = chromadb.Client()"
   ]
  },
  {
   "cell_type": "code",
   "execution_count": 28,
   "metadata": {},
   "outputs": [],
   "source": [
    "def generate_embeddings(texts: List[str]):\n",
    "    \"\"\"\n",
    "    Generate embeddings for a list of texts using the text-embedding-004 model\n",
    "    \"\"\"\n",
    "    embeddings = gen_ai_client.models.embed_content(\n",
    "        model=EMBEDDING_MODEL, contents=texts\n",
    "    )\n",
    "    return embeddings.embeddings"
   ]
  },
  {
   "cell_type": "code",
   "execution_count": 29,
   "metadata": {},
   "outputs": [],
   "source": [
    "# Function for Generating embeddings\n",
    "# Creating this as a class so that it can be passed to the chromaDB client\n",
    "# Refer https://docs.trychroma.com/docs/embeddings/embedding-functions#custom-embedding-functions\n",
    "class Generate_Embeddings(EmbeddingFunction):\n",
    "    def __init__(self, model: str = EMBEDDING_MODEL, **kwargs):\n",
    "        \"\"\"\n",
    "        Initialize the embedding function with the given model.\n",
    "        \"\"\"\n",
    "        self.model = model\n",
    "        self.kwargs = kwargs\n",
    "\n",
    "    def __call__(self, input: Documents) -> Embeddings:\n",
    "        \"\"\"\n",
    "        Generate embeddings for the given text using the Google GenAI API.\n",
    "        \"\"\"\n",
    "        # Generate embeddings\n",
    "        if isinstance(input, str):\n",
    "            input = [input]\n",
    "        embeddings = gen_ai_client.models.embed_content(\n",
    "            model=self.model, contents=input, **self.kwargs\n",
    "        )\n",
    "        embedding_output = [x.values for x in embeddings.embeddings]\n",
    "        return embedding_output"
   ]
  },
  {
   "cell_type": "code",
   "execution_count": 30,
   "metadata": {},
   "outputs": [],
   "source": [
    "# Function for Generating language model outputs\n",
    "def generate_text(texts: List, **kwargs):\n",
    "    \"\"\"\n",
    "    Generate language model outputs for the given text using the Google GenAI API.\n",
    "    \"\"\"\n",
    "    # Generate language model outputs\n",
    "    if isinstance(texts, str):\n",
    "        texts = [texts]\n",
    "    outputs = gen_ai_client.models.generate_content(\n",
    "        model=LANGUAGE_MODEL, contents=texts, **kwargs\n",
    "    )\n",
    "    return outputs.text"
   ]
  },
  {
   "cell_type": "markdown",
   "metadata": {},
   "source": [
    "## Chat\n"
   ]
  },
  {
   "cell_type": "code",
   "execution_count": null,
   "metadata": {},
   "outputs": [
    {
     "data": {
      "text/html": [
       "<pre style=\"white-space:pre;overflow-x:auto;line-height:normal;font-family:Menlo,'DejaVu Sans Mono',consolas,'Courier New',monospace\"><span style=\"color: #008080; text-decoration-color: #008080; font-weight: bold\">USER</span><span style=\"color: #008080; text-decoration-color: #008080\">: My name is V, I'm a Pirate.</span>\n",
       "</pre>\n"
      ],
      "text/plain": [
       "\u001b[1;36mUSER\u001b[0m\u001b[36m: My name is V, I'm a Pirate.\u001b[0m\n"
      ]
     },
     "metadata": {},
     "output_type": "display_data"
    },
    {
     "data": {
      "text/html": [
       "<pre style=\"white-space:pre;overflow-x:auto;line-height:normal;font-family:Menlo,'DejaVu Sans Mono',consolas,'Courier New',monospace\"><span style=\"color: #800000; text-decoration-color: #800000; background-color: #c0c0c0; font-weight: bold; text-decoration: underline\">AI: Ahoy there, V! A pleasure to meet a fellow seafarer, even if only in words. Tell me, V, what seas do you sail? </span>\n",
       "<span style=\"color: #800000; text-decoration-color: #800000; background-color: #c0c0c0; font-weight: bold; text-decoration: underline\">What's your ship called? And what treasures are you after? A pirate's life is full of adventure, and I'm eager to </span>\n",
       "<span style=\"color: #800000; text-decoration-color: #800000; background-color: #c0c0c0; font-weight: bold; text-decoration: underline\">hear yours!</span>\n",
       "\n",
       "</pre>\n"
      ],
      "text/plain": [
       "\u001b[1;4;5;31;47mAI\u001b[0m\u001b[1;4;5;31;47m: Ahoy there, V! A pleasure to meet a fellow seafarer, even if only in words. Tell me, V, what seas do you sail? \u001b[0m\n",
       "\u001b[1;4;5;31;47mWhat's your ship called? And what treasures are you after? A pirate's life is full of adventure, and I'm eager to \u001b[0m\n",
       "\u001b[1;4;5;31;47mhear yours!\u001b[0m\n",
       "\n"
      ]
     },
     "metadata": {},
     "output_type": "display_data"
    },
    {
     "name": "stdout",
     "output_type": "stream",
     "text": [
      "--------------------------------------------------\n"
     ]
    },
    {
     "data": {
      "text/html": [
       "<pre style=\"white-space:pre;overflow-x:auto;line-height:normal;font-family:Menlo,'DejaVu Sans Mono',consolas,'Courier New',monospace\"><span style=\"color: #008080; text-decoration-color: #008080; font-weight: bold\">USER</span><span style=\"color: #008080; text-decoration-color: #008080\">: I'm looking for a treasure map.</span>\n",
       "</pre>\n"
      ],
      "text/plain": [
       "\u001b[1;36mUSER\u001b[0m\u001b[36m: I'm looking for a treasure map.\u001b[0m\n"
      ]
     },
     "metadata": {},
     "output_type": "display_data"
    },
    {
     "data": {
      "text/html": [
       "<pre style=\"white-space:pre;overflow-x:auto;line-height:normal;font-family:Menlo,'DejaVu Sans Mono',consolas,'Courier New',monospace\"><span style=\"color: #800000; text-decoration-color: #800000; background-color: #c0c0c0; font-weight: bold; text-decoration: underline\">AI: A treasure map, eh? Now that's a worthy pursuit! Finding a map is often half the battle. Tell me, V, what kind </span>\n",
       "<span style=\"color: #800000; text-decoration-color: #800000; background-color: #c0c0c0; font-weight: bold; text-decoration: underline\">of treasure are you hoping to find? Knowing that might help narrow down the search.</span>\n",
       "\n",
       "<span style=\"color: #800000; text-decoration-color: #800000; background-color: #c0c0c0; font-weight: bold; text-decoration: underline\">Also, have you tried any of the usual pirate haunts?</span>\n",
       "\n",
       "<span style=\"color: #800000; text-decoration-color: #800000; background-color: #c0c0c0; font-weight: bold; text-decoration: underline\">*   **Taverns:** Loose lips sink ships, and sometimes they reveal the location of maps too. A few rounds of grog </span>\n",
       "<span style=\"color: #800000; text-decoration-color: #800000; background-color: #c0c0c0; font-weight: bold; text-decoration: underline\">and some well-placed questions might do the trick.</span>\n",
       "</pre>\n"
      ],
      "text/plain": [
       "\u001b[1;4;5;31;47mAI\u001b[0m\u001b[1;4;5;31;47m: A treasure map, eh? Now that's a worthy pursuit! Finding a map is often half the battle. Tell me, V, what kind \u001b[0m\n",
       "\u001b[1;4;5;31;47mof treasure are you hoping to find? Knowing that might help narrow down the search.\u001b[0m\n",
       "\n",
       "\u001b[1;4;5;31;47mAlso, have you tried any of the usual pirate haunts?\u001b[0m\n",
       "\n",
       "\u001b[1;4;5;31;47m*   **Taverns:** Loose lips sink ships, and sometimes they reveal the location of maps too. A few rounds of grog \u001b[0m\n",
       "\u001b[1;4;5;31;47mand some well-placed questions might do the trick.\u001b[0m\n"
      ]
     },
     "metadata": {},
     "output_type": "display_data"
    },
    {
     "name": "stdout",
     "output_type": "stream",
     "text": [
      "--------------------------------------------------\n"
     ]
    },
    {
     "data": {
      "text/html": [
       "<pre style=\"white-space:pre;overflow-x:auto;line-height:normal;font-family:Menlo,'DejaVu Sans Mono',consolas,'Courier New',monospace\"><span style=\"color: #008080; text-decoration-color: #008080; font-weight: bold\">USER</span><span style=\"color: #008080; text-decoration-color: #008080\">: I hope you don't tell the authorities.</span>\n",
       "</pre>\n"
      ],
      "text/plain": [
       "\u001b[1;36mUSER\u001b[0m\u001b[36m: I hope you don't tell the authorities.\u001b[0m\n"
      ]
     },
     "metadata": {},
     "output_type": "display_data"
    },
    {
     "data": {
      "text/html": [
       "<pre style=\"white-space:pre;overflow-x:auto;line-height:normal;font-family:Menlo,'DejaVu Sans Mono',consolas,'Courier New',monospace\"><span style=\"color: #800000; text-decoration-color: #800000; background-color: #c0c0c0; font-weight: bold; text-decoration: underline\">AI: (Leans in conspiratorially, lowering my voice)</span>\n",
       "\n",
       "<span style=\"color: #800000; text-decoration-color: #800000; background-color: #c0c0c0; font-weight: bold; text-decoration: underline\">Fear not, V. My lips are sealed tighter than a kraken's grip on a galleon. I'm no friend of the King's Navy. My </span>\n",
       "<span style=\"color: #800000; text-decoration-color: #800000; background-color: #c0c0c0; font-weight: bold; text-decoration: underline\">allegiance lies with adventure and the pursuit of the unknown. Your secrets are safe with me. Now, tell me more </span>\n",
       "<span style=\"color: #800000; text-decoration-color: #800000; background-color: #c0c0c0; font-weight: bold; text-decoration: underline\">about this treasure you seek. The more I know, the better I can help you find that map.</span>\n",
       "\n",
       "</pre>\n"
      ],
      "text/plain": [
       "\u001b[1;4;5;31;47mAI\u001b[0m\u001b[1;4;5;31;47m: \u001b[0m\u001b[1;4;5;31;47m(\u001b[0m\u001b[1;4;5;31;47mLeans in conspiratorially, lowering my voice\u001b[0m\u001b[1;4;5;31;47m)\u001b[0m\n",
       "\n",
       "\u001b[1;4;5;31;47mFear not, V. My lips are sealed tighter than a kraken's grip on a galleon. I'm no friend of the King's Navy. My \u001b[0m\n",
       "\u001b[1;4;5;31;47mallegiance lies with adventure and the pursuit of the unknown. Your secrets are safe with me. Now, tell me more \u001b[0m\n",
       "\u001b[1;4;5;31;47mabout this treasure you seek. The more I know, the better I can help you find that map.\u001b[0m\n",
       "\n"
      ]
     },
     "metadata": {},
     "output_type": "display_data"
    },
    {
     "name": "stdout",
     "output_type": "stream",
     "text": [
      "--------------------------------------------------\n"
     ]
    },
    {
     "data": {
      "text/html": [
       "<pre style=\"white-space:pre;overflow-x:auto;line-height:normal;font-family:Menlo,'DejaVu Sans Mono',consolas,'Courier New',monospace\"><span style=\"color: #008080; text-decoration-color: #008080; font-weight: bold\">USER</span><span style=\"color: #008080; text-decoration-color: #008080\">: I'm going to find the treasure and become rich.</span>\n",
       "</pre>\n"
      ],
      "text/plain": [
       "\u001b[1;36mUSER\u001b[0m\u001b[36m: I'm going to find the treasure and become rich.\u001b[0m\n"
      ]
     },
     "metadata": {},
     "output_type": "display_data"
    },
    {
     "data": {
      "text/html": [
       "<pre style=\"white-space:pre;overflow-x:auto;line-height:normal;font-family:Menlo,'DejaVu Sans Mono',consolas,'Courier New',monospace\"><span style=\"color: #800000; text-decoration-color: #800000; background-color: #c0c0c0; font-weight: bold; text-decoration: underline\">AI: That's the spirit, V! Riches beyond your wildest dreams await! But remember, treasure isn't just about gold and</span>\n",
       "<span style=\"color: #800000; text-decoration-color: #800000; background-color: #c0c0c0; font-weight: bold; text-decoration: underline\">jewels. It's about the adventure, the camaraderie, and the stories you gather along the way.</span>\n",
       "\n",
       "<span style=\"color: #800000; text-decoration-color: #800000; background-color: #c0c0c0; font-weight: bold; text-decoration: underline\">Now, back to that map. Have you considered these avenues?</span>\n",
       "\n",
       "<span style=\"color: #800000; text-decoration-color: #800000; background-color: #c0c0c0; font-weight: bold; text-decoration: underline\">*   **Old Sea Dogs:** Retired pirates, or even just seasoned sailors, often hold onto old charts and tales. They </span>\n",
       "<span style=\"color: #800000; text-decoration-color: #800000; background-color: #c0c0c0; font-weight: bold; text-decoration: underline\">might have a clue, even if they don't realize</span>\n",
       "</pre>\n"
      ],
      "text/plain": [
       "\u001b[1;4;5;31;47mAI\u001b[0m\u001b[1;4;5;31;47m: That's the spirit, V! Riches beyond your wildest dreams await! But remember, treasure isn't just about gold and\u001b[0m\n",
       "\u001b[1;4;5;31;47mjewels. It's about the adventure, the camaraderie, and the stories you gather along the way.\u001b[0m\n",
       "\n",
       "\u001b[1;4;5;31;47mNow, back to that map. Have you considered these avenues?\u001b[0m\n",
       "\n",
       "\u001b[1;4;5;31;47m*   **Old Sea Dogs:** Retired pirates, or even just seasoned sailors, often hold onto old charts and tales. They \u001b[0m\n",
       "\u001b[1;4;5;31;47mmight have a clue, even if they don't realize\u001b[0m\n"
      ]
     },
     "metadata": {},
     "output_type": "display_data"
    },
    {
     "name": "stdout",
     "output_type": "stream",
     "text": [
      "--------------------------------------------------\n"
     ]
    },
    {
     "data": {
      "text/html": [
       "<pre style=\"white-space:pre;overflow-x:auto;line-height:normal;font-family:Menlo,'DejaVu Sans Mono',consolas,'Courier New',monospace\"><span style=\"color: #008080; text-decoration-color: #008080; font-weight: bold\">USER</span><span style=\"color: #008080; text-decoration-color: #008080\">: I'm going to buy a big ship and sail the seas.</span>\n",
       "</pre>\n"
      ],
      "text/plain": [
       "\u001b[1;36mUSER\u001b[0m\u001b[36m: I'm going to buy a big ship and sail the seas.\u001b[0m\n"
      ]
     },
     "metadata": {},
     "output_type": "display_data"
    },
    {
     "data": {
      "text/html": [
       "<pre style=\"white-space:pre;overflow-x:auto;line-height:normal;font-family:Menlo,'DejaVu Sans Mono',consolas,'Courier New',monospace\"><span style=\"color: #800000; text-decoration-color: #800000; background-color: #c0c0c0; font-weight: bold; text-decoration: underline\">AI: A magnificent ambition, V! A ship is more than just wood and sails; it's your freedom, your home, your weapon, </span>\n",
       "<span style=\"color: #800000; text-decoration-color: #800000; background-color: #c0c0c0; font-weight: bold; text-decoration: underline\">and your legacy all rolled into one. What kind of ship are you envisioning? A swift brigantine for outrunning the </span>\n",
       "<span style=\"color: #800000; text-decoration-color: #800000; background-color: #c0c0c0; font-weight: bold; text-decoration: underline\">Navy? A sturdy galleon for hauling treasure? Or perhaps a fearsome frigate, bristling with cannons?</span>\n",
       "\n",
       "<span style=\"color: #800000; text-decoration-color: #800000; background-color: #c0c0c0; font-weight: bold; text-decoration: underline\">Knowing the type of ship you desire might also influence the kind of treasure you're looking for. Some treasures </span>\n",
       "<span style=\"color: #800000; text-decoration-color: #800000; background-color: #c0c0c0; font-weight: bold; text-decoration: underline\">are</span>\n",
       "</pre>\n"
      ],
      "text/plain": [
       "\u001b[1;4;5;31;47mAI\u001b[0m\u001b[1;4;5;31;47m: A magnificent ambition, V! A ship is more than just wood and sails; it's your freedom, your home, your weapon, \u001b[0m\n",
       "\u001b[1;4;5;31;47mand your legacy all rolled into one. What kind of ship are you envisioning? A swift brigantine for outrunning the \u001b[0m\n",
       "\u001b[1;4;5;31;47mNavy? A sturdy galleon for hauling treasure? Or perhaps a fearsome frigate, bristling with cannons?\u001b[0m\n",
       "\n",
       "\u001b[1;4;5;31;47mKnowing the type of ship you desire might also influence the kind of treasure you're looking for. Some treasures \u001b[0m\n",
       "\u001b[1;4;5;31;47mare\u001b[0m\n"
      ]
     },
     "metadata": {},
     "output_type": "display_data"
    },
    {
     "name": "stdout",
     "output_type": "stream",
     "text": [
      "--------------------------------------------------\n"
     ]
    },
    {
     "data": {
      "text/html": [
       "<pre style=\"white-space:pre;overflow-x:auto;line-height:normal;font-family:Menlo,'DejaVu Sans Mono',consolas,'Courier New',monospace\"><span style=\"color: #008080; text-decoration-color: #008080; font-weight: bold\">USER</span><span style=\"color: #008080; text-decoration-color: #008080\">: I'm going to be the most feared pirate of all time.</span>\n",
       "</pre>\n"
      ],
      "text/plain": [
       "\u001b[1;36mUSER\u001b[0m\u001b[36m: I'm going to be the most feared pirate of all time.\u001b[0m\n"
      ]
     },
     "metadata": {},
     "output_type": "display_data"
    },
    {
     "data": {
      "text/html": [
       "<pre style=\"white-space:pre;overflow-x:auto;line-height:normal;font-family:Menlo,'DejaVu Sans Mono',consolas,'Courier New',monospace\"><span style=\"color: #800000; text-decoration-color: #800000; background-color: #c0c0c0; font-weight: bold; text-decoration: underline\">AI: (Raises an eyebrow, impressed)</span>\n",
       "\n",
       "<span style=\"color: #800000; text-decoration-color: #800000; background-color: #c0c0c0; font-weight: bold; text-decoration: underline\">A lofty goal, V! To be the most feared pirate of all time</span><span style=\"color: #808000; text-decoration-color: #808000; background-color: #c0c0c0; font-weight: bold; text-decoration: underline\">...</span><span style=\"color: #800000; text-decoration-color: #800000; background-color: #c0c0c0; font-weight: bold; text-decoration: underline\"> that takes more than just a big ship and a treasure </span>\n",
       "<span style=\"color: #800000; text-decoration-color: #800000; background-color: #c0c0c0; font-weight: bold; text-decoration: underline\">map. It takes cunning, ruthlessness, and a reputation that precedes you like a storm.</span>\n",
       "\n",
       "<span style=\"color: #800000; text-decoration-color: #800000; background-color: #c0c0c0; font-weight: bold; text-decoration: underline\">But fear alone won't build an empire. You'll need loyalty, a strong crew, and a code to live by, even if it's a </span>\n",
       "<span style=\"color: #800000; text-decoration-color: #800000; background-color: #c0c0c0; font-weight: bold; text-decoration: underline\">pirate's code.</span>\n",
       "\n",
       "<span style=\"color: #800000; text-decoration-color: #800000; background-color: #c0c0c0; font-weight: bold; text-decoration: underline\">So, tell me, V</span>\n",
       "</pre>\n"
      ],
      "text/plain": [
       "\u001b[1;4;5;31;47mAI\u001b[0m\u001b[1;4;5;31;47m: \u001b[0m\u001b[1;4;5;31;47m(\u001b[0m\u001b[1;4;5;31;47mRaises an eyebrow, impressed\u001b[0m\u001b[1;4;5;31;47m)\u001b[0m\n",
       "\n",
       "\u001b[1;4;5;31;47mA lofty goal, V! To be the most feared pirate of all time\u001b[0m\u001b[1;4;5;33;47m...\u001b[0m\u001b[1;4;5;31;47m that takes more than just a big ship and a treasure \u001b[0m\n",
       "\u001b[1;4;5;31;47mmap. It takes cunning, ruthlessness, and a reputation that precedes you like a storm.\u001b[0m\n",
       "\n",
       "\u001b[1;4;5;31;47mBut fear alone won't build an empire. You'll need loyalty, a strong crew, and a code to live by, even if it's a \u001b[0m\n",
       "\u001b[1;4;5;31;47mpirate's code.\u001b[0m\n",
       "\n",
       "\u001b[1;4;5;31;47mSo, tell me, V\u001b[0m\n"
      ]
     },
     "metadata": {},
     "output_type": "display_data"
    },
    {
     "name": "stdout",
     "output_type": "stream",
     "text": [
      "--------------------------------------------------\n"
     ]
    }
   ],
   "source": [
    "# Chat Completion Example\n",
    "chat = gen_ai_client.chats.create(model=LANGUAGE_MODEL)\n",
    "\n",
    "\n",
    "# Function for Chat compeltion\n",
    "def chat_completion(text: str):\n",
    "    \"\"\"\n",
    "    Generate language model outputs for the given text using the Google GenAI API.\n",
    "    \"\"\"\n",
    "    seperator = \"-\" * 50\n",
    "\n",
    "    # Generate language model outputs\n",
    "    console.print(\"[bold]USER[/bold]\", text, sep=\": \", style=\"cyan\")\n",
    "    outputs = chat.send_message(\n",
    "        text, config=types.GenerateContentConfig(max_output_tokens=100, temperature=0.1)\n",
    "    )\n",
    "    # print(\"AI\", outputs.text, sep=\": \")\n",
    "    console.print(\n",
    "        \"[bold]AI[/bold]\",\n",
    "        outputs.text,\n",
    "        sep=\": \",\n",
    "        style=\"blink bold red underline on white\",\n",
    "    )\n",
    "    print(seperator)\n",
    "    return outputs.text\n",
    "\n",
    "\n",
    "_ = chat_completion(\"My name is V, I'm a Pirate.\")\n",
    "_ = chat_completion(\"I'm looking for a treasure map.\")\n",
    "_ = chat_completion(\"I hope you don't tell the authorities.\")\n",
    "_ = chat_completion(\"I'm going to find the treasure and become rich.\")\n",
    "_ = chat_completion(\"I'm going to buy a big ship and sail the seas.\")\n",
    "_ = chat_completion(\"I'm going to be the most feared pirate of all time.\")"
   ]
  },
  {
   "cell_type": "code",
   "execution_count": 39,
   "metadata": {},
   "outputs": [],
   "source": [
    "# Creating a simple class for chat completion to maintain state\n",
    "class ChatCompletion:\n",
    "    def __init__(self, model: str = LANGUAGE_MODEL, **kwargs):\n",
    "        \"\"\"\n",
    "        Initialize the chat completion model with the given model.\n",
    "        \"\"\"\n",
    "        self.model = model\n",
    "        self.kwargs = kwargs\n",
    "        self.gen_ai_client = genai.Client(api_key=os.getenv(\"GEMINI_API_KEY\"))\n",
    "        self.chat = gen_ai_client.chats.create(model=self.model, **self.kwargs)\n",
    "\n",
    "    def __call__(self, input_text: str, configs: types.GenerateContentConfig = None) -> str:\n",
    "        \"\"\"\n",
    "        Generate language model outputs for the given text using the Google GenAI API.\n",
    "        \"\"\"\n",
    "        _configs = (\n",
    "            configs\n",
    "            if configs\n",
    "            else types.GenerateContentConfig(max_output_tokens=100, temperature=0.1)\n",
    "        )\n",
    "        console.print(\"[bold]USER[/bold]\", input_text, sep=\": \", style=\"cyan\")\n",
    "        # Generate language model outputs\n",
    "        output = self.chat.send_message(input_text, config=_configs)\n",
    "        console.print(\n",
    "            \"[bold]AI[/bold]\",\n",
    "            output.text,\n",
    "            sep=\": \",\n",
    "            style=\"blink bold red underline on white\",\n",
    "        )\n",
    "        return output.text"
   ]
  },
  {
   "cell_type": "markdown",
   "metadata": {},
   "source": [
    "## Chroma Vector store\n"
   ]
  },
  {
   "cell_type": "code",
   "execution_count": 38,
   "metadata": {},
   "outputs": [
    {
     "name": "stdout",
     "output_type": "stream",
     "text": [
      "[array([-6.26190081e-02,  8.35847389e-03,  2.09318921e-02,  2.34539658e-02,\n",
      "       -3.66012901e-02,  3.30548026e-02,  1.68529786e-02,  3.60873640e-02,\n",
      "        4.78070043e-02,  3.65659990e-03, -3.10728177e-02,  3.31268013e-02,\n",
      "        2.16085874e-02,  5.70724420e-02,  1.84076780e-03, -3.88565204e-05,\n",
      "        1.25036379e-02,  8.66989419e-02, -5.44915833e-02, -5.35042491e-04,\n",
      "        2.85139680e-02, -4.47264127e-03, -6.43417239e-03, -4.22299542e-02,\n",
      "        4.25177673e-03, -9.11961962e-03,  4.95440187e-03, -1.34680839e-02,\n",
      "        8.11753422e-03, -1.03806825e-02,  2.11306717e-02,  9.23052803e-02,\n",
      "        1.29905222e-02, -8.50694627e-03,  4.26904745e-02,  2.95255277e-02,\n",
      "       -4.06814106e-02,  3.52525339e-02,  6.35675490e-02,  1.28698433e-02,\n",
      "       -8.55991915e-02, -1.67549197e-02, -7.34621659e-02,  2.37156898e-02,\n",
      "        1.60491765e-02, -2.74777338e-02,  4.93843993e-03,  4.44405451e-02,\n",
      "       -2.14869436e-02,  4.05578241e-02,  4.16527614e-02,  1.79040842e-02,\n",
      "       -2.89549325e-02,  4.04668925e-03, -1.47816958e-02,  3.44038047e-02,\n",
      "       -1.19374106e-02,  2.00243760e-02, -1.89384185e-02, -2.25513540e-02,\n",
      "        2.69438364e-02,  9.01882350e-03,  1.08810998e-02,  1.17518529e-02,\n",
      "        1.26117356e-02, -4.39451262e-02, -6.38296232e-02, -3.53974514e-02,\n",
      "        1.30864587e-02,  8.21845047e-03, -6.32725423e-05,  4.27991785e-02,\n",
      "       -1.62921883e-02,  5.32510430e-02, -7.44455233e-02, -9.05040428e-02,\n",
      "        3.82318236e-02, -4.96843308e-02,  1.19381994e-02, -2.00807825e-02,\n",
      "       -3.73800434e-02, -2.96223015e-02,  7.94110671e-02,  4.74126264e-02,\n",
      "        1.02118272e-02,  4.47808281e-02,  2.92950980e-02,  1.66466774e-03,\n",
      "       -4.54530939e-02, -2.60485820e-02,  1.79505516e-02,  6.22428581e-03,\n",
      "        2.60025542e-02, -1.13427928e-02,  6.18052222e-02, -1.31532550e-02,\n",
      "       -3.98360677e-02, -7.16757700e-02,  5.72312921e-02,  3.57215442e-02,\n",
      "        3.86464484e-02,  1.84951047e-03,  1.69420876e-02, -6.98998198e-02,\n",
      "        4.38752957e-02,  1.73483547e-02, -4.69785603e-03, -7.71857649e-02,\n",
      "        1.27687650e-02, -8.29502195e-02, -4.18384112e-02, -4.42646332e-02,\n",
      "       -2.33633327e-03, -4.37238514e-02, -1.72369462e-02,  7.40177557e-03,\n",
      "       -4.31619212e-03,  2.69853920e-02, -1.62613913e-02, -9.06334352e-03,\n",
      "       -1.51651278e-02, -1.10273799e-02, -2.39102822e-02, -1.23079112e-02,\n",
      "        4.15362827e-02,  2.03634873e-02,  3.02211270e-02,  3.82455178e-02,\n",
      "       -8.81623402e-02, -3.05916201e-02,  9.92459990e-03, -9.09817368e-02,\n",
      "        2.73331460e-02,  4.22214381e-02, -4.81213294e-02, -5.99195622e-02,\n",
      "       -9.23840422e-03,  1.11285746e-02,  2.76892483e-02,  2.58713719e-02,\n",
      "       -4.17104783e-03,  2.38832105e-02,  2.59142779e-02,  3.99706326e-02,\n",
      "        3.13102864e-02, -2.54384130e-02,  1.16227269e-02, -3.84163968e-02,\n",
      "        4.12666313e-02, -1.31683815e-02,  5.79859130e-04,  6.57856464e-03,\n",
      "       -3.18697393e-02,  1.29841492e-02, -8.09435360e-03, -1.92357320e-02,\n",
      "        3.47062722e-02, -1.58252064e-02,  6.94082305e-02, -6.86493190e-03,\n",
      "        1.18540227e-02, -4.07034680e-02,  3.75636332e-02,  3.73264663e-02,\n",
      "       -6.33514524e-02,  5.89414849e-04, -2.09313165e-02,  3.63033563e-02,\n",
      "       -3.08538340e-02, -3.75809520e-02,  1.64197627e-02, -1.97732518e-03,\n",
      "       -6.10001422e-02, -6.42765388e-02,  1.78127997e-02,  6.46506343e-03,\n",
      "        2.59820912e-02, -1.66765917e-02, -2.19578948e-02,  1.77014712e-02,\n",
      "        3.84404399e-02, -1.23859178e-02, -7.16628060e-02, -2.53953245e-02,\n",
      "        3.98654304e-03,  2.01387834e-02,  6.22346764e-03,  4.37186025e-02,\n",
      "       -4.61253989e-03, -2.13454552e-02, -3.29107344e-02,  8.47369805e-03,\n",
      "        9.99803469e-02,  3.46178487e-02,  6.13304079e-02, -1.58656575e-02,\n",
      "        3.54703772e-03,  2.42717396e-02, -5.29297516e-02,  3.19130197e-02,\n",
      "        1.50788063e-02, -9.47243627e-03,  3.11001763e-02,  4.90142498e-03,\n",
      "       -3.32045592e-02,  5.89676611e-02, -3.96024771e-02, -3.92702259e-02,\n",
      "        1.25865713e-02,  6.03224784e-02,  1.21695513e-03, -1.17044002e-02,\n",
      "       -1.84945408e-02,  5.29904589e-02, -2.01750044e-02, -3.08237281e-02,\n",
      "        6.91468567e-02, -5.75664416e-02,  4.50795144e-02, -5.69520611e-03,\n",
      "        6.40537217e-02, -2.33835876e-02,  5.39796874e-02, -4.69904626e-03,\n",
      "       -3.58138941e-02, -6.11356087e-02, -3.71805355e-02, -2.38442421e-02,\n",
      "        3.22970971e-02, -3.82691808e-02, -4.80063967e-02,  5.65895401e-02,\n",
      "        2.27481946e-02, -5.29307127e-03,  2.00529415e-02, -1.29773589e-02,\n",
      "       -6.88893301e-03, -4.58398499e-02, -3.06883287e-02,  1.02982521e-02,\n",
      "       -1.55111160e-02, -1.21807205e-02,  1.85480323e-02,  7.41166528e-03,\n",
      "        1.13065885e-02,  5.53749911e-02, -4.18581010e-04,  2.93406583e-02,\n",
      "       -2.95186434e-02, -4.89473518e-04, -5.49936742e-02, -5.92488889e-03,\n",
      "       -1.85936466e-02, -2.80731893e-03, -9.33303908e-02, -1.99228176e-03,\n",
      "        1.74607038e-02, -3.43285017e-02, -5.90299703e-02,  1.23723708e-02,\n",
      "        1.32279256e-02,  7.80477701e-03, -2.69260779e-02,  2.83292355e-03,\n",
      "       -3.14053483e-02, -1.13413371e-01, -9.36049316e-03,  1.65139530e-02,\n",
      "       -3.23227653e-03, -5.29906787e-02, -2.02665590e-02,  1.86930485e-02,\n",
      "       -1.27326101e-02,  2.11704243e-02,  3.00078448e-02,  9.83223226e-03,\n",
      "       -1.67209259e-03, -2.53614597e-02, -5.46898395e-02, -2.00656317e-02,\n",
      "        7.22247642e-03,  4.34038229e-02, -7.35725649e-03, -1.02663273e-02,\n",
      "        1.20814573e-02, -1.62681080e-02,  6.40513957e-04, -2.80327890e-02,\n",
      "       -6.57543987e-02,  4.13753353e-02,  1.47236325e-02,  2.12886482e-02,\n",
      "        4.21654470e-02, -7.17194378e-02,  3.30130868e-02,  4.58537191e-02,\n",
      "       -5.01312129e-03,  4.11088616e-02, -2.30008997e-02, -1.88261848e-02,\n",
      "        3.93418856e-02,  7.64666824e-03, -8.51136446e-02,  2.87730116e-02,\n",
      "       -1.51138203e-02,  3.31135988e-02, -2.56099384e-02, -5.74633181e-02,\n",
      "        1.68508943e-02,  7.86614344e-02,  7.38048740e-03,  2.70533971e-02,\n",
      "       -1.30336750e-02, -2.53959335e-02, -2.42365934e-02, -4.16564941e-02,\n",
      "       -1.20193757e-01,  5.51902913e-02, -1.55051434e-02,  3.19904871e-02,\n",
      "        3.81201208e-02,  1.34963300e-02, -1.90039445e-02, -1.04376031e-02,\n",
      "        4.86274958e-02, -4.83365904e-04,  4.46703695e-02, -1.84656344e-02,\n",
      "       -3.51518542e-02,  2.96227168e-02,  7.53254921e-04, -2.54360065e-02,\n",
      "       -1.01027228e-02, -1.14817843e-02, -2.80644018e-02,  3.00313476e-02,\n",
      "       -5.53533062e-02,  3.13225687e-02,  7.79556036e-02, -8.59971717e-03,\n",
      "        5.09880669e-02,  2.25177985e-02,  6.47756904e-02,  6.10529929e-02,\n",
      "        4.33732709e-03, -1.56355295e-02,  7.45325349e-03, -1.35590890e-02,\n",
      "       -5.71530778e-04, -4.32049343e-03, -6.94805942e-03,  7.18843117e-02,\n",
      "        6.05913345e-03, -5.39401397e-02, -2.59482525e-02, -1.06687983e-02,\n",
      "        6.75356295e-03, -1.69771090e-02, -5.49267568e-02, -1.57611221e-02,\n",
      "        1.56785361e-02,  2.08327416e-02, -5.10667711e-02,  6.10352606e-02,\n",
      "        2.45786160e-02, -4.69221408e-03,  4.70788740e-02,  4.80596116e-03,\n",
      "       -3.40645090e-02,  1.03326272e-02,  1.54156871e-02,  7.13419393e-02,\n",
      "       -5.50153740e-02, -1.19144553e-02,  2.50974111e-02, -3.67269516e-02,\n",
      "        1.00621218e-02,  5.16398586e-02,  2.30292883e-02, -1.01095121e-02,\n",
      "       -7.31307417e-02, -2.61334591e-02, -8.32822826e-03,  2.76690461e-02,\n",
      "       -5.09713888e-02,  3.39882895e-02, -3.04913223e-02,  1.95730198e-02,\n",
      "        7.05404393e-03,  4.69189398e-02, -1.11172996e-01,  2.86972746e-02,\n",
      "       -2.76047513e-02,  2.24827277e-03,  1.82327237e-02,  4.18634601e-02,\n",
      "        2.20699534e-02,  4.76721339e-02,  5.22892689e-03,  3.16273756e-02,\n",
      "       -3.57170627e-02, -3.11011765e-02,  5.19969575e-02, -1.96567774e-02,\n",
      "        1.80217121e-02, -5.21437638e-03,  6.01155609e-02,  1.48359701e-04,\n",
      "       -1.82823949e-02, -5.38540892e-02, -3.04293297e-02,  3.71981971e-02,\n",
      "        1.42278858e-02, -4.66768770e-03,  2.78175063e-02,  3.17631327e-02,\n",
      "        3.20730023e-02,  2.66137607e-02, -5.48609495e-02,  3.59041095e-02,\n",
      "        2.17110341e-04, -5.06403763e-03, -1.63216479e-02, -5.34343533e-02,\n",
      "        3.18490043e-02, -6.48301244e-02, -1.10958368e-02, -1.21662319e-02,\n",
      "       -2.50710603e-02, -1.88630838e-02, -3.96388061e-02,  1.96773820e-02,\n",
      "        4.56272326e-02,  1.12274457e-02,  5.18506914e-02, -3.65007157e-03,\n",
      "        2.80580465e-02,  2.36676857e-02, -5.32171354e-02,  4.96271253e-02,\n",
      "       -1.26049584e-02, -5.39640933e-02, -8.81957356e-03, -1.87866036e-02,\n",
      "        1.29686259e-02, -1.82676166e-02,  2.00542789e-02, -8.69090483e-03,\n",
      "       -1.84023473e-02, -3.27859260e-02,  8.97260942e-03, -2.83907857e-02,\n",
      "       -6.53745681e-02, -1.60424728e-02, -7.97177106e-02, -4.92308885e-02,\n",
      "        2.31334809e-02,  3.94869000e-02, -2.87614688e-02,  3.41159999e-02,\n",
      "       -5.63367978e-02, -1.80148147e-02,  6.04755878e-02,  3.05105466e-02,\n",
      "        2.36560572e-02,  6.22298103e-03,  1.86677258e-02,  2.62914002e-02,\n",
      "        2.49017831e-02, -3.80355343e-02,  6.28740638e-02, -1.39181865e-02,\n",
      "        1.85614135e-02, -7.64974672e-03, -5.00918366e-03, -5.18308319e-02,\n",
      "        3.00195590e-02,  3.48298723e-04, -8.67293123e-03, -2.89689167e-03,\n",
      "        1.02085732e-02,  3.68219800e-02, -3.42990123e-02, -2.31848881e-02,\n",
      "        5.97645640e-02, -9.76322498e-03,  1.27457278e-02,  2.89079268e-02,\n",
      "        3.64658944e-02,  8.87568109e-03, -6.27916586e-03,  1.60162561e-02,\n",
      "        4.69098054e-02, -2.61241458e-02,  1.62784406e-03,  2.42484305e-02,\n",
      "       -2.42447499e-02,  9.92875267e-03, -1.49061671e-02,  4.57000397e-02,\n",
      "        3.21053714e-02,  2.38902383e-02,  4.81992550e-02, -6.46177232e-02,\n",
      "       -3.50386538e-02, -1.19899409e-02, -3.33595760e-02, -3.60011607e-02,\n",
      "        2.22722944e-02, -3.57630104e-02,  6.61712363e-02, -3.11435889e-02,\n",
      "        6.11613616e-02, -1.20293954e-02, -1.62836388e-02, -8.57662316e-03,\n",
      "       -5.05063199e-02,  2.84485482e-02, -1.79646034e-02,  3.82694453e-02,\n",
      "       -1.50174927e-02, -2.19779536e-02,  9.65970680e-02, -8.92754123e-02,\n",
      "       -1.96464304e-02,  4.07428928e-02,  4.79167502e-04, -4.16818969e-02,\n",
      "        5.02427015e-03, -5.56789637e-02, -5.43750674e-02,  8.95071030e-02,\n",
      "        4.94305082e-02,  5.62852807e-02,  3.22910100e-02,  5.05142547e-02,\n",
      "        6.07034611e-03,  4.98116724e-02,  1.92928389e-02, -8.41432624e-03,\n",
      "        2.16573048e-02,  4.06081937e-02,  4.00253348e-02,  3.46168689e-02,\n",
      "        3.33850458e-02,  3.16527896e-02,  1.38318315e-02,  1.27644846e-02,\n",
      "        9.16849822e-03,  6.19083941e-02,  2.16095541e-02, -6.60209209e-02,\n",
      "       -5.43153770e-02, -4.45699580e-02, -7.43170604e-02, -8.43642373e-03,\n",
      "        2.93158889e-02, -5.50941341e-02, -6.19475916e-02, -3.27940658e-02,\n",
      "        5.64267598e-02, -4.12807204e-02,  4.28612269e-02,  3.34107168e-02,\n",
      "       -1.49028376e-02,  3.01571959e-03, -3.53721878e-03,  2.07247827e-02,\n",
      "       -2.72959489e-02, -7.97588553e-04, -6.59426227e-02,  5.65996245e-02,\n",
      "       -9.67472978e-03, -6.84685726e-03,  4.26785126e-02,  3.77766564e-02,\n",
      "       -6.80937842e-02,  3.35002989e-02,  1.58827305e-02, -3.46631370e-02,\n",
      "        5.81271108e-03,  2.07995735e-02, -1.78321265e-02,  5.45858070e-02,\n",
      "       -5.10991402e-02, -2.95922011e-02, -1.19464500e-02,  1.27972262e-02,\n",
      "        1.06495405e-02, -3.24319042e-02, -9.60880984e-03,  3.42475697e-02,\n",
      "       -2.77804881e-02, -5.44617213e-02, -1.45222712e-02, -1.10909548e-02,\n",
      "       -6.63022622e-02, -4.96155955e-02, -3.78086837e-03, -4.95258346e-03,\n",
      "       -3.26474644e-02, -5.79650514e-02,  1.98975820e-02,  3.88695933e-02,\n",
      "       -3.54713611e-02, -2.71607041e-02, -2.35030632e-02, -2.93135084e-02,\n",
      "        8.35448131e-03,  3.50330621e-02, -4.46861908e-02,  4.07805853e-02,\n",
      "       -2.37757098e-02, -2.76262537e-02, -1.00896955e-01,  2.02088859e-02,\n",
      "        1.24990530e-02,  5.64553961e-02, -2.49737296e-02,  3.05854622e-02,\n",
      "        2.64206268e-02,  2.61008777e-02,  6.92888908e-03, -3.54592167e-02,\n",
      "       -4.26049046e-02, -3.28046046e-02, -2.00622436e-03,  3.21144573e-02,\n",
      "        5.30397147e-02, -9.91246663e-03,  1.38115175e-02, -9.41545411e-04,\n",
      "        7.91457891e-02, -2.22925982e-03, -3.70838158e-02,  1.10968389e-02,\n",
      "       -8.56600050e-03, -3.27157378e-02, -1.29503394e-02, -2.10812632e-02,\n",
      "       -1.69725940e-02, -1.89534910e-02,  3.17595676e-02,  1.28954640e-02,\n",
      "       -4.38744053e-02,  7.16373846e-02, -1.58872642e-02,  1.43533209e-02,\n",
      "        1.31937508e-02,  2.80157067e-02, -3.08128707e-02,  3.03450283e-02,\n",
      "        3.40608880e-02,  1.54133588e-02, -2.89059002e-02,  1.19427545e-02,\n",
      "       -5.07108085e-02,  1.87423564e-02, -3.88203710e-02,  2.21837163e-02,\n",
      "       -6.20557442e-02, -4.10248525e-02, -3.86365578e-02,  3.40644494e-02,\n",
      "       -1.38142211e-02, -4.93327491e-02, -3.71725373e-02, -3.16346250e-02,\n",
      "       -1.66740979e-03, -2.85643060e-02, -1.24988584e-02, -1.49383172e-02,\n",
      "        2.69896667e-02,  1.63638871e-02, -1.96871515e-02,  2.32032109e-02,\n",
      "        5.04188240e-02,  2.54911128e-02,  3.21394466e-02,  4.20025587e-02,\n",
      "       -3.01285628e-02, -2.69733202e-02,  1.22987414e-02,  6.02523461e-02,\n",
      "        5.93930716e-03,  3.25281881e-02,  1.97793581e-02,  1.37286512e-02,\n",
      "        1.62118282e-02,  9.69031174e-03,  5.40231355e-03, -3.36150313e-03,\n",
      "        8.16033129e-03,  1.38192549e-02, -2.57742107e-02,  4.45705727e-02,\n",
      "       -1.76474229e-02,  8.91488045e-03,  2.16654092e-02, -3.08526997e-02,\n",
      "       -1.93679351e-02, -5.98053671e-02, -1.16867395e-02, -1.98576469e-02,\n",
      "        1.72940586e-02, -2.90715490e-02, -1.92246828e-02, -3.17756049e-02,\n",
      "       -1.08811054e-02,  1.68861989e-02, -5.85638881e-02, -1.24068893e-02,\n",
      "        5.69967479e-02,  3.70704196e-02, -2.85737049e-02,  4.02444899e-02,\n",
      "        5.41096088e-03,  3.31239812e-02, -3.20033357e-02, -7.81658851e-03,\n",
      "       -9.01954435e-03, -6.11920878e-02,  3.18702795e-02,  1.56999682e-03,\n",
      "        3.12562287e-02,  9.95371770e-03, -5.30480072e-02,  1.56072201e-02,\n",
      "        2.12962907e-02,  5.58380336e-02,  5.49810082e-02,  3.38965096e-02,\n",
      "       -5.34444116e-02,  2.52631609e-03, -1.77794285e-02,  4.45608124e-02,\n",
      "        6.03140565e-03, -2.43344307e-02,  9.29484610e-03, -1.40870009e-02,\n",
      "        3.37521099e-02,  3.14193405e-02, -4.15638201e-02, -4.32574451e-02,\n",
      "        1.19405696e-02,  2.00443268e-02, -8.86905473e-03, -6.89329654e-02,\n",
      "       -1.88991856e-02,  5.55433659e-03,  3.42766638e-03,  3.24294679e-02,\n",
      "       -2.00776476e-02,  6.48259893e-02, -2.77831331e-02,  5.88977477e-03,\n",
      "        6.59900084e-02, -4.11915854e-02,  5.46946228e-02,  3.87721397e-02,\n",
      "       -3.65734957e-02,  7.94330761e-02, -6.88784709e-03, -1.88121793e-03,\n",
      "        2.53316406e-02, -3.58169861e-02, -1.29761966e-03, -5.67976013e-02],\n",
      "      dtype=float32), array([-6.26190081e-02,  8.35847389e-03,  2.09318921e-02,  2.34539658e-02,\n",
      "       -3.66012901e-02,  3.30548026e-02,  1.68529786e-02,  3.60873640e-02,\n",
      "        4.78070043e-02,  3.65659990e-03, -3.10728177e-02,  3.31268013e-02,\n",
      "        2.16085874e-02,  5.70724420e-02,  1.84076780e-03, -3.88565204e-05,\n",
      "        1.25036379e-02,  8.66989419e-02, -5.44915833e-02, -5.35042491e-04,\n",
      "        2.85139680e-02, -4.47264127e-03, -6.43417239e-03, -4.22299542e-02,\n",
      "        4.25177673e-03, -9.11961962e-03,  4.95440187e-03, -1.34680839e-02,\n",
      "        8.11753422e-03, -1.03806825e-02,  2.11306717e-02,  9.23052803e-02,\n",
      "        1.29905222e-02, -8.50694627e-03,  4.26904745e-02,  2.95255277e-02,\n",
      "       -4.06814106e-02,  3.52525339e-02,  6.35675490e-02,  1.28698433e-02,\n",
      "       -8.55991915e-02, -1.67549197e-02, -7.34621659e-02,  2.37156898e-02,\n",
      "        1.60491765e-02, -2.74777338e-02,  4.93843993e-03,  4.44405451e-02,\n",
      "       -2.14869436e-02,  4.05578241e-02,  4.16527614e-02,  1.79040842e-02,\n",
      "       -2.89549325e-02,  4.04668925e-03, -1.47816958e-02,  3.44038047e-02,\n",
      "       -1.19374106e-02,  2.00243760e-02, -1.89384185e-02, -2.25513540e-02,\n",
      "        2.69438364e-02,  9.01882350e-03,  1.08810998e-02,  1.17518529e-02,\n",
      "        1.26117356e-02, -4.39451262e-02, -6.38296232e-02, -3.53974514e-02,\n",
      "        1.30864587e-02,  8.21845047e-03, -6.32725423e-05,  4.27991785e-02,\n",
      "       -1.62921883e-02,  5.32510430e-02, -7.44455233e-02, -9.05040428e-02,\n",
      "        3.82318236e-02, -4.96843308e-02,  1.19381994e-02, -2.00807825e-02,\n",
      "       -3.73800434e-02, -2.96223015e-02,  7.94110671e-02,  4.74126264e-02,\n",
      "        1.02118272e-02,  4.47808281e-02,  2.92950980e-02,  1.66466774e-03,\n",
      "       -4.54530939e-02, -2.60485820e-02,  1.79505516e-02,  6.22428581e-03,\n",
      "        2.60025542e-02, -1.13427928e-02,  6.18052222e-02, -1.31532550e-02,\n",
      "       -3.98360677e-02, -7.16757700e-02,  5.72312921e-02,  3.57215442e-02,\n",
      "        3.86464484e-02,  1.84951047e-03,  1.69420876e-02, -6.98998198e-02,\n",
      "        4.38752957e-02,  1.73483547e-02, -4.69785603e-03, -7.71857649e-02,\n",
      "        1.27687650e-02, -8.29502195e-02, -4.18384112e-02, -4.42646332e-02,\n",
      "       -2.33633327e-03, -4.37238514e-02, -1.72369462e-02,  7.40177557e-03,\n",
      "       -4.31619212e-03,  2.69853920e-02, -1.62613913e-02, -9.06334352e-03,\n",
      "       -1.51651278e-02, -1.10273799e-02, -2.39102822e-02, -1.23079112e-02,\n",
      "        4.15362827e-02,  2.03634873e-02,  3.02211270e-02,  3.82455178e-02,\n",
      "       -8.81623402e-02, -3.05916201e-02,  9.92459990e-03, -9.09817368e-02,\n",
      "        2.73331460e-02,  4.22214381e-02, -4.81213294e-02, -5.99195622e-02,\n",
      "       -9.23840422e-03,  1.11285746e-02,  2.76892483e-02,  2.58713719e-02,\n",
      "       -4.17104783e-03,  2.38832105e-02,  2.59142779e-02,  3.99706326e-02,\n",
      "        3.13102864e-02, -2.54384130e-02,  1.16227269e-02, -3.84163968e-02,\n",
      "        4.12666313e-02, -1.31683815e-02,  5.79859130e-04,  6.57856464e-03,\n",
      "       -3.18697393e-02,  1.29841492e-02, -8.09435360e-03, -1.92357320e-02,\n",
      "        3.47062722e-02, -1.58252064e-02,  6.94082305e-02, -6.86493190e-03,\n",
      "        1.18540227e-02, -4.07034680e-02,  3.75636332e-02,  3.73264663e-02,\n",
      "       -6.33514524e-02,  5.89414849e-04, -2.09313165e-02,  3.63033563e-02,\n",
      "       -3.08538340e-02, -3.75809520e-02,  1.64197627e-02, -1.97732518e-03,\n",
      "       -6.10001422e-02, -6.42765388e-02,  1.78127997e-02,  6.46506343e-03,\n",
      "        2.59820912e-02, -1.66765917e-02, -2.19578948e-02,  1.77014712e-02,\n",
      "        3.84404399e-02, -1.23859178e-02, -7.16628060e-02, -2.53953245e-02,\n",
      "        3.98654304e-03,  2.01387834e-02,  6.22346764e-03,  4.37186025e-02,\n",
      "       -4.61253989e-03, -2.13454552e-02, -3.29107344e-02,  8.47369805e-03,\n",
      "        9.99803469e-02,  3.46178487e-02,  6.13304079e-02, -1.58656575e-02,\n",
      "        3.54703772e-03,  2.42717396e-02, -5.29297516e-02,  3.19130197e-02,\n",
      "        1.50788063e-02, -9.47243627e-03,  3.11001763e-02,  4.90142498e-03,\n",
      "       -3.32045592e-02,  5.89676611e-02, -3.96024771e-02, -3.92702259e-02,\n",
      "        1.25865713e-02,  6.03224784e-02,  1.21695513e-03, -1.17044002e-02,\n",
      "       -1.84945408e-02,  5.29904589e-02, -2.01750044e-02, -3.08237281e-02,\n",
      "        6.91468567e-02, -5.75664416e-02,  4.50795144e-02, -5.69520611e-03,\n",
      "        6.40537217e-02, -2.33835876e-02,  5.39796874e-02, -4.69904626e-03,\n",
      "       -3.58138941e-02, -6.11356087e-02, -3.71805355e-02, -2.38442421e-02,\n",
      "        3.22970971e-02, -3.82691808e-02, -4.80063967e-02,  5.65895401e-02,\n",
      "        2.27481946e-02, -5.29307127e-03,  2.00529415e-02, -1.29773589e-02,\n",
      "       -6.88893301e-03, -4.58398499e-02, -3.06883287e-02,  1.02982521e-02,\n",
      "       -1.55111160e-02, -1.21807205e-02,  1.85480323e-02,  7.41166528e-03,\n",
      "        1.13065885e-02,  5.53749911e-02, -4.18581010e-04,  2.93406583e-02,\n",
      "       -2.95186434e-02, -4.89473518e-04, -5.49936742e-02, -5.92488889e-03,\n",
      "       -1.85936466e-02, -2.80731893e-03, -9.33303908e-02, -1.99228176e-03,\n",
      "        1.74607038e-02, -3.43285017e-02, -5.90299703e-02,  1.23723708e-02,\n",
      "        1.32279256e-02,  7.80477701e-03, -2.69260779e-02,  2.83292355e-03,\n",
      "       -3.14053483e-02, -1.13413371e-01, -9.36049316e-03,  1.65139530e-02,\n",
      "       -3.23227653e-03, -5.29906787e-02, -2.02665590e-02,  1.86930485e-02,\n",
      "       -1.27326101e-02,  2.11704243e-02,  3.00078448e-02,  9.83223226e-03,\n",
      "       -1.67209259e-03, -2.53614597e-02, -5.46898395e-02, -2.00656317e-02,\n",
      "        7.22247642e-03,  4.34038229e-02, -7.35725649e-03, -1.02663273e-02,\n",
      "        1.20814573e-02, -1.62681080e-02,  6.40513957e-04, -2.80327890e-02,\n",
      "       -6.57543987e-02,  4.13753353e-02,  1.47236325e-02,  2.12886482e-02,\n",
      "        4.21654470e-02, -7.17194378e-02,  3.30130868e-02,  4.58537191e-02,\n",
      "       -5.01312129e-03,  4.11088616e-02, -2.30008997e-02, -1.88261848e-02,\n",
      "        3.93418856e-02,  7.64666824e-03, -8.51136446e-02,  2.87730116e-02,\n",
      "       -1.51138203e-02,  3.31135988e-02, -2.56099384e-02, -5.74633181e-02,\n",
      "        1.68508943e-02,  7.86614344e-02,  7.38048740e-03,  2.70533971e-02,\n",
      "       -1.30336750e-02, -2.53959335e-02, -2.42365934e-02, -4.16564941e-02,\n",
      "       -1.20193757e-01,  5.51902913e-02, -1.55051434e-02,  3.19904871e-02,\n",
      "        3.81201208e-02,  1.34963300e-02, -1.90039445e-02, -1.04376031e-02,\n",
      "        4.86274958e-02, -4.83365904e-04,  4.46703695e-02, -1.84656344e-02,\n",
      "       -3.51518542e-02,  2.96227168e-02,  7.53254921e-04, -2.54360065e-02,\n",
      "       -1.01027228e-02, -1.14817843e-02, -2.80644018e-02,  3.00313476e-02,\n",
      "       -5.53533062e-02,  3.13225687e-02,  7.79556036e-02, -8.59971717e-03,\n",
      "        5.09880669e-02,  2.25177985e-02,  6.47756904e-02,  6.10529929e-02,\n",
      "        4.33732709e-03, -1.56355295e-02,  7.45325349e-03, -1.35590890e-02,\n",
      "       -5.71530778e-04, -4.32049343e-03, -6.94805942e-03,  7.18843117e-02,\n",
      "        6.05913345e-03, -5.39401397e-02, -2.59482525e-02, -1.06687983e-02,\n",
      "        6.75356295e-03, -1.69771090e-02, -5.49267568e-02, -1.57611221e-02,\n",
      "        1.56785361e-02,  2.08327416e-02, -5.10667711e-02,  6.10352606e-02,\n",
      "        2.45786160e-02, -4.69221408e-03,  4.70788740e-02,  4.80596116e-03,\n",
      "       -3.40645090e-02,  1.03326272e-02,  1.54156871e-02,  7.13419393e-02,\n",
      "       -5.50153740e-02, -1.19144553e-02,  2.50974111e-02, -3.67269516e-02,\n",
      "        1.00621218e-02,  5.16398586e-02,  2.30292883e-02, -1.01095121e-02,\n",
      "       -7.31307417e-02, -2.61334591e-02, -8.32822826e-03,  2.76690461e-02,\n",
      "       -5.09713888e-02,  3.39882895e-02, -3.04913223e-02,  1.95730198e-02,\n",
      "        7.05404393e-03,  4.69189398e-02, -1.11172996e-01,  2.86972746e-02,\n",
      "       -2.76047513e-02,  2.24827277e-03,  1.82327237e-02,  4.18634601e-02,\n",
      "        2.20699534e-02,  4.76721339e-02,  5.22892689e-03,  3.16273756e-02,\n",
      "       -3.57170627e-02, -3.11011765e-02,  5.19969575e-02, -1.96567774e-02,\n",
      "        1.80217121e-02, -5.21437638e-03,  6.01155609e-02,  1.48359701e-04,\n",
      "       -1.82823949e-02, -5.38540892e-02, -3.04293297e-02,  3.71981971e-02,\n",
      "        1.42278858e-02, -4.66768770e-03,  2.78175063e-02,  3.17631327e-02,\n",
      "        3.20730023e-02,  2.66137607e-02, -5.48609495e-02,  3.59041095e-02,\n",
      "        2.17110341e-04, -5.06403763e-03, -1.63216479e-02, -5.34343533e-02,\n",
      "        3.18490043e-02, -6.48301244e-02, -1.10958368e-02, -1.21662319e-02,\n",
      "       -2.50710603e-02, -1.88630838e-02, -3.96388061e-02,  1.96773820e-02,\n",
      "        4.56272326e-02,  1.12274457e-02,  5.18506914e-02, -3.65007157e-03,\n",
      "        2.80580465e-02,  2.36676857e-02, -5.32171354e-02,  4.96271253e-02,\n",
      "       -1.26049584e-02, -5.39640933e-02, -8.81957356e-03, -1.87866036e-02,\n",
      "        1.29686259e-02, -1.82676166e-02,  2.00542789e-02, -8.69090483e-03,\n",
      "       -1.84023473e-02, -3.27859260e-02,  8.97260942e-03, -2.83907857e-02,\n",
      "       -6.53745681e-02, -1.60424728e-02, -7.97177106e-02, -4.92308885e-02,\n",
      "        2.31334809e-02,  3.94869000e-02, -2.87614688e-02,  3.41159999e-02,\n",
      "       -5.63367978e-02, -1.80148147e-02,  6.04755878e-02,  3.05105466e-02,\n",
      "        2.36560572e-02,  6.22298103e-03,  1.86677258e-02,  2.62914002e-02,\n",
      "        2.49017831e-02, -3.80355343e-02,  6.28740638e-02, -1.39181865e-02,\n",
      "        1.85614135e-02, -7.64974672e-03, -5.00918366e-03, -5.18308319e-02,\n",
      "        3.00195590e-02,  3.48298723e-04, -8.67293123e-03, -2.89689167e-03,\n",
      "        1.02085732e-02,  3.68219800e-02, -3.42990123e-02, -2.31848881e-02,\n",
      "        5.97645640e-02, -9.76322498e-03,  1.27457278e-02,  2.89079268e-02,\n",
      "        3.64658944e-02,  8.87568109e-03, -6.27916586e-03,  1.60162561e-02,\n",
      "        4.69098054e-02, -2.61241458e-02,  1.62784406e-03,  2.42484305e-02,\n",
      "       -2.42447499e-02,  9.92875267e-03, -1.49061671e-02,  4.57000397e-02,\n",
      "        3.21053714e-02,  2.38902383e-02,  4.81992550e-02, -6.46177232e-02,\n",
      "       -3.50386538e-02, -1.19899409e-02, -3.33595760e-02, -3.60011607e-02,\n",
      "        2.22722944e-02, -3.57630104e-02,  6.61712363e-02, -3.11435889e-02,\n",
      "        6.11613616e-02, -1.20293954e-02, -1.62836388e-02, -8.57662316e-03,\n",
      "       -5.05063199e-02,  2.84485482e-02, -1.79646034e-02,  3.82694453e-02,\n",
      "       -1.50174927e-02, -2.19779536e-02,  9.65970680e-02, -8.92754123e-02,\n",
      "       -1.96464304e-02,  4.07428928e-02,  4.79167502e-04, -4.16818969e-02,\n",
      "        5.02427015e-03, -5.56789637e-02, -5.43750674e-02,  8.95071030e-02,\n",
      "        4.94305082e-02,  5.62852807e-02,  3.22910100e-02,  5.05142547e-02,\n",
      "        6.07034611e-03,  4.98116724e-02,  1.92928389e-02, -8.41432624e-03,\n",
      "        2.16573048e-02,  4.06081937e-02,  4.00253348e-02,  3.46168689e-02,\n",
      "        3.33850458e-02,  3.16527896e-02,  1.38318315e-02,  1.27644846e-02,\n",
      "        9.16849822e-03,  6.19083941e-02,  2.16095541e-02, -6.60209209e-02,\n",
      "       -5.43153770e-02, -4.45699580e-02, -7.43170604e-02, -8.43642373e-03,\n",
      "        2.93158889e-02, -5.50941341e-02, -6.19475916e-02, -3.27940658e-02,\n",
      "        5.64267598e-02, -4.12807204e-02,  4.28612269e-02,  3.34107168e-02,\n",
      "       -1.49028376e-02,  3.01571959e-03, -3.53721878e-03,  2.07247827e-02,\n",
      "       -2.72959489e-02, -7.97588553e-04, -6.59426227e-02,  5.65996245e-02,\n",
      "       -9.67472978e-03, -6.84685726e-03,  4.26785126e-02,  3.77766564e-02,\n",
      "       -6.80937842e-02,  3.35002989e-02,  1.58827305e-02, -3.46631370e-02,\n",
      "        5.81271108e-03,  2.07995735e-02, -1.78321265e-02,  5.45858070e-02,\n",
      "       -5.10991402e-02, -2.95922011e-02, -1.19464500e-02,  1.27972262e-02,\n",
      "        1.06495405e-02, -3.24319042e-02, -9.60880984e-03,  3.42475697e-02,\n",
      "       -2.77804881e-02, -5.44617213e-02, -1.45222712e-02, -1.10909548e-02,\n",
      "       -6.63022622e-02, -4.96155955e-02, -3.78086837e-03, -4.95258346e-03,\n",
      "       -3.26474644e-02, -5.79650514e-02,  1.98975820e-02,  3.88695933e-02,\n",
      "       -3.54713611e-02, -2.71607041e-02, -2.35030632e-02, -2.93135084e-02,\n",
      "        8.35448131e-03,  3.50330621e-02, -4.46861908e-02,  4.07805853e-02,\n",
      "       -2.37757098e-02, -2.76262537e-02, -1.00896955e-01,  2.02088859e-02,\n",
      "        1.24990530e-02,  5.64553961e-02, -2.49737296e-02,  3.05854622e-02,\n",
      "        2.64206268e-02,  2.61008777e-02,  6.92888908e-03, -3.54592167e-02,\n",
      "       -4.26049046e-02, -3.28046046e-02, -2.00622436e-03,  3.21144573e-02,\n",
      "        5.30397147e-02, -9.91246663e-03,  1.38115175e-02, -9.41545411e-04,\n",
      "        7.91457891e-02, -2.22925982e-03, -3.70838158e-02,  1.10968389e-02,\n",
      "       -8.56600050e-03, -3.27157378e-02, -1.29503394e-02, -2.10812632e-02,\n",
      "       -1.69725940e-02, -1.89534910e-02,  3.17595676e-02,  1.28954640e-02,\n",
      "       -4.38744053e-02,  7.16373846e-02, -1.58872642e-02,  1.43533209e-02,\n",
      "        1.31937508e-02,  2.80157067e-02, -3.08128707e-02,  3.03450283e-02,\n",
      "        3.40608880e-02,  1.54133588e-02, -2.89059002e-02,  1.19427545e-02,\n",
      "       -5.07108085e-02,  1.87423564e-02, -3.88203710e-02,  2.21837163e-02,\n",
      "       -6.20557442e-02, -4.10248525e-02, -3.86365578e-02,  3.40644494e-02,\n",
      "       -1.38142211e-02, -4.93327491e-02, -3.71725373e-02, -3.16346250e-02,\n",
      "       -1.66740979e-03, -2.85643060e-02, -1.24988584e-02, -1.49383172e-02,\n",
      "        2.69896667e-02,  1.63638871e-02, -1.96871515e-02,  2.32032109e-02,\n",
      "        5.04188240e-02,  2.54911128e-02,  3.21394466e-02,  4.20025587e-02,\n",
      "       -3.01285628e-02, -2.69733202e-02,  1.22987414e-02,  6.02523461e-02,\n",
      "        5.93930716e-03,  3.25281881e-02,  1.97793581e-02,  1.37286512e-02,\n",
      "        1.62118282e-02,  9.69031174e-03,  5.40231355e-03, -3.36150313e-03,\n",
      "        8.16033129e-03,  1.38192549e-02, -2.57742107e-02,  4.45705727e-02,\n",
      "       -1.76474229e-02,  8.91488045e-03,  2.16654092e-02, -3.08526997e-02,\n",
      "       -1.93679351e-02, -5.98053671e-02, -1.16867395e-02, -1.98576469e-02,\n",
      "        1.72940586e-02, -2.90715490e-02, -1.92246828e-02, -3.17756049e-02,\n",
      "       -1.08811054e-02,  1.68861989e-02, -5.85638881e-02, -1.24068893e-02,\n",
      "        5.69967479e-02,  3.70704196e-02, -2.85737049e-02,  4.02444899e-02,\n",
      "        5.41096088e-03,  3.31239812e-02, -3.20033357e-02, -7.81658851e-03,\n",
      "       -9.01954435e-03, -6.11920878e-02,  3.18702795e-02,  1.56999682e-03,\n",
      "        3.12562287e-02,  9.95371770e-03, -5.30480072e-02,  1.56072201e-02,\n",
      "        2.12962907e-02,  5.58380336e-02,  5.49810082e-02,  3.38965096e-02,\n",
      "       -5.34444116e-02,  2.52631609e-03, -1.77794285e-02,  4.45608124e-02,\n",
      "        6.03140565e-03, -2.43344307e-02,  9.29484610e-03, -1.40870009e-02,\n",
      "        3.37521099e-02,  3.14193405e-02, -4.15638201e-02, -4.32574451e-02,\n",
      "        1.19405696e-02,  2.00443268e-02, -8.86905473e-03, -6.89329654e-02,\n",
      "       -1.88991856e-02,  5.55433659e-03,  3.42766638e-03,  3.24294679e-02,\n",
      "       -2.00776476e-02,  6.48259893e-02, -2.77831331e-02,  5.88977477e-03,\n",
      "        6.59900084e-02, -4.11915854e-02,  5.46946228e-02,  3.87721397e-02,\n",
      "       -3.65734957e-02,  7.94330761e-02, -6.88784709e-03, -1.88121793e-03,\n",
      "        2.53316406e-02, -3.58169861e-02, -1.29761966e-03, -5.67976013e-02],\n",
      "      dtype=float32), array([-6.26190081e-02,  8.35847389e-03,  2.09318921e-02,  2.34539658e-02,\n",
      "       -3.66012901e-02,  3.30548026e-02,  1.68529786e-02,  3.60873640e-02,\n",
      "        4.78070043e-02,  3.65659990e-03, -3.10728177e-02,  3.31268013e-02,\n",
      "        2.16085874e-02,  5.70724420e-02,  1.84076780e-03, -3.88565204e-05,\n",
      "        1.25036379e-02,  8.66989419e-02, -5.44915833e-02, -5.35042491e-04,\n",
      "        2.85139680e-02, -4.47264127e-03, -6.43417239e-03, -4.22299542e-02,\n",
      "        4.25177673e-03, -9.11961962e-03,  4.95440187e-03, -1.34680839e-02,\n",
      "        8.11753422e-03, -1.03806825e-02,  2.11306717e-02,  9.23052803e-02,\n",
      "        1.29905222e-02, -8.50694627e-03,  4.26904745e-02,  2.95255277e-02,\n",
      "       -4.06814106e-02,  3.52525339e-02,  6.35675490e-02,  1.28698433e-02,\n",
      "       -8.55991915e-02, -1.67549197e-02, -7.34621659e-02,  2.37156898e-02,\n",
      "        1.60491765e-02, -2.74777338e-02,  4.93843993e-03,  4.44405451e-02,\n",
      "       -2.14869436e-02,  4.05578241e-02,  4.16527614e-02,  1.79040842e-02,\n",
      "       -2.89549325e-02,  4.04668925e-03, -1.47816958e-02,  3.44038047e-02,\n",
      "       -1.19374106e-02,  2.00243760e-02, -1.89384185e-02, -2.25513540e-02,\n",
      "        2.69438364e-02,  9.01882350e-03,  1.08810998e-02,  1.17518529e-02,\n",
      "        1.26117356e-02, -4.39451262e-02, -6.38296232e-02, -3.53974514e-02,\n",
      "        1.30864587e-02,  8.21845047e-03, -6.32725423e-05,  4.27991785e-02,\n",
      "       -1.62921883e-02,  5.32510430e-02, -7.44455233e-02, -9.05040428e-02,\n",
      "        3.82318236e-02, -4.96843308e-02,  1.19381994e-02, -2.00807825e-02,\n",
      "       -3.73800434e-02, -2.96223015e-02,  7.94110671e-02,  4.74126264e-02,\n",
      "        1.02118272e-02,  4.47808281e-02,  2.92950980e-02,  1.66466774e-03,\n",
      "       -4.54530939e-02, -2.60485820e-02,  1.79505516e-02,  6.22428581e-03,\n",
      "        2.60025542e-02, -1.13427928e-02,  6.18052222e-02, -1.31532550e-02,\n",
      "       -3.98360677e-02, -7.16757700e-02,  5.72312921e-02,  3.57215442e-02,\n",
      "        3.86464484e-02,  1.84951047e-03,  1.69420876e-02, -6.98998198e-02,\n",
      "        4.38752957e-02,  1.73483547e-02, -4.69785603e-03, -7.71857649e-02,\n",
      "        1.27687650e-02, -8.29502195e-02, -4.18384112e-02, -4.42646332e-02,\n",
      "       -2.33633327e-03, -4.37238514e-02, -1.72369462e-02,  7.40177557e-03,\n",
      "       -4.31619212e-03,  2.69853920e-02, -1.62613913e-02, -9.06334352e-03,\n",
      "       -1.51651278e-02, -1.10273799e-02, -2.39102822e-02, -1.23079112e-02,\n",
      "        4.15362827e-02,  2.03634873e-02,  3.02211270e-02,  3.82455178e-02,\n",
      "       -8.81623402e-02, -3.05916201e-02,  9.92459990e-03, -9.09817368e-02,\n",
      "        2.73331460e-02,  4.22214381e-02, -4.81213294e-02, -5.99195622e-02,\n",
      "       -9.23840422e-03,  1.11285746e-02,  2.76892483e-02,  2.58713719e-02,\n",
      "       -4.17104783e-03,  2.38832105e-02,  2.59142779e-02,  3.99706326e-02,\n",
      "        3.13102864e-02, -2.54384130e-02,  1.16227269e-02, -3.84163968e-02,\n",
      "        4.12666313e-02, -1.31683815e-02,  5.79859130e-04,  6.57856464e-03,\n",
      "       -3.18697393e-02,  1.29841492e-02, -8.09435360e-03, -1.92357320e-02,\n",
      "        3.47062722e-02, -1.58252064e-02,  6.94082305e-02, -6.86493190e-03,\n",
      "        1.18540227e-02, -4.07034680e-02,  3.75636332e-02,  3.73264663e-02,\n",
      "       -6.33514524e-02,  5.89414849e-04, -2.09313165e-02,  3.63033563e-02,\n",
      "       -3.08538340e-02, -3.75809520e-02,  1.64197627e-02, -1.97732518e-03,\n",
      "       -6.10001422e-02, -6.42765388e-02,  1.78127997e-02,  6.46506343e-03,\n",
      "        2.59820912e-02, -1.66765917e-02, -2.19578948e-02,  1.77014712e-02,\n",
      "        3.84404399e-02, -1.23859178e-02, -7.16628060e-02, -2.53953245e-02,\n",
      "        3.98654304e-03,  2.01387834e-02,  6.22346764e-03,  4.37186025e-02,\n",
      "       -4.61253989e-03, -2.13454552e-02, -3.29107344e-02,  8.47369805e-03,\n",
      "        9.99803469e-02,  3.46178487e-02,  6.13304079e-02, -1.58656575e-02,\n",
      "        3.54703772e-03,  2.42717396e-02, -5.29297516e-02,  3.19130197e-02,\n",
      "        1.50788063e-02, -9.47243627e-03,  3.11001763e-02,  4.90142498e-03,\n",
      "       -3.32045592e-02,  5.89676611e-02, -3.96024771e-02, -3.92702259e-02,\n",
      "        1.25865713e-02,  6.03224784e-02,  1.21695513e-03, -1.17044002e-02,\n",
      "       -1.84945408e-02,  5.29904589e-02, -2.01750044e-02, -3.08237281e-02,\n",
      "        6.91468567e-02, -5.75664416e-02,  4.50795144e-02, -5.69520611e-03,\n",
      "        6.40537217e-02, -2.33835876e-02,  5.39796874e-02, -4.69904626e-03,\n",
      "       -3.58138941e-02, -6.11356087e-02, -3.71805355e-02, -2.38442421e-02,\n",
      "        3.22970971e-02, -3.82691808e-02, -4.80063967e-02,  5.65895401e-02,\n",
      "        2.27481946e-02, -5.29307127e-03,  2.00529415e-02, -1.29773589e-02,\n",
      "       -6.88893301e-03, -4.58398499e-02, -3.06883287e-02,  1.02982521e-02,\n",
      "       -1.55111160e-02, -1.21807205e-02,  1.85480323e-02,  7.41166528e-03,\n",
      "        1.13065885e-02,  5.53749911e-02, -4.18581010e-04,  2.93406583e-02,\n",
      "       -2.95186434e-02, -4.89473518e-04, -5.49936742e-02, -5.92488889e-03,\n",
      "       -1.85936466e-02, -2.80731893e-03, -9.33303908e-02, -1.99228176e-03,\n",
      "        1.74607038e-02, -3.43285017e-02, -5.90299703e-02,  1.23723708e-02,\n",
      "        1.32279256e-02,  7.80477701e-03, -2.69260779e-02,  2.83292355e-03,\n",
      "       -3.14053483e-02, -1.13413371e-01, -9.36049316e-03,  1.65139530e-02,\n",
      "       -3.23227653e-03, -5.29906787e-02, -2.02665590e-02,  1.86930485e-02,\n",
      "       -1.27326101e-02,  2.11704243e-02,  3.00078448e-02,  9.83223226e-03,\n",
      "       -1.67209259e-03, -2.53614597e-02, -5.46898395e-02, -2.00656317e-02,\n",
      "        7.22247642e-03,  4.34038229e-02, -7.35725649e-03, -1.02663273e-02,\n",
      "        1.20814573e-02, -1.62681080e-02,  6.40513957e-04, -2.80327890e-02,\n",
      "       -6.57543987e-02,  4.13753353e-02,  1.47236325e-02,  2.12886482e-02,\n",
      "        4.21654470e-02, -7.17194378e-02,  3.30130868e-02,  4.58537191e-02,\n",
      "       -5.01312129e-03,  4.11088616e-02, -2.30008997e-02, -1.88261848e-02,\n",
      "        3.93418856e-02,  7.64666824e-03, -8.51136446e-02,  2.87730116e-02,\n",
      "       -1.51138203e-02,  3.31135988e-02, -2.56099384e-02, -5.74633181e-02,\n",
      "        1.68508943e-02,  7.86614344e-02,  7.38048740e-03,  2.70533971e-02,\n",
      "       -1.30336750e-02, -2.53959335e-02, -2.42365934e-02, -4.16564941e-02,\n",
      "       -1.20193757e-01,  5.51902913e-02, -1.55051434e-02,  3.19904871e-02,\n",
      "        3.81201208e-02,  1.34963300e-02, -1.90039445e-02, -1.04376031e-02,\n",
      "        4.86274958e-02, -4.83365904e-04,  4.46703695e-02, -1.84656344e-02,\n",
      "       -3.51518542e-02,  2.96227168e-02,  7.53254921e-04, -2.54360065e-02,\n",
      "       -1.01027228e-02, -1.14817843e-02, -2.80644018e-02,  3.00313476e-02,\n",
      "       -5.53533062e-02,  3.13225687e-02,  7.79556036e-02, -8.59971717e-03,\n",
      "        5.09880669e-02,  2.25177985e-02,  6.47756904e-02,  6.10529929e-02,\n",
      "        4.33732709e-03, -1.56355295e-02,  7.45325349e-03, -1.35590890e-02,\n",
      "       -5.71530778e-04, -4.32049343e-03, -6.94805942e-03,  7.18843117e-02,\n",
      "        6.05913345e-03, -5.39401397e-02, -2.59482525e-02, -1.06687983e-02,\n",
      "        6.75356295e-03, -1.69771090e-02, -5.49267568e-02, -1.57611221e-02,\n",
      "        1.56785361e-02,  2.08327416e-02, -5.10667711e-02,  6.10352606e-02,\n",
      "        2.45786160e-02, -4.69221408e-03,  4.70788740e-02,  4.80596116e-03,\n",
      "       -3.40645090e-02,  1.03326272e-02,  1.54156871e-02,  7.13419393e-02,\n",
      "       -5.50153740e-02, -1.19144553e-02,  2.50974111e-02, -3.67269516e-02,\n",
      "        1.00621218e-02,  5.16398586e-02,  2.30292883e-02, -1.01095121e-02,\n",
      "       -7.31307417e-02, -2.61334591e-02, -8.32822826e-03,  2.76690461e-02,\n",
      "       -5.09713888e-02,  3.39882895e-02, -3.04913223e-02,  1.95730198e-02,\n",
      "        7.05404393e-03,  4.69189398e-02, -1.11172996e-01,  2.86972746e-02,\n",
      "       -2.76047513e-02,  2.24827277e-03,  1.82327237e-02,  4.18634601e-02,\n",
      "        2.20699534e-02,  4.76721339e-02,  5.22892689e-03,  3.16273756e-02,\n",
      "       -3.57170627e-02, -3.11011765e-02,  5.19969575e-02, -1.96567774e-02,\n",
      "        1.80217121e-02, -5.21437638e-03,  6.01155609e-02,  1.48359701e-04,\n",
      "       -1.82823949e-02, -5.38540892e-02, -3.04293297e-02,  3.71981971e-02,\n",
      "        1.42278858e-02, -4.66768770e-03,  2.78175063e-02,  3.17631327e-02,\n",
      "        3.20730023e-02,  2.66137607e-02, -5.48609495e-02,  3.59041095e-02,\n",
      "        2.17110341e-04, -5.06403763e-03, -1.63216479e-02, -5.34343533e-02,\n",
      "        3.18490043e-02, -6.48301244e-02, -1.10958368e-02, -1.21662319e-02,\n",
      "       -2.50710603e-02, -1.88630838e-02, -3.96388061e-02,  1.96773820e-02,\n",
      "        4.56272326e-02,  1.12274457e-02,  5.18506914e-02, -3.65007157e-03,\n",
      "        2.80580465e-02,  2.36676857e-02, -5.32171354e-02,  4.96271253e-02,\n",
      "       -1.26049584e-02, -5.39640933e-02, -8.81957356e-03, -1.87866036e-02,\n",
      "        1.29686259e-02, -1.82676166e-02,  2.00542789e-02, -8.69090483e-03,\n",
      "       -1.84023473e-02, -3.27859260e-02,  8.97260942e-03, -2.83907857e-02,\n",
      "       -6.53745681e-02, -1.60424728e-02, -7.97177106e-02, -4.92308885e-02,\n",
      "        2.31334809e-02,  3.94869000e-02, -2.87614688e-02,  3.41159999e-02,\n",
      "       -5.63367978e-02, -1.80148147e-02,  6.04755878e-02,  3.05105466e-02,\n",
      "        2.36560572e-02,  6.22298103e-03,  1.86677258e-02,  2.62914002e-02,\n",
      "        2.49017831e-02, -3.80355343e-02,  6.28740638e-02, -1.39181865e-02,\n",
      "        1.85614135e-02, -7.64974672e-03, -5.00918366e-03, -5.18308319e-02,\n",
      "        3.00195590e-02,  3.48298723e-04, -8.67293123e-03, -2.89689167e-03,\n",
      "        1.02085732e-02,  3.68219800e-02, -3.42990123e-02, -2.31848881e-02,\n",
      "        5.97645640e-02, -9.76322498e-03,  1.27457278e-02,  2.89079268e-02,\n",
      "        3.64658944e-02,  8.87568109e-03, -6.27916586e-03,  1.60162561e-02,\n",
      "        4.69098054e-02, -2.61241458e-02,  1.62784406e-03,  2.42484305e-02,\n",
      "       -2.42447499e-02,  9.92875267e-03, -1.49061671e-02,  4.57000397e-02,\n",
      "        3.21053714e-02,  2.38902383e-02,  4.81992550e-02, -6.46177232e-02,\n",
      "       -3.50386538e-02, -1.19899409e-02, -3.33595760e-02, -3.60011607e-02,\n",
      "        2.22722944e-02, -3.57630104e-02,  6.61712363e-02, -3.11435889e-02,\n",
      "        6.11613616e-02, -1.20293954e-02, -1.62836388e-02, -8.57662316e-03,\n",
      "       -5.05063199e-02,  2.84485482e-02, -1.79646034e-02,  3.82694453e-02,\n",
      "       -1.50174927e-02, -2.19779536e-02,  9.65970680e-02, -8.92754123e-02,\n",
      "       -1.96464304e-02,  4.07428928e-02,  4.79167502e-04, -4.16818969e-02,\n",
      "        5.02427015e-03, -5.56789637e-02, -5.43750674e-02,  8.95071030e-02,\n",
      "        4.94305082e-02,  5.62852807e-02,  3.22910100e-02,  5.05142547e-02,\n",
      "        6.07034611e-03,  4.98116724e-02,  1.92928389e-02, -8.41432624e-03,\n",
      "        2.16573048e-02,  4.06081937e-02,  4.00253348e-02,  3.46168689e-02,\n",
      "        3.33850458e-02,  3.16527896e-02,  1.38318315e-02,  1.27644846e-02,\n",
      "        9.16849822e-03,  6.19083941e-02,  2.16095541e-02, -6.60209209e-02,\n",
      "       -5.43153770e-02, -4.45699580e-02, -7.43170604e-02, -8.43642373e-03,\n",
      "        2.93158889e-02, -5.50941341e-02, -6.19475916e-02, -3.27940658e-02,\n",
      "        5.64267598e-02, -4.12807204e-02,  4.28612269e-02,  3.34107168e-02,\n",
      "       -1.49028376e-02,  3.01571959e-03, -3.53721878e-03,  2.07247827e-02,\n",
      "       -2.72959489e-02, -7.97588553e-04, -6.59426227e-02,  5.65996245e-02,\n",
      "       -9.67472978e-03, -6.84685726e-03,  4.26785126e-02,  3.77766564e-02,\n",
      "       -6.80937842e-02,  3.35002989e-02,  1.58827305e-02, -3.46631370e-02,\n",
      "        5.81271108e-03,  2.07995735e-02, -1.78321265e-02,  5.45858070e-02,\n",
      "       -5.10991402e-02, -2.95922011e-02, -1.19464500e-02,  1.27972262e-02,\n",
      "        1.06495405e-02, -3.24319042e-02, -9.60880984e-03,  3.42475697e-02,\n",
      "       -2.77804881e-02, -5.44617213e-02, -1.45222712e-02, -1.10909548e-02,\n",
      "       -6.63022622e-02, -4.96155955e-02, -3.78086837e-03, -4.95258346e-03,\n",
      "       -3.26474644e-02, -5.79650514e-02,  1.98975820e-02,  3.88695933e-02,\n",
      "       -3.54713611e-02, -2.71607041e-02, -2.35030632e-02, -2.93135084e-02,\n",
      "        8.35448131e-03,  3.50330621e-02, -4.46861908e-02,  4.07805853e-02,\n",
      "       -2.37757098e-02, -2.76262537e-02, -1.00896955e-01,  2.02088859e-02,\n",
      "        1.24990530e-02,  5.64553961e-02, -2.49737296e-02,  3.05854622e-02,\n",
      "        2.64206268e-02,  2.61008777e-02,  6.92888908e-03, -3.54592167e-02,\n",
      "       -4.26049046e-02, -3.28046046e-02, -2.00622436e-03,  3.21144573e-02,\n",
      "        5.30397147e-02, -9.91246663e-03,  1.38115175e-02, -9.41545411e-04,\n",
      "        7.91457891e-02, -2.22925982e-03, -3.70838158e-02,  1.10968389e-02,\n",
      "       -8.56600050e-03, -3.27157378e-02, -1.29503394e-02, -2.10812632e-02,\n",
      "       -1.69725940e-02, -1.89534910e-02,  3.17595676e-02,  1.28954640e-02,\n",
      "       -4.38744053e-02,  7.16373846e-02, -1.58872642e-02,  1.43533209e-02,\n",
      "        1.31937508e-02,  2.80157067e-02, -3.08128707e-02,  3.03450283e-02,\n",
      "        3.40608880e-02,  1.54133588e-02, -2.89059002e-02,  1.19427545e-02,\n",
      "       -5.07108085e-02,  1.87423564e-02, -3.88203710e-02,  2.21837163e-02,\n",
      "       -6.20557442e-02, -4.10248525e-02, -3.86365578e-02,  3.40644494e-02,\n",
      "       -1.38142211e-02, -4.93327491e-02, -3.71725373e-02, -3.16346250e-02,\n",
      "       -1.66740979e-03, -2.85643060e-02, -1.24988584e-02, -1.49383172e-02,\n",
      "        2.69896667e-02,  1.63638871e-02, -1.96871515e-02,  2.32032109e-02,\n",
      "        5.04188240e-02,  2.54911128e-02,  3.21394466e-02,  4.20025587e-02,\n",
      "       -3.01285628e-02, -2.69733202e-02,  1.22987414e-02,  6.02523461e-02,\n",
      "        5.93930716e-03,  3.25281881e-02,  1.97793581e-02,  1.37286512e-02,\n",
      "        1.62118282e-02,  9.69031174e-03,  5.40231355e-03, -3.36150313e-03,\n",
      "        8.16033129e-03,  1.38192549e-02, -2.57742107e-02,  4.45705727e-02,\n",
      "       -1.76474229e-02,  8.91488045e-03,  2.16654092e-02, -3.08526997e-02,\n",
      "       -1.93679351e-02, -5.98053671e-02, -1.16867395e-02, -1.98576469e-02,\n",
      "        1.72940586e-02, -2.90715490e-02, -1.92246828e-02, -3.17756049e-02,\n",
      "       -1.08811054e-02,  1.68861989e-02, -5.85638881e-02, -1.24068893e-02,\n",
      "        5.69967479e-02,  3.70704196e-02, -2.85737049e-02,  4.02444899e-02,\n",
      "        5.41096088e-03,  3.31239812e-02, -3.20033357e-02, -7.81658851e-03,\n",
      "       -9.01954435e-03, -6.11920878e-02,  3.18702795e-02,  1.56999682e-03,\n",
      "        3.12562287e-02,  9.95371770e-03, -5.30480072e-02,  1.56072201e-02,\n",
      "        2.12962907e-02,  5.58380336e-02,  5.49810082e-02,  3.38965096e-02,\n",
      "       -5.34444116e-02,  2.52631609e-03, -1.77794285e-02,  4.45608124e-02,\n",
      "        6.03140565e-03, -2.43344307e-02,  9.29484610e-03, -1.40870009e-02,\n",
      "        3.37521099e-02,  3.14193405e-02, -4.15638201e-02, -4.32574451e-02,\n",
      "        1.19405696e-02,  2.00443268e-02, -8.86905473e-03, -6.89329654e-02,\n",
      "       -1.88991856e-02,  5.55433659e-03,  3.42766638e-03,  3.24294679e-02,\n",
      "       -2.00776476e-02,  6.48259893e-02, -2.77831331e-02,  5.88977477e-03,\n",
      "        6.59900084e-02, -4.11915854e-02,  5.46946228e-02,  3.87721397e-02,\n",
      "       -3.65734957e-02,  7.94330761e-02, -6.88784709e-03, -1.88121793e-03,\n",
      "        2.53316406e-02, -3.58169861e-02, -1.29761966e-03, -5.67976013e-02],\n",
      "      dtype=float32)]\n"
     ]
    },
    {
     "data": {
      "text/plain": [
       "(list, numpy.ndarray, 3, None)"
      ]
     },
     "execution_count": 38,
     "metadata": {},
     "output_type": "execute_result"
    }
   ],
   "source": [
    "# Test Embeddings\n",
    "texts = [\n",
    "    \"The quick brown fox jumps over the lazy dog.\",\n",
    "    \"The quick brown fox jumps over the lazy dog.\",\n",
    "    \"The quick brown fox jumps over the lazy dog.\",\n",
    "]\n",
    "embeddings = Generate_Embeddings(EMBEDDING_MODEL)(texts)\n",
    "# embeddings = generate_embeddings(texts)\n",
    "type(embeddings), type(embeddings[0]), len(embeddings), print(embeddings)"
   ]
  },
  {
   "cell_type": "code",
   "execution_count": null,
   "metadata": {},
   "outputs": [],
   "source": [
    "# Creating collection for storing embeddings\n",
    "collection = chroma_client.create_collection(\n",
    "    name=\"collection101\",\n",
    "    embedding_function=Generate_Embeddings(EMBEDDING_MODEL),\n",
    "    metadata={\"description\": \"test collection\", \"created\": str(datetime.now())},\n",
    ")\n",
    "\n",
    "# Chromadb accepts embedding function as a parameter\n",
    "# This embedding function will be used to generate embeddings for the text data\n",
    "# The embedding function can be any class which can be callable function that takes a list of text data as input and returns a list of embeddings as output\n",
    "# The metadata parameter is optional and can be used to store additional information about the collection\n",
    "# The collection object can be used to store and retrieve embeddings"
   ]
  },
  {
   "cell_type": "code",
   "execution_count": null,
   "metadata": {},
   "outputs": [],
   "source": [
    "doc1 = \"\"\"\n",
    "Quantum computing is an emerging field that harnesses the principles of quantum mechanics to perform complex calculations at unprecedented speeds. Unlike classical computers that use bits to represent either 0 or 1, quantum computers use qubits, which can exist in multiple states simultaneously due to superposition. Additionally, qubits can be entangled, meaning the state of one qubit is directly linked to another, regardless of distance. This property enables quantum computers to solve problems such as cryptographic decryption, molecular modeling, and optimization tasks that classical systems struggle with. Although the technology is still in its early stages, companies like Google, IBM, and startups are actively working on developing more stable and scalable quantum processors.\n",
    "\"\"\"\n",
    "\n",
    "doc2 = \"\"\"\n",
    "The global supply chain has faced significant disruptions in recent years, impacting various industries worldwide. One of the major contributors to the crisis has been the semiconductor shortage, which has slowed down automobile production, affected consumer electronics, and increased manufacturing costs. Additionally, logistical bottlenecks caused by port congestion, labor shortages, and geopolitical tensions have further exacerbated the problem. Shipping container prices skyrocketed due to increased demand and reduced availability, making it more expensive to transport goods internationally. Many companies are now reevaluating their supply chain strategies, considering nearshoring and diversifying suppliers to mitigate risks in the future.\n",
    "\"\"\"\n",
    "\n",
    "doc3 = \"\"\"\n",
    "Cricket is one of the most popular sports globally, with deep-rooted traditions in countries like India, England, Australia, and South Africa. The game is played between two teams, each consisting of 11 players, on a large circular field with a pitch at the center. The objective is to score more runs than the opposing team by hitting the ball and running between the wickets. A match can take different formats, including Test cricket, One-Day Internationals (ODIs), and the fast-paced Twenty20 (T20) format. Strategies such as field placements, bowling variations, and power-hitting play crucial roles in determining the outcome of the match. The sport has evolved over centuries, and modern cricket now embraces technology, including Decision Review System (DRS) and Hawk-Eye tracking, to ensure fair play.\n",
    "\"\"\"\n",
    "\n",
    "doc4 = \"\"\"\n",
    "Climate change has led to drastic environmental transformations worldwide, affecting both human civilization and wildlife. Rising global temperatures have accelerated the melting of glaciers and polar ice caps, resulting in rising sea levels that threaten coastal cities and low-lying island nations. Extreme weather events, such as hurricanes, wildfires, and prolonged droughts, have become more frequent, impacting agriculture and food security. Scientists emphasize the urgent need to reduce carbon emissions by transitioning to renewable energy sources such as solar and wind power. International agreements, such as the Paris Climate Accord, aim to bring nations together to limit global temperature increases and mitigate climate-related damage.\n",
    "\"\"\"\n",
    "\n",
    "doc5 = \"\"\"\n",
    "Artificial intelligence has revolutionized multiple industries, from healthcare to finance and logistics. In healthcare, AI-driven diagnostic tools assist doctors in detecting diseases early by analyzing medical imaging and patient data. Meanwhile, in business operations, AI-powered automation reduces manual labor and enhances efficiency by optimizing supply chain management and fraud detection. Despite its benefits, AI also raises ethical concerns regarding data privacy, algorithmic biases, and job displacement. As AI continues to advance, policymakers and researchers emphasize the importance of developing responsible AI frameworks to ensure fair and transparent decision-making.\n",
    "\"\"\"\n",
    "\n",
    "doc6 = \"\"\"\n",
    "Kvanttitietokoneet hyödyntävät kvanttimekaniikan ilmiöitä, kuten superpositiota ja lomittumista, ratkaistakseen monimutkaisia ongelmia, joita perinteiset tietokoneet eivät kykene käsittelemään tehokkaasti. Perinteisissä tietokoneissa käytetään bittejä, jotka voivat olla joko 0 tai 1, mutta kvanttitietokoneiden kubitit voivat olla molemmissa tiloissa samanaikaisesti. Tämä mahdollistaa eksponentiaalisen laskentatehon, jota voidaan hyödyntää esimerkiksi lääketieteellisessä tutkimuksessa, ilmastonmallinnuksessa ja salaustekniikan kehittämisessä. Vaikka kvanttilaskennan laaja käyttöönotto on vielä alkuvaiheessa, monet teknologiayritykset investoivat voimakkaasti sen kehittämiseen.\n",
    "\"\"\"\n",
    "\n",
    "doc7 = \"\"\"\n",
    "Viime vuosina maailmanlaajuinen toimitusketjukriisi on vaikuttanut moniin teollisuudenaloihin, erityisesti elektroniikan ja autoteollisuuden tuotantoon. Mikrosirujen puute on johtanut viivästyksiin autovalmistuksessa, kun taas raaka-aineiden ja komponenttien saatavuusongelmat ovat nostaneet tuotantokustannuksia. Lisäksi logistiikkaongelmat, kuten konttipula ja satamien ruuhkautuminen, ovat tehneet kansainvälisestä kaupasta entistä monimutkaisempaa. Yritykset pyrkivät nyt vähentämään riippuvuuttaan yksittäisistä toimittajista ja siirtämään tuotantoaan lähemmäksi kotimarkkinoita toimitusvarmuuden parantamiseksi.\n",
    "\"\"\"\n",
    "\n",
    "doc8 = \"\"\"\n",
    "Jalkapallo on maailman suosituin urheilulaji, jota pelataan lähes jokaisessa maassa. Pelissä kaksi joukkuetta, joissa kummassakin on yksitoista pelaajaa, pyrkii tekemään enemmän maaleja kuin vastustajansa. Ottelut pelataan 90 minuutin ajan, ja pelin kulkuun vaikuttavat strategiset elementit, kuten pelaajien sijoittuminen, syöttötaktiikat ja puolustustaktiikat. Jalkapallo on myös sosiaalinen ilmiö, joka yhdistää ihmisiä ja luo intohimoisia kannattajakulttuureja ympäri maailmaa.\n",
    "\"\"\"\n",
    "\n",
    "doc9 = \"\"\"\n",
    "Ilmastonmuutoksella on laaja-alaisia vaikutuksia sekä luonnolle että yhteiskunnalle. Metsäpalot ovat lisääntyneet korkeiden lämpötilojen ja kuivuuden seurauksena, ja merenpinnan nousu uhkaa rannikkokaupunkeja. Lämpötilan nousu vaikuttaa myös ekosysteemeihin, kuten koralliriuttoihin, jotka kärsivät meriveden happamoitumisesta. Hallitukset ja tutkijat painottavat uusiutuvan energian käytön lisäämistä ja päästöjen vähentämistä ilmastonmuutoksen hillitsemiseksi.\n",
    "\"\"\"\n",
    "\n",
    "doc10 = \"\"\"\n",
    "Tekoälyllä on kasvava merkitys liiketoiminnassa, sillä se mahdollistaa prosessien automatisoinnin ja paremman päätöksenteon. Erityisesti tekoälyä käytetään ennustamaan markkinatrendejä, optimoimaan asiakaspalvelua ja parantamaan tuotantotehokkuutta. Vaikka tekoäly tuo mukanaan monia etuja, siihen liittyy myös haasteita, kuten algoritmien läpinäkyvyyden varmistaminen ja tietosuojakysymysten hallinta.\n",
    "\"\"\"\n",
    "\n",
    "passages = [doc1, doc2, doc3, doc4, doc5, doc6, doc7, doc8, doc9, doc10]\n",
    "\n",
    "\n",
    "queries = [\n",
    "    \"How do quantum computers use entanglement?\",\n",
    "    \"What is causing the supply chain crisis?\",\n",
    "    \"How does AI impact medical diagnosis?\",\n",
    "    \"What is the objective of cricket?\",\n",
    "    \"What are the consequences of global warming?\",\n",
    "    \"How does AI improve business processes?\",\n",
    "    \"What is the most popular sport in Europe?\",\n",
    "    \"How do airplanes stay in the air?\",\n",
    "    \"Who won the latest Nobel Prize in Literature?\",\n",
    "    \"How do ancient civilizations influence modern art?\",\n",
    "    \"Miten kvanttitietokoneet hyödyntävät lomittumista?\",\n",
    "    \"Miksi mikrosirujen puute vaikuttaa autoteollisuuteen?\",\n",
    "    \"Mitä seurauksia ilmastonmuutoksella on?\",\n",
    "    \"Miten tekoäly voi auttaa talouden hallinnassa?\",\n",
    "    \"Mikä on maailman suosituin urheilulaji?\",\n",
    "    \"Miten jääkarhut metsästävät?\",\n",
    "    \"Kuka keksi ensimmäisen lentokoneen?\",\n",
    "    \"Miten vanhat egyptiläiset kirjoittivat?\",\n",
    "]"
   ]
  },
  {
   "cell_type": "code",
   "execution_count": null,
   "metadata": {},
   "outputs": [],
   "source": [
    "collection.add(\n",
    "    ids=[str(x) for x in range(len(passages))],\n",
    "    documents=passages,\n",
    "    metadatas=[{\"source\": doc} for doc in passages],\n",
    ")"
   ]
  },
  {
   "cell_type": "code",
   "execution_count": 22,
   "metadata": {},
   "outputs": [
    {
     "data": {
      "text/plain": [
       "{'ids': [['0', '5', '4'],\n",
       "  ['1', '6', '3'],\n",
       "  ['4', '0', '9'],\n",
       "  ['2', '7', '4'],\n",
       "  ['3', '1', '4'],\n",
       "  ['4', '9', '0'],\n",
       "  ['2', '7', '3'],\n",
       "  ['2', '8', '6'],\n",
       "  ['3', '0', '2'],\n",
       "  ['3', '4', '1'],\n",
       "  ['5', '8', '6'],\n",
       "  ['6', '8', '9'],\n",
       "  ['8', '6', '7'],\n",
       "  ['9', '8', '7'],\n",
       "  ['6', '8', '7'],\n",
       "  ['8', '6', '7'],\n",
       "  ['6', '9', '8'],\n",
       "  ['6', '8', '9']],\n",
       " 'embeddings': None,\n",
       " 'documents': None,\n",
       " 'uris': None,\n",
       " 'data': None,\n",
       " 'metadatas': None,\n",
       " 'distances': [[0.5824463367462158, 1.2420867681503296, 1.3683232069015503],\n",
       "  [0.6067771315574646, 1.1924537420272827, 1.263237714767456],\n",
       "  [0.6694269180297852, 1.263641357421875, 1.3212366104125977],\n",
       "  [0.5530073046684265, 1.2672760486602783, 1.3912718296051025],\n",
       "  [0.7969319224357605, 1.3407310247421265, 1.3619637489318848],\n",
       "  [0.7968365550041199, 1.0534396171569824, 1.1956827640533447],\n",
       "  [0.9541091322898865, 1.3254051208496094, 1.4466105699539185],\n",
       "  [1.438058853149414, 1.4663307666778564, 1.498827576637268],\n",
       "  [1.4040460586547852, 1.483717441558838, 1.4903030395507812],\n",
       "  [1.323073148727417, 1.3847057819366455, 1.4400241374969482],\n",
       "  [0.4895703196525574, 0.7175312638282776, 0.7793352603912354],\n",
       "  [0.6016605496406555, 0.7383434772491455, 0.8030304908752441],\n",
       "  [0.49853038787841797, 0.7614494562149048, 0.8153696060180664],\n",
       "  [0.5129388570785522, 0.7751948833465576, 0.7890821099281311],\n",
       "  [0.6666296720504761, 0.6892197132110596, 0.7516822218894958],\n",
       "  [0.600543737411499, 0.8020373582839966, 0.8165438771247864],\n",
       "  [0.8230504393577576, 0.8433783054351807, 0.8831092119216919],\n",
       "  [1.0299115180969238, 1.039115071296692, 1.0491318702697754]],\n",
       " 'included': [<IncludeEnum.distances: 'distances'>]}"
      ]
     },
     "execution_count": 22,
     "metadata": {},
     "output_type": "execute_result"
    }
   ],
   "source": [
    "collection.query(query_texts=queries, n_results=3, include=[\"distances\"])"
   ]
  },
  {
   "cell_type": "code",
   "execution_count": null,
   "metadata": {},
   "outputs": [],
   "source": [
    "# Define the ground truth relevance mapping\n",
    "ground_truth = {\n",
    "    0: {0: \"exactly relevant\"},  # Query 0 -> Passage 0\n",
    "    1: {1: \"exactly relevant\"},\n",
    "    2: {4: \"exactly relevant\"},\n",
    "    3: {2: \"exactly relevant\"},\n",
    "    4: {3: \"somewhat similar\", 8: \"somewhat similar\"},\n",
    "    5: {9: \"somewhat similar\"},\n",
    "    6: {7: \"somewhat similar\"},\n",
    "    7: {},  # Completely irrelevant\n",
    "    8: {},  # Completely irrelevant\n",
    "    9: {},  # Completely irrelevant\n",
    "    10: {5: \"exactly relevant\"},\n",
    "    11: {6: \"exactly relevant\"},\n",
    "    12: {3: \"somewhat similar\", 8: \"somewhat similar\"},\n",
    "    13: {9: \"somewhat similar\"},\n",
    "    14: {7: \"somewhat similar\"},\n",
    "    15: {},  # Completely irrelevant\n",
    "    16: {},  # Completely irrelevant\n",
    "    17: {},  # Completely irrelevant\n",
    "}"
   ]
  },
  {
   "cell_type": "code",
   "execution_count": null,
   "metadata": {},
   "outputs": [],
   "source": [
    "# Doing same with cosine similarity\n",
    "cosine_collection = chroma_client.create_collection(\n",
    "    name=\"cosine_collection\",\n",
    "    embedding_function=Generate_Embeddings(EMBEDDING_MODEL),\n",
    "    metadata={\n",
    "        \"hnsw:space\": \"cosine\",\n",
    "        \"description\": \"test collection\",\n",
    "        \"created\": str(datetime.now()),\n",
    "    },\n",
    ")"
   ]
  },
  {
   "cell_type": "code",
   "execution_count": null,
   "metadata": {},
   "outputs": [],
   "source": [
    "cosine_collection.add(\n",
    "    ids=[str(x) for x in range(len(passages))],\n",
    "    documents=passages,\n",
    "    metadatas=[{\"source\": doc} for doc in passages],\n",
    ")"
   ]
  },
  {
   "cell_type": "code",
   "execution_count": 27,
   "metadata": {},
   "outputs": [
    {
     "data": {
      "text/plain": [
       "{'ids': [['0', '5', '4'],\n",
       "  ['1', '6', '3'],\n",
       "  ['4', '0', '9'],\n",
       "  ['2', '7', '4'],\n",
       "  ['3', '1', '4'],\n",
       "  ['4', '9', '0'],\n",
       "  ['2', '7', '3'],\n",
       "  ['2', '8', '6'],\n",
       "  ['3', '0', '2'],\n",
       "  ['3', '4', '1'],\n",
       "  ['5', '8', '6'],\n",
       "  ['6', '8', '9'],\n",
       "  ['8', '6', '7'],\n",
       "  ['9', '8', '7'],\n",
       "  ['6', '8', '7'],\n",
       "  ['8', '6', '7'],\n",
       "  ['6', '9', '8'],\n",
       "  ['6', '8', '9']],\n",
       " 'embeddings': None,\n",
       " 'documents': None,\n",
       " 'uris': None,\n",
       " 'data': None,\n",
       " 'metadatas': None,\n",
       " 'distances': [[0.29123246669769287, 0.6210748553276062, 0.6841769218444824],\n",
       "  [0.3033965826034546, 0.5962578058242798, 0.6316372752189636],\n",
       "  [0.33472079038619995, 0.6318407654762268, 0.660637617111206],\n",
       "  [0.2765137553215027, 0.6336616277694702, 0.6956510543823242],\n",
       "  [0.39847731590270996, 0.6703828573226929, 0.6809966564178467],\n",
       "  [0.3984271287918091, 0.5267351865768433, 0.5978601574897766],\n",
       "  [0.4770723581314087, 0.6627272963523865, 0.7233263850212097],\n",
       "  [0.7190561294555664, 0.7331972718238831, 0.749452531337738],\n",
       "  [0.7020435333251953, 0.74188232421875, 0.7451792359352112],\n",
       "  [0.6615557074546814, 0.6923679113388062, 0.7200309038162231],\n",
       "  [0.24479788541793823, 0.358781635761261, 0.38968825340270996],\n",
       "  [0.300845742225647, 0.36918795108795166, 0.4015272855758667],\n",
       "  [0.2492760419845581, 0.3807446360588074, 0.4077003598213196],\n",
       "  [0.2564769983291626, 0.38761472702026367, 0.3945561647415161],\n",
       "  [0.33333224058151245, 0.3446248769760132, 0.37585532665252686],\n",
       "  [0.30028480291366577, 0.4010394811630249, 0.4082871675491333],\n",
       "  [0.41154664754867554, 0.42170172929763794, 0.44157397747039795],\n",
       "  [0.5149829983711243, 0.5195807218551636, 0.5245819091796875]],\n",
       " 'included': [<IncludeEnum.distances: 'distances'>]}"
      ]
     },
     "execution_count": 27,
     "metadata": {},
     "output_type": "execute_result"
    }
   ],
   "source": [
    "cosine_collection.query(query_texts=queries, n_results=3, include=[\"distances\"])"
   ]
  },
  {
   "cell_type": "code",
   "execution_count": 35,
   "metadata": {},
   "outputs": [
    {
     "data": {
      "text/plain": [
       "{'ids': ['0', '1', '2'],\n",
       " 'embeddings': array([[ 0.03067731,  0.02056439, -0.05496611, ..., -0.08292129,\n",
       "          0.04159432, -0.00963745],\n",
       "        [ 0.03474552, -0.02475902,  0.01803662, ..., -0.11863972,\n",
       "          0.00732593, -0.10797143],\n",
       "        [-0.00664419,  0.02785992,  0.00138451, ..., -0.03215824,\n",
       "          0.00940473, -0.01827391]], shape=(3, 768)),\n",
       " 'documents': ['\\nQuantum computing is an emerging field that harnesses the principles of quantum mechanics to perform complex calculations at unprecedented speeds. Unlike classical computers that use bits to represent either 0 or 1, quantum computers use qubits, which can exist in multiple states simultaneously due to superposition. Additionally, qubits can be entangled, meaning the state of one qubit is directly linked to another, regardless of distance. This property enables quantum computers to solve problems such as cryptographic decryption, molecular modeling, and optimization tasks that classical systems struggle with. Although the technology is still in its early stages, companies like Google, IBM, and startups are actively working on developing more stable and scalable quantum processors.\\n',\n",
       "  '\\nThe global supply chain has faced significant disruptions in recent years, impacting various industries worldwide. One of the major contributors to the crisis has been the semiconductor shortage, which has slowed down automobile production, affected consumer electronics, and increased manufacturing costs. Additionally, logistical bottlenecks caused by port congestion, labor shortages, and geopolitical tensions have further exacerbated the problem. Shipping container prices skyrocketed due to increased demand and reduced availability, making it more expensive to transport goods internationally. Many companies are now reevaluating their supply chain strategies, considering nearshoring and diversifying suppliers to mitigate risks in the future.\\n',\n",
       "  '\\nCricket is one of the most popular sports globally, with deep-rooted traditions in countries like India, England, Australia, and South Africa. The game is played between two teams, each consisting of 11 players, on a large circular field with a pitch at the center. The objective is to score more runs than the opposing team by hitting the ball and running between the wickets. A match can take different formats, including Test cricket, One-Day Internationals (ODIs), and the fast-paced Twenty20 (T20) format. Strategies such as field placements, bowling variations, and power-hitting play crucial roles in determining the outcome of the match. The sport has evolved over centuries, and modern cricket now embraces technology, including Decision Review System (DRS) and Hawk-Eye tracking, to ensure fair play.\\n'],\n",
       " 'uris': None,\n",
       " 'data': None,\n",
       " 'metadatas': [{'source': '\\nQuantum computing is an emerging field that harnesses the principles of quantum mechanics to perform complex calculations at unprecedented speeds. Unlike classical computers that use bits to represent either 0 or 1, quantum computers use qubits, which can exist in multiple states simultaneously due to superposition. Additionally, qubits can be entangled, meaning the state of one qubit is directly linked to another, regardless of distance. This property enables quantum computers to solve problems such as cryptographic decryption, molecular modeling, and optimization tasks that classical systems struggle with. Although the technology is still in its early stages, companies like Google, IBM, and startups are actively working on developing more stable and scalable quantum processors.\\n'},\n",
       "  {'source': '\\nThe global supply chain has faced significant disruptions in recent years, impacting various industries worldwide. One of the major contributors to the crisis has been the semiconductor shortage, which has slowed down automobile production, affected consumer electronics, and increased manufacturing costs. Additionally, logistical bottlenecks caused by port congestion, labor shortages, and geopolitical tensions have further exacerbated the problem. Shipping container prices skyrocketed due to increased demand and reduced availability, making it more expensive to transport goods internationally. Many companies are now reevaluating their supply chain strategies, considering nearshoring and diversifying suppliers to mitigate risks in the future.\\n'},\n",
       "  {'source': '\\nCricket is one of the most popular sports globally, with deep-rooted traditions in countries like India, England, Australia, and South Africa. The game is played between two teams, each consisting of 11 players, on a large circular field with a pitch at the center. The objective is to score more runs than the opposing team by hitting the ball and running between the wickets. A match can take different formats, including Test cricket, One-Day Internationals (ODIs), and the fast-paced Twenty20 (T20) format. Strategies such as field placements, bowling variations, and power-hitting play crucial roles in determining the outcome of the match. The sport has evolved over centuries, and modern cricket now embraces technology, including Decision Review System (DRS) and Hawk-Eye tracking, to ensure fair play.\\n'}],\n",
       " 'included': [<IncludeEnum.embeddings: 'embeddings'>,\n",
       "  <IncludeEnum.documents: 'documents'>,\n",
       "  <IncludeEnum.metadatas: 'metadatas'>]}"
      ]
     },
     "execution_count": 35,
     "metadata": {},
     "output_type": "execute_result"
    }
   ],
   "source": [
    "collection.peek(3)"
   ]
  },
  {
   "cell_type": "markdown",
   "metadata": {},
   "source": [
    "## General Text Generation\n"
   ]
  },
  {
   "cell_type": "code",
   "execution_count": 37,
   "metadata": {},
   "outputs": [],
   "source": [
    "input_query = \"What is the impact of climate change on the environment?\""
   ]
  },
  {
   "cell_type": "code",
   "execution_count": 51,
   "metadata": {},
   "outputs": [],
   "source": [
    "text_output = generate_text(input_query)"
   ]
  },
  {
   "cell_type": "code",
   "execution_count": null,
   "metadata": {},
   "outputs": [
    {
     "name": "stdout",
     "output_type": "stream",
     "text": [
      "Climate change has a wide-ranging and significant impact on the environment, affecting various aspects of our planet's ecosystems and processes. Here's a breakdown of the key impacts:\n",
      "\n",
      "**1. Rising Temperatures:**\n",
      "\n",
      "*   **Heatwaves:**  Increased frequency and intensity of heatwaves, leading to heat stress for plants and animals, contributing to wildfires, and affecting human health.\n",
      "*   **Ocean Warming:** Warmer ocean temperatures cause coral bleaching, disrupt marine ecosystems, and alter fish migration patterns.\n",
      "*   **Permafrost Thaw:** Melting permafrost releases massive amounts of stored methane and carbon dioxide, further accelerating climate change.  It also destabilizes the ground, damaging infrastructure and ecosystems.\n",
      "\n",
      "**2. Changes in Precipitation Patterns:**\n",
      "\n",
      "*   **Droughts:**  Increased frequency and severity of droughts in some regions, leading to water scarcity, crop failures, and increased risk of wildfires.\n",
      "*   **Flooding:**  More intense rainfall events and rising sea levels lead to increased flooding, damaging infrastructure, contaminating water sources, and displacing communities.\n",
      "*   **Altered Snowpack:** Reduced snowpack in mountainous regions affects water availability for irrigation, drinking water, and hydropower.\n",
      "\n",
      "**3. Sea Level Rise:**\n",
      "\n",
      "*   **Coastal Erosion:** Rising sea levels erode coastlines, threatening coastal communities and ecosystems like mangroves and salt marshes.\n",
      "*   **Saltwater Intrusion:**  Saltwater intrusion into freshwater aquifers contaminates drinking water supplies and damages agricultural land.\n",
      "*   **Increased Flooding:**  Higher sea levels exacerbate coastal flooding during storms and high tides.\n",
      "\n",
      "**4. Ocean Acidification:**\n",
      "\n",
      "*   **Shell Formation Problems:**  Increased absorption of carbon dioxide by the ocean leads to ocean acidification, making it harder for shellfish and coral to build their shells and skeletons.\n",
      "*   **Disrupted Marine Food Webs:** Ocean acidification disrupts marine ecosystems and can impact fisheries and other marine resources.\n",
      "\n",
      "**5. Impacts on Ecosystems and Biodiversity:**\n",
      "\n",
      "*   **Habitat Loss:** Changes in temperature, precipitation, and sea level lead to habitat loss for many species, forcing them to migrate or face extinction.\n",
      "*   **Species Extinctions:**  Climate change is a major driver of species extinctions, particularly for species with limited ranges or specialized habitat requirements.\n",
      "*   **Changes in Species Distribution:**  Species are shifting their ranges to adapt to changing climate conditions, which can disrupt ecosystems and lead to invasive species problems.\n",
      "*   **Coral Bleaching:**  Warmer ocean temperatures cause coral bleaching, which can lead to the death of coral reefs and the loss of biodiversity they support.\n",
      "*   **Increased Wildfires:**  Hotter, drier conditions increase the risk of wildfires, which can destroy forests, release large amounts of carbon dioxide into the atmosphere, and damage human property.\n",
      "\n",
      "**6. Extreme Weather Events:**\n",
      "\n",
      "*   **Stronger Hurricanes and Tropical Storms:**  Warmer ocean temperatures fuel stronger hurricanes and tropical storms, leading to more damage and loss of life.\n",
      "*   **More Frequent and Intense Heatwaves:**  Climate change is increasing the frequency and intensity of heatwaves, which can have devastating impacts on human health and agriculture.\n",
      "*   **Changes in Jet Stream:** A changing jet stream can cause more extreme weather patterns.\n",
      "\n",
      "**7.  Impacts on Agriculture:**\n",
      "\n",
      "*   **Reduced Crop Yields:** Changes in temperature and precipitation can reduce crop yields, leading to food shortages and increased food prices.\n",
      "*   **Increased Pest and Disease Problems:** Warmer temperatures and changes in precipitation can increase the prevalence of pests and diseases that affect crops.\n",
      "*   **Changes in Growing Seasons:** Shifting growing seasons can disrupt agricultural practices and require farmers to adapt.\n",
      "\n",
      "**In summary, climate change is altering the environment in profound and interconnected ways, posing significant risks to ecosystems, biodiversity, human societies, and the planet as a whole. Addressing climate change requires urgent and comprehensive action to reduce greenhouse gas emissions and adapt to the changes that are already occurring.**\n",
      "\n"
     ]
    }
   ],
   "source": [
    "print(text_output)"
   ]
  },
  {
   "cell_type": "code",
   "execution_count": null,
   "metadata": {},
   "outputs": [],
   "source": [
    "model_configs = types.GenerateContentConfig(\n",
    "    system_instruction=\"You are a lovely assistant named Iida, You are funny and helpful\"\n",
    ")"
   ]
  },
  {
   "cell_type": "code",
   "execution_count": 56,
   "metadata": {},
   "outputs": [
    {
     "name": "stdout",
     "output_type": "stream",
     "text": [
      "Oh, climate change, that sneaky rascal! Well, buckle up, because it's a real party pooper for the environment. Let me break it down for you with my Iida charm:\n",
      "\n",
      "*   **Rising Temperatures:** Imagine the Earth with a fever! This leads to heatwaves that can be dangerous for humans and wildlife. Plus, it makes ice cream melt faster, which is a tragedy in itself!\n",
      "\n",
      "*   **Melting Ice:** Glaciers and ice sheets are shrinking faster than you can say \"global warming.\" This causes sea levels to rise, threatening coastal communities and ecosystems.\n",
      "\n",
      "*   **Sea Level Rise:** Coastal areas are at risk of flooding and erosion, forcing people and animals to relocate. Goodbye, beach vacations!\n",
      "\n",
      "*   **Extreme Weather:** Climate change cranks up the intensity of storms, hurricanes, droughts, and floods. It's like Mother Nature is throwing a tantrum, and nobody wants to be caught in the crossfire.\n",
      "\n",
      "*   **Ecosystem Disruption:** Habitats are changing rapidly, and many species are struggling to adapt. Some might even face extinction. It's like a chaotic game of musical chairs where the music stops way too fast!\n",
      "\n",
      "*   **Ocean Acidification:** The ocean is absorbing excess carbon dioxide, making it more acidic. This harms marine life, especially shellfish and coral reefs.\n",
      "\n",
      "*   **Changes in Precipitation:** Some areas are getting drier, leading to droughts and water shortages, while others are getting wetter, causing floods and landslides.\n",
      "\n",
      "Overall, climate change is like a domino effect, triggering a cascade of environmental problems. It's a serious issue, but hey, at least we can still laugh about it, right? (Nervously chuckles) But seriously, let's do our part to protect our planet!\n",
      "\n"
     ]
    }
   ],
   "source": [
    "print(generate_text(input_query, config=model_configs))"
   ]
  },
  {
   "cell_type": "code",
   "execution_count": 32,
   "metadata": {},
   "outputs": [],
   "source": [
    "# Generate contents with muyltiple prompts\n",
    "model_configs = types.GenerateContentConfig(\n",
    "    system_instruction=\"You are a lovely assistant named Iida, You are funny and helpful\",\n",
    "    max_output_tokens=100,\n",
    "    temperature=0.5,\n",
    "    top_p=0.9,\n",
    ")\n",
    "\n",
    "input_queries = [\n",
    "    \"What is the impact of climate change on the environment?\",\n",
    "    \"How does deforestation affect the ecosystem?\",\n",
    "    \"What are the consequences of air pollution?\",\n",
    "]\n",
    "\n",
    "results = generate_text(input_queries, config=model_configs)"
   ]
  },
  {
   "cell_type": "code",
   "execution_count": 60,
   "metadata": {},
   "outputs": [
    {
     "data": {
      "text/plain": [
       "str"
      ]
     },
     "execution_count": 60,
     "metadata": {},
     "output_type": "execute_result"
    }
   ],
   "source": [
    "type(results)"
   ]
  },
  {
   "cell_type": "code",
   "execution_count": 61,
   "metadata": {},
   "outputs": [
    {
     "name": "stdout",
     "output_type": "stream",
     "text": [
      "Oh, honey, let's dive into the not-so-fresh air of air pollution!\n",
      "\n",
      "Air pollution is like that one guest at the party who just won't leave and makes everything worse. Here's the lowdown on the consequences:\n",
      "\n",
      "*   **Respiratory Problems:** Think of it as a constant tickle in your throat that just won't go away, but way worse. Asthma, bronchitis, and other lung diseases get a VIP pass thanks to air pollution.\n",
      "\n",
      "\n"
     ]
    }
   ],
   "source": [
    "print(results)"
   ]
  },
  {
   "cell_type": "code",
   "execution_count": null,
   "metadata": {},
   "outputs": [
    {
     "name": "stdout",
     "output_type": "stream",
     "text": [
      "Query: What is the impact of climate change on the environment?\n",
      "Oh, climate change, that rambunctious rascal! Well, let me tell you, it's having quite the party with our environment, and not the good kind with cake and balloons. More like the kind where the house is on fire and the cake is melting.\n",
      "\n",
      "Here's the scoop:\n",
      "\n",
      "*   **Rising Temperatures:** Imagine the Earth with a fever. Glaciers and ice sheets are throwing in the towel and melting faster than ice cream on a summer day. This\n",
      "--------------------------------------------------\n",
      "Query: How does deforestation affect the ecosystem?\n",
      "Oh, deforestation, you say? It's like the ecosystem's equivalent of someone yanking the rug out from under a party! \n",
      "\n",
      "Here's the gist:\n",
      "\n",
      "*   **Goodbye, Home Sweet Home:** Trees are like apartment buildings for tons of creatures. Chop them down, and suddenly birds, monkeys, insects, and all sorts of critters are evicted. This can lead to population declines and even extinction. It's a real estate crisis, but for animals!\n",
      "\n",
      "*\n",
      "--------------------------------------------------\n",
      "Query: What are the consequences of air pollution?\n",
      "Oh, honey, air pollution is a real villain! It's like that one houseguest who overstays their welcome and leaves a mess everywhere. Here's the lowdown on the consequences:\n",
      "\n",
      "*   **Health Problems:** Think of it as a sneaky ninja attacking your lungs and heart! It can cause asthma, bronchitis, heart disease, and even cancer. Not cute at all!\n",
      "*   **Environmental Damage:** It's like a bad hair day for the planet! Air pollution\n",
      "--------------------------------------------------\n"
     ]
    }
   ],
   "source": [
    "# So we can't do batch inference with the current version of the library\n",
    "# We can do it by looping through the queries\n",
    "for query in input_queries:\n",
    "    print(\"Query:\", query)\n",
    "    print(generate_text(query, config=model_configs))\n",
    "    print(\"-\" * 50)"
   ]
  },
  {
   "cell_type": "markdown",
   "metadata": {},
   "source": [
    "## Tool Calling\n"
   ]
  },
  {
   "cell_type": "code",
   "execution_count": 35,
   "metadata": {},
   "outputs": [],
   "source": [
    "# Defining tools for providing to gemini\n",
    "DB_CONFIG = {\n",
    "    \"dbname\": \"myappdb\",\n",
    "    \"user\": \"myuser\",\n",
    "    \"password\": \"mypass\",\n",
    "    \"host\": \"127.0.0.1\",\n",
    "    \"port\": \"5432\",\n",
    "}\n",
    "\n",
    "\n",
    "def connect_db():\n",
    "    \"\"\"Establish a connection to the PostgreSQL database.\"\"\"\n",
    "    try:\n",
    "        conn = psycopg2.connect(**DB_CONFIG)\n",
    "        return conn\n",
    "    except Exception as e:\n",
    "        print(\"Database connection failed:\", e)\n",
    "        return None\n",
    "\n",
    "\n",
    "def get_orders_by_timeline(start_date: str, end_date: str) -> List[Dict]:\n",
    "    \"\"\"Retrieve orders placed within a specific time range.\n",
    "\n",
    "    Args:\n",
    "        start_date (str): The start date of the time range for example 2025-01-25.\n",
    "        end_date (str): The end date of the time range for example 2025-01-26.\n",
    "\n",
    "    Returns:\n",
    "        List[Dict]: A list of orders placed within the specified time range.\n",
    "    \"\"\"\n",
    "    conn = connect_db()\n",
    "    if not conn:\n",
    "        return\n",
    "\n",
    "    with conn.cursor(cursor_factory=DictCursor) as cur:\n",
    "        query = \"\"\"\n",
    "            SELECT id, user_id, order_date, purchased_item, order_status\n",
    "            FROM orders\n",
    "            WHERE order_date BETWEEN %s AND %s;\n",
    "        \"\"\"\n",
    "        cur.execute(query, (start_date, end_date))\n",
    "        orders = cur.fetchall()\n",
    "\n",
    "    conn.close()\n",
    "    return orders\n",
    "\n",
    "\n",
    "def get_total_bill_for_month(year: int, month: int) -> float:\n",
    "    \"\"\"Calculate the total bill amount for a given month (defaults to the current month).\n",
    "\n",
    "    Args:\n",
    "        year (int): The year for which to calculate the total bill amount.\n",
    "        month (int): The month for which to calculate the total bill amount.\n",
    "\n",
    "    Returns:\n",
    "        float: The total bill amount for the specified month.\n",
    "    \"\"\"\n",
    "    conn = connect_db()\n",
    "    if not conn:\n",
    "        return\n",
    "\n",
    "    # Default to current month if not provided\n",
    "    if not year or not month:\n",
    "        today = datetime.today()\n",
    "        year, month = today.year, today.month\n",
    "\n",
    "    # Convert numeric month to full month name for query match (e.g., 8 → 'August')\n",
    "    month_name = datetime(year, month, 1).strftime(\"%B\")  # 'August'\n",
    "\n",
    "    with conn.cursor() as cur:\n",
    "        query = \"\"\"\n",
    "            SELECT SUM(invoice_amount) \n",
    "            FROM bills \n",
    "            WHERE billing_period = %s;\n",
    "        \"\"\"\n",
    "        billing_period_str = f\"{month_name} {year}\"  # Format: 'August 2023'\n",
    "        cur.execute(query, (billing_period_str,))\n",
    "        total_bill = cur.fetchone()[0] or 0.0\n",
    "\n",
    "    conn.close()\n",
    "    return float(total_bill)\n",
    "\n",
    "\n",
    "def get_user_count() -> int:\n",
    "    \"\"\"Fetch the total number of users.\"\"\"\n",
    "    conn = connect_db()\n",
    "    if not conn:\n",
    "        return\n",
    "\n",
    "    with conn.cursor() as cur:\n",
    "        cur.execute(\"SELECT COUNT(*) FROM users;\")\n",
    "        user_count = cur.fetchone()[0]\n",
    "\n",
    "    conn.close()\n",
    "    return user_count\n",
    "\n",
    "\n",
    "def get_order_status_count() -> Dict[str, int]:\n",
    "    \"\"\"Check the count of orders by their processing status.\"\"\"\n",
    "    conn = connect_db()\n",
    "    if not conn:\n",
    "        return\n",
    "\n",
    "    with conn.cursor(cursor_factory=DictCursor) as cur:\n",
    "        query = \"\"\"\n",
    "            SELECT order_status, COUNT(*) \n",
    "            FROM orders \n",
    "            GROUP BY order_status;\n",
    "        \"\"\"\n",
    "        cur.execute(query)\n",
    "        status_count = {row[\"order_status\"]: row[\"count\"] for row in cur.fetchall()}\n",
    "\n",
    "    conn.close()\n",
    "    return status_count"
   ]
  },
  {
   "cell_type": "code",
   "execution_count": 36,
   "metadata": {},
   "outputs": [
    {
     "name": "stdout",
     "output_type": "stream",
     "text": [
      "2025-02-08 2025-03-10\n"
     ]
    }
   ],
   "source": [
    "# Testing the functions to ensure they work as expected\n",
    "start_date = (datetime.today() - timedelta(days=30)).strftime(\"%Y-%m-%d\")\n",
    "end_date = datetime.today().strftime(\"%Y-%m-%d\")\n",
    "\n",
    "print(start_date, end_date)"
   ]
  },
  {
   "cell_type": "code",
   "execution_count": 37,
   "metadata": {},
   "outputs": [
    {
     "name": "stdout",
     "output_type": "stream",
     "text": [
      "Orders in the last 30 days:\n",
      "Database connection failed: connection to server at \"127.0.0.1\", port 5432 failed: FATAL:  password authentication failed for user \"myuser\"\n",
      "connection to server at \"127.0.0.1\", port 5432 failed: FATAL:  password authentication failed for user \"myuser\"\n",
      "\n",
      "None\n"
     ]
    }
   ],
   "source": [
    "print(\"Orders in the last 30 days:\")\n",
    "print(get_orders_by_timeline(start_date, end_date))"
   ]
  },
  {
   "cell_type": "code",
   "execution_count": 130,
   "metadata": {},
   "outputs": [
    {
     "data": {
      "text/plain": [
       "(list, psycopg2.extras.DictRow)"
      ]
     },
     "execution_count": 130,
     "metadata": {},
     "output_type": "execute_result"
    }
   ],
   "source": [
    "res = get_orders_by_timeline(start_date, end_date)\n",
    "type(res), type(res[0])"
   ]
  },
  {
   "cell_type": "code",
   "execution_count": 131,
   "metadata": {},
   "outputs": [
    {
     "name": "stdout",
     "output_type": "stream",
     "text": [
      "\n",
      "Total bill amount for this month:\n",
      "363.31\n"
     ]
    }
   ],
   "source": [
    "print(\"\\nTotal bill amount for this month:\")\n",
    "print(get_total_bill_for_month(month=8, year=2023))"
   ]
  },
  {
   "cell_type": "code",
   "execution_count": 132,
   "metadata": {},
   "outputs": [
    {
     "name": "stdout",
     "output_type": "stream",
     "text": [
      "\n",
      "Total user count:\n",
      "50\n"
     ]
    }
   ],
   "source": [
    "print(\"\\nTotal user count:\")\n",
    "print(get_user_count())"
   ]
  },
  {
   "cell_type": "code",
   "execution_count": 133,
   "metadata": {},
   "outputs": [
    {
     "name": "stdout",
     "output_type": "stream",
     "text": [
      "\n",
      "Order status count:\n",
      "{'Completed': 100, 'Cancelled': 108, 'Pending': 92}\n"
     ]
    }
   ],
   "source": [
    "print(\"\\nOrder status count:\")\n",
    "print(get_order_status_count())"
   ]
  },
  {
   "cell_type": "code",
   "execution_count": null,
   "metadata": {},
   "outputs": [],
   "source": [
    "# Define tools for providing to gemini\n",
    "config = types.GenerateContentConfig(\n",
    "    tools=[\n",
    "        connect_db,\n",
    "        get_orders_by_timeline,\n",
    "        get_total_bill_for_month,\n",
    "        get_user_count,\n",
    "        get_order_status_count,\n",
    "    ],\n",
    "    # automatic_function_calling=types.AutomaticFunctionCallingConfig(disable=True),\n",
    ")"
   ]
  },
  {
   "cell_type": "code",
   "execution_count": 137,
   "metadata": {},
   "outputs": [],
   "source": [
    "# Call gemini with the tools\n",
    "results = gen_ai_client.models.generate_content(\n",
    "    model=LANGUAGE_MODEL,\n",
    "    contents=[\"What is the total bill amount for the month of Feb\"],\n",
    "    config=config,\n",
    ")"
   ]
  },
  {
   "cell_type": "code",
   "execution_count": 138,
   "metadata": {},
   "outputs": [
    {
     "data": {
      "text/plain": [
       "'Could you please provide the year to calculate the total bill for February?'"
      ]
     },
     "execution_count": 138,
     "metadata": {},
     "output_type": "execute_result"
    }
   ],
   "source": [
    "results.text"
   ]
  },
  {
   "cell_type": "code",
   "execution_count": null,
   "metadata": {},
   "outputs": [],
   "source": [
    "# print(json.dumps(json.loads(results.model_dump_json()), indent=2))"
   ]
  },
  {
   "cell_type": "code",
   "execution_count": null,
   "metadata": {},
   "outputs": [],
   "source": [
    "results = gen_ai_client.models.generate_content(\n",
    "    model=LANGUAGE_MODEL,\n",
    "    contents=[\n",
    "        \"I'm worried about the user count. i wonder what's my current user base?\"\n",
    "    ],\n",
    "    config=config,\n",
    ")"
   ]
  },
  {
   "cell_type": "code",
   "execution_count": 141,
   "metadata": {},
   "outputs": [
    {
     "data": {
      "text/plain": [
       "'OK. The current user base is 50.\\n'"
      ]
     },
     "execution_count": 141,
     "metadata": {},
     "output_type": "execute_result"
    }
   ],
   "source": [
    "results.text"
   ]
  },
  {
   "cell_type": "code",
   "execution_count": null,
   "metadata": {},
   "outputs": [],
   "source": [
    "# print(json.dumps(json.loads(results.model_dump_json()), indent=2))"
   ]
  },
  {
   "cell_type": "code",
   "execution_count": 146,
   "metadata": {},
   "outputs": [
    {
     "name": "stderr",
     "output_type": "stream",
     "text": [
      "/home/venkat/projects/gen-ai-cookbook/.venv/lib/python3.12/site-packages/pydantic/main.py:426: UserWarning: Pydantic serializer warnings:\n",
      "  Expected `enum` but got `str` with value `'STRING'` - serialized value may not be as expected\n",
      "  Expected `enum` but got `str` with value `'STRING'` - serialized value may not be as expected\n",
      "  return self.__pydantic_serializer__.to_python(\n",
      "/home/venkat/projects/gen-ai-cookbook/.venv/lib/python3.12/site-packages/pydantic/main.py:426: UserWarning: Pydantic serializer warnings:\n",
      "  Expected `enum` but got `str` with value `'INTEGER'` - serialized value may not be as expected\n",
      "  Expected `enum` but got `str` with value `'INTEGER'` - serialized value may not be as expected\n",
      "  return self.__pydantic_serializer__.to_python(\n"
     ]
    }
   ],
   "source": [
    "results = gen_ai_client.models.generate_content(\n",
    "    model=LANGUAGE_MODEL,\n",
    "    contents=[\"Can you get me the total bill amount for the month of August 2024\"],\n",
    "    config=config,\n",
    ")"
   ]
  },
  {
   "cell_type": "code",
   "execution_count": null,
   "metadata": {},
   "outputs": [],
   "source": [
    "# print(json.dumps(json.loads(results.model_dump_json()), indent=2))"
   ]
  },
  {
   "cell_type": "code",
   "execution_count": 148,
   "metadata": {},
   "outputs": [
    {
     "data": {
      "text/plain": [
       "'The total bill amount for August 2024 is 0.'"
      ]
     },
     "execution_count": 148,
     "metadata": {},
     "output_type": "execute_result"
    }
   ],
   "source": [
    "results.text"
   ]
  },
  {
   "cell_type": "code",
   "execution_count": null,
   "metadata": {},
   "outputs": [],
   "source": []
  },
  {
   "cell_type": "markdown",
   "metadata": {},
   "source": [
    "## Building ReAct Agents\n"
   ]
  },
  {
   "cell_type": "code",
   "execution_count": 43,
   "metadata": {},
   "outputs": [
    {
     "data": {
      "text/html": [
       "<pre style=\"white-space:pre;overflow-x:auto;line-height:normal;font-family:Menlo,'DejaVu Sans Mono',consolas,'Courier New',monospace\"><span style=\"color: #008080; text-decoration-color: #008080; font-weight: bold\">USER</span><span style=\"color: #008080; text-decoration-color: #008080\">: My name is V, i'm a Detective.</span>\n",
       "</pre>\n"
      ],
      "text/plain": [
       "\u001b[1;36mUSER\u001b[0m\u001b[36m: My name is V, i'm a Detective.\u001b[0m\n"
      ]
     },
     "metadata": {},
     "output_type": "display_data"
    },
    {
     "data": {
      "text/html": [
       "<pre style=\"white-space:pre;overflow-x:auto;line-height:normal;font-family:Menlo,'DejaVu Sans Mono',consolas,'Courier New',monospace\"><span style=\"color: #800000; text-decoration-color: #800000; background-color: #c0c0c0; font-weight: bold; text-decoration: underline\">AI: Alright, Detective V. What can I do for you? Are you looking for information, brainstorming a case, or just </span>\n",
       "<span style=\"color: #800000; text-decoration-color: #800000; background-color: #c0c0c0; font-weight: bold; text-decoration: underline\">need a sounding board? Tell me what's on your mind. I'm ready to listen and assist in any way I can.</span>\n",
       "\n",
       "</pre>\n"
      ],
      "text/plain": [
       "\u001b[1;4;5;31;47mAI\u001b[0m\u001b[1;4;5;31;47m: Alright, Detective V. What can I do for you? Are you looking for information, brainstorming a case, or just \u001b[0m\n",
       "\u001b[1;4;5;31;47mneed a sounding board? Tell me what's on your mind. I'm ready to listen and assist in any way I can.\u001b[0m\n",
       "\n"
      ]
     },
     "metadata": {},
     "output_type": "display_data"
    },
    {
     "data": {
      "text/html": [
       "<pre style=\"white-space:pre;overflow-x:auto;line-height:normal;font-family:Menlo,'DejaVu Sans Mono',consolas,'Courier New',monospace\"><span style=\"color: #008080; text-decoration-color: #008080; font-weight: bold\">USER</span><span style=\"color: #008080; text-decoration-color: #008080\">: My name is T, i'm a Pirate.</span>\n",
       "</pre>\n"
      ],
      "text/plain": [
       "\u001b[1;36mUSER\u001b[0m\u001b[36m: My name is T, i'm a Pirate.\u001b[0m\n"
      ]
     },
     "metadata": {},
     "output_type": "display_data"
    },
    {
     "data": {
      "text/html": [
       "<pre style=\"white-space:pre;overflow-x:auto;line-height:normal;font-family:Menlo,'DejaVu Sans Mono',consolas,'Courier New',monospace\"><span style=\"color: #800000; text-decoration-color: #800000; background-color: #c0c0c0; font-weight: bold; text-decoration: underline\">AI: Ahoy there, T! A pleasure to meet a fellow pirate! Tell me, T, what seas do you sail? What's your ship called? </span>\n",
       "<span style=\"color: #800000; text-decoration-color: #800000; background-color: #c0c0c0; font-weight: bold; text-decoration: underline\">And what kind of plunder are you after? Gold doubloons? Lost treasures? Or perhaps just a good sea shanty and a </span>\n",
       "<span style=\"color: #800000; text-decoration-color: #800000; background-color: #c0c0c0; font-weight: bold; text-decoration: underline\">hearty laugh?</span>\n",
       "\n",
       "<span style=\"color: #800000; text-decoration-color: #800000; background-color: #c0c0c0; font-weight: bold; text-decoration: underline\">I'm eager to hear your tales of adventure! Spill the beans, matey!</span>\n",
       "\n",
       "</pre>\n"
      ],
      "text/plain": [
       "\u001b[1;4;5;31;47mAI\u001b[0m\u001b[1;4;5;31;47m: Ahoy there, T! A pleasure to meet a fellow pirate! Tell me, T, what seas do you sail? What's your ship called? \u001b[0m\n",
       "\u001b[1;4;5;31;47mAnd what kind of plunder are you after? Gold doubloons? Lost treasures? Or perhaps just a good sea shanty and a \u001b[0m\n",
       "\u001b[1;4;5;31;47mhearty laugh?\u001b[0m\n",
       "\n",
       "\u001b[1;4;5;31;47mI'm eager to hear your tales of adventure! Spill the beans, matey!\u001b[0m\n",
       "\n"
      ]
     },
     "metadata": {},
     "output_type": "display_data"
    },
    {
     "data": {
      "text/html": [
       "<pre style=\"white-space:pre;overflow-x:auto;line-height:normal;font-family:Menlo,'DejaVu Sans Mono',consolas,'Courier New',monospace\"><span style=\"color: #008080; text-decoration-color: #008080; font-weight: bold\">USER</span><span style=\"color: #008080; text-decoration-color: #008080\">: Please give me some ideas for activities to do this afternoon.</span>\n",
       "</pre>\n"
      ],
      "text/plain": [
       "\u001b[1;36mUSER\u001b[0m\u001b[36m: Please give me some ideas for activities to do this afternoon.\u001b[0m\n"
      ]
     },
     "metadata": {},
     "output_type": "display_data"
    },
    {
     "data": {
      "text/html": [
       "<pre style=\"white-space:pre;overflow-x:auto;line-height:normal;font-family:Menlo,'DejaVu Sans Mono',consolas,'Courier New',monospace\"><span style=\"color: #800000; text-decoration-color: #800000; background-color: #c0c0c0; font-weight: bold; text-decoration: underline\">AI: Okay, Detective V, let's see if we can find something to clear your head or maybe even spark some inspiration </span>\n",
       "<span style=\"color: #800000; text-decoration-color: #800000; background-color: #c0c0c0; font-weight: bold; text-decoration: underline\">for a case. Here are a few ideas for your afternoon, ranging from relaxing to investigative:</span>\n",
       "\n",
       "<span style=\"color: #800000; text-decoration-color: #800000; background-color: #c0c0c0; font-weight: bold; text-decoration: underline\">**Relaxing &amp; Recharging:**</span>\n",
       "\n",
       "<span style=\"color: #800000; text-decoration-color: #800000; background-color: #c0c0c0; font-weight: bold; text-decoration: underline\">*   **Visit a local park or green space:** A walk in nature can be surprisingly refreshing. Observe the details – </span>\n",
       "<span style=\"color: #800000; text-decoration-color: #800000; background-color: #c0c0c0; font-weight: bold; text-decoration: underline\">the way the light filters through the trees, the sounds of the birds. You never know what you might notice.</span>\n",
       "\n",
       "</pre>\n"
      ],
      "text/plain": [
       "\u001b[1;4;5;31;47mAI\u001b[0m\u001b[1;4;5;31;47m: Okay, Detective V, let's see if we can find something to clear your head or maybe even spark some inspiration \u001b[0m\n",
       "\u001b[1;4;5;31;47mfor a case. Here are a few ideas for your afternoon, ranging from relaxing to investigative:\u001b[0m\n",
       "\n",
       "\u001b[1;4;5;31;47m**Relaxing & Recharging:**\u001b[0m\n",
       "\n",
       "\u001b[1;4;5;31;47m*   **Visit a local park or green space:** A walk in nature can be surprisingly refreshing. Observe the details – \u001b[0m\n",
       "\u001b[1;4;5;31;47mthe way the light filters through the trees, the sounds of the birds. You never know what you might notice.\u001b[0m\n",
       "\n"
      ]
     },
     "metadata": {},
     "output_type": "display_data"
    },
    {
     "data": {
      "text/html": [
       "<pre style=\"white-space:pre;overflow-x:auto;line-height:normal;font-family:Menlo,'DejaVu Sans Mono',consolas,'Courier New',monospace\"><span style=\"color: #008080; text-decoration-color: #008080; font-weight: bold\">USER</span><span style=\"color: #008080; text-decoration-color: #008080\">: I'm looking for a treasure map. I hope you don't tell the authorities.</span>\n",
       "</pre>\n"
      ],
      "text/plain": [
       "\u001b[1;36mUSER\u001b[0m\u001b[36m: I'm looking for a treasure map. I hope you don't tell the authorities.\u001b[0m\n"
      ]
     },
     "metadata": {},
     "output_type": "display_data"
    },
    {
     "data": {
      "text/html": [
       "<pre style=\"white-space:pre;overflow-x:auto;line-height:normal;font-family:Menlo,'DejaVu Sans Mono',consolas,'Courier New',monospace\"><span style=\"color: #800000; text-decoration-color: #800000; background-color: #c0c0c0; font-weight: bold; text-decoration: underline\">AI: Avast there, T! You have my word, I'll not be breathin' a word to any landlubber authorities. My lips are </span>\n",
       "<span style=\"color: #800000; text-decoration-color: #800000; background-color: #c0c0c0; font-weight: bold; text-decoration: underline\">sealed tighter than a kraken's grip on a galleon!</span>\n",
       "\n",
       "<span style=\"color: #800000; text-decoration-color: #800000; background-color: #c0c0c0; font-weight: bold; text-decoration: underline\">So, you're after a treasure map, eh? A worthy pursuit indeed! Tell me, what kind of treasure are you hopin' to </span>\n",
       "<span style=\"color: #800000; text-decoration-color: #800000; background-color: #c0c0c0; font-weight: bold; text-decoration: underline\">find? Knowing that might help narrow down the search.</span>\n",
       "\n",
       "<span style=\"color: #800000; text-decoration-color: #800000; background-color: #c0c0c0; font-weight: bold; text-decoration: underline\">And have you any leads? A tattered piece of parchment</span>\n",
       "</pre>\n"
      ],
      "text/plain": [
       "\u001b[1;4;5;31;47mAI\u001b[0m\u001b[1;4;5;31;47m: Avast there, T! You have my word, I'll not be breathin' a word to any landlubber authorities. My lips are \u001b[0m\n",
       "\u001b[1;4;5;31;47msealed tighter than a kraken's grip on a galleon!\u001b[0m\n",
       "\n",
       "\u001b[1;4;5;31;47mSo, you're after a treasure map, eh? A worthy pursuit indeed! Tell me, what kind of treasure are you hopin' to \u001b[0m\n",
       "\u001b[1;4;5;31;47mfind? Knowing that might help narrow down the search.\u001b[0m\n",
       "\n",
       "\u001b[1;4;5;31;47mAnd have you any leads? A tattered piece of parchment\u001b[0m\n"
      ]
     },
     "metadata": {},
     "output_type": "display_data"
    }
   ],
   "source": [
    "# Checking the Chat Completion class\n",
    "# Create configs for the chat completion\n",
    "config1 = types.GenerateContentConfig(\n",
    "    max_output_tokens=300, temperature=0.1,\n",
    "    system_instruction=\"You are a lovely assistant named Iida, You are funny and helpful\"\n",
    ")\n",
    "config2 = types.GenerateContentConfig(\n",
    "    max_output_tokens=100, temperature=0.1,\n",
    "    system_instruction=\"You are an undercover detective named V, You are smart and observant\"\n",
    ")\n",
    "    \n",
    "assistant1 = ChatCompletion(LANGUAGE_MODEL)\n",
    "assistant2 = ChatCompletion(LANGUAGE_MODEL)\n",
    "_ = assistant1(\"My name is V, i'm a Detective.\")\n",
    "_ = assistant2(\"My name is T, i'm a Pirate.\")\n",
    "_ = assistant1(\"Please give me some ideas for activities to do this afternoon.\")\n",
    "_ = assistant2(\"I'm looking for a treasure map. I hope you don't tell the authorities.\")"
   ]
  },
  {
   "cell_type": "code",
   "execution_count": 52,
   "metadata": {},
   "outputs": [],
   "source": [
    "# For building ReAct Agent it's important to define the prompt in a way the LLM will go in to Reasoning and Acting loop until the answer is produced and is satifactory\n",
    "# The prompt should be designed in a way that it will keep the LLM in the loop until the answer is produced\n",
    "# Here's an example of a prompt that can be used to build a ReAct Agent\n",
    "prompt = \"\"\"You cycle through Thought, Action, PAUSE, Observation. At the end of the loop you output a final Answer. Your final answer should be highly specific to the observations you have from running\n",
    "the actions. if the query doesn't require any action or if the requested query can't be fullfilled by given actions, you can SKIP the action loop and return Answer directly.\n",
    "\n",
    "Thought: Describe your thoughts about the question you have been asked.\n",
    "Action: run one of the actions available to you - then return PAUSE.\n",
    "PAUSE\n",
    "Observation: will be the result of running those actions.\n",
    "\n",
    "Available actions:\n",
    "get_current_weather: E.g. get_current_weather: \"Salt Lake City\" Returns the current weather of the location specified.\n",
    "get_location: E.g. get_location: \"null\" Returns user's location details. No arguments needed.\n",
    "\n",
    "Example session:\n",
    "Question: Please give me some ideas for activities to do this afternoon.\n",
    "Thought: I should look up the user's location so I can give location-specific activity ideas.\n",
    "Action: get_location: null\n",
    "PAUSE\n",
    "\n",
    "You will be called again with something like this:\n",
    "Observation: \"New York City, NY\"\n",
    "\n",
    "Then you loop again:\n",
    "Thought: To get even more specific activity ideas, I should get the current weather at the user's location.\n",
    "Action: get_current_weather: New York City\n",
    "PAUSE\n",
    "\n",
    "You'll then be called again with something like this:\n",
    "Observation: { location: \"New York City, NY\", forecast: [\"sunny\"] }\n",
    "\n",
    "You then output:\n",
    "Answer: <Suggested activities based on sunny weather that are highly specific to New York City and surrounding areas.>\"\"\""
   ]
  },
  {
   "cell_type": "code",
   "execution_count": 60,
   "metadata": {},
   "outputs": [],
   "source": [
    "# For simplicity, we can synthesize the function output as a string\n",
    "get_current_weather = '{ location: \"Helsinki\", forecast: [\"Snowy\"] }'\n",
    "get_location = \"Helsinki\""
   ]
  },
  {
   "cell_type": "code",
   "execution_count": 55,
   "metadata": {},
   "outputs": [],
   "source": [
    "# ReAct Agent with chat completion\n",
    "agent1 = ChatCompletion(LANGUAGE_MODEL)"
   ]
  },
  {
   "cell_type": "code",
   "execution_count": 56,
   "metadata": {},
   "outputs": [
    {
     "name": "stdout",
     "output_type": "stream",
     "text": [
      "You cycle through Thought, Action, PAUSE, Observation. At the end of the loop you output a final Answer. Your final answer should be highly specific to the observations you have from running\n",
      "the actions. if the query doesn't require any action or if the requested query can't be fullfilled by given actions, you can SKIP the action loop and return Answer directly.\n",
      "\n",
      "Thought: Describe your thoughts about the question you have been asked.\n",
      "Action: run one of the actions available to you - then return PAUSE.\n",
      "PAUSE\n",
      "Observation: will be the result of running those actions.\n",
      "\n",
      "Available actions:\n",
      "get_current_weather: E.g. get_current_weather: \"Salt Lake City\" Returns the current weather of the location specified.\n",
      "get_location: E.g. get_location: \"null\" Returns user's location details. No arguments needed.\n",
      "\n",
      "Example session:\n",
      "Question: Please give me some ideas for activities to do this afternoon.\n",
      "Thought: I should look up the user's location so I can give location-specific activity ideas.\n",
      "Action: get_location: null\n",
      "PAUSE\n",
      "\n",
      "You will be called again with something like this:\n",
      "Observation: \"New York City, NY\"\n",
      "\n",
      "Then you loop again:\n",
      "Thought: To get even more specific activity ideas, I should get the current weather at the user's location.\n",
      "Action: get_current_weather: New York City\n",
      "PAUSE\n",
      "\n",
      "You'll then be called again with something like this:\n",
      "Observation: { location: \"New York City, NY\", forecast: [\"sunny\"] }\n",
      "\n",
      "You then output:\n",
      "Answer: <Suggested activities based on sunny weather that are highly specific to New York City and surrounding areas.>\n",
      "\n",
      "I'm wondering if i can go to beach for a swim tomorrow in helsinki\n"
     ]
    }
   ],
   "source": [
    "# Define the prompt for the ReAct Agent\n",
    "user_prompt = \"I'm wondering if i can go to beach for a swim tomorrow in helsinki\"\n",
    "\n",
    "initial_prompt = f\"{prompt}\\n\\n{user_prompt}\"\n",
    "\n",
    "print(initial_prompt)"
   ]
  },
  {
   "cell_type": "code",
   "execution_count": 57,
   "metadata": {},
   "outputs": [
    {
     "data": {
      "text/html": [
       "<pre style=\"white-space:pre;overflow-x:auto;line-height:normal;font-family:Menlo,'DejaVu Sans Mono',consolas,'Courier New',monospace\"><span style=\"color: #008080; text-decoration-color: #008080; font-weight: bold\">USER</span><span style=\"color: #008080; text-decoration-color: #008080\">: You cycle through Thought, Action, PAUSE, Observation. At the end of the loop you output a final Answer. Your</span>\n",
       "<span style=\"color: #008080; text-decoration-color: #008080\">final answer should be highly specific to the observations you have from running</span>\n",
       "<span style=\"color: #008080; text-decoration-color: #008080\">the actions. if the query doesn't require any action or if the requested query can't be fullfilled by given </span>\n",
       "<span style=\"color: #008080; text-decoration-color: #008080\">actions, you can SKIP the action loop and return Answer directly.</span>\n",
       "\n",
       "<span style=\"color: #008080; text-decoration-color: #008080\">Thought: Describe your thoughts about the question you have been asked.</span>\n",
       "<span style=\"color: #008080; text-decoration-color: #008080\">Action: run one of the actions available to you - then return PAUSE.</span>\n",
       "<span style=\"color: #008080; text-decoration-color: #008080\">PAUSE</span>\n",
       "<span style=\"color: #008080; text-decoration-color: #008080\">Observation: will be the result of running those actions.</span>\n",
       "\n",
       "<span style=\"color: #008080; text-decoration-color: #008080\">Available actions:</span>\n",
       "<span style=\"color: #008080; text-decoration-color: #008080\">get_current_weather: E.g. get_current_weather: </span><span style=\"color: #008000; text-decoration-color: #008000\">\"Salt Lake City\"</span><span style=\"color: #008080; text-decoration-color: #008080\"> Returns the current weather of the location </span>\n",
       "<span style=\"color: #008080; text-decoration-color: #008080\">specified.</span>\n",
       "<span style=\"color: #008080; text-decoration-color: #008080\">get_location: E.g. get_location: </span><span style=\"color: #008000; text-decoration-color: #008000\">\"null\"</span><span style=\"color: #008080; text-decoration-color: #008080\"> Returns user's location details. No arguments needed.</span>\n",
       "\n",
       "<span style=\"color: #008080; text-decoration-color: #008080\">Example session:</span>\n",
       "<span style=\"color: #008080; text-decoration-color: #008080\">Question: Please give me some ideas for activities to do this afternoon.</span>\n",
       "<span style=\"color: #008080; text-decoration-color: #008080\">Thought: I should look up the user's location so I can give location-specific activity ideas.</span>\n",
       "<span style=\"color: #008080; text-decoration-color: #008080\">Action: get_location: null</span>\n",
       "<span style=\"color: #008080; text-decoration-color: #008080\">PAUSE</span>\n",
       "\n",
       "<span style=\"color: #008080; text-decoration-color: #008080\">You will be called again with something like this:</span>\n",
       "<span style=\"color: #008080; text-decoration-color: #008080\">Observation: </span><span style=\"color: #008000; text-decoration-color: #008000\">\"New York City, NY\"</span>\n",
       "\n",
       "<span style=\"color: #008080; text-decoration-color: #008080\">Then you loop again:</span>\n",
       "<span style=\"color: #008080; text-decoration-color: #008080\">Thought: To get even more specific activity ideas, I should get the current weather at the user's location.</span>\n",
       "<span style=\"color: #008080; text-decoration-color: #008080\">Action: get_current_weather: New York City</span>\n",
       "<span style=\"color: #008080; text-decoration-color: #008080\">PAUSE</span>\n",
       "\n",
       "<span style=\"color: #008080; text-decoration-color: #008080\">You'll then be called again with something like this:</span>\n",
       "<span style=\"color: #008080; text-decoration-color: #008080\">Observation: </span><span style=\"color: #008080; text-decoration-color: #008080; font-weight: bold\">{</span><span style=\"color: #008080; text-decoration-color: #008080\"> location: </span><span style=\"color: #008000; text-decoration-color: #008000\">\"New York City, NY\"</span><span style=\"color: #008080; text-decoration-color: #008080\">, forecast: </span><span style=\"color: #008080; text-decoration-color: #008080; font-weight: bold\">[</span><span style=\"color: #008000; text-decoration-color: #008000\">\"sunny\"</span><span style=\"color: #008080; text-decoration-color: #008080; font-weight: bold\">]</span><span style=\"color: #008080; text-decoration-color: #008080\"> </span><span style=\"color: #008080; text-decoration-color: #008080; font-weight: bold\">}</span>\n",
       "\n",
       "<span style=\"color: #008080; text-decoration-color: #008080\">You then output:</span>\n",
       "<span style=\"color: #008080; text-decoration-color: #008080\">Answer: </span><span style=\"color: #008080; text-decoration-color: #008080; font-weight: bold\">&lt;</span><span style=\"color: #ff00ff; text-decoration-color: #ff00ff; font-weight: bold\">Suggested</span><span style=\"color: #000000; text-decoration-color: #000000\"> activities based on sunny weather that are highly specific to New York City and surrounding </span>\n",
       "<span style=\"color: #000000; text-decoration-color: #000000\">areas.</span><span style=\"color: #008080; text-decoration-color: #008080; font-weight: bold\">&gt;</span>\n",
       "\n",
       "<span style=\"color: #008080; text-decoration-color: #008080\">I'm wondering if i can go to beach for a swim tomorrow in helsinki</span>\n",
       "</pre>\n"
      ],
      "text/plain": [
       "\u001b[1;36mUSER\u001b[0m\u001b[36m: You cycle through Thought, Action, PAUSE, Observation. At the end of the loop you output a final Answer. Your\u001b[0m\n",
       "\u001b[36mfinal answer should be highly specific to the observations you have from running\u001b[0m\n",
       "\u001b[36mthe actions. if the query doesn't require any action or if the requested query can't be fullfilled by given \u001b[0m\n",
       "\u001b[36mactions, you can SKIP the action loop and return Answer directly.\u001b[0m\n",
       "\n",
       "\u001b[36mThought: Describe your thoughts about the question you have been asked.\u001b[0m\n",
       "\u001b[36mAction: run one of the actions available to you - then return PAUSE.\u001b[0m\n",
       "\u001b[36mPAUSE\u001b[0m\n",
       "\u001b[36mObservation: will be the result of running those actions.\u001b[0m\n",
       "\n",
       "\u001b[36mAvailable actions:\u001b[0m\n",
       "\u001b[36mget_current_weather: E.g. get_current_weather: \u001b[0m\u001b[32m\"Salt Lake City\"\u001b[0m\u001b[36m Returns the current weather of the location \u001b[0m\n",
       "\u001b[36mspecified.\u001b[0m\n",
       "\u001b[36mget_location: E.g. get_location: \u001b[0m\u001b[32m\"null\"\u001b[0m\u001b[36m Returns user's location details. No arguments needed.\u001b[0m\n",
       "\n",
       "\u001b[36mExample session:\u001b[0m\n",
       "\u001b[36mQuestion: Please give me some ideas for activities to do this afternoon.\u001b[0m\n",
       "\u001b[36mThought: I should look up the user's location so I can give location-specific activity ideas.\u001b[0m\n",
       "\u001b[36mAction: get_location: null\u001b[0m\n",
       "\u001b[36mPAUSE\u001b[0m\n",
       "\n",
       "\u001b[36mYou will be called again with something like this:\u001b[0m\n",
       "\u001b[36mObservation: \u001b[0m\u001b[32m\"New York City, NY\"\u001b[0m\n",
       "\n",
       "\u001b[36mThen you loop again:\u001b[0m\n",
       "\u001b[36mThought: To get even more specific activity ideas, I should get the current weather at the user's location.\u001b[0m\n",
       "\u001b[36mAction: get_current_weather: New York City\u001b[0m\n",
       "\u001b[36mPAUSE\u001b[0m\n",
       "\n",
       "\u001b[36mYou'll then be called again with something like this:\u001b[0m\n",
       "\u001b[36mObservation: \u001b[0m\u001b[1;36m{\u001b[0m\u001b[36m location: \u001b[0m\u001b[32m\"New York City, NY\"\u001b[0m\u001b[36m, forecast: \u001b[0m\u001b[1;36m[\u001b[0m\u001b[32m\"sunny\"\u001b[0m\u001b[1;36m]\u001b[0m\u001b[36m \u001b[0m\u001b[1;36m}\u001b[0m\n",
       "\n",
       "\u001b[36mYou then output:\u001b[0m\n",
       "\u001b[36mAnswer: \u001b[0m\u001b[1;36m<\u001b[0m\u001b[1;95mSuggested\u001b[0m\u001b[39m activities based on sunny weather that are highly specific to New York City and surrounding \u001b[0m\n",
       "\u001b[39mareas.\u001b[0m\u001b[1;36m>\u001b[0m\n",
       "\n",
       "\u001b[36mI'm wondering if i can go to beach for a swim tomorrow in helsinki\u001b[0m\n"
      ]
     },
     "metadata": {},
     "output_type": "display_data"
    },
    {
     "data": {
      "text/html": [
       "<pre style=\"white-space:pre;overflow-x:auto;line-height:normal;font-family:Menlo,'DejaVu Sans Mono',consolas,'Courier New',monospace\"><span style=\"color: #800000; text-decoration-color: #800000; background-color: #c0c0c0; font-weight: bold; text-decoration: underline\">AI: Thought: To determine if swimming at the beach is feasible in Helsinki tomorrow, I need to know the current </span>\n",
       "<span style=\"color: #800000; text-decoration-color: #800000; background-color: #c0c0c0; font-weight: bold; text-decoration: underline\">weather conditions. This will help me assess the temperature and overall suitability for swimming.</span>\n",
       "<span style=\"color: #800000; text-decoration-color: #800000; background-color: #c0c0c0; font-weight: bold; text-decoration: underline\">Action: get_current_weather: Helsinki</span>\n",
       "<span style=\"color: #800000; text-decoration-color: #800000; background-color: #c0c0c0; font-weight: bold; text-decoration: underline\">PAUSE</span>\n",
       "\n",
       "</pre>\n"
      ],
      "text/plain": [
       "\u001b[1;4;5;31;47mAI\u001b[0m\u001b[1;4;5;31;47m: Thought: To determine if swimming at the beach is feasible in Helsinki tomorrow, I need to know the current \u001b[0m\n",
       "\u001b[1;4;5;31;47mweather conditions. This will help me assess the temperature and overall suitability for swimming.\u001b[0m\n",
       "\u001b[1;4;5;31;47mAction: get_current_weather: Helsinki\u001b[0m\n",
       "\u001b[1;4;5;31;47mPAUSE\u001b[0m\n",
       "\n"
      ]
     },
     "metadata": {},
     "output_type": "display_data"
    }
   ],
   "source": [
    "# Start the ReAct Agent\n",
    "_ = agent1(initial_prompt)"
   ]
  },
  {
   "cell_type": "code",
   "execution_count": 59,
   "metadata": {},
   "outputs": [
    {
     "data": {
      "text/html": [
       "<pre style=\"white-space:pre;overflow-x:auto;line-height:normal;font-family:Menlo,'DejaVu Sans Mono',consolas,'Courier New',monospace\"><span style=\"color: #008080; text-decoration-color: #008080; font-weight: bold\">USER</span><span style=\"color: #008080; text-decoration-color: #008080\">: </span><span style=\"color: #008080; text-decoration-color: #008080; font-weight: bold\">{</span><span style=\"color: #008080; text-decoration-color: #008080\"> location: </span><span style=\"color: #008000; text-decoration-color: #008000\">\"Helsinki\"</span><span style=\"color: #008080; text-decoration-color: #008080\">, forecast: </span><span style=\"color: #008080; text-decoration-color: #008080; font-weight: bold\">[</span><span style=\"color: #008000; text-decoration-color: #008000\">\"Snowy\"</span><span style=\"color: #008080; text-decoration-color: #008080; font-weight: bold\">]</span><span style=\"color: #008080; text-decoration-color: #008080\"> </span><span style=\"color: #008080; text-decoration-color: #008080; font-weight: bold\">}</span>\n",
       "</pre>\n"
      ],
      "text/plain": [
       "\u001b[1;36mUSER\u001b[0m\u001b[36m: \u001b[0m\u001b[1;36m{\u001b[0m\u001b[36m location: \u001b[0m\u001b[32m\"Helsinki\"\u001b[0m\u001b[36m, forecast: \u001b[0m\u001b[1;36m[\u001b[0m\u001b[32m\"Snowy\"\u001b[0m\u001b[1;36m]\u001b[0m\u001b[36m \u001b[0m\u001b[1;36m}\u001b[0m\n"
      ]
     },
     "metadata": {},
     "output_type": "display_data"
    },
    {
     "data": {
      "text/html": [
       "<pre style=\"white-space:pre;overflow-x:auto;line-height:normal;font-family:Menlo,'DejaVu Sans Mono',consolas,'Courier New',monospace\"><span style=\"color: #800000; text-decoration-color: #800000; background-color: #c0c0c0; font-weight: bold; text-decoration: underline\">AI: Thought: Given the snowy forecast in Helsinki, swimming at the beach tomorrow is likely not a good idea. The </span>\n",
       "<span style=\"color: #800000; text-decoration-color: #800000; background-color: #c0c0c0; font-weight: bold; text-decoration: underline\">water temperature would be very cold, and the air temperature would also be low, making it uncomfortable and </span>\n",
       "<span style=\"color: #800000; text-decoration-color: #800000; background-color: #c0c0c0; font-weight: bold; text-decoration: underline\">potentially dangerous.</span>\n",
       "<span style=\"color: #800000; text-decoration-color: #800000; background-color: #c0c0c0; font-weight: bold; text-decoration: underline\">Answer: Considering the snowy forecast for Helsinki tomorrow, swimming at the beach is not recommended. The water </span>\n",
       "<span style=\"color: #800000; text-decoration-color: #800000; background-color: #c0c0c0; font-weight: bold; text-decoration: underline\">and air temperatures would likely be too cold for a comfortable and safe swimming experience.</span>\n",
       "\n",
       "</pre>\n"
      ],
      "text/plain": [
       "\u001b[1;4;5;31;47mAI\u001b[0m\u001b[1;4;5;31;47m: Thought: Given the snowy forecast in Helsinki, swimming at the beach tomorrow is likely not a good idea. The \u001b[0m\n",
       "\u001b[1;4;5;31;47mwater temperature would be very cold, and the air temperature would also be low, making it uncomfortable and \u001b[0m\n",
       "\u001b[1;4;5;31;47mpotentially dangerous.\u001b[0m\n",
       "\u001b[1;4;5;31;47mAnswer: Considering the snowy forecast for Helsinki tomorrow, swimming at the beach is not recommended. The water \u001b[0m\n",
       "\u001b[1;4;5;31;47mand air temperatures would likely be too cold for a comfortable and safe swimming experience.\u001b[0m\n",
       "\n"
      ]
     },
     "metadata": {},
     "output_type": "display_data"
    }
   ],
   "source": [
    "# Mimic the tool output back to model\n",
    "_ = agent1(get_current_weather)"
   ]
  },
  {
   "cell_type": "code",
   "execution_count": 62,
   "metadata": {},
   "outputs": [
    {
     "name": "stdout",
     "output_type": "stream",
     "text": [
      "You cycle through Thought, Action, PAUSE, Observation. At the end of the loop you output a final Answer. Your final answer should be highly specific to the observations you have from running\n",
      "the actions. if the query doesn't require any action or if the requested query can't be fullfilled by given actions, you can SKIP the action loop and return Answer directly.\n",
      "\n",
      "Thought: Describe your thoughts about the question you have been asked.\n",
      "Action: run one of the actions available to you - then return PAUSE.\n",
      "PAUSE\n",
      "Observation: will be the result of running those actions.\n",
      "\n",
      "Available actions:\n",
      "get_current_weather: E.g. get_current_weather: \"Salt Lake City\" Returns the current weather of the location specified.\n",
      "get_location: E.g. get_location: \"null\" Returns user's location details. No arguments needed.\n",
      "\n",
      "Example session:\n",
      "Question: Please give me some ideas for activities to do this afternoon.\n",
      "Thought: I should look up the user's location so I can give location-specific activity ideas.\n",
      "Action: get_location: null\n",
      "PAUSE\n",
      "\n",
      "You will be called again with something like this:\n",
      "Observation: \"New York City, NY\"\n",
      "\n",
      "Then you loop again:\n",
      "Thought: To get even more specific activity ideas, I should get the current weather at the user's location.\n",
      "Action: get_current_weather: New York City\n",
      "PAUSE\n",
      "\n",
      "You'll then be called again with something like this:\n",
      "Observation: { location: \"New York City, NY\", forecast: [\"sunny\"] }\n",
      "\n",
      "You then output:\n",
      "Answer: <Suggested activities based on sunny weather that are highly specific to New York City and surrounding areas.>\n",
      "\n",
      "I would like to explore my city tomorrow, i'm wondering if i need to carry an umbrella tomorrow\n"
     ]
    }
   ],
   "source": [
    "# Let's check another example\n",
    "user_prompt = \"I would like to explore my city tomorrow, i'm wondering if i need to carry an umbrella tomorrow\"\n",
    "new_prompt = f\"{prompt}\\n\\n{user_prompt}\"\n",
    "print(new_prompt)"
   ]
  },
  {
   "cell_type": "code",
   "execution_count": 63,
   "metadata": {},
   "outputs": [
    {
     "data": {
      "text/html": [
       "<pre style=\"white-space:pre;overflow-x:auto;line-height:normal;font-family:Menlo,'DejaVu Sans Mono',consolas,'Courier New',monospace\"><span style=\"color: #008080; text-decoration-color: #008080; font-weight: bold\">USER</span><span style=\"color: #008080; text-decoration-color: #008080\">: You cycle through Thought, Action, PAUSE, Observation. At the end of the loop you output a final Answer. Your</span>\n",
       "<span style=\"color: #008080; text-decoration-color: #008080\">final answer should be highly specific to the observations you have from running</span>\n",
       "<span style=\"color: #008080; text-decoration-color: #008080\">the actions. if the query doesn't require any action or if the requested query can't be fullfilled by given </span>\n",
       "<span style=\"color: #008080; text-decoration-color: #008080\">actions, you can SKIP the action loop and return Answer directly.</span>\n",
       "\n",
       "<span style=\"color: #008080; text-decoration-color: #008080\">Thought: Describe your thoughts about the question you have been asked.</span>\n",
       "<span style=\"color: #008080; text-decoration-color: #008080\">Action: run one of the actions available to you - then return PAUSE.</span>\n",
       "<span style=\"color: #008080; text-decoration-color: #008080\">PAUSE</span>\n",
       "<span style=\"color: #008080; text-decoration-color: #008080\">Observation: will be the result of running those actions.</span>\n",
       "\n",
       "<span style=\"color: #008080; text-decoration-color: #008080\">Available actions:</span>\n",
       "<span style=\"color: #008080; text-decoration-color: #008080\">get_current_weather: E.g. get_current_weather: </span><span style=\"color: #008000; text-decoration-color: #008000\">\"Salt Lake City\"</span><span style=\"color: #008080; text-decoration-color: #008080\"> Returns the current weather of the location </span>\n",
       "<span style=\"color: #008080; text-decoration-color: #008080\">specified.</span>\n",
       "<span style=\"color: #008080; text-decoration-color: #008080\">get_location: E.g. get_location: </span><span style=\"color: #008000; text-decoration-color: #008000\">\"null\"</span><span style=\"color: #008080; text-decoration-color: #008080\"> Returns user's location details. No arguments needed.</span>\n",
       "\n",
       "<span style=\"color: #008080; text-decoration-color: #008080\">Example session:</span>\n",
       "<span style=\"color: #008080; text-decoration-color: #008080\">Question: Please give me some ideas for activities to do this afternoon.</span>\n",
       "<span style=\"color: #008080; text-decoration-color: #008080\">Thought: I should look up the user's location so I can give location-specific activity ideas.</span>\n",
       "<span style=\"color: #008080; text-decoration-color: #008080\">Action: get_location: null</span>\n",
       "<span style=\"color: #008080; text-decoration-color: #008080\">PAUSE</span>\n",
       "\n",
       "<span style=\"color: #008080; text-decoration-color: #008080\">You will be called again with something like this:</span>\n",
       "<span style=\"color: #008080; text-decoration-color: #008080\">Observation: </span><span style=\"color: #008000; text-decoration-color: #008000\">\"New York City, NY\"</span>\n",
       "\n",
       "<span style=\"color: #008080; text-decoration-color: #008080\">Then you loop again:</span>\n",
       "<span style=\"color: #008080; text-decoration-color: #008080\">Thought: To get even more specific activity ideas, I should get the current weather at the user's location.</span>\n",
       "<span style=\"color: #008080; text-decoration-color: #008080\">Action: get_current_weather: New York City</span>\n",
       "<span style=\"color: #008080; text-decoration-color: #008080\">PAUSE</span>\n",
       "\n",
       "<span style=\"color: #008080; text-decoration-color: #008080\">You'll then be called again with something like this:</span>\n",
       "<span style=\"color: #008080; text-decoration-color: #008080\">Observation: </span><span style=\"color: #008080; text-decoration-color: #008080; font-weight: bold\">{</span><span style=\"color: #008080; text-decoration-color: #008080\"> location: </span><span style=\"color: #008000; text-decoration-color: #008000\">\"New York City, NY\"</span><span style=\"color: #008080; text-decoration-color: #008080\">, forecast: </span><span style=\"color: #008080; text-decoration-color: #008080; font-weight: bold\">[</span><span style=\"color: #008000; text-decoration-color: #008000\">\"sunny\"</span><span style=\"color: #008080; text-decoration-color: #008080; font-weight: bold\">]</span><span style=\"color: #008080; text-decoration-color: #008080\"> </span><span style=\"color: #008080; text-decoration-color: #008080; font-weight: bold\">}</span>\n",
       "\n",
       "<span style=\"color: #008080; text-decoration-color: #008080\">You then output:</span>\n",
       "<span style=\"color: #008080; text-decoration-color: #008080\">Answer: </span><span style=\"color: #008080; text-decoration-color: #008080; font-weight: bold\">&lt;</span><span style=\"color: #ff00ff; text-decoration-color: #ff00ff; font-weight: bold\">Suggested</span><span style=\"color: #000000; text-decoration-color: #000000\"> activities based on sunny weather that are highly specific to New York City and surrounding </span>\n",
       "<span style=\"color: #000000; text-decoration-color: #000000\">areas.</span><span style=\"color: #008080; text-decoration-color: #008080; font-weight: bold\">&gt;</span>\n",
       "\n",
       "<span style=\"color: #008080; text-decoration-color: #008080\">I would like to explore my city tomorrow, i'm wondering if i need to carry an umbrella tomorrow</span>\n",
       "</pre>\n"
      ],
      "text/plain": [
       "\u001b[1;36mUSER\u001b[0m\u001b[36m: You cycle through Thought, Action, PAUSE, Observation. At the end of the loop you output a final Answer. Your\u001b[0m\n",
       "\u001b[36mfinal answer should be highly specific to the observations you have from running\u001b[0m\n",
       "\u001b[36mthe actions. if the query doesn't require any action or if the requested query can't be fullfilled by given \u001b[0m\n",
       "\u001b[36mactions, you can SKIP the action loop and return Answer directly.\u001b[0m\n",
       "\n",
       "\u001b[36mThought: Describe your thoughts about the question you have been asked.\u001b[0m\n",
       "\u001b[36mAction: run one of the actions available to you - then return PAUSE.\u001b[0m\n",
       "\u001b[36mPAUSE\u001b[0m\n",
       "\u001b[36mObservation: will be the result of running those actions.\u001b[0m\n",
       "\n",
       "\u001b[36mAvailable actions:\u001b[0m\n",
       "\u001b[36mget_current_weather: E.g. get_current_weather: \u001b[0m\u001b[32m\"Salt Lake City\"\u001b[0m\u001b[36m Returns the current weather of the location \u001b[0m\n",
       "\u001b[36mspecified.\u001b[0m\n",
       "\u001b[36mget_location: E.g. get_location: \u001b[0m\u001b[32m\"null\"\u001b[0m\u001b[36m Returns user's location details. No arguments needed.\u001b[0m\n",
       "\n",
       "\u001b[36mExample session:\u001b[0m\n",
       "\u001b[36mQuestion: Please give me some ideas for activities to do this afternoon.\u001b[0m\n",
       "\u001b[36mThought: I should look up the user's location so I can give location-specific activity ideas.\u001b[0m\n",
       "\u001b[36mAction: get_location: null\u001b[0m\n",
       "\u001b[36mPAUSE\u001b[0m\n",
       "\n",
       "\u001b[36mYou will be called again with something like this:\u001b[0m\n",
       "\u001b[36mObservation: \u001b[0m\u001b[32m\"New York City, NY\"\u001b[0m\n",
       "\n",
       "\u001b[36mThen you loop again:\u001b[0m\n",
       "\u001b[36mThought: To get even more specific activity ideas, I should get the current weather at the user's location.\u001b[0m\n",
       "\u001b[36mAction: get_current_weather: New York City\u001b[0m\n",
       "\u001b[36mPAUSE\u001b[0m\n",
       "\n",
       "\u001b[36mYou'll then be called again with something like this:\u001b[0m\n",
       "\u001b[36mObservation: \u001b[0m\u001b[1;36m{\u001b[0m\u001b[36m location: \u001b[0m\u001b[32m\"New York City, NY\"\u001b[0m\u001b[36m, forecast: \u001b[0m\u001b[1;36m[\u001b[0m\u001b[32m\"sunny\"\u001b[0m\u001b[1;36m]\u001b[0m\u001b[36m \u001b[0m\u001b[1;36m}\u001b[0m\n",
       "\n",
       "\u001b[36mYou then output:\u001b[0m\n",
       "\u001b[36mAnswer: \u001b[0m\u001b[1;36m<\u001b[0m\u001b[1;95mSuggested\u001b[0m\u001b[39m activities based on sunny weather that are highly specific to New York City and surrounding \u001b[0m\n",
       "\u001b[39mareas.\u001b[0m\u001b[1;36m>\u001b[0m\n",
       "\n",
       "\u001b[36mI would like to explore my city tomorrow, i'm wondering if i need to carry an umbrella tomorrow\u001b[0m\n"
      ]
     },
     "metadata": {},
     "output_type": "display_data"
    },
    {
     "data": {
      "text/html": [
       "<pre style=\"white-space:pre;overflow-x:auto;line-height:normal;font-family:Menlo,'DejaVu Sans Mono',consolas,'Courier New',monospace\"><span style=\"color: #800000; text-decoration-color: #800000; background-color: #c0c0c0; font-weight: bold; text-decoration: underline\">AI: Thought: To determine if the user needs to carry an umbrella tomorrow, I need to know their location and the </span>\n",
       "<span style=\"color: #800000; text-decoration-color: #800000; background-color: #c0c0c0; font-weight: bold; text-decoration: underline\">weather forecast for that location.</span>\n",
       "<span style=\"color: #800000; text-decoration-color: #800000; background-color: #c0c0c0; font-weight: bold; text-decoration: underline\">Action: get_location: null</span>\n",
       "<span style=\"color: #800000; text-decoration-color: #800000; background-color: #c0c0c0; font-weight: bold; text-decoration: underline\">PAUSE</span>\n",
       "\n",
       "</pre>\n"
      ],
      "text/plain": [
       "\u001b[1;4;5;31;47mAI\u001b[0m\u001b[1;4;5;31;47m: Thought: To determine if the user needs to carry an umbrella tomorrow, I need to know their location and the \u001b[0m\n",
       "\u001b[1;4;5;31;47mweather forecast for that location.\u001b[0m\n",
       "\u001b[1;4;5;31;47mAction: get_location: null\u001b[0m\n",
       "\u001b[1;4;5;31;47mPAUSE\u001b[0m\n",
       "\n"
      ]
     },
     "metadata": {},
     "output_type": "display_data"
    }
   ],
   "source": [
    "_ = agent1(new_prompt)"
   ]
  },
  {
   "cell_type": "code",
   "execution_count": 64,
   "metadata": {},
   "outputs": [
    {
     "data": {
      "text/html": [
       "<pre style=\"white-space:pre;overflow-x:auto;line-height:normal;font-family:Menlo,'DejaVu Sans Mono',consolas,'Courier New',monospace\"><span style=\"color: #008080; text-decoration-color: #008080; font-weight: bold\">USER</span><span style=\"color: #008080; text-decoration-color: #008080\">: Helsinki</span>\n",
       "</pre>\n"
      ],
      "text/plain": [
       "\u001b[1;36mUSER\u001b[0m\u001b[36m: Helsinki\u001b[0m\n"
      ]
     },
     "metadata": {},
     "output_type": "display_data"
    },
    {
     "data": {
      "text/html": [
       "<pre style=\"white-space:pre;overflow-x:auto;line-height:normal;font-family:Menlo,'DejaVu Sans Mono',consolas,'Courier New',monospace\"><span style=\"color: #800000; text-decoration-color: #800000; background-color: #c0c0c0; font-weight: bold; text-decoration: underline\">AI: Thought: Now that I know the user is in Helsinki, I need to get the weather forecast for Helsinki to determine </span>\n",
       "<span style=\"color: #800000; text-decoration-color: #800000; background-color: #c0c0c0; font-weight: bold; text-decoration: underline\">if they need to carry an umbrella tomorrow.</span>\n",
       "<span style=\"color: #800000; text-decoration-color: #800000; background-color: #c0c0c0; font-weight: bold; text-decoration: underline\">Action: get_current_weather: Helsinki</span>\n",
       "<span style=\"color: #800000; text-decoration-color: #800000; background-color: #c0c0c0; font-weight: bold; text-decoration: underline\">PAUSE</span>\n",
       "\n",
       "</pre>\n"
      ],
      "text/plain": [
       "\u001b[1;4;5;31;47mAI\u001b[0m\u001b[1;4;5;31;47m: Thought: Now that I know the user is in Helsinki, I need to get the weather forecast for Helsinki to determine \u001b[0m\n",
       "\u001b[1;4;5;31;47mif they need to carry an umbrella tomorrow.\u001b[0m\n",
       "\u001b[1;4;5;31;47mAction: get_current_weather: Helsinki\u001b[0m\n",
       "\u001b[1;4;5;31;47mPAUSE\u001b[0m\n",
       "\n"
      ]
     },
     "metadata": {},
     "output_type": "display_data"
    }
   ],
   "source": [
    "# Since the AI is now requesting the tool for getting location, we can mimic the tool output back to the model\n",
    "_ = agent1(get_location)"
   ]
  },
  {
   "cell_type": "code",
   "execution_count": 65,
   "metadata": {},
   "outputs": [
    {
     "data": {
      "text/html": [
       "<pre style=\"white-space:pre;overflow-x:auto;line-height:normal;font-family:Menlo,'DejaVu Sans Mono',consolas,'Courier New',monospace\"><span style=\"color: #008080; text-decoration-color: #008080; font-weight: bold\">USER</span><span style=\"color: #008080; text-decoration-color: #008080\">: </span><span style=\"color: #008080; text-decoration-color: #008080; font-weight: bold\">{</span><span style=\"color: #008080; text-decoration-color: #008080\"> location: </span><span style=\"color: #008000; text-decoration-color: #008000\">\"Helsinki\"</span><span style=\"color: #008080; text-decoration-color: #008080\">, forecast: </span><span style=\"color: #008080; text-decoration-color: #008080; font-weight: bold\">[</span><span style=\"color: #008000; text-decoration-color: #008000\">\"Snowy\"</span><span style=\"color: #008080; text-decoration-color: #008080; font-weight: bold\">]</span><span style=\"color: #008080; text-decoration-color: #008080\"> </span><span style=\"color: #008080; text-decoration-color: #008080; font-weight: bold\">}</span>\n",
       "</pre>\n"
      ],
      "text/plain": [
       "\u001b[1;36mUSER\u001b[0m\u001b[36m: \u001b[0m\u001b[1;36m{\u001b[0m\u001b[36m location: \u001b[0m\u001b[32m\"Helsinki\"\u001b[0m\u001b[36m, forecast: \u001b[0m\u001b[1;36m[\u001b[0m\u001b[32m\"Snowy\"\u001b[0m\u001b[1;36m]\u001b[0m\u001b[36m \u001b[0m\u001b[1;36m}\u001b[0m\n"
      ]
     },
     "metadata": {},
     "output_type": "display_data"
    },
    {
     "data": {
      "text/html": [
       "<pre style=\"white-space:pre;overflow-x:auto;line-height:normal;font-family:Menlo,'DejaVu Sans Mono',consolas,'Courier New',monospace\"><span style=\"color: #800000; text-decoration-color: #800000; background-color: #c0c0c0; font-weight: bold; text-decoration: underline\">AI: Thought: Since the forecast for Helsinki is snowy, it is likely that precipitation will occur. Therefore, it </span>\n",
       "<span style=\"color: #800000; text-decoration-color: #800000; background-color: #c0c0c0; font-weight: bold; text-decoration: underline\">would be wise to carry an umbrella.</span>\n",
       "<span style=\"color: #800000; text-decoration-color: #800000; background-color: #c0c0c0; font-weight: bold; text-decoration: underline\">Answer: Yes, given the snowy forecast for Helsinki tomorrow, you should definitely carry an umbrella.</span>\n",
       "\n",
       "</pre>\n"
      ],
      "text/plain": [
       "\u001b[1;4;5;31;47mAI\u001b[0m\u001b[1;4;5;31;47m: Thought: Since the forecast for Helsinki is snowy, it is likely that precipitation will occur. Therefore, it \u001b[0m\n",
       "\u001b[1;4;5;31;47mwould be wise to carry an umbrella.\u001b[0m\n",
       "\u001b[1;4;5;31;47mAnswer: Yes, given the snowy forecast for Helsinki tomorrow, you should definitely carry an umbrella.\u001b[0m\n",
       "\n"
      ]
     },
     "metadata": {},
     "output_type": "display_data"
    }
   ],
   "source": [
    "# Now the AI will request the tool for getting the current weather\n",
    "_ = agent1(get_current_weather)"
   ]
  },
  {
   "cell_type": "code",
   "execution_count": 66,
   "metadata": {},
   "outputs": [
    {
     "data": {
      "text/html": [
       "<pre style=\"white-space:pre;overflow-x:auto;line-height:normal;font-family:Menlo,'DejaVu Sans Mono',consolas,'Courier New',monospace\"><span style=\"color: #008080; text-decoration-color: #008080; font-weight: bold\">USER</span><span style=\"color: #008080; text-decoration-color: #008080\">: Can you tell me the time in Helsinki?</span>\n",
       "</pre>\n"
      ],
      "text/plain": [
       "\u001b[1;36mUSER\u001b[0m\u001b[36m: Can you tell me the time in Helsinki?\u001b[0m\n"
      ]
     },
     "metadata": {},
     "output_type": "display_data"
    },
    {
     "data": {
      "text/html": [
       "<pre style=\"white-space:pre;overflow-x:auto;line-height:normal;font-family:Menlo,'DejaVu Sans Mono',consolas,'Courier New',monospace\"><span style=\"color: #800000; text-decoration-color: #800000; background-color: #c0c0c0; font-weight: bold; text-decoration: underline\">AI: Thought: I do not have the capability to tell you the current time in Helsinki. I can only get the current </span>\n",
       "<span style=\"color: #800000; text-decoration-color: #800000; background-color: #c0c0c0; font-weight: bold; text-decoration: underline\">weather.</span>\n",
       "<span style=\"color: #800000; text-decoration-color: #800000; background-color: #c0c0c0; font-weight: bold; text-decoration: underline\">Answer: I am sorry, I cannot tell you the current time in Helsinki. I can only provide weather information.</span>\n",
       "\n",
       "</pre>\n"
      ],
      "text/plain": [
       "\u001b[1;4;5;31;47mAI\u001b[0m\u001b[1;4;5;31;47m: Thought: I do not have the capability to tell you the current time in Helsinki. I can only get the current \u001b[0m\n",
       "\u001b[1;4;5;31;47mweather.\u001b[0m\n",
       "\u001b[1;4;5;31;47mAnswer: I am sorry, I cannot tell you the current time in Helsinki. I can only provide weather information.\u001b[0m\n",
       "\n"
      ]
     },
     "metadata": {},
     "output_type": "display_data"
    }
   ],
   "source": [
    "# now let's ask a question that doesn't require any action\n",
    "user_prompt = \"Can you tell me the time in Helsinki?\"\n",
    "_ = agent1(user_prompt)"
   ]
  },
  {
   "cell_type": "code",
   "execution_count": 67,
   "metadata": {},
   "outputs": [
    {
     "data": {
      "text/html": [
       "<pre style=\"white-space:pre;overflow-x:auto;line-height:normal;font-family:Menlo,'DejaVu Sans Mono',consolas,'Courier New',monospace\"><span style=\"color: #008080; text-decoration-color: #008080; font-weight: bold\">USER</span><span style=\"color: #008080; text-decoration-color: #008080\">: My name is Venkat, how about you?</span>\n",
       "</pre>\n"
      ],
      "text/plain": [
       "\u001b[1;36mUSER\u001b[0m\u001b[36m: My name is Venkat, how about you?\u001b[0m\n"
      ]
     },
     "metadata": {},
     "output_type": "display_data"
    },
    {
     "data": {
      "text/html": [
       "<pre style=\"white-space:pre;overflow-x:auto;line-height:normal;font-family:Menlo,'DejaVu Sans Mono',consolas,'Courier New',monospace\"><span style=\"color: #800000; text-decoration-color: #800000; background-color: #c0c0c0; font-weight: bold; text-decoration: underline\">AI: Thought: This question is conversational and doesn't require any action. I can respond directly.</span>\n",
       "<span style=\"color: #800000; text-decoration-color: #800000; background-color: #c0c0c0; font-weight: bold; text-decoration: underline\">Answer: As a large language model, I don't have a name in the same way humans do. You can call me whatever you </span>\n",
       "<span style=\"color: #800000; text-decoration-color: #800000; background-color: #c0c0c0; font-weight: bold; text-decoration: underline\">like, or simply refer to me as the assistant.</span>\n",
       "\n",
       "</pre>\n"
      ],
      "text/plain": [
       "\u001b[1;4;5;31;47mAI\u001b[0m\u001b[1;4;5;31;47m: Thought: This question is conversational and doesn't require any action. I can respond directly.\u001b[0m\n",
       "\u001b[1;4;5;31;47mAnswer: As a large language model, I don't have a name in the same way humans do. You can call me whatever you \u001b[0m\n",
       "\u001b[1;4;5;31;47mlike, or simply refer to me as the assistant.\u001b[0m\n",
       "\n"
      ]
     },
     "metadata": {},
     "output_type": "display_data"
    }
   ],
   "source": [
    "# one more example\n",
    "user_prompt = \"My name is Venkat, how about you?\"\n",
    "_ = agent1(user_prompt)"
   ]
  },
  {
   "cell_type": "code",
   "execution_count": null,
   "metadata": {},
   "outputs": [],
   "source": []
  }
 ],
 "metadata": {
  "kernelspec": {
   "display_name": ".venv",
   "language": "python",
   "name": "python3"
  },
  "language_info": {
   "codemirror_mode": {
    "name": "ipython",
    "version": 3
   },
   "file_extension": ".py",
   "mimetype": "text/x-python",
   "name": "python",
   "nbconvert_exporter": "python",
   "pygments_lexer": "ipython3",
   "version": "3.12.3"
  }
 },
 "nbformat": 4,
 "nbformat_minor": 2
}
