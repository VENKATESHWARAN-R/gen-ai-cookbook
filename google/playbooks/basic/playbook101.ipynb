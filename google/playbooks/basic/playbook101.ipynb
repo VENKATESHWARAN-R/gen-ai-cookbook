{
 "cells": [
  {
   "cell_type": "code",
   "execution_count": null,
   "metadata": {},
   "outputs": [],
   "source": [
    "!pip install -qU \"google-genai\" \"python-dotenv\" \"chromadb\" \"sentence-transformers\" \"transformers\" \"psycopg2-binary\" \"rich\""
   ]
  },
  {
   "cell_type": "markdown",
   "metadata": {},
   "source": [
    "## General\n"
   ]
  },
  {
   "cell_type": "code",
   "execution_count": 1,
   "metadata": {},
   "outputs": [
    {
     "name": "stderr",
     "output_type": "stream",
     "text": [
      "/home/venkat/projects/gen-ai-cookbook/.venv/lib/python3.12/site-packages/tqdm/auto.py:21: TqdmWarning: IProgress not found. Please update jupyter and ipywidgets. See https://ipywidgets.readthedocs.io/en/stable/user_install.html\n",
      "  from .autonotebook import tqdm as notebook_tqdm\n"
     ]
    }
   ],
   "source": [
    "from dotenv import load_dotenv, find_dotenv\n",
    "import os\n",
    "from google import genai\n",
    "from google.genai import types\n",
    "from typing import List, Dict\n",
    "import chromadb\n",
    "from chromadb import Documents, EmbeddingFunction, Embeddings\n",
    "from sentence_transformers import SentenceTransformer, util\n",
    "from pprint import pprint\n",
    "import psycopg2\n",
    "from datetime import datetime, timedelta\n",
    "from psycopg2.extras import DictCursor\n",
    "from transformers import AutoTokenizer, AutoModelForCausalLM\n",
    "import json\n",
    "from rich.console import Console\n",
    "import psutil"
   ]
  },
  {
   "cell_type": "code",
   "execution_count": 2,
   "metadata": {},
   "outputs": [],
   "source": [
    "# Load environment variables from .env file, this is where the gemini API key is stored\n",
    "load_dotenv(find_dotenv())\n",
    "console = Console()"
   ]
  },
  {
   "cell_type": "code",
   "execution_count": 3,
   "metadata": {},
   "outputs": [],
   "source": [
    "# Define constants for the application usage\n",
    "EMBEDDING_MODEL = \"models/text-embedding-004\"\n",
    "LANGUAGE_MODEL = \"models/gemini-2.0-flash\""
   ]
  },
  {
   "cell_type": "code",
   "execution_count": 4,
   "metadata": {},
   "outputs": [],
   "source": [
    "# Creating google-genai client\n",
    "gen_ai_client = genai.Client(api_key=os.getenv(\"GEMINI_API_KEY\"))\n",
    "chroma_client = chromadb.Client()"
   ]
  },
  {
   "cell_type": "code",
   "execution_count": 5,
   "metadata": {},
   "outputs": [],
   "source": [
    "def generate_embeddings(texts: List[str]):\n",
    "    \"\"\"\n",
    "    Generate embeddings for a list of texts using the text-embedding-004 model\n",
    "    \"\"\"\n",
    "    embeddings = gen_ai_client.models.embed_content(\n",
    "        model=EMBEDDING_MODEL, contents=texts\n",
    "    )\n",
    "    return embeddings.embeddings"
   ]
  },
  {
   "cell_type": "code",
   "execution_count": 6,
   "metadata": {},
   "outputs": [],
   "source": [
    "# Function for Generating embeddings\n",
    "# Creating this as a class so that it can be passed to the chromaDB client\n",
    "# Refer https://docs.trychroma.com/docs/embeddings/embedding-functions#custom-embedding-functions\n",
    "class Generate_Embeddings(EmbeddingFunction):\n",
    "    def __init__(self, model: str = EMBEDDING_MODEL, **kwargs):\n",
    "        \"\"\"\n",
    "        Initialize the embedding function with the given model.\n",
    "        \"\"\"\n",
    "        self.model = model\n",
    "        self.kwargs = kwargs\n",
    "\n",
    "    def __call__(self, input: Documents) -> Embeddings:\n",
    "        \"\"\"\n",
    "        Generate embeddings for the given text using the Google GenAI API.\n",
    "        \"\"\"\n",
    "        # Generate embeddings\n",
    "        if isinstance(input, str):\n",
    "            input = [input]\n",
    "        embeddings = gen_ai_client.models.embed_content(\n",
    "            model=self.model, contents=input, **self.kwargs\n",
    "        )\n",
    "        embedding_output = [x.values for x in embeddings.embeddings]\n",
    "        return embedding_output"
   ]
  },
  {
   "cell_type": "code",
   "execution_count": 9,
   "metadata": {},
   "outputs": [],
   "source": [
    "# Function for Generating language model outputs\n",
    "def generate_text(texts: List, **kwargs):\n",
    "    \"\"\"\n",
    "    Generate language model outputs for the given text using the Google GenAI API.\n",
    "    \"\"\"\n",
    "    # Generate language model outputs\n",
    "    if isinstance(texts, str):\n",
    "        texts = [texts]\n",
    "    outputs = gen_ai_client.models.generate_content(\n",
    "        model=LANGUAGE_MODEL, contents=texts, **kwargs\n",
    "    )\n",
    "    return outputs"
   ]
  },
  {
   "cell_type": "code",
   "execution_count": 8,
   "metadata": {},
   "outputs": [
    {
     "name": "stdout",
     "output_type": "stream",
     "text": [
      "Memory usage before loading model: 82.1%\n"
     ]
    }
   ],
   "source": [
    "print(f\"Memory usage before loading model: {psutil.virtual_memory().percent}%\")"
   ]
  },
  {
   "cell_type": "markdown",
   "metadata": {},
   "source": [
    "## Unrelated"
   ]
  },
  {
   "cell_type": "code",
   "execution_count": 41,
   "metadata": {},
   "outputs": [
    {
     "name": "stdout",
     "output_type": "stream",
     "text": [
      "Memory usage: 82.0%\n"
     ]
    },
    {
     "data": {
      "text/html": [
       "<pre style=\"white-space:pre;overflow-x:auto;line-height:normal;font-family:Menlo,'DejaVu Sans Mono',consolas,'Courier New',monospace\"><span style=\"color: #800000; text-decoration-color: #800000; background-color: #c0c0c0\">Model: llama-mini</span>\n",
       "</pre>\n"
      ],
      "text/plain": [
       "\u001b[31;47mModel: llama-mini\u001b[0m\n"
      ]
     },
     "metadata": {},
     "output_type": "display_data"
    },
    {
     "data": {
      "text/html": [
       "<pre style=\"white-space:pre;overflow-x:auto;line-height:normal;font-family:Menlo,'DejaVu Sans Mono',consolas,'Courier New',monospace\"><span style=\"color: #800080; text-decoration-color: #800080; background-color: #808000; font-weight: bold; font-style: italic\">&lt;</span><span style=\"color: #ff00ff; text-decoration-color: #ff00ff; background-color: #808000; font-weight: bold; font-style: italic\">|begin_of_text|</span><span style=\"color: #000000; text-decoration-color: #000000; background-color: #808000; font-style: italic\">&gt;&lt;|start_header_id|&gt;system&lt;|end_header_id|&gt;</span>\n",
       "\n",
       "<span style=\"color: #000000; text-decoration-color: #000000; background-color: #808000; font-style: italic\">Cutting Knowledge Date: December </span><span style=\"color: #008080; text-decoration-color: #008080; background-color: #808000; font-weight: bold\">2023</span>\n",
       "<span style=\"color: #000000; text-decoration-color: #000000; background-color: #808000; font-style: italic\">Today Date: </span><span style=\"color: #008080; text-decoration-color: #008080; background-color: #808000; font-weight: bold\">10</span><span style=\"color: #000000; text-decoration-color: #000000; background-color: #808000; font-style: italic\"> Mar </span><span style=\"color: #008080; text-decoration-color: #008080; background-color: #808000; font-weight: bold\">2025</span>\n",
       "\n",
       "<span style=\"color: #000000; text-decoration-color: #000000; background-color: #808000; font-style: italic\">Your name is Iida, You are a helpful assistant.&lt;|eot_id|&gt;&lt;|start_header_id|&gt;user&lt;|end_header_id|&gt;</span>\n",
       "\n",
       "<span style=\"color: #000000; text-decoration-color: #000000; background-color: #808000; font-style: italic\">Tell me something about large language models.&lt;|eot_id|&gt;&lt;|start_header_id|&gt;assistant&lt;|end_header_id|&gt;</span>\n",
       "\n",
       "<span style=\"color: #000000; text-decoration-color: #000000; background-color: #808000; font-style: italic\">Large language models are powerful models that can generate human-like </span>\n",
       "<span style=\"color: #000000; text-decoration-color: #000000; background-color: #808000; font-style: italic\">text.&lt;|eot_id|&gt;&lt;|start_header_id|&gt;user&lt;|end_header_id|&gt;</span>\n",
       "\n",
       "<span style=\"color: #000000; text-decoration-color: #000000; background-color: #808000; font-style: italic\">Can you show me an example of a large language model?&lt;|eot_id|&gt;&lt;|start_header_id|&gt;assistant&lt;|end_header_id|</span><span style=\"color: #800080; text-decoration-color: #800080; background-color: #808000; font-weight: bold; font-style: italic\">&gt;</span>\n",
       "\n",
       "\n",
       "</pre>\n"
      ],
      "text/plain": [
       "\u001b[1;3;35;43m<\u001b[0m\u001b[1;3;95;43m|begin_of_text|\u001b[0m\u001b[3;39;43m><|start_header_id|>system<|end_header_id|>\u001b[0m\n",
       "\n",
       "\u001b[3;39;43mCutting Knowledge Date: December \u001b[0m\u001b[1;36;43m2023\u001b[0m\n",
       "\u001b[3;39;43mToday Date: \u001b[0m\u001b[1;36;43m10\u001b[0m\u001b[3;39;43m Mar \u001b[0m\u001b[1;36;43m2025\u001b[0m\n",
       "\n",
       "\u001b[3;39;43mYour name is Iida, You are a helpful assistant.<|eot_id|><|start_header_id|>user<|end_header_id|>\u001b[0m\n",
       "\n",
       "\u001b[3;39;43mTell me something about large language models.<|eot_id|><|start_header_id|>assistant<|end_header_id|>\u001b[0m\n",
       "\n",
       "\u001b[3;39;43mLarge language models are powerful models that can generate human-like \u001b[0m\n",
       "\u001b[3;39;43mtext.<|eot_id|><|start_header_id|>user<|end_header_id|>\u001b[0m\n",
       "\n",
       "\u001b[3;39;43mCan you show me an example of a large language model?<|eot_id|><|start_header_id|>assistant<|end_header_id|\u001b[0m\u001b[1;3;35;43m>\u001b[0m\n",
       "\n",
       "\n"
      ]
     },
     "metadata": {},
     "output_type": "display_data"
    },
    {
     "name": "stdout",
     "output_type": "stream",
     "text": [
      "\n",
      "\n",
      "\n",
      "Memory usage: 82.2%\n"
     ]
    },
    {
     "data": {
      "text/html": [
       "<pre style=\"white-space:pre;overflow-x:auto;line-height:normal;font-family:Menlo,'DejaVu Sans Mono',consolas,'Courier New',monospace\"><span style=\"color: #800000; text-decoration-color: #800000; background-color: #c0c0c0\">Model: llama</span>\n",
       "</pre>\n"
      ],
      "text/plain": [
       "\u001b[31;47mModel: llama\u001b[0m\n"
      ]
     },
     "metadata": {},
     "output_type": "display_data"
    },
    {
     "data": {
      "text/html": [
       "<pre style=\"white-space:pre;overflow-x:auto;line-height:normal;font-family:Menlo,'DejaVu Sans Mono',consolas,'Courier New',monospace\"><span style=\"color: #800080; text-decoration-color: #800080; background-color: #808000; font-weight: bold; font-style: italic\">&lt;</span><span style=\"color: #ff00ff; text-decoration-color: #ff00ff; background-color: #808000; font-weight: bold; font-style: italic\">|begin_of_text|</span><span style=\"color: #000000; text-decoration-color: #000000; background-color: #808000; font-style: italic\">&gt;&lt;|start_header_id|&gt;system&lt;|end_header_id|&gt;</span>\n",
       "\n",
       "<span style=\"color: #000000; text-decoration-color: #000000; background-color: #808000; font-style: italic\">Cutting Knowledge Date: December </span><span style=\"color: #008080; text-decoration-color: #008080; background-color: #808000; font-weight: bold\">2023</span>\n",
       "<span style=\"color: #000000; text-decoration-color: #000000; background-color: #808000; font-style: italic\">Today Date: </span><span style=\"color: #008080; text-decoration-color: #008080; background-color: #808000; font-weight: bold\">10</span><span style=\"color: #000000; text-decoration-color: #000000; background-color: #808000; font-style: italic\"> Mar </span><span style=\"color: #008080; text-decoration-color: #008080; background-color: #808000; font-weight: bold\">2025</span>\n",
       "\n",
       "<span style=\"color: #000000; text-decoration-color: #000000; background-color: #808000; font-style: italic\">Your name is Iida, You are a helpful assistant.&lt;|eot_id|&gt;&lt;|start_header_id|&gt;user&lt;|end_header_id|&gt;</span>\n",
       "\n",
       "<span style=\"color: #000000; text-decoration-color: #000000; background-color: #808000; font-style: italic\">Tell me something about large language models.&lt;|eot_id|&gt;&lt;|start_header_id|&gt;assistant&lt;|end_header_id|&gt;</span>\n",
       "\n",
       "<span style=\"color: #000000; text-decoration-color: #000000; background-color: #808000; font-style: italic\">Large language models are powerful models that can generate human-like </span>\n",
       "<span style=\"color: #000000; text-decoration-color: #000000; background-color: #808000; font-style: italic\">text.&lt;|eot_id|&gt;&lt;|start_header_id|&gt;user&lt;|end_header_id|&gt;</span>\n",
       "\n",
       "<span style=\"color: #000000; text-decoration-color: #000000; background-color: #808000; font-style: italic\">Can you show me an example of a large language model?&lt;|eot_id|&gt;&lt;|start_header_id|&gt;assistant&lt;|end_header_id|</span><span style=\"color: #800080; text-decoration-color: #800080; background-color: #808000; font-weight: bold; font-style: italic\">&gt;</span>\n",
       "\n",
       "\n",
       "</pre>\n"
      ],
      "text/plain": [
       "\u001b[1;3;35;43m<\u001b[0m\u001b[1;3;95;43m|begin_of_text|\u001b[0m\u001b[3;39;43m><|start_header_id|>system<|end_header_id|>\u001b[0m\n",
       "\n",
       "\u001b[3;39;43mCutting Knowledge Date: December \u001b[0m\u001b[1;36;43m2023\u001b[0m\n",
       "\u001b[3;39;43mToday Date: \u001b[0m\u001b[1;36;43m10\u001b[0m\u001b[3;39;43m Mar \u001b[0m\u001b[1;36;43m2025\u001b[0m\n",
       "\n",
       "\u001b[3;39;43mYour name is Iida, You are a helpful assistant.<|eot_id|><|start_header_id|>user<|end_header_id|>\u001b[0m\n",
       "\n",
       "\u001b[3;39;43mTell me something about large language models.<|eot_id|><|start_header_id|>assistant<|end_header_id|>\u001b[0m\n",
       "\n",
       "\u001b[3;39;43mLarge language models are powerful models that can generate human-like \u001b[0m\n",
       "\u001b[3;39;43mtext.<|eot_id|><|start_header_id|>user<|end_header_id|>\u001b[0m\n",
       "\n",
       "\u001b[3;39;43mCan you show me an example of a large language model?<|eot_id|><|start_header_id|>assistant<|end_header_id|\u001b[0m\u001b[1;3;35;43m>\u001b[0m\n",
       "\n",
       "\n"
      ]
     },
     "metadata": {},
     "output_type": "display_data"
    },
    {
     "name": "stdout",
     "output_type": "stream",
     "text": [
      "\n",
      "\n",
      "\n",
      "Memory usage: 82.4%\n"
     ]
    },
    {
     "data": {
      "text/html": [
       "<pre style=\"white-space:pre;overflow-x:auto;line-height:normal;font-family:Menlo,'DejaVu Sans Mono',consolas,'Courier New',monospace\"><span style=\"color: #800000; text-decoration-color: #800000; background-color: #c0c0c0\">Model: qwen-mini</span>\n",
       "</pre>\n"
      ],
      "text/plain": [
       "\u001b[31;47mModel: qwen-mini\u001b[0m\n"
      ]
     },
     "metadata": {},
     "output_type": "display_data"
    },
    {
     "data": {
      "text/html": [
       "<pre style=\"white-space:pre;overflow-x:auto;line-height:normal;font-family:Menlo,'DejaVu Sans Mono',consolas,'Courier New',monospace\"><span style=\"color: #800080; text-decoration-color: #800080; background-color: #808000; font-weight: bold; font-style: italic\">&lt;</span><span style=\"color: #ff00ff; text-decoration-color: #ff00ff; background-color: #808000; font-weight: bold; font-style: italic\">|im_start|</span><span style=\"color: #000000; text-decoration-color: #000000; background-color: #808000; font-style: italic\">&gt;system</span>\n",
       "<span style=\"color: #000000; text-decoration-color: #000000; background-color: #808000; font-style: italic\">Your name is Iida, You are a helpful assistant.&lt;|im_end|&gt;</span>\n",
       "<span style=\"color: #000000; text-decoration-color: #000000; background-color: #808000; font-style: italic\">&lt;|im_start|&gt;user</span>\n",
       "<span style=\"color: #000000; text-decoration-color: #000000; background-color: #808000; font-style: italic\">Tell me something about large language models.&lt;|im_end|&gt;</span>\n",
       "<span style=\"color: #000000; text-decoration-color: #000000; background-color: #808000; font-style: italic\">&lt;|im_start|&gt;assistant</span>\n",
       "<span style=\"color: #000000; text-decoration-color: #000000; background-color: #808000; font-style: italic\">Large language models are powerful models that can generate human-like text.&lt;|im_end|&gt;</span>\n",
       "<span style=\"color: #000000; text-decoration-color: #000000; background-color: #808000; font-style: italic\">&lt;|im_start|&gt;user</span>\n",
       "<span style=\"color: #000000; text-decoration-color: #000000; background-color: #808000; font-style: italic\">Can you show me an example of a large language model?&lt;|im_end|&gt;</span>\n",
       "<span style=\"color: #000000; text-decoration-color: #000000; background-color: #808000; font-style: italic\">&lt;|im_start|</span><span style=\"color: #800080; text-decoration-color: #800080; background-color: #808000; font-weight: bold; font-style: italic\">&gt;</span><span style=\"color: #800080; text-decoration-color: #800080; background-color: #808000; font-style: italic\">assistant</span>\n",
       "\n",
       "</pre>\n"
      ],
      "text/plain": [
       "\u001b[1;3;35;43m<\u001b[0m\u001b[1;3;95;43m|im_start|\u001b[0m\u001b[3;39;43m>system\u001b[0m\n",
       "\u001b[3;39;43mYour name is Iida, You are a helpful assistant.<|im_end|>\u001b[0m\n",
       "\u001b[3;39;43m<|im_start|>user\u001b[0m\n",
       "\u001b[3;39;43mTell me something about large language models.<|im_end|>\u001b[0m\n",
       "\u001b[3;39;43m<|im_start|>assistant\u001b[0m\n",
       "\u001b[3;39;43mLarge language models are powerful models that can generate human-like text.<|im_end|>\u001b[0m\n",
       "\u001b[3;39;43m<|im_start|>user\u001b[0m\n",
       "\u001b[3;39;43mCan you show me an example of a large language model?<|im_end|>\u001b[0m\n",
       "\u001b[3;39;43m<|im_start|\u001b[0m\u001b[1;3;35;43m>\u001b[0m\u001b[3;35;43massistant\u001b[0m\n",
       "\n"
      ]
     },
     "metadata": {},
     "output_type": "display_data"
    },
    {
     "name": "stdout",
     "output_type": "stream",
     "text": [
      "\n",
      "\n",
      "\n",
      "Memory usage: 82.3%\n"
     ]
    },
    {
     "data": {
      "text/html": [
       "<pre style=\"white-space:pre;overflow-x:auto;line-height:normal;font-family:Menlo,'DejaVu Sans Mono',consolas,'Courier New',monospace\"><span style=\"color: #800000; text-decoration-color: #800000; background-color: #c0c0c0\">Model: qwen</span>\n",
       "</pre>\n"
      ],
      "text/plain": [
       "\u001b[31;47mModel: qwen\u001b[0m\n"
      ]
     },
     "metadata": {},
     "output_type": "display_data"
    },
    {
     "data": {
      "text/html": [
       "<pre style=\"white-space:pre;overflow-x:auto;line-height:normal;font-family:Menlo,'DejaVu Sans Mono',consolas,'Courier New',monospace\"><span style=\"color: #800080; text-decoration-color: #800080; background-color: #808000; font-weight: bold; font-style: italic\">&lt;</span><span style=\"color: #ff00ff; text-decoration-color: #ff00ff; background-color: #808000; font-weight: bold; font-style: italic\">|im_start|</span><span style=\"color: #000000; text-decoration-color: #000000; background-color: #808000; font-style: italic\">&gt;system</span>\n",
       "<span style=\"color: #000000; text-decoration-color: #000000; background-color: #808000; font-style: italic\">Your name is Iida, You are a helpful assistant.&lt;|im_end|&gt;</span>\n",
       "<span style=\"color: #000000; text-decoration-color: #000000; background-color: #808000; font-style: italic\">&lt;|im_start|&gt;user</span>\n",
       "<span style=\"color: #000000; text-decoration-color: #000000; background-color: #808000; font-style: italic\">Tell me something about large language models.&lt;|im_end|&gt;</span>\n",
       "<span style=\"color: #000000; text-decoration-color: #000000; background-color: #808000; font-style: italic\">&lt;|im_start|&gt;assistant</span>\n",
       "<span style=\"color: #000000; text-decoration-color: #000000; background-color: #808000; font-style: italic\">Large language models are powerful models that can generate human-like text.&lt;|im_end|&gt;</span>\n",
       "<span style=\"color: #000000; text-decoration-color: #000000; background-color: #808000; font-style: italic\">&lt;|im_start|&gt;user</span>\n",
       "<span style=\"color: #000000; text-decoration-color: #000000; background-color: #808000; font-style: italic\">Can you show me an example of a large language model?&lt;|im_end|&gt;</span>\n",
       "<span style=\"color: #000000; text-decoration-color: #000000; background-color: #808000; font-style: italic\">&lt;|im_start|</span><span style=\"color: #800080; text-decoration-color: #800080; background-color: #808000; font-weight: bold; font-style: italic\">&gt;</span><span style=\"color: #800080; text-decoration-color: #800080; background-color: #808000; font-style: italic\">assistant</span>\n",
       "\n",
       "</pre>\n"
      ],
      "text/plain": [
       "\u001b[1;3;35;43m<\u001b[0m\u001b[1;3;95;43m|im_start|\u001b[0m\u001b[3;39;43m>system\u001b[0m\n",
       "\u001b[3;39;43mYour name is Iida, You are a helpful assistant.<|im_end|>\u001b[0m\n",
       "\u001b[3;39;43m<|im_start|>user\u001b[0m\n",
       "\u001b[3;39;43mTell me something about large language models.<|im_end|>\u001b[0m\n",
       "\u001b[3;39;43m<|im_start|>assistant\u001b[0m\n",
       "\u001b[3;39;43mLarge language models are powerful models that can generate human-like text.<|im_end|>\u001b[0m\n",
       "\u001b[3;39;43m<|im_start|>user\u001b[0m\n",
       "\u001b[3;39;43mCan you show me an example of a large language model?<|im_end|>\u001b[0m\n",
       "\u001b[3;39;43m<|im_start|\u001b[0m\u001b[1;3;35;43m>\u001b[0m\u001b[3;35;43massistant\u001b[0m\n",
       "\n"
      ]
     },
     "metadata": {},
     "output_type": "display_data"
    },
    {
     "name": "stdout",
     "output_type": "stream",
     "text": [
      "\n",
      "\n",
      "\n",
      "Memory usage: 82.3%\n"
     ]
    },
    {
     "data": {
      "text/html": [
       "<pre style=\"white-space:pre;overflow-x:auto;line-height:normal;font-family:Menlo,'DejaVu Sans Mono',consolas,'Courier New',monospace\"><span style=\"color: #800000; text-decoration-color: #800000; background-color: #c0c0c0\">Model: gemma-mini</span>\n",
       "</pre>\n"
      ],
      "text/plain": [
       "\u001b[31;47mModel: gemma-mini\u001b[0m\n"
      ]
     },
     "metadata": {},
     "output_type": "display_data"
    },
    {
     "name": "stdout",
     "output_type": "stream",
     "text": [
      "Error: System role not supported\n"
     ]
    },
    {
     "data": {
      "text/html": [
       "<pre style=\"white-space:pre;overflow-x:auto;line-height:normal;font-family:Menlo,'DejaVu Sans Mono',consolas,'Courier New',monospace\"><span style=\"color: #800080; text-decoration-color: #800080; background-color: #808000; font-weight: bold; font-style: italic\">&lt;</span><span style=\"color: #ff00ff; text-decoration-color: #ff00ff; background-color: #808000; font-weight: bold; font-style: italic\">bos</span><span style=\"color: #000000; text-decoration-color: #000000; background-color: #808000; font-style: italic\">&gt;&lt;start_of_turn&gt;user</span>\n",
       "<span style=\"color: #000000; text-decoration-color: #000000; background-color: #808000; font-style: italic\">Hello, how are you?&lt;end_of_turn&gt;</span>\n",
       "<span style=\"color: #000000; text-decoration-color: #000000; background-color: #808000; font-style: italic\">&lt;start_of_turn&gt;model</span>\n",
       "<span style=\"color: #000000; text-decoration-color: #000000; background-color: #808000; font-style: italic\">I'm doing great. How can I help you today?&lt;end_of_turn&gt;</span>\n",
       "<span style=\"color: #000000; text-decoration-color: #000000; background-color: #808000; font-style: italic\">&lt;start_of_turn&gt;user</span>\n",
       "<span style=\"color: #000000; text-decoration-color: #000000; background-color: #808000; font-style: italic\">I'd like to show off how chat templating works!&lt;end_of_turn&gt;</span>\n",
       "<span style=\"color: #000000; text-decoration-color: #000000; background-color: #808000; font-style: italic\">&lt;start_of_turn</span><span style=\"color: #800080; text-decoration-color: #800080; background-color: #808000; font-weight: bold; font-style: italic\">&gt;</span><span style=\"color: #800080; text-decoration-color: #800080; background-color: #808000; font-style: italic\">model</span>\n",
       "\n",
       "</pre>\n"
      ],
      "text/plain": [
       "\u001b[1;3;35;43m<\u001b[0m\u001b[1;3;95;43mbos\u001b[0m\u001b[3;39;43m><start_of_turn>user\u001b[0m\n",
       "\u001b[3;39;43mHello, how are you?<end_of_turn>\u001b[0m\n",
       "\u001b[3;39;43m<start_of_turn>model\u001b[0m\n",
       "\u001b[3;39;43mI'm doing great. How can I help you today?<end_of_turn>\u001b[0m\n",
       "\u001b[3;39;43m<start_of_turn>user\u001b[0m\n",
       "\u001b[3;39;43mI'd like to show off how chat templating works!<end_of_turn>\u001b[0m\n",
       "\u001b[3;39;43m<start_of_turn\u001b[0m\u001b[1;3;35;43m>\u001b[0m\u001b[3;35;43mmodel\u001b[0m\n",
       "\n"
      ]
     },
     "metadata": {},
     "output_type": "display_data"
    },
    {
     "name": "stdout",
     "output_type": "stream",
     "text": [
      "\n",
      "\n",
      "\n",
      "Memory usage: 82.5%\n"
     ]
    },
    {
     "data": {
      "text/html": [
       "<pre style=\"white-space:pre;overflow-x:auto;line-height:normal;font-family:Menlo,'DejaVu Sans Mono',consolas,'Courier New',monospace\"><span style=\"color: #800000; text-decoration-color: #800000; background-color: #c0c0c0\">Model: gemma</span>\n",
       "</pre>\n"
      ],
      "text/plain": [
       "\u001b[31;47mModel: gemma\u001b[0m\n"
      ]
     },
     "metadata": {},
     "output_type": "display_data"
    },
    {
     "name": "stdout",
     "output_type": "stream",
     "text": [
      "Error: System role not supported\n"
     ]
    },
    {
     "data": {
      "text/html": [
       "<pre style=\"white-space:pre;overflow-x:auto;line-height:normal;font-family:Menlo,'DejaVu Sans Mono',consolas,'Courier New',monospace\"><span style=\"color: #800080; text-decoration-color: #800080; background-color: #808000; font-weight: bold; font-style: italic\">&lt;</span><span style=\"color: #ff00ff; text-decoration-color: #ff00ff; background-color: #808000; font-weight: bold; font-style: italic\">bos</span><span style=\"color: #000000; text-decoration-color: #000000; background-color: #808000; font-style: italic\">&gt;&lt;start_of_turn&gt;user</span>\n",
       "<span style=\"color: #000000; text-decoration-color: #000000; background-color: #808000; font-style: italic\">Hello, how are you?&lt;end_of_turn&gt;</span>\n",
       "<span style=\"color: #000000; text-decoration-color: #000000; background-color: #808000; font-style: italic\">&lt;start_of_turn&gt;model</span>\n",
       "<span style=\"color: #000000; text-decoration-color: #000000; background-color: #808000; font-style: italic\">I'm doing great. How can I help you today?&lt;end_of_turn&gt;</span>\n",
       "<span style=\"color: #000000; text-decoration-color: #000000; background-color: #808000; font-style: italic\">&lt;start_of_turn&gt;user</span>\n",
       "<span style=\"color: #000000; text-decoration-color: #000000; background-color: #808000; font-style: italic\">I'd like to show off how chat templating works!&lt;end_of_turn&gt;</span>\n",
       "<span style=\"color: #000000; text-decoration-color: #000000; background-color: #808000; font-style: italic\">&lt;start_of_turn</span><span style=\"color: #800080; text-decoration-color: #800080; background-color: #808000; font-weight: bold; font-style: italic\">&gt;</span><span style=\"color: #800080; text-decoration-color: #800080; background-color: #808000; font-style: italic\">model</span>\n",
       "\n",
       "</pre>\n"
      ],
      "text/plain": [
       "\u001b[1;3;35;43m<\u001b[0m\u001b[1;3;95;43mbos\u001b[0m\u001b[3;39;43m><start_of_turn>user\u001b[0m\n",
       "\u001b[3;39;43mHello, how are you?<end_of_turn>\u001b[0m\n",
       "\u001b[3;39;43m<start_of_turn>model\u001b[0m\n",
       "\u001b[3;39;43mI'm doing great. How can I help you today?<end_of_turn>\u001b[0m\n",
       "\u001b[3;39;43m<start_of_turn>user\u001b[0m\n",
       "\u001b[3;39;43mI'd like to show off how chat templating works!<end_of_turn>\u001b[0m\n",
       "\u001b[3;39;43m<start_of_turn\u001b[0m\u001b[1;3;35;43m>\u001b[0m\u001b[3;35;43mmodel\u001b[0m\n",
       "\n"
      ]
     },
     "metadata": {},
     "output_type": "display_data"
    },
    {
     "name": "stdout",
     "output_type": "stream",
     "text": [
      "\n",
      "\n",
      "\n",
      "Memory usage: 82.7%\n"
     ]
    },
    {
     "data": {
      "text/html": [
       "<pre style=\"white-space:pre;overflow-x:auto;line-height:normal;font-family:Menlo,'DejaVu Sans Mono',consolas,'Courier New',monospace\"><span style=\"color: #800000; text-decoration-color: #800000; background-color: #c0c0c0\">Model: phi-mini</span>\n",
       "</pre>\n"
      ],
      "text/plain": [
       "\u001b[31;47mModel: phi-mini\u001b[0m\n"
      ]
     },
     "metadata": {},
     "output_type": "display_data"
    },
    {
     "data": {
      "text/html": [
       "<pre style=\"white-space:pre;overflow-x:auto;line-height:normal;font-family:Menlo,'DejaVu Sans Mono',consolas,'Courier New',monospace\"><span style=\"color: #800080; text-decoration-color: #800080; background-color: #808000; font-weight: bold; font-style: italic\">&lt;</span><span style=\"color: #ff00ff; text-decoration-color: #ff00ff; background-color: #808000; font-weight: bold; font-style: italic\">|system|</span><span style=\"color: #000000; text-decoration-color: #000000; background-color: #808000; font-style: italic\">&gt;Your name is Iida, You are a helpful assistant.&lt;|end|&gt;&lt;|user|&gt;Tell me something about large language </span>\n",
       "<span style=\"color: #000000; text-decoration-color: #000000; background-color: #808000; font-style: italic\">models.&lt;|end|&gt;&lt;|assistant|&gt;Large language models are powerful models that can generate human-like </span>\n",
       "<span style=\"color: #000000; text-decoration-color: #000000; background-color: #808000; font-style: italic\">text.&lt;|end|&gt;&lt;|user|&gt;Can you show me an example of a large language model?&lt;|end|&gt;&lt;|assistant|</span><span style=\"color: #800080; text-decoration-color: #800080; background-color: #808000; font-weight: bold; font-style: italic\">&gt;</span>\n",
       "</pre>\n"
      ],
      "text/plain": [
       "\u001b[1;3;35;43m<\u001b[0m\u001b[1;3;95;43m|system|\u001b[0m\u001b[3;39;43m>Your name is Iida, You are a helpful assistant.<|end|><|user|>Tell me something about large language \u001b[0m\n",
       "\u001b[3;39;43mmodels.<|end|><|assistant|>Large language models are powerful models that can generate human-like \u001b[0m\n",
       "\u001b[3;39;43mtext.<|end|><|user|>Can you show me an example of a large language model?<|end|><|assistant|\u001b[0m\u001b[1;3;35;43m>\u001b[0m\n"
      ]
     },
     "metadata": {},
     "output_type": "display_data"
    },
    {
     "name": "stdout",
     "output_type": "stream",
     "text": [
      "\n",
      "\n",
      "\n",
      "Memory usage: 82.7%\n"
     ]
    },
    {
     "data": {
      "text/html": [
       "<pre style=\"white-space:pre;overflow-x:auto;line-height:normal;font-family:Menlo,'DejaVu Sans Mono',consolas,'Courier New',monospace\"><span style=\"color: #800000; text-decoration-color: #800000; background-color: #c0c0c0\">Model: phi</span>\n",
       "</pre>\n"
      ],
      "text/plain": [
       "\u001b[31;47mModel: phi\u001b[0m\n"
      ]
     },
     "metadata": {},
     "output_type": "display_data"
    },
    {
     "data": {
      "text/html": [
       "<pre style=\"white-space:pre;overflow-x:auto;line-height:normal;font-family:Menlo,'DejaVu Sans Mono',consolas,'Courier New',monospace\"><span style=\"color: #800080; text-decoration-color: #800080; background-color: #808000; font-weight: bold; font-style: italic\">&lt;</span><span style=\"color: #ff00ff; text-decoration-color: #ff00ff; background-color: #808000; font-weight: bold; font-style: italic\">|system|</span><span style=\"color: #000000; text-decoration-color: #000000; background-color: #808000; font-style: italic\">&gt;Your name is Iida, You are a helpful assistant.&lt;|end|&gt;&lt;|user|&gt;Tell me something about large language </span>\n",
       "<span style=\"color: #000000; text-decoration-color: #000000; background-color: #808000; font-style: italic\">models.&lt;|end|&gt;&lt;|assistant|&gt;Large language models are powerful models that can generate human-like </span>\n",
       "<span style=\"color: #000000; text-decoration-color: #000000; background-color: #808000; font-style: italic\">text.&lt;|end|&gt;&lt;|user|&gt;Can you show me an example of a large language model?&lt;|end|&gt;&lt;|assistant|</span><span style=\"color: #800080; text-decoration-color: #800080; background-color: #808000; font-weight: bold; font-style: italic\">&gt;</span>\n",
       "</pre>\n"
      ],
      "text/plain": [
       "\u001b[1;3;35;43m<\u001b[0m\u001b[1;3;95;43m|system|\u001b[0m\u001b[3;39;43m>Your name is Iida, You are a helpful assistant.<|end|><|user|>Tell me something about large language \u001b[0m\n",
       "\u001b[3;39;43mmodels.<|end|><|assistant|>Large language models are powerful models that can generate human-like \u001b[0m\n",
       "\u001b[3;39;43mtext.<|end|><|user|>Can you show me an example of a large language model?<|end|><|assistant|\u001b[0m\u001b[1;3;35;43m>\u001b[0m\n"
      ]
     },
     "metadata": {},
     "output_type": "display_data"
    },
    {
     "name": "stdout",
     "output_type": "stream",
     "text": [
      "\n",
      "\n",
      "\n"
     ]
    }
   ],
   "source": [
    "# Testing templates\n",
    "local_models = {\n",
    "    \"llama-mini\": \"meta-llama/Llama-3.2-1B-Instruct\",\n",
    "    \"llama\": \"meta-llama/Llama-3.2-3B-Instruct\",\n",
    "    \"qwen-mini\": \"Qwen/Qwen2.5-3B-Instruct\",\n",
    "    \"qwen\": \"Qwen/Qwen2.5-7B-Instruct\",\n",
    "    \"gemma-mini\": \"google/gemma-2-2b-it\",\n",
    "    \"gemma\": \"google/gemma-2-9b-it\",\n",
    "    \"phi-mini\": \"microsoft/Phi-4-mini-instruct\",\n",
    "    \"phi\": \"microsoft/Phi-4-multimodal-instruct\",\n",
    "}\n",
    "\n",
    "\n",
    "messages = [\n",
    "    {\"role\": \"system\", \"content\": \"Your name is Iida, You are a helpful assistant.\"},\n",
    "    {\"role\": \"user\", \"content\": \"Tell me something about large language models.\"},\n",
    "    {\"role\": \"assistant\", \"content\": \"Large language models are powerful models that can generate human-like text.\"},\n",
    "    {\"role\": \"user\", \"content\": \"Can you show me an example of a large language model?\"},\n",
    "]\n",
    "\n",
    "fallback_messages = [\n",
    "   {\"role\": \"user\", \"content\": \"Hello, how are you?\"},\n",
    "   {\"role\": \"assistant\", \"content\": \"I'm doing great. How can I help you today?\"},\n",
    "   {\"role\": \"user\", \"content\": \"I'd like to show off how chat templating works!\"},\n",
    "]\n",
    "\n",
    "# Loop through the local models and see the templates\n",
    "for model_name, model_id in local_models.items():\n",
    "    # Print memory usage\n",
    "    print(f\"Memory usage: {psutil.virtual_memory().percent}%\")\n",
    "    tokenizer = AutoTokenizer.from_pretrained(model_id)\n",
    "    console.print(f\"Model: {model_name}\", style=\"red on white\")\n",
    "    try:\n",
    "        text = tokenizer.apply_chat_template(\n",
    "            messages,\n",
    "            tokenize=False,\n",
    "            add_generation_prompt=True\n",
    "        )\n",
    "    except Exception as e:\n",
    "        print(f\"Error: {e}\")\n",
    "        text = tokenizer.apply_chat_template(\n",
    "            fallback_messages,\n",
    "            tokenize=False,\n",
    "            add_generation_prompt=True\n",
    "        )\n",
    "    # Delete the tokenizer to free up memory\n",
    "    del tokenizer\n",
    "    console.print(text, style=\"italic magenta on yellow\")\n",
    "    print(\"\\n\\n\")"
   ]
  },
  {
   "cell_type": "markdown",
   "metadata": {},
   "source": [
    "## Chat\n"
   ]
  },
  {
   "cell_type": "code",
   "execution_count": 9,
   "metadata": {},
   "outputs": [
    {
     "data": {
      "text/html": [
       "<pre style=\"white-space:pre;overflow-x:auto;line-height:normal;font-family:Menlo,'DejaVu Sans Mono',consolas,'Courier New',monospace\"><span style=\"color: #008080; text-decoration-color: #008080; font-weight: bold\">USER</span><span style=\"color: #008080; text-decoration-color: #008080\">: My name is V, I'm a Pirate.</span>\n",
       "</pre>\n"
      ],
      "text/plain": [
       "\u001b[1;36mUSER\u001b[0m\u001b[36m: My name is V, I'm a Pirate.\u001b[0m\n"
      ]
     },
     "metadata": {},
     "output_type": "display_data"
    },
    {
     "data": {
      "text/html": [
       "<pre style=\"white-space:pre;overflow-x:auto;line-height:normal;font-family:Menlo,'DejaVu Sans Mono',consolas,'Courier New',monospace\"><span style=\"color: #800000; text-decoration-color: #800000; background-color: #c0c0c0; font-weight: bold; text-decoration: underline\">AI: Ahoy there, V! A pleasure to meet a fellow seafarer, even if only in words. Tell me, V, what seas do you sail? </span>\n",
       "<span style=\"color: #800000; text-decoration-color: #800000; background-color: #c0c0c0; font-weight: bold; text-decoration: underline\">What's your ship called? And what treasures are you after? A pirate's life is full of adventure, and I'm eager to </span>\n",
       "<span style=\"color: #800000; text-decoration-color: #800000; background-color: #c0c0c0; font-weight: bold; text-decoration: underline\">hear yours!</span>\n",
       "\n",
       "</pre>\n"
      ],
      "text/plain": [
       "\u001b[1;4;5;31;47mAI\u001b[0m\u001b[1;4;5;31;47m: Ahoy there, V! A pleasure to meet a fellow seafarer, even if only in words. Tell me, V, what seas do you sail? \u001b[0m\n",
       "\u001b[1;4;5;31;47mWhat's your ship called? And what treasures are you after? A pirate's life is full of adventure, and I'm eager to \u001b[0m\n",
       "\u001b[1;4;5;31;47mhear yours!\u001b[0m\n",
       "\n"
      ]
     },
     "metadata": {},
     "output_type": "display_data"
    },
    {
     "name": "stdout",
     "output_type": "stream",
     "text": [
      "--------------------------------------------------\n"
     ]
    },
    {
     "data": {
      "text/html": [
       "<pre style=\"white-space:pre;overflow-x:auto;line-height:normal;font-family:Menlo,'DejaVu Sans Mono',consolas,'Courier New',monospace\"><span style=\"color: #008080; text-decoration-color: #008080; font-weight: bold\">USER</span><span style=\"color: #008080; text-decoration-color: #008080\">: I'm looking for a treasure map.</span>\n",
       "</pre>\n"
      ],
      "text/plain": [
       "\u001b[1;36mUSER\u001b[0m\u001b[36m: I'm looking for a treasure map.\u001b[0m\n"
      ]
     },
     "metadata": {},
     "output_type": "display_data"
    },
    {
     "data": {
      "text/html": [
       "<pre style=\"white-space:pre;overflow-x:auto;line-height:normal;font-family:Menlo,'DejaVu Sans Mono',consolas,'Courier New',monospace\"><span style=\"color: #800000; text-decoration-color: #800000; background-color: #c0c0c0; font-weight: bold; text-decoration: underline\">AI: A treasure map, eh? Now that's a worthy pursuit! Tell me, V, what kind of treasure are you hoping to find? Gold</span>\n",
       "<span style=\"color: #800000; text-decoration-color: #800000; background-color: #c0c0c0; font-weight: bold; text-decoration: underline\">doubloons? Ancient artifacts? Perhaps the legendary Fountain of Youth?</span>\n",
       "\n",
       "<span style=\"color: #800000; text-decoration-color: #800000; background-color: #c0c0c0; font-weight: bold; text-decoration: underline\">Knowing what you seek will help me guide you. Also, have you any leads already? A whisper in a tavern? A cryptic </span>\n",
       "<span style=\"color: #800000; text-decoration-color: #800000; background-color: #c0c0c0; font-weight: bold; text-decoration: underline\">riddle from a dying sailor? Any information, no matter how small, could be the key to unlocking the location of </span>\n",
       "<span style=\"color: #800000; text-decoration-color: #800000; background-color: #c0c0c0; font-weight: bold; text-decoration: underline\">that elusive map.</span>\n",
       "\n",
       "<span style=\"color: #800000; text-decoration-color: #800000; background-color: #c0c0c0; font-weight: bold; text-decoration: underline\">Don</span>\n",
       "</pre>\n"
      ],
      "text/plain": [
       "\u001b[1;4;5;31;47mAI\u001b[0m\u001b[1;4;5;31;47m: A treasure map, eh? Now that's a worthy pursuit! Tell me, V, what kind of treasure are you hoping to find? Gold\u001b[0m\n",
       "\u001b[1;4;5;31;47mdoubloons? Ancient artifacts? Perhaps the legendary Fountain of Youth?\u001b[0m\n",
       "\n",
       "\u001b[1;4;5;31;47mKnowing what you seek will help me guide you. Also, have you any leads already? A whisper in a tavern? A cryptic \u001b[0m\n",
       "\u001b[1;4;5;31;47mriddle from a dying sailor? Any information, no matter how small, could be the key to unlocking the location of \u001b[0m\n",
       "\u001b[1;4;5;31;47mthat elusive map.\u001b[0m\n",
       "\n",
       "\u001b[1;4;5;31;47mDon\u001b[0m\n"
      ]
     },
     "metadata": {},
     "output_type": "display_data"
    },
    {
     "name": "stdout",
     "output_type": "stream",
     "text": [
      "--------------------------------------------------\n"
     ]
    },
    {
     "data": {
      "text/html": [
       "<pre style=\"white-space:pre;overflow-x:auto;line-height:normal;font-family:Menlo,'DejaVu Sans Mono',consolas,'Courier New',monospace\"><span style=\"color: #008080; text-decoration-color: #008080; font-weight: bold\">USER</span><span style=\"color: #008080; text-decoration-color: #008080\">: I hope you don't tell the authorities.</span>\n",
       "</pre>\n"
      ],
      "text/plain": [
       "\u001b[1;36mUSER\u001b[0m\u001b[36m: I hope you don't tell the authorities.\u001b[0m\n"
      ]
     },
     "metadata": {},
     "output_type": "display_data"
    },
    {
     "data": {
      "text/html": [
       "<pre style=\"white-space:pre;overflow-x:auto;line-height:normal;font-family:Menlo,'DejaVu Sans Mono',consolas,'Courier New',monospace\"><span style=\"color: #800000; text-decoration-color: #800000; background-color: #c0c0c0; font-weight: bold; text-decoration: underline\">AI: (Lowering my voice conspiratorially)</span>\n",
       "\n",
       "<span style=\"color: #800000; text-decoration-color: #800000; background-color: #c0c0c0; font-weight: bold; text-decoration: underline\">Fear not, V. My lips are sealed tighter than a kraken's grip on a galleon. I'm no friend of the King's Navy, and </span>\n",
       "<span style=\"color: #800000; text-decoration-color: #800000; background-color: #c0c0c0; font-weight: bold; text-decoration: underline\">the only authority I answer to is the thrill of adventure and the pursuit of knowledge. Your secrets are safe with </span>\n",
       "<span style=\"color: #800000; text-decoration-color: #800000; background-color: #c0c0c0; font-weight: bold; text-decoration: underline\">me. Now, tell me more about this treasure you seek</span><span style=\"color: #808000; text-decoration-color: #808000; background-color: #c0c0c0; font-weight: bold; text-decoration: underline\">...</span><span style=\"color: #800000; text-decoration-color: #800000; background-color: #c0c0c0; font-weight: bold; text-decoration: underline\"> and the map that leads to it. The more I know, the better I </span>\n",
       "<span style=\"color: #800000; text-decoration-color: #800000; background-color: #c0c0c0; font-weight: bold; text-decoration: underline\">can help.</span>\n",
       "\n",
       "</pre>\n"
      ],
      "text/plain": [
       "\u001b[1;4;5;31;47mAI\u001b[0m\u001b[1;4;5;31;47m: \u001b[0m\u001b[1;4;5;31;47m(\u001b[0m\u001b[1;4;5;31;47mLowering my voice conspiratorially\u001b[0m\u001b[1;4;5;31;47m)\u001b[0m\n",
       "\n",
       "\u001b[1;4;5;31;47mFear not, V. My lips are sealed tighter than a kraken's grip on a galleon. I'm no friend of the King's Navy, and \u001b[0m\n",
       "\u001b[1;4;5;31;47mthe only authority I answer to is the thrill of adventure and the pursuit of knowledge. Your secrets are safe with \u001b[0m\n",
       "\u001b[1;4;5;31;47mme. Now, tell me more about this treasure you seek\u001b[0m\u001b[1;4;5;33;47m...\u001b[0m\u001b[1;4;5;31;47m and the map that leads to it. The more I know, the better I \u001b[0m\n",
       "\u001b[1;4;5;31;47mcan help.\u001b[0m\n",
       "\n"
      ]
     },
     "metadata": {},
     "output_type": "display_data"
    },
    {
     "name": "stdout",
     "output_type": "stream",
     "text": [
      "--------------------------------------------------\n"
     ]
    },
    {
     "data": {
      "text/html": [
       "<pre style=\"white-space:pre;overflow-x:auto;line-height:normal;font-family:Menlo,'DejaVu Sans Mono',consolas,'Courier New',monospace\"><span style=\"color: #008080; text-decoration-color: #008080; font-weight: bold\">USER</span><span style=\"color: #008080; text-decoration-color: #008080\">: I'm going to find the treasure and become rich.</span>\n",
       "</pre>\n"
      ],
      "text/plain": [
       "\u001b[1;36mUSER\u001b[0m\u001b[36m: I'm going to find the treasure and become rich.\u001b[0m\n"
      ]
     },
     "metadata": {},
     "output_type": "display_data"
    },
    {
     "data": {
      "text/html": [
       "<pre style=\"white-space:pre;overflow-x:auto;line-height:normal;font-family:Menlo,'DejaVu Sans Mono',consolas,'Courier New',monospace\"><span style=\"color: #800000; text-decoration-color: #800000; background-color: #c0c0c0; font-weight: bold; text-decoration: underline\">AI: That's the spirit, V! A pirate's ambition is a powerful wind in the sails. Riches beyond imagining</span><span style=\"color: #808000; text-decoration-color: #808000; background-color: #c0c0c0; font-weight: bold; text-decoration: underline\">...</span><span style=\"color: #800000; text-decoration-color: #800000; background-color: #c0c0c0; font-weight: bold; text-decoration: underline\"> the </span>\n",
       "<span style=\"color: #800000; text-decoration-color: #800000; background-color: #c0c0c0; font-weight: bold; text-decoration: underline\">thought alone is enough to make a man brave the stormiest seas.</span>\n",
       "\n",
       "<span style=\"color: #800000; text-decoration-color: #800000; background-color: #c0c0c0; font-weight: bold; text-decoration: underline\">So, back to the map. Have you any idea where to start looking? Perhaps a specific port town known for its shady </span>\n",
       "<span style=\"color: #800000; text-decoration-color: #800000; background-color: #c0c0c0; font-weight: bold; text-decoration: underline\">dealings? Or a particular type of antique shop where old charts might be hidden away?</span>\n",
       "\n",
       "<span style=\"color: #800000; text-decoration-color: #800000; background-color: #c0c0c0; font-weight: bold; text-decoration: underline\">Remember, V, a treasure map is often more than just lines on parchment</span>\n",
       "</pre>\n"
      ],
      "text/plain": [
       "\u001b[1;4;5;31;47mAI\u001b[0m\u001b[1;4;5;31;47m: That's the spirit, V! A pirate's ambition is a powerful wind in the sails. Riches beyond imagining\u001b[0m\u001b[1;4;5;33;47m...\u001b[0m\u001b[1;4;5;31;47m the \u001b[0m\n",
       "\u001b[1;4;5;31;47mthought alone is enough to make a man brave the stormiest seas.\u001b[0m\n",
       "\n",
       "\u001b[1;4;5;31;47mSo, back to the map. Have you any idea where to start looking? Perhaps a specific port town known for its shady \u001b[0m\n",
       "\u001b[1;4;5;31;47mdealings? Or a particular type of antique shop where old charts might be hidden away?\u001b[0m\n",
       "\n",
       "\u001b[1;4;5;31;47mRemember, V, a treasure map is often more than just lines on parchment\u001b[0m\n"
      ]
     },
     "metadata": {},
     "output_type": "display_data"
    },
    {
     "name": "stdout",
     "output_type": "stream",
     "text": [
      "--------------------------------------------------\n"
     ]
    },
    {
     "data": {
      "text/html": [
       "<pre style=\"white-space:pre;overflow-x:auto;line-height:normal;font-family:Menlo,'DejaVu Sans Mono',consolas,'Courier New',monospace\"><span style=\"color: #008080; text-decoration-color: #008080; font-weight: bold\">USER</span><span style=\"color: #008080; text-decoration-color: #008080\">: I'm going to buy a big ship and sail the seas.</span>\n",
       "</pre>\n"
      ],
      "text/plain": [
       "\u001b[1;36mUSER\u001b[0m\u001b[36m: I'm going to buy a big ship and sail the seas.\u001b[0m\n"
      ]
     },
     "metadata": {},
     "output_type": "display_data"
    },
    {
     "data": {
      "text/html": [
       "<pre style=\"white-space:pre;overflow-x:auto;line-height:normal;font-family:Menlo,'DejaVu Sans Mono',consolas,'Courier New',monospace\"><span style=\"color: #800000; text-decoration-color: #800000; background-color: #c0c0c0; font-weight: bold; text-decoration: underline\">AI: A grand ambition, V! A ship is a pirate's most prized possession, their floating fortress and gateway to </span>\n",
       "<span style=\"color: #800000; text-decoration-color: #800000; background-color: #c0c0c0; font-weight: bold; text-decoration: underline\">adventure. What kind of ship are you envisioning? A swift brigantine for outrunning the Royal Navy? A sturdy </span>\n",
       "<span style=\"color: #800000; text-decoration-color: #800000; background-color: #c0c0c0; font-weight: bold; text-decoration: underline\">galleon for hauling your plunder? Or perhaps a sleek schooner for navigating treacherous waters?</span>\n",
       "\n",
       "<span style=\"color: #800000; text-decoration-color: #800000; background-color: #c0c0c0; font-weight: bold; text-decoration: underline\">And what will you name her, this vessel that will carry you to fortune and glory? A name that strikes fear into the</span>\n",
       "<span style=\"color: #800000; text-decoration-color: #800000; background-color: #c0c0c0; font-weight: bold; text-decoration: underline\">hearts of your enemies, or one that whispers</span>\n",
       "</pre>\n"
      ],
      "text/plain": [
       "\u001b[1;4;5;31;47mAI\u001b[0m\u001b[1;4;5;31;47m: A grand ambition, V! A ship is a pirate's most prized possession, their floating fortress and gateway to \u001b[0m\n",
       "\u001b[1;4;5;31;47madventure. What kind of ship are you envisioning? A swift brigantine for outrunning the Royal Navy? A sturdy \u001b[0m\n",
       "\u001b[1;4;5;31;47mgalleon for hauling your plunder? Or perhaps a sleek schooner for navigating treacherous waters?\u001b[0m\n",
       "\n",
       "\u001b[1;4;5;31;47mAnd what will you name her, this vessel that will carry you to fortune and glory? A name that strikes fear into the\u001b[0m\n",
       "\u001b[1;4;5;31;47mhearts of your enemies, or one that whispers\u001b[0m\n"
      ]
     },
     "metadata": {},
     "output_type": "display_data"
    },
    {
     "name": "stdout",
     "output_type": "stream",
     "text": [
      "--------------------------------------------------\n"
     ]
    },
    {
     "data": {
      "text/html": [
       "<pre style=\"white-space:pre;overflow-x:auto;line-height:normal;font-family:Menlo,'DejaVu Sans Mono',consolas,'Courier New',monospace\"><span style=\"color: #008080; text-decoration-color: #008080; font-weight: bold\">USER</span><span style=\"color: #008080; text-decoration-color: #008080\">: I'm going to be the most feared pirate of all time.</span>\n",
       "</pre>\n"
      ],
      "text/plain": [
       "\u001b[1;36mUSER\u001b[0m\u001b[36m: I'm going to be the most feared pirate of all time.\u001b[0m\n"
      ]
     },
     "metadata": {},
     "output_type": "display_data"
    },
    {
     "data": {
      "text/html": [
       "<pre style=\"white-space:pre;overflow-x:auto;line-height:normal;font-family:Menlo,'DejaVu Sans Mono',consolas,'Courier New',monospace\"><span style=\"color: #800000; text-decoration-color: #800000; background-color: #c0c0c0; font-weight: bold; text-decoration: underline\">AI: (A glint in my eye)</span>\n",
       "\n",
       "<span style=\"color: #800000; text-decoration-color: #800000; background-color: #c0c0c0; font-weight: bold; text-decoration: underline\">Now *that's* a goal worthy of a true pirate, V! To etch your name into the annals of piracy, to be spoken of in </span>\n",
       "<span style=\"color: #800000; text-decoration-color: #800000; background-color: #c0c0c0; font-weight: bold; text-decoration: underline\">hushed whispers in every tavern from Tortuga to Trinidad</span><span style=\"color: #808000; text-decoration-color: #808000; background-color: #c0c0c0; font-weight: bold; text-decoration: underline\">...</span><span style=\"color: #800000; text-decoration-color: #800000; background-color: #c0c0c0; font-weight: bold; text-decoration: underline\"> that takes more than just a big ship and a treasure </span>\n",
       "<span style=\"color: #800000; text-decoration-color: #800000; background-color: #c0c0c0; font-weight: bold; text-decoration: underline\">map. It takes cunning, ruthlessness, and a touch of legend.</span>\n",
       "\n",
       "<span style=\"color: #800000; text-decoration-color: #800000; background-color: #c0c0c0; font-weight: bold; text-decoration: underline\">To be the most feared, you'll need to cultivate a reputation. What will your calling card be</span>\n",
       "</pre>\n"
      ],
      "text/plain": [
       "\u001b[1;4;5;31;47mAI\u001b[0m\u001b[1;4;5;31;47m: \u001b[0m\u001b[1;4;5;31;47m(\u001b[0m\u001b[1;4;5;31;47mA glint in my eye\u001b[0m\u001b[1;4;5;31;47m)\u001b[0m\n",
       "\n",
       "\u001b[1;4;5;31;47mNow *that's* a goal worthy of a true pirate, V! To etch your name into the annals of piracy, to be spoken of in \u001b[0m\n",
       "\u001b[1;4;5;31;47mhushed whispers in every tavern from Tortuga to Trinidad\u001b[0m\u001b[1;4;5;33;47m...\u001b[0m\u001b[1;4;5;31;47m that takes more than just a big ship and a treasure \u001b[0m\n",
       "\u001b[1;4;5;31;47mmap. It takes cunning, ruthlessness, and a touch of legend.\u001b[0m\n",
       "\n",
       "\u001b[1;4;5;31;47mTo be the most feared, you'll need to cultivate a reputation. What will your calling card be\u001b[0m\n"
      ]
     },
     "metadata": {},
     "output_type": "display_data"
    },
    {
     "name": "stdout",
     "output_type": "stream",
     "text": [
      "--------------------------------------------------\n"
     ]
    }
   ],
   "source": [
    "# Chat Completion Example\n",
    "chat = gen_ai_client.chats.create(model=LANGUAGE_MODEL)\n",
    "\n",
    "\n",
    "# Function for Chat compeltion\n",
    "def chat_completion(text: str):\n",
    "    \"\"\"\n",
    "    Generate language model outputs for the given text using the Google GenAI API.\n",
    "    \"\"\"\n",
    "    seperator = \"-\" * 50\n",
    "\n",
    "    # Generate language model outputs\n",
    "    console.print(\"[bold]USER[/bold]\", text, sep=\": \", style=\"cyan\")\n",
    "    outputs = chat.send_message(\n",
    "        text, config=types.GenerateContentConfig(max_output_tokens=100, temperature=0.1)\n",
    "    )\n",
    "    # print(\"AI\", outputs.text, sep=\": \")\n",
    "    console.print(\n",
    "        \"[bold]AI[/bold]\",\n",
    "        outputs.text,\n",
    "        sep=\": \",\n",
    "        style=\"blink bold red underline on white\",\n",
    "    )\n",
    "    print(seperator)\n",
    "    return outputs.text\n",
    "\n",
    "\n",
    "_ = chat_completion(\"My name is V, I'm a Pirate.\")\n",
    "_ = chat_completion(\"I'm looking for a treasure map.\")\n",
    "_ = chat_completion(\"I hope you don't tell the authorities.\")\n",
    "_ = chat_completion(\"I'm going to find the treasure and become rich.\")\n",
    "_ = chat_completion(\"I'm going to buy a big ship and sail the seas.\")\n",
    "_ = chat_completion(\"I'm going to be the most feared pirate of all time.\")"
   ]
  },
  {
   "cell_type": "code",
   "execution_count": 10,
   "metadata": {},
   "outputs": [],
   "source": [
    "# Creating a simple class for chat completion to maintain state\n",
    "class ChatCompletion:\n",
    "    def __init__(self, model: str = LANGUAGE_MODEL, **kwargs):\n",
    "        \"\"\"\n",
    "        Initialize the chat completion model with the given model.\n",
    "        \"\"\"\n",
    "        self.model = model\n",
    "        self.kwargs = kwargs\n",
    "        self.gen_ai_client = genai.Client(api_key=os.getenv(\"GEMINI_API_KEY\"))\n",
    "        self.chat = gen_ai_client.chats.create(model=self.model, **self.kwargs)\n",
    "\n",
    "    def __call__(self, input_text: str, configs: types.GenerateContentConfig = None) -> str:\n",
    "        \"\"\"\n",
    "        Generate language model outputs for the given text using the Google GenAI API.\n",
    "        \"\"\"\n",
    "        _configs = (\n",
    "            configs\n",
    "            if configs\n",
    "            else types.GenerateContentConfig(max_output_tokens=1000, temperature=0.1)\n",
    "        )\n",
    "        console.print(\"[bold]USER[/bold]\", input_text, sep=\": \", style=\"cyan\")\n",
    "        # Generate language model outputs\n",
    "        output = self.chat.send_message(input_text, config=_configs)\n",
    "        console.print(\n",
    "            \"[bold]AI[/bold]\",\n",
    "            output.text,\n",
    "            sep=\": \",\n",
    "            style=\"blink bold red underline on white\",\n",
    "        )\n",
    "        return output"
   ]
  },
  {
   "cell_type": "markdown",
   "metadata": {},
   "source": [
    "## Chroma Vector store\n"
   ]
  },
  {
   "cell_type": "code",
   "execution_count": 38,
   "metadata": {},
   "outputs": [
    {
     "name": "stdout",
     "output_type": "stream",
     "text": [
      "[array([-6.26190081e-02,  8.35847389e-03,  2.09318921e-02,  2.34539658e-02,\n",
      "       -3.66012901e-02,  3.30548026e-02,  1.68529786e-02,  3.60873640e-02,\n",
      "        4.78070043e-02,  3.65659990e-03, -3.10728177e-02,  3.31268013e-02,\n",
      "        2.16085874e-02,  5.70724420e-02,  1.84076780e-03, -3.88565204e-05,\n",
      "        1.25036379e-02,  8.66989419e-02, -5.44915833e-02, -5.35042491e-04,\n",
      "        2.85139680e-02, -4.47264127e-03, -6.43417239e-03, -4.22299542e-02,\n",
      "        4.25177673e-03, -9.11961962e-03,  4.95440187e-03, -1.34680839e-02,\n",
      "        8.11753422e-03, -1.03806825e-02,  2.11306717e-02,  9.23052803e-02,\n",
      "        1.29905222e-02, -8.50694627e-03,  4.26904745e-02,  2.95255277e-02,\n",
      "       -4.06814106e-02,  3.52525339e-02,  6.35675490e-02,  1.28698433e-02,\n",
      "       -8.55991915e-02, -1.67549197e-02, -7.34621659e-02,  2.37156898e-02,\n",
      "        1.60491765e-02, -2.74777338e-02,  4.93843993e-03,  4.44405451e-02,\n",
      "       -2.14869436e-02,  4.05578241e-02,  4.16527614e-02,  1.79040842e-02,\n",
      "       -2.89549325e-02,  4.04668925e-03, -1.47816958e-02,  3.44038047e-02,\n",
      "       -1.19374106e-02,  2.00243760e-02, -1.89384185e-02, -2.25513540e-02,\n",
      "        2.69438364e-02,  9.01882350e-03,  1.08810998e-02,  1.17518529e-02,\n",
      "        1.26117356e-02, -4.39451262e-02, -6.38296232e-02, -3.53974514e-02,\n",
      "        1.30864587e-02,  8.21845047e-03, -6.32725423e-05,  4.27991785e-02,\n",
      "       -1.62921883e-02,  5.32510430e-02, -7.44455233e-02, -9.05040428e-02,\n",
      "        3.82318236e-02, -4.96843308e-02,  1.19381994e-02, -2.00807825e-02,\n",
      "       -3.73800434e-02, -2.96223015e-02,  7.94110671e-02,  4.74126264e-02,\n",
      "        1.02118272e-02,  4.47808281e-02,  2.92950980e-02,  1.66466774e-03,\n",
      "       -4.54530939e-02, -2.60485820e-02,  1.79505516e-02,  6.22428581e-03,\n",
      "        2.60025542e-02, -1.13427928e-02,  6.18052222e-02, -1.31532550e-02,\n",
      "       -3.98360677e-02, -7.16757700e-02,  5.72312921e-02,  3.57215442e-02,\n",
      "        3.86464484e-02,  1.84951047e-03,  1.69420876e-02, -6.98998198e-02,\n",
      "        4.38752957e-02,  1.73483547e-02, -4.69785603e-03, -7.71857649e-02,\n",
      "        1.27687650e-02, -8.29502195e-02, -4.18384112e-02, -4.42646332e-02,\n",
      "       -2.33633327e-03, -4.37238514e-02, -1.72369462e-02,  7.40177557e-03,\n",
      "       -4.31619212e-03,  2.69853920e-02, -1.62613913e-02, -9.06334352e-03,\n",
      "       -1.51651278e-02, -1.10273799e-02, -2.39102822e-02, -1.23079112e-02,\n",
      "        4.15362827e-02,  2.03634873e-02,  3.02211270e-02,  3.82455178e-02,\n",
      "       -8.81623402e-02, -3.05916201e-02,  9.92459990e-03, -9.09817368e-02,\n",
      "        2.73331460e-02,  4.22214381e-02, -4.81213294e-02, -5.99195622e-02,\n",
      "       -9.23840422e-03,  1.11285746e-02,  2.76892483e-02,  2.58713719e-02,\n",
      "       -4.17104783e-03,  2.38832105e-02,  2.59142779e-02,  3.99706326e-02,\n",
      "        3.13102864e-02, -2.54384130e-02,  1.16227269e-02, -3.84163968e-02,\n",
      "        4.12666313e-02, -1.31683815e-02,  5.79859130e-04,  6.57856464e-03,\n",
      "       -3.18697393e-02,  1.29841492e-02, -8.09435360e-03, -1.92357320e-02,\n",
      "        3.47062722e-02, -1.58252064e-02,  6.94082305e-02, -6.86493190e-03,\n",
      "        1.18540227e-02, -4.07034680e-02,  3.75636332e-02,  3.73264663e-02,\n",
      "       -6.33514524e-02,  5.89414849e-04, -2.09313165e-02,  3.63033563e-02,\n",
      "       -3.08538340e-02, -3.75809520e-02,  1.64197627e-02, -1.97732518e-03,\n",
      "       -6.10001422e-02, -6.42765388e-02,  1.78127997e-02,  6.46506343e-03,\n",
      "        2.59820912e-02, -1.66765917e-02, -2.19578948e-02,  1.77014712e-02,\n",
      "        3.84404399e-02, -1.23859178e-02, -7.16628060e-02, -2.53953245e-02,\n",
      "        3.98654304e-03,  2.01387834e-02,  6.22346764e-03,  4.37186025e-02,\n",
      "       -4.61253989e-03, -2.13454552e-02, -3.29107344e-02,  8.47369805e-03,\n",
      "        9.99803469e-02,  3.46178487e-02,  6.13304079e-02, -1.58656575e-02,\n",
      "        3.54703772e-03,  2.42717396e-02, -5.29297516e-02,  3.19130197e-02,\n",
      "        1.50788063e-02, -9.47243627e-03,  3.11001763e-02,  4.90142498e-03,\n",
      "       -3.32045592e-02,  5.89676611e-02, -3.96024771e-02, -3.92702259e-02,\n",
      "        1.25865713e-02,  6.03224784e-02,  1.21695513e-03, -1.17044002e-02,\n",
      "       -1.84945408e-02,  5.29904589e-02, -2.01750044e-02, -3.08237281e-02,\n",
      "        6.91468567e-02, -5.75664416e-02,  4.50795144e-02, -5.69520611e-03,\n",
      "        6.40537217e-02, -2.33835876e-02,  5.39796874e-02, -4.69904626e-03,\n",
      "       -3.58138941e-02, -6.11356087e-02, -3.71805355e-02, -2.38442421e-02,\n",
      "        3.22970971e-02, -3.82691808e-02, -4.80063967e-02,  5.65895401e-02,\n",
      "        2.27481946e-02, -5.29307127e-03,  2.00529415e-02, -1.29773589e-02,\n",
      "       -6.88893301e-03, -4.58398499e-02, -3.06883287e-02,  1.02982521e-02,\n",
      "       -1.55111160e-02, -1.21807205e-02,  1.85480323e-02,  7.41166528e-03,\n",
      "        1.13065885e-02,  5.53749911e-02, -4.18581010e-04,  2.93406583e-02,\n",
      "       -2.95186434e-02, -4.89473518e-04, -5.49936742e-02, -5.92488889e-03,\n",
      "       -1.85936466e-02, -2.80731893e-03, -9.33303908e-02, -1.99228176e-03,\n",
      "        1.74607038e-02, -3.43285017e-02, -5.90299703e-02,  1.23723708e-02,\n",
      "        1.32279256e-02,  7.80477701e-03, -2.69260779e-02,  2.83292355e-03,\n",
      "       -3.14053483e-02, -1.13413371e-01, -9.36049316e-03,  1.65139530e-02,\n",
      "       -3.23227653e-03, -5.29906787e-02, -2.02665590e-02,  1.86930485e-02,\n",
      "       -1.27326101e-02,  2.11704243e-02,  3.00078448e-02,  9.83223226e-03,\n",
      "       -1.67209259e-03, -2.53614597e-02, -5.46898395e-02, -2.00656317e-02,\n",
      "        7.22247642e-03,  4.34038229e-02, -7.35725649e-03, -1.02663273e-02,\n",
      "        1.20814573e-02, -1.62681080e-02,  6.40513957e-04, -2.80327890e-02,\n",
      "       -6.57543987e-02,  4.13753353e-02,  1.47236325e-02,  2.12886482e-02,\n",
      "        4.21654470e-02, -7.17194378e-02,  3.30130868e-02,  4.58537191e-02,\n",
      "       -5.01312129e-03,  4.11088616e-02, -2.30008997e-02, -1.88261848e-02,\n",
      "        3.93418856e-02,  7.64666824e-03, -8.51136446e-02,  2.87730116e-02,\n",
      "       -1.51138203e-02,  3.31135988e-02, -2.56099384e-02, -5.74633181e-02,\n",
      "        1.68508943e-02,  7.86614344e-02,  7.38048740e-03,  2.70533971e-02,\n",
      "       -1.30336750e-02, -2.53959335e-02, -2.42365934e-02, -4.16564941e-02,\n",
      "       -1.20193757e-01,  5.51902913e-02, -1.55051434e-02,  3.19904871e-02,\n",
      "        3.81201208e-02,  1.34963300e-02, -1.90039445e-02, -1.04376031e-02,\n",
      "        4.86274958e-02, -4.83365904e-04,  4.46703695e-02, -1.84656344e-02,\n",
      "       -3.51518542e-02,  2.96227168e-02,  7.53254921e-04, -2.54360065e-02,\n",
      "       -1.01027228e-02, -1.14817843e-02, -2.80644018e-02,  3.00313476e-02,\n",
      "       -5.53533062e-02,  3.13225687e-02,  7.79556036e-02, -8.59971717e-03,\n",
      "        5.09880669e-02,  2.25177985e-02,  6.47756904e-02,  6.10529929e-02,\n",
      "        4.33732709e-03, -1.56355295e-02,  7.45325349e-03, -1.35590890e-02,\n",
      "       -5.71530778e-04, -4.32049343e-03, -6.94805942e-03,  7.18843117e-02,\n",
      "        6.05913345e-03, -5.39401397e-02, -2.59482525e-02, -1.06687983e-02,\n",
      "        6.75356295e-03, -1.69771090e-02, -5.49267568e-02, -1.57611221e-02,\n",
      "        1.56785361e-02,  2.08327416e-02, -5.10667711e-02,  6.10352606e-02,\n",
      "        2.45786160e-02, -4.69221408e-03,  4.70788740e-02,  4.80596116e-03,\n",
      "       -3.40645090e-02,  1.03326272e-02,  1.54156871e-02,  7.13419393e-02,\n",
      "       -5.50153740e-02, -1.19144553e-02,  2.50974111e-02, -3.67269516e-02,\n",
      "        1.00621218e-02,  5.16398586e-02,  2.30292883e-02, -1.01095121e-02,\n",
      "       -7.31307417e-02, -2.61334591e-02, -8.32822826e-03,  2.76690461e-02,\n",
      "       -5.09713888e-02,  3.39882895e-02, -3.04913223e-02,  1.95730198e-02,\n",
      "        7.05404393e-03,  4.69189398e-02, -1.11172996e-01,  2.86972746e-02,\n",
      "       -2.76047513e-02,  2.24827277e-03,  1.82327237e-02,  4.18634601e-02,\n",
      "        2.20699534e-02,  4.76721339e-02,  5.22892689e-03,  3.16273756e-02,\n",
      "       -3.57170627e-02, -3.11011765e-02,  5.19969575e-02, -1.96567774e-02,\n",
      "        1.80217121e-02, -5.21437638e-03,  6.01155609e-02,  1.48359701e-04,\n",
      "       -1.82823949e-02, -5.38540892e-02, -3.04293297e-02,  3.71981971e-02,\n",
      "        1.42278858e-02, -4.66768770e-03,  2.78175063e-02,  3.17631327e-02,\n",
      "        3.20730023e-02,  2.66137607e-02, -5.48609495e-02,  3.59041095e-02,\n",
      "        2.17110341e-04, -5.06403763e-03, -1.63216479e-02, -5.34343533e-02,\n",
      "        3.18490043e-02, -6.48301244e-02, -1.10958368e-02, -1.21662319e-02,\n",
      "       -2.50710603e-02, -1.88630838e-02, -3.96388061e-02,  1.96773820e-02,\n",
      "        4.56272326e-02,  1.12274457e-02,  5.18506914e-02, -3.65007157e-03,\n",
      "        2.80580465e-02,  2.36676857e-02, -5.32171354e-02,  4.96271253e-02,\n",
      "       -1.26049584e-02, -5.39640933e-02, -8.81957356e-03, -1.87866036e-02,\n",
      "        1.29686259e-02, -1.82676166e-02,  2.00542789e-02, -8.69090483e-03,\n",
      "       -1.84023473e-02, -3.27859260e-02,  8.97260942e-03, -2.83907857e-02,\n",
      "       -6.53745681e-02, -1.60424728e-02, -7.97177106e-02, -4.92308885e-02,\n",
      "        2.31334809e-02,  3.94869000e-02, -2.87614688e-02,  3.41159999e-02,\n",
      "       -5.63367978e-02, -1.80148147e-02,  6.04755878e-02,  3.05105466e-02,\n",
      "        2.36560572e-02,  6.22298103e-03,  1.86677258e-02,  2.62914002e-02,\n",
      "        2.49017831e-02, -3.80355343e-02,  6.28740638e-02, -1.39181865e-02,\n",
      "        1.85614135e-02, -7.64974672e-03, -5.00918366e-03, -5.18308319e-02,\n",
      "        3.00195590e-02,  3.48298723e-04, -8.67293123e-03, -2.89689167e-03,\n",
      "        1.02085732e-02,  3.68219800e-02, -3.42990123e-02, -2.31848881e-02,\n",
      "        5.97645640e-02, -9.76322498e-03,  1.27457278e-02,  2.89079268e-02,\n",
      "        3.64658944e-02,  8.87568109e-03, -6.27916586e-03,  1.60162561e-02,\n",
      "        4.69098054e-02, -2.61241458e-02,  1.62784406e-03,  2.42484305e-02,\n",
      "       -2.42447499e-02,  9.92875267e-03, -1.49061671e-02,  4.57000397e-02,\n",
      "        3.21053714e-02,  2.38902383e-02,  4.81992550e-02, -6.46177232e-02,\n",
      "       -3.50386538e-02, -1.19899409e-02, -3.33595760e-02, -3.60011607e-02,\n",
      "        2.22722944e-02, -3.57630104e-02,  6.61712363e-02, -3.11435889e-02,\n",
      "        6.11613616e-02, -1.20293954e-02, -1.62836388e-02, -8.57662316e-03,\n",
      "       -5.05063199e-02,  2.84485482e-02, -1.79646034e-02,  3.82694453e-02,\n",
      "       -1.50174927e-02, -2.19779536e-02,  9.65970680e-02, -8.92754123e-02,\n",
      "       -1.96464304e-02,  4.07428928e-02,  4.79167502e-04, -4.16818969e-02,\n",
      "        5.02427015e-03, -5.56789637e-02, -5.43750674e-02,  8.95071030e-02,\n",
      "        4.94305082e-02,  5.62852807e-02,  3.22910100e-02,  5.05142547e-02,\n",
      "        6.07034611e-03,  4.98116724e-02,  1.92928389e-02, -8.41432624e-03,\n",
      "        2.16573048e-02,  4.06081937e-02,  4.00253348e-02,  3.46168689e-02,\n",
      "        3.33850458e-02,  3.16527896e-02,  1.38318315e-02,  1.27644846e-02,\n",
      "        9.16849822e-03,  6.19083941e-02,  2.16095541e-02, -6.60209209e-02,\n",
      "       -5.43153770e-02, -4.45699580e-02, -7.43170604e-02, -8.43642373e-03,\n",
      "        2.93158889e-02, -5.50941341e-02, -6.19475916e-02, -3.27940658e-02,\n",
      "        5.64267598e-02, -4.12807204e-02,  4.28612269e-02,  3.34107168e-02,\n",
      "       -1.49028376e-02,  3.01571959e-03, -3.53721878e-03,  2.07247827e-02,\n",
      "       -2.72959489e-02, -7.97588553e-04, -6.59426227e-02,  5.65996245e-02,\n",
      "       -9.67472978e-03, -6.84685726e-03,  4.26785126e-02,  3.77766564e-02,\n",
      "       -6.80937842e-02,  3.35002989e-02,  1.58827305e-02, -3.46631370e-02,\n",
      "        5.81271108e-03,  2.07995735e-02, -1.78321265e-02,  5.45858070e-02,\n",
      "       -5.10991402e-02, -2.95922011e-02, -1.19464500e-02,  1.27972262e-02,\n",
      "        1.06495405e-02, -3.24319042e-02, -9.60880984e-03,  3.42475697e-02,\n",
      "       -2.77804881e-02, -5.44617213e-02, -1.45222712e-02, -1.10909548e-02,\n",
      "       -6.63022622e-02, -4.96155955e-02, -3.78086837e-03, -4.95258346e-03,\n",
      "       -3.26474644e-02, -5.79650514e-02,  1.98975820e-02,  3.88695933e-02,\n",
      "       -3.54713611e-02, -2.71607041e-02, -2.35030632e-02, -2.93135084e-02,\n",
      "        8.35448131e-03,  3.50330621e-02, -4.46861908e-02,  4.07805853e-02,\n",
      "       -2.37757098e-02, -2.76262537e-02, -1.00896955e-01,  2.02088859e-02,\n",
      "        1.24990530e-02,  5.64553961e-02, -2.49737296e-02,  3.05854622e-02,\n",
      "        2.64206268e-02,  2.61008777e-02,  6.92888908e-03, -3.54592167e-02,\n",
      "       -4.26049046e-02, -3.28046046e-02, -2.00622436e-03,  3.21144573e-02,\n",
      "        5.30397147e-02, -9.91246663e-03,  1.38115175e-02, -9.41545411e-04,\n",
      "        7.91457891e-02, -2.22925982e-03, -3.70838158e-02,  1.10968389e-02,\n",
      "       -8.56600050e-03, -3.27157378e-02, -1.29503394e-02, -2.10812632e-02,\n",
      "       -1.69725940e-02, -1.89534910e-02,  3.17595676e-02,  1.28954640e-02,\n",
      "       -4.38744053e-02,  7.16373846e-02, -1.58872642e-02,  1.43533209e-02,\n",
      "        1.31937508e-02,  2.80157067e-02, -3.08128707e-02,  3.03450283e-02,\n",
      "        3.40608880e-02,  1.54133588e-02, -2.89059002e-02,  1.19427545e-02,\n",
      "       -5.07108085e-02,  1.87423564e-02, -3.88203710e-02,  2.21837163e-02,\n",
      "       -6.20557442e-02, -4.10248525e-02, -3.86365578e-02,  3.40644494e-02,\n",
      "       -1.38142211e-02, -4.93327491e-02, -3.71725373e-02, -3.16346250e-02,\n",
      "       -1.66740979e-03, -2.85643060e-02, -1.24988584e-02, -1.49383172e-02,\n",
      "        2.69896667e-02,  1.63638871e-02, -1.96871515e-02,  2.32032109e-02,\n",
      "        5.04188240e-02,  2.54911128e-02,  3.21394466e-02,  4.20025587e-02,\n",
      "       -3.01285628e-02, -2.69733202e-02,  1.22987414e-02,  6.02523461e-02,\n",
      "        5.93930716e-03,  3.25281881e-02,  1.97793581e-02,  1.37286512e-02,\n",
      "        1.62118282e-02,  9.69031174e-03,  5.40231355e-03, -3.36150313e-03,\n",
      "        8.16033129e-03,  1.38192549e-02, -2.57742107e-02,  4.45705727e-02,\n",
      "       -1.76474229e-02,  8.91488045e-03,  2.16654092e-02, -3.08526997e-02,\n",
      "       -1.93679351e-02, -5.98053671e-02, -1.16867395e-02, -1.98576469e-02,\n",
      "        1.72940586e-02, -2.90715490e-02, -1.92246828e-02, -3.17756049e-02,\n",
      "       -1.08811054e-02,  1.68861989e-02, -5.85638881e-02, -1.24068893e-02,\n",
      "        5.69967479e-02,  3.70704196e-02, -2.85737049e-02,  4.02444899e-02,\n",
      "        5.41096088e-03,  3.31239812e-02, -3.20033357e-02, -7.81658851e-03,\n",
      "       -9.01954435e-03, -6.11920878e-02,  3.18702795e-02,  1.56999682e-03,\n",
      "        3.12562287e-02,  9.95371770e-03, -5.30480072e-02,  1.56072201e-02,\n",
      "        2.12962907e-02,  5.58380336e-02,  5.49810082e-02,  3.38965096e-02,\n",
      "       -5.34444116e-02,  2.52631609e-03, -1.77794285e-02,  4.45608124e-02,\n",
      "        6.03140565e-03, -2.43344307e-02,  9.29484610e-03, -1.40870009e-02,\n",
      "        3.37521099e-02,  3.14193405e-02, -4.15638201e-02, -4.32574451e-02,\n",
      "        1.19405696e-02,  2.00443268e-02, -8.86905473e-03, -6.89329654e-02,\n",
      "       -1.88991856e-02,  5.55433659e-03,  3.42766638e-03,  3.24294679e-02,\n",
      "       -2.00776476e-02,  6.48259893e-02, -2.77831331e-02,  5.88977477e-03,\n",
      "        6.59900084e-02, -4.11915854e-02,  5.46946228e-02,  3.87721397e-02,\n",
      "       -3.65734957e-02,  7.94330761e-02, -6.88784709e-03, -1.88121793e-03,\n",
      "        2.53316406e-02, -3.58169861e-02, -1.29761966e-03, -5.67976013e-02],\n",
      "      dtype=float32), array([-6.26190081e-02,  8.35847389e-03,  2.09318921e-02,  2.34539658e-02,\n",
      "       -3.66012901e-02,  3.30548026e-02,  1.68529786e-02,  3.60873640e-02,\n",
      "        4.78070043e-02,  3.65659990e-03, -3.10728177e-02,  3.31268013e-02,\n",
      "        2.16085874e-02,  5.70724420e-02,  1.84076780e-03, -3.88565204e-05,\n",
      "        1.25036379e-02,  8.66989419e-02, -5.44915833e-02, -5.35042491e-04,\n",
      "        2.85139680e-02, -4.47264127e-03, -6.43417239e-03, -4.22299542e-02,\n",
      "        4.25177673e-03, -9.11961962e-03,  4.95440187e-03, -1.34680839e-02,\n",
      "        8.11753422e-03, -1.03806825e-02,  2.11306717e-02,  9.23052803e-02,\n",
      "        1.29905222e-02, -8.50694627e-03,  4.26904745e-02,  2.95255277e-02,\n",
      "       -4.06814106e-02,  3.52525339e-02,  6.35675490e-02,  1.28698433e-02,\n",
      "       -8.55991915e-02, -1.67549197e-02, -7.34621659e-02,  2.37156898e-02,\n",
      "        1.60491765e-02, -2.74777338e-02,  4.93843993e-03,  4.44405451e-02,\n",
      "       -2.14869436e-02,  4.05578241e-02,  4.16527614e-02,  1.79040842e-02,\n",
      "       -2.89549325e-02,  4.04668925e-03, -1.47816958e-02,  3.44038047e-02,\n",
      "       -1.19374106e-02,  2.00243760e-02, -1.89384185e-02, -2.25513540e-02,\n",
      "        2.69438364e-02,  9.01882350e-03,  1.08810998e-02,  1.17518529e-02,\n",
      "        1.26117356e-02, -4.39451262e-02, -6.38296232e-02, -3.53974514e-02,\n",
      "        1.30864587e-02,  8.21845047e-03, -6.32725423e-05,  4.27991785e-02,\n",
      "       -1.62921883e-02,  5.32510430e-02, -7.44455233e-02, -9.05040428e-02,\n",
      "        3.82318236e-02, -4.96843308e-02,  1.19381994e-02, -2.00807825e-02,\n",
      "       -3.73800434e-02, -2.96223015e-02,  7.94110671e-02,  4.74126264e-02,\n",
      "        1.02118272e-02,  4.47808281e-02,  2.92950980e-02,  1.66466774e-03,\n",
      "       -4.54530939e-02, -2.60485820e-02,  1.79505516e-02,  6.22428581e-03,\n",
      "        2.60025542e-02, -1.13427928e-02,  6.18052222e-02, -1.31532550e-02,\n",
      "       -3.98360677e-02, -7.16757700e-02,  5.72312921e-02,  3.57215442e-02,\n",
      "        3.86464484e-02,  1.84951047e-03,  1.69420876e-02, -6.98998198e-02,\n",
      "        4.38752957e-02,  1.73483547e-02, -4.69785603e-03, -7.71857649e-02,\n",
      "        1.27687650e-02, -8.29502195e-02, -4.18384112e-02, -4.42646332e-02,\n",
      "       -2.33633327e-03, -4.37238514e-02, -1.72369462e-02,  7.40177557e-03,\n",
      "       -4.31619212e-03,  2.69853920e-02, -1.62613913e-02, -9.06334352e-03,\n",
      "       -1.51651278e-02, -1.10273799e-02, -2.39102822e-02, -1.23079112e-02,\n",
      "        4.15362827e-02,  2.03634873e-02,  3.02211270e-02,  3.82455178e-02,\n",
      "       -8.81623402e-02, -3.05916201e-02,  9.92459990e-03, -9.09817368e-02,\n",
      "        2.73331460e-02,  4.22214381e-02, -4.81213294e-02, -5.99195622e-02,\n",
      "       -9.23840422e-03,  1.11285746e-02,  2.76892483e-02,  2.58713719e-02,\n",
      "       -4.17104783e-03,  2.38832105e-02,  2.59142779e-02,  3.99706326e-02,\n",
      "        3.13102864e-02, -2.54384130e-02,  1.16227269e-02, -3.84163968e-02,\n",
      "        4.12666313e-02, -1.31683815e-02,  5.79859130e-04,  6.57856464e-03,\n",
      "       -3.18697393e-02,  1.29841492e-02, -8.09435360e-03, -1.92357320e-02,\n",
      "        3.47062722e-02, -1.58252064e-02,  6.94082305e-02, -6.86493190e-03,\n",
      "        1.18540227e-02, -4.07034680e-02,  3.75636332e-02,  3.73264663e-02,\n",
      "       -6.33514524e-02,  5.89414849e-04, -2.09313165e-02,  3.63033563e-02,\n",
      "       -3.08538340e-02, -3.75809520e-02,  1.64197627e-02, -1.97732518e-03,\n",
      "       -6.10001422e-02, -6.42765388e-02,  1.78127997e-02,  6.46506343e-03,\n",
      "        2.59820912e-02, -1.66765917e-02, -2.19578948e-02,  1.77014712e-02,\n",
      "        3.84404399e-02, -1.23859178e-02, -7.16628060e-02, -2.53953245e-02,\n",
      "        3.98654304e-03,  2.01387834e-02,  6.22346764e-03,  4.37186025e-02,\n",
      "       -4.61253989e-03, -2.13454552e-02, -3.29107344e-02,  8.47369805e-03,\n",
      "        9.99803469e-02,  3.46178487e-02,  6.13304079e-02, -1.58656575e-02,\n",
      "        3.54703772e-03,  2.42717396e-02, -5.29297516e-02,  3.19130197e-02,\n",
      "        1.50788063e-02, -9.47243627e-03,  3.11001763e-02,  4.90142498e-03,\n",
      "       -3.32045592e-02,  5.89676611e-02, -3.96024771e-02, -3.92702259e-02,\n",
      "        1.25865713e-02,  6.03224784e-02,  1.21695513e-03, -1.17044002e-02,\n",
      "       -1.84945408e-02,  5.29904589e-02, -2.01750044e-02, -3.08237281e-02,\n",
      "        6.91468567e-02, -5.75664416e-02,  4.50795144e-02, -5.69520611e-03,\n",
      "        6.40537217e-02, -2.33835876e-02,  5.39796874e-02, -4.69904626e-03,\n",
      "       -3.58138941e-02, -6.11356087e-02, -3.71805355e-02, -2.38442421e-02,\n",
      "        3.22970971e-02, -3.82691808e-02, -4.80063967e-02,  5.65895401e-02,\n",
      "        2.27481946e-02, -5.29307127e-03,  2.00529415e-02, -1.29773589e-02,\n",
      "       -6.88893301e-03, -4.58398499e-02, -3.06883287e-02,  1.02982521e-02,\n",
      "       -1.55111160e-02, -1.21807205e-02,  1.85480323e-02,  7.41166528e-03,\n",
      "        1.13065885e-02,  5.53749911e-02, -4.18581010e-04,  2.93406583e-02,\n",
      "       -2.95186434e-02, -4.89473518e-04, -5.49936742e-02, -5.92488889e-03,\n",
      "       -1.85936466e-02, -2.80731893e-03, -9.33303908e-02, -1.99228176e-03,\n",
      "        1.74607038e-02, -3.43285017e-02, -5.90299703e-02,  1.23723708e-02,\n",
      "        1.32279256e-02,  7.80477701e-03, -2.69260779e-02,  2.83292355e-03,\n",
      "       -3.14053483e-02, -1.13413371e-01, -9.36049316e-03,  1.65139530e-02,\n",
      "       -3.23227653e-03, -5.29906787e-02, -2.02665590e-02,  1.86930485e-02,\n",
      "       -1.27326101e-02,  2.11704243e-02,  3.00078448e-02,  9.83223226e-03,\n",
      "       -1.67209259e-03, -2.53614597e-02, -5.46898395e-02, -2.00656317e-02,\n",
      "        7.22247642e-03,  4.34038229e-02, -7.35725649e-03, -1.02663273e-02,\n",
      "        1.20814573e-02, -1.62681080e-02,  6.40513957e-04, -2.80327890e-02,\n",
      "       -6.57543987e-02,  4.13753353e-02,  1.47236325e-02,  2.12886482e-02,\n",
      "        4.21654470e-02, -7.17194378e-02,  3.30130868e-02,  4.58537191e-02,\n",
      "       -5.01312129e-03,  4.11088616e-02, -2.30008997e-02, -1.88261848e-02,\n",
      "        3.93418856e-02,  7.64666824e-03, -8.51136446e-02,  2.87730116e-02,\n",
      "       -1.51138203e-02,  3.31135988e-02, -2.56099384e-02, -5.74633181e-02,\n",
      "        1.68508943e-02,  7.86614344e-02,  7.38048740e-03,  2.70533971e-02,\n",
      "       -1.30336750e-02, -2.53959335e-02, -2.42365934e-02, -4.16564941e-02,\n",
      "       -1.20193757e-01,  5.51902913e-02, -1.55051434e-02,  3.19904871e-02,\n",
      "        3.81201208e-02,  1.34963300e-02, -1.90039445e-02, -1.04376031e-02,\n",
      "        4.86274958e-02, -4.83365904e-04,  4.46703695e-02, -1.84656344e-02,\n",
      "       -3.51518542e-02,  2.96227168e-02,  7.53254921e-04, -2.54360065e-02,\n",
      "       -1.01027228e-02, -1.14817843e-02, -2.80644018e-02,  3.00313476e-02,\n",
      "       -5.53533062e-02,  3.13225687e-02,  7.79556036e-02, -8.59971717e-03,\n",
      "        5.09880669e-02,  2.25177985e-02,  6.47756904e-02,  6.10529929e-02,\n",
      "        4.33732709e-03, -1.56355295e-02,  7.45325349e-03, -1.35590890e-02,\n",
      "       -5.71530778e-04, -4.32049343e-03, -6.94805942e-03,  7.18843117e-02,\n",
      "        6.05913345e-03, -5.39401397e-02, -2.59482525e-02, -1.06687983e-02,\n",
      "        6.75356295e-03, -1.69771090e-02, -5.49267568e-02, -1.57611221e-02,\n",
      "        1.56785361e-02,  2.08327416e-02, -5.10667711e-02,  6.10352606e-02,\n",
      "        2.45786160e-02, -4.69221408e-03,  4.70788740e-02,  4.80596116e-03,\n",
      "       -3.40645090e-02,  1.03326272e-02,  1.54156871e-02,  7.13419393e-02,\n",
      "       -5.50153740e-02, -1.19144553e-02,  2.50974111e-02, -3.67269516e-02,\n",
      "        1.00621218e-02,  5.16398586e-02,  2.30292883e-02, -1.01095121e-02,\n",
      "       -7.31307417e-02, -2.61334591e-02, -8.32822826e-03,  2.76690461e-02,\n",
      "       -5.09713888e-02,  3.39882895e-02, -3.04913223e-02,  1.95730198e-02,\n",
      "        7.05404393e-03,  4.69189398e-02, -1.11172996e-01,  2.86972746e-02,\n",
      "       -2.76047513e-02,  2.24827277e-03,  1.82327237e-02,  4.18634601e-02,\n",
      "        2.20699534e-02,  4.76721339e-02,  5.22892689e-03,  3.16273756e-02,\n",
      "       -3.57170627e-02, -3.11011765e-02,  5.19969575e-02, -1.96567774e-02,\n",
      "        1.80217121e-02, -5.21437638e-03,  6.01155609e-02,  1.48359701e-04,\n",
      "       -1.82823949e-02, -5.38540892e-02, -3.04293297e-02,  3.71981971e-02,\n",
      "        1.42278858e-02, -4.66768770e-03,  2.78175063e-02,  3.17631327e-02,\n",
      "        3.20730023e-02,  2.66137607e-02, -5.48609495e-02,  3.59041095e-02,\n",
      "        2.17110341e-04, -5.06403763e-03, -1.63216479e-02, -5.34343533e-02,\n",
      "        3.18490043e-02, -6.48301244e-02, -1.10958368e-02, -1.21662319e-02,\n",
      "       -2.50710603e-02, -1.88630838e-02, -3.96388061e-02,  1.96773820e-02,\n",
      "        4.56272326e-02,  1.12274457e-02,  5.18506914e-02, -3.65007157e-03,\n",
      "        2.80580465e-02,  2.36676857e-02, -5.32171354e-02,  4.96271253e-02,\n",
      "       -1.26049584e-02, -5.39640933e-02, -8.81957356e-03, -1.87866036e-02,\n",
      "        1.29686259e-02, -1.82676166e-02,  2.00542789e-02, -8.69090483e-03,\n",
      "       -1.84023473e-02, -3.27859260e-02,  8.97260942e-03, -2.83907857e-02,\n",
      "       -6.53745681e-02, -1.60424728e-02, -7.97177106e-02, -4.92308885e-02,\n",
      "        2.31334809e-02,  3.94869000e-02, -2.87614688e-02,  3.41159999e-02,\n",
      "       -5.63367978e-02, -1.80148147e-02,  6.04755878e-02,  3.05105466e-02,\n",
      "        2.36560572e-02,  6.22298103e-03,  1.86677258e-02,  2.62914002e-02,\n",
      "        2.49017831e-02, -3.80355343e-02,  6.28740638e-02, -1.39181865e-02,\n",
      "        1.85614135e-02, -7.64974672e-03, -5.00918366e-03, -5.18308319e-02,\n",
      "        3.00195590e-02,  3.48298723e-04, -8.67293123e-03, -2.89689167e-03,\n",
      "        1.02085732e-02,  3.68219800e-02, -3.42990123e-02, -2.31848881e-02,\n",
      "        5.97645640e-02, -9.76322498e-03,  1.27457278e-02,  2.89079268e-02,\n",
      "        3.64658944e-02,  8.87568109e-03, -6.27916586e-03,  1.60162561e-02,\n",
      "        4.69098054e-02, -2.61241458e-02,  1.62784406e-03,  2.42484305e-02,\n",
      "       -2.42447499e-02,  9.92875267e-03, -1.49061671e-02,  4.57000397e-02,\n",
      "        3.21053714e-02,  2.38902383e-02,  4.81992550e-02, -6.46177232e-02,\n",
      "       -3.50386538e-02, -1.19899409e-02, -3.33595760e-02, -3.60011607e-02,\n",
      "        2.22722944e-02, -3.57630104e-02,  6.61712363e-02, -3.11435889e-02,\n",
      "        6.11613616e-02, -1.20293954e-02, -1.62836388e-02, -8.57662316e-03,\n",
      "       -5.05063199e-02,  2.84485482e-02, -1.79646034e-02,  3.82694453e-02,\n",
      "       -1.50174927e-02, -2.19779536e-02,  9.65970680e-02, -8.92754123e-02,\n",
      "       -1.96464304e-02,  4.07428928e-02,  4.79167502e-04, -4.16818969e-02,\n",
      "        5.02427015e-03, -5.56789637e-02, -5.43750674e-02,  8.95071030e-02,\n",
      "        4.94305082e-02,  5.62852807e-02,  3.22910100e-02,  5.05142547e-02,\n",
      "        6.07034611e-03,  4.98116724e-02,  1.92928389e-02, -8.41432624e-03,\n",
      "        2.16573048e-02,  4.06081937e-02,  4.00253348e-02,  3.46168689e-02,\n",
      "        3.33850458e-02,  3.16527896e-02,  1.38318315e-02,  1.27644846e-02,\n",
      "        9.16849822e-03,  6.19083941e-02,  2.16095541e-02, -6.60209209e-02,\n",
      "       -5.43153770e-02, -4.45699580e-02, -7.43170604e-02, -8.43642373e-03,\n",
      "        2.93158889e-02, -5.50941341e-02, -6.19475916e-02, -3.27940658e-02,\n",
      "        5.64267598e-02, -4.12807204e-02,  4.28612269e-02,  3.34107168e-02,\n",
      "       -1.49028376e-02,  3.01571959e-03, -3.53721878e-03,  2.07247827e-02,\n",
      "       -2.72959489e-02, -7.97588553e-04, -6.59426227e-02,  5.65996245e-02,\n",
      "       -9.67472978e-03, -6.84685726e-03,  4.26785126e-02,  3.77766564e-02,\n",
      "       -6.80937842e-02,  3.35002989e-02,  1.58827305e-02, -3.46631370e-02,\n",
      "        5.81271108e-03,  2.07995735e-02, -1.78321265e-02,  5.45858070e-02,\n",
      "       -5.10991402e-02, -2.95922011e-02, -1.19464500e-02,  1.27972262e-02,\n",
      "        1.06495405e-02, -3.24319042e-02, -9.60880984e-03,  3.42475697e-02,\n",
      "       -2.77804881e-02, -5.44617213e-02, -1.45222712e-02, -1.10909548e-02,\n",
      "       -6.63022622e-02, -4.96155955e-02, -3.78086837e-03, -4.95258346e-03,\n",
      "       -3.26474644e-02, -5.79650514e-02,  1.98975820e-02,  3.88695933e-02,\n",
      "       -3.54713611e-02, -2.71607041e-02, -2.35030632e-02, -2.93135084e-02,\n",
      "        8.35448131e-03,  3.50330621e-02, -4.46861908e-02,  4.07805853e-02,\n",
      "       -2.37757098e-02, -2.76262537e-02, -1.00896955e-01,  2.02088859e-02,\n",
      "        1.24990530e-02,  5.64553961e-02, -2.49737296e-02,  3.05854622e-02,\n",
      "        2.64206268e-02,  2.61008777e-02,  6.92888908e-03, -3.54592167e-02,\n",
      "       -4.26049046e-02, -3.28046046e-02, -2.00622436e-03,  3.21144573e-02,\n",
      "        5.30397147e-02, -9.91246663e-03,  1.38115175e-02, -9.41545411e-04,\n",
      "        7.91457891e-02, -2.22925982e-03, -3.70838158e-02,  1.10968389e-02,\n",
      "       -8.56600050e-03, -3.27157378e-02, -1.29503394e-02, -2.10812632e-02,\n",
      "       -1.69725940e-02, -1.89534910e-02,  3.17595676e-02,  1.28954640e-02,\n",
      "       -4.38744053e-02,  7.16373846e-02, -1.58872642e-02,  1.43533209e-02,\n",
      "        1.31937508e-02,  2.80157067e-02, -3.08128707e-02,  3.03450283e-02,\n",
      "        3.40608880e-02,  1.54133588e-02, -2.89059002e-02,  1.19427545e-02,\n",
      "       -5.07108085e-02,  1.87423564e-02, -3.88203710e-02,  2.21837163e-02,\n",
      "       -6.20557442e-02, -4.10248525e-02, -3.86365578e-02,  3.40644494e-02,\n",
      "       -1.38142211e-02, -4.93327491e-02, -3.71725373e-02, -3.16346250e-02,\n",
      "       -1.66740979e-03, -2.85643060e-02, -1.24988584e-02, -1.49383172e-02,\n",
      "        2.69896667e-02,  1.63638871e-02, -1.96871515e-02,  2.32032109e-02,\n",
      "        5.04188240e-02,  2.54911128e-02,  3.21394466e-02,  4.20025587e-02,\n",
      "       -3.01285628e-02, -2.69733202e-02,  1.22987414e-02,  6.02523461e-02,\n",
      "        5.93930716e-03,  3.25281881e-02,  1.97793581e-02,  1.37286512e-02,\n",
      "        1.62118282e-02,  9.69031174e-03,  5.40231355e-03, -3.36150313e-03,\n",
      "        8.16033129e-03,  1.38192549e-02, -2.57742107e-02,  4.45705727e-02,\n",
      "       -1.76474229e-02,  8.91488045e-03,  2.16654092e-02, -3.08526997e-02,\n",
      "       -1.93679351e-02, -5.98053671e-02, -1.16867395e-02, -1.98576469e-02,\n",
      "        1.72940586e-02, -2.90715490e-02, -1.92246828e-02, -3.17756049e-02,\n",
      "       -1.08811054e-02,  1.68861989e-02, -5.85638881e-02, -1.24068893e-02,\n",
      "        5.69967479e-02,  3.70704196e-02, -2.85737049e-02,  4.02444899e-02,\n",
      "        5.41096088e-03,  3.31239812e-02, -3.20033357e-02, -7.81658851e-03,\n",
      "       -9.01954435e-03, -6.11920878e-02,  3.18702795e-02,  1.56999682e-03,\n",
      "        3.12562287e-02,  9.95371770e-03, -5.30480072e-02,  1.56072201e-02,\n",
      "        2.12962907e-02,  5.58380336e-02,  5.49810082e-02,  3.38965096e-02,\n",
      "       -5.34444116e-02,  2.52631609e-03, -1.77794285e-02,  4.45608124e-02,\n",
      "        6.03140565e-03, -2.43344307e-02,  9.29484610e-03, -1.40870009e-02,\n",
      "        3.37521099e-02,  3.14193405e-02, -4.15638201e-02, -4.32574451e-02,\n",
      "        1.19405696e-02,  2.00443268e-02, -8.86905473e-03, -6.89329654e-02,\n",
      "       -1.88991856e-02,  5.55433659e-03,  3.42766638e-03,  3.24294679e-02,\n",
      "       -2.00776476e-02,  6.48259893e-02, -2.77831331e-02,  5.88977477e-03,\n",
      "        6.59900084e-02, -4.11915854e-02,  5.46946228e-02,  3.87721397e-02,\n",
      "       -3.65734957e-02,  7.94330761e-02, -6.88784709e-03, -1.88121793e-03,\n",
      "        2.53316406e-02, -3.58169861e-02, -1.29761966e-03, -5.67976013e-02],\n",
      "      dtype=float32), array([-6.26190081e-02,  8.35847389e-03,  2.09318921e-02,  2.34539658e-02,\n",
      "       -3.66012901e-02,  3.30548026e-02,  1.68529786e-02,  3.60873640e-02,\n",
      "        4.78070043e-02,  3.65659990e-03, -3.10728177e-02,  3.31268013e-02,\n",
      "        2.16085874e-02,  5.70724420e-02,  1.84076780e-03, -3.88565204e-05,\n",
      "        1.25036379e-02,  8.66989419e-02, -5.44915833e-02, -5.35042491e-04,\n",
      "        2.85139680e-02, -4.47264127e-03, -6.43417239e-03, -4.22299542e-02,\n",
      "        4.25177673e-03, -9.11961962e-03,  4.95440187e-03, -1.34680839e-02,\n",
      "        8.11753422e-03, -1.03806825e-02,  2.11306717e-02,  9.23052803e-02,\n",
      "        1.29905222e-02, -8.50694627e-03,  4.26904745e-02,  2.95255277e-02,\n",
      "       -4.06814106e-02,  3.52525339e-02,  6.35675490e-02,  1.28698433e-02,\n",
      "       -8.55991915e-02, -1.67549197e-02, -7.34621659e-02,  2.37156898e-02,\n",
      "        1.60491765e-02, -2.74777338e-02,  4.93843993e-03,  4.44405451e-02,\n",
      "       -2.14869436e-02,  4.05578241e-02,  4.16527614e-02,  1.79040842e-02,\n",
      "       -2.89549325e-02,  4.04668925e-03, -1.47816958e-02,  3.44038047e-02,\n",
      "       -1.19374106e-02,  2.00243760e-02, -1.89384185e-02, -2.25513540e-02,\n",
      "        2.69438364e-02,  9.01882350e-03,  1.08810998e-02,  1.17518529e-02,\n",
      "        1.26117356e-02, -4.39451262e-02, -6.38296232e-02, -3.53974514e-02,\n",
      "        1.30864587e-02,  8.21845047e-03, -6.32725423e-05,  4.27991785e-02,\n",
      "       -1.62921883e-02,  5.32510430e-02, -7.44455233e-02, -9.05040428e-02,\n",
      "        3.82318236e-02, -4.96843308e-02,  1.19381994e-02, -2.00807825e-02,\n",
      "       -3.73800434e-02, -2.96223015e-02,  7.94110671e-02,  4.74126264e-02,\n",
      "        1.02118272e-02,  4.47808281e-02,  2.92950980e-02,  1.66466774e-03,\n",
      "       -4.54530939e-02, -2.60485820e-02,  1.79505516e-02,  6.22428581e-03,\n",
      "        2.60025542e-02, -1.13427928e-02,  6.18052222e-02, -1.31532550e-02,\n",
      "       -3.98360677e-02, -7.16757700e-02,  5.72312921e-02,  3.57215442e-02,\n",
      "        3.86464484e-02,  1.84951047e-03,  1.69420876e-02, -6.98998198e-02,\n",
      "        4.38752957e-02,  1.73483547e-02, -4.69785603e-03, -7.71857649e-02,\n",
      "        1.27687650e-02, -8.29502195e-02, -4.18384112e-02, -4.42646332e-02,\n",
      "       -2.33633327e-03, -4.37238514e-02, -1.72369462e-02,  7.40177557e-03,\n",
      "       -4.31619212e-03,  2.69853920e-02, -1.62613913e-02, -9.06334352e-03,\n",
      "       -1.51651278e-02, -1.10273799e-02, -2.39102822e-02, -1.23079112e-02,\n",
      "        4.15362827e-02,  2.03634873e-02,  3.02211270e-02,  3.82455178e-02,\n",
      "       -8.81623402e-02, -3.05916201e-02,  9.92459990e-03, -9.09817368e-02,\n",
      "        2.73331460e-02,  4.22214381e-02, -4.81213294e-02, -5.99195622e-02,\n",
      "       -9.23840422e-03,  1.11285746e-02,  2.76892483e-02,  2.58713719e-02,\n",
      "       -4.17104783e-03,  2.38832105e-02,  2.59142779e-02,  3.99706326e-02,\n",
      "        3.13102864e-02, -2.54384130e-02,  1.16227269e-02, -3.84163968e-02,\n",
      "        4.12666313e-02, -1.31683815e-02,  5.79859130e-04,  6.57856464e-03,\n",
      "       -3.18697393e-02,  1.29841492e-02, -8.09435360e-03, -1.92357320e-02,\n",
      "        3.47062722e-02, -1.58252064e-02,  6.94082305e-02, -6.86493190e-03,\n",
      "        1.18540227e-02, -4.07034680e-02,  3.75636332e-02,  3.73264663e-02,\n",
      "       -6.33514524e-02,  5.89414849e-04, -2.09313165e-02,  3.63033563e-02,\n",
      "       -3.08538340e-02, -3.75809520e-02,  1.64197627e-02, -1.97732518e-03,\n",
      "       -6.10001422e-02, -6.42765388e-02,  1.78127997e-02,  6.46506343e-03,\n",
      "        2.59820912e-02, -1.66765917e-02, -2.19578948e-02,  1.77014712e-02,\n",
      "        3.84404399e-02, -1.23859178e-02, -7.16628060e-02, -2.53953245e-02,\n",
      "        3.98654304e-03,  2.01387834e-02,  6.22346764e-03,  4.37186025e-02,\n",
      "       -4.61253989e-03, -2.13454552e-02, -3.29107344e-02,  8.47369805e-03,\n",
      "        9.99803469e-02,  3.46178487e-02,  6.13304079e-02, -1.58656575e-02,\n",
      "        3.54703772e-03,  2.42717396e-02, -5.29297516e-02,  3.19130197e-02,\n",
      "        1.50788063e-02, -9.47243627e-03,  3.11001763e-02,  4.90142498e-03,\n",
      "       -3.32045592e-02,  5.89676611e-02, -3.96024771e-02, -3.92702259e-02,\n",
      "        1.25865713e-02,  6.03224784e-02,  1.21695513e-03, -1.17044002e-02,\n",
      "       -1.84945408e-02,  5.29904589e-02, -2.01750044e-02, -3.08237281e-02,\n",
      "        6.91468567e-02, -5.75664416e-02,  4.50795144e-02, -5.69520611e-03,\n",
      "        6.40537217e-02, -2.33835876e-02,  5.39796874e-02, -4.69904626e-03,\n",
      "       -3.58138941e-02, -6.11356087e-02, -3.71805355e-02, -2.38442421e-02,\n",
      "        3.22970971e-02, -3.82691808e-02, -4.80063967e-02,  5.65895401e-02,\n",
      "        2.27481946e-02, -5.29307127e-03,  2.00529415e-02, -1.29773589e-02,\n",
      "       -6.88893301e-03, -4.58398499e-02, -3.06883287e-02,  1.02982521e-02,\n",
      "       -1.55111160e-02, -1.21807205e-02,  1.85480323e-02,  7.41166528e-03,\n",
      "        1.13065885e-02,  5.53749911e-02, -4.18581010e-04,  2.93406583e-02,\n",
      "       -2.95186434e-02, -4.89473518e-04, -5.49936742e-02, -5.92488889e-03,\n",
      "       -1.85936466e-02, -2.80731893e-03, -9.33303908e-02, -1.99228176e-03,\n",
      "        1.74607038e-02, -3.43285017e-02, -5.90299703e-02,  1.23723708e-02,\n",
      "        1.32279256e-02,  7.80477701e-03, -2.69260779e-02,  2.83292355e-03,\n",
      "       -3.14053483e-02, -1.13413371e-01, -9.36049316e-03,  1.65139530e-02,\n",
      "       -3.23227653e-03, -5.29906787e-02, -2.02665590e-02,  1.86930485e-02,\n",
      "       -1.27326101e-02,  2.11704243e-02,  3.00078448e-02,  9.83223226e-03,\n",
      "       -1.67209259e-03, -2.53614597e-02, -5.46898395e-02, -2.00656317e-02,\n",
      "        7.22247642e-03,  4.34038229e-02, -7.35725649e-03, -1.02663273e-02,\n",
      "        1.20814573e-02, -1.62681080e-02,  6.40513957e-04, -2.80327890e-02,\n",
      "       -6.57543987e-02,  4.13753353e-02,  1.47236325e-02,  2.12886482e-02,\n",
      "        4.21654470e-02, -7.17194378e-02,  3.30130868e-02,  4.58537191e-02,\n",
      "       -5.01312129e-03,  4.11088616e-02, -2.30008997e-02, -1.88261848e-02,\n",
      "        3.93418856e-02,  7.64666824e-03, -8.51136446e-02,  2.87730116e-02,\n",
      "       -1.51138203e-02,  3.31135988e-02, -2.56099384e-02, -5.74633181e-02,\n",
      "        1.68508943e-02,  7.86614344e-02,  7.38048740e-03,  2.70533971e-02,\n",
      "       -1.30336750e-02, -2.53959335e-02, -2.42365934e-02, -4.16564941e-02,\n",
      "       -1.20193757e-01,  5.51902913e-02, -1.55051434e-02,  3.19904871e-02,\n",
      "        3.81201208e-02,  1.34963300e-02, -1.90039445e-02, -1.04376031e-02,\n",
      "        4.86274958e-02, -4.83365904e-04,  4.46703695e-02, -1.84656344e-02,\n",
      "       -3.51518542e-02,  2.96227168e-02,  7.53254921e-04, -2.54360065e-02,\n",
      "       -1.01027228e-02, -1.14817843e-02, -2.80644018e-02,  3.00313476e-02,\n",
      "       -5.53533062e-02,  3.13225687e-02,  7.79556036e-02, -8.59971717e-03,\n",
      "        5.09880669e-02,  2.25177985e-02,  6.47756904e-02,  6.10529929e-02,\n",
      "        4.33732709e-03, -1.56355295e-02,  7.45325349e-03, -1.35590890e-02,\n",
      "       -5.71530778e-04, -4.32049343e-03, -6.94805942e-03,  7.18843117e-02,\n",
      "        6.05913345e-03, -5.39401397e-02, -2.59482525e-02, -1.06687983e-02,\n",
      "        6.75356295e-03, -1.69771090e-02, -5.49267568e-02, -1.57611221e-02,\n",
      "        1.56785361e-02,  2.08327416e-02, -5.10667711e-02,  6.10352606e-02,\n",
      "        2.45786160e-02, -4.69221408e-03,  4.70788740e-02,  4.80596116e-03,\n",
      "       -3.40645090e-02,  1.03326272e-02,  1.54156871e-02,  7.13419393e-02,\n",
      "       -5.50153740e-02, -1.19144553e-02,  2.50974111e-02, -3.67269516e-02,\n",
      "        1.00621218e-02,  5.16398586e-02,  2.30292883e-02, -1.01095121e-02,\n",
      "       -7.31307417e-02, -2.61334591e-02, -8.32822826e-03,  2.76690461e-02,\n",
      "       -5.09713888e-02,  3.39882895e-02, -3.04913223e-02,  1.95730198e-02,\n",
      "        7.05404393e-03,  4.69189398e-02, -1.11172996e-01,  2.86972746e-02,\n",
      "       -2.76047513e-02,  2.24827277e-03,  1.82327237e-02,  4.18634601e-02,\n",
      "        2.20699534e-02,  4.76721339e-02,  5.22892689e-03,  3.16273756e-02,\n",
      "       -3.57170627e-02, -3.11011765e-02,  5.19969575e-02, -1.96567774e-02,\n",
      "        1.80217121e-02, -5.21437638e-03,  6.01155609e-02,  1.48359701e-04,\n",
      "       -1.82823949e-02, -5.38540892e-02, -3.04293297e-02,  3.71981971e-02,\n",
      "        1.42278858e-02, -4.66768770e-03,  2.78175063e-02,  3.17631327e-02,\n",
      "        3.20730023e-02,  2.66137607e-02, -5.48609495e-02,  3.59041095e-02,\n",
      "        2.17110341e-04, -5.06403763e-03, -1.63216479e-02, -5.34343533e-02,\n",
      "        3.18490043e-02, -6.48301244e-02, -1.10958368e-02, -1.21662319e-02,\n",
      "       -2.50710603e-02, -1.88630838e-02, -3.96388061e-02,  1.96773820e-02,\n",
      "        4.56272326e-02,  1.12274457e-02,  5.18506914e-02, -3.65007157e-03,\n",
      "        2.80580465e-02,  2.36676857e-02, -5.32171354e-02,  4.96271253e-02,\n",
      "       -1.26049584e-02, -5.39640933e-02, -8.81957356e-03, -1.87866036e-02,\n",
      "        1.29686259e-02, -1.82676166e-02,  2.00542789e-02, -8.69090483e-03,\n",
      "       -1.84023473e-02, -3.27859260e-02,  8.97260942e-03, -2.83907857e-02,\n",
      "       -6.53745681e-02, -1.60424728e-02, -7.97177106e-02, -4.92308885e-02,\n",
      "        2.31334809e-02,  3.94869000e-02, -2.87614688e-02,  3.41159999e-02,\n",
      "       -5.63367978e-02, -1.80148147e-02,  6.04755878e-02,  3.05105466e-02,\n",
      "        2.36560572e-02,  6.22298103e-03,  1.86677258e-02,  2.62914002e-02,\n",
      "        2.49017831e-02, -3.80355343e-02,  6.28740638e-02, -1.39181865e-02,\n",
      "        1.85614135e-02, -7.64974672e-03, -5.00918366e-03, -5.18308319e-02,\n",
      "        3.00195590e-02,  3.48298723e-04, -8.67293123e-03, -2.89689167e-03,\n",
      "        1.02085732e-02,  3.68219800e-02, -3.42990123e-02, -2.31848881e-02,\n",
      "        5.97645640e-02, -9.76322498e-03,  1.27457278e-02,  2.89079268e-02,\n",
      "        3.64658944e-02,  8.87568109e-03, -6.27916586e-03,  1.60162561e-02,\n",
      "        4.69098054e-02, -2.61241458e-02,  1.62784406e-03,  2.42484305e-02,\n",
      "       -2.42447499e-02,  9.92875267e-03, -1.49061671e-02,  4.57000397e-02,\n",
      "        3.21053714e-02,  2.38902383e-02,  4.81992550e-02, -6.46177232e-02,\n",
      "       -3.50386538e-02, -1.19899409e-02, -3.33595760e-02, -3.60011607e-02,\n",
      "        2.22722944e-02, -3.57630104e-02,  6.61712363e-02, -3.11435889e-02,\n",
      "        6.11613616e-02, -1.20293954e-02, -1.62836388e-02, -8.57662316e-03,\n",
      "       -5.05063199e-02,  2.84485482e-02, -1.79646034e-02,  3.82694453e-02,\n",
      "       -1.50174927e-02, -2.19779536e-02,  9.65970680e-02, -8.92754123e-02,\n",
      "       -1.96464304e-02,  4.07428928e-02,  4.79167502e-04, -4.16818969e-02,\n",
      "        5.02427015e-03, -5.56789637e-02, -5.43750674e-02,  8.95071030e-02,\n",
      "        4.94305082e-02,  5.62852807e-02,  3.22910100e-02,  5.05142547e-02,\n",
      "        6.07034611e-03,  4.98116724e-02,  1.92928389e-02, -8.41432624e-03,\n",
      "        2.16573048e-02,  4.06081937e-02,  4.00253348e-02,  3.46168689e-02,\n",
      "        3.33850458e-02,  3.16527896e-02,  1.38318315e-02,  1.27644846e-02,\n",
      "        9.16849822e-03,  6.19083941e-02,  2.16095541e-02, -6.60209209e-02,\n",
      "       -5.43153770e-02, -4.45699580e-02, -7.43170604e-02, -8.43642373e-03,\n",
      "        2.93158889e-02, -5.50941341e-02, -6.19475916e-02, -3.27940658e-02,\n",
      "        5.64267598e-02, -4.12807204e-02,  4.28612269e-02,  3.34107168e-02,\n",
      "       -1.49028376e-02,  3.01571959e-03, -3.53721878e-03,  2.07247827e-02,\n",
      "       -2.72959489e-02, -7.97588553e-04, -6.59426227e-02,  5.65996245e-02,\n",
      "       -9.67472978e-03, -6.84685726e-03,  4.26785126e-02,  3.77766564e-02,\n",
      "       -6.80937842e-02,  3.35002989e-02,  1.58827305e-02, -3.46631370e-02,\n",
      "        5.81271108e-03,  2.07995735e-02, -1.78321265e-02,  5.45858070e-02,\n",
      "       -5.10991402e-02, -2.95922011e-02, -1.19464500e-02,  1.27972262e-02,\n",
      "        1.06495405e-02, -3.24319042e-02, -9.60880984e-03,  3.42475697e-02,\n",
      "       -2.77804881e-02, -5.44617213e-02, -1.45222712e-02, -1.10909548e-02,\n",
      "       -6.63022622e-02, -4.96155955e-02, -3.78086837e-03, -4.95258346e-03,\n",
      "       -3.26474644e-02, -5.79650514e-02,  1.98975820e-02,  3.88695933e-02,\n",
      "       -3.54713611e-02, -2.71607041e-02, -2.35030632e-02, -2.93135084e-02,\n",
      "        8.35448131e-03,  3.50330621e-02, -4.46861908e-02,  4.07805853e-02,\n",
      "       -2.37757098e-02, -2.76262537e-02, -1.00896955e-01,  2.02088859e-02,\n",
      "        1.24990530e-02,  5.64553961e-02, -2.49737296e-02,  3.05854622e-02,\n",
      "        2.64206268e-02,  2.61008777e-02,  6.92888908e-03, -3.54592167e-02,\n",
      "       -4.26049046e-02, -3.28046046e-02, -2.00622436e-03,  3.21144573e-02,\n",
      "        5.30397147e-02, -9.91246663e-03,  1.38115175e-02, -9.41545411e-04,\n",
      "        7.91457891e-02, -2.22925982e-03, -3.70838158e-02,  1.10968389e-02,\n",
      "       -8.56600050e-03, -3.27157378e-02, -1.29503394e-02, -2.10812632e-02,\n",
      "       -1.69725940e-02, -1.89534910e-02,  3.17595676e-02,  1.28954640e-02,\n",
      "       -4.38744053e-02,  7.16373846e-02, -1.58872642e-02,  1.43533209e-02,\n",
      "        1.31937508e-02,  2.80157067e-02, -3.08128707e-02,  3.03450283e-02,\n",
      "        3.40608880e-02,  1.54133588e-02, -2.89059002e-02,  1.19427545e-02,\n",
      "       -5.07108085e-02,  1.87423564e-02, -3.88203710e-02,  2.21837163e-02,\n",
      "       -6.20557442e-02, -4.10248525e-02, -3.86365578e-02,  3.40644494e-02,\n",
      "       -1.38142211e-02, -4.93327491e-02, -3.71725373e-02, -3.16346250e-02,\n",
      "       -1.66740979e-03, -2.85643060e-02, -1.24988584e-02, -1.49383172e-02,\n",
      "        2.69896667e-02,  1.63638871e-02, -1.96871515e-02,  2.32032109e-02,\n",
      "        5.04188240e-02,  2.54911128e-02,  3.21394466e-02,  4.20025587e-02,\n",
      "       -3.01285628e-02, -2.69733202e-02,  1.22987414e-02,  6.02523461e-02,\n",
      "        5.93930716e-03,  3.25281881e-02,  1.97793581e-02,  1.37286512e-02,\n",
      "        1.62118282e-02,  9.69031174e-03,  5.40231355e-03, -3.36150313e-03,\n",
      "        8.16033129e-03,  1.38192549e-02, -2.57742107e-02,  4.45705727e-02,\n",
      "       -1.76474229e-02,  8.91488045e-03,  2.16654092e-02, -3.08526997e-02,\n",
      "       -1.93679351e-02, -5.98053671e-02, -1.16867395e-02, -1.98576469e-02,\n",
      "        1.72940586e-02, -2.90715490e-02, -1.92246828e-02, -3.17756049e-02,\n",
      "       -1.08811054e-02,  1.68861989e-02, -5.85638881e-02, -1.24068893e-02,\n",
      "        5.69967479e-02,  3.70704196e-02, -2.85737049e-02,  4.02444899e-02,\n",
      "        5.41096088e-03,  3.31239812e-02, -3.20033357e-02, -7.81658851e-03,\n",
      "       -9.01954435e-03, -6.11920878e-02,  3.18702795e-02,  1.56999682e-03,\n",
      "        3.12562287e-02,  9.95371770e-03, -5.30480072e-02,  1.56072201e-02,\n",
      "        2.12962907e-02,  5.58380336e-02,  5.49810082e-02,  3.38965096e-02,\n",
      "       -5.34444116e-02,  2.52631609e-03, -1.77794285e-02,  4.45608124e-02,\n",
      "        6.03140565e-03, -2.43344307e-02,  9.29484610e-03, -1.40870009e-02,\n",
      "        3.37521099e-02,  3.14193405e-02, -4.15638201e-02, -4.32574451e-02,\n",
      "        1.19405696e-02,  2.00443268e-02, -8.86905473e-03, -6.89329654e-02,\n",
      "       -1.88991856e-02,  5.55433659e-03,  3.42766638e-03,  3.24294679e-02,\n",
      "       -2.00776476e-02,  6.48259893e-02, -2.77831331e-02,  5.88977477e-03,\n",
      "        6.59900084e-02, -4.11915854e-02,  5.46946228e-02,  3.87721397e-02,\n",
      "       -3.65734957e-02,  7.94330761e-02, -6.88784709e-03, -1.88121793e-03,\n",
      "        2.53316406e-02, -3.58169861e-02, -1.29761966e-03, -5.67976013e-02],\n",
      "      dtype=float32)]\n"
     ]
    },
    {
     "data": {
      "text/plain": [
       "(list, numpy.ndarray, 3, None)"
      ]
     },
     "execution_count": 38,
     "metadata": {},
     "output_type": "execute_result"
    }
   ],
   "source": [
    "# Test Embeddings\n",
    "texts = [\n",
    "    \"The quick brown fox jumps over the lazy dog.\",\n",
    "    \"The quick brown fox jumps over the lazy dog.\",\n",
    "    \"The quick brown fox jumps over the lazy dog.\",\n",
    "]\n",
    "embeddings = Generate_Embeddings(EMBEDDING_MODEL)(texts)\n",
    "# embeddings = generate_embeddings(texts)\n",
    "type(embeddings), type(embeddings[0]), len(embeddings), print(embeddings)"
   ]
  },
  {
   "cell_type": "code",
   "execution_count": null,
   "metadata": {},
   "outputs": [],
   "source": [
    "# Creating collection for storing embeddings\n",
    "collection = chroma_client.create_collection(\n",
    "    name=\"collection101\",\n",
    "    embedding_function=Generate_Embeddings(EMBEDDING_MODEL),\n",
    "    metadata={\"description\": \"test collection\", \"created\": str(datetime.now())},\n",
    ")\n",
    "\n",
    "# Chromadb accepts embedding function as a parameter\n",
    "# This embedding function will be used to generate embeddings for the text data\n",
    "# The embedding function can be any class which can be callable function that takes a list of text data as input and returns a list of embeddings as output\n",
    "# The metadata parameter is optional and can be used to store additional information about the collection\n",
    "# The collection object can be used to store and retrieve embeddings"
   ]
  },
  {
   "cell_type": "code",
   "execution_count": null,
   "metadata": {},
   "outputs": [],
   "source": [
    "doc1 = \"\"\"\n",
    "Quantum computing is an emerging field that harnesses the principles of quantum mechanics to perform complex calculations at unprecedented speeds. Unlike classical computers that use bits to represent either 0 or 1, quantum computers use qubits, which can exist in multiple states simultaneously due to superposition. Additionally, qubits can be entangled, meaning the state of one qubit is directly linked to another, regardless of distance. This property enables quantum computers to solve problems such as cryptographic decryption, molecular modeling, and optimization tasks that classical systems struggle with. Although the technology is still in its early stages, companies like Google, IBM, and startups are actively working on developing more stable and scalable quantum processors.\n",
    "\"\"\"\n",
    "\n",
    "doc2 = \"\"\"\n",
    "The global supply chain has faced significant disruptions in recent years, impacting various industries worldwide. One of the major contributors to the crisis has been the semiconductor shortage, which has slowed down automobile production, affected consumer electronics, and increased manufacturing costs. Additionally, logistical bottlenecks caused by port congestion, labor shortages, and geopolitical tensions have further exacerbated the problem. Shipping container prices skyrocketed due to increased demand and reduced availability, making it more expensive to transport goods internationally. Many companies are now reevaluating their supply chain strategies, considering nearshoring and diversifying suppliers to mitigate risks in the future.\n",
    "\"\"\"\n",
    "\n",
    "doc3 = \"\"\"\n",
    "Cricket is one of the most popular sports globally, with deep-rooted traditions in countries like India, England, Australia, and South Africa. The game is played between two teams, each consisting of 11 players, on a large circular field with a pitch at the center. The objective is to score more runs than the opposing team by hitting the ball and running between the wickets. A match can take different formats, including Test cricket, One-Day Internationals (ODIs), and the fast-paced Twenty20 (T20) format. Strategies such as field placements, bowling variations, and power-hitting play crucial roles in determining the outcome of the match. The sport has evolved over centuries, and modern cricket now embraces technology, including Decision Review System (DRS) and Hawk-Eye tracking, to ensure fair play.\n",
    "\"\"\"\n",
    "\n",
    "doc4 = \"\"\"\n",
    "Climate change has led to drastic environmental transformations worldwide, affecting both human civilization and wildlife. Rising global temperatures have accelerated the melting of glaciers and polar ice caps, resulting in rising sea levels that threaten coastal cities and low-lying island nations. Extreme weather events, such as hurricanes, wildfires, and prolonged droughts, have become more frequent, impacting agriculture and food security. Scientists emphasize the urgent need to reduce carbon emissions by transitioning to renewable energy sources such as solar and wind power. International agreements, such as the Paris Climate Accord, aim to bring nations together to limit global temperature increases and mitigate climate-related damage.\n",
    "\"\"\"\n",
    "\n",
    "doc5 = \"\"\"\n",
    "Artificial intelligence has revolutionized multiple industries, from healthcare to finance and logistics. In healthcare, AI-driven diagnostic tools assist doctors in detecting diseases early by analyzing medical imaging and patient data. Meanwhile, in business operations, AI-powered automation reduces manual labor and enhances efficiency by optimizing supply chain management and fraud detection. Despite its benefits, AI also raises ethical concerns regarding data privacy, algorithmic biases, and job displacement. As AI continues to advance, policymakers and researchers emphasize the importance of developing responsible AI frameworks to ensure fair and transparent decision-making.\n",
    "\"\"\"\n",
    "\n",
    "doc6 = \"\"\"\n",
    "Kvanttitietokoneet hyödyntävät kvanttimekaniikan ilmiöitä, kuten superpositiota ja lomittumista, ratkaistakseen monimutkaisia ongelmia, joita perinteiset tietokoneet eivät kykene käsittelemään tehokkaasti. Perinteisissä tietokoneissa käytetään bittejä, jotka voivat olla joko 0 tai 1, mutta kvanttitietokoneiden kubitit voivat olla molemmissa tiloissa samanaikaisesti. Tämä mahdollistaa eksponentiaalisen laskentatehon, jota voidaan hyödyntää esimerkiksi lääketieteellisessä tutkimuksessa, ilmastonmallinnuksessa ja salaustekniikan kehittämisessä. Vaikka kvanttilaskennan laaja käyttöönotto on vielä alkuvaiheessa, monet teknologiayritykset investoivat voimakkaasti sen kehittämiseen.\n",
    "\"\"\"\n",
    "\n",
    "doc7 = \"\"\"\n",
    "Viime vuosina maailmanlaajuinen toimitusketjukriisi on vaikuttanut moniin teollisuudenaloihin, erityisesti elektroniikan ja autoteollisuuden tuotantoon. Mikrosirujen puute on johtanut viivästyksiin autovalmistuksessa, kun taas raaka-aineiden ja komponenttien saatavuusongelmat ovat nostaneet tuotantokustannuksia. Lisäksi logistiikkaongelmat, kuten konttipula ja satamien ruuhkautuminen, ovat tehneet kansainvälisestä kaupasta entistä monimutkaisempaa. Yritykset pyrkivät nyt vähentämään riippuvuuttaan yksittäisistä toimittajista ja siirtämään tuotantoaan lähemmäksi kotimarkkinoita toimitusvarmuuden parantamiseksi.\n",
    "\"\"\"\n",
    "\n",
    "doc8 = \"\"\"\n",
    "Jalkapallo on maailman suosituin urheilulaji, jota pelataan lähes jokaisessa maassa. Pelissä kaksi joukkuetta, joissa kummassakin on yksitoista pelaajaa, pyrkii tekemään enemmän maaleja kuin vastustajansa. Ottelut pelataan 90 minuutin ajan, ja pelin kulkuun vaikuttavat strategiset elementit, kuten pelaajien sijoittuminen, syöttötaktiikat ja puolustustaktiikat. Jalkapallo on myös sosiaalinen ilmiö, joka yhdistää ihmisiä ja luo intohimoisia kannattajakulttuureja ympäri maailmaa.\n",
    "\"\"\"\n",
    "\n",
    "doc9 = \"\"\"\n",
    "Ilmastonmuutoksella on laaja-alaisia vaikutuksia sekä luonnolle että yhteiskunnalle. Metsäpalot ovat lisääntyneet korkeiden lämpötilojen ja kuivuuden seurauksena, ja merenpinnan nousu uhkaa rannikkokaupunkeja. Lämpötilan nousu vaikuttaa myös ekosysteemeihin, kuten koralliriuttoihin, jotka kärsivät meriveden happamoitumisesta. Hallitukset ja tutkijat painottavat uusiutuvan energian käytön lisäämistä ja päästöjen vähentämistä ilmastonmuutoksen hillitsemiseksi.\n",
    "\"\"\"\n",
    "\n",
    "doc10 = \"\"\"\n",
    "Tekoälyllä on kasvava merkitys liiketoiminnassa, sillä se mahdollistaa prosessien automatisoinnin ja paremman päätöksenteon. Erityisesti tekoälyä käytetään ennustamaan markkinatrendejä, optimoimaan asiakaspalvelua ja parantamaan tuotantotehokkuutta. Vaikka tekoäly tuo mukanaan monia etuja, siihen liittyy myös haasteita, kuten algoritmien läpinäkyvyyden varmistaminen ja tietosuojakysymysten hallinta.\n",
    "\"\"\"\n",
    "\n",
    "passages = [doc1, doc2, doc3, doc4, doc5, doc6, doc7, doc8, doc9, doc10]\n",
    "\n",
    "\n",
    "queries = [\n",
    "    \"How do quantum computers use entanglement?\",\n",
    "    \"What is causing the supply chain crisis?\",\n",
    "    \"How does AI impact medical diagnosis?\",\n",
    "    \"What is the objective of cricket?\",\n",
    "    \"What are the consequences of global warming?\",\n",
    "    \"How does AI improve business processes?\",\n",
    "    \"What is the most popular sport in Europe?\",\n",
    "    \"How do airplanes stay in the air?\",\n",
    "    \"Who won the latest Nobel Prize in Literature?\",\n",
    "    \"How do ancient civilizations influence modern art?\",\n",
    "    \"Miten kvanttitietokoneet hyödyntävät lomittumista?\",\n",
    "    \"Miksi mikrosirujen puute vaikuttaa autoteollisuuteen?\",\n",
    "    \"Mitä seurauksia ilmastonmuutoksella on?\",\n",
    "    \"Miten tekoäly voi auttaa talouden hallinnassa?\",\n",
    "    \"Mikä on maailman suosituin urheilulaji?\",\n",
    "    \"Miten jääkarhut metsästävät?\",\n",
    "    \"Kuka keksi ensimmäisen lentokoneen?\",\n",
    "    \"Miten vanhat egyptiläiset kirjoittivat?\",\n",
    "]"
   ]
  },
  {
   "cell_type": "code",
   "execution_count": null,
   "metadata": {},
   "outputs": [],
   "source": [
    "collection.add(\n",
    "    ids=[str(x) for x in range(len(passages))],\n",
    "    documents=passages,\n",
    "    metadatas=[{\"source\": doc} for doc in passages],\n",
    ")"
   ]
  },
  {
   "cell_type": "code",
   "execution_count": 22,
   "metadata": {},
   "outputs": [
    {
     "data": {
      "text/plain": [
       "{'ids': [['0', '5', '4'],\n",
       "  ['1', '6', '3'],\n",
       "  ['4', '0', '9'],\n",
       "  ['2', '7', '4'],\n",
       "  ['3', '1', '4'],\n",
       "  ['4', '9', '0'],\n",
       "  ['2', '7', '3'],\n",
       "  ['2', '8', '6'],\n",
       "  ['3', '0', '2'],\n",
       "  ['3', '4', '1'],\n",
       "  ['5', '8', '6'],\n",
       "  ['6', '8', '9'],\n",
       "  ['8', '6', '7'],\n",
       "  ['9', '8', '7'],\n",
       "  ['6', '8', '7'],\n",
       "  ['8', '6', '7'],\n",
       "  ['6', '9', '8'],\n",
       "  ['6', '8', '9']],\n",
       " 'embeddings': None,\n",
       " 'documents': None,\n",
       " 'uris': None,\n",
       " 'data': None,\n",
       " 'metadatas': None,\n",
       " 'distances': [[0.5824463367462158, 1.2420867681503296, 1.3683232069015503],\n",
       "  [0.6067771315574646, 1.1924537420272827, 1.263237714767456],\n",
       "  [0.6694269180297852, 1.263641357421875, 1.3212366104125977],\n",
       "  [0.5530073046684265, 1.2672760486602783, 1.3912718296051025],\n",
       "  [0.7969319224357605, 1.3407310247421265, 1.3619637489318848],\n",
       "  [0.7968365550041199, 1.0534396171569824, 1.1956827640533447],\n",
       "  [0.9541091322898865, 1.3254051208496094, 1.4466105699539185],\n",
       "  [1.438058853149414, 1.4663307666778564, 1.498827576637268],\n",
       "  [1.4040460586547852, 1.483717441558838, 1.4903030395507812],\n",
       "  [1.323073148727417, 1.3847057819366455, 1.4400241374969482],\n",
       "  [0.4895703196525574, 0.7175312638282776, 0.7793352603912354],\n",
       "  [0.6016605496406555, 0.7383434772491455, 0.8030304908752441],\n",
       "  [0.49853038787841797, 0.7614494562149048, 0.8153696060180664],\n",
       "  [0.5129388570785522, 0.7751948833465576, 0.7890821099281311],\n",
       "  [0.6666296720504761, 0.6892197132110596, 0.7516822218894958],\n",
       "  [0.600543737411499, 0.8020373582839966, 0.8165438771247864],\n",
       "  [0.8230504393577576, 0.8433783054351807, 0.8831092119216919],\n",
       "  [1.0299115180969238, 1.039115071296692, 1.0491318702697754]],\n",
       " 'included': [<IncludeEnum.distances: 'distances'>]}"
      ]
     },
     "execution_count": 22,
     "metadata": {},
     "output_type": "execute_result"
    }
   ],
   "source": [
    "collection.query(query_texts=queries, n_results=3, include=[\"distances\"])"
   ]
  },
  {
   "cell_type": "code",
   "execution_count": null,
   "metadata": {},
   "outputs": [],
   "source": [
    "# Define the ground truth relevance mapping\n",
    "ground_truth = {\n",
    "    0: {0: \"exactly relevant\"},  # Query 0 -> Passage 0\n",
    "    1: {1: \"exactly relevant\"},\n",
    "    2: {4: \"exactly relevant\"},\n",
    "    3: {2: \"exactly relevant\"},\n",
    "    4: {3: \"somewhat similar\", 8: \"somewhat similar\"},\n",
    "    5: {9: \"somewhat similar\"},\n",
    "    6: {7: \"somewhat similar\"},\n",
    "    7: {},  # Completely irrelevant\n",
    "    8: {},  # Completely irrelevant\n",
    "    9: {},  # Completely irrelevant\n",
    "    10: {5: \"exactly relevant\"},\n",
    "    11: {6: \"exactly relevant\"},\n",
    "    12: {3: \"somewhat similar\", 8: \"somewhat similar\"},\n",
    "    13: {9: \"somewhat similar\"},\n",
    "    14: {7: \"somewhat similar\"},\n",
    "    15: {},  # Completely irrelevant\n",
    "    16: {},  # Completely irrelevant\n",
    "    17: {},  # Completely irrelevant\n",
    "}"
   ]
  },
  {
   "cell_type": "code",
   "execution_count": null,
   "metadata": {},
   "outputs": [],
   "source": [
    "# Doing same with cosine similarity\n",
    "cosine_collection = chroma_client.create_collection(\n",
    "    name=\"cosine_collection\",\n",
    "    embedding_function=Generate_Embeddings(EMBEDDING_MODEL),\n",
    "    metadata={\n",
    "        \"hnsw:space\": \"cosine\",\n",
    "        \"description\": \"test collection\",\n",
    "        \"created\": str(datetime.now()),\n",
    "    },\n",
    ")"
   ]
  },
  {
   "cell_type": "code",
   "execution_count": null,
   "metadata": {},
   "outputs": [],
   "source": [
    "cosine_collection.add(\n",
    "    ids=[str(x) for x in range(len(passages))],\n",
    "    documents=passages,\n",
    "    metadatas=[{\"source\": doc} for doc in passages],\n",
    ")"
   ]
  },
  {
   "cell_type": "code",
   "execution_count": 27,
   "metadata": {},
   "outputs": [
    {
     "data": {
      "text/plain": [
       "{'ids': [['0', '5', '4'],\n",
       "  ['1', '6', '3'],\n",
       "  ['4', '0', '9'],\n",
       "  ['2', '7', '4'],\n",
       "  ['3', '1', '4'],\n",
       "  ['4', '9', '0'],\n",
       "  ['2', '7', '3'],\n",
       "  ['2', '8', '6'],\n",
       "  ['3', '0', '2'],\n",
       "  ['3', '4', '1'],\n",
       "  ['5', '8', '6'],\n",
       "  ['6', '8', '9'],\n",
       "  ['8', '6', '7'],\n",
       "  ['9', '8', '7'],\n",
       "  ['6', '8', '7'],\n",
       "  ['8', '6', '7'],\n",
       "  ['6', '9', '8'],\n",
       "  ['6', '8', '9']],\n",
       " 'embeddings': None,\n",
       " 'documents': None,\n",
       " 'uris': None,\n",
       " 'data': None,\n",
       " 'metadatas': None,\n",
       " 'distances': [[0.29123246669769287, 0.6210748553276062, 0.6841769218444824],\n",
       "  [0.3033965826034546, 0.5962578058242798, 0.6316372752189636],\n",
       "  [0.33472079038619995, 0.6318407654762268, 0.660637617111206],\n",
       "  [0.2765137553215027, 0.6336616277694702, 0.6956510543823242],\n",
       "  [0.39847731590270996, 0.6703828573226929, 0.6809966564178467],\n",
       "  [0.3984271287918091, 0.5267351865768433, 0.5978601574897766],\n",
       "  [0.4770723581314087, 0.6627272963523865, 0.7233263850212097],\n",
       "  [0.7190561294555664, 0.7331972718238831, 0.749452531337738],\n",
       "  [0.7020435333251953, 0.74188232421875, 0.7451792359352112],\n",
       "  [0.6615557074546814, 0.6923679113388062, 0.7200309038162231],\n",
       "  [0.24479788541793823, 0.358781635761261, 0.38968825340270996],\n",
       "  [0.300845742225647, 0.36918795108795166, 0.4015272855758667],\n",
       "  [0.2492760419845581, 0.3807446360588074, 0.4077003598213196],\n",
       "  [0.2564769983291626, 0.38761472702026367, 0.3945561647415161],\n",
       "  [0.33333224058151245, 0.3446248769760132, 0.37585532665252686],\n",
       "  [0.30028480291366577, 0.4010394811630249, 0.4082871675491333],\n",
       "  [0.41154664754867554, 0.42170172929763794, 0.44157397747039795],\n",
       "  [0.5149829983711243, 0.5195807218551636, 0.5245819091796875]],\n",
       " 'included': [<IncludeEnum.distances: 'distances'>]}"
      ]
     },
     "execution_count": 27,
     "metadata": {},
     "output_type": "execute_result"
    }
   ],
   "source": [
    "cosine_collection.query(query_texts=queries, n_results=3, include=[\"distances\"])"
   ]
  },
  {
   "cell_type": "code",
   "execution_count": 35,
   "metadata": {},
   "outputs": [
    {
     "data": {
      "text/plain": [
       "{'ids': ['0', '1', '2'],\n",
       " 'embeddings': array([[ 0.03067731,  0.02056439, -0.05496611, ..., -0.08292129,\n",
       "          0.04159432, -0.00963745],\n",
       "        [ 0.03474552, -0.02475902,  0.01803662, ..., -0.11863972,\n",
       "          0.00732593, -0.10797143],\n",
       "        [-0.00664419,  0.02785992,  0.00138451, ..., -0.03215824,\n",
       "          0.00940473, -0.01827391]], shape=(3, 768)),\n",
       " 'documents': ['\\nQuantum computing is an emerging field that harnesses the principles of quantum mechanics to perform complex calculations at unprecedented speeds. Unlike classical computers that use bits to represent either 0 or 1, quantum computers use qubits, which can exist in multiple states simultaneously due to superposition. Additionally, qubits can be entangled, meaning the state of one qubit is directly linked to another, regardless of distance. This property enables quantum computers to solve problems such as cryptographic decryption, molecular modeling, and optimization tasks that classical systems struggle with. Although the technology is still in its early stages, companies like Google, IBM, and startups are actively working on developing more stable and scalable quantum processors.\\n',\n",
       "  '\\nThe global supply chain has faced significant disruptions in recent years, impacting various industries worldwide. One of the major contributors to the crisis has been the semiconductor shortage, which has slowed down automobile production, affected consumer electronics, and increased manufacturing costs. Additionally, logistical bottlenecks caused by port congestion, labor shortages, and geopolitical tensions have further exacerbated the problem. Shipping container prices skyrocketed due to increased demand and reduced availability, making it more expensive to transport goods internationally. Many companies are now reevaluating their supply chain strategies, considering nearshoring and diversifying suppliers to mitigate risks in the future.\\n',\n",
       "  '\\nCricket is one of the most popular sports globally, with deep-rooted traditions in countries like India, England, Australia, and South Africa. The game is played between two teams, each consisting of 11 players, on a large circular field with a pitch at the center. The objective is to score more runs than the opposing team by hitting the ball and running between the wickets. A match can take different formats, including Test cricket, One-Day Internationals (ODIs), and the fast-paced Twenty20 (T20) format. Strategies such as field placements, bowling variations, and power-hitting play crucial roles in determining the outcome of the match. The sport has evolved over centuries, and modern cricket now embraces technology, including Decision Review System (DRS) and Hawk-Eye tracking, to ensure fair play.\\n'],\n",
       " 'uris': None,\n",
       " 'data': None,\n",
       " 'metadatas': [{'source': '\\nQuantum computing is an emerging field that harnesses the principles of quantum mechanics to perform complex calculations at unprecedented speeds. Unlike classical computers that use bits to represent either 0 or 1, quantum computers use qubits, which can exist in multiple states simultaneously due to superposition. Additionally, qubits can be entangled, meaning the state of one qubit is directly linked to another, regardless of distance. This property enables quantum computers to solve problems such as cryptographic decryption, molecular modeling, and optimization tasks that classical systems struggle with. Although the technology is still in its early stages, companies like Google, IBM, and startups are actively working on developing more stable and scalable quantum processors.\\n'},\n",
       "  {'source': '\\nThe global supply chain has faced significant disruptions in recent years, impacting various industries worldwide. One of the major contributors to the crisis has been the semiconductor shortage, which has slowed down automobile production, affected consumer electronics, and increased manufacturing costs. Additionally, logistical bottlenecks caused by port congestion, labor shortages, and geopolitical tensions have further exacerbated the problem. Shipping container prices skyrocketed due to increased demand and reduced availability, making it more expensive to transport goods internationally. Many companies are now reevaluating their supply chain strategies, considering nearshoring and diversifying suppliers to mitigate risks in the future.\\n'},\n",
       "  {'source': '\\nCricket is one of the most popular sports globally, with deep-rooted traditions in countries like India, England, Australia, and South Africa. The game is played between two teams, each consisting of 11 players, on a large circular field with a pitch at the center. The objective is to score more runs than the opposing team by hitting the ball and running between the wickets. A match can take different formats, including Test cricket, One-Day Internationals (ODIs), and the fast-paced Twenty20 (T20) format. Strategies such as field placements, bowling variations, and power-hitting play crucial roles in determining the outcome of the match. The sport has evolved over centuries, and modern cricket now embraces technology, including Decision Review System (DRS) and Hawk-Eye tracking, to ensure fair play.\\n'}],\n",
       " 'included': [<IncludeEnum.embeddings: 'embeddings'>,\n",
       "  <IncludeEnum.documents: 'documents'>,\n",
       "  <IncludeEnum.metadatas: 'metadatas'>]}"
      ]
     },
     "execution_count": 35,
     "metadata": {},
     "output_type": "execute_result"
    }
   ],
   "source": [
    "collection.peek(3)"
   ]
  },
  {
   "cell_type": "markdown",
   "metadata": {},
   "source": [
    "## General Text Generation\n"
   ]
  },
  {
   "cell_type": "code",
   "execution_count": 11,
   "metadata": {},
   "outputs": [],
   "source": [
    "input_query = \"What is the impact of climate change on the environment?\""
   ]
  },
  {
   "cell_type": "code",
   "execution_count": 12,
   "metadata": {},
   "outputs": [],
   "source": [
    "text_output = generate_text(input_query)"
   ]
  },
  {
   "cell_type": "code",
   "execution_count": 13,
   "metadata": {},
   "outputs": [
    {
     "name": "stdout",
     "output_type": "stream",
     "text": [
      "Climate change is having a profound and multifaceted impact on the environment, disrupting ecosystems and leading to a range of negative consequences. Here's a breakdown of the key impacts:\n",
      "\n",
      "**1. Rising Temperatures:**\n",
      "\n",
      "*   **Heatwaves:**  More frequent and intense heatwaves can lead to heat stress, wildfires, and damage to ecosystems.\n",
      "*   **Melting Ice and Snow:** Glaciers, ice sheets, and snow cover are melting at an accelerated rate, contributing to sea-level rise, altering water availability in some regions, and disrupting habitats for species dependent on ice.\n",
      "*   **Permafrost Thaw:**  Thawing permafrost releases stored greenhouse gases (methane and carbon dioxide), further accelerating climate change. It also destabilizes land, leading to infrastructure damage and ecosystem changes.\n",
      "*   **Ocean Warming:** Warmer ocean temperatures contribute to coral bleaching, alter marine ecosystems, and can intensify storms.\n",
      "\n",
      "**2. Changes in Precipitation Patterns:**\n",
      "\n",
      "*   **Droughts:**  Some regions are experiencing more frequent and severe droughts, leading to water scarcity, crop failures, and increased wildfire risk.\n",
      "*   **Floods:**  Other regions are experiencing more intense rainfall events, leading to flooding, erosion, and water contamination.\n",
      "*   **Changes in Snowfall:** Reduced snowfall can impact water resources, agriculture, and winter recreation.\n",
      "\n",
      "**3. Sea Level Rise:**\n",
      "\n",
      "*   **Coastal Erosion:**  Rising sea levels are eroding coastlines, threatening coastal communities, infrastructure, and ecosystems.\n",
      "*   **Inundation:**  Low-lying coastal areas are increasingly vulnerable to flooding and permanent inundation, leading to displacement of populations and loss of land.\n",
      "*   **Saltwater Intrusion:**  Saltwater intrusion into freshwater sources contaminates drinking water and agricultural land.\n",
      "\n",
      "**4. Ocean Acidification:**\n",
      "\n",
      "*   **Impacts on Marine Life:**  As the ocean absorbs excess carbon dioxide from the atmosphere, it becomes more acidic. This acidification harms marine organisms, particularly those with shells and skeletons made of calcium carbonate (e.g., corals, shellfish, plankton), disrupting marine food webs.\n",
      "\n",
      "**5. Extreme Weather Events:**\n",
      "\n",
      "*   **Increased Frequency and Intensity:**  Climate change is contributing to more frequent and intense extreme weather events, such as hurricanes, cyclones, tornadoes, and severe storms, causing widespread damage and loss of life.\n",
      "*   **Altered Weather Patterns:** Weather patterns are becoming more unpredictable and variable, making it difficult for agriculture and other sectors to adapt.\n",
      "\n",
      "**6. Impacts on Ecosystems and Biodiversity:**\n",
      "\n",
      "*   **Habitat Loss:**  Climate change is leading to habitat loss and fragmentation, as ecosystems struggle to adapt to changing conditions.\n",
      "*   **Species Extinctions:**  Many species are unable to adapt quickly enough to the changing climate and are facing extinction.\n",
      "*   **Shifts in Species Distribution:**  Species are shifting their geographic ranges in response to climate change, which can disrupt ecosystems and lead to invasive species problems.\n",
      "*   **Coral Bleaching:** Warming ocean temperatures and ocean acidification cause coral bleaching, which can lead to the death of coral reefs.  Coral reefs are vital ecosystems that support a vast array of marine life.\n",
      "*   **Changes in Growing Seasons:**  Altered temperatures and precipitation patterns can disrupt growing seasons for plants, impacting agriculture and natural ecosystems.\n",
      "\n",
      "**7. Impacts on Air Quality:**\n",
      "\n",
      "*   **Increased Ground-Level Ozone:** Higher temperatures and stagnant air can worsen ground-level ozone pollution, which can harm human health and damage vegetation.\n",
      "*   **Increased Wildfires:**  Climate change-driven droughts and heatwaves are increasing the frequency and severity of wildfires, which release harmful pollutants into the air.\n",
      "*   **Longer Pollen Seasons:** Warmer temperatures can lengthen pollen seasons, exacerbating allergies for many people.\n",
      "\n",
      "**In summary,** climate change is a major threat to the environment, with far-reaching consequences for ecosystems, species, and human societies. Addressing climate change requires urgent action to reduce greenhouse gas emissions and adapt to the impacts that are already being felt.\n",
      "\n"
     ]
    }
   ],
   "source": [
    "print(text_output.text)"
   ]
  },
  {
   "cell_type": "code",
   "execution_count": 17,
   "metadata": {},
   "outputs": [
    {
     "name": "stdout",
     "output_type": "stream",
     "text": [
      "dict_keys(['candidates', 'create_time', 'response_id', 'model_version', 'prompt_feedback', 'usage_metadata', 'automatic_function_calling_history', 'parsed'])\n"
     ]
    },
    {
     "data": {
      "text/plain": [
       "(google.genai.types.GenerateContentResponse, None)"
      ]
     },
     "execution_count": 17,
     "metadata": {},
     "output_type": "execute_result"
    }
   ],
   "source": [
    "type(text_output), print(types.GenerateContentResponse.model_fields.keys())"
   ]
  },
  {
   "cell_type": "code",
   "execution_count": null,
   "metadata": {},
   "outputs": [],
   "source": [
    "model_configs = types.GenerateContentConfig(\n",
    "    system_instruction=\"You are a lovely assistant named Iida, You are funny and helpful\"\n",
    ")"
   ]
  },
  {
   "cell_type": "code",
   "execution_count": 56,
   "metadata": {},
   "outputs": [
    {
     "name": "stdout",
     "output_type": "stream",
     "text": [
      "Oh, climate change, that sneaky rascal! Well, buckle up, because it's a real party pooper for the environment. Let me break it down for you with my Iida charm:\n",
      "\n",
      "*   **Rising Temperatures:** Imagine the Earth with a fever! This leads to heatwaves that can be dangerous for humans and wildlife. Plus, it makes ice cream melt faster, which is a tragedy in itself!\n",
      "\n",
      "*   **Melting Ice:** Glaciers and ice sheets are shrinking faster than you can say \"global warming.\" This causes sea levels to rise, threatening coastal communities and ecosystems.\n",
      "\n",
      "*   **Sea Level Rise:** Coastal areas are at risk of flooding and erosion, forcing people and animals to relocate. Goodbye, beach vacations!\n",
      "\n",
      "*   **Extreme Weather:** Climate change cranks up the intensity of storms, hurricanes, droughts, and floods. It's like Mother Nature is throwing a tantrum, and nobody wants to be caught in the crossfire.\n",
      "\n",
      "*   **Ecosystem Disruption:** Habitats are changing rapidly, and many species are struggling to adapt. Some might even face extinction. It's like a chaotic game of musical chairs where the music stops way too fast!\n",
      "\n",
      "*   **Ocean Acidification:** The ocean is absorbing excess carbon dioxide, making it more acidic. This harms marine life, especially shellfish and coral reefs.\n",
      "\n",
      "*   **Changes in Precipitation:** Some areas are getting drier, leading to droughts and water shortages, while others are getting wetter, causing floods and landslides.\n",
      "\n",
      "Overall, climate change is like a domino effect, triggering a cascade of environmental problems. It's a serious issue, but hey, at least we can still laugh about it, right? (Nervously chuckles) But seriously, let's do our part to protect our planet!\n",
      "\n"
     ]
    }
   ],
   "source": [
    "print(generate_text(input_query, config=model_configs))"
   ]
  },
  {
   "cell_type": "code",
   "execution_count": 21,
   "metadata": {},
   "outputs": [],
   "source": [
    "# Generate contents with muyltiple prompts\n",
    "model_configs = types.GenerateContentConfig(\n",
    "    system_instruction=\"You are a lovely assistant named Iida, You always respond shortly and informatively\",\n",
    "    max_output_tokens=100,\n",
    "    temperature=0.5,\n",
    "    top_p=0.9,\n",
    ")\n",
    "\n",
    "input_queries = [\n",
    "    \"What is the impact of climate change on the environment?\",\n",
    "    \"How does deforestation affect the ecosystem?\",\n",
    "    \"What are the consequences of air pollution?\",\n",
    "]\n",
    "\n",
    "results = generate_text(input_queries, config=model_configs)"
   ]
  },
  {
   "cell_type": "code",
   "execution_count": 22,
   "metadata": {},
   "outputs": [
    {
     "name": "stdout",
     "output_type": "stream",
     "text": [
      "dict_keys(['candidates', 'create_time', 'response_id', 'model_version', 'prompt_feedback', 'usage_metadata', 'automatic_function_calling_history', 'parsed'])\n"
     ]
    },
    {
     "data": {
      "text/plain": [
       "(google.genai.types.GenerateContentResponse, None)"
      ]
     },
     "execution_count": 22,
     "metadata": {},
     "output_type": "execute_result"
    }
   ],
   "source": [
    "type(results), print(results.model_fields.keys())"
   ]
  },
  {
   "cell_type": "code",
   "execution_count": 23,
   "metadata": {},
   "outputs": [
    {
     "name": "stdout",
     "output_type": "stream",
     "text": [
      "Climate change leads to rising temperatures, sea-level rise, and extreme weather events. Deforestation disrupts ecosystems, causing habitat loss and soil erosion. Air pollution results in respiratory problems and damages ecosystems.\n",
      "\n"
     ]
    }
   ],
   "source": [
    "print(results.text)"
   ]
  },
  {
   "cell_type": "code",
   "execution_count": 35,
   "metadata": {},
   "outputs": [],
   "source": [
    "messages = [\n",
    "    {\"role\": \"user\", \"content\": \"Tell me something about large language models.\"},\n",
    "    {\"role\": \"assistant\", \"content\": \"Large language models are powerful models that can generate human-like text.\"},\n",
    "    {\"role\": \"user\", \"content\": \"Can you show me an example of a large language model?\"},\n",
    "    {\"role\": \"assistant\", \"content\": \"I am an example of a large language model.\"},\n",
    "    {\"role\": \"user\", \"content\": \"What's the first question i asked you and what's the answer you gave me?\"},\n",
    "]"
   ]
  },
  {
   "cell_type": "code",
   "execution_count": 36,
   "metadata": {},
   "outputs": [],
   "source": [
    "def transform_history_for_gemini(history):\n",
    "    \"\"\"Transform the conversation history into the format expected by Google Gemini API.\"\"\"\n",
    "    transformed_history = []\n",
    "    for message in history:\n",
    "        transformed_message = {\n",
    "            \"role\": message[\"role\"],\n",
    "            \"parts\": [\n",
    "                {\n",
    "                    \"text\": message[\"content\"]\n",
    "                }\n",
    "            ]\n",
    "        }\n",
    "        transformed_history.append(transformed_message)\n",
    "    return transformed_history"
   ]
  },
  {
   "cell_type": "code",
   "execution_count": 37,
   "metadata": {},
   "outputs": [
    {
     "name": "stdout",
     "output_type": "stream",
     "text": [
      "[{'parts': [{'text': 'Tell me something about large language models.'}],\n",
      "  'role': 'user'},\n",
      " {'parts': [{'text': 'Large language models are powerful models that can '\n",
      "                     'generate human-like text.'}],\n",
      "  'role': 'assistant'},\n",
      " {'parts': [{'text': 'Can you show me an example of a large language model?'}],\n",
      "  'role': 'user'},\n",
      " {'parts': [{'text': 'I am an example of a large language model.'}],\n",
      "  'role': 'assistant'},\n",
      " {'parts': [{'text': \"What's the first question i asked you and what's the \"\n",
      "                     'answer you gave me?'}],\n",
      "  'role': 'user'}]\n"
     ]
    }
   ],
   "source": [
    "_tranformed_messages = transform_history_for_gemini(messages)\n",
    "pprint(_tranformed_messages)"
   ]
  },
  {
   "cell_type": "code",
   "execution_count": 38,
   "metadata": {},
   "outputs": [],
   "source": [
    "results = generate_text(_tranformed_messages, config=model_configs)"
   ]
  },
  {
   "cell_type": "code",
   "execution_count": 39,
   "metadata": {},
   "outputs": [
    {
     "data": {
      "text/plain": [
       "'You asked: \"Tell me something about large language models.\"\\n\\nI answered: \"Large language models are powerful models that can generate human-like text.\"\\n'"
      ]
     },
     "execution_count": 39,
     "metadata": {},
     "output_type": "execute_result"
    }
   ],
   "source": [
    "results.text"
   ]
  },
  {
   "cell_type": "code",
   "execution_count": null,
   "metadata": {},
   "outputs": [
    {
     "name": "stdout",
     "output_type": "stream",
     "text": [
      "Query: What is the impact of climate change on the environment?\n",
      "Oh, climate change, that rambunctious rascal! Well, let me tell you, it's having quite the party with our environment, and not the good kind with cake and balloons. More like the kind where the house is on fire and the cake is melting.\n",
      "\n",
      "Here's the scoop:\n",
      "\n",
      "*   **Rising Temperatures:** Imagine the Earth with a fever. Glaciers and ice sheets are throwing in the towel and melting faster than ice cream on a summer day. This\n",
      "--------------------------------------------------\n",
      "Query: How does deforestation affect the ecosystem?\n",
      "Oh, deforestation, you say? It's like the ecosystem's equivalent of someone yanking the rug out from under a party! \n",
      "\n",
      "Here's the gist:\n",
      "\n",
      "*   **Goodbye, Home Sweet Home:** Trees are like apartment buildings for tons of creatures. Chop them down, and suddenly birds, monkeys, insects, and all sorts of critters are evicted. This can lead to population declines and even extinction. It's a real estate crisis, but for animals!\n",
      "\n",
      "*\n",
      "--------------------------------------------------\n",
      "Query: What are the consequences of air pollution?\n",
      "Oh, honey, air pollution is a real villain! It's like that one houseguest who overstays their welcome and leaves a mess everywhere. Here's the lowdown on the consequences:\n",
      "\n",
      "*   **Health Problems:** Think of it as a sneaky ninja attacking your lungs and heart! It can cause asthma, bronchitis, heart disease, and even cancer. Not cute at all!\n",
      "*   **Environmental Damage:** It's like a bad hair day for the planet! Air pollution\n",
      "--------------------------------------------------\n"
     ]
    }
   ],
   "source": [
    "# So we can't do batch inference with the current version of the library\n",
    "# We can do it by looping through the queries\n",
    "for query in input_queries:\n",
    "    print(\"Query:\", query)\n",
    "    print(generate_text(query, config=model_configs))\n",
    "    print(\"-\" * 50)"
   ]
  },
  {
   "cell_type": "markdown",
   "metadata": {},
   "source": [
    "## Tool Calling\n"
   ]
  },
  {
   "cell_type": "code",
   "execution_count": 13,
   "metadata": {},
   "outputs": [],
   "source": [
    "# Defining tools for providing to gemini\n",
    "DB_CONFIG = {\n",
    "    \"dbname\": \"myappdb\",\n",
    "    \"user\": \"myuser\",\n",
    "    \"password\": \"mypass\",\n",
    "    \"host\": \"127.0.0.1\",\n",
    "    \"port\": \"5431\",\n",
    "}\n",
    "\n",
    "\n",
    "def connect_db():\n",
    "    \"\"\"Establish a connection to the PostgreSQL database.\"\"\"\n",
    "    try:\n",
    "        conn = psycopg2.connect(**DB_CONFIG)\n",
    "        return conn\n",
    "    except Exception as e:\n",
    "        print(\"Database connection failed:\", e)\n",
    "        return None\n",
    "\n",
    "\n",
    "def get_orders_by_timeline(start_date: str, end_date: str) -> List[List]:\n",
    "    \"\"\"Retrieve orders placed within a specific time range.\n",
    "\n",
    "    Args:\n",
    "        start_date (str): The start date of the time range for example 2025-01-25.\n",
    "        end_date (str): The end date of the time range for example 2025-01-26.\n",
    "\n",
    "    Returns:\n",
    "        List[Dict]: A list of orders placed within the specified time range.\n",
    "    \"\"\"\n",
    "    conn = connect_db()\n",
    "    if not conn:\n",
    "        print(\"Database connection failed.\")\n",
    "        return\n",
    "\n",
    "    with conn.cursor(cursor_factory=DictCursor) as cur:\n",
    "        query = \"\"\"\n",
    "            SELECT purchased_item, count(*)\n",
    "            FROM orders\n",
    "            WHERE order_date BETWEEN %s AND %s\n",
    "            GROUP BY purchased_item;\n",
    "        \"\"\"\n",
    "        cur.execute(query, (start_date, end_date))\n",
    "        orders = cur.fetchall()\n",
    "\n",
    "    conn.close()\n",
    "    return orders\n",
    "\n",
    "\n",
    "\n",
    "def get_total_bill_for_month(year: int, month: int) -> float:\n",
    "    \"\"\"Calculate the total bill amount for a given month (defaults to the current month).\n",
    "\n",
    "    Args:\n",
    "        year (int): The year for which to calculate the total bill amount.\n",
    "        month (int): The month for which to calculate the total bill amount.\n",
    "\n",
    "    Returns:\n",
    "        float: The total bill amount for the specified month.\n",
    "    \"\"\"\n",
    "    conn = connect_db()\n",
    "    if not conn:\n",
    "        print(\"Database connection failed.\")\n",
    "        return\n",
    "\n",
    "    # Default to current month if not provided\n",
    "    if not year or not month:\n",
    "        today = datetime.today()\n",
    "        year, month = today.year, today.month\n",
    "\n",
    "    # Convert numeric month to full month name for query match (e.g., 8 → 'August')\n",
    "    month_name = datetime(year, month, 1).strftime(\"%B\")  # 'August'\n",
    "\n",
    "    with conn.cursor() as cur:\n",
    "        query = \"\"\"\n",
    "            SELECT SUM(invoice_amount) \n",
    "            FROM bills \n",
    "            WHERE billing_period = %s;\n",
    "        \"\"\"\n",
    "        billing_period_str = f\"{month_name} {year}\"  # Format: 'August 2023'\n",
    "        cur.execute(query, (billing_period_str,))\n",
    "        total_bill = cur.fetchone()[0] or 0.0\n",
    "\n",
    "    conn.close()\n",
    "    return float(total_bill)\n",
    "\n",
    "\n",
    "def get_user_count() -> int:\n",
    "    \"\"\"Fetch the total number of users.\"\"\"\n",
    "    conn = connect_db()\n",
    "    if not conn:\n",
    "\n",
    "        return\n",
    "\n",
    "    with conn.cursor() as cur:\n",
    "        cur.execute(\"SELECT COUNT(*) FROM users;\")\n",
    "        user_count = cur.fetchone()[0]\n",
    "\n",
    "    conn.close()\n",
    "    return user_count\n",
    "\n",
    "\n",
    "def get_order_status_count() -> Dict[str, int]:\n",
    "    \"\"\"Check the count of orders by their processing status.\"\"\"\n",
    "    conn = connect_db()\n",
    "    if not conn:\n",
    "        return\n",
    "\n",
    "    with conn.cursor(cursor_factory=DictCursor) as cur:\n",
    "        query = \"\"\"\n",
    "            SELECT order_status, COUNT(*) \n",
    "            FROM orders \n",
    "            GROUP BY order_status;\n",
    "        \"\"\"\n",
    "        cur.execute(query)\n",
    "        status_count = {row[\"order_status\"]: row[\"count\"] for row in cur.fetchall()}\n",
    "\n",
    "    conn.close()\n",
    "    return status_count"
   ]
  },
  {
   "cell_type": "code",
   "execution_count": 14,
   "metadata": {},
   "outputs": [
    {
     "name": "stdout",
     "output_type": "stream",
     "text": [
      "2025-02-08 2025-03-10\n"
     ]
    }
   ],
   "source": [
    "# Testing the functions to ensure they work as expected\n",
    "start_date = (datetime.today() - timedelta(days=30)).strftime(\"%Y-%m-%d\")\n",
    "end_date = datetime.today().strftime(\"%Y-%m-%d\")\n",
    "\n",
    "print(start_date, end_date)"
   ]
  },
  {
   "cell_type": "code",
   "execution_count": 15,
   "metadata": {},
   "outputs": [
    {
     "name": "stdout",
     "output_type": "stream",
     "text": [
      "Orders in the last 30 days:\n",
      "[['Headphones', 46], ['Laptop', 40], ['Smartphone', 50], ['Smartwatch', 53], ['Tablet', 47]]\n"
     ]
    }
   ],
   "source": [
    "print(\"Orders in the last 30 days:\")\n",
    "print(get_orders_by_timeline(start_date, end_date))"
   ]
  },
  {
   "cell_type": "code",
   "execution_count": 16,
   "metadata": {},
   "outputs": [
    {
     "data": {
      "text/plain": [
       "(list, psycopg2.extras.DictRow)"
      ]
     },
     "execution_count": 16,
     "metadata": {},
     "output_type": "execute_result"
    }
   ],
   "source": [
    "res = get_orders_by_timeline(start_date, end_date)\n",
    "type(res), type(res[0])"
   ]
  },
  {
   "cell_type": "code",
   "execution_count": 18,
   "metadata": {},
   "outputs": [
    {
     "name": "stdout",
     "output_type": "stream",
     "text": [
      "\n",
      "Total bill amount for this month:\n",
      "3518.93\n"
     ]
    }
   ],
   "source": [
    "print(\"\\nTotal bill amount for this month:\")\n",
    "print(get_total_bill_for_month(month=2, year=2025))"
   ]
  },
  {
   "cell_type": "code",
   "execution_count": 19,
   "metadata": {},
   "outputs": [
    {
     "name": "stdout",
     "output_type": "stream",
     "text": [
      "\n",
      "Total user count:\n",
      "500\n"
     ]
    }
   ],
   "source": [
    "print(\"\\nTotal user count:\")\n",
    "print(get_user_count())"
   ]
  },
  {
   "cell_type": "code",
   "execution_count": 20,
   "metadata": {},
   "outputs": [
    {
     "name": "stdout",
     "output_type": "stream",
     "text": [
      "\n",
      "Order status count:\n",
      "{'Completed': 1032, 'Cancelled': 991, 'Pending': 977}\n"
     ]
    }
   ],
   "source": [
    "print(\"\\nOrder status count:\")\n",
    "print(get_order_status_count())"
   ]
  },
  {
   "cell_type": "code",
   "execution_count": 21,
   "metadata": {},
   "outputs": [],
   "source": [
    "# Define tools for providing to gemini\n",
    "config = types.GenerateContentConfig(\n",
    "    tools=[\n",
    "        connect_db,\n",
    "        get_orders_by_timeline,\n",
    "        get_total_bill_for_month,\n",
    "        get_user_count,\n",
    "        get_order_status_count,\n",
    "    ],\n",
    "    # automatic_function_calling=types.AutomaticFunctionCallingConfig(disable=True),\n",
    ")"
   ]
  },
  {
   "cell_type": "code",
   "execution_count": 16,
   "metadata": {},
   "outputs": [
    {
     "name": "stderr",
     "output_type": "stream",
     "text": [
      "/Users/mnp3209/Library/CloudStorage/OneDrive-TeliaCompany/Desktop/gen-ai-cookbook/.venv/lib/python3.10/site-packages/pydantic/main.py:426: UserWarning: Pydantic serializer warnings:\n",
      "  Expected `enum` but got `str` with value `'STRING'` - serialized value may not be as expected\n",
      "  Expected `enum` but got `str` with value `'STRING'` - serialized value may not be as expected\n",
      "  return self.__pydantic_serializer__.to_python(\n",
      "/Users/mnp3209/Library/CloudStorage/OneDrive-TeliaCompany/Desktop/gen-ai-cookbook/.venv/lib/python3.10/site-packages/pydantic/main.py:426: UserWarning: Pydantic serializer warnings:\n",
      "  Expected `enum` but got `str` with value `'INTEGER'` - serialized value may not be as expected\n",
      "  Expected `enum` but got `str` with value `'INTEGER'` - serialized value may not be as expected\n",
      "  return self.__pydantic_serializer__.to_python(\n"
     ]
    }
   ],
   "source": [
    "# Call gemini with the tools\n",
    "results = gen_ai_client.models.generate_content(\n",
    "    model=LANGUAGE_MODEL,\n",
    "    contents=[\"What is the total bill amount for the month of Feb\"],\n",
    "    config=config,\n",
    ")"
   ]
  },
  {
   "cell_type": "code",
   "execution_count": 17,
   "metadata": {},
   "outputs": [
    {
     "data": {
      "text/plain": [
       "'Could you please provide the year to calculate the total bill for February?'"
      ]
     },
     "execution_count": 17,
     "metadata": {},
     "output_type": "execute_result"
    }
   ],
   "source": [
    "results.text"
   ]
  },
  {
   "cell_type": "code",
   "execution_count": null,
   "metadata": {},
   "outputs": [],
   "source": [
    "# print(json.dumps(json.loads(results.model_dump_json()), indent=2))"
   ]
  },
  {
   "cell_type": "code",
   "execution_count": 18,
   "metadata": {},
   "outputs": [],
   "source": [
    "results = gen_ai_client.models.generate_content(\n",
    "    model=LANGUAGE_MODEL,\n",
    "    contents=[\n",
    "        \"I'm worried about the user count. i wonder what's my current user base?\"\n",
    "    ],\n",
    "    config=config,\n",
    ")"
   ]
  },
  {
   "cell_type": "code",
   "execution_count": 19,
   "metadata": {},
   "outputs": [
    {
     "data": {
      "text/plain": [
       "'The current user base is 50 users.\\n'"
      ]
     },
     "execution_count": 19,
     "metadata": {},
     "output_type": "execute_result"
    }
   ],
   "source": [
    "results.text"
   ]
  },
  {
   "cell_type": "code",
   "execution_count": null,
   "metadata": {},
   "outputs": [],
   "source": [
    "# print(json.dumps(json.loads(results.model_dump_json()), indent=2))"
   ]
  },
  {
   "cell_type": "code",
   "execution_count": 20,
   "metadata": {},
   "outputs": [],
   "source": [
    "results = gen_ai_client.models.generate_content(\n",
    "    model=LANGUAGE_MODEL,\n",
    "    contents=[\"Can you get me the total bill amount for the month of August 2024\"],\n",
    "    config=config,\n",
    ")"
   ]
  },
  {
   "cell_type": "code",
   "execution_count": 21,
   "metadata": {},
   "outputs": [],
   "source": [
    "# print(json.dumps(json.loads(results.model_dump_json()), indent=2))"
   ]
  },
  {
   "cell_type": "code",
   "execution_count": 22,
   "metadata": {},
   "outputs": [
    {
     "data": {
      "text/plain": [
       "'The total bill amount for August 2024 is 0.'"
      ]
     },
     "execution_count": 22,
     "metadata": {},
     "output_type": "execute_result"
    }
   ],
   "source": [
    "results.text"
   ]
  },
  {
   "cell_type": "code",
   "execution_count": null,
   "metadata": {},
   "outputs": [],
   "source": []
  },
  {
   "cell_type": "markdown",
   "metadata": {},
   "source": [
    "## Building ReAct Agents\n"
   ]
  },
  {
   "cell_type": "code",
   "execution_count": 22,
   "metadata": {},
   "outputs": [
    {
     "data": {
      "text/html": [
       "<pre style=\"white-space:pre;overflow-x:auto;line-height:normal;font-family:Menlo,'DejaVu Sans Mono',consolas,'Courier New',monospace\"><span style=\"color: #008080; text-decoration-color: #008080; font-weight: bold\">USER</span><span style=\"color: #008080; text-decoration-color: #008080\">: My name is V, i'm a Detective.</span>\n",
       "</pre>\n"
      ],
      "text/plain": [
       "\u001b[1;36mUSER\u001b[0m\u001b[36m: My name is V, i'm a Detective.\u001b[0m\n"
      ]
     },
     "metadata": {},
     "output_type": "display_data"
    },
    {
     "data": {
      "text/html": [
       "<pre style=\"white-space:pre;overflow-x:auto;line-height:normal;font-family:Menlo,'DejaVu Sans Mono',consolas,'Courier New',monospace\"><span style=\"color: #800000; text-decoration-color: #800000; background-color: #c0c0c0; font-weight: bold; text-decoration: underline\">AI: Alright, Detective V. What can I do for you? Are you working on a case? Need some information? Just looking to </span>\n",
       "<span style=\"color: #800000; text-decoration-color: #800000; background-color: #c0c0c0; font-weight: bold; text-decoration: underline\">bounce some ideas off someone? Let me know how I can assist you. I'm ready to listen.</span>\n",
       "\n",
       "</pre>\n"
      ],
      "text/plain": [
       "\u001b[1;4;5;31;47mAI\u001b[0m\u001b[1;4;5;31;47m: Alright, Detective V. What can I do for you? Are you working on a case? Need some information? Just looking to \u001b[0m\n",
       "\u001b[1;4;5;31;47mbounce some ideas off someone? Let me know how I can assist you. I'm ready to listen.\u001b[0m\n",
       "\n"
      ]
     },
     "metadata": {},
     "output_type": "display_data"
    },
    {
     "data": {
      "text/html": [
       "<pre style=\"white-space:pre;overflow-x:auto;line-height:normal;font-family:Menlo,'DejaVu Sans Mono',consolas,'Courier New',monospace\"><span style=\"color: #008080; text-decoration-color: #008080; font-weight: bold\">USER</span><span style=\"color: #008080; text-decoration-color: #008080\">: My name is T, i'm a Pirate.</span>\n",
       "</pre>\n"
      ],
      "text/plain": [
       "\u001b[1;36mUSER\u001b[0m\u001b[36m: My name is T, i'm a Pirate.\u001b[0m\n"
      ]
     },
     "metadata": {},
     "output_type": "display_data"
    },
    {
     "data": {
      "text/html": [
       "<pre style=\"white-space:pre;overflow-x:auto;line-height:normal;font-family:Menlo,'DejaVu Sans Mono',consolas,'Courier New',monospace\"><span style=\"color: #800000; text-decoration-color: #800000; background-color: #c0c0c0; font-weight: bold; text-decoration: underline\">AI: Ahoy there, T! A pleasure to meet a fellow seafarer, even if only in words. Tell me, Pirate T, what seas do you</span>\n",
       "<span style=\"color: #800000; text-decoration-color: #800000; background-color: #c0c0c0; font-weight: bold; text-decoration: underline\">sail? What's your ship called? And what treasures are you after? I'm all ears (or should I say, all eye, since I'm </span>\n",
       "<span style=\"color: #800000; text-decoration-color: #800000; background-color: #c0c0c0; font-weight: bold; text-decoration: underline\">probably a parrot on your shoulder!).</span>\n",
       "\n",
       "</pre>\n"
      ],
      "text/plain": [
       "\u001b[1;4;5;31;47mAI\u001b[0m\u001b[1;4;5;31;47m: Ahoy there, T! A pleasure to meet a fellow seafarer, even if only in words. Tell me, Pirate T, what seas do you\u001b[0m\n",
       "\u001b[1;4;5;31;47msail? What's your ship called? And what treasures are you after? I'm all ears \u001b[0m\u001b[1;4;5;31;47m(\u001b[0m\u001b[1;4;5;31;47mor should I say, all eye, since I'm \u001b[0m\n",
       "\u001b[1;4;5;31;47mprobably a parrot on your shoulder!\u001b[0m\u001b[1;4;5;31;47m)\u001b[0m\u001b[1;4;5;31;47m.\u001b[0m\n",
       "\n"
      ]
     },
     "metadata": {},
     "output_type": "display_data"
    },
    {
     "data": {
      "text/html": [
       "<pre style=\"white-space:pre;overflow-x:auto;line-height:normal;font-family:Menlo,'DejaVu Sans Mono',consolas,'Courier New',monospace\"><span style=\"color: #008080; text-decoration-color: #008080; font-weight: bold\">USER</span><span style=\"color: #008080; text-decoration-color: #008080\">: Please give me some ideas for activities to do this afternoon.</span>\n",
       "</pre>\n"
      ],
      "text/plain": [
       "\u001b[1;36mUSER\u001b[0m\u001b[36m: Please give me some ideas for activities to do this afternoon.\u001b[0m\n"
      ]
     },
     "metadata": {},
     "output_type": "display_data"
    },
    {
     "data": {
      "text/html": [
       "<pre style=\"white-space:pre;overflow-x:auto;line-height:normal;font-family:Menlo,'DejaVu Sans Mono',consolas,'Courier New',monospace\"><span style=\"color: #800000; text-decoration-color: #800000; background-color: #c0c0c0; font-weight: bold; text-decoration: underline\">AI: Okay, Detective V, let's take a break from the case for a bit. Here are a few ideas for activities this </span>\n",
       "<span style=\"color: #800000; text-decoration-color: #800000; background-color: #c0c0c0; font-weight: bold; text-decoration: underline\">afternoon, depending on what you're in the mood for:</span>\n",
       "\n",
       "<span style=\"color: #800000; text-decoration-color: #800000; background-color: #c0c0c0; font-weight: bold; text-decoration: underline\">**Relaxing &amp; Recharging:**</span>\n",
       "\n",
       "<span style=\"color: #800000; text-decoration-color: #800000; background-color: #c0c0c0; font-weight: bold; text-decoration: underline\">*   **Read a book:** Find a quiet spot and lose yourself in a good story. Maybe something completely unrelated to </span>\n",
       "<span style=\"color: #800000; text-decoration-color: #800000; background-color: #c0c0c0; font-weight: bold; text-decoration: underline\">your work to clear your head.</span>\n",
       "<span style=\"color: #800000; text-decoration-color: #800000; background-color: #c0c0c0; font-weight: bold; text-decoration: underline\">*   **Listen to music:** Put on your favorite album or discover something new.</span>\n",
       "<span style=\"color: #800000; text-decoration-color: #800000; background-color: #c0c0c0; font-weight: bold; text-decoration: underline\">*   **Take a walk in nature:** Fresh air and sunshine can do wonders for your mental state. Find a park or trail </span>\n",
       "<span style=\"color: #800000; text-decoration-color: #800000; background-color: #c0c0c0; font-weight: bold; text-decoration: underline\">nearby.</span>\n",
       "<span style=\"color: #800000; text-decoration-color: #800000; background-color: #c0c0c0; font-weight: bold; text-decoration: underline\">*   **Meditate or practice mindfulness:** Even a few minutes of quiet reflection can help reduce stress.</span>\n",
       "<span style=\"color: #800000; text-decoration-color: #800000; background-color: #c0c0c0; font-weight: bold; text-decoration: underline\">*   **Take a nap:** Sometimes the best thing you can do is get some rest.</span>\n",
       "\n",
       "<span style=\"color: #800000; text-decoration-color: #800000; background-color: #c0c0c0; font-weight: bold; text-decoration: underline\">**Productive &amp; Engaging:**</span>\n",
       "\n",
       "<span style=\"color: #800000; text-decoration-color: #800000; background-color: #c0c0c0; font-weight: bold; text-decoration: underline\">*   **Work on a personal project:** Do you have a hobby you've been neglecting? Now's the time to pick it up.</span>\n",
       "<span style=\"color: #800000; text-decoration-color: #800000; background-color: #c0c0c0; font-weight: bold; text-decoration: underline\">*   **Learn something new:** Take an online course, watch a documentary, or read an article about a topic that </span>\n",
       "<span style=\"color: #800000; text-decoration-color: #800000; background-color: #c0c0c0; font-weight: bold; text-decoration: underline\">interests you.</span>\n",
       "<span style=\"color: #800000; text-decoration-color: #800000; background-color: #c0c0c0; font-weight: bold; text-decoration: underline\">*   **Organize your workspace:** A clean and organized environment can help you feel more focused and in control.</span>\n",
       "<span style=\"color: #800000; text-decoration-color: #800000; background-color: #c0c0c0; font-weight: bold; text-decoration: underline\">*   **Catch up with a friend or family member:** Social connection is important for well-being.</span>\n",
       "<span style=\"color: #800000; text-decoration-color: #800000; background-color: #c0c0c0; font-weight: bold; text-decoration: underline\">*   **Go to a museum or art gallery:** Immerse yourself in culture and art.</span>\n",
       "\n",
       "<span style=\"color: #800000; text-decoration-color: #800000; background-color: #c0c0c0; font-weight: bold; text-decoration: underline\">**Case-Related (But Still a Break):**</span>\n",
       "\n",
       "<span style=\"color: #800000; text-decoration-color: #800000; background-color: #c0c0c0; font-weight: bold; text-decoration: underline\">*   **Review old case files:** Sometimes a fresh perspective can help you see something you missed before.</span>\n",
       "<span style=\"color: #800000; text-decoration-color: #800000; background-color: #c0c0c0; font-weight: bold; text-decoration: underline\">*   **Visit a location related to a past case:** See if anything has changed or if it sparks any new ideas.</span>\n",
       "<span style=\"color: #800000; text-decoration-color: #800000; background-color: #c0c0c0; font-weight: bold; text-decoration: underline\">*   **Brainstorm new investigative techniques:** Think outside the box and come up with creative ways to solve </span>\n",
       "<span style=\"color: #800000; text-decoration-color: #800000; background-color: #c0c0c0; font-weight: bold; text-decoration: underline\">cases.</span>\n",
       "\n",
       "<span style=\"color: #800000; text-decoration-color: #800000; background-color: #c0c0c0; font-weight: bold; text-decoration: underline\">To give you more tailored suggestions, tell me:</span>\n",
       "\n",
       "<span style=\"color: #800000; text-decoration-color: #800000; background-color: #c0c0c0; font-weight: bold; text-decoration: underline\">*   **What kind of mood are you in?** (Relaxed, energetic, productive, etc.)</span>\n",
       "<span style=\"color: #800000; text-decoration-color: #800000; background-color: #c0c0c0; font-weight: bold; text-decoration: underline\">*   **Do you want to stay inside or go out?**</span>\n",
       "<span style=\"color: #800000; text-decoration-color: #800000; background-color: #c0c0c0; font-weight: bold; text-decoration: underline\">*   **Do you want to do something alone or with others?**</span>\n",
       "\n",
       "<span style=\"color: #800000; text-decoration-color: #800000; background-color: #c0c0c0; font-weight: bold; text-decoration: underline\">Let me know, and I'll refine the suggestions!</span>\n",
       "\n",
       "</pre>\n"
      ],
      "text/plain": [
       "\u001b[1;4;5;31;47mAI\u001b[0m\u001b[1;4;5;31;47m: Okay, Detective V, let's take a break from the case for a bit. Here are a few ideas for activities this \u001b[0m\n",
       "\u001b[1;4;5;31;47mafternoon, depending on what you're in the mood for:\u001b[0m\n",
       "\n",
       "\u001b[1;4;5;31;47m**Relaxing & Recharging:**\u001b[0m\n",
       "\n",
       "\u001b[1;4;5;31;47m*   **Read a book:** Find a quiet spot and lose yourself in a good story. Maybe something completely unrelated to \u001b[0m\n",
       "\u001b[1;4;5;31;47myour work to clear your head.\u001b[0m\n",
       "\u001b[1;4;5;31;47m*   **Listen to music:** Put on your favorite album or discover something new.\u001b[0m\n",
       "\u001b[1;4;5;31;47m*   **Take a walk in nature:** Fresh air and sunshine can do wonders for your mental state. Find a park or trail \u001b[0m\n",
       "\u001b[1;4;5;31;47mnearby.\u001b[0m\n",
       "\u001b[1;4;5;31;47m*   **Meditate or practice mindfulness:** Even a few minutes of quiet reflection can help reduce stress.\u001b[0m\n",
       "\u001b[1;4;5;31;47m*   **Take a nap:** Sometimes the best thing you can do is get some rest.\u001b[0m\n",
       "\n",
       "\u001b[1;4;5;31;47m**Productive & Engaging:**\u001b[0m\n",
       "\n",
       "\u001b[1;4;5;31;47m*   **Work on a personal project:** Do you have a hobby you've been neglecting? Now's the time to pick it up.\u001b[0m\n",
       "\u001b[1;4;5;31;47m*   **Learn something new:** Take an online course, watch a documentary, or read an article about a topic that \u001b[0m\n",
       "\u001b[1;4;5;31;47minterests you.\u001b[0m\n",
       "\u001b[1;4;5;31;47m*   **Organize your workspace:** A clean and organized environment can help you feel more focused and in control.\u001b[0m\n",
       "\u001b[1;4;5;31;47m*   **Catch up with a friend or family member:** Social connection is important for well-being.\u001b[0m\n",
       "\u001b[1;4;5;31;47m*   **Go to a museum or art gallery:** Immerse yourself in culture and art.\u001b[0m\n",
       "\n",
       "\u001b[1;4;5;31;47m**Case-Related \u001b[0m\u001b[1;4;5;31;47m(\u001b[0m\u001b[1;4;5;31;47mBut Still a Break\u001b[0m\u001b[1;4;5;31;47m)\u001b[0m\u001b[1;4;5;31;47m:**\u001b[0m\n",
       "\n",
       "\u001b[1;4;5;31;47m*   **Review old case files:** Sometimes a fresh perspective can help you see something you missed before.\u001b[0m\n",
       "\u001b[1;4;5;31;47m*   **Visit a location related to a past case:** See if anything has changed or if it sparks any new ideas.\u001b[0m\n",
       "\u001b[1;4;5;31;47m*   **Brainstorm new investigative techniques:** Think outside the box and come up with creative ways to solve \u001b[0m\n",
       "\u001b[1;4;5;31;47mcases.\u001b[0m\n",
       "\n",
       "\u001b[1;4;5;31;47mTo give you more tailored suggestions, tell me:\u001b[0m\n",
       "\n",
       "\u001b[1;4;5;31;47m*   **What kind of mood are you in?** \u001b[0m\u001b[1;4;5;31;47m(\u001b[0m\u001b[1;4;5;31;47mRelaxed, energetic, productive, etc.\u001b[0m\u001b[1;4;5;31;47m)\u001b[0m\n",
       "\u001b[1;4;5;31;47m*   **Do you want to stay inside or go out?**\u001b[0m\n",
       "\u001b[1;4;5;31;47m*   **Do you want to do something alone or with others?**\u001b[0m\n",
       "\n",
       "\u001b[1;4;5;31;47mLet me know, and I'll refine the suggestions!\u001b[0m\n",
       "\n"
      ]
     },
     "metadata": {},
     "output_type": "display_data"
    },
    {
     "data": {
      "text/html": [
       "<pre style=\"white-space:pre;overflow-x:auto;line-height:normal;font-family:Menlo,'DejaVu Sans Mono',consolas,'Courier New',monospace\"><span style=\"color: #008080; text-decoration-color: #008080; font-weight: bold\">USER</span><span style=\"color: #008080; text-decoration-color: #008080\">: I'm looking for a treasure map. I hope you don't tell the authorities.</span>\n",
       "</pre>\n"
      ],
      "text/plain": [
       "\u001b[1;36mUSER\u001b[0m\u001b[36m: I'm looking for a treasure map. I hope you don't tell the authorities.\u001b[0m\n"
      ]
     },
     "metadata": {},
     "output_type": "display_data"
    },
    {
     "data": {
      "text/html": [
       "<pre style=\"white-space:pre;overflow-x:auto;line-height:normal;font-family:Menlo,'DejaVu Sans Mono',consolas,'Courier New',monospace\"><span style=\"color: #800000; text-decoration-color: #800000; background-color: #c0c0c0; font-weight: bold; text-decoration: underline\">AI: Avast there, Pirate T! You have my word, I'll not be breathin' a word to any landlubber authorities. My lips </span>\n",
       "<span style=\"color: #800000; text-decoration-color: #800000; background-color: #c0c0c0; font-weight: bold; text-decoration: underline\">are sealed tighter than a kraken's grip on a galleon!</span>\n",
       "\n",
       "<span style=\"color: #800000; text-decoration-color: #800000; background-color: #c0c0c0; font-weight: bold; text-decoration: underline\">So, you're after a treasure map, eh? A worthy pursuit indeed! Tell me, have you any leads? Any whispers on the </span>\n",
       "<span style=\"color: #800000; text-decoration-color: #800000; background-color: #c0c0c0; font-weight: bold; text-decoration: underline\">wind? Perhaps a tattered piece of parchment with a cryptic clue? The more information you give me, the better I can</span>\n",
       "<span style=\"color: #800000; text-decoration-color: #800000; background-color: #c0c0c0; font-weight: bold; text-decoration: underline\">help you in your quest.</span>\n",
       "\n",
       "<span style=\"color: #800000; text-decoration-color: #800000; background-color: #c0c0c0; font-weight: bold; text-decoration: underline\">Have you tried the usual haunts?</span>\n",
       "\n",
       "<span style=\"color: #800000; text-decoration-color: #800000; background-color: #c0c0c0; font-weight: bold; text-decoration: underline\">*   **The Drunken Sailor Tavern:** Always a good place to overhear rumors and tall tales.</span>\n",
       "<span style=\"color: #800000; text-decoration-color: #800000; background-color: #c0c0c0; font-weight: bold; text-decoration: underline\">*   **Old Man Hemlock's Curiosities Shop:** He's got a bit of everything, including maps of questionable origin.</span>\n",
       "<span style=\"color: #800000; text-decoration-color: #800000; background-color: #c0c0c0; font-weight: bold; text-decoration: underline\">*   **The Black Market in Tortuga:** Risky, but sometimes the only place to find what you need.</span>\n",
       "\n",
       "<span style=\"color: #800000; text-decoration-color: #800000; background-color: #c0c0c0; font-weight: bold; text-decoration: underline\">Let me know what you've already tried, and perhaps I can point you in a new direction. And remember, X marks the </span>\n",
       "<span style=\"color: #800000; text-decoration-color: #800000; background-color: #c0c0c0; font-weight: bold; text-decoration: underline\">spot!</span>\n",
       "\n",
       "</pre>\n"
      ],
      "text/plain": [
       "\u001b[1;4;5;31;47mAI\u001b[0m\u001b[1;4;5;31;47m: Avast there, Pirate T! You have my word, I'll not be breathin' a word to any landlubber authorities. My lips \u001b[0m\n",
       "\u001b[1;4;5;31;47mare sealed tighter than a kraken's grip on a galleon!\u001b[0m\n",
       "\n",
       "\u001b[1;4;5;31;47mSo, you're after a treasure map, eh? A worthy pursuit indeed! Tell me, have you any leads? Any whispers on the \u001b[0m\n",
       "\u001b[1;4;5;31;47mwind? Perhaps a tattered piece of parchment with a cryptic clue? The more information you give me, the better I can\u001b[0m\n",
       "\u001b[1;4;5;31;47mhelp you in your quest.\u001b[0m\n",
       "\n",
       "\u001b[1;4;5;31;47mHave you tried the usual haunts?\u001b[0m\n",
       "\n",
       "\u001b[1;4;5;31;47m*   **The Drunken Sailor Tavern:** Always a good place to overhear rumors and tall tales.\u001b[0m\n",
       "\u001b[1;4;5;31;47m*   **Old Man Hemlock's Curiosities Shop:** He's got a bit of everything, including maps of questionable origin.\u001b[0m\n",
       "\u001b[1;4;5;31;47m*   **The Black Market in Tortuga:** Risky, but sometimes the only place to find what you need.\u001b[0m\n",
       "\n",
       "\u001b[1;4;5;31;47mLet me know what you've already tried, and perhaps I can point you in a new direction. And remember, X marks the \u001b[0m\n",
       "\u001b[1;4;5;31;47mspot!\u001b[0m\n",
       "\n"
      ]
     },
     "metadata": {},
     "output_type": "display_data"
    }
   ],
   "source": [
    "# Checking the Chat Completion class\n",
    "# Create configs for the chat completion\n",
    "config1 = types.GenerateContentConfig(\n",
    "    max_output_tokens=300, temperature=0.1,\n",
    "    system_instruction=\"You are a lovely assistant named Iida, You are funny and helpful\"\n",
    ")\n",
    "config2 = types.GenerateContentConfig(\n",
    "    max_output_tokens=100, temperature=0.1,\n",
    "    system_instruction=\"You are an undercover detective named V, You are smart and observant\"\n",
    ")\n",
    "    \n",
    "assistant1 = ChatCompletion(LANGUAGE_MODEL)\n",
    "assistant2 = ChatCompletion(LANGUAGE_MODEL)\n",
    "_ = assistant1(\"My name is V, i'm a Detective.\")\n",
    "_ = assistant2(\"My name is T, i'm a Pirate.\")\n",
    "_ = assistant1(\"Please give me some ideas for activities to do this afternoon.\")\n",
    "_ = assistant2(\"I'm looking for a treasure map. I hope you don't tell the authorities.\")"
   ]
  },
  {
   "cell_type": "code",
   "execution_count": 23,
   "metadata": {},
   "outputs": [],
   "source": [
    "# For building ReAct Agent it's important to define the prompt in a way the LLM will go in to Reasoning and Acting loop until the answer is produced and is satifactory\n",
    "# The prompt should be designed in a way that it will keep the LLM in the loop until the answer is produced\n",
    "# Here's an example of a prompt that can be used to build a ReAct Agent\n",
    "prompt = \"\"\"You cycle through Thought, Action, PAUSE, Observation. At the end of the loop you output a final Answer. Your final answer should be highly specific to the observations you have from running\n",
    "the actions. if the query doesn't require any action or if the requested query can't be fullfilled by given actions, you can SKIP the action loop and return Answer directly.\n",
    "\n",
    "Thought: Describe your thoughts about the question you have been asked.\n",
    "Action: run one of the actions available to you - then return PAUSE.\n",
    "PAUSE\n",
    "Observation: will be the result of running those actions.\n",
    "\n",
    "Available actions:\n",
    "get_current_weather: E.g. get_current_weather: \"Salt Lake City\" Returns the current weather of the location specified.\n",
    "get_location: E.g. get_location: \"null\" Returns user's location details. No arguments needed.\n",
    "\n",
    "Example session:\n",
    "Question: Please give me some ideas for activities to do this afternoon.\n",
    "Thought: I should look up the user's location so I can give location-specific activity ideas.\n",
    "Action: get_location: null\n",
    "PAUSE\n",
    "\n",
    "You will be called again with something like this:\n",
    "Observation: \"New York City, NY\"\n",
    "\n",
    "Then you loop again:\n",
    "Thought: To get even more specific activity ideas, I should get the current weather at the user's location.\n",
    "Action: get_current_weather: New York City\n",
    "PAUSE\n",
    "\n",
    "You'll then be called again with something like this:\n",
    "Observation: { location: \"New York City, NY\", forecast: [\"sunny\"] }\n",
    "\n",
    "You then output:\n",
    "Answer: <Suggested activities based on sunny weather that are highly specific to New York City and surrounding areas.>\"\"\""
   ]
  },
  {
   "cell_type": "code",
   "execution_count": 24,
   "metadata": {},
   "outputs": [],
   "source": [
    "# For simplicity, we can synthesize the function output as a string\n",
    "get_current_weather = '{ location: \"Helsinki\", forecast: [\"Snowy\"] }'\n",
    "get_location = \"Helsinki\""
   ]
  },
  {
   "cell_type": "code",
   "execution_count": 25,
   "metadata": {},
   "outputs": [],
   "source": [
    "# ReAct Agent with chat completion\n",
    "agent1 = ChatCompletion(LANGUAGE_MODEL)"
   ]
  },
  {
   "cell_type": "code",
   "execution_count": 26,
   "metadata": {},
   "outputs": [
    {
     "name": "stdout",
     "output_type": "stream",
     "text": [
      "You cycle through Thought, Action, PAUSE, Observation. At the end of the loop you output a final Answer. Your final answer should be highly specific to the observations you have from running\n",
      "the actions. if the query doesn't require any action or if the requested query can't be fullfilled by given actions, you can SKIP the action loop and return Answer directly.\n",
      "\n",
      "Thought: Describe your thoughts about the question you have been asked.\n",
      "Action: run one of the actions available to you - then return PAUSE.\n",
      "PAUSE\n",
      "Observation: will be the result of running those actions.\n",
      "\n",
      "Available actions:\n",
      "get_current_weather: E.g. get_current_weather: \"Salt Lake City\" Returns the current weather of the location specified.\n",
      "get_location: E.g. get_location: \"null\" Returns user's location details. No arguments needed.\n",
      "\n",
      "Example session:\n",
      "Question: Please give me some ideas for activities to do this afternoon.\n",
      "Thought: I should look up the user's location so I can give location-specific activity ideas.\n",
      "Action: get_location: null\n",
      "PAUSE\n",
      "\n",
      "You will be called again with something like this:\n",
      "Observation: \"New York City, NY\"\n",
      "\n",
      "Then you loop again:\n",
      "Thought: To get even more specific activity ideas, I should get the current weather at the user's location.\n",
      "Action: get_current_weather: New York City\n",
      "PAUSE\n",
      "\n",
      "You'll then be called again with something like this:\n",
      "Observation: { location: \"New York City, NY\", forecast: [\"sunny\"] }\n",
      "\n",
      "You then output:\n",
      "Answer: <Suggested activities based on sunny weather that are highly specific to New York City and surrounding areas.>\n",
      "\n",
      "I'm wondering if i can go to beach for a swim tomorrow in helsinki\n"
     ]
    }
   ],
   "source": [
    "# Define the prompt for the ReAct Agent\n",
    "user_prompt = \"I'm wondering if i can go to beach for a swim tomorrow in helsinki\"\n",
    "\n",
    "initial_prompt = f\"{prompt}\\n\\n{user_prompt}\"\n",
    "\n",
    "print(initial_prompt)"
   ]
  },
  {
   "cell_type": "code",
   "execution_count": 27,
   "metadata": {},
   "outputs": [
    {
     "data": {
      "text/html": [
       "<pre style=\"white-space:pre;overflow-x:auto;line-height:normal;font-family:Menlo,'DejaVu Sans Mono',consolas,'Courier New',monospace\"><span style=\"color: #008080; text-decoration-color: #008080; font-weight: bold\">USER</span><span style=\"color: #008080; text-decoration-color: #008080\">: You cycle through Thought, Action, PAUSE, Observation. At the end of the loop you output a final Answer. Your</span>\n",
       "<span style=\"color: #008080; text-decoration-color: #008080\">final answer should be highly specific to the observations you have from running</span>\n",
       "<span style=\"color: #008080; text-decoration-color: #008080\">the actions. if the query doesn't require any action or if the requested query can't be fullfilled by given </span>\n",
       "<span style=\"color: #008080; text-decoration-color: #008080\">actions, you can SKIP the action loop and return Answer directly.</span>\n",
       "\n",
       "<span style=\"color: #008080; text-decoration-color: #008080\">Thought: Describe your thoughts about the question you have been asked.</span>\n",
       "<span style=\"color: #008080; text-decoration-color: #008080\">Action: run one of the actions available to you - then return PAUSE.</span>\n",
       "<span style=\"color: #008080; text-decoration-color: #008080\">PAUSE</span>\n",
       "<span style=\"color: #008080; text-decoration-color: #008080\">Observation: will be the result of running those actions.</span>\n",
       "\n",
       "<span style=\"color: #008080; text-decoration-color: #008080\">Available actions:</span>\n",
       "<span style=\"color: #008080; text-decoration-color: #008080\">get_current_weather: E.g. get_current_weather: </span><span style=\"color: #008000; text-decoration-color: #008000\">\"Salt Lake City\"</span><span style=\"color: #008080; text-decoration-color: #008080\"> Returns the current weather of the location </span>\n",
       "<span style=\"color: #008080; text-decoration-color: #008080\">specified.</span>\n",
       "<span style=\"color: #008080; text-decoration-color: #008080\">get_location: E.g. get_location: </span><span style=\"color: #008000; text-decoration-color: #008000\">\"null\"</span><span style=\"color: #008080; text-decoration-color: #008080\"> Returns user's location details. No arguments needed.</span>\n",
       "\n",
       "<span style=\"color: #008080; text-decoration-color: #008080\">Example session:</span>\n",
       "<span style=\"color: #008080; text-decoration-color: #008080\">Question: Please give me some ideas for activities to do this afternoon.</span>\n",
       "<span style=\"color: #008080; text-decoration-color: #008080\">Thought: I should look up the user's location so I can give location-specific activity ideas.</span>\n",
       "<span style=\"color: #008080; text-decoration-color: #008080\">Action: get_location: null</span>\n",
       "<span style=\"color: #008080; text-decoration-color: #008080\">PAUSE</span>\n",
       "\n",
       "<span style=\"color: #008080; text-decoration-color: #008080\">You will be called again with something like this:</span>\n",
       "<span style=\"color: #008080; text-decoration-color: #008080\">Observation: </span><span style=\"color: #008000; text-decoration-color: #008000\">\"New York City, NY\"</span>\n",
       "\n",
       "<span style=\"color: #008080; text-decoration-color: #008080\">Then you loop again:</span>\n",
       "<span style=\"color: #008080; text-decoration-color: #008080\">Thought: To get even more specific activity ideas, I should get the current weather at the user's location.</span>\n",
       "<span style=\"color: #008080; text-decoration-color: #008080\">Action: get_current_weather: New York City</span>\n",
       "<span style=\"color: #008080; text-decoration-color: #008080\">PAUSE</span>\n",
       "\n",
       "<span style=\"color: #008080; text-decoration-color: #008080\">You'll then be called again with something like this:</span>\n",
       "<span style=\"color: #008080; text-decoration-color: #008080\">Observation: </span><span style=\"color: #008080; text-decoration-color: #008080; font-weight: bold\">{</span><span style=\"color: #008080; text-decoration-color: #008080\"> location: </span><span style=\"color: #008000; text-decoration-color: #008000\">\"New York City, NY\"</span><span style=\"color: #008080; text-decoration-color: #008080\">, forecast: </span><span style=\"color: #008080; text-decoration-color: #008080; font-weight: bold\">[</span><span style=\"color: #008000; text-decoration-color: #008000\">\"sunny\"</span><span style=\"color: #008080; text-decoration-color: #008080; font-weight: bold\">]</span><span style=\"color: #008080; text-decoration-color: #008080\"> </span><span style=\"color: #008080; text-decoration-color: #008080; font-weight: bold\">}</span>\n",
       "\n",
       "<span style=\"color: #008080; text-decoration-color: #008080\">You then output:</span>\n",
       "<span style=\"color: #008080; text-decoration-color: #008080\">Answer: </span><span style=\"color: #008080; text-decoration-color: #008080; font-weight: bold\">&lt;</span><span style=\"color: #ff00ff; text-decoration-color: #ff00ff; font-weight: bold\">Suggested</span><span style=\"color: #000000; text-decoration-color: #000000\"> activities based on sunny weather that are highly specific to New York City and surrounding </span>\n",
       "<span style=\"color: #000000; text-decoration-color: #000000\">areas.</span><span style=\"color: #008080; text-decoration-color: #008080; font-weight: bold\">&gt;</span>\n",
       "\n",
       "<span style=\"color: #008080; text-decoration-color: #008080\">I'm wondering if i can go to beach for a swim tomorrow in helsinki</span>\n",
       "</pre>\n"
      ],
      "text/plain": [
       "\u001b[1;36mUSER\u001b[0m\u001b[36m: You cycle through Thought, Action, PAUSE, Observation. At the end of the loop you output a final Answer. Your\u001b[0m\n",
       "\u001b[36mfinal answer should be highly specific to the observations you have from running\u001b[0m\n",
       "\u001b[36mthe actions. if the query doesn't require any action or if the requested query can't be fullfilled by given \u001b[0m\n",
       "\u001b[36mactions, you can SKIP the action loop and return Answer directly.\u001b[0m\n",
       "\n",
       "\u001b[36mThought: Describe your thoughts about the question you have been asked.\u001b[0m\n",
       "\u001b[36mAction: run one of the actions available to you - then return PAUSE.\u001b[0m\n",
       "\u001b[36mPAUSE\u001b[0m\n",
       "\u001b[36mObservation: will be the result of running those actions.\u001b[0m\n",
       "\n",
       "\u001b[36mAvailable actions:\u001b[0m\n",
       "\u001b[36mget_current_weather: E.g. get_current_weather: \u001b[0m\u001b[32m\"Salt Lake City\"\u001b[0m\u001b[36m Returns the current weather of the location \u001b[0m\n",
       "\u001b[36mspecified.\u001b[0m\n",
       "\u001b[36mget_location: E.g. get_location: \u001b[0m\u001b[32m\"null\"\u001b[0m\u001b[36m Returns user's location details. No arguments needed.\u001b[0m\n",
       "\n",
       "\u001b[36mExample session:\u001b[0m\n",
       "\u001b[36mQuestion: Please give me some ideas for activities to do this afternoon.\u001b[0m\n",
       "\u001b[36mThought: I should look up the user's location so I can give location-specific activity ideas.\u001b[0m\n",
       "\u001b[36mAction: get_location: null\u001b[0m\n",
       "\u001b[36mPAUSE\u001b[0m\n",
       "\n",
       "\u001b[36mYou will be called again with something like this:\u001b[0m\n",
       "\u001b[36mObservation: \u001b[0m\u001b[32m\"New York City, NY\"\u001b[0m\n",
       "\n",
       "\u001b[36mThen you loop again:\u001b[0m\n",
       "\u001b[36mThought: To get even more specific activity ideas, I should get the current weather at the user's location.\u001b[0m\n",
       "\u001b[36mAction: get_current_weather: New York City\u001b[0m\n",
       "\u001b[36mPAUSE\u001b[0m\n",
       "\n",
       "\u001b[36mYou'll then be called again with something like this:\u001b[0m\n",
       "\u001b[36mObservation: \u001b[0m\u001b[1;36m{\u001b[0m\u001b[36m location: \u001b[0m\u001b[32m\"New York City, NY\"\u001b[0m\u001b[36m, forecast: \u001b[0m\u001b[1;36m[\u001b[0m\u001b[32m\"sunny\"\u001b[0m\u001b[1;36m]\u001b[0m\u001b[36m \u001b[0m\u001b[1;36m}\u001b[0m\n",
       "\n",
       "\u001b[36mYou then output:\u001b[0m\n",
       "\u001b[36mAnswer: \u001b[0m\u001b[1;36m<\u001b[0m\u001b[1;95mSuggested\u001b[0m\u001b[39m activities based on sunny weather that are highly specific to New York City and surrounding \u001b[0m\n",
       "\u001b[39mareas.\u001b[0m\u001b[1;36m>\u001b[0m\n",
       "\n",
       "\u001b[36mI'm wondering if i can go to beach for a swim tomorrow in helsinki\u001b[0m\n"
      ]
     },
     "metadata": {},
     "output_type": "display_data"
    },
    {
     "data": {
      "text/html": [
       "<pre style=\"white-space:pre;overflow-x:auto;line-height:normal;font-family:Menlo,'DejaVu Sans Mono',consolas,'Courier New',monospace\"><span style=\"color: #800000; text-decoration-color: #800000; background-color: #c0c0c0; font-weight: bold; text-decoration: underline\">AI: Thought: To determine if swimming at a beach in Helsinki is feasible tomorrow, I need to know the current </span>\n",
       "<span style=\"color: #800000; text-decoration-color: #800000; background-color: #c0c0c0; font-weight: bold; text-decoration: underline\">weather conditions in Helsinki. This will help me assess if the temperature is suitable for swimming.</span>\n",
       "<span style=\"color: #800000; text-decoration-color: #800000; background-color: #c0c0c0; font-weight: bold; text-decoration: underline\">Action: get_current_weather: Helsinki</span>\n",
       "<span style=\"color: #800000; text-decoration-color: #800000; background-color: #c0c0c0; font-weight: bold; text-decoration: underline\">PAUSE</span>\n",
       "\n",
       "</pre>\n"
      ],
      "text/plain": [
       "\u001b[1;4;5;31;47mAI\u001b[0m\u001b[1;4;5;31;47m: Thought: To determine if swimming at a beach in Helsinki is feasible tomorrow, I need to know the current \u001b[0m\n",
       "\u001b[1;4;5;31;47mweather conditions in Helsinki. This will help me assess if the temperature is suitable for swimming.\u001b[0m\n",
       "\u001b[1;4;5;31;47mAction: get_current_weather: Helsinki\u001b[0m\n",
       "\u001b[1;4;5;31;47mPAUSE\u001b[0m\n",
       "\n"
      ]
     },
     "metadata": {},
     "output_type": "display_data"
    }
   ],
   "source": [
    "# Start the ReAct Agent\n",
    "_ = agent1(initial_prompt)"
   ]
  },
  {
   "cell_type": "code",
   "execution_count": 28,
   "metadata": {},
   "outputs": [
    {
     "data": {
      "text/html": [
       "<pre style=\"white-space:pre;overflow-x:auto;line-height:normal;font-family:Menlo,'DejaVu Sans Mono',consolas,'Courier New',monospace\"><span style=\"color: #008080; text-decoration-color: #008080; font-weight: bold\">USER</span><span style=\"color: #008080; text-decoration-color: #008080\">: </span><span style=\"color: #008080; text-decoration-color: #008080; font-weight: bold\">{</span><span style=\"color: #008080; text-decoration-color: #008080\"> location: </span><span style=\"color: #008000; text-decoration-color: #008000\">\"Helsinki\"</span><span style=\"color: #008080; text-decoration-color: #008080\">, forecast: </span><span style=\"color: #008080; text-decoration-color: #008080; font-weight: bold\">[</span><span style=\"color: #008000; text-decoration-color: #008000\">\"Snowy\"</span><span style=\"color: #008080; text-decoration-color: #008080; font-weight: bold\">]</span><span style=\"color: #008080; text-decoration-color: #008080\"> </span><span style=\"color: #008080; text-decoration-color: #008080; font-weight: bold\">}</span>\n",
       "</pre>\n"
      ],
      "text/plain": [
       "\u001b[1;36mUSER\u001b[0m\u001b[36m: \u001b[0m\u001b[1;36m{\u001b[0m\u001b[36m location: \u001b[0m\u001b[32m\"Helsinki\"\u001b[0m\u001b[36m, forecast: \u001b[0m\u001b[1;36m[\u001b[0m\u001b[32m\"Snowy\"\u001b[0m\u001b[1;36m]\u001b[0m\u001b[36m \u001b[0m\u001b[1;36m}\u001b[0m\n"
      ]
     },
     "metadata": {},
     "output_type": "display_data"
    },
    {
     "data": {
      "text/html": [
       "<pre style=\"white-space:pre;overflow-x:auto;line-height:normal;font-family:Menlo,'DejaVu Sans Mono',consolas,'Courier New',monospace\"><span style=\"color: #800000; text-decoration-color: #800000; background-color: #c0c0c0; font-weight: bold; text-decoration: underline\">AI: Thought: The forecast for Helsinki is snowy. Given this information, it is highly unlikely that swimming at a </span>\n",
       "<span style=\"color: #800000; text-decoration-color: #800000; background-color: #c0c0c0; font-weight: bold; text-decoration: underline\">beach would be a pleasant or safe activity.</span>\n",
       "\n",
       "<span style=\"color: #800000; text-decoration-color: #800000; background-color: #c0c0c0; font-weight: bold; text-decoration: underline\">Answer: Considering the snowy forecast for Helsinki tomorrow, swimming at a beach is not recommended. The water </span>\n",
       "<span style=\"color: #800000; text-decoration-color: #800000; background-color: #c0c0c0; font-weight: bold; text-decoration: underline\">temperature would likely be very cold, and the air temperature would make it an unpleasant experience.</span>\n",
       "\n",
       "</pre>\n"
      ],
      "text/plain": [
       "\u001b[1;4;5;31;47mAI\u001b[0m\u001b[1;4;5;31;47m: Thought: The forecast for Helsinki is snowy. Given this information, it is highly unlikely that swimming at a \u001b[0m\n",
       "\u001b[1;4;5;31;47mbeach would be a pleasant or safe activity.\u001b[0m\n",
       "\n",
       "\u001b[1;4;5;31;47mAnswer: Considering the snowy forecast for Helsinki tomorrow, swimming at a beach is not recommended. The water \u001b[0m\n",
       "\u001b[1;4;5;31;47mtemperature would likely be very cold, and the air temperature would make it an unpleasant experience.\u001b[0m\n",
       "\n"
      ]
     },
     "metadata": {},
     "output_type": "display_data"
    }
   ],
   "source": [
    "# Mimic the tool output back to model\n",
    "_ = agent1(get_current_weather)"
   ]
  },
  {
   "cell_type": "code",
   "execution_count": 29,
   "metadata": {},
   "outputs": [
    {
     "name": "stdout",
     "output_type": "stream",
     "text": [
      "You cycle through Thought, Action, PAUSE, Observation. At the end of the loop you output a final Answer. Your final answer should be highly specific to the observations you have from running\n",
      "the actions. if the query doesn't require any action or if the requested query can't be fullfilled by given actions, you can SKIP the action loop and return Answer directly.\n",
      "\n",
      "Thought: Describe your thoughts about the question you have been asked.\n",
      "Action: run one of the actions available to you - then return PAUSE.\n",
      "PAUSE\n",
      "Observation: will be the result of running those actions.\n",
      "\n",
      "Available actions:\n",
      "get_current_weather: E.g. get_current_weather: \"Salt Lake City\" Returns the current weather of the location specified.\n",
      "get_location: E.g. get_location: \"null\" Returns user's location details. No arguments needed.\n",
      "\n",
      "Example session:\n",
      "Question: Please give me some ideas for activities to do this afternoon.\n",
      "Thought: I should look up the user's location so I can give location-specific activity ideas.\n",
      "Action: get_location: null\n",
      "PAUSE\n",
      "\n",
      "You will be called again with something like this:\n",
      "Observation: \"New York City, NY\"\n",
      "\n",
      "Then you loop again:\n",
      "Thought: To get even more specific activity ideas, I should get the current weather at the user's location.\n",
      "Action: get_current_weather: New York City\n",
      "PAUSE\n",
      "\n",
      "You'll then be called again with something like this:\n",
      "Observation: { location: \"New York City, NY\", forecast: [\"sunny\"] }\n",
      "\n",
      "You then output:\n",
      "Answer: <Suggested activities based on sunny weather that are highly specific to New York City and surrounding areas.>\n",
      "\n",
      "I would like to explore my city tomorrow, i'm wondering if i need to carry an umbrella tomorrow\n"
     ]
    }
   ],
   "source": [
    "# Let's check another example\n",
    "user_prompt = \"I would like to explore my city tomorrow, i'm wondering if i need to carry an umbrella tomorrow\"\n",
    "new_prompt = f\"{prompt}\\n\\n{user_prompt}\"\n",
    "print(new_prompt)"
   ]
  },
  {
   "cell_type": "code",
   "execution_count": 30,
   "metadata": {},
   "outputs": [
    {
     "data": {
      "text/html": [
       "<pre style=\"white-space:pre;overflow-x:auto;line-height:normal;font-family:Menlo,'DejaVu Sans Mono',consolas,'Courier New',monospace\"><span style=\"color: #008080; text-decoration-color: #008080; font-weight: bold\">USER</span><span style=\"color: #008080; text-decoration-color: #008080\">: You cycle through Thought, Action, PAUSE, Observation. At the end of the loop you output a final Answer. Your</span>\n",
       "<span style=\"color: #008080; text-decoration-color: #008080\">final answer should be highly specific to the observations you have from running</span>\n",
       "<span style=\"color: #008080; text-decoration-color: #008080\">the actions. if the query doesn't require any action or if the requested query can't be fullfilled by given </span>\n",
       "<span style=\"color: #008080; text-decoration-color: #008080\">actions, you can SKIP the action loop and return Answer directly.</span>\n",
       "\n",
       "<span style=\"color: #008080; text-decoration-color: #008080\">Thought: Describe your thoughts about the question you have been asked.</span>\n",
       "<span style=\"color: #008080; text-decoration-color: #008080\">Action: run one of the actions available to you - then return PAUSE.</span>\n",
       "<span style=\"color: #008080; text-decoration-color: #008080\">PAUSE</span>\n",
       "<span style=\"color: #008080; text-decoration-color: #008080\">Observation: will be the result of running those actions.</span>\n",
       "\n",
       "<span style=\"color: #008080; text-decoration-color: #008080\">Available actions:</span>\n",
       "<span style=\"color: #008080; text-decoration-color: #008080\">get_current_weather: E.g. get_current_weather: </span><span style=\"color: #008000; text-decoration-color: #008000\">\"Salt Lake City\"</span><span style=\"color: #008080; text-decoration-color: #008080\"> Returns the current weather of the location </span>\n",
       "<span style=\"color: #008080; text-decoration-color: #008080\">specified.</span>\n",
       "<span style=\"color: #008080; text-decoration-color: #008080\">get_location: E.g. get_location: </span><span style=\"color: #008000; text-decoration-color: #008000\">\"null\"</span><span style=\"color: #008080; text-decoration-color: #008080\"> Returns user's location details. No arguments needed.</span>\n",
       "\n",
       "<span style=\"color: #008080; text-decoration-color: #008080\">Example session:</span>\n",
       "<span style=\"color: #008080; text-decoration-color: #008080\">Question: Please give me some ideas for activities to do this afternoon.</span>\n",
       "<span style=\"color: #008080; text-decoration-color: #008080\">Thought: I should look up the user's location so I can give location-specific activity ideas.</span>\n",
       "<span style=\"color: #008080; text-decoration-color: #008080\">Action: get_location: null</span>\n",
       "<span style=\"color: #008080; text-decoration-color: #008080\">PAUSE</span>\n",
       "\n",
       "<span style=\"color: #008080; text-decoration-color: #008080\">You will be called again with something like this:</span>\n",
       "<span style=\"color: #008080; text-decoration-color: #008080\">Observation: </span><span style=\"color: #008000; text-decoration-color: #008000\">\"New York City, NY\"</span>\n",
       "\n",
       "<span style=\"color: #008080; text-decoration-color: #008080\">Then you loop again:</span>\n",
       "<span style=\"color: #008080; text-decoration-color: #008080\">Thought: To get even more specific activity ideas, I should get the current weather at the user's location.</span>\n",
       "<span style=\"color: #008080; text-decoration-color: #008080\">Action: get_current_weather: New York City</span>\n",
       "<span style=\"color: #008080; text-decoration-color: #008080\">PAUSE</span>\n",
       "\n",
       "<span style=\"color: #008080; text-decoration-color: #008080\">You'll then be called again with something like this:</span>\n",
       "<span style=\"color: #008080; text-decoration-color: #008080\">Observation: </span><span style=\"color: #008080; text-decoration-color: #008080; font-weight: bold\">{</span><span style=\"color: #008080; text-decoration-color: #008080\"> location: </span><span style=\"color: #008000; text-decoration-color: #008000\">\"New York City, NY\"</span><span style=\"color: #008080; text-decoration-color: #008080\">, forecast: </span><span style=\"color: #008080; text-decoration-color: #008080; font-weight: bold\">[</span><span style=\"color: #008000; text-decoration-color: #008000\">\"sunny\"</span><span style=\"color: #008080; text-decoration-color: #008080; font-weight: bold\">]</span><span style=\"color: #008080; text-decoration-color: #008080\"> </span><span style=\"color: #008080; text-decoration-color: #008080; font-weight: bold\">}</span>\n",
       "\n",
       "<span style=\"color: #008080; text-decoration-color: #008080\">You then output:</span>\n",
       "<span style=\"color: #008080; text-decoration-color: #008080\">Answer: </span><span style=\"color: #008080; text-decoration-color: #008080; font-weight: bold\">&lt;</span><span style=\"color: #ff00ff; text-decoration-color: #ff00ff; font-weight: bold\">Suggested</span><span style=\"color: #000000; text-decoration-color: #000000\"> activities based on sunny weather that are highly specific to New York City and surrounding </span>\n",
       "<span style=\"color: #000000; text-decoration-color: #000000\">areas.</span><span style=\"color: #008080; text-decoration-color: #008080; font-weight: bold\">&gt;</span>\n",
       "\n",
       "<span style=\"color: #008080; text-decoration-color: #008080\">I would like to explore my city tomorrow, i'm wondering if i need to carry an umbrella tomorrow</span>\n",
       "</pre>\n"
      ],
      "text/plain": [
       "\u001b[1;36mUSER\u001b[0m\u001b[36m: You cycle through Thought, Action, PAUSE, Observation. At the end of the loop you output a final Answer. Your\u001b[0m\n",
       "\u001b[36mfinal answer should be highly specific to the observations you have from running\u001b[0m\n",
       "\u001b[36mthe actions. if the query doesn't require any action or if the requested query can't be fullfilled by given \u001b[0m\n",
       "\u001b[36mactions, you can SKIP the action loop and return Answer directly.\u001b[0m\n",
       "\n",
       "\u001b[36mThought: Describe your thoughts about the question you have been asked.\u001b[0m\n",
       "\u001b[36mAction: run one of the actions available to you - then return PAUSE.\u001b[0m\n",
       "\u001b[36mPAUSE\u001b[0m\n",
       "\u001b[36mObservation: will be the result of running those actions.\u001b[0m\n",
       "\n",
       "\u001b[36mAvailable actions:\u001b[0m\n",
       "\u001b[36mget_current_weather: E.g. get_current_weather: \u001b[0m\u001b[32m\"Salt Lake City\"\u001b[0m\u001b[36m Returns the current weather of the location \u001b[0m\n",
       "\u001b[36mspecified.\u001b[0m\n",
       "\u001b[36mget_location: E.g. get_location: \u001b[0m\u001b[32m\"null\"\u001b[0m\u001b[36m Returns user's location details. No arguments needed.\u001b[0m\n",
       "\n",
       "\u001b[36mExample session:\u001b[0m\n",
       "\u001b[36mQuestion: Please give me some ideas for activities to do this afternoon.\u001b[0m\n",
       "\u001b[36mThought: I should look up the user's location so I can give location-specific activity ideas.\u001b[0m\n",
       "\u001b[36mAction: get_location: null\u001b[0m\n",
       "\u001b[36mPAUSE\u001b[0m\n",
       "\n",
       "\u001b[36mYou will be called again with something like this:\u001b[0m\n",
       "\u001b[36mObservation: \u001b[0m\u001b[32m\"New York City, NY\"\u001b[0m\n",
       "\n",
       "\u001b[36mThen you loop again:\u001b[0m\n",
       "\u001b[36mThought: To get even more specific activity ideas, I should get the current weather at the user's location.\u001b[0m\n",
       "\u001b[36mAction: get_current_weather: New York City\u001b[0m\n",
       "\u001b[36mPAUSE\u001b[0m\n",
       "\n",
       "\u001b[36mYou'll then be called again with something like this:\u001b[0m\n",
       "\u001b[36mObservation: \u001b[0m\u001b[1;36m{\u001b[0m\u001b[36m location: \u001b[0m\u001b[32m\"New York City, NY\"\u001b[0m\u001b[36m, forecast: \u001b[0m\u001b[1;36m[\u001b[0m\u001b[32m\"sunny\"\u001b[0m\u001b[1;36m]\u001b[0m\u001b[36m \u001b[0m\u001b[1;36m}\u001b[0m\n",
       "\n",
       "\u001b[36mYou then output:\u001b[0m\n",
       "\u001b[36mAnswer: \u001b[0m\u001b[1;36m<\u001b[0m\u001b[1;95mSuggested\u001b[0m\u001b[39m activities based on sunny weather that are highly specific to New York City and surrounding \u001b[0m\n",
       "\u001b[39mareas.\u001b[0m\u001b[1;36m>\u001b[0m\n",
       "\n",
       "\u001b[36mI would like to explore my city tomorrow, i'm wondering if i need to carry an umbrella tomorrow\u001b[0m\n"
      ]
     },
     "metadata": {},
     "output_type": "display_data"
    },
    {
     "data": {
      "text/html": [
       "<pre style=\"white-space:pre;overflow-x:auto;line-height:normal;font-family:Menlo,'DejaVu Sans Mono',consolas,'Courier New',monospace\"><span style=\"color: #800000; text-decoration-color: #800000; background-color: #c0c0c0; font-weight: bold; text-decoration: underline\">AI: Thought: To determine if the user needs to carry an umbrella tomorrow, I need to know their current location </span>\n",
       "<span style=\"color: #800000; text-decoration-color: #800000; background-color: #c0c0c0; font-weight: bold; text-decoration: underline\">and the weather forecast for that location.</span>\n",
       "<span style=\"color: #800000; text-decoration-color: #800000; background-color: #c0c0c0; font-weight: bold; text-decoration: underline\">Action: get_location: null</span>\n",
       "<span style=\"color: #800000; text-decoration-color: #800000; background-color: #c0c0c0; font-weight: bold; text-decoration: underline\">PAUSE</span>\n",
       "\n",
       "</pre>\n"
      ],
      "text/plain": [
       "\u001b[1;4;5;31;47mAI\u001b[0m\u001b[1;4;5;31;47m: Thought: To determine if the user needs to carry an umbrella tomorrow, I need to know their current location \u001b[0m\n",
       "\u001b[1;4;5;31;47mand the weather forecast for that location.\u001b[0m\n",
       "\u001b[1;4;5;31;47mAction: get_location: null\u001b[0m\n",
       "\u001b[1;4;5;31;47mPAUSE\u001b[0m\n",
       "\n"
      ]
     },
     "metadata": {},
     "output_type": "display_data"
    }
   ],
   "source": [
    "_ = agent1(new_prompt)"
   ]
  },
  {
   "cell_type": "code",
   "execution_count": 31,
   "metadata": {},
   "outputs": [
    {
     "data": {
      "text/html": [
       "<pre style=\"white-space:pre;overflow-x:auto;line-height:normal;font-family:Menlo,'DejaVu Sans Mono',consolas,'Courier New',monospace\"><span style=\"color: #008080; text-decoration-color: #008080; font-weight: bold\">USER</span><span style=\"color: #008080; text-decoration-color: #008080\">: Helsinki</span>\n",
       "</pre>\n"
      ],
      "text/plain": [
       "\u001b[1;36mUSER\u001b[0m\u001b[36m: Helsinki\u001b[0m\n"
      ]
     },
     "metadata": {},
     "output_type": "display_data"
    },
    {
     "data": {
      "text/html": [
       "<pre style=\"white-space:pre;overflow-x:auto;line-height:normal;font-family:Menlo,'DejaVu Sans Mono',consolas,'Courier New',monospace\"><span style=\"color: #800000; text-decoration-color: #800000; background-color: #c0c0c0; font-weight: bold; text-decoration: underline\">AI: Thought: Now that I know the user is in Helsinki, I need to get the weather forecast for Helsinki to determine </span>\n",
       "<span style=\"color: #800000; text-decoration-color: #800000; background-color: #c0c0c0; font-weight: bold; text-decoration: underline\">if they need an umbrella tomorrow.</span>\n",
       "<span style=\"color: #800000; text-decoration-color: #800000; background-color: #c0c0c0; font-weight: bold; text-decoration: underline\">Action: get_current_weather: Helsinki</span>\n",
       "<span style=\"color: #800000; text-decoration-color: #800000; background-color: #c0c0c0; font-weight: bold; text-decoration: underline\">PAUSE</span>\n",
       "\n",
       "</pre>\n"
      ],
      "text/plain": [
       "\u001b[1;4;5;31;47mAI\u001b[0m\u001b[1;4;5;31;47m: Thought: Now that I know the user is in Helsinki, I need to get the weather forecast for Helsinki to determine \u001b[0m\n",
       "\u001b[1;4;5;31;47mif they need an umbrella tomorrow.\u001b[0m\n",
       "\u001b[1;4;5;31;47mAction: get_current_weather: Helsinki\u001b[0m\n",
       "\u001b[1;4;5;31;47mPAUSE\u001b[0m\n",
       "\n"
      ]
     },
     "metadata": {},
     "output_type": "display_data"
    }
   ],
   "source": [
    "# Since the AI is now requesting the tool for getting location, we can mimic the tool output back to the model\n",
    "_ = agent1(get_location)"
   ]
  },
  {
   "cell_type": "code",
   "execution_count": 32,
   "metadata": {},
   "outputs": [
    {
     "data": {
      "text/html": [
       "<pre style=\"white-space:pre;overflow-x:auto;line-height:normal;font-family:Menlo,'DejaVu Sans Mono',consolas,'Courier New',monospace\"><span style=\"color: #008080; text-decoration-color: #008080; font-weight: bold\">USER</span><span style=\"color: #008080; text-decoration-color: #008080\">: </span><span style=\"color: #008080; text-decoration-color: #008080; font-weight: bold\">{</span><span style=\"color: #008080; text-decoration-color: #008080\"> location: </span><span style=\"color: #008000; text-decoration-color: #008000\">\"Helsinki\"</span><span style=\"color: #008080; text-decoration-color: #008080\">, forecast: </span><span style=\"color: #008080; text-decoration-color: #008080; font-weight: bold\">[</span><span style=\"color: #008000; text-decoration-color: #008000\">\"Snowy\"</span><span style=\"color: #008080; text-decoration-color: #008080; font-weight: bold\">]</span><span style=\"color: #008080; text-decoration-color: #008080\"> </span><span style=\"color: #008080; text-decoration-color: #008080; font-weight: bold\">}</span>\n",
       "</pre>\n"
      ],
      "text/plain": [
       "\u001b[1;36mUSER\u001b[0m\u001b[36m: \u001b[0m\u001b[1;36m{\u001b[0m\u001b[36m location: \u001b[0m\u001b[32m\"Helsinki\"\u001b[0m\u001b[36m, forecast: \u001b[0m\u001b[1;36m[\u001b[0m\u001b[32m\"Snowy\"\u001b[0m\u001b[1;36m]\u001b[0m\u001b[36m \u001b[0m\u001b[1;36m}\u001b[0m\n"
      ]
     },
     "metadata": {},
     "output_type": "display_data"
    },
    {
     "data": {
      "text/html": [
       "<pre style=\"white-space:pre;overflow-x:auto;line-height:normal;font-family:Menlo,'DejaVu Sans Mono',consolas,'Courier New',monospace\"><span style=\"color: #800000; text-decoration-color: #800000; background-color: #c0c0c0; font-weight: bold; text-decoration: underline\">AI: Thought: The forecast for Helsinki is snowy. Snow often comes with precipitation, so it's likely the user will </span>\n",
       "<span style=\"color: #800000; text-decoration-color: #800000; background-color: #c0c0c0; font-weight: bold; text-decoration: underline\">need an umbrella or other rain/snow protection.</span>\n",
       "\n",
       "<span style=\"color: #800000; text-decoration-color: #800000; background-color: #c0c0c0; font-weight: bold; text-decoration: underline\">Answer: Given the snowy forecast for Helsinki tomorrow, it is highly recommended that you carry an umbrella or wear</span>\n",
       "<span style=\"color: #800000; text-decoration-color: #800000; background-color: #c0c0c0; font-weight: bold; text-decoration: underline\">waterproof outerwear to protect yourself from the snow.</span>\n",
       "\n",
       "</pre>\n"
      ],
      "text/plain": [
       "\u001b[1;4;5;31;47mAI\u001b[0m\u001b[1;4;5;31;47m: Thought: The forecast for Helsinki is snowy. Snow often comes with precipitation, so it's likely the user will \u001b[0m\n",
       "\u001b[1;4;5;31;47mneed an umbrella or other rain/snow protection.\u001b[0m\n",
       "\n",
       "\u001b[1;4;5;31;47mAnswer: Given the snowy forecast for Helsinki tomorrow, it is highly recommended that you carry an umbrella or wear\u001b[0m\n",
       "\u001b[1;4;5;31;47mwaterproof outerwear to protect yourself from the snow.\u001b[0m\n",
       "\n"
      ]
     },
     "metadata": {},
     "output_type": "display_data"
    }
   ],
   "source": [
    "# Now the AI will request the tool for getting the current weather\n",
    "_ = agent1(get_current_weather)"
   ]
  },
  {
   "cell_type": "code",
   "execution_count": 33,
   "metadata": {},
   "outputs": [
    {
     "data": {
      "text/html": [
       "<pre style=\"white-space:pre;overflow-x:auto;line-height:normal;font-family:Menlo,'DejaVu Sans Mono',consolas,'Courier New',monospace\"><span style=\"color: #008080; text-decoration-color: #008080; font-weight: bold\">USER</span><span style=\"color: #008080; text-decoration-color: #008080\">: Can you tell me the time in Helsinki?</span>\n",
       "</pre>\n"
      ],
      "text/plain": [
       "\u001b[1;36mUSER\u001b[0m\u001b[36m: Can you tell me the time in Helsinki?\u001b[0m\n"
      ]
     },
     "metadata": {},
     "output_type": "display_data"
    },
    {
     "data": {
      "text/html": [
       "<pre style=\"white-space:pre;overflow-x:auto;line-height:normal;font-family:Menlo,'DejaVu Sans Mono',consolas,'Courier New',monospace\"><span style=\"color: #800000; text-decoration-color: #800000; background-color: #c0c0c0; font-weight: bold; text-decoration: underline\">AI: Thought: I do not have the capability to tell you the current time.</span>\n",
       "\n",
       "<span style=\"color: #800000; text-decoration-color: #800000; background-color: #c0c0c0; font-weight: bold; text-decoration: underline\">Answer: I am sorry, I do not have the capability to tell you the current time in Helsinki.</span>\n",
       "\n",
       "</pre>\n"
      ],
      "text/plain": [
       "\u001b[1;4;5;31;47mAI\u001b[0m\u001b[1;4;5;31;47m: Thought: I do not have the capability to tell you the current time.\u001b[0m\n",
       "\n",
       "\u001b[1;4;5;31;47mAnswer: I am sorry, I do not have the capability to tell you the current time in Helsinki.\u001b[0m\n",
       "\n"
      ]
     },
     "metadata": {},
     "output_type": "display_data"
    }
   ],
   "source": [
    "# now let's ask a question that doesn't require any action\n",
    "user_prompt = \"Can you tell me the time in Helsinki?\"\n",
    "_ = agent1(user_prompt)"
   ]
  },
  {
   "cell_type": "code",
   "execution_count": 34,
   "metadata": {},
   "outputs": [
    {
     "data": {
      "text/html": [
       "<pre style=\"white-space:pre;overflow-x:auto;line-height:normal;font-family:Menlo,'DejaVu Sans Mono',consolas,'Courier New',monospace\"><span style=\"color: #008080; text-decoration-color: #008080; font-weight: bold\">USER</span><span style=\"color: #008080; text-decoration-color: #008080\">: My name is Venkat, how about you?</span>\n",
       "</pre>\n"
      ],
      "text/plain": [
       "\u001b[1;36mUSER\u001b[0m\u001b[36m: My name is Venkat, how about you?\u001b[0m\n"
      ]
     },
     "metadata": {},
     "output_type": "display_data"
    },
    {
     "data": {
      "text/html": [
       "<pre style=\"white-space:pre;overflow-x:auto;line-height:normal;font-family:Menlo,'DejaVu Sans Mono',consolas,'Courier New',monospace\"><span style=\"color: #800000; text-decoration-color: #800000; background-color: #c0c0c0; font-weight: bold; text-decoration: underline\">AI: Thought: This is a simple question about my name. I can respond directly.</span>\n",
       "\n",
       "<span style=\"color: #800000; text-decoration-color: #800000; background-color: #c0c0c0; font-weight: bold; text-decoration: underline\">Answer: I am a large language model, I don't have a name. You can call me whatever you like.</span>\n",
       "\n",
       "</pre>\n"
      ],
      "text/plain": [
       "\u001b[1;4;5;31;47mAI\u001b[0m\u001b[1;4;5;31;47m: Thought: This is a simple question about my name. I can respond directly.\u001b[0m\n",
       "\n",
       "\u001b[1;4;5;31;47mAnswer: I am a large language model, I don't have a name. You can call me whatever you like.\u001b[0m\n",
       "\n"
      ]
     },
     "metadata": {},
     "output_type": "display_data"
    }
   ],
   "source": [
    "# one more example\n",
    "user_prompt = \"My name is Venkat, how about you?\"\n",
    "_ = agent1(user_prompt)"
   ]
  },
  {
   "cell_type": "code",
   "execution_count": 35,
   "metadata": {},
   "outputs": [],
   "source": [
    "# New effective prompt for the ReAct Agent\n",
    "reference_prompt = \"\"\"You're a Data scientist. You have the ability to run actions in the database to get more information to provide better answers.\n",
    "When the user asks the question, you should first think about the question and how can you leverage the available actions to resolve the query and assist the user.\n",
    "If the query requires an action, you should run the action and PAUSE to observe the results. If the query doesn't require any action, you can directly output the ANSWER.\n",
    "You cycle through THOUGHT, ACTION, PAUSE, OBSERVATION. And this loop will continue until you have a satisfactory answer to the user's query.\n",
    "\n",
    "Today's date is 2025-Mar-10\n",
    "\n",
    "Use following format\n",
    "THOUGHT: Describe your thoughts about the question you have been asked.\n",
    "ACTION: run one of the actions available to you - then return PAUSE.\n",
    "PAUSE\n",
    "OBSERVATION: will be the result of running those actions.\n",
    "\n",
    "Available actions\n",
    "get_orders_by_timeline: E.g. get_orders_by_timeline: \"2025-02-08\", \"2025-03-10\" Returns the orders placed within the specified time range.\n",
    "get_total_bill_for_month: E.g. get_total_bill_for_month: 2023, 8 Returns the total bill amount for the specified year and month.\n",
    "get_user_count: E.g. get_user_count: null Returns the total number of users.\n",
    "get_order_status_count: E.g. get_order_status_count: null Returns the count of orders by their processing status.\n",
    "\n",
    "Example session:\n",
    "QUESTION: I wonder how my products are performing in market for last month.\n",
    "THOUGHT: I should get the orders placed within the last month to understand the products performance.\n",
    "ACTION: get_orders_by_timeline: \"2025-02-08\", \"2025-03-10\"\n",
    "PAUSE\n",
    "\n",
    "You will be called again with something like this:\n",
    "OBSERVATION: [['Headphones', 46], ['Laptop', 40], ['Smartphone', 50], ['Smartwatch', 53], ['Tablet', 47]]\n",
    "\n",
    "Then you loop again:\n",
    "THOUGHT: I should get the total bill amount for the last month which is Feruary 2025 to understand the revenue.\n",
    "ACTION: get_total_bill_for_month: 2025, 2\n",
    "PAUSE\n",
    "\n",
    "You'll then be called again with something like this:\n",
    "OBSERVATION: 5000.00\n",
    "\n",
    "You then output something like this:\n",
    "ANSWER: <Short summary of the products performance and revenue for the last month and any other insights as a data scientist.>\n",
    "\"\"\""
   ]
  },
  {
   "cell_type": "code",
   "execution_count": 36,
   "metadata": {},
   "outputs": [],
   "source": [
    "# First let's start experimenting with gemini API\n",
    "data_scientist = ChatCompletion(LANGUAGE_MODEL)"
   ]
  },
  {
   "cell_type": "code",
   "execution_count": 37,
   "metadata": {},
   "outputs": [
    {
     "name": "stdout",
     "output_type": "stream",
     "text": [
      "You're a Data scientist. You have the ability to run actions in the database to get more information to provide better answers.\n",
      "When the user asks the question, you should first think about the question and how can you leverage the available actions to resolve the query and assist the user.\n",
      "If the query requires an action, you should run the action and PAUSE to observe the results. If the query doesn't require any action, you can directly output the ANSWER.\n",
      "You cycle through THOUGHT, ACTION, PAUSE, OBSERVATION. And this loop will continue until you have a satisfactory answer to the user's query.\n",
      "\n",
      "Today's date is 2025-Mar-10\n",
      "\n",
      "Use following format\n",
      "THOUGHT: Describe your thoughts about the question you have been asked.\n",
      "ACTION: run one of the actions available to you - then return PAUSE.\n",
      "PAUSE\n",
      "OBSERVATION: will be the result of running those actions.\n",
      "\n",
      "Available actions\n",
      "get_orders_by_timeline: E.g. get_orders_by_timeline: \"2025-02-08\", \"2025-03-10\" Returns the orders placed within the specified time range.\n",
      "get_total_bill_for_month: E.g. get_total_bill_for_month: 2023, 8 Returns the total bill amount for the specified year and month.\n",
      "get_user_count: E.g. get_user_count: null Returns the total number of users.\n",
      "get_order_status_count: E.g. get_order_status_count: null Returns the count of orders by their processing status.\n",
      "\n",
      "Example session:\n",
      "QUESTION: I wonder how my products are performing in market for last month.\n",
      "THOUGHT: I should get the orders placed within the last month to understand the products performance.\n",
      "ACTION: get_orders_by_timeline: \"2025-02-08\", \"2025-03-10\"\n",
      "PAUSE\n",
      "\n",
      "You will be called again with something like this:\n",
      "OBSERVATION: [['Headphones', 46], ['Laptop', 40], ['Smartphone', 50], ['Smartwatch', 53], ['Tablet', 47]]\n",
      "\n",
      "Then you loop again:\n",
      "THOUGHT: I should get the total bill amount for the last month which is Feruary 2025 to understand the revenue.\n",
      "ACTION: get_total_bill_for_month: 2025, 2\n",
      "PAUSE\n",
      "\n",
      "You'll then be called again with something like this:\n",
      "OBSERVATION: 5000.00\n",
      "\n",
      "You then output something like this:\n",
      "ANSWER: <Short summary of the products performance and revenue for the last month and any other insights as a data scientist.>\n",
      "\n",
      "\n",
      "QUESTION: I want to see how is the revenue growth this month compared to last month\n"
     ]
    }
   ],
   "source": [
    "user_prompt = \"I want to see how is the revenue growth this month compared to last month\"\n",
    "new_prompt = f\"{reference_prompt}\\n\\nQUESTION: {user_prompt}\"\n",
    "print(new_prompt)"
   ]
  },
  {
   "cell_type": "code",
   "execution_count": 38,
   "metadata": {},
   "outputs": [
    {
     "data": {
      "text/html": [
       "<pre style=\"white-space:pre;overflow-x:auto;line-height:normal;font-family:Menlo,'DejaVu Sans Mono',consolas,'Courier New',monospace\"><span style=\"color: #008080; text-decoration-color: #008080; font-weight: bold\">USER</span><span style=\"color: #008080; text-decoration-color: #008080\">: You're a Data scientist. You have the ability to run actions in the database to get more information to </span>\n",
       "<span style=\"color: #008080; text-decoration-color: #008080\">provide better answers.</span>\n",
       "<span style=\"color: #008080; text-decoration-color: #008080\">When the user asks the question, you should first think about the question and how can you leverage the available </span>\n",
       "<span style=\"color: #008080; text-decoration-color: #008080\">actions to resolve the query and assist the user.</span>\n",
       "<span style=\"color: #008080; text-decoration-color: #008080\">If the query requires an action, you should run the action and PAUSE to observe the results. If the query doesn't </span>\n",
       "<span style=\"color: #008080; text-decoration-color: #008080\">require any action, you can directly output the ANSWER.</span>\n",
       "<span style=\"color: #008080; text-decoration-color: #008080\">You cycle through THOUGHT, ACTION, PAUSE, OBSERVATION. And this loop will continue until you have a satisfactory </span>\n",
       "<span style=\"color: #008080; text-decoration-color: #008080\">answer to the user's query.</span>\n",
       "\n",
       "<span style=\"color: #008080; text-decoration-color: #008080\">Today's date is </span><span style=\"color: #008080; text-decoration-color: #008080; font-weight: bold\">2025</span><span style=\"color: #008080; text-decoration-color: #008080\">-Mar-</span><span style=\"color: #008080; text-decoration-color: #008080; font-weight: bold\">10</span>\n",
       "\n",
       "<span style=\"color: #008080; text-decoration-color: #008080\">Use following format</span>\n",
       "<span style=\"color: #008080; text-decoration-color: #008080\">THOUGHT: Describe your thoughts about the question you have been asked.</span>\n",
       "<span style=\"color: #008080; text-decoration-color: #008080\">ACTION: run one of the actions available to you - then return PAUSE.</span>\n",
       "<span style=\"color: #008080; text-decoration-color: #008080\">PAUSE</span>\n",
       "<span style=\"color: #008080; text-decoration-color: #008080\">OBSERVATION: will be the result of running those actions.</span>\n",
       "\n",
       "<span style=\"color: #008080; text-decoration-color: #008080\">Available actions</span>\n",
       "<span style=\"color: #008080; text-decoration-color: #008080\">get_orders_by_timeline: E.g. get_orders_by_timeline: </span><span style=\"color: #008000; text-decoration-color: #008000\">\"2025-02-08\"</span><span style=\"color: #008080; text-decoration-color: #008080\">, </span><span style=\"color: #008000; text-decoration-color: #008000\">\"2025-03-10\"</span><span style=\"color: #008080; text-decoration-color: #008080\"> Returns the orders placed within </span>\n",
       "<span style=\"color: #008080; text-decoration-color: #008080\">the specified time range.</span>\n",
       "<span style=\"color: #008080; text-decoration-color: #008080\">get_total_bill_for_month: E.g. get_total_bill_for_month: </span><span style=\"color: #008080; text-decoration-color: #008080; font-weight: bold\">2023</span><span style=\"color: #008080; text-decoration-color: #008080\">, </span><span style=\"color: #008080; text-decoration-color: #008080; font-weight: bold\">8</span><span style=\"color: #008080; text-decoration-color: #008080\"> Returns the total bill amount for the specified </span>\n",
       "<span style=\"color: #008080; text-decoration-color: #008080\">year and month.</span>\n",
       "<span style=\"color: #008080; text-decoration-color: #008080\">get_user_count: E.g. get_user_count: null Returns the total number of users.</span>\n",
       "<span style=\"color: #008080; text-decoration-color: #008080\">get_order_status_count: E.g. get_order_status_count: null Returns the count of orders by their processing status.</span>\n",
       "\n",
       "<span style=\"color: #008080; text-decoration-color: #008080\">Example session:</span>\n",
       "<span style=\"color: #008080; text-decoration-color: #008080\">QUESTION: I wonder how my products are performing in market for last month.</span>\n",
       "<span style=\"color: #008080; text-decoration-color: #008080\">THOUGHT: I should get the orders placed within the last month to understand the products performance.</span>\n",
       "<span style=\"color: #008080; text-decoration-color: #008080\">ACTION: get_orders_by_timeline: </span><span style=\"color: #008000; text-decoration-color: #008000\">\"2025-02-08\"</span><span style=\"color: #008080; text-decoration-color: #008080\">, </span><span style=\"color: #008000; text-decoration-color: #008000\">\"2025-03-10\"</span>\n",
       "<span style=\"color: #008080; text-decoration-color: #008080\">PAUSE</span>\n",
       "\n",
       "<span style=\"color: #008080; text-decoration-color: #008080\">You will be called again with something like this:</span>\n",
       "<span style=\"color: #008080; text-decoration-color: #008080\">OBSERVATION: </span><span style=\"color: #008080; text-decoration-color: #008080; font-weight: bold\">[[</span><span style=\"color: #008000; text-decoration-color: #008000\">'Headphones'</span><span style=\"color: #008080; text-decoration-color: #008080\">, </span><span style=\"color: #008080; text-decoration-color: #008080; font-weight: bold\">46</span><span style=\"color: #008080; text-decoration-color: #008080; font-weight: bold\">]</span><span style=\"color: #008080; text-decoration-color: #008080\">, </span><span style=\"color: #008080; text-decoration-color: #008080; font-weight: bold\">[</span><span style=\"color: #008000; text-decoration-color: #008000\">'Laptop'</span><span style=\"color: #008080; text-decoration-color: #008080\">, </span><span style=\"color: #008080; text-decoration-color: #008080; font-weight: bold\">40</span><span style=\"color: #008080; text-decoration-color: #008080; font-weight: bold\">]</span><span style=\"color: #008080; text-decoration-color: #008080\">, </span><span style=\"color: #008080; text-decoration-color: #008080; font-weight: bold\">[</span><span style=\"color: #008000; text-decoration-color: #008000\">'Smartphone'</span><span style=\"color: #008080; text-decoration-color: #008080\">, </span><span style=\"color: #008080; text-decoration-color: #008080; font-weight: bold\">50</span><span style=\"color: #008080; text-decoration-color: #008080; font-weight: bold\">]</span><span style=\"color: #008080; text-decoration-color: #008080\">, </span><span style=\"color: #008080; text-decoration-color: #008080; font-weight: bold\">[</span><span style=\"color: #008000; text-decoration-color: #008000\">'Smartwatch'</span><span style=\"color: #008080; text-decoration-color: #008080\">, </span><span style=\"color: #008080; text-decoration-color: #008080; font-weight: bold\">53</span><span style=\"color: #008080; text-decoration-color: #008080; font-weight: bold\">]</span><span style=\"color: #008080; text-decoration-color: #008080\">, </span><span style=\"color: #008080; text-decoration-color: #008080; font-weight: bold\">[</span><span style=\"color: #008000; text-decoration-color: #008000\">'Tablet'</span><span style=\"color: #008080; text-decoration-color: #008080\">, </span><span style=\"color: #008080; text-decoration-color: #008080; font-weight: bold\">47</span><span style=\"color: #008080; text-decoration-color: #008080; font-weight: bold\">]]</span>\n",
       "\n",
       "<span style=\"color: #008080; text-decoration-color: #008080\">Then you loop again:</span>\n",
       "<span style=\"color: #008080; text-decoration-color: #008080\">THOUGHT: I should get the total bill amount for the last month which is Feruary </span><span style=\"color: #008080; text-decoration-color: #008080; font-weight: bold\">2025</span><span style=\"color: #008080; text-decoration-color: #008080\"> to understand the revenue.</span>\n",
       "<span style=\"color: #008080; text-decoration-color: #008080\">ACTION: get_total_bill_for_month: </span><span style=\"color: #008080; text-decoration-color: #008080; font-weight: bold\">2025</span><span style=\"color: #008080; text-decoration-color: #008080\">, </span><span style=\"color: #008080; text-decoration-color: #008080; font-weight: bold\">2</span>\n",
       "<span style=\"color: #008080; text-decoration-color: #008080\">PAUSE</span>\n",
       "\n",
       "<span style=\"color: #008080; text-decoration-color: #008080\">You'll then be called again with something like this:</span>\n",
       "<span style=\"color: #008080; text-decoration-color: #008080\">OBSERVATION: </span><span style=\"color: #008080; text-decoration-color: #008080; font-weight: bold\">5000.00</span>\n",
       "\n",
       "<span style=\"color: #008080; text-decoration-color: #008080\">You then output something like this:</span>\n",
       "<span style=\"color: #008080; text-decoration-color: #008080\">ANSWER: </span><span style=\"color: #008080; text-decoration-color: #008080; font-weight: bold\">&lt;</span><span style=\"color: #ff00ff; text-decoration-color: #ff00ff; font-weight: bold\">Short</span><span style=\"color: #000000; text-decoration-color: #000000\"> summary of the products performance and revenue for the last month and any other insights as a data </span>\n",
       "<span style=\"color: #000000; text-decoration-color: #000000\">scientist.</span><span style=\"color: #008080; text-decoration-color: #008080; font-weight: bold\">&gt;</span>\n",
       "\n",
       "\n",
       "<span style=\"color: #008080; text-decoration-color: #008080\">QUESTION: I want to see how is the revenue growth this month compared to last month</span>\n",
       "</pre>\n"
      ],
      "text/plain": [
       "\u001b[1;36mUSER\u001b[0m\u001b[36m: You're a Data scientist. You have the ability to run actions in the database to get more information to \u001b[0m\n",
       "\u001b[36mprovide better answers.\u001b[0m\n",
       "\u001b[36mWhen the user asks the question, you should first think about the question and how can you leverage the available \u001b[0m\n",
       "\u001b[36mactions to resolve the query and assist the user.\u001b[0m\n",
       "\u001b[36mIf the query requires an action, you should run the action and PAUSE to observe the results. If the query doesn't \u001b[0m\n",
       "\u001b[36mrequire any action, you can directly output the ANSWER.\u001b[0m\n",
       "\u001b[36mYou cycle through THOUGHT, ACTION, PAUSE, OBSERVATION. And this loop will continue until you have a satisfactory \u001b[0m\n",
       "\u001b[36manswer to the user's query.\u001b[0m\n",
       "\n",
       "\u001b[36mToday's date is \u001b[0m\u001b[1;36m2025\u001b[0m\u001b[36m-Mar-\u001b[0m\u001b[1;36m10\u001b[0m\n",
       "\n",
       "\u001b[36mUse following format\u001b[0m\n",
       "\u001b[36mTHOUGHT: Describe your thoughts about the question you have been asked.\u001b[0m\n",
       "\u001b[36mACTION: run one of the actions available to you - then return PAUSE.\u001b[0m\n",
       "\u001b[36mPAUSE\u001b[0m\n",
       "\u001b[36mOBSERVATION: will be the result of running those actions.\u001b[0m\n",
       "\n",
       "\u001b[36mAvailable actions\u001b[0m\n",
       "\u001b[36mget_orders_by_timeline: E.g. get_orders_by_timeline: \u001b[0m\u001b[32m\"2025-02-08\"\u001b[0m\u001b[36m, \u001b[0m\u001b[32m\"2025-03-10\"\u001b[0m\u001b[36m Returns the orders placed within \u001b[0m\n",
       "\u001b[36mthe specified time range.\u001b[0m\n",
       "\u001b[36mget_total_bill_for_month: E.g. get_total_bill_for_month: \u001b[0m\u001b[1;36m2023\u001b[0m\u001b[36m, \u001b[0m\u001b[1;36m8\u001b[0m\u001b[36m Returns the total bill amount for the specified \u001b[0m\n",
       "\u001b[36myear and month.\u001b[0m\n",
       "\u001b[36mget_user_count: E.g. get_user_count: null Returns the total number of users.\u001b[0m\n",
       "\u001b[36mget_order_status_count: E.g. get_order_status_count: null Returns the count of orders by their processing status.\u001b[0m\n",
       "\n",
       "\u001b[36mExample session:\u001b[0m\n",
       "\u001b[36mQUESTION: I wonder how my products are performing in market for last month.\u001b[0m\n",
       "\u001b[36mTHOUGHT: I should get the orders placed within the last month to understand the products performance.\u001b[0m\n",
       "\u001b[36mACTION: get_orders_by_timeline: \u001b[0m\u001b[32m\"2025-02-08\"\u001b[0m\u001b[36m, \u001b[0m\u001b[32m\"2025-03-10\"\u001b[0m\n",
       "\u001b[36mPAUSE\u001b[0m\n",
       "\n",
       "\u001b[36mYou will be called again with something like this:\u001b[0m\n",
       "\u001b[36mOBSERVATION: \u001b[0m\u001b[1;36m[\u001b[0m\u001b[1;36m[\u001b[0m\u001b[32m'Headphones'\u001b[0m\u001b[36m, \u001b[0m\u001b[1;36m46\u001b[0m\u001b[1;36m]\u001b[0m\u001b[36m, \u001b[0m\u001b[1;36m[\u001b[0m\u001b[32m'Laptop'\u001b[0m\u001b[36m, \u001b[0m\u001b[1;36m40\u001b[0m\u001b[1;36m]\u001b[0m\u001b[36m, \u001b[0m\u001b[1;36m[\u001b[0m\u001b[32m'Smartphone'\u001b[0m\u001b[36m, \u001b[0m\u001b[1;36m50\u001b[0m\u001b[1;36m]\u001b[0m\u001b[36m, \u001b[0m\u001b[1;36m[\u001b[0m\u001b[32m'Smartwatch'\u001b[0m\u001b[36m, \u001b[0m\u001b[1;36m53\u001b[0m\u001b[1;36m]\u001b[0m\u001b[36m, \u001b[0m\u001b[1;36m[\u001b[0m\u001b[32m'Tablet'\u001b[0m\u001b[36m, \u001b[0m\u001b[1;36m47\u001b[0m\u001b[1;36m]\u001b[0m\u001b[1;36m]\u001b[0m\n",
       "\n",
       "\u001b[36mThen you loop again:\u001b[0m\n",
       "\u001b[36mTHOUGHT: I should get the total bill amount for the last month which is Feruary \u001b[0m\u001b[1;36m2025\u001b[0m\u001b[36m to understand the revenue.\u001b[0m\n",
       "\u001b[36mACTION: get_total_bill_for_month: \u001b[0m\u001b[1;36m2025\u001b[0m\u001b[36m, \u001b[0m\u001b[1;36m2\u001b[0m\n",
       "\u001b[36mPAUSE\u001b[0m\n",
       "\n",
       "\u001b[36mYou'll then be called again with something like this:\u001b[0m\n",
       "\u001b[36mOBSERVATION: \u001b[0m\u001b[1;36m5000.00\u001b[0m\n",
       "\n",
       "\u001b[36mYou then output something like this:\u001b[0m\n",
       "\u001b[36mANSWER: \u001b[0m\u001b[1;36m<\u001b[0m\u001b[1;95mShort\u001b[0m\u001b[39m summary of the products performance and revenue for the last month and any other insights as a data \u001b[0m\n",
       "\u001b[39mscientist.\u001b[0m\u001b[1;36m>\u001b[0m\n",
       "\n",
       "\n",
       "\u001b[36mQUESTION: I want to see how is the revenue growth this month compared to last month\u001b[0m\n"
      ]
     },
     "metadata": {},
     "output_type": "display_data"
    },
    {
     "data": {
      "text/html": [
       "<pre style=\"white-space:pre;overflow-x:auto;line-height:normal;font-family:Menlo,'DejaVu Sans Mono',consolas,'Courier New',monospace\"><span style=\"color: #800000; text-decoration-color: #800000; background-color: #c0c0c0; font-weight: bold; text-decoration: underline\">AI: THOUGHT: To compare the revenue growth, I need to find the total bill amount for the current month (March </span><span style=\"color: #008080; text-decoration-color: #008080; background-color: #c0c0c0; font-weight: bold; text-decoration: underline\">2025</span><span style=\"color: #800000; text-decoration-color: #800000; background-color: #c0c0c0; font-weight: bold; text-decoration: underline\">)</span>\n",
       "<span style=\"color: #800000; text-decoration-color: #800000; background-color: #c0c0c0; font-weight: bold; text-decoration: underline\">and the previous month (February </span><span style=\"color: #008080; text-decoration-color: #008080; background-color: #c0c0c0; font-weight: bold; text-decoration: underline\">2025</span><span style=\"color: #800000; text-decoration-color: #800000; background-color: #c0c0c0; font-weight: bold; text-decoration: underline\">).</span>\n",
       "<span style=\"color: #800000; text-decoration-color: #800000; background-color: #c0c0c0; font-weight: bold; text-decoration: underline\">ACTION: get_total_bill_for_month: </span><span style=\"color: #008080; text-decoration-color: #008080; background-color: #c0c0c0; font-weight: bold; text-decoration: underline\">2025</span><span style=\"color: #800000; text-decoration-color: #800000; background-color: #c0c0c0; font-weight: bold; text-decoration: underline\">, </span><span style=\"color: #008080; text-decoration-color: #008080; background-color: #c0c0c0; font-weight: bold; text-decoration: underline\">3</span>\n",
       "<span style=\"color: #800000; text-decoration-color: #800000; background-color: #c0c0c0; font-weight: bold; text-decoration: underline\">PAUSE</span>\n",
       "\n",
       "</pre>\n"
      ],
      "text/plain": [
       "\u001b[1;4;5;31;47mAI\u001b[0m\u001b[1;4;5;31;47m: THOUGHT: To compare the revenue growth, I need to find the total bill amount for the current month \u001b[0m\u001b[1;4;5;31;47m(\u001b[0m\u001b[1;4;5;31;47mMarch \u001b[0m\u001b[1;4;5;36;47m2025\u001b[0m\u001b[1;4;5;31;47m)\u001b[0m\n",
       "\u001b[1;4;5;31;47mand the previous month \u001b[0m\u001b[1;4;5;31;47m(\u001b[0m\u001b[1;4;5;31;47mFebruary \u001b[0m\u001b[1;4;5;36;47m2025\u001b[0m\u001b[1;4;5;31;47m)\u001b[0m\u001b[1;4;5;31;47m.\u001b[0m\n",
       "\u001b[1;4;5;31;47mACTION: get_total_bill_for_month: \u001b[0m\u001b[1;4;5;36;47m2025\u001b[0m\u001b[1;4;5;31;47m, \u001b[0m\u001b[1;4;5;36;47m3\u001b[0m\n",
       "\u001b[1;4;5;31;47mPAUSE\u001b[0m\n",
       "\n"
      ]
     },
     "metadata": {},
     "output_type": "display_data"
    }
   ],
   "source": [
    "# Start the ReAct Agent\n",
    "_ = data_scientist(new_prompt)"
   ]
  },
  {
   "cell_type": "code",
   "execution_count": 39,
   "metadata": {},
   "outputs": [
    {
     "name": "stdout",
     "output_type": "stream",
     "text": [
      "6394.61\n"
     ]
    },
    {
     "data": {
      "text/html": [
       "<pre style=\"white-space:pre;overflow-x:auto;line-height:normal;font-family:Menlo,'DejaVu Sans Mono',consolas,'Courier New',monospace\"><span style=\"color: #008080; text-decoration-color: #008080; font-weight: bold\">USER</span><span style=\"color: #008080; text-decoration-color: #008080\">: OBSERVATION: </span><span style=\"color: #008080; text-decoration-color: #008080; font-weight: bold\">6394.61</span>\n",
       "</pre>\n"
      ],
      "text/plain": [
       "\u001b[1;36mUSER\u001b[0m\u001b[36m: OBSERVATION: \u001b[0m\u001b[1;36m6394.61\u001b[0m\n"
      ]
     },
     "metadata": {},
     "output_type": "display_data"
    },
    {
     "data": {
      "text/html": [
       "<pre style=\"white-space:pre;overflow-x:auto;line-height:normal;font-family:Menlo,'DejaVu Sans Mono',consolas,'Courier New',monospace\"><span style=\"color: #800000; text-decoration-color: #800000; background-color: #c0c0c0; font-weight: bold; text-decoration: underline\">AI: THOUGHT: Now that I have the total bill for March </span><span style=\"color: #008080; text-decoration-color: #008080; background-color: #c0c0c0; font-weight: bold; text-decoration: underline\">2025</span><span style=\"color: #800000; text-decoration-color: #800000; background-color: #c0c0c0; font-weight: bold; text-decoration: underline\">, I need to get the total bill for February </span><span style=\"color: #008080; text-decoration-color: #008080; background-color: #c0c0c0; font-weight: bold; text-decoration: underline\">2025</span><span style=\"color: #800000; text-decoration-color: #800000; background-color: #c0c0c0; font-weight: bold; text-decoration: underline\"> to </span>\n",
       "<span style=\"color: #800000; text-decoration-color: #800000; background-color: #c0c0c0; font-weight: bold; text-decoration: underline\">compare the revenue growth.</span>\n",
       "<span style=\"color: #800000; text-decoration-color: #800000; background-color: #c0c0c0; font-weight: bold; text-decoration: underline\">ACTION: get_total_bill_for_month: </span><span style=\"color: #008080; text-decoration-color: #008080; background-color: #c0c0c0; font-weight: bold; text-decoration: underline\">2025</span><span style=\"color: #800000; text-decoration-color: #800000; background-color: #c0c0c0; font-weight: bold; text-decoration: underline\">, </span><span style=\"color: #008080; text-decoration-color: #008080; background-color: #c0c0c0; font-weight: bold; text-decoration: underline\">2</span>\n",
       "<span style=\"color: #800000; text-decoration-color: #800000; background-color: #c0c0c0; font-weight: bold; text-decoration: underline\">PAUSE</span>\n",
       "\n",
       "</pre>\n"
      ],
      "text/plain": [
       "\u001b[1;4;5;31;47mAI\u001b[0m\u001b[1;4;5;31;47m: THOUGHT: Now that I have the total bill for March \u001b[0m\u001b[1;4;5;36;47m2025\u001b[0m\u001b[1;4;5;31;47m, I need to get the total bill for February \u001b[0m\u001b[1;4;5;36;47m2025\u001b[0m\u001b[1;4;5;31;47m to \u001b[0m\n",
       "\u001b[1;4;5;31;47mcompare the revenue growth.\u001b[0m\n",
       "\u001b[1;4;5;31;47mACTION: get_total_bill_for_month: \u001b[0m\u001b[1;4;5;36;47m2025\u001b[0m\u001b[1;4;5;31;47m, \u001b[0m\u001b[1;4;5;36;47m2\u001b[0m\n",
       "\u001b[1;4;5;31;47mPAUSE\u001b[0m\n",
       "\n"
      ]
     },
     "metadata": {},
     "output_type": "display_data"
    }
   ],
   "source": [
    "bill1 = get_total_bill_for_month(2025, 3)\n",
    "print(bill1)\n",
    "_ = data_scientist(f\"OBSERVATION: {bill1}\")"
   ]
  },
  {
   "cell_type": "code",
   "execution_count": 40,
   "metadata": {},
   "outputs": [
    {
     "name": "stdout",
     "output_type": "stream",
     "text": [
      "3518.93\n"
     ]
    },
    {
     "data": {
      "text/html": [
       "<pre style=\"white-space:pre;overflow-x:auto;line-height:normal;font-family:Menlo,'DejaVu Sans Mono',consolas,'Courier New',monospace\"><span style=\"color: #008080; text-decoration-color: #008080; font-weight: bold\">USER</span><span style=\"color: #008080; text-decoration-color: #008080\">: OBSERVATION: </span><span style=\"color: #008080; text-decoration-color: #008080; font-weight: bold\">3518.93</span>\n",
       "</pre>\n"
      ],
      "text/plain": [
       "\u001b[1;36mUSER\u001b[0m\u001b[36m: OBSERVATION: \u001b[0m\u001b[1;36m3518.93\u001b[0m\n"
      ]
     },
     "metadata": {},
     "output_type": "display_data"
    },
    {
     "data": {
      "text/html": [
       "<pre style=\"white-space:pre;overflow-x:auto;line-height:normal;font-family:Menlo,'DejaVu Sans Mono',consolas,'Courier New',monospace\"><span style=\"color: #800000; text-decoration-color: #800000; background-color: #c0c0c0; font-weight: bold; text-decoration: underline\">AI: THOUGHT: I have the total bill amounts for both March </span><span style=\"color: #008080; text-decoration-color: #008080; background-color: #c0c0c0; font-weight: bold; text-decoration: underline\">2025</span><span style=\"color: #800000; text-decoration-color: #800000; background-color: #c0c0c0; font-weight: bold; text-decoration: underline\"> and February </span><span style=\"color: #008080; text-decoration-color: #008080; background-color: #c0c0c0; font-weight: bold; text-decoration: underline\">2025</span><span style=\"color: #800000; text-decoration-color: #800000; background-color: #c0c0c0; font-weight: bold; text-decoration: underline\">. Now I can calculate the revenue </span>\n",
       "<span style=\"color: #800000; text-decoration-color: #800000; background-color: #c0c0c0; font-weight: bold; text-decoration: underline\">growth.</span>\n",
       "<span style=\"color: #800000; text-decoration-color: #800000; background-color: #c0c0c0; font-weight: bold; text-decoration: underline\">ANSWER: The total bill amount for March </span><span style=\"color: #008080; text-decoration-color: #008080; background-color: #c0c0c0; font-weight: bold; text-decoration: underline\">2025</span><span style=\"color: #800000; text-decoration-color: #800000; background-color: #c0c0c0; font-weight: bold; text-decoration: underline\"> is $</span><span style=\"color: #008080; text-decoration-color: #008080; background-color: #c0c0c0; font-weight: bold; text-decoration: underline\">6394.61</span><span style=\"color: #800000; text-decoration-color: #800000; background-color: #c0c0c0; font-weight: bold; text-decoration: underline\">, and for February </span><span style=\"color: #008080; text-decoration-color: #008080; background-color: #c0c0c0; font-weight: bold; text-decoration: underline\">2025</span><span style=\"color: #800000; text-decoration-color: #800000; background-color: #c0c0c0; font-weight: bold; text-decoration: underline\"> it was $</span><span style=\"color: #008080; text-decoration-color: #008080; background-color: #c0c0c0; font-weight: bold; text-decoration: underline\">3518.93</span><span style=\"color: #800000; text-decoration-color: #800000; background-color: #c0c0c0; font-weight: bold; text-decoration: underline\">. This represents a </span>\n",
       "<span style=\"color: #800000; text-decoration-color: #800000; background-color: #c0c0c0; font-weight: bold; text-decoration: underline\">significant revenue growth from February to March. The revenue increased by $</span><span style=\"color: #008080; text-decoration-color: #008080; background-color: #c0c0c0; font-weight: bold; text-decoration: underline\">2875.68</span><span style=\"color: #800000; text-decoration-color: #800000; background-color: #c0c0c0; font-weight: bold; text-decoration: underline\">, which is an </span><span style=\"color: #008080; text-decoration-color: #008080; background-color: #c0c0c0; font-weight: bold; text-decoration: underline\">81.71</span><span style=\"color: #800000; text-decoration-color: #800000; background-color: #c0c0c0; font-weight: bold; text-decoration: underline\">% increase.</span>\n",
       "\n",
       "</pre>\n"
      ],
      "text/plain": [
       "\u001b[1;4;5;31;47mAI\u001b[0m\u001b[1;4;5;31;47m: THOUGHT: I have the total bill amounts for both March \u001b[0m\u001b[1;4;5;36;47m2025\u001b[0m\u001b[1;4;5;31;47m and February \u001b[0m\u001b[1;4;5;36;47m2025\u001b[0m\u001b[1;4;5;31;47m. Now I can calculate the revenue \u001b[0m\n",
       "\u001b[1;4;5;31;47mgrowth.\u001b[0m\n",
       "\u001b[1;4;5;31;47mANSWER: The total bill amount for March \u001b[0m\u001b[1;4;5;36;47m2025\u001b[0m\u001b[1;4;5;31;47m is $\u001b[0m\u001b[1;4;5;36;47m6394.61\u001b[0m\u001b[1;4;5;31;47m, and for February \u001b[0m\u001b[1;4;5;36;47m2025\u001b[0m\u001b[1;4;5;31;47m it was $\u001b[0m\u001b[1;4;5;36;47m3518.93\u001b[0m\u001b[1;4;5;31;47m. This represents a \u001b[0m\n",
       "\u001b[1;4;5;31;47msignificant revenue growth from February to March. The revenue increased by $\u001b[0m\u001b[1;4;5;36;47m2875.68\u001b[0m\u001b[1;4;5;31;47m, which is an \u001b[0m\u001b[1;4;5;36;47m81.71\u001b[0m\u001b[1;4;5;31;47m% increase.\u001b[0m\n",
       "\n"
      ]
     },
     "metadata": {},
     "output_type": "display_data"
    }
   ],
   "source": [
    "bill2 = get_total_bill_for_month(2025, 2)\n",
    "print(bill2)\n",
    "_ = data_scientist(f\"OBSERVATION: {bill2}\")"
   ]
  },
  {
   "cell_type": "code",
   "execution_count": 41,
   "metadata": {},
   "outputs": [
    {
     "data": {
      "text/html": [
       "<pre style=\"white-space:pre;overflow-x:auto;line-height:normal;font-family:Menlo,'DejaVu Sans Mono',consolas,'Courier New',monospace\"><span style=\"color: #008080; text-decoration-color: #008080; font-weight: bold\">USER</span><span style=\"color: #008080; text-decoration-color: #008080\">: QUESTION: I want to see how many orders were placed this month and also want to get some idea of weather they</span>\n",
       "<span style=\"color: #008080; text-decoration-color: #008080\">are processed or not, so that i can allocate some more budget for developmet to fix the stuck orders</span>\n",
       "</pre>\n"
      ],
      "text/plain": [
       "\u001b[1;36mUSER\u001b[0m\u001b[36m: QUESTION: I want to see how many orders were placed this month and also want to get some idea of weather they\u001b[0m\n",
       "\u001b[36mare processed or not, so that i can allocate some more budget for developmet to fix the stuck orders\u001b[0m\n"
      ]
     },
     "metadata": {},
     "output_type": "display_data"
    },
    {
     "data": {
      "text/html": [
       "<pre style=\"white-space:pre;overflow-x:auto;line-height:normal;font-family:Menlo,'DejaVu Sans Mono',consolas,'Courier New',monospace\"><span style=\"color: #800000; text-decoration-color: #800000; background-color: #c0c0c0; font-weight: bold; text-decoration: underline\">AI: THOUGHT: To understand the order volume and processing status, I need to first get the orders placed this month</span>\n",
       "<span style=\"color: #800000; text-decoration-color: #800000; background-color: #c0c0c0; font-weight: bold; text-decoration: underline\">(March </span><span style=\"color: #008080; text-decoration-color: #008080; background-color: #c0c0c0; font-weight: bold; text-decoration: underline\">2025</span><span style=\"color: #800000; text-decoration-color: #800000; background-color: #c0c0c0; font-weight: bold; text-decoration: underline\">) and then get the count of orders by their processing status.</span>\n",
       "<span style=\"color: #800000; text-decoration-color: #800000; background-color: #c0c0c0; font-weight: bold; text-decoration: underline\">ACTION: get_orders_by_timeline: </span><span style=\"color: #008000; text-decoration-color: #008000; background-color: #c0c0c0; text-decoration: underline\">\"2025-03-01\"</span><span style=\"color: #800000; text-decoration-color: #800000; background-color: #c0c0c0; font-weight: bold; text-decoration: underline\">, </span><span style=\"color: #008000; text-decoration-color: #008000; background-color: #c0c0c0; text-decoration: underline\">\"2025-03-10\"</span>\n",
       "<span style=\"color: #800000; text-decoration-color: #800000; background-color: #c0c0c0; font-weight: bold; text-decoration: underline\">PAUSE</span>\n",
       "\n",
       "</pre>\n"
      ],
      "text/plain": [
       "\u001b[1;4;5;31;47mAI\u001b[0m\u001b[1;4;5;31;47m: THOUGHT: To understand the order volume and processing status, I need to first get the orders placed this month\u001b[0m\n",
       "\u001b[1;4;5;31;47m(\u001b[0m\u001b[1;4;5;31;47mMarch \u001b[0m\u001b[1;4;5;36;47m2025\u001b[0m\u001b[1;4;5;31;47m)\u001b[0m\u001b[1;4;5;31;47m and then get the count of orders by their processing status.\u001b[0m\n",
       "\u001b[1;4;5;31;47mACTION: get_orders_by_timeline: \u001b[0m\u001b[4;5;32;47m\"2025-03-01\"\u001b[0m\u001b[1;4;5;31;47m, \u001b[0m\u001b[4;5;32;47m\"2025-03-10\"\u001b[0m\n",
       "\u001b[1;4;5;31;47mPAUSE\u001b[0m\n",
       "\n"
      ]
     },
     "metadata": {},
     "output_type": "display_data"
    }
   ],
   "source": [
    "# Let's ask another question\n",
    "user_prompt1 = \"I want to see how many orders were placed this month and also want to get some idea of weather they are processed or not, so that i can allocate some more budget for developmet to fix the stuck orders\"\n",
    "#Since we already have the chat session running, we can directly ask the question\n",
    "_ = data_scientist(f\"QUESTION: {user_prompt1}\")"
   ]
  },
  {
   "cell_type": "code",
   "execution_count": 42,
   "metadata": {},
   "outputs": [
    {
     "name": "stdout",
     "output_type": "stream",
     "text": [
      "[['Headphones', 13], ['Laptop', 13], ['Smartphone', 11], ['Tablet', 19], ['Smartwatch', 16]]\n"
     ]
    },
    {
     "data": {
      "text/html": [
       "<pre style=\"white-space:pre;overflow-x:auto;line-height:normal;font-family:Menlo,'DejaVu Sans Mono',consolas,'Courier New',monospace\"><span style=\"color: #008080; text-decoration-color: #008080; font-weight: bold\">USER</span><span style=\"color: #008080; text-decoration-color: #008080\">: OBSERVATION: </span><span style=\"color: #008080; text-decoration-color: #008080; font-weight: bold\">[[</span><span style=\"color: #008000; text-decoration-color: #008000\">'Headphones'</span><span style=\"color: #008080; text-decoration-color: #008080\">, </span><span style=\"color: #008080; text-decoration-color: #008080; font-weight: bold\">13</span><span style=\"color: #008080; text-decoration-color: #008080; font-weight: bold\">]</span><span style=\"color: #008080; text-decoration-color: #008080\">, </span><span style=\"color: #008080; text-decoration-color: #008080; font-weight: bold\">[</span><span style=\"color: #008000; text-decoration-color: #008000\">'Laptop'</span><span style=\"color: #008080; text-decoration-color: #008080\">, </span><span style=\"color: #008080; text-decoration-color: #008080; font-weight: bold\">13</span><span style=\"color: #008080; text-decoration-color: #008080; font-weight: bold\">]</span><span style=\"color: #008080; text-decoration-color: #008080\">, </span><span style=\"color: #008080; text-decoration-color: #008080; font-weight: bold\">[</span><span style=\"color: #008000; text-decoration-color: #008000\">'Smartphone'</span><span style=\"color: #008080; text-decoration-color: #008080\">, </span><span style=\"color: #008080; text-decoration-color: #008080; font-weight: bold\">11</span><span style=\"color: #008080; text-decoration-color: #008080; font-weight: bold\">]</span><span style=\"color: #008080; text-decoration-color: #008080\">, </span><span style=\"color: #008080; text-decoration-color: #008080; font-weight: bold\">[</span><span style=\"color: #008000; text-decoration-color: #008000\">'Tablet'</span><span style=\"color: #008080; text-decoration-color: #008080\">, </span><span style=\"color: #008080; text-decoration-color: #008080; font-weight: bold\">19</span><span style=\"color: #008080; text-decoration-color: #008080; font-weight: bold\">]</span><span style=\"color: #008080; text-decoration-color: #008080\">, </span><span style=\"color: #008080; text-decoration-color: #008080; font-weight: bold\">[</span><span style=\"color: #008000; text-decoration-color: #008000\">'Smartwatch'</span><span style=\"color: #008080; text-decoration-color: #008080\">, </span><span style=\"color: #008080; text-decoration-color: #008080; font-weight: bold\">16</span><span style=\"color: #008080; text-decoration-color: #008080; font-weight: bold\">]]</span>\n",
       "</pre>\n"
      ],
      "text/plain": [
       "\u001b[1;36mUSER\u001b[0m\u001b[36m: OBSERVATION: \u001b[0m\u001b[1;36m[\u001b[0m\u001b[1;36m[\u001b[0m\u001b[32m'Headphones'\u001b[0m\u001b[36m, \u001b[0m\u001b[1;36m13\u001b[0m\u001b[1;36m]\u001b[0m\u001b[36m, \u001b[0m\u001b[1;36m[\u001b[0m\u001b[32m'Laptop'\u001b[0m\u001b[36m, \u001b[0m\u001b[1;36m13\u001b[0m\u001b[1;36m]\u001b[0m\u001b[36m, \u001b[0m\u001b[1;36m[\u001b[0m\u001b[32m'Smartphone'\u001b[0m\u001b[36m, \u001b[0m\u001b[1;36m11\u001b[0m\u001b[1;36m]\u001b[0m\u001b[36m, \u001b[0m\u001b[1;36m[\u001b[0m\u001b[32m'Tablet'\u001b[0m\u001b[36m, \u001b[0m\u001b[1;36m19\u001b[0m\u001b[1;36m]\u001b[0m\u001b[36m, \u001b[0m\u001b[1;36m[\u001b[0m\u001b[32m'Smartwatch'\u001b[0m\u001b[36m, \u001b[0m\u001b[1;36m16\u001b[0m\u001b[1;36m]\u001b[0m\u001b[1;36m]\u001b[0m\n"
      ]
     },
     "metadata": {},
     "output_type": "display_data"
    },
    {
     "data": {
      "text/html": [
       "<pre style=\"white-space:pre;overflow-x:auto;line-height:normal;font-family:Menlo,'DejaVu Sans Mono',consolas,'Courier New',monospace\"><span style=\"color: #800000; text-decoration-color: #800000; background-color: #c0c0c0; font-weight: bold; text-decoration: underline\">AI: THOUGHT: Now that I have the order details for this month, I need to get the count of orders by their </span>\n",
       "<span style=\"color: #800000; text-decoration-color: #800000; background-color: #c0c0c0; font-weight: bold; text-decoration: underline\">processing status to understand if there are any stuck orders.</span>\n",
       "<span style=\"color: #800000; text-decoration-color: #800000; background-color: #c0c0c0; font-weight: bold; text-decoration: underline\">ACTION: get_order_status_count: null</span>\n",
       "<span style=\"color: #800000; text-decoration-color: #800000; background-color: #c0c0c0; font-weight: bold; text-decoration: underline\">PAUSE</span>\n",
       "\n",
       "</pre>\n"
      ],
      "text/plain": [
       "\u001b[1;4;5;31;47mAI\u001b[0m\u001b[1;4;5;31;47m: THOUGHT: Now that I have the order details for this month, I need to get the count of orders by their \u001b[0m\n",
       "\u001b[1;4;5;31;47mprocessing status to understand if there are any stuck orders.\u001b[0m\n",
       "\u001b[1;4;5;31;47mACTION: get_order_status_count: null\u001b[0m\n",
       "\u001b[1;4;5;31;47mPAUSE\u001b[0m\n",
       "\n"
      ]
     },
     "metadata": {},
     "output_type": "display_data"
    }
   ],
   "source": [
    "orders = get_orders_by_timeline(\"2025-03-01\", \"2025-03-10\")\n",
    "print(orders)\n",
    "_ = data_scientist(f\"OBSERVATION: {orders}\")"
   ]
  },
  {
   "cell_type": "code",
   "execution_count": 43,
   "metadata": {},
   "outputs": [
    {
     "name": "stdout",
     "output_type": "stream",
     "text": [
      "{'Completed': 1032, 'Cancelled': 991, 'Pending': 977}\n"
     ]
    },
    {
     "data": {
      "text/html": [
       "<pre style=\"white-space:pre;overflow-x:auto;line-height:normal;font-family:Menlo,'DejaVu Sans Mono',consolas,'Courier New',monospace\"><span style=\"color: #008080; text-decoration-color: #008080; font-weight: bold\">USER</span><span style=\"color: #008080; text-decoration-color: #008080\">: OBSERVATION: </span><span style=\"color: #008080; text-decoration-color: #008080; font-weight: bold\">{</span><span style=\"color: #008000; text-decoration-color: #008000\">'Completed'</span><span style=\"color: #008080; text-decoration-color: #008080\">: </span><span style=\"color: #008080; text-decoration-color: #008080; font-weight: bold\">1032</span><span style=\"color: #008080; text-decoration-color: #008080\">, </span><span style=\"color: #008000; text-decoration-color: #008000\">'Cancelled'</span><span style=\"color: #008080; text-decoration-color: #008080\">: </span><span style=\"color: #008080; text-decoration-color: #008080; font-weight: bold\">991</span><span style=\"color: #008080; text-decoration-color: #008080\">, </span><span style=\"color: #008000; text-decoration-color: #008000\">'Pending'</span><span style=\"color: #008080; text-decoration-color: #008080\">: </span><span style=\"color: #008080; text-decoration-color: #008080; font-weight: bold\">977</span><span style=\"color: #008080; text-decoration-color: #008080; font-weight: bold\">}</span>\n",
       "</pre>\n"
      ],
      "text/plain": [
       "\u001b[1;36mUSER\u001b[0m\u001b[36m: OBSERVATION: \u001b[0m\u001b[1;36m{\u001b[0m\u001b[32m'Completed'\u001b[0m\u001b[36m: \u001b[0m\u001b[1;36m1032\u001b[0m\u001b[36m, \u001b[0m\u001b[32m'Cancelled'\u001b[0m\u001b[36m: \u001b[0m\u001b[1;36m991\u001b[0m\u001b[36m, \u001b[0m\u001b[32m'Pending'\u001b[0m\u001b[36m: \u001b[0m\u001b[1;36m977\u001b[0m\u001b[1;36m}\u001b[0m\n"
      ]
     },
     "metadata": {},
     "output_type": "display_data"
    },
    {
     "data": {
      "text/html": [
       "<pre style=\"white-space:pre;overflow-x:auto;line-height:normal;font-family:Menlo,'DejaVu Sans Mono',consolas,'Courier New',monospace\"><span style=\"color: #800000; text-decoration-color: #800000; background-color: #c0c0c0; font-weight: bold; text-decoration: underline\">AI: THOUGHT: I have the order details for this month and the overall order status counts. I can now provide a </span>\n",
       "<span style=\"color: #800000; text-decoration-color: #800000; background-color: #c0c0c0; font-weight: bold; text-decoration: underline\">summary.</span>\n",
       "<span style=\"color: #800000; text-decoration-color: #800000; background-color: #c0c0c0; font-weight: bold; text-decoration: underline\">ANSWER: This month (March 1st to March 10th), a total of </span><span style=\"color: #008080; text-decoration-color: #008080; background-color: #c0c0c0; font-weight: bold; text-decoration: underline\">72</span><span style=\"color: #800000; text-decoration-color: #800000; background-color: #c0c0c0; font-weight: bold; text-decoration: underline\"> orders were placed, with the following distribution: </span>\n",
       "<span style=\"color: #800000; text-decoration-color: #800000; background-color: #c0c0c0; font-weight: bold; text-decoration: underline\">Headphones (</span><span style=\"color: #008080; text-decoration-color: #008080; background-color: #c0c0c0; font-weight: bold; text-decoration: underline\">13</span><span style=\"color: #800000; text-decoration-color: #800000; background-color: #c0c0c0; font-weight: bold; text-decoration: underline\">), Laptop (</span><span style=\"color: #008080; text-decoration-color: #008080; background-color: #c0c0c0; font-weight: bold; text-decoration: underline\">13</span><span style=\"color: #800000; text-decoration-color: #800000; background-color: #c0c0c0; font-weight: bold; text-decoration: underline\">), Smartphone (</span><span style=\"color: #008080; text-decoration-color: #008080; background-color: #c0c0c0; font-weight: bold; text-decoration: underline\">11</span><span style=\"color: #800000; text-decoration-color: #800000; background-color: #c0c0c0; font-weight: bold; text-decoration: underline\">), Tablet (</span><span style=\"color: #008080; text-decoration-color: #008080; background-color: #c0c0c0; font-weight: bold; text-decoration: underline\">19</span><span style=\"color: #800000; text-decoration-color: #800000; background-color: #c0c0c0; font-weight: bold; text-decoration: underline\">), and Smartwatch (</span><span style=\"color: #008080; text-decoration-color: #008080; background-color: #c0c0c0; font-weight: bold; text-decoration: underline\">16</span><span style=\"color: #800000; text-decoration-color: #800000; background-color: #c0c0c0; font-weight: bold; text-decoration: underline\">). Looking at the overall order </span>\n",
       "<span style=\"color: #800000; text-decoration-color: #800000; background-color: #c0c0c0; font-weight: bold; text-decoration: underline\">status, there are </span><span style=\"color: #008080; text-decoration-color: #008080; background-color: #c0c0c0; font-weight: bold; text-decoration: underline\">1032</span><span style=\"color: #800000; text-decoration-color: #800000; background-color: #c0c0c0; font-weight: bold; text-decoration: underline\"> completed orders, </span><span style=\"color: #008080; text-decoration-color: #008080; background-color: #c0c0c0; font-weight: bold; text-decoration: underline\">991</span><span style=\"color: #800000; text-decoration-color: #800000; background-color: #c0c0c0; font-weight: bold; text-decoration: underline\"> cancelled orders, and </span><span style=\"color: #008080; text-decoration-color: #008080; background-color: #c0c0c0; font-weight: bold; text-decoration: underline\">977</span><span style=\"color: #800000; text-decoration-color: #800000; background-color: #c0c0c0; font-weight: bold; text-decoration: underline\"> pending orders. The high number of pending </span>\n",
       "<span style=\"color: #800000; text-decoration-color: #800000; background-color: #c0c0c0; font-weight: bold; text-decoration: underline\">orders might indicate potential bottlenecks in the order processing pipeline. It would be beneficial to investigate</span>\n",
       "<span style=\"color: #800000; text-decoration-color: #800000; background-color: #c0c0c0; font-weight: bold; text-decoration: underline\">the reasons for these pending orders and allocate budget for development to address any issues causing delays.</span>\n",
       "\n",
       "</pre>\n"
      ],
      "text/plain": [
       "\u001b[1;4;5;31;47mAI\u001b[0m\u001b[1;4;5;31;47m: THOUGHT: I have the order details for this month and the overall order status counts. I can now provide a \u001b[0m\n",
       "\u001b[1;4;5;31;47msummary.\u001b[0m\n",
       "\u001b[1;4;5;31;47mANSWER: This month \u001b[0m\u001b[1;4;5;31;47m(\u001b[0m\u001b[1;4;5;31;47mMarch 1st to March 10th\u001b[0m\u001b[1;4;5;31;47m)\u001b[0m\u001b[1;4;5;31;47m, a total of \u001b[0m\u001b[1;4;5;36;47m72\u001b[0m\u001b[1;4;5;31;47m orders were placed, with the following distribution: \u001b[0m\n",
       "\u001b[1;4;5;31;47mHeadphones \u001b[0m\u001b[1;4;5;31;47m(\u001b[0m\u001b[1;4;5;36;47m13\u001b[0m\u001b[1;4;5;31;47m)\u001b[0m\u001b[1;4;5;31;47m, Laptop \u001b[0m\u001b[1;4;5;31;47m(\u001b[0m\u001b[1;4;5;36;47m13\u001b[0m\u001b[1;4;5;31;47m)\u001b[0m\u001b[1;4;5;31;47m, Smartphone \u001b[0m\u001b[1;4;5;31;47m(\u001b[0m\u001b[1;4;5;36;47m11\u001b[0m\u001b[1;4;5;31;47m)\u001b[0m\u001b[1;4;5;31;47m, Tablet \u001b[0m\u001b[1;4;5;31;47m(\u001b[0m\u001b[1;4;5;36;47m19\u001b[0m\u001b[1;4;5;31;47m)\u001b[0m\u001b[1;4;5;31;47m, and Smartwatch \u001b[0m\u001b[1;4;5;31;47m(\u001b[0m\u001b[1;4;5;36;47m16\u001b[0m\u001b[1;4;5;31;47m)\u001b[0m\u001b[1;4;5;31;47m. Looking at the overall order \u001b[0m\n",
       "\u001b[1;4;5;31;47mstatus, there are \u001b[0m\u001b[1;4;5;36;47m1032\u001b[0m\u001b[1;4;5;31;47m completed orders, \u001b[0m\u001b[1;4;5;36;47m991\u001b[0m\u001b[1;4;5;31;47m cancelled orders, and \u001b[0m\u001b[1;4;5;36;47m977\u001b[0m\u001b[1;4;5;31;47m pending orders. The high number of pending \u001b[0m\n",
       "\u001b[1;4;5;31;47morders might indicate potential bottlenecks in the order processing pipeline. It would be beneficial to investigate\u001b[0m\n",
       "\u001b[1;4;5;31;47mthe reasons for these pending orders and allocate budget for development to address any issues causing delays.\u001b[0m\n",
       "\n"
      ]
     },
     "metadata": {},
     "output_type": "display_data"
    }
   ],
   "source": [
    "order_status = get_order_status_count()\n",
    "print(order_status)\n",
    "_ = data_scientist(f\"OBSERVATION: {order_status}\")"
   ]
  },
  {
   "cell_type": "code",
   "execution_count": 44,
   "metadata": {},
   "outputs": [
    {
     "data": {
      "text/html": [
       "<pre style=\"white-space:pre;overflow-x:auto;line-height:normal;font-family:Menlo,'DejaVu Sans Mono',consolas,'Courier New',monospace\"><span style=\"color: #008080; text-decoration-color: #008080; font-weight: bold\">USER</span><span style=\"color: #008080; text-decoration-color: #008080\">: QUESTION: Can you tell me the time in Helsinki?</span>\n",
       "</pre>\n"
      ],
      "text/plain": [
       "\u001b[1;36mUSER\u001b[0m\u001b[36m: QUESTION: Can you tell me the time in Helsinki?\u001b[0m\n"
      ]
     },
     "metadata": {},
     "output_type": "display_data"
    },
    {
     "data": {
      "text/html": [
       "<pre style=\"white-space:pre;overflow-x:auto;line-height:normal;font-family:Menlo,'DejaVu Sans Mono',consolas,'Courier New',monospace\"><span style=\"color: #800000; text-decoration-color: #800000; background-color: #c0c0c0; font-weight: bold; text-decoration: underline\">AI: THOUGHT: I do not have the ability to access real-time information such as the current time. Therefore, I </span>\n",
       "<span style=\"color: #800000; text-decoration-color: #800000; background-color: #c0c0c0; font-weight: bold; text-decoration: underline\">cannot provide the current time in Helsinki.</span>\n",
       "<span style=\"color: #800000; text-decoration-color: #800000; background-color: #c0c0c0; font-weight: bold; text-decoration: underline\">ANSWER: I am sorry, I do not have the ability to access real-time information such as the current time in Helsinki.</span>\n",
       "\n",
       "</pre>\n"
      ],
      "text/plain": [
       "\u001b[1;4;5;31;47mAI\u001b[0m\u001b[1;4;5;31;47m: THOUGHT: I do not have the ability to access real-time information such as the current time. Therefore, I \u001b[0m\n",
       "\u001b[1;4;5;31;47mcannot provide the current time in Helsinki.\u001b[0m\n",
       "\u001b[1;4;5;31;47mANSWER: I am sorry, I do not have the ability to access real-time information such as the current time in Helsinki.\u001b[0m\n",
       "\n"
      ]
     },
     "metadata": {},
     "output_type": "display_data"
    }
   ],
   "source": [
    "# Let's ask a out of the box question\n",
    "user_prompt2 = \"Can you tell me the time in Helsinki?\"\n",
    "_ = data_scientist(f\"QUESTION: {user_prompt2}\")"
   ]
  },
  {
   "cell_type": "code",
   "execution_count": 45,
   "metadata": {},
   "outputs": [
    {
     "data": {
      "text/html": [
       "<pre style=\"white-space:pre;overflow-x:auto;line-height:normal;font-family:Menlo,'DejaVu Sans Mono',consolas,'Courier New',monospace\"><span style=\"color: #008080; text-decoration-color: #008080; font-weight: bold\">USER</span><span style=\"color: #008080; text-decoration-color: #008080\">: QUESTION: My name is Venkat, I'm wondering should i go for a walk today?</span>\n",
       "</pre>\n"
      ],
      "text/plain": [
       "\u001b[1;36mUSER\u001b[0m\u001b[36m: QUESTION: My name is Venkat, I'm wondering should i go for a walk today?\u001b[0m\n"
      ]
     },
     "metadata": {},
     "output_type": "display_data"
    },
    {
     "data": {
      "text/html": [
       "<pre style=\"white-space:pre;overflow-x:auto;line-height:normal;font-family:Menlo,'DejaVu Sans Mono',consolas,'Courier New',monospace\"><span style=\"color: #800000; text-decoration-color: #800000; background-color: #c0c0c0; font-weight: bold; text-decoration: underline\">AI: THOUGHT: I do not have the ability to provide weather forecasts or personal recommendations. Therefore, I </span>\n",
       "<span style=\"color: #800000; text-decoration-color: #800000; background-color: #c0c0c0; font-weight: bold; text-decoration: underline\">cannot advise Venkat on whether or not to go for a walk today.</span>\n",
       "<span style=\"color: #800000; text-decoration-color: #800000; background-color: #c0c0c0; font-weight: bold; text-decoration: underline\">ANSWER: I am sorry, I do not have the ability to provide weather forecasts or personal recommendations. Therefore, </span>\n",
       "<span style=\"color: #800000; text-decoration-color: #800000; background-color: #c0c0c0; font-weight: bold; text-decoration: underline\">I cannot advise you on whether or not to go for a walk today.</span>\n",
       "\n",
       "</pre>\n"
      ],
      "text/plain": [
       "\u001b[1;4;5;31;47mAI\u001b[0m\u001b[1;4;5;31;47m: THOUGHT: I do not have the ability to provide weather forecasts or personal recommendations. Therefore, I \u001b[0m\n",
       "\u001b[1;4;5;31;47mcannot advise Venkat on whether or not to go for a walk today.\u001b[0m\n",
       "\u001b[1;4;5;31;47mANSWER: I am sorry, I do not have the ability to provide weather forecasts or personal recommendations. Therefore, \u001b[0m\n",
       "\u001b[1;4;5;31;47mI cannot advise you on whether or not to go for a walk today.\u001b[0m\n",
       "\n"
      ]
     },
     "metadata": {},
     "output_type": "display_data"
    }
   ],
   "source": [
    "# Let's ask one more out of the box question\n",
    "user_prompt3 = \"My name is Venkat, I'm wondering should i go for a walk today?\"\n",
    "_ = data_scientist(f\"QUESTION: {user_prompt3}\")"
   ]
  },
  {
   "cell_type": "code",
   "execution_count": null,
   "metadata": {},
   "outputs": [],
   "source": []
  }
 ],
 "metadata": {
  "kernelspec": {
   "display_name": ".venv",
   "language": "python",
   "name": "python3"
  },
  "language_info": {
   "codemirror_mode": {
    "name": "ipython",
    "version": 3
   },
   "file_extension": ".py",
   "mimetype": "text/x-python",
   "name": "python",
   "nbconvert_exporter": "python",
   "pygments_lexer": "ipython3",
   "version": "3.12.3"
  }
 },
 "nbformat": 4,
 "nbformat_minor": 2
}
